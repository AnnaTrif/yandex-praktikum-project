{
 "cells": [
  {
   "cell_type": "markdown",
   "metadata": {},
   "source": [
    "# Исследование продаж компьютерных игр  \n",
    "\n",
    "Вы работаете в интернет-магазине «Стримчик», который продаёт по всему миру компьютерные игры. Из открытых источников доступны исторические данные о продажах игр, оценки пользователей и экспертов, жанры и платформы (например, Xbox или PlayStation). Вам нужно выявить определяющие успешность игры закономерности. Это позволит сделать ставку на потенциально популярный продукт и спланировать рекламные кампании.\n",
    "\n",
    "Перед вами данные до 2016 года. Представим, что сейчас декабрь 2016 г., и вы планируете кампанию на 2017-й. Нужно отработать принцип работы с данными. Неважно, прогнозируете ли вы продажи на 2017 год по данным 2016-го или же 2027-й — по данным 2026 года.\n",
    "\n",
    "Необходимо проделать следующее:\n",
    "- подготовить данные к анализу, обработав пропуски и приведя данные в удобный для работы вид\n",
    "- определить актуальный период для анализа\n",
    "- оценить влияние платформ, жанров, оценок пользователей и возрастного рейтинга на успешность игры\n",
    "- оценить портрет пользователя отдельного региона"
   ]
  },
  {
   "cell_type": "code",
   "execution_count": 1,
   "metadata": {},
   "outputs": [],
   "source": [
    "# импорт библиотек\n",
    "import pandas as pd \n",
    "import matplotlib.pyplot as plt\n",
    "from scipy import stats as st"
   ]
  },
  {
   "cell_type": "markdown",
   "metadata": {},
   "source": [
    "### Работа с файлом"
   ]
  },
  {
   "cell_type": "code",
   "execution_count": 2,
   "metadata": {},
   "outputs": [],
   "source": [
    "df = pd.read_csv('/datasets/games.csv') # чтение файла "
   ]
  },
  {
   "cell_type": "code",
   "execution_count": 3,
   "metadata": {},
   "outputs": [
    {
     "data": {
      "text/html": [
       "<div>\n",
       "<style scoped>\n",
       "    .dataframe tbody tr th:only-of-type {\n",
       "        vertical-align: middle;\n",
       "    }\n",
       "\n",
       "    .dataframe tbody tr th {\n",
       "        vertical-align: top;\n",
       "    }\n",
       "\n",
       "    .dataframe thead th {\n",
       "        text-align: right;\n",
       "    }\n",
       "</style>\n",
       "<table border=\"1\" class=\"dataframe\">\n",
       "  <thead>\n",
       "    <tr style=\"text-align: right;\">\n",
       "      <th></th>\n",
       "      <th>Name</th>\n",
       "      <th>Platform</th>\n",
       "      <th>Year_of_Release</th>\n",
       "      <th>Genre</th>\n",
       "      <th>NA_sales</th>\n",
       "      <th>EU_sales</th>\n",
       "      <th>JP_sales</th>\n",
       "      <th>Other_sales</th>\n",
       "      <th>Critic_Score</th>\n",
       "      <th>User_Score</th>\n",
       "      <th>Rating</th>\n",
       "    </tr>\n",
       "  </thead>\n",
       "  <tbody>\n",
       "    <tr>\n",
       "      <th>0</th>\n",
       "      <td>Wii Sports</td>\n",
       "      <td>Wii</td>\n",
       "      <td>2006.0</td>\n",
       "      <td>Sports</td>\n",
       "      <td>41.36</td>\n",
       "      <td>28.96</td>\n",
       "      <td>3.77</td>\n",
       "      <td>8.45</td>\n",
       "      <td>76.0</td>\n",
       "      <td>8</td>\n",
       "      <td>E</td>\n",
       "    </tr>\n",
       "    <tr>\n",
       "      <th>1</th>\n",
       "      <td>Super Mario Bros.</td>\n",
       "      <td>NES</td>\n",
       "      <td>1985.0</td>\n",
       "      <td>Platform</td>\n",
       "      <td>29.08</td>\n",
       "      <td>3.58</td>\n",
       "      <td>6.81</td>\n",
       "      <td>0.77</td>\n",
       "      <td>NaN</td>\n",
       "      <td>NaN</td>\n",
       "      <td>NaN</td>\n",
       "    </tr>\n",
       "    <tr>\n",
       "      <th>2</th>\n",
       "      <td>Mario Kart Wii</td>\n",
       "      <td>Wii</td>\n",
       "      <td>2008.0</td>\n",
       "      <td>Racing</td>\n",
       "      <td>15.68</td>\n",
       "      <td>12.76</td>\n",
       "      <td>3.79</td>\n",
       "      <td>3.29</td>\n",
       "      <td>82.0</td>\n",
       "      <td>8.3</td>\n",
       "      <td>E</td>\n",
       "    </tr>\n",
       "    <tr>\n",
       "      <th>3</th>\n",
       "      <td>Wii Sports Resort</td>\n",
       "      <td>Wii</td>\n",
       "      <td>2009.0</td>\n",
       "      <td>Sports</td>\n",
       "      <td>15.61</td>\n",
       "      <td>10.93</td>\n",
       "      <td>3.28</td>\n",
       "      <td>2.95</td>\n",
       "      <td>80.0</td>\n",
       "      <td>8</td>\n",
       "      <td>E</td>\n",
       "    </tr>\n",
       "    <tr>\n",
       "      <th>4</th>\n",
       "      <td>Pokemon Red/Pokemon Blue</td>\n",
       "      <td>GB</td>\n",
       "      <td>1996.0</td>\n",
       "      <td>Role-Playing</td>\n",
       "      <td>11.27</td>\n",
       "      <td>8.89</td>\n",
       "      <td>10.22</td>\n",
       "      <td>1.00</td>\n",
       "      <td>NaN</td>\n",
       "      <td>NaN</td>\n",
       "      <td>NaN</td>\n",
       "    </tr>\n",
       "  </tbody>\n",
       "</table>\n",
       "</div>"
      ],
      "text/plain": [
       "                       Name Platform  Year_of_Release         Genre  NA_sales  \\\n",
       "0                Wii Sports      Wii           2006.0        Sports     41.36   \n",
       "1         Super Mario Bros.      NES           1985.0      Platform     29.08   \n",
       "2            Mario Kart Wii      Wii           2008.0        Racing     15.68   \n",
       "3         Wii Sports Resort      Wii           2009.0        Sports     15.61   \n",
       "4  Pokemon Red/Pokemon Blue       GB           1996.0  Role-Playing     11.27   \n",
       "\n",
       "   EU_sales  JP_sales  Other_sales  Critic_Score User_Score Rating  \n",
       "0     28.96      3.77         8.45          76.0          8      E  \n",
       "1      3.58      6.81         0.77           NaN        NaN    NaN  \n",
       "2     12.76      3.79         3.29          82.0        8.3      E  \n",
       "3     10.93      3.28         2.95          80.0          8      E  \n",
       "4      8.89     10.22         1.00           NaN        NaN    NaN  "
      ]
     },
     "execution_count": 3,
     "metadata": {},
     "output_type": "execute_result"
    }
   ],
   "source": [
    "df.head() # просмотр первых 5 строчек датафрейма"
   ]
  },
  {
   "cell_type": "markdown",
   "metadata": {},
   "source": [
    "**Значение столбцов:**\n",
    "- `Name` — название игры\n",
    "- `Platform` — платформа\n",
    "- `Year_of_Release` — год выпуска\n",
    "- `Genre` — жанр игры\n",
    "- `NA_sales` — продажи в Северной Америке (миллионы проданных копий)\n",
    "- `EU_sales` — продажи в Европе (миллионы проданных копий)\n",
    "- `JP_sales` — продажи в Японии (миллионы проданных копий)\n",
    "- `Other_sales` — продажи в других странах (миллионы проданных копий)\n",
    "- `Critic_Score` — оценка критиков (максимум 100)\n",
    "- `User_Score` — оценка пользователей (максимум 10)\n",
    "- `Rating` — рейтинг от организации ESRB (англ. Entertainment Software Rating Board). Эта ассоциация определяет рейтинг компьютерных игр и присваивает им подходящую возрастную категорию."
   ]
  },
  {
   "cell_type": "code",
   "execution_count": 4,
   "metadata": {},
   "outputs": [
    {
     "name": "stdout",
     "output_type": "stream",
     "text": [
      "<class 'pandas.core.frame.DataFrame'>\n",
      "RangeIndex: 16715 entries, 0 to 16714\n",
      "Data columns (total 11 columns):\n",
      " #   Column           Non-Null Count  Dtype  \n",
      "---  ------           --------------  -----  \n",
      " 0   Name             16713 non-null  object \n",
      " 1   Platform         16715 non-null  object \n",
      " 2   Year_of_Release  16446 non-null  float64\n",
      " 3   Genre            16713 non-null  object \n",
      " 4   NA_sales         16715 non-null  float64\n",
      " 5   EU_sales         16715 non-null  float64\n",
      " 6   JP_sales         16715 non-null  float64\n",
      " 7   Other_sales      16715 non-null  float64\n",
      " 8   Critic_Score     8137 non-null   float64\n",
      " 9   User_Score       10014 non-null  object \n",
      " 10  Rating           9949 non-null   object \n",
      "dtypes: float64(6), object(5)\n",
      "memory usage: 1.4+ MB\n"
     ]
    }
   ],
   "source": [
    "df.info() # вывод основной информации датафрейма"
   ]
  },
  {
   "cell_type": "markdown",
   "metadata": {},
   "source": [
    "### Подготовка данных"
   ]
  },
  {
   "cell_type": "markdown",
   "metadata": {},
   "source": [
    "#### Замена названия столбцов"
   ]
  },
  {
   "cell_type": "code",
   "execution_count": 5,
   "metadata": {},
   "outputs": [],
   "source": [
    "df.columns = df.columns.str.lower() # приведение названий столбцов к нижнему регистру"
   ]
  },
  {
   "cell_type": "code",
   "execution_count": 6,
   "metadata": {},
   "outputs": [],
   "source": [
    "# приведение категориальных столбцов к нижнему регистру\n",
    "\n",
    "df['platform'] = df['platform'].str.lower()\n",
    "df['genre'] = df['genre'].str.lower()"
   ]
  },
  {
   "cell_type": "markdown",
   "metadata": {},
   "source": [
    "#### Обработка пропусков"
   ]
  },
  {
   "cell_type": "code",
   "execution_count": 7,
   "metadata": {},
   "outputs": [
    {
     "data": {
      "text/plain": [
       "name               0.000120\n",
       "platform           0.000000\n",
       "year_of_release    0.016093\n",
       "genre              0.000120\n",
       "na_sales           0.000000\n",
       "eu_sales           0.000000\n",
       "jp_sales           0.000000\n",
       "other_sales        0.000000\n",
       "critic_score       0.513192\n",
       "user_score         0.400897\n",
       "rating             0.404786\n",
       "dtype: float64"
      ]
     },
     "execution_count": 7,
     "metadata": {},
     "output_type": "execute_result"
    }
   ],
   "source": [
    "# вывод информации о доли пропусков в столбцах\n",
    "df.isna().mean()"
   ]
  },
  {
   "cell_type": "markdown",
   "metadata": {},
   "source": [
    "В столбцах `name`, `genre` и `year_of_release` допустимо удалить строки с пропусками, потому что их доля мала. Причиной пропусков могла быть невнимательность при вводе данных. "
   ]
  },
  {
   "cell_type": "code",
   "execution_count": 8,
   "metadata": {},
   "outputs": [],
   "source": [
    "# удаление строк с пропусками\n",
    "df = df.dropna(subset = ['name', 'genre', 'year_of_release'])"
   ]
  },
  {
   "cell_type": "code",
   "execution_count": 9,
   "metadata": {
    "scrolled": false
   },
   "outputs": [
    {
     "name": "stdout",
     "output_type": "stream",
     "text": [
      "<class 'pandas.core.frame.DataFrame'>\n",
      "Int64Index: 16444 entries, 0 to 16714\n",
      "Data columns (total 11 columns):\n",
      " #   Column           Non-Null Count  Dtype  \n",
      "---  ------           --------------  -----  \n",
      " 0   name             16444 non-null  object \n",
      " 1   platform         16444 non-null  object \n",
      " 2   year_of_release  16444 non-null  float64\n",
      " 3   genre            16444 non-null  object \n",
      " 4   na_sales         16444 non-null  float64\n",
      " 5   eu_sales         16444 non-null  float64\n",
      " 6   jp_sales         16444 non-null  float64\n",
      " 7   other_sales      16444 non-null  float64\n",
      " 8   critic_score     7983 non-null   float64\n",
      " 9   user_score       9839 non-null   object \n",
      " 10  rating           9768 non-null   object \n",
      "dtypes: float64(6), object(5)\n",
      "memory usage: 1.5+ MB\n"
     ]
    },
    {
     "data": {
      "text/plain": [
       "name               0.000000\n",
       "platform           0.000000\n",
       "year_of_release    0.000000\n",
       "genre              0.000000\n",
       "na_sales           0.000000\n",
       "eu_sales           0.000000\n",
       "jp_sales           0.000000\n",
       "other_sales        0.000000\n",
       "critic_score       0.514534\n",
       "user_score         0.401666\n",
       "rating             0.405984\n",
       "dtype: float64"
      ]
     },
     "execution_count": 9,
     "metadata": {},
     "output_type": "execute_result"
    }
   ],
   "source": [
    "# проверка результата \n",
    "df.info()\n",
    "df.isna().mean()"
   ]
  },
  {
   "cell_type": "code",
   "execution_count": 10,
   "metadata": {},
   "outputs": [
    {
     "data": {
      "text/plain": [
       "0"
      ]
     },
     "execution_count": 10,
     "metadata": {},
     "output_type": "execute_result"
    }
   ],
   "source": [
    "df.duplicated().sum() # поиск дубликатов"
   ]
  },
  {
   "cell_type": "code",
   "execution_count": 11,
   "metadata": {},
   "outputs": [
    {
     "data": {
      "text/plain": [
       "tbd    2376\n",
       "7.8     322\n",
       "8       285\n",
       "8.2     276\n",
       "8.3     252\n",
       "       ... \n",
       "0.5       2\n",
       "1.3       2\n",
       "1.5       2\n",
       "9.7       1\n",
       "0         1\n",
       "Name: user_score, Length: 96, dtype: int64"
      ]
     },
     "execution_count": 11,
     "metadata": {},
     "output_type": "execute_result"
    }
   ],
   "source": [
    "# просмотр данных столбца user_score\n",
    "df['user_score'].value_counts()"
   ]
  },
  {
   "cell_type": "markdown",
   "metadata": {},
   "source": [
    "Столбец `user_score` содержит в данных аббревиатуру `tbd`, что предположительно означает  `To Be Determined`, то есть \"Будет определено\". Можно предположить, что данное значение имеет новая игра, которая еще не получила оценку пользователей. Следовательно, можно заменить данное значение на NaN, потому что на момент обработки данных оценки не было."
   ]
  },
  {
   "cell_type": "code",
   "execution_count": 12,
   "metadata": {},
   "outputs": [],
   "source": [
    "df['user_score'] = df['user_score'].replace('tbd', 'NaN')"
   ]
  },
  {
   "cell_type": "markdown",
   "metadata": {},
   "source": [
    "Причинами пропусков в столбцах `critic_score`, `user_score` и `rating` может быть невыставленная оценка или её отсутствие вовсе. Пропуски будут оставлены без изменений."
   ]
  },
  {
   "cell_type": "markdown",
   "metadata": {},
   "source": [
    "#### Преобразование данных в нужный тип"
   ]
  },
  {
   "cell_type": "markdown",
   "metadata": {},
   "source": [
    "Тип данных в столбце `year_of_release` заменим на тип данных `int`, потому что столбец содержит целые числа. "
   ]
  },
  {
   "cell_type": "code",
   "execution_count": 13,
   "metadata": {},
   "outputs": [],
   "source": [
    "df['year_of_release'] = df['year_of_release'].astype('int')\n",
    "df['critic_score'] = df['critic_score'].astype('float')\n",
    "df['user_score'] = df['user_score'].astype('float')"
   ]
  },
  {
   "cell_type": "code",
   "execution_count": 14,
   "metadata": {
    "scrolled": false
   },
   "outputs": [
    {
     "name": "stdout",
     "output_type": "stream",
     "text": [
      "<class 'pandas.core.frame.DataFrame'>\n",
      "Int64Index: 16444 entries, 0 to 16714\n",
      "Data columns (total 11 columns):\n",
      " #   Column           Non-Null Count  Dtype  \n",
      "---  ------           --------------  -----  \n",
      " 0   name             16444 non-null  object \n",
      " 1   platform         16444 non-null  object \n",
      " 2   year_of_release  16444 non-null  int64  \n",
      " 3   genre            16444 non-null  object \n",
      " 4   na_sales         16444 non-null  float64\n",
      " 5   eu_sales         16444 non-null  float64\n",
      " 6   jp_sales         16444 non-null  float64\n",
      " 7   other_sales      16444 non-null  float64\n",
      " 8   critic_score     7983 non-null   float64\n",
      " 9   user_score       7463 non-null   float64\n",
      " 10  rating           9768 non-null   object \n",
      "dtypes: float64(6), int64(1), object(4)\n",
      "memory usage: 1.5+ MB\n"
     ]
    }
   ],
   "source": [
    "df.info()"
   ]
  },
  {
   "cell_type": "markdown",
   "metadata": {},
   "source": [
    "#### Суммарные продажи по всех регионах"
   ]
  },
  {
   "cell_type": "code",
   "execution_count": 15,
   "metadata": {},
   "outputs": [],
   "source": [
    "# запись результата сложения столбцов с продажами в отдельный столбец\n",
    "\n",
    "df['general_sales'] = df['na_sales'] + df['eu_sales'] + df['jp_sales'] + df['other_sales']"
   ]
  },
  {
   "cell_type": "code",
   "execution_count": 16,
   "metadata": {
    "scrolled": false
   },
   "outputs": [
    {
     "data": {
      "text/html": [
       "<div>\n",
       "<style scoped>\n",
       "    .dataframe tbody tr th:only-of-type {\n",
       "        vertical-align: middle;\n",
       "    }\n",
       "\n",
       "    .dataframe tbody tr th {\n",
       "        vertical-align: top;\n",
       "    }\n",
       "\n",
       "    .dataframe thead th {\n",
       "        text-align: right;\n",
       "    }\n",
       "</style>\n",
       "<table border=\"1\" class=\"dataframe\">\n",
       "  <thead>\n",
       "    <tr style=\"text-align: right;\">\n",
       "      <th></th>\n",
       "      <th>name</th>\n",
       "      <th>platform</th>\n",
       "      <th>year_of_release</th>\n",
       "      <th>genre</th>\n",
       "      <th>na_sales</th>\n",
       "      <th>eu_sales</th>\n",
       "      <th>jp_sales</th>\n",
       "      <th>other_sales</th>\n",
       "      <th>critic_score</th>\n",
       "      <th>user_score</th>\n",
       "      <th>rating</th>\n",
       "      <th>general_sales</th>\n",
       "    </tr>\n",
       "  </thead>\n",
       "  <tbody>\n",
       "    <tr>\n",
       "      <th>0</th>\n",
       "      <td>Wii Sports</td>\n",
       "      <td>wii</td>\n",
       "      <td>2006</td>\n",
       "      <td>sports</td>\n",
       "      <td>41.36</td>\n",
       "      <td>28.96</td>\n",
       "      <td>3.77</td>\n",
       "      <td>8.45</td>\n",
       "      <td>76.0</td>\n",
       "      <td>8.0</td>\n",
       "      <td>E</td>\n",
       "      <td>82.54</td>\n",
       "    </tr>\n",
       "    <tr>\n",
       "      <th>1</th>\n",
       "      <td>Super Mario Bros.</td>\n",
       "      <td>nes</td>\n",
       "      <td>1985</td>\n",
       "      <td>platform</td>\n",
       "      <td>29.08</td>\n",
       "      <td>3.58</td>\n",
       "      <td>6.81</td>\n",
       "      <td>0.77</td>\n",
       "      <td>NaN</td>\n",
       "      <td>NaN</td>\n",
       "      <td>NaN</td>\n",
       "      <td>40.24</td>\n",
       "    </tr>\n",
       "    <tr>\n",
       "      <th>2</th>\n",
       "      <td>Mario Kart Wii</td>\n",
       "      <td>wii</td>\n",
       "      <td>2008</td>\n",
       "      <td>racing</td>\n",
       "      <td>15.68</td>\n",
       "      <td>12.76</td>\n",
       "      <td>3.79</td>\n",
       "      <td>3.29</td>\n",
       "      <td>82.0</td>\n",
       "      <td>8.3</td>\n",
       "      <td>E</td>\n",
       "      <td>35.52</td>\n",
       "    </tr>\n",
       "    <tr>\n",
       "      <th>3</th>\n",
       "      <td>Wii Sports Resort</td>\n",
       "      <td>wii</td>\n",
       "      <td>2009</td>\n",
       "      <td>sports</td>\n",
       "      <td>15.61</td>\n",
       "      <td>10.93</td>\n",
       "      <td>3.28</td>\n",
       "      <td>2.95</td>\n",
       "      <td>80.0</td>\n",
       "      <td>8.0</td>\n",
       "      <td>E</td>\n",
       "      <td>32.77</td>\n",
       "    </tr>\n",
       "    <tr>\n",
       "      <th>4</th>\n",
       "      <td>Pokemon Red/Pokemon Blue</td>\n",
       "      <td>gb</td>\n",
       "      <td>1996</td>\n",
       "      <td>role-playing</td>\n",
       "      <td>11.27</td>\n",
       "      <td>8.89</td>\n",
       "      <td>10.22</td>\n",
       "      <td>1.00</td>\n",
       "      <td>NaN</td>\n",
       "      <td>NaN</td>\n",
       "      <td>NaN</td>\n",
       "      <td>31.38</td>\n",
       "    </tr>\n",
       "  </tbody>\n",
       "</table>\n",
       "</div>"
      ],
      "text/plain": [
       "                       name platform  year_of_release         genre  na_sales  \\\n",
       "0                Wii Sports      wii             2006        sports     41.36   \n",
       "1         Super Mario Bros.      nes             1985      platform     29.08   \n",
       "2            Mario Kart Wii      wii             2008        racing     15.68   \n",
       "3         Wii Sports Resort      wii             2009        sports     15.61   \n",
       "4  Pokemon Red/Pokemon Blue       gb             1996  role-playing     11.27   \n",
       "\n",
       "   eu_sales  jp_sales  other_sales  critic_score  user_score rating  \\\n",
       "0     28.96      3.77         8.45          76.0         8.0      E   \n",
       "1      3.58      6.81         0.77           NaN         NaN    NaN   \n",
       "2     12.76      3.79         3.29          82.0         8.3      E   \n",
       "3     10.93      3.28         2.95          80.0         8.0      E   \n",
       "4      8.89     10.22         1.00           NaN         NaN    NaN   \n",
       "\n",
       "   general_sales  \n",
       "0          82.54  \n",
       "1          40.24  \n",
       "2          35.52  \n",
       "3          32.77  \n",
       "4          31.38  "
      ]
     },
     "execution_count": 16,
     "metadata": {},
     "output_type": "execute_result"
    }
   ],
   "source": [
    "# просмотр результата\n",
    "df.head()"
   ]
  },
  {
   "cell_type": "code",
   "execution_count": 17,
   "metadata": {
    "scrolled": true
   },
   "outputs": [
    {
     "name": "stdout",
     "output_type": "stream",
     "text": [
      "<class 'pandas.core.frame.DataFrame'>\n",
      "Int64Index: 16444 entries, 0 to 16714\n",
      "Data columns (total 12 columns):\n",
      " #   Column           Non-Null Count  Dtype  \n",
      "---  ------           --------------  -----  \n",
      " 0   name             16444 non-null  object \n",
      " 1   platform         16444 non-null  object \n",
      " 2   year_of_release  16444 non-null  int64  \n",
      " 3   genre            16444 non-null  object \n",
      " 4   na_sales         16444 non-null  float64\n",
      " 5   eu_sales         16444 non-null  float64\n",
      " 6   jp_sales         16444 non-null  float64\n",
      " 7   other_sales      16444 non-null  float64\n",
      " 8   critic_score     7983 non-null   float64\n",
      " 9   user_score       7463 non-null   float64\n",
      " 10  rating           9768 non-null   object \n",
      " 11  general_sales    16444 non-null  float64\n",
      "dtypes: float64(7), int64(1), object(4)\n",
      "memory usage: 1.6+ MB\n"
     ]
    }
   ],
   "source": [
    "# check\n",
    "df.info()"
   ]
  },
  {
   "cell_type": "markdown",
   "metadata": {},
   "source": [
    "Можно предположить, что пропуски в столбце `rating` случайны и заменить их на категорию \"неизвестный рейтинг\"."
   ]
  },
  {
   "cell_type": "code",
   "execution_count": 18,
   "metadata": {},
   "outputs": [],
   "source": [
    "df['rating'] = df['rating'].fillna(value='unknown')"
   ]
  },
  {
   "cell_type": "markdown",
   "metadata": {},
   "source": [
    "Рейтинг `K-A` с 1998 года заменён на рейтинг `E`, переименуем."
   ]
  },
  {
   "cell_type": "code",
   "execution_count": 19,
   "metadata": {},
   "outputs": [],
   "source": [
    "#df['rating'] = df['rating'].replace('K-A', 'E') # переименование категории"
   ]
  },
  {
   "cell_type": "code",
   "execution_count": 20,
   "metadata": {},
   "outputs": [],
   "source": [
    "# собственная функция для категоризации \n",
    "def rating(category):\n",
    "    row = ['EC','RP','AO','K-A']\n",
    "    if category in row:\n",
    "        return 'other'\n",
    "    return category\n",
    "\n",
    "# создание нового столбца с вызовом собственной функции\n",
    "df['rating_category'] = (df['rating'].apply(rating))"
   ]
  },
  {
   "cell_type": "code",
   "execution_count": 21,
   "metadata": {},
   "outputs": [
    {
     "data": {
      "text/plain": [
       "unknown    6676\n",
       "E          3921\n",
       "T          2905\n",
       "M          1536\n",
       "E10+       1393\n",
       "other        13\n",
       "Name: rating_category, dtype: int64"
      ]
     },
     "execution_count": 21,
     "metadata": {},
     "output_type": "execute_result"
    }
   ],
   "source": [
    "df['rating_category'].value_counts()"
   ]
  },
  {
   "cell_type": "markdown",
   "metadata": {},
   "source": [
    "### Исследовательский анализ данных"
   ]
  },
  {
   "cell_type": "markdown",
   "metadata": {},
   "source": [
    "#### Оценка выпуска игр в разные годы"
   ]
  },
  {
   "cell_type": "code",
   "execution_count": 22,
   "metadata": {},
   "outputs": [
    {
     "data": {
      "text/plain": [
       "Text(0.5, 0, 'Годы релизов')"
      ]
     },
     "execution_count": 22,
     "metadata": {},
     "output_type": "execute_result"
    },
    {
     "data": {
      "image/png": "[encoded data removed]",
      "text/plain": [
       "<Figure size 720x504 with 1 Axes>"
      ]
     },
     "metadata": {
      "needs_background": "light"
     },
     "output_type": "display_data"
    }
   ],
   "source": [
    "(\n",
    "    df.pivot_table(index = 'year_of_release', values = 'name',  aggfunc = 'count')\n",
    "    .plot(kind = 'bar', grid = True, figsize = (10,7))\n",
    ")\n",
    "plt.title('Выпуск игр в разные годы', fontsize=15)\n",
    "plt.ylabel('Количество выпущенных игр', fontsize=10)\n",
    "plt.xlabel('Годы релизов', fontsize=10)"
   ]
  },
  {
   "cell_type": "markdown",
   "metadata": {},
   "source": [
    "Значительные показатели наблюдаются в период с 2002 по 2011 год. В этот период заметен пик выпуска игр. "
   ]
  },
  {
   "cell_type": "markdown",
   "metadata": {},
   "source": [
    "#### Анализ продаж по платформам"
   ]
  },
  {
   "cell_type": "code",
   "execution_count": 23,
   "metadata": {},
   "outputs": [
    {
     "data": {
      "text/plain": [
       "Text(0.5, 0, 'Платформа')"
      ]
     },
     "execution_count": 23,
     "metadata": {},
     "output_type": "execute_result"
    },
    {
     "data": {
      "image/png": "[encoded data removed]",
      "text/plain": [
       "<Figure size 720x504 with 1 Axes>"
      ]
     },
     "metadata": {
      "needs_background": "light"
     },
     "output_type": "display_data"
    }
   ],
   "source": [
    "(\n",
    "    df.groupby(['platform']).agg({'general_sales':'sum'})\n",
    "    .sort_values(by = 'general_sales', ascending=False)\n",
    "    .plot(kind = 'bar', grid = True, figsize = (10,7))\n",
    ")\n",
    "plt.title('Глобальные продажи на платформах', fontsize=15)\n",
    "plt.ylabel('Количество проданных игр', fontsize=10)\n",
    "plt.xlabel('Платформа', fontsize=10)"
   ]
  },
  {
   "cell_type": "markdown",
   "metadata": {},
   "source": [
    "Лидерами в продажах являются платформы: `PS2`,`X360`,`PS3`,`Wii`,`DS`,`PS`."
   ]
  },
  {
   "cell_type": "code",
   "execution_count": 24,
   "metadata": {
    "scrolled": false
   },
   "outputs": [
    {
     "data": {
      "text/plain": [
       "Text(0.5, 0, 'Год')"
      ]
     },
     "execution_count": 24,
     "metadata": {},
     "output_type": "execute_result"
    },
    {
     "data": {
      "image/png": "[encoded data removed]",
      "text/plain": [
       "<Figure size 720x504 with 1 Axes>"
      ]
     },
     "metadata": {
      "needs_background": "light"
     },
     "output_type": "display_data"
    }
   ],
   "source": [
    "top_platform = ['ps2','x360','ps3','wii','ds','ps']\n",
    "(\n",
    "    df.query('(platform == @top_platform) and (1990 < year_of_release < 2016)')\n",
    "    .pivot_table(index = 'year_of_release',  columns = 'platform', values = 'general_sales', aggfunc = 'sum')\n",
    "    .plot(grid = True, figsize = (10,7))\n",
    ")\n",
    "plt.title('Глобальные продажи на лидирующих платформах', fontsize=15)\n",
    "plt.ylabel('Количество проданных игр', fontsize=10)\n",
    "plt.xlabel('Год', fontsize=10)\n",
    "#.groupby(['platform', 'year_of_release']).agg({'general_sales':'sum'})"
   ]
  },
  {
   "cell_type": "markdown",
   "metadata": {},
   "source": [
    "#### Актуальный период"
   ]
  },
  {
   "cell_type": "markdown",
   "metadata": {},
   "source": [
    "Актуальный период для анализа с 2013 по 2016 год."
   ]
  },
  {
   "cell_type": "code",
   "execution_count": 25,
   "metadata": {
    "scrolled": false
   },
   "outputs": [
    {
     "data": {
      "text/html": [
       "<div>\n",
       "<style scoped>\n",
       "    .dataframe tbody tr th:only-of-type {\n",
       "        vertical-align: middle;\n",
       "    }\n",
       "\n",
       "    .dataframe tbody tr th {\n",
       "        vertical-align: top;\n",
       "    }\n",
       "\n",
       "    .dataframe thead th {\n",
       "        text-align: right;\n",
       "    }\n",
       "</style>\n",
       "<table border=\"1\" class=\"dataframe\">\n",
       "  <thead>\n",
       "    <tr style=\"text-align: right;\">\n",
       "      <th></th>\n",
       "      <th>name</th>\n",
       "      <th>platform</th>\n",
       "      <th>year_of_release</th>\n",
       "      <th>genre</th>\n",
       "      <th>na_sales</th>\n",
       "      <th>eu_sales</th>\n",
       "      <th>jp_sales</th>\n",
       "      <th>other_sales</th>\n",
       "      <th>critic_score</th>\n",
       "      <th>user_score</th>\n",
       "      <th>rating</th>\n",
       "      <th>general_sales</th>\n",
       "      <th>rating_category</th>\n",
       "    </tr>\n",
       "  </thead>\n",
       "  <tbody>\n",
       "    <tr>\n",
       "      <th>16</th>\n",
       "      <td>Grand Theft Auto V</td>\n",
       "      <td>ps3</td>\n",
       "      <td>2013</td>\n",
       "      <td>action</td>\n",
       "      <td>7.02</td>\n",
       "      <td>9.09</td>\n",
       "      <td>0.98</td>\n",
       "      <td>3.96</td>\n",
       "      <td>97.0</td>\n",
       "      <td>8.2</td>\n",
       "      <td>M</td>\n",
       "      <td>21.05</td>\n",
       "      <td>M</td>\n",
       "    </tr>\n",
       "    <tr>\n",
       "      <th>23</th>\n",
       "      <td>Grand Theft Auto V</td>\n",
       "      <td>x360</td>\n",
       "      <td>2013</td>\n",
       "      <td>action</td>\n",
       "      <td>9.66</td>\n",
       "      <td>5.14</td>\n",
       "      <td>0.06</td>\n",
       "      <td>1.41</td>\n",
       "      <td>97.0</td>\n",
       "      <td>8.1</td>\n",
       "      <td>M</td>\n",
       "      <td>16.27</td>\n",
       "      <td>M</td>\n",
       "    </tr>\n",
       "    <tr>\n",
       "      <th>31</th>\n",
       "      <td>Call of Duty: Black Ops 3</td>\n",
       "      <td>ps4</td>\n",
       "      <td>2015</td>\n",
       "      <td>shooter</td>\n",
       "      <td>6.03</td>\n",
       "      <td>5.86</td>\n",
       "      <td>0.36</td>\n",
       "      <td>2.38</td>\n",
       "      <td>NaN</td>\n",
       "      <td>NaN</td>\n",
       "      <td>unknown</td>\n",
       "      <td>14.63</td>\n",
       "      <td>unknown</td>\n",
       "    </tr>\n",
       "    <tr>\n",
       "      <th>33</th>\n",
       "      <td>Pokemon X/Pokemon Y</td>\n",
       "      <td>3ds</td>\n",
       "      <td>2013</td>\n",
       "      <td>role-playing</td>\n",
       "      <td>5.28</td>\n",
       "      <td>4.19</td>\n",
       "      <td>4.35</td>\n",
       "      <td>0.78</td>\n",
       "      <td>NaN</td>\n",
       "      <td>NaN</td>\n",
       "      <td>unknown</td>\n",
       "      <td>14.60</td>\n",
       "      <td>unknown</td>\n",
       "    </tr>\n",
       "    <tr>\n",
       "      <th>42</th>\n",
       "      <td>Grand Theft Auto V</td>\n",
       "      <td>ps4</td>\n",
       "      <td>2014</td>\n",
       "      <td>action</td>\n",
       "      <td>3.96</td>\n",
       "      <td>6.31</td>\n",
       "      <td>0.38</td>\n",
       "      <td>1.97</td>\n",
       "      <td>97.0</td>\n",
       "      <td>8.3</td>\n",
       "      <td>M</td>\n",
       "      <td>12.62</td>\n",
       "      <td>M</td>\n",
       "    </tr>\n",
       "    <tr>\n",
       "      <th>...</th>\n",
       "      <td>...</td>\n",
       "      <td>...</td>\n",
       "      <td>...</td>\n",
       "      <td>...</td>\n",
       "      <td>...</td>\n",
       "      <td>...</td>\n",
       "      <td>...</td>\n",
       "      <td>...</td>\n",
       "      <td>...</td>\n",
       "      <td>...</td>\n",
       "      <td>...</td>\n",
       "      <td>...</td>\n",
       "      <td>...</td>\n",
       "    </tr>\n",
       "    <tr>\n",
       "      <th>16703</th>\n",
       "      <td>Strawberry Nauts</td>\n",
       "      <td>psv</td>\n",
       "      <td>2016</td>\n",
       "      <td>adventure</td>\n",
       "      <td>0.00</td>\n",
       "      <td>0.00</td>\n",
       "      <td>0.01</td>\n",
       "      <td>0.00</td>\n",
       "      <td>NaN</td>\n",
       "      <td>NaN</td>\n",
       "      <td>unknown</td>\n",
       "      <td>0.01</td>\n",
       "      <td>unknown</td>\n",
       "    </tr>\n",
       "    <tr>\n",
       "      <th>16707</th>\n",
       "      <td>Aiyoku no Eustia</td>\n",
       "      <td>psv</td>\n",
       "      <td>2014</td>\n",
       "      <td>misc</td>\n",
       "      <td>0.00</td>\n",
       "      <td>0.00</td>\n",
       "      <td>0.01</td>\n",
       "      <td>0.00</td>\n",
       "      <td>NaN</td>\n",
       "      <td>NaN</td>\n",
       "      <td>unknown</td>\n",
       "      <td>0.01</td>\n",
       "      <td>unknown</td>\n",
       "    </tr>\n",
       "    <tr>\n",
       "      <th>16710</th>\n",
       "      <td>Samurai Warriors: Sanada Maru</td>\n",
       "      <td>ps3</td>\n",
       "      <td>2016</td>\n",
       "      <td>action</td>\n",
       "      <td>0.00</td>\n",
       "      <td>0.00</td>\n",
       "      <td>0.01</td>\n",
       "      <td>0.00</td>\n",
       "      <td>NaN</td>\n",
       "      <td>NaN</td>\n",
       "      <td>unknown</td>\n",
       "      <td>0.01</td>\n",
       "      <td>unknown</td>\n",
       "    </tr>\n",
       "    <tr>\n",
       "      <th>16712</th>\n",
       "      <td>Haitaka no Psychedelica</td>\n",
       "      <td>psv</td>\n",
       "      <td>2016</td>\n",
       "      <td>adventure</td>\n",
       "      <td>0.00</td>\n",
       "      <td>0.00</td>\n",
       "      <td>0.01</td>\n",
       "      <td>0.00</td>\n",
       "      <td>NaN</td>\n",
       "      <td>NaN</td>\n",
       "      <td>unknown</td>\n",
       "      <td>0.01</td>\n",
       "      <td>unknown</td>\n",
       "    </tr>\n",
       "    <tr>\n",
       "      <th>16714</th>\n",
       "      <td>Winning Post 8 2016</td>\n",
       "      <td>psv</td>\n",
       "      <td>2016</td>\n",
       "      <td>simulation</td>\n",
       "      <td>0.00</td>\n",
       "      <td>0.00</td>\n",
       "      <td>0.01</td>\n",
       "      <td>0.00</td>\n",
       "      <td>NaN</td>\n",
       "      <td>NaN</td>\n",
       "      <td>unknown</td>\n",
       "      <td>0.01</td>\n",
       "      <td>unknown</td>\n",
       "    </tr>\n",
       "  </tbody>\n",
       "</table>\n",
       "<p>2233 rows × 13 columns</p>\n",
       "</div>"
      ],
      "text/plain": [
       "                                name platform  year_of_release         genre  \\\n",
       "16                Grand Theft Auto V      ps3             2013        action   \n",
       "23                Grand Theft Auto V     x360             2013        action   \n",
       "31         Call of Duty: Black Ops 3      ps4             2015       shooter   \n",
       "33               Pokemon X/Pokemon Y      3ds             2013  role-playing   \n",
       "42                Grand Theft Auto V      ps4             2014        action   \n",
       "...                              ...      ...              ...           ...   \n",
       "16703               Strawberry Nauts      psv             2016     adventure   \n",
       "16707               Aiyoku no Eustia      psv             2014          misc   \n",
       "16710  Samurai Warriors: Sanada Maru      ps3             2016        action   \n",
       "16712        Haitaka no Psychedelica      psv             2016     adventure   \n",
       "16714            Winning Post 8 2016      psv             2016    simulation   \n",
       "\n",
       "       na_sales  eu_sales  jp_sales  other_sales  critic_score  user_score  \\\n",
       "16         7.02      9.09      0.98         3.96          97.0         8.2   \n",
       "23         9.66      5.14      0.06         1.41          97.0         8.1   \n",
       "31         6.03      5.86      0.36         2.38           NaN         NaN   \n",
       "33         5.28      4.19      4.35         0.78           NaN         NaN   \n",
       "42         3.96      6.31      0.38         1.97          97.0         8.3   \n",
       "...         ...       ...       ...          ...           ...         ...   \n",
       "16703      0.00      0.00      0.01         0.00           NaN         NaN   \n",
       "16707      0.00      0.00      0.01         0.00           NaN         NaN   \n",
       "16710      0.00      0.00      0.01         0.00           NaN         NaN   \n",
       "16712      0.00      0.00      0.01         0.00           NaN         NaN   \n",
       "16714      0.00      0.00      0.01         0.00           NaN         NaN   \n",
       "\n",
       "        rating  general_sales rating_category  \n",
       "16           M          21.05               M  \n",
       "23           M          16.27               M  \n",
       "31     unknown          14.63         unknown  \n",
       "33     unknown          14.60         unknown  \n",
       "42           M          12.62               M  \n",
       "...        ...            ...             ...  \n",
       "16703  unknown           0.01         unknown  \n",
       "16707  unknown           0.01         unknown  \n",
       "16710  unknown           0.01         unknown  \n",
       "16712  unknown           0.01         unknown  \n",
       "16714  unknown           0.01         unknown  \n",
       "\n",
       "[2233 rows x 13 columns]"
      ]
     },
     "execution_count": 25,
     "metadata": {},
     "output_type": "execute_result"
    }
   ],
   "source": [
    "# срез данных за актуальный период\n",
    "current_period =  df.query('2013 <= year_of_release <= 2016')\n",
    "current_period"
   ]
  },
  {
   "cell_type": "markdown",
   "metadata": {},
   "source": [
    "#### Прибыльные платформы за актуальный период"
   ]
  },
  {
   "cell_type": "code",
   "execution_count": 26,
   "metadata": {
    "scrolled": false
   },
   "outputs": [
    {
     "data": {
      "text/plain": [
       "Text(0.5, 0, 'Платформа')"
      ]
     },
     "execution_count": 26,
     "metadata": {},
     "output_type": "execute_result"
    },
    {
     "data": {
      "image/png": "[encoded data removed]",
      "text/plain": [
       "<Figure size 720x504 with 1 Axes>"
      ]
     },
     "metadata": {
      "needs_background": "light"
     },
     "output_type": "display_data"
    }
   ],
   "source": [
    "(\n",
    "    current_period.groupby('platform').agg({'general_sales':'sum'})\n",
    "    .sort_values(by = 'general_sales', ascending=False)\n",
    "    .plot(kind = 'bar', grid = True, figsize = (10,7))\n",
    ")\n",
    "\n",
    "plt.title('Прибыльные платформы за актуальный период', fontsize=15)\n",
    "plt.ylabel('Количество проданных игр', fontsize=10)\n",
    "plt.xlabel('Платформа', fontsize=10)"
   ]
  },
  {
   "cell_type": "markdown",
   "metadata": {},
   "source": [
    "Потенциально прибыльные платформы: `PS4`,`PS3`,`XOne`,`3DS`,`X360`. Однако платформа `PS4` лидирует с большой разницей."
   ]
  },
  {
   "cell_type": "markdown",
   "metadata": {},
   "source": [
    "#### Анализ глобальных продаж игр в разбивке по платформам за актуальный период"
   ]
  },
  {
   "cell_type": "code",
   "execution_count": 27,
   "metadata": {},
   "outputs": [
    {
     "data": {
      "text/plain": [
       "Text(0.5, 0, 'Платформа')"
      ]
     },
     "execution_count": 27,
     "metadata": {},
     "output_type": "execute_result"
    },
    {
     "data": {
      "image/png": "[encoded data removed]",
      "text/plain": [
       "<Figure size 1080x720 with 1 Axes>"
      ]
     },
     "metadata": {
      "needs_background": "light"
     },
     "output_type": "display_data"
    },
    {
     "data": {
      "image/png": "[encoded data removed]",
      "text/plain": [
       "<Figure size 1080x720 with 1 Axes>"
      ]
     },
     "metadata": {
      "needs_background": "light"
     },
     "output_type": "display_data"
    }
   ],
   "source": [
    "(\n",
    "    current_period.boxplot(by = 'platform', column = 'general_sales', figsize = (15, 10))\n",
    ")\n",
    "plt.title('Глобальные продажи игр в разбивке по платформам за актуальный период', fontsize=15)\n",
    "plt.ylabel('Количество проданных игр', fontsize=10)\n",
    "plt.xlabel('Платформа', fontsize=10)\n",
    "(\n",
    "    current_period.query('(general_sales < 1.5)')\n",
    "    .boxplot(by = 'platform', column = 'general_sales', figsize = (15, 10))\n",
    ")\n",
    "plt.title('Глобальные продажи игр в разбивке по платформам за актуальный период', fontsize=15)\n",
    "plt.ylabel('Количество проданных игр', fontsize=10)\n",
    "plt.xlabel('Платформа', fontsize=10)"
   ]
  },
  {
   "cell_type": "markdown",
   "metadata": {},
   "source": [
    "Платформа `X360`является лидером глобальных продаж, затем следуют платформы `XOne`,`Wiiu`,`PS3` и `PS4`, а платформа `PSP` имеет самые маленькие продажи."
   ]
  },
  {
   "cell_type": "markdown",
   "metadata": {},
   "source": [
    "#### Влияние отзывов пользователей и критиков на продажи "
   ]
  },
  {
   "cell_type": "code",
   "execution_count": 28,
   "metadata": {},
   "outputs": [
    {
     "data": {
      "text/plain": [
       "<AxesSubplot:title={'center':'Отзывы пользователей'}, xlabel='user_score', ylabel='general_sales'>"
      ]
     },
     "execution_count": 28,
     "metadata": {},
     "output_type": "execute_result"
    },
    {
     "data": {
      "image/png": "[encoded data removed]",
      "text/plain": [
       "<Figure size 1440x504 with 2 Axes>"
      ]
     },
     "metadata": {
      "needs_background": "light"
     },
     "output_type": "display_data"
    }
   ],
   "source": [
    "fig, ax = plt.subplots(1,2, figsize = (20,7))\n",
    "fig.suptitle('Влияние отзывов на продажи платформы X360')\n",
    "\n",
    "ax_1 = (\n",
    "    current_period.query('(platform == \"x360\") and (general_sales < 6)')\n",
    ")\n",
    "ax_1.plot(title = 'Отзывы критиков', x = 'critic_score', y = 'general_sales', kind = 'scatter', ax = ax[0])\n",
    "\n",
    "ax_2 = (\n",
    "    current_period.query('platform == \"x360\" and (general_sales < 6)')\n",
    ")\n",
    "ax_2.plot(title = 'Отзывы пользователей', x = 'user_score', y = 'general_sales', kind = 'scatter',  ax = ax[1])\n"
   ]
  },
  {
   "cell_type": "code",
   "execution_count": 29,
   "metadata": {},
   "outputs": [
    {
     "data": {
      "text/plain": [
       "0.4778576592386055"
      ]
     },
     "metadata": {},
     "output_type": "display_data"
    },
    {
     "data": {
      "text/plain": [
       "-0.02793207534800613"
      ]
     },
     "execution_count": 29,
     "metadata": {},
     "output_type": "execute_result"
    }
   ],
   "source": [
    "x360_corr_critic = current_period.query('(platform == \"x360\") and (general_sales < 6)')\n",
    "\n",
    "display(x360_corr_critic['critic_score'].corr(x360_corr_critic['general_sales']))\n",
    "\n",
    "x360_corr_user = current_period.query('platform == \"x360\" and (general_sales < 6)')\n",
    "\n",
    "x360_corr_user['user_score'].corr(x360_corr_user['general_sales'])"
   ]
  },
  {
   "cell_type": "markdown",
   "metadata": {},
   "source": [
    "Корреляция между отзывами и продажами очень мала, можно сделать вывод: влияние отзывов на продажи незначительное.\n",
    "Аналогичная ситуация просматривается на остальных платформах."
   ]
  },
  {
   "cell_type": "code",
   "execution_count": 30,
   "metadata": {},
   "outputs": [
    {
     "data": {
      "text/plain": [
       "<AxesSubplot:title={'center':'Отзывы пользователей'}, xlabel='user_score', ylabel='general_sales'>"
      ]
     },
     "execution_count": 30,
     "metadata": {},
     "output_type": "execute_result"
    },
    {
     "data": {
      "image/png": "[encoded data removed]",
      "text/plain": [
       "<Figure size 1440x504 with 2 Axes>"
      ]
     },
     "metadata": {
      "needs_background": "light"
     },
     "output_type": "display_data"
    }
   ],
   "source": [
    "fig, ax = plt.subplots(1,2, figsize = (20,7))\n",
    "fig.suptitle('Влияние отзывов на продажи платформы XOne')\n",
    "\n",
    "ax_1 = (\n",
    "    current_period.query('(platform == \"xone\") and (general_sales < 6)')\n",
    ")\n",
    "ax_1.plot(title = 'Отзывы критиков', x = 'critic_score', y = 'general_sales', kind = 'scatter', ax = ax[0])\n",
    "\n",
    "ax_2 = (\n",
    "    current_period.query('platform == \"xone\" and (general_sales < 6)')\n",
    ")\n",
    "ax_2.plot(title = 'Отзывы пользователей', x = 'user_score', y = 'general_sales', kind = 'scatter',  ax = ax[1])\n"
   ]
  },
  {
   "cell_type": "code",
   "execution_count": 31,
   "metadata": {},
   "outputs": [
    {
     "data": {
      "text/plain": [
       "0.4169983280084017"
      ]
     },
     "metadata": {},
     "output_type": "display_data"
    },
    {
     "data": {
      "text/plain": [
       "-0.06892505328279414"
      ]
     },
     "execution_count": 31,
     "metadata": {},
     "output_type": "execute_result"
    }
   ],
   "source": [
    "xone_corr_critic = current_period.query('(platform == \"xone\") and (general_sales < 6)')\n",
    "\n",
    "display(xone_corr_critic['critic_score'].corr(xone_corr_critic['general_sales']))\n",
    "\n",
    "xone_corr_user = current_period.query('platform == \"xone\" and (general_sales < 6)')\n",
    "\n",
    "xone_corr_user['user_score'].corr(xone_corr_user['general_sales'])"
   ]
  },
  {
   "cell_type": "code",
   "execution_count": 32,
   "metadata": {},
   "outputs": [
    {
     "data": {
      "text/plain": [
       "<AxesSubplot:title={'center':'Отзывы пользователей'}, xlabel='user_score', ylabel='general_sales'>"
      ]
     },
     "execution_count": 32,
     "metadata": {},
     "output_type": "execute_result"
    },
    {
     "data": {
      "image/png": "[encoded data removed]",
      "text/plain": [
       "<Figure size 1440x504 with 2 Axes>"
      ]
     },
     "metadata": {
      "needs_background": "light"
     },
     "output_type": "display_data"
    }
   ],
   "source": [
    "fig, ax = plt.subplots(1,2, figsize = (20,7))\n",
    "fig.suptitle('Влияние отзывов на продажи платформы Wiiu')\n",
    "\n",
    "ax_1 = (\n",
    "    current_period.query('(platform == \"wiiu\") and (general_sales < 6)')\n",
    ")\n",
    "ax_1.plot(title = 'Отзывы критиков', x = 'critic_score', y = 'general_sales', kind = 'scatter', ax = ax[0])\n",
    "\n",
    "ax_2 = (\n",
    "    current_period.query('platform == \"wiiu\" and (general_sales < 6)')\n",
    ")\n",
    "ax_2.plot(title = 'Отзывы пользователей', x = 'user_score', y = 'general_sales', kind = 'scatter',  ax = ax[1])"
   ]
  },
  {
   "cell_type": "code",
   "execution_count": 33,
   "metadata": {},
   "outputs": [
    {
     "data": {
      "text/plain": [
       "0.38049363349482873"
      ]
     },
     "metadata": {},
     "output_type": "display_data"
    },
    {
     "data": {
      "text/plain": [
       "0.4172140378976032"
      ]
     },
     "execution_count": 33,
     "metadata": {},
     "output_type": "execute_result"
    }
   ],
   "source": [
    "wiiu_corr_critic = current_period.query('(platform == \"wiiu\") and (general_sales < 6)')\n",
    "\n",
    "display(wiiu_corr_critic['critic_score'].corr(wiiu_corr_critic['general_sales']))\n",
    "\n",
    "wiiu_corr_user = current_period.query('platform == \"wiiu\" and (general_sales < 6)')\n",
    "\n",
    "wiiu_corr_user['user_score'].corr(wiiu_corr_user['general_sales'])"
   ]
  },
  {
   "cell_type": "code",
   "execution_count": 34,
   "metadata": {
    "scrolled": false
   },
   "outputs": [
    {
     "data": {
      "text/plain": [
       "<AxesSubplot:title={'center':'Отзывы пользователей'}, xlabel='user_score', ylabel='general_sales'>"
      ]
     },
     "execution_count": 34,
     "metadata": {},
     "output_type": "execute_result"
    },
    {
     "data": {
      "image/png": "[encoded data removed]",
      "text/plain": [
       "<Figure size 1440x504 with 2 Axes>"
      ]
     },
     "metadata": {
      "needs_background": "light"
     },
     "output_type": "display_data"
    }
   ],
   "source": [
    "fig, ax = plt.subplots(1,2, figsize = (20,7))\n",
    "fig.suptitle('Влияние отзывов на продажи платформы PS3')\n",
    "\n",
    "ax_1 = (\n",
    "    current_period.query('(platform == \"ps3\") and (general_sales < 6)')\n",
    ")\n",
    "ax_1.plot(title = 'Отзывы критиков', x = 'critic_score', y = 'general_sales', kind = 'scatter', ax = ax[0])\n",
    "\n",
    "ax_2 = (\n",
    "    current_period.query('platform == \"ps3\" and (general_sales < 6)')\n",
    ")\n",
    "ax_2.plot(title = 'Отзывы пользователей', x = 'user_score', y = 'general_sales', kind = 'scatter',  ax = ax[1])"
   ]
  },
  {
   "cell_type": "code",
   "execution_count": 35,
   "metadata": {},
   "outputs": [
    {
     "data": {
      "text/plain": [
       "0.4522919994702584"
      ]
     },
     "metadata": {},
     "output_type": "display_data"
    },
    {
     "data": {
      "text/plain": [
       "0.030707272753280477"
      ]
     },
     "execution_count": 35,
     "metadata": {},
     "output_type": "execute_result"
    }
   ],
   "source": [
    "ps3_corr_critic = current_period.query('(platform == \"ps3\") and (general_sales < 6)')\n",
    "\n",
    "display(ps3_corr_critic['critic_score'].corr(ps3_corr_critic['general_sales']))\n",
    "\n",
    "ps3_corr_user = current_period.query('platform == \"ps3\" and (general_sales < 6)')\n",
    "\n",
    "ps3_corr_user['user_score'].corr(ps3_corr_user['general_sales'])"
   ]
  },
  {
   "cell_type": "code",
   "execution_count": 36,
   "metadata": {},
   "outputs": [
    {
     "data": {
      "text/plain": [
       "<AxesSubplot:title={'center':'Отзывы пользователей'}, xlabel='user_score', ylabel='general_sales'>"
      ]
     },
     "execution_count": 36,
     "metadata": {},
     "output_type": "execute_result"
    },
    {
     "data": {
      "image/png": "[encoded data removed]",
      "text/plain": [
       "<Figure size 1440x504 with 2 Axes>"
      ]
     },
     "metadata": {
      "needs_background": "light"
     },
     "output_type": "display_data"
    }
   ],
   "source": [
    "fig, ax = plt.subplots(1,2, figsize = (20,7))\n",
    "fig.suptitle('Влияние отзывов на продажи платформы PS4')\n",
    "\n",
    "ax_1 = (\n",
    "    current_period.query('(platform == \"ps4\") and (general_sales < 6)')\n",
    ")\n",
    "ax_1.plot(title = 'Отзывы критиков', x = 'critic_score', y = 'general_sales', kind = 'scatter', ax = ax[0])\n",
    "\n",
    "ax_2 = (\n",
    "    current_period.query('platform == \"ps4\" and (general_sales < 6)')\n",
    ")\n",
    "ax_2.plot(title = 'Отзывы пользователей', x = 'user_score', y = 'general_sales', kind = 'scatter',  ax = ax[1])"
   ]
  },
  {
   "cell_type": "code",
   "execution_count": 37,
   "metadata": {
    "scrolled": true
   },
   "outputs": [
    {
     "data": {
      "text/plain": [
       "0.40469259244296246"
      ]
     },
     "metadata": {},
     "output_type": "display_data"
    },
    {
     "data": {
      "text/plain": [
       "0.018301740249559405"
      ]
     },
     "execution_count": 37,
     "metadata": {},
     "output_type": "execute_result"
    }
   ],
   "source": [
    "ps_four_corr_critic = current_period.query('(platform == \"ps4\") and (general_sales < 6)')\n",
    "\n",
    "display(ps_four_corr_critic['critic_score'].corr(ps_four_corr_critic['general_sales']))\n",
    "\n",
    "ps_four_corr_user = current_period.query('platform == \"ps4\" and (general_sales < 6)')\n",
    "\n",
    "ps_four_corr_user['user_score'].corr(ps_four_corr_user['general_sales'])"
   ]
  },
  {
   "cell_type": "markdown",
   "metadata": {},
   "source": [
    "#### Распределение игр по жанрам"
   ]
  },
  {
   "cell_type": "code",
   "execution_count": 38,
   "metadata": {},
   "outputs": [
    {
     "data": {
      "text/plain": [
       "Text(0.5, 0, 'Жанр')"
      ]
     },
     "execution_count": 38,
     "metadata": {},
     "output_type": "execute_result"
    },
    {
     "data": {
      "image/png": "[encoded data removed]",
      "text/plain": [
       "<Figure size 1080x720 with 1 Axes>"
      ]
     },
     "metadata": {
      "needs_background": "light"
     },
     "output_type": "display_data"
    },
    {
     "data": {
      "image/png": "[encoded data removed]",
      "text/plain": [
       "<Figure size 1080x720 with 1 Axes>"
      ]
     },
     "metadata": {
      "needs_background": "light"
     },
     "output_type": "display_data"
    }
   ],
   "source": [
    "(\n",
    "    current_period.query('general_sales < 10')\n",
    "    .boxplot(by = 'genre', column = 'general_sales', figsize = (15, 10))\n",
    ")\n",
    "plt.title('Глобальные продажи игр в разбивке по жанрам за актуальный период', fontsize=15)\n",
    "plt.ylabel('Количество проданных игр', fontsize=10)\n",
    "plt.xlabel('Жанр', fontsize=10)\n",
    "\n",
    "(\n",
    "    current_period.query('general_sales < 0.6')\n",
    "    .boxplot(by = 'genre', column = 'general_sales', figsize = (15, 10))\n",
    ")\n",
    "plt.title('Глобальные продажи игр в разбивке по жанрам за актуальный период', fontsize=15)\n",
    "plt.ylabel('Количество проданных игр', fontsize=10)\n",
    "plt.xlabel('Жанр', fontsize=10)"
   ]
  },
  {
   "cell_type": "markdown",
   "metadata": {},
   "source": [
    "Большие продажи имеют жанры `Shooter`, `Sports` и `Platform`. \n",
    "\n",
    "Самые низкие продажи имеет жанр `Adventure` и `Puzzle`. "
   ]
  },
  {
   "cell_type": "markdown",
   "metadata": {},
   "source": [
    "### Оценка портрета пользователя каждого региона"
   ]
  },
  {
   "cell_type": "markdown",
   "metadata": {},
   "source": [
    "#### Самые популярные платформы отдельного региона"
   ]
  },
  {
   "cell_type": "code",
   "execution_count": 39,
   "metadata": {
    "scrolled": false
   },
   "outputs": [
    {
     "data": {
      "text/plain": [
       "<AxesSubplot:title={'center':'Япония'}, xlabel='Платформа', ylabel='Количество проданных игр'>"
      ]
     },
     "execution_count": 39,
     "metadata": {},
     "output_type": "execute_result"
    },
    {
     "data": {
      "image/png": "[encoded data removed]",
      "text/plain": [
       "<Figure size 1296x504 with 3 Axes>"
      ]
     },
     "metadata": {
      "needs_background": "light"
     },
     "output_type": "display_data"
    }
   ],
   "source": [
    "fig, ax = plt.subplots(1,3, figsize = (18,7))\n",
    "fig.suptitle('Популярные платформы исследуемых регионов')\n",
    "\n",
    "ax_1 = (\n",
    "    current_period.groupby(['platform']).agg({'na_sales':'sum'})\n",
    "    .sort_values(by = 'na_sales', ascending=False)\n",
    ")\n",
    "ax_1.plot(title = 'Северная Америка', xlabel = 'Платформа', ylabel = 'Количество проданных игр', kind = 'bar', ax = ax[0])\n",
    "\n",
    "\n",
    "ax_2 = (\n",
    "    current_period.groupby(['platform']).agg({'eu_sales':'sum'})\n",
    "    .sort_values(by = 'eu_sales', ascending=False)\n",
    ")\n",
    "ax_2.plot(title = 'Европа', xlabel = 'Платформа', ylabel = 'Количество проданных игр', kind = 'bar', ax = ax[1])\n",
    "\n",
    "ax_3 = (\n",
    "    current_period.groupby(['platform']).agg({'jp_sales':'sum'})\n",
    "    .sort_values(by = 'jp_sales', ascending=False)\n",
    ")\n",
    "ax_3.plot(title = 'Япония', xlabel = 'Платформа', ylabel = 'Количество проданных игр', kind = 'bar', ax = ax[2])"
   ]
  },
  {
   "cell_type": "markdown",
   "metadata": {},
   "source": [
    "В Северной Америке (NA) популярными являются платформы: `PS4`,`XOne`,`X360`,`PS3`,`3DS`(топ-5). (перечисление в порядке убывания продаж)\n",
    "\n",
    "В Европе (EU) популярными являются платформы: `PS4`,`PS3`,`XOne`,`X360`,`3DS`(топ-5).(перечисление в порядке убывания продаж) \n",
    "\n",
    "В Японии (JP) популярными платформами являются: `3DS`,`PS3`,`PSV`,`PS4`,`Wiiu`(топ-5). (перечисление в порядке убывания продаж)\n",
    "\n",
    "Самые большие продажи из представленных регионов наблюдаются в Северной Америке, самые маленькие - в Японии."
   ]
  },
  {
   "cell_type": "markdown",
   "metadata": {},
   "source": [
    "#### Самые популярные жанры отдельного региона"
   ]
  },
  {
   "cell_type": "code",
   "execution_count": 40,
   "metadata": {
    "scrolled": false
   },
   "outputs": [
    {
     "data": {
      "text/plain": [
       "<AxesSubplot:title={'center':'Япония'}, xlabel='Жанр', ylabel='Количество проданных игр'>"
      ]
     },
     "execution_count": 40,
     "metadata": {},
     "output_type": "execute_result"
    },
    {
     "data": {
      "image/png": "[encoded data removed]",
      "text/plain": [
       "<Figure size 1296x504 with 3 Axes>"
      ]
     },
     "metadata": {
      "needs_background": "light"
     },
     "output_type": "display_data"
    }
   ],
   "source": [
    "fig, ax = plt.subplots(1,3, figsize = (18,7))\n",
    "fig.suptitle('Популярные жанры исследуемых регионов')\n",
    "\n",
    "ax_1 = (\n",
    "    current_period.groupby(['genre']).agg({'na_sales':'sum'})\n",
    "    .sort_values(by = 'na_sales', ascending=False)\n",
    ")\n",
    "ax_1.plot(title = 'Северная Америка', xlabel = 'Жанр', ylabel = 'Количество проданных игр', kind = 'bar', ax = ax[0])\n",
    "\n",
    "ax_2 = (\n",
    "    current_period.groupby(['genre']).agg({'eu_sales':'sum'})\n",
    "    .sort_values(by = 'eu_sales', ascending=False)\n",
    ")\n",
    "ax_2.plot(title = 'Европа', xlabel = 'Жанр', ylabel = 'Количество проданных игр', kind = 'bar', ax = ax[1])\n",
    "\n",
    "ax_3 = (\n",
    "    current_period.groupby(['genre']).agg({'jp_sales':'sum'})\n",
    "    .sort_values(by = 'jp_sales', ascending=False)\n",
    ")\n",
    "ax_3.plot(title = 'Япония',  xlabel = 'Жанр', ylabel = 'Количество проданных игр', kind = 'bar', ax = ax[2])"
   ]
  },
  {
   "cell_type": "markdown",
   "metadata": {},
   "source": [
    "В Северной Америке (NA) популярные жанры: `Action`,`Shooter`,`Sports`,`Role-Playing`,`Misc`(топ-5).\n",
    "\n",
    "В Европе (EU) популярные жанры: `Action`,`Shooter`,`Sports`,`Role-Playing`,`Racing`(топ-5).\n",
    "\n",
    "Продажи в Северной Америке значительно выше продаж в Европе, но рейтинг популярных жанров практически одинаковый. Жанр `Action` является самым непопулярным жанром в обоих регионах.\n",
    "\n",
    "В Японии (JP) популярные жанры: `Role-Playing` и `Action`, разница в продажах со следующими жанрами большая. Далее `Misc`,`Fighting`,`Shooter`."
   ]
  },
  {
   "cell_type": "code",
   "execution_count": 41,
   "metadata": {},
   "outputs": [
    {
     "data": {
      "text/plain": [
       "<AxesSubplot:xlabel='genre'>"
      ]
     },
     "execution_count": 41,
     "metadata": {},
     "output_type": "execute_result"
    },
    {
     "data": {
      "image/png": "[encoded data removed]",
      "text/plain": [
       "<Figure size 1296x720 with 3 Axes>"
      ]
     },
     "metadata": {
      "needs_background": "light"
     },
     "output_type": "display_data"
    }
   ],
   "source": [
    "# check\n",
    "\n",
    "fig, ax = plt.subplots(1,3, figsize = (18,10))\n",
    "\n",
    "ax_1 = (\n",
    "    current_period.groupby(['genre']).agg({'na_sales':'sum'})\n",
    "    .sort_values(by = 'na_sales', ascending=False)\n",
    ")\n",
    "ax_1.plot(ax = ax[0])\n",
    "\n",
    "ax_2 = (\n",
    "    current_period.groupby(['genre']).agg({'eu_sales':'sum'})\n",
    "    .sort_values(by = 'eu_sales', ascending=False)\n",
    ")\n",
    "ax_2.plot(ax = ax[1])\n",
    "\n",
    "ax_3 = (\n",
    "    current_period.groupby(['genre']).agg({'jp_sales':'sum'})\n",
    "    .sort_values(by = 'jp_sales', ascending=False)\n",
    ")\n",
    "ax_3.plot(ax = ax[2])"
   ]
  },
  {
   "cell_type": "markdown",
   "metadata": {},
   "source": [
    "#### Оценка влияния рейтинга ESRB на продажи в отдельном регионе"
   ]
  },
  {
   "cell_type": "code",
   "execution_count": 42,
   "metadata": {},
   "outputs": [
    {
     "data": {
      "text/plain": [
       "<AxesSubplot:title={'center':'Япония'}, xlabel='Рейтинг', ylabel='Количество проданных игр'>"
      ]
     },
     "execution_count": 42,
     "metadata": {},
     "output_type": "execute_result"
    },
    {
     "data": {
      "image/png": "[encoded data removed]",
      "text/plain": [
       "<Figure size 1296x504 with 3 Axes>"
      ]
     },
     "metadata": {
      "needs_background": "light"
     },
     "output_type": "display_data"
    }
   ],
   "source": [
    "fig, ax = plt.subplots(1,3, figsize = (18,7))\n",
    "fig.suptitle('Влияние рейтинга ESRB на продажи в отдельном регионе')\n",
    "\n",
    "ax_1 = (\n",
    "    current_period.groupby(['rating_category']).agg({'na_sales':'sum'})\n",
    "    .sort_values(by = 'na_sales', ascending=False)\n",
    ")\n",
    "ax_1.plot(title = 'Северная Америка', xlabel = 'Рейтинг', ylabel = 'Количество проданных игр', kind = 'bar', ax = ax[0])\n",
    "\n",
    "ax_2 = (\n",
    "    current_period.groupby(['rating_category']).agg({'eu_sales':'sum'})\n",
    "    .sort_values(by = 'eu_sales', ascending=False)\n",
    ")\n",
    "ax_2.plot(title = 'Европа', xlabel = 'Рейтинг', ylabel = 'Количество проданных игр', kind = 'bar', ax = ax[1])\n",
    "\n",
    "ax_3 = (\n",
    "    current_period.groupby(['rating_category']).agg({'jp_sales':'sum'})\n",
    "    .sort_values(by = 'jp_sales', ascending=False)\n",
    ")\n",
    "ax_3.plot(title = 'Япония', xlabel = 'Рейтинг', ylabel = 'Количество проданных игр', kind = 'bar', ax = ax[2])"
   ]
  },
  {
   "cell_type": "markdown",
   "metadata": {},
   "source": [
    "В Северной Америке (NA) самые продаваемые игры с рейтингом `M`.\n",
    "\n",
    "В Европе (EU) самые продаваемые игры с рейтинго `M`.\n",
    "\n",
    "В Японии (JP) из-за пропусков в данных невозможно установить рейтинг самых продаваемых игр.\n",
    "\n",
    "В Северной Америке большое количество игр без рейтинга, далее идёт Япония, затем - Европа. Предпочтения Северной Америки и Европы схожи, Японии же отличаются."
   ]
  },
  {
   "cell_type": "markdown",
   "metadata": {},
   "source": [
    "### Проверка гипотез"
   ]
  },
  {
   "cell_type": "markdown",
   "metadata": {},
   "source": [
    "```\n",
    "H_0: Средний пользовательский рейтинг платформы Xbox One = средний пользовательский рейтинг платформы PC\n",
    "H_a: Средний пользовательский рейтинг платформы Xbox One ≠ средний пользовательский рейтинг платформы PC\n",
    "```"
   ]
  },
  {
   "cell_type": "code",
   "execution_count": 43,
   "metadata": {},
   "outputs": [],
   "source": [
    "current_period = current_period.dropna(subset = ['user_score'])"
   ]
  },
  {
   "cell_type": "code",
   "execution_count": 44,
   "metadata": {},
   "outputs": [
    {
     "name": "stdout",
     "output_type": "stream",
     "text": [
      "p-значение: 0.14012658403611647\n",
      "Не получилось отвергнуть нулевую гипотезу\n"
     ]
    }
   ],
   "source": [
    "# вызов метода для проверки гипотезы\n",
    "XOne = current_period.query('platform == \"xone\"')['user_score']\n",
    "PC =  current_period.query('platform == \"pc\"')['user_score']\n",
    "\n",
    "results = st.ttest_ind(XOne, PC)\n",
    "\n",
    "# значение уровня значимости\n",
    "\n",
    "alpha = 0.05\n",
    "\n",
    "# вывод значения p-value на экран \n",
    "\n",
    "print('p-значение:', results.pvalue)\n",
    "\n",
    "# условный оператор с выводом строки с ответом\n",
    "if results.pvalue < alpha:\n",
    "    print('Отвергаем нулевую гипотезу')\n",
    "else:\n",
    "    print('Не получилось отвергнуть нулевую гипотезу')"
   ]
  },
  {
   "cell_type": "markdown",
   "metadata": {},
   "source": [
    "Можно сделать вывод: средний пользовательский рейтинг платформы Xbox One = средний пользовательский рейтинг платформы PC."
   ]
  },
  {
   "cell_type": "markdown",
   "metadata": {},
   "source": [
    "```\n",
    "H_0: Средний пользовательский рейтинг жанра Action = средний пользовательский рейтинг жанра Sports\n",
    "H_a: Средний пользовательский рейтинг жанра Action ≠ средний пользовательский рейтинг жанра Sports\n",
    "```"
   ]
  },
  {
   "cell_type": "code",
   "execution_count": 45,
   "metadata": {
    "scrolled": true
   },
   "outputs": [
    {
     "name": "stdout",
     "output_type": "stream",
     "text": [
      "p-значение: 1.0517832389140023e-27\n",
      "Отвергаем нулевую гипотезу\n"
     ]
    }
   ],
   "source": [
    "Action = current_period.query('genre == \"action\"')['user_score']\n",
    "Sports =  current_period.query('genre == \"sports\"')['user_score']\n",
    "\n",
    "# вызов метода для проверки гипотезы\n",
    "\n",
    "results = st.ttest_ind(Action, Sports)\n",
    "\n",
    "# значение уровня значимости\n",
    "\n",
    "alpha = 0.05\n",
    "\n",
    "# вывод значения p-value на экран \n",
    "\n",
    "print('p-значение:', results.pvalue)\n",
    "\n",
    "# условный оператор с выводом строки с ответом\n",
    "if results.pvalue < alpha:\n",
    "    print('Отвергаем нулевую гипотезу')\n",
    "else:\n",
    "    print('Не получилось отвергнуть нулевую гипотезу')"
   ]
  },
  {
   "cell_type": "markdown",
   "metadata": {},
   "source": [
    "Можно сделать вывод: средний пользовательский рейтинг жанра Action ≠ средний пользовательский рейтинг жанра Sports."
   ]
  },
  {
   "cell_type": "markdown",
   "metadata": {},
   "source": [
    "### Вывод"
   ]
  },
  {
   "cell_type": "markdown",
   "metadata": {},
   "source": [
    "Стояла задача в выявлении `определяющих` успешность игры `закономерностей`. \n",
    "\n",
    "Чтобы игра была успешна во всех исследуемых регионах, необходимо:\n",
    "- сделать акцент на платформы `PS4`,`PS3` и `3DS`;\n",
    "- выпускать игры в жанрах `Action`,`Sports`,`Shooter`,`Role-Playing`;\n",
    "- выпускать игры с возрастным рейтингом `E`, `T` и `M`.\n",
    "\n",
    "При рассмотрении особенностей отдельных регионов (Северной Америки, Европы и Японии) замечена разница в предпочтениях. Интересы пользователей Северной Америки и Европы зачастую схожи, а с пользователями Японии - различны.\n",
    "\n",
    "В анализе был сделан уклон на успешность игры во всех регионах для того, что было затрачено меньшее количество ресурсов на создание игры и она удовлетворяла предпочтениям бОльшей части пользователей."
   ]
  }
 ],
 "metadata": {
  "ExecuteTimeLog": [
   {
    "duration": 444,
    "start_time": "2022-07-13T09:23:02.321Z"
   },
   {
    "duration": 21,
    "start_time": "2022-07-13T09:23:24.806Z"
   },
   {
    "duration": 15,
    "start_time": "2022-07-13T09:29:09.492Z"
   },
   {
    "duration": 15,
    "start_time": "2022-07-13T09:31:14.604Z"
   },
   {
    "duration": 64,
    "start_time": "2022-07-13T09:37:53.277Z"
   },
   {
    "duration": 11,
    "start_time": "2022-07-13T09:38:11.493Z"
   },
   {
    "duration": 8,
    "start_time": "2022-07-13T09:38:54.444Z"
   },
   {
    "duration": 3,
    "start_time": "2022-07-13T09:40:29.337Z"
   },
   {
    "duration": 13,
    "start_time": "2022-07-13T09:40:45.247Z"
   },
   {
    "duration": 47,
    "start_time": "2022-07-13T14:32:01.317Z"
   },
   {
    "duration": 373,
    "start_time": "2022-07-13T14:32:03.441Z"
   },
   {
    "duration": 202,
    "start_time": "2022-07-13T14:32:04.422Z"
   },
   {
    "duration": 25,
    "start_time": "2022-07-13T14:32:04.991Z"
   },
   {
    "duration": 15,
    "start_time": "2022-07-13T14:32:17.564Z"
   },
   {
    "duration": 14,
    "start_time": "2022-07-13T14:32:18.386Z"
   },
   {
    "duration": 3,
    "start_time": "2022-07-13T14:32:19.403Z"
   },
   {
    "duration": 38,
    "start_time": "2022-07-13T14:49:28.582Z"
   },
   {
    "duration": 2,
    "start_time": "2022-07-13T15:08:44.765Z"
   },
   {
    "duration": 56,
    "start_time": "2022-07-13T15:08:45.362Z"
   },
   {
    "duration": 14,
    "start_time": "2022-07-13T15:08:45.556Z"
   },
   {
    "duration": 14,
    "start_time": "2022-07-13T15:08:45.888Z"
   },
   {
    "duration": 3,
    "start_time": "2022-07-13T15:08:46.312Z"
   },
   {
    "duration": 13,
    "start_time": "2022-07-13T15:08:47.216Z"
   },
   {
    "duration": 9,
    "start_time": "2022-07-13T15:10:50.584Z"
   },
   {
    "duration": 7,
    "start_time": "2022-07-13T15:11:01.084Z"
   },
   {
    "duration": 20,
    "start_time": "2022-07-13T15:11:16.755Z"
   },
   {
    "duration": 11,
    "start_time": "2022-07-13T15:11:44.785Z"
   },
   {
    "duration": 7,
    "start_time": "2022-07-13T15:12:13.735Z"
   },
   {
    "duration": 3,
    "start_time": "2022-07-13T15:12:49.191Z"
   },
   {
    "duration": 52,
    "start_time": "2022-07-13T15:12:49.707Z"
   },
   {
    "duration": 14,
    "start_time": "2022-07-13T15:12:49.941Z"
   },
   {
    "duration": 13,
    "start_time": "2022-07-13T15:12:50.271Z"
   },
   {
    "duration": 3,
    "start_time": "2022-07-13T15:12:50.909Z"
   },
   {
    "duration": 6,
    "start_time": "2022-07-13T15:12:51.493Z"
   },
   {
    "duration": 13,
    "start_time": "2022-07-13T15:12:51.708Z"
   },
   {
    "duration": 4,
    "start_time": "2022-07-13T15:13:27.297Z"
   },
   {
    "duration": 15,
    "start_time": "2022-07-13T15:13:27.841Z"
   },
   {
    "duration": 8,
    "start_time": "2022-07-13T15:13:45.969Z"
   },
   {
    "duration": 16,
    "start_time": "2022-07-13T15:13:47.191Z"
   },
   {
    "duration": 5,
    "start_time": "2022-07-13T15:14:17.123Z"
   },
   {
    "duration": 22,
    "start_time": "2022-07-13T15:14:18.250Z"
   },
   {
    "duration": 4,
    "start_time": "2022-07-13T15:14:25.951Z"
   },
   {
    "duration": 20,
    "start_time": "2022-07-13T15:14:26.505Z"
   },
   {
    "duration": 2,
    "start_time": "2022-07-13T15:14:31.964Z"
   },
   {
    "duration": 65,
    "start_time": "2022-07-13T15:14:32.380Z"
   },
   {
    "duration": 16,
    "start_time": "2022-07-13T15:14:32.562Z"
   },
   {
    "duration": 22,
    "start_time": "2022-07-13T15:14:32.952Z"
   },
   {
    "duration": 4,
    "start_time": "2022-07-13T15:14:33.381Z"
   },
   {
    "duration": 4,
    "start_time": "2022-07-13T15:14:34.281Z"
   },
   {
    "duration": 13,
    "start_time": "2022-07-13T15:14:34.988Z"
   },
   {
    "duration": 19,
    "start_time": "2022-07-13T15:15:24.219Z"
   },
   {
    "duration": 4,
    "start_time": "2022-07-13T15:15:45.488Z"
   },
   {
    "duration": 637,
    "start_time": "2022-07-13T15:15:59.026Z"
   },
   {
    "duration": 4,
    "start_time": "2022-07-13T15:19:00.894Z"
   },
   {
    "duration": 15,
    "start_time": "2022-07-13T15:19:03.820Z"
   },
   {
    "duration": 14,
    "start_time": "2022-07-13T15:19:31.020Z"
   },
   {
    "duration": 2,
    "start_time": "2022-07-13T15:25:17.785Z"
   },
   {
    "duration": 9,
    "start_time": "2022-07-13T15:26:03.644Z"
   },
   {
    "duration": 11,
    "start_time": "2022-07-13T15:26:21.962Z"
   },
   {
    "duration": 10,
    "start_time": "2022-07-13T15:28:37.286Z"
   },
   {
    "duration": 20,
    "start_time": "2022-07-13T15:28:49.198Z"
   },
   {
    "duration": 26,
    "start_time": "2022-07-13T15:29:06.648Z"
   },
   {
    "duration": 13,
    "start_time": "2022-07-13T15:33:28.002Z"
   },
   {
    "duration": 21,
    "start_time": "2022-07-13T15:33:28.721Z"
   },
   {
    "duration": 5,
    "start_time": "2022-07-13T15:34:50.187Z"
   },
   {
    "duration": 14,
    "start_time": "2022-07-13T15:35:00.578Z"
   },
   {
    "duration": 14,
    "start_time": "2022-07-13T15:36:10.833Z"
   },
   {
    "duration": 25,
    "start_time": "2022-07-13T15:36:18.216Z"
   },
   {
    "duration": 6,
    "start_time": "2022-07-13T15:36:58.821Z"
   },
   {
    "duration": 10,
    "start_time": "2022-07-13T15:37:13.136Z"
   },
   {
    "duration": 9,
    "start_time": "2022-07-13T15:38:33.871Z"
   },
   {
    "duration": 6,
    "start_time": "2022-07-13T15:47:01.282Z"
   },
   {
    "duration": 7,
    "start_time": "2022-07-13T15:47:41.318Z"
   },
   {
    "duration": 7,
    "start_time": "2022-07-13T15:49:50.374Z"
   },
   {
    "duration": 16,
    "start_time": "2022-07-13T15:49:53.443Z"
   },
   {
    "duration": 5,
    "start_time": "2022-07-13T15:58:02.943Z"
   },
   {
    "duration": 13,
    "start_time": "2022-07-13T15:58:03.763Z"
   },
   {
    "duration": 5,
    "start_time": "2022-07-13T16:02:17.683Z"
   },
   {
    "duration": 15,
    "start_time": "2022-07-13T16:02:24.077Z"
   },
   {
    "duration": 27,
    "start_time": "2022-07-13T16:11:18.202Z"
   },
   {
    "duration": 17,
    "start_time": "2022-07-13T16:11:33.776Z"
   },
   {
    "duration": 12,
    "start_time": "2022-07-13T16:12:10.436Z"
   },
   {
    "duration": 7,
    "start_time": "2022-07-13T16:16:21.851Z"
   },
   {
    "duration": 4,
    "start_time": "2022-07-13T16:16:29.509Z"
   },
   {
    "duration": 15,
    "start_time": "2022-07-13T16:16:39.489Z"
   },
   {
    "duration": 13,
    "start_time": "2022-07-13T16:17:39.155Z"
   },
   {
    "duration": 9,
    "start_time": "2022-07-13T16:18:19.668Z"
   },
   {
    "duration": 7,
    "start_time": "2022-07-13T16:18:57.154Z"
   },
   {
    "duration": 2,
    "start_time": "2022-07-13T16:19:11.950Z"
   },
   {
    "duration": 12,
    "start_time": "2022-07-13T16:19:51.899Z"
   },
   {
    "duration": 4,
    "start_time": "2022-07-13T16:20:33.851Z"
   },
   {
    "duration": 14,
    "start_time": "2022-07-13T16:20:35.921Z"
   },
   {
    "duration": 3,
    "start_time": "2022-07-13T16:20:58.095Z"
   },
   {
    "duration": 53,
    "start_time": "2022-07-13T16:20:58.480Z"
   },
   {
    "duration": 13,
    "start_time": "2022-07-13T16:20:58.646Z"
   },
   {
    "duration": 14,
    "start_time": "2022-07-13T16:20:59.044Z"
   },
   {
    "duration": 3,
    "start_time": "2022-07-13T16:20:59.416Z"
   },
   {
    "duration": 10,
    "start_time": "2022-07-13T16:20:59.612Z"
   },
   {
    "duration": 10,
    "start_time": "2022-07-13T16:21:00.008Z"
   },
   {
    "duration": 25,
    "start_time": "2022-07-13T16:21:00.179Z"
   },
   {
    "duration": 8,
    "start_time": "2022-07-13T16:21:00.382Z"
   },
   {
    "duration": 4,
    "start_time": "2022-07-13T16:21:00.734Z"
   },
   {
    "duration": 10,
    "start_time": "2022-07-13T16:21:01.376Z"
   },
   {
    "duration": 15,
    "start_time": "2022-07-13T16:21:01.591Z"
   },
   {
    "duration": 4,
    "start_time": "2022-07-13T16:21:01.797Z"
   },
   {
    "duration": 16,
    "start_time": "2022-07-13T16:21:01.987Z"
   },
   {
    "duration": 63,
    "start_time": "2022-07-13T16:28:15.546Z"
   },
   {
    "duration": 15,
    "start_time": "2022-07-13T16:28:15.729Z"
   },
   {
    "duration": 14,
    "start_time": "2022-07-13T16:28:16.130Z"
   },
   {
    "duration": 4,
    "start_time": "2022-07-13T16:28:16.705Z"
   },
   {
    "duration": 2,
    "start_time": "2022-07-13T16:32:42.702Z"
   },
   {
    "duration": 54,
    "start_time": "2022-07-13T16:32:43.164Z"
   },
   {
    "duration": 15,
    "start_time": "2022-07-13T16:32:43.369Z"
   },
   {
    "duration": 15,
    "start_time": "2022-07-13T16:32:43.698Z"
   },
   {
    "duration": 4,
    "start_time": "2022-07-13T16:32:44.084Z"
   },
   {
    "duration": 10,
    "start_time": "2022-07-13T16:32:44.289Z"
   },
   {
    "duration": 8,
    "start_time": "2022-07-13T16:32:44.863Z"
   },
   {
    "duration": 23,
    "start_time": "2022-07-13T16:32:45.089Z"
   },
   {
    "duration": 6,
    "start_time": "2022-07-13T16:32:45.329Z"
   },
   {
    "duration": 5,
    "start_time": "2022-07-13T16:32:46.049Z"
   },
   {
    "duration": 9,
    "start_time": "2022-07-13T16:32:47.056Z"
   },
   {
    "duration": 14,
    "start_time": "2022-07-13T16:32:47.258Z"
   },
   {
    "duration": 5,
    "start_time": "2022-07-13T16:32:47.447Z"
   },
   {
    "duration": 16,
    "start_time": "2022-07-13T16:32:47.910Z"
   },
   {
    "duration": 14,
    "start_time": "2022-07-13T16:39:16.178Z"
   },
   {
    "duration": 10,
    "start_time": "2022-07-13T16:39:37.615Z"
   },
   {
    "duration": 47,
    "start_time": "2022-07-14T12:16:16.601Z"
   },
   {
    "duration": 405,
    "start_time": "2022-07-14T12:16:21.812Z"
   },
   {
    "duration": 94,
    "start_time": "2022-07-14T12:16:22.219Z"
   },
   {
    "duration": 20,
    "start_time": "2022-07-14T12:16:22.323Z"
   },
   {
    "duration": 14,
    "start_time": "2022-07-14T12:16:22.732Z"
   },
   {
    "duration": 4,
    "start_time": "2022-07-14T12:16:23.069Z"
   },
   {
    "duration": 10,
    "start_time": "2022-07-14T12:16:23.254Z"
   },
   {
    "duration": 10,
    "start_time": "2022-07-14T12:16:23.603Z"
   },
   {
    "duration": 23,
    "start_time": "2022-07-14T12:16:23.788Z"
   },
   {
    "duration": 8,
    "start_time": "2022-07-14T12:16:23.975Z"
   },
   {
    "duration": 5,
    "start_time": "2022-07-14T12:16:24.349Z"
   },
   {
    "duration": 9,
    "start_time": "2022-07-14T12:16:24.915Z"
   },
   {
    "duration": 13,
    "start_time": "2022-07-14T12:16:25.081Z"
   },
   {
    "duration": 4,
    "start_time": "2022-07-14T12:16:25.273Z"
   },
   {
    "duration": 15,
    "start_time": "2022-07-14T12:16:25.476Z"
   },
   {
    "duration": 11,
    "start_time": "2022-07-14T12:16:25.825Z"
   },
   {
    "duration": 15,
    "start_time": "2022-07-14T12:16:38.223Z"
   },
   {
    "duration": 584,
    "start_time": "2022-07-14T12:20:15.950Z"
   },
   {
    "duration": 16,
    "start_time": "2022-07-14T12:20:44.458Z"
   },
   {
    "duration": 144,
    "start_time": "2022-07-14T12:22:14.747Z"
   },
   {
    "duration": 148,
    "start_time": "2022-07-14T12:22:36.942Z"
   },
   {
    "duration": 2077,
    "start_time": "2022-07-14T12:24:02.559Z"
   },
   {
    "duration": 2762,
    "start_time": "2022-07-14T12:25:03.034Z"
   },
   {
    "duration": 2,
    "start_time": "2022-07-14T12:25:19.763Z"
   },
   {
    "duration": 53,
    "start_time": "2022-07-14T12:25:20.131Z"
   },
   {
    "duration": 14,
    "start_time": "2022-07-14T12:25:20.301Z"
   },
   {
    "duration": 14,
    "start_time": "2022-07-14T12:25:20.676Z"
   },
   {
    "duration": 3,
    "start_time": "2022-07-14T12:25:21.068Z"
   },
   {
    "duration": 10,
    "start_time": "2022-07-14T12:25:21.259Z"
   },
   {
    "duration": 8,
    "start_time": "2022-07-14T12:25:21.682Z"
   },
   {
    "duration": 19,
    "start_time": "2022-07-14T12:25:21.865Z"
   },
   {
    "duration": 7,
    "start_time": "2022-07-14T12:25:22.056Z"
   },
   {
    "duration": 4,
    "start_time": "2022-07-14T12:25:22.427Z"
   },
   {
    "duration": 12,
    "start_time": "2022-07-14T12:25:23.007Z"
   },
   {
    "duration": 15,
    "start_time": "2022-07-14T12:25:23.192Z"
   },
   {
    "duration": 5,
    "start_time": "2022-07-14T12:25:23.385Z"
   },
   {
    "duration": 14,
    "start_time": "2022-07-14T12:25:23.578Z"
   },
   {
    "duration": 1730,
    "start_time": "2022-07-14T12:25:23.969Z"
   },
   {
    "duration": 67,
    "start_time": "2022-07-14T12:26:23.449Z"
   },
   {
    "duration": 111,
    "start_time": "2022-07-14T12:26:49.628Z"
   },
   {
    "duration": 149,
    "start_time": "2022-07-14T12:26:59.820Z"
   },
   {
    "duration": 169,
    "start_time": "2022-07-14T12:27:25.518Z"
   },
   {
    "duration": 184,
    "start_time": "2022-07-14T12:27:32.391Z"
   },
   {
    "duration": 199,
    "start_time": "2022-07-14T12:27:46.232Z"
   },
   {
    "duration": 219,
    "start_time": "2022-07-14T12:27:55.045Z"
   },
   {
    "duration": 228,
    "start_time": "2022-07-14T12:28:01.061Z"
   },
   {
    "duration": 195,
    "start_time": "2022-07-14T12:28:10.108Z"
   },
   {
    "duration": 170,
    "start_time": "2022-07-14T12:28:25.462Z"
   },
   {
    "duration": 845,
    "start_time": "2022-07-14T12:28:50.539Z"
   },
   {
    "duration": 214,
    "start_time": "2022-07-14T12:29:08.059Z"
   },
   {
    "duration": 5,
    "start_time": "2022-07-14T12:31:08.136Z"
   },
   {
    "duration": 14,
    "start_time": "2022-07-14T12:31:09.215Z"
   },
   {
    "duration": 9,
    "start_time": "2022-07-14T12:35:15.661Z"
   },
   {
    "duration": 14,
    "start_time": "2022-07-14T12:35:24.682Z"
   },
   {
    "duration": 40,
    "start_time": "2022-07-14T12:36:31.750Z"
   },
   {
    "duration": 52,
    "start_time": "2022-07-14T12:37:19.194Z"
   },
   {
    "duration": 15,
    "start_time": "2022-07-14T12:37:47.081Z"
   },
   {
    "duration": 975,
    "start_time": "2022-07-14T12:38:37.172Z"
   },
   {
    "duration": 22,
    "start_time": "2022-07-14T12:38:52.452Z"
   },
   {
    "duration": 155,
    "start_time": "2022-07-14T12:39:46.831Z"
   },
   {
    "duration": 631,
    "start_time": "2022-07-14T12:42:29.067Z"
   },
   {
    "duration": 218,
    "start_time": "2022-07-14T12:42:52.398Z"
   },
   {
    "duration": 8,
    "start_time": "2022-07-14T12:44:08.448Z"
   },
   {
    "duration": 128,
    "start_time": "2022-07-14T12:44:55.574Z"
   },
   {
    "duration": 119,
    "start_time": "2022-07-14T12:46:30.807Z"
   },
   {
    "duration": 274,
    "start_time": "2022-07-14T12:46:55.104Z"
   },
   {
    "duration": 150,
    "start_time": "2022-07-14T12:47:04.898Z"
   },
   {
    "duration": 141,
    "start_time": "2022-07-14T12:47:22.254Z"
   },
   {
    "duration": 1196,
    "start_time": "2022-07-14T12:49:25.024Z"
   },
   {
    "duration": 979,
    "start_time": "2022-07-14T12:49:49.319Z"
   },
   {
    "duration": 906,
    "start_time": "2022-07-14T12:50:35.242Z"
   },
   {
    "duration": 833,
    "start_time": "2022-07-14T12:51:24.675Z"
   },
   {
    "duration": 21,
    "start_time": "2022-07-14T12:52:45.308Z"
   },
   {
    "duration": 23,
    "start_time": "2022-07-14T12:53:08.841Z"
   },
   {
    "duration": 165,
    "start_time": "2022-07-14T12:53:32.089Z"
   },
   {
    "duration": 162,
    "start_time": "2022-07-14T12:53:59.569Z"
   },
   {
    "duration": 2,
    "start_time": "2022-07-14T12:54:04.302Z"
   },
   {
    "duration": 50,
    "start_time": "2022-07-14T12:54:04.651Z"
   },
   {
    "duration": 13,
    "start_time": "2022-07-14T12:54:04.840Z"
   },
   {
    "duration": 14,
    "start_time": "2022-07-14T12:54:05.202Z"
   },
   {
    "duration": 3,
    "start_time": "2022-07-14T12:54:05.558Z"
   },
   {
    "duration": 9,
    "start_time": "2022-07-14T12:54:05.736Z"
   },
   {
    "duration": 9,
    "start_time": "2022-07-14T12:54:06.105Z"
   },
   {
    "duration": 20,
    "start_time": "2022-07-14T12:54:06.288Z"
   },
   {
    "duration": 7,
    "start_time": "2022-07-14T12:54:06.462Z"
   },
   {
    "duration": 5,
    "start_time": "2022-07-14T12:54:06.832Z"
   },
   {
    "duration": 8,
    "start_time": "2022-07-14T12:54:07.413Z"
   },
   {
    "duration": 13,
    "start_time": "2022-07-14T12:54:07.589Z"
   },
   {
    "duration": 4,
    "start_time": "2022-07-14T12:54:07.802Z"
   },
   {
    "duration": 13,
    "start_time": "2022-07-14T12:54:07.989Z"
   },
   {
    "duration": 170,
    "start_time": "2022-07-14T12:54:08.385Z"
   },
   {
    "duration": 224,
    "start_time": "2022-07-14T12:54:08.571Z"
   },
   {
    "duration": 38,
    "start_time": "2022-07-14T12:54:08.796Z"
   },
   {
    "duration": 3,
    "start_time": "2022-07-14T12:55:00.060Z"
   },
   {
    "duration": 52,
    "start_time": "2022-07-14T12:55:00.456Z"
   },
   {
    "duration": 15,
    "start_time": "2022-07-14T12:55:00.641Z"
   },
   {
    "duration": 22,
    "start_time": "2022-07-14T12:55:01.003Z"
   },
   {
    "duration": 4,
    "start_time": "2022-07-14T12:55:01.395Z"
   },
   {
    "duration": 17,
    "start_time": "2022-07-14T12:55:01.580Z"
   },
   {
    "duration": 10,
    "start_time": "2022-07-14T12:55:01.978Z"
   },
   {
    "duration": 31,
    "start_time": "2022-07-14T12:55:02.159Z"
   },
   {
    "duration": 8,
    "start_time": "2022-07-14T12:55:02.368Z"
   },
   {
    "duration": 6,
    "start_time": "2022-07-14T12:55:02.763Z"
   },
   {
    "duration": 9,
    "start_time": "2022-07-14T12:55:03.353Z"
   },
   {
    "duration": 14,
    "start_time": "2022-07-14T12:55:03.535Z"
   },
   {
    "duration": 5,
    "start_time": "2022-07-14T12:55:03.724Z"
   },
   {
    "duration": 14,
    "start_time": "2022-07-14T12:55:03.929Z"
   },
   {
    "duration": 217,
    "start_time": "2022-07-14T12:55:04.814Z"
   },
   {
    "duration": 206,
    "start_time": "2022-07-14T12:55:06.049Z"
   },
   {
    "duration": 30,
    "start_time": "2022-07-14T12:55:08.189Z"
   },
   {
    "duration": 153,
    "start_time": "2022-07-14T12:56:10.904Z"
   },
   {
    "duration": 820,
    "start_time": "2022-07-14T12:56:49.482Z"
   },
   {
    "duration": 36,
    "start_time": "2022-07-14T12:57:12.178Z"
   },
   {
    "duration": 708,
    "start_time": "2022-07-14T12:57:31.242Z"
   },
   {
    "duration": 184,
    "start_time": "2022-07-14T13:01:04.380Z"
   },
   {
    "duration": 289,
    "start_time": "2022-07-14T13:01:55.139Z"
   },
   {
    "duration": 325,
    "start_time": "2022-07-14T13:02:49.256Z"
   },
   {
    "duration": 903,
    "start_time": "2022-07-14T13:03:05.791Z"
   },
   {
    "duration": 1326,
    "start_time": "2022-07-14T13:03:48.436Z"
   },
   {
    "duration": 5681,
    "start_time": "2022-07-14T13:03:56.648Z"
   },
   {
    "duration": 5571,
    "start_time": "2022-07-14T13:04:17.997Z"
   },
   {
    "duration": 3,
    "start_time": "2022-07-14T13:06:59.449Z"
   },
   {
    "duration": 51,
    "start_time": "2022-07-14T13:07:00.537Z"
   },
   {
    "duration": 13,
    "start_time": "2022-07-14T13:07:00.910Z"
   },
   {
    "duration": 20,
    "start_time": "2022-07-14T13:07:01.477Z"
   },
   {
    "duration": 3,
    "start_time": "2022-07-14T13:07:02.418Z"
   },
   {
    "duration": 11,
    "start_time": "2022-07-14T13:07:02.759Z"
   },
   {
    "duration": 9,
    "start_time": "2022-07-14T13:07:03.524Z"
   },
   {
    "duration": 22,
    "start_time": "2022-07-14T13:07:03.847Z"
   },
   {
    "duration": 8,
    "start_time": "2022-07-14T13:07:04.012Z"
   },
   {
    "duration": 5,
    "start_time": "2022-07-14T13:07:04.387Z"
   },
   {
    "duration": 9,
    "start_time": "2022-07-14T13:07:04.969Z"
   },
   {
    "duration": 13,
    "start_time": "2022-07-14T13:07:05.138Z"
   },
   {
    "duration": 5,
    "start_time": "2022-07-14T13:07:05.325Z"
   },
   {
    "duration": 13,
    "start_time": "2022-07-14T13:07:05.788Z"
   },
   {
    "duration": 173,
    "start_time": "2022-07-14T13:07:06.998Z"
   },
   {
    "duration": 396,
    "start_time": "2022-07-14T13:07:07.958Z"
   },
   {
    "duration": 643,
    "start_time": "2022-07-14T13:07:08.787Z"
   },
   {
    "duration": 161,
    "start_time": "2022-07-14T13:07:23.011Z"
   },
   {
    "duration": 144,
    "start_time": "2022-07-14T13:07:38.513Z"
   },
   {
    "duration": 136,
    "start_time": "2022-07-14T13:09:07.966Z"
   },
   {
    "duration": 160,
    "start_time": "2022-07-14T13:09:36.689Z"
   },
   {
    "duration": 144,
    "start_time": "2022-07-14T13:10:46.319Z"
   },
   {
    "duration": 165,
    "start_time": "2022-07-14T13:11:07.488Z"
   },
   {
    "duration": 156,
    "start_time": "2022-07-14T13:11:19.089Z"
   },
   {
    "duration": 154,
    "start_time": "2022-07-14T13:11:30.478Z"
   },
   {
    "duration": 137,
    "start_time": "2022-07-14T13:11:43.246Z"
   },
   {
    "duration": 179,
    "start_time": "2022-07-14T13:12:53.170Z"
   },
   {
    "duration": 298,
    "start_time": "2022-07-14T13:13:55.190Z"
   },
   {
    "duration": 143,
    "start_time": "2022-07-14T13:19:22.091Z"
   },
   {
    "duration": 292,
    "start_time": "2022-07-14T13:20:07.773Z"
   },
   {
    "duration": 306,
    "start_time": "2022-07-14T13:20:20.368Z"
   },
   {
    "duration": 140,
    "start_time": "2022-07-14T13:20:39.613Z"
   },
   {
    "duration": 20,
    "start_time": "2022-07-14T13:21:20.763Z"
   },
   {
    "duration": 862,
    "start_time": "2022-07-14T13:21:56.331Z"
   },
   {
    "duration": 800,
    "start_time": "2022-07-14T19:52:04.465Z"
   },
   {
    "duration": 157,
    "start_time": "2022-07-14T19:52:05.479Z"
   },
   {
    "duration": 18,
    "start_time": "2022-07-14T19:52:06.167Z"
   },
   {
    "duration": 18,
    "start_time": "2022-07-14T19:52:06.625Z"
   },
   {
    "duration": 4,
    "start_time": "2022-07-14T19:52:07.028Z"
   },
   {
    "duration": 9,
    "start_time": "2022-07-14T19:52:07.383Z"
   },
   {
    "duration": 11,
    "start_time": "2022-07-14T19:52:07.775Z"
   },
   {
    "duration": 20,
    "start_time": "2022-07-14T19:52:07.976Z"
   },
   {
    "duration": 8,
    "start_time": "2022-07-14T19:52:08.164Z"
   },
   {
    "duration": 4,
    "start_time": "2022-07-14T19:52:08.558Z"
   },
   {
    "duration": 9,
    "start_time": "2022-07-14T19:52:09.254Z"
   },
   {
    "duration": 14,
    "start_time": "2022-07-14T19:52:09.433Z"
   },
   {
    "duration": 7,
    "start_time": "2022-07-14T19:52:09.624Z"
   },
   {
    "duration": 14,
    "start_time": "2022-07-14T19:52:10.075Z"
   },
   {
    "duration": 213,
    "start_time": "2022-07-14T19:52:10.518Z"
   },
   {
    "duration": 307,
    "start_time": "2022-07-14T19:52:10.735Z"
   },
   {
    "duration": 1100,
    "start_time": "2022-07-14T19:52:11.044Z"
   },
   {
    "duration": 20,
    "start_time": "2022-07-14T19:52:42.729Z"
   },
   {
    "duration": 922,
    "start_time": "2022-07-14T19:53:12.974Z"
   },
   {
    "duration": 17,
    "start_time": "2022-07-14T20:00:25.945Z"
   },
   {
    "duration": 17,
    "start_time": "2022-07-14T20:01:27.438Z"
   },
   {
    "duration": 16,
    "start_time": "2022-07-14T20:01:42.176Z"
   },
   {
    "duration": 16,
    "start_time": "2022-07-14T20:02:01.243Z"
   },
   {
    "duration": 17,
    "start_time": "2022-07-14T20:02:12.438Z"
   },
   {
    "duration": 22,
    "start_time": "2022-07-14T20:02:38.349Z"
   },
   {
    "duration": 15,
    "start_time": "2022-07-14T20:02:46.470Z"
   },
   {
    "duration": 13,
    "start_time": "2022-07-14T20:02:56.613Z"
   },
   {
    "duration": 25,
    "start_time": "2022-07-14T20:03:20.698Z"
   },
   {
    "duration": 14,
    "start_time": "2022-07-14T20:03:32.637Z"
   },
   {
    "duration": 10,
    "start_time": "2022-07-14T20:03:45.824Z"
   },
   {
    "duration": 20,
    "start_time": "2022-07-14T20:04:16.079Z"
   },
   {
    "duration": 45,
    "start_time": "2022-07-14T20:10:02.344Z"
   },
   {
    "duration": 470,
    "start_time": "2022-07-14T20:10:19.385Z"
   },
   {
    "duration": 795,
    "start_time": "2022-07-14T20:10:42.350Z"
   },
   {
    "duration": 638,
    "start_time": "2022-07-14T20:11:25.946Z"
   },
   {
    "duration": 765,
    "start_time": "2022-07-14T20:12:31.835Z"
   },
   {
    "duration": 698,
    "start_time": "2022-07-14T20:13:09.254Z"
   },
   {
    "duration": 746,
    "start_time": "2022-07-14T20:13:47.298Z"
   },
   {
    "duration": 635,
    "start_time": "2022-07-14T20:13:57.499Z"
   },
   {
    "duration": 600,
    "start_time": "2022-07-14T20:14:30.399Z"
   },
   {
    "duration": 655,
    "start_time": "2022-07-14T20:14:38.831Z"
   },
   {
    "duration": 643,
    "start_time": "2022-07-14T20:15:20.524Z"
   },
   {
    "duration": 1368,
    "start_time": "2022-07-14T20:15:55.876Z"
   },
   {
    "duration": 1353,
    "start_time": "2022-07-14T20:16:56.727Z"
   },
   {
    "duration": 1121,
    "start_time": "2022-07-14T20:18:07.835Z"
   },
   {
    "duration": 1520,
    "start_time": "2022-07-14T20:18:45.480Z"
   },
   {
    "duration": 1368,
    "start_time": "2022-07-14T20:22:10.867Z"
   },
   {
    "duration": 972,
    "start_time": "2022-07-14T20:22:40.884Z"
   },
   {
    "duration": 1607,
    "start_time": "2022-07-14T20:22:54.829Z"
   },
   {
    "duration": 30,
    "start_time": "2022-07-14T20:26:14.494Z"
   },
   {
    "duration": 1509,
    "start_time": "2022-07-14T20:27:49.755Z"
   },
   {
    "duration": 588,
    "start_time": "2022-07-14T20:28:22.085Z"
   },
   {
    "duration": 573,
    "start_time": "2022-07-14T20:28:44.773Z"
   },
   {
    "duration": 665,
    "start_time": "2022-07-14T20:29:31.654Z"
   },
   {
    "duration": 536,
    "start_time": "2022-07-14T20:29:37.389Z"
   },
   {
    "duration": 690,
    "start_time": "2022-07-14T20:33:01.387Z"
   },
   {
    "duration": 20,
    "start_time": "2022-07-14T20:34:26.131Z"
   },
   {
    "duration": 1156,
    "start_time": "2022-07-14T20:34:52.089Z"
   },
   {
    "duration": 1395,
    "start_time": "2022-07-14T20:35:11.803Z"
   },
   {
    "duration": 1362,
    "start_time": "2022-07-14T20:35:24.965Z"
   },
   {
    "duration": 520,
    "start_time": "2022-07-14T20:37:17.849Z"
   },
   {
    "duration": 2596,
    "start_time": "2022-07-14T20:38:12.968Z"
   },
   {
    "duration": 646,
    "start_time": "2022-07-14T20:49:40.140Z"
   },
   {
    "duration": 96,
    "start_time": "2022-07-14T20:49:42.286Z"
   },
   {
    "duration": 17,
    "start_time": "2022-07-14T20:49:43.090Z"
   },
   {
    "duration": 14,
    "start_time": "2022-07-14T20:49:45.130Z"
   },
   {
    "duration": 4,
    "start_time": "2022-07-14T20:49:47.801Z"
   },
   {
    "duration": 10,
    "start_time": "2022-07-14T20:49:48.507Z"
   },
   {
    "duration": 11,
    "start_time": "2022-07-14T20:49:49.700Z"
   },
   {
    "duration": 21,
    "start_time": "2022-07-14T20:49:50.191Z"
   },
   {
    "duration": 7,
    "start_time": "2022-07-14T20:49:50.683Z"
   },
   {
    "duration": 5,
    "start_time": "2022-07-14T20:49:52.692Z"
   },
   {
    "duration": 11,
    "start_time": "2022-07-14T20:49:54.234Z"
   },
   {
    "duration": 19,
    "start_time": "2022-07-14T20:49:54.616Z"
   },
   {
    "duration": 5,
    "start_time": "2022-07-14T20:49:55.179Z"
   },
   {
    "duration": 15,
    "start_time": "2022-07-14T20:49:55.641Z"
   },
   {
    "duration": 189,
    "start_time": "2022-07-14T20:49:56.593Z"
   },
   {
    "duration": 323,
    "start_time": "2022-07-14T20:49:57.126Z"
   },
   {
    "duration": 594,
    "start_time": "2022-07-14T20:49:58.746Z"
   },
   {
    "duration": 1140,
    "start_time": "2022-07-14T20:50:37.718Z"
   },
   {
    "duration": 597,
    "start_time": "2022-07-14T20:54:21.035Z"
   },
   {
    "duration": 1285,
    "start_time": "2022-07-14T20:57:54.913Z"
   },
   {
    "duration": 188,
    "start_time": "2022-07-14T21:00:52.166Z"
   },
   {
    "duration": 357,
    "start_time": "2022-07-14T21:01:36.819Z"
   },
   {
    "duration": 1824,
    "start_time": "2022-07-14T21:01:44.315Z"
   },
   {
    "duration": 1154,
    "start_time": "2022-07-14T21:02:02.203Z"
   },
   {
    "duration": 358,
    "start_time": "2022-07-14T21:05:10.683Z"
   },
   {
    "duration": 523,
    "start_time": "2022-07-14T21:06:33.110Z"
   },
   {
    "duration": 316,
    "start_time": "2022-07-14T21:07:09.436Z"
   },
   {
    "duration": 1204,
    "start_time": "2022-07-14T21:09:29.230Z"
   },
   {
    "duration": 1170,
    "start_time": "2022-07-14T21:10:19.171Z"
   },
   {
    "duration": 619,
    "start_time": "2022-07-14T21:13:13.972Z"
   },
   {
    "duration": 50,
    "start_time": "2022-07-14T21:13:15.911Z"
   },
   {
    "duration": 18,
    "start_time": "2022-07-14T21:13:16.671Z"
   },
   {
    "duration": 16,
    "start_time": "2022-07-14T21:13:17.903Z"
   },
   {
    "duration": 3,
    "start_time": "2022-07-14T21:13:19.421Z"
   },
   {
    "duration": 9,
    "start_time": "2022-07-14T21:13:19.934Z"
   },
   {
    "duration": 11,
    "start_time": "2022-07-14T21:13:20.815Z"
   },
   {
    "duration": 18,
    "start_time": "2022-07-14T21:13:21.176Z"
   },
   {
    "duration": 7,
    "start_time": "2022-07-14T21:13:21.441Z"
   },
   {
    "duration": 5,
    "start_time": "2022-07-14T21:13:22.061Z"
   },
   {
    "duration": 9,
    "start_time": "2022-07-14T21:13:23.300Z"
   },
   {
    "duration": 14,
    "start_time": "2022-07-14T21:13:23.690Z"
   },
   {
    "duration": 4,
    "start_time": "2022-07-14T21:13:24.095Z"
   },
   {
    "duration": 15,
    "start_time": "2022-07-14T21:13:24.640Z"
   },
   {
    "duration": 344,
    "start_time": "2022-07-14T21:13:25.582Z"
   },
   {
    "duration": 291,
    "start_time": "2022-07-14T21:13:26.124Z"
   },
   {
    "duration": 387,
    "start_time": "2022-07-14T21:13:29.674Z"
   },
   {
    "duration": 5029,
    "start_time": "2022-07-14T21:14:10.190Z"
   },
   {
    "duration": 585,
    "start_time": "2022-07-14T21:14:40.998Z"
   },
   {
    "duration": 654,
    "start_time": "2022-07-14T21:15:05.880Z"
   },
   {
    "duration": 606,
    "start_time": "2022-07-14T21:15:29.715Z"
   },
   {
    "duration": 176,
    "start_time": "2022-07-14T21:18:26.774Z"
   },
   {
    "duration": 54,
    "start_time": "2022-07-14T21:18:40.135Z"
   },
   {
    "duration": 347,
    "start_time": "2022-07-14T21:18:46.468Z"
   },
   {
    "duration": 618,
    "start_time": "2022-07-14T21:22:24.261Z"
   },
   {
    "duration": 430,
    "start_time": "2022-07-14T21:24:44.249Z"
   },
   {
    "duration": 428,
    "start_time": "2022-07-14T21:27:16.516Z"
   },
   {
    "duration": 399,
    "start_time": "2022-07-14T21:28:16.051Z"
   },
   {
    "duration": 447,
    "start_time": "2022-07-14T21:28:32.968Z"
   },
   {
    "duration": 361,
    "start_time": "2022-07-14T21:30:55.533Z"
   },
   {
    "duration": 423,
    "start_time": "2022-07-14T21:34:01.342Z"
   },
   {
    "duration": 370,
    "start_time": "2022-07-14T21:34:29.797Z"
   },
   {
    "duration": 4,
    "start_time": "2022-07-14T21:36:35.350Z"
   },
   {
    "duration": 45,
    "start_time": "2022-07-14T21:36:37.033Z"
   },
   {
    "duration": 13,
    "start_time": "2022-07-14T21:36:37.576Z"
   },
   {
    "duration": 14,
    "start_time": "2022-07-14T21:36:38.747Z"
   },
   {
    "duration": 4,
    "start_time": "2022-07-14T21:36:39.572Z"
   },
   {
    "duration": 10,
    "start_time": "2022-07-14T21:36:39.939Z"
   },
   {
    "duration": 9,
    "start_time": "2022-07-14T21:36:40.832Z"
   },
   {
    "duration": 23,
    "start_time": "2022-07-14T21:36:41.105Z"
   },
   {
    "duration": 7,
    "start_time": "2022-07-14T21:36:41.336Z"
   },
   {
    "duration": 5,
    "start_time": "2022-07-14T21:36:42.044Z"
   },
   {
    "duration": 8,
    "start_time": "2022-07-14T21:36:44.946Z"
   },
   {
    "duration": 14,
    "start_time": "2022-07-14T21:36:45.169Z"
   },
   {
    "duration": 5,
    "start_time": "2022-07-14T21:36:45.465Z"
   },
   {
    "duration": 26,
    "start_time": "2022-07-14T21:36:45.812Z"
   },
   {
    "duration": 501,
    "start_time": "2022-07-14T21:36:46.396Z"
   },
   {
    "duration": 316,
    "start_time": "2022-07-14T21:36:46.900Z"
   },
   {
    "duration": 334,
    "start_time": "2022-07-14T21:36:49.477Z"
   },
   {
    "duration": 32,
    "start_time": "2022-07-14T21:41:47.269Z"
   },
   {
    "duration": 7,
    "start_time": "2022-07-14T21:42:31.090Z"
   },
   {
    "duration": 30,
    "start_time": "2022-07-14T21:42:55.294Z"
   },
   {
    "duration": 298,
    "start_time": "2022-07-14T21:43:49.421Z"
   },
   {
    "duration": 297,
    "start_time": "2022-07-14T21:49:33.461Z"
   },
   {
    "duration": 291,
    "start_time": "2022-07-14T21:50:32.900Z"
   },
   {
    "duration": 283,
    "start_time": "2022-07-14T21:51:19.538Z"
   },
   {
    "duration": 191,
    "start_time": "2022-07-14T21:52:22.424Z"
   },
   {
    "duration": 316,
    "start_time": "2022-07-14T21:53:41.228Z"
   },
   {
    "duration": 243,
    "start_time": "2022-07-14T21:59:36.240Z"
   },
   {
    "duration": 263,
    "start_time": "2022-07-14T22:00:30.626Z"
   },
   {
    "duration": 180,
    "start_time": "2022-07-14T22:01:34.573Z"
   },
   {
    "duration": 81,
    "start_time": "2022-07-14T22:05:19.294Z"
   },
   {
    "duration": 119,
    "start_time": "2022-07-14T22:05:32.045Z"
   },
   {
    "duration": 242,
    "start_time": "2022-07-14T22:08:20.460Z"
   },
   {
    "duration": 10,
    "start_time": "2022-07-14T22:08:46.884Z"
   },
   {
    "duration": 348,
    "start_time": "2022-07-14T22:12:05.119Z"
   },
   {
    "duration": 124,
    "start_time": "2022-07-14T22:12:18.706Z"
   },
   {
    "duration": 105,
    "start_time": "2022-07-14T22:13:08.538Z"
   },
   {
    "duration": 97,
    "start_time": "2022-07-14T22:14:29.784Z"
   },
   {
    "duration": 137,
    "start_time": "2022-07-14T22:17:13.974Z"
   },
   {
    "duration": 157,
    "start_time": "2022-07-14T22:17:40.691Z"
   },
   {
    "duration": 166,
    "start_time": "2022-07-14T22:18:08.491Z"
   },
   {
    "duration": 128,
    "start_time": "2022-07-14T22:19:23.430Z"
   },
   {
    "duration": 199,
    "start_time": "2022-07-14T22:19:35.392Z"
   },
   {
    "duration": 35,
    "start_time": "2022-07-14T22:28:14.840Z"
   },
   {
    "duration": 205,
    "start_time": "2022-07-14T22:28:25.682Z"
   },
   {
    "duration": 131,
    "start_time": "2022-07-14T22:29:38.169Z"
   },
   {
    "duration": 20,
    "start_time": "2022-07-14T22:31:10.259Z"
   },
   {
    "duration": 49,
    "start_time": "2022-07-14T22:31:44.906Z"
   },
   {
    "duration": 822,
    "start_time": "2022-07-14T22:31:51.484Z"
   },
   {
    "duration": 17,
    "start_time": "2022-07-14T22:32:03.045Z"
   },
   {
    "duration": 172,
    "start_time": "2022-07-14T22:32:15.203Z"
   },
   {
    "duration": 136,
    "start_time": "2022-07-14T22:33:31.487Z"
   },
   {
    "duration": 23,
    "start_time": "2022-07-14T22:35:40.761Z"
   },
   {
    "duration": 51,
    "start_time": "2022-07-14T22:38:30.559Z"
   },
   {
    "duration": 143,
    "start_time": "2022-07-14T22:38:40.613Z"
   },
   {
    "duration": 158,
    "start_time": "2022-07-14T22:39:07.303Z"
   },
   {
    "duration": 125,
    "start_time": "2022-07-14T22:40:44.053Z"
   },
   {
    "duration": 141,
    "start_time": "2022-07-14T22:40:50.654Z"
   },
   {
    "duration": 128,
    "start_time": "2022-07-14T22:41:28.410Z"
   },
   {
    "duration": 202,
    "start_time": "2022-07-14T22:42:05.935Z"
   },
   {
    "duration": 138,
    "start_time": "2022-07-14T22:42:06.145Z"
   },
   {
    "duration": 148,
    "start_time": "2022-07-14T22:43:12.697Z"
   },
   {
    "duration": 271,
    "start_time": "2022-07-14T22:43:41.478Z"
   },
   {
    "duration": 316,
    "start_time": "2022-07-14T22:44:45.159Z"
   },
   {
    "duration": 243,
    "start_time": "2022-07-14T22:45:14.735Z"
   },
   {
    "duration": 263,
    "start_time": "2022-07-14T22:45:47.484Z"
   },
   {
    "duration": 267,
    "start_time": "2022-07-14T22:46:12.866Z"
   },
   {
    "duration": 26,
    "start_time": "2022-07-14T22:49:37.125Z"
   },
   {
    "duration": 2,
    "start_time": "2022-07-14T22:49:48.567Z"
   },
   {
    "duration": 47,
    "start_time": "2022-07-14T22:49:49.515Z"
   },
   {
    "duration": 13,
    "start_time": "2022-07-14T22:49:49.968Z"
   },
   {
    "duration": 15,
    "start_time": "2022-07-14T22:49:50.766Z"
   },
   {
    "duration": 4,
    "start_time": "2022-07-14T22:49:51.507Z"
   },
   {
    "duration": 10,
    "start_time": "2022-07-14T22:49:51.864Z"
   },
   {
    "duration": 10,
    "start_time": "2022-07-14T22:49:52.823Z"
   },
   {
    "duration": 19,
    "start_time": "2022-07-14T22:49:53.321Z"
   },
   {
    "duration": 7,
    "start_time": "2022-07-14T22:49:53.826Z"
   },
   {
    "duration": 4,
    "start_time": "2022-07-14T22:49:54.830Z"
   },
   {
    "duration": 9,
    "start_time": "2022-07-14T22:49:56.151Z"
   },
   {
    "duration": 13,
    "start_time": "2022-07-14T22:49:56.573Z"
   },
   {
    "duration": 5,
    "start_time": "2022-07-14T22:49:56.977Z"
   },
   {
    "duration": 14,
    "start_time": "2022-07-14T22:49:57.373Z"
   },
   {
    "duration": 577,
    "start_time": "2022-07-14T22:49:58.453Z"
   },
   {
    "duration": 287,
    "start_time": "2022-07-14T22:50:00.079Z"
   },
   {
    "duration": 24,
    "start_time": "2022-07-14T22:50:02.007Z"
   },
   {
    "duration": 23,
    "start_time": "2022-07-14T22:50:37.484Z"
   },
   {
    "duration": 315,
    "start_time": "2022-07-14T22:51:10.207Z"
   },
   {
    "duration": 295,
    "start_time": "2022-07-14T22:52:47.241Z"
   },
   {
    "duration": 189,
    "start_time": "2022-07-14T22:53:13.784Z"
   },
   {
    "duration": 163,
    "start_time": "2022-07-14T22:54:00.223Z"
   },
   {
    "duration": 174,
    "start_time": "2022-07-14T22:54:14.680Z"
   },
   {
    "duration": 161,
    "start_time": "2022-07-14T22:54:34.310Z"
   },
   {
    "duration": 314,
    "start_time": "2022-07-14T22:55:11.946Z"
   },
   {
    "duration": 258,
    "start_time": "2022-07-14T22:55:25.725Z"
   },
   {
    "duration": 289,
    "start_time": "2022-07-14T22:56:56.080Z"
   },
   {
    "duration": 258,
    "start_time": "2022-07-14T22:57:08.038Z"
   },
   {
    "duration": 297,
    "start_time": "2022-07-14T22:58:32.279Z"
   },
   {
    "duration": 296,
    "start_time": "2022-07-14T22:58:36.034Z"
   },
   {
    "duration": 403,
    "start_time": "2022-07-14T22:58:43.582Z"
   },
   {
    "duration": 299,
    "start_time": "2022-07-14T22:58:46.173Z"
   },
   {
    "duration": 283,
    "start_time": "2022-07-14T22:58:46.766Z"
   },
   {
    "duration": 8,
    "start_time": "2022-07-14T23:02:48.007Z"
   },
   {
    "duration": 9,
    "start_time": "2022-07-14T23:04:35.144Z"
   },
   {
    "duration": 9,
    "start_time": "2022-07-14T23:05:42.683Z"
   },
   {
    "duration": 215,
    "start_time": "2022-07-14T23:07:59.043Z"
   },
   {
    "duration": 9,
    "start_time": "2022-07-14T23:11:07.524Z"
   },
   {
    "duration": 10,
    "start_time": "2022-07-14T23:11:08.237Z"
   },
   {
    "duration": 12,
    "start_time": "2022-07-14T23:11:23.353Z"
   },
   {
    "duration": 14,
    "start_time": "2022-07-14T23:11:41.638Z"
   },
   {
    "duration": 16,
    "start_time": "2022-07-14T23:11:59.611Z"
   },
   {
    "duration": 17,
    "start_time": "2022-07-14T23:13:04.013Z"
   },
   {
    "duration": 15,
    "start_time": "2022-07-14T23:14:38.070Z"
   },
   {
    "duration": 14,
    "start_time": "2022-07-14T23:16:15.138Z"
   },
   {
    "duration": 15,
    "start_time": "2022-07-14T23:17:17.671Z"
   },
   {
    "duration": 2,
    "start_time": "2022-07-14T23:21:39.952Z"
   },
   {
    "duration": 46,
    "start_time": "2022-07-14T23:21:41.055Z"
   },
   {
    "duration": 13,
    "start_time": "2022-07-14T23:21:41.300Z"
   },
   {
    "duration": 13,
    "start_time": "2022-07-14T23:21:41.669Z"
   },
   {
    "duration": 4,
    "start_time": "2022-07-14T23:21:42.205Z"
   },
   {
    "duration": 9,
    "start_time": "2022-07-14T23:21:42.541Z"
   },
   {
    "duration": 8,
    "start_time": "2022-07-14T23:21:43.065Z"
   },
   {
    "duration": 19,
    "start_time": "2022-07-14T23:21:43.355Z"
   },
   {
    "duration": 8,
    "start_time": "2022-07-14T23:21:43.632Z"
   },
   {
    "duration": 4,
    "start_time": "2022-07-14T23:21:44.215Z"
   },
   {
    "duration": 8,
    "start_time": "2022-07-14T23:21:45.056Z"
   },
   {
    "duration": 14,
    "start_time": "2022-07-14T23:21:45.300Z"
   },
   {
    "duration": 6,
    "start_time": "2022-07-14T23:21:45.537Z"
   },
   {
    "duration": 14,
    "start_time": "2022-07-14T23:21:45.805Z"
   },
   {
    "duration": 315,
    "start_time": "2022-07-14T23:21:46.354Z"
   },
   {
    "duration": 271,
    "start_time": "2022-07-14T23:21:46.741Z"
   },
   {
    "duration": 560,
    "start_time": "2022-07-14T23:21:47.096Z"
   },
   {
    "duration": 24,
    "start_time": "2022-07-14T23:21:47.818Z"
   },
   {
    "duration": 187,
    "start_time": "2022-07-14T23:21:48.599Z"
   },
   {
    "duration": 338,
    "start_time": "2022-07-14T23:21:49.167Z"
   },
   {
    "duration": 267,
    "start_time": "2022-07-14T23:21:49.512Z"
   },
   {
    "duration": 13,
    "start_time": "2022-07-14T23:21:50.006Z"
   },
   {
    "duration": 277,
    "start_time": "2022-07-14T23:21:50.626Z"
   },
   {
    "duration": 14,
    "start_time": "2022-07-14T23:21:51.155Z"
   },
   {
    "duration": 276,
    "start_time": "2022-07-14T23:21:51.752Z"
   },
   {
    "duration": 15,
    "start_time": "2022-07-14T23:21:52.464Z"
   },
   {
    "duration": 277,
    "start_time": "2022-07-14T23:21:53.040Z"
   },
   {
    "duration": 22,
    "start_time": "2022-07-14T23:21:55.237Z"
   },
   {
    "duration": 310,
    "start_time": "2022-07-14T23:21:55.993Z"
   },
   {
    "duration": 14,
    "start_time": "2022-07-14T23:21:56.909Z"
   },
   {
    "duration": 196,
    "start_time": "2022-07-14T23:21:58.144Z"
   },
   {
    "duration": 267,
    "start_time": "2022-07-14T23:23:28.251Z"
   },
   {
    "duration": 303,
    "start_time": "2022-07-14T23:25:13.835Z"
   },
   {
    "duration": 275,
    "start_time": "2022-07-14T23:25:28.618Z"
   },
   {
    "duration": 854,
    "start_time": "2022-07-14T23:26:13.203Z"
   },
   {
    "duration": 798,
    "start_time": "2022-07-14T23:26:40.498Z"
   },
   {
    "duration": 818,
    "start_time": "2022-07-14T23:28:38.072Z"
   },
   {
    "duration": 131,
    "start_time": "2022-07-14T23:33:02.752Z"
   },
   {
    "duration": 16,
    "start_time": "2022-07-14T23:34:25.779Z"
   },
   {
    "duration": 44,
    "start_time": "2022-07-14T23:34:38.391Z"
   },
   {
    "duration": 48,
    "start_time": "2022-07-14T23:35:17.549Z"
   },
   {
    "duration": 14,
    "start_time": "2022-07-14T23:35:44.175Z"
   },
   {
    "duration": 13,
    "start_time": "2022-07-14T23:37:09.513Z"
   },
   {
    "duration": 14,
    "start_time": "2022-07-14T23:37:56.768Z"
   },
   {
    "duration": 17,
    "start_time": "2022-07-14T23:39:03.922Z"
   },
   {
    "duration": 14,
    "start_time": "2022-07-14T23:39:24.014Z"
   },
   {
    "duration": 468,
    "start_time": "2022-07-14T23:41:02.991Z"
   },
   {
    "duration": 764,
    "start_time": "2022-07-15T17:44:27.767Z"
   },
   {
    "duration": 105,
    "start_time": "2022-07-15T17:44:30.022Z"
   },
   {
    "duration": 17,
    "start_time": "2022-07-15T17:44:31.877Z"
   },
   {
    "duration": 18,
    "start_time": "2022-07-15T17:44:34.228Z"
   },
   {
    "duration": 3,
    "start_time": "2022-07-15T17:44:35.746Z"
   },
   {
    "duration": 9,
    "start_time": "2022-07-15T17:44:36.335Z"
   },
   {
    "duration": 24,
    "start_time": "2022-07-15T17:44:37.407Z"
   },
   {
    "duration": 20,
    "start_time": "2022-07-15T17:44:37.874Z"
   },
   {
    "duration": 8,
    "start_time": "2022-07-15T17:44:39.445Z"
   },
   {
    "duration": 4,
    "start_time": "2022-07-15T17:44:40.666Z"
   },
   {
    "duration": 11,
    "start_time": "2022-07-15T17:44:42.160Z"
   },
   {
    "duration": 14,
    "start_time": "2022-07-15T17:44:42.619Z"
   },
   {
    "duration": 6,
    "start_time": "2022-07-15T17:44:43.109Z"
   },
   {
    "duration": 14,
    "start_time": "2022-07-15T17:44:43.896Z"
   },
   {
    "duration": 414,
    "start_time": "2022-07-15T17:44:46.097Z"
   },
   {
    "duration": 311,
    "start_time": "2022-07-15T17:44:47.235Z"
   },
   {
    "duration": 468,
    "start_time": "2022-07-15T17:44:47.845Z"
   },
   {
    "duration": 41,
    "start_time": "2022-07-15T17:44:48.488Z"
   },
   {
    "duration": 197,
    "start_time": "2022-07-15T17:44:49.043Z"
   },
   {
    "duration": 359,
    "start_time": "2022-07-15T17:44:49.705Z"
   },
   {
    "duration": 289,
    "start_time": "2022-07-15T17:44:50.391Z"
   },
   {
    "duration": 16,
    "start_time": "2022-07-15T17:44:50.981Z"
   },
   {
    "duration": 295,
    "start_time": "2022-07-15T17:44:51.717Z"
   },
   {
    "duration": 16,
    "start_time": "2022-07-15T17:44:52.520Z"
   },
   {
    "duration": 300,
    "start_time": "2022-07-15T17:44:53.164Z"
   },
   {
    "duration": 14,
    "start_time": "2022-07-15T17:44:54.117Z"
   },
   {
    "duration": 355,
    "start_time": "2022-07-15T17:44:54.700Z"
   },
   {
    "duration": 14,
    "start_time": "2022-07-15T17:44:55.649Z"
   },
   {
    "duration": 287,
    "start_time": "2022-07-15T17:44:56.237Z"
   },
   {
    "duration": 15,
    "start_time": "2022-07-15T17:44:56.971Z"
   },
   {
    "duration": 212,
    "start_time": "2022-07-15T17:44:57.700Z"
   },
   {
    "duration": 879,
    "start_time": "2022-07-15T17:44:59.119Z"
   },
   {
    "duration": 686,
    "start_time": "2022-07-15T17:45:00.011Z"
   },
   {
    "duration": 545,
    "start_time": "2022-07-15T17:45:00.699Z"
   },
   {
    "duration": 474,
    "start_time": "2022-07-15T17:59:51.032Z"
   },
   {
    "duration": 10,
    "start_time": "2022-07-15T17:59:52.898Z"
   },
   {
    "duration": 12,
    "start_time": "2022-07-15T18:00:16.794Z"
   },
   {
    "duration": 5,
    "start_time": "2022-07-15T18:01:30.890Z"
   },
   {
    "duration": 11,
    "start_time": "2022-07-15T18:03:23.179Z"
   },
   {
    "duration": 12,
    "start_time": "2022-07-15T18:04:13.336Z"
   },
   {
    "duration": 11,
    "start_time": "2022-07-15T18:05:39.061Z"
   },
   {
    "duration": 10,
    "start_time": "2022-07-15T18:06:27.037Z"
   },
   {
    "duration": 2,
    "start_time": "2022-07-15T18:07:55.569Z"
   },
   {
    "duration": 13,
    "start_time": "2022-07-15T18:07:56.224Z"
   },
   {
    "duration": 11,
    "start_time": "2022-07-15T18:12:11.740Z"
   },
   {
    "duration": 10,
    "start_time": "2022-07-15T18:36:02.104Z"
   },
   {
    "duration": 10,
    "start_time": "2022-07-15T18:38:02.265Z"
   },
   {
    "duration": 326,
    "start_time": "2022-07-15T18:58:12.749Z"
   },
   {
    "duration": 2,
    "start_time": "2022-07-15T19:01:35.825Z"
   },
   {
    "duration": 49,
    "start_time": "2022-07-15T19:01:36.841Z"
   },
   {
    "duration": 14,
    "start_time": "2022-07-15T19:01:37.333Z"
   },
   {
    "duration": 20,
    "start_time": "2022-07-15T19:01:38.218Z"
   },
   {
    "duration": 3,
    "start_time": "2022-07-15T19:01:39.359Z"
   },
   {
    "duration": 9,
    "start_time": "2022-07-15T19:01:40.152Z"
   },
   {
    "duration": 9,
    "start_time": "2022-07-15T19:01:40.855Z"
   },
   {
    "duration": 20,
    "start_time": "2022-07-15T19:01:41.203Z"
   },
   {
    "duration": 9,
    "start_time": "2022-07-15T19:01:41.602Z"
   },
   {
    "duration": 5,
    "start_time": "2022-07-15T19:01:42.311Z"
   },
   {
    "duration": 8,
    "start_time": "2022-07-15T19:01:44.018Z"
   },
   {
    "duration": 14,
    "start_time": "2022-07-15T19:01:44.469Z"
   },
   {
    "duration": 5,
    "start_time": "2022-07-15T19:01:45.381Z"
   },
   {
    "duration": 15,
    "start_time": "2022-07-15T19:01:45.921Z"
   },
   {
    "duration": 350,
    "start_time": "2022-07-15T19:01:47.591Z"
   },
   {
    "duration": 115,
    "start_time": "2022-07-15T19:07:36.081Z"
   },
   {
    "duration": 338,
    "start_time": "2022-07-15T19:07:48.994Z"
   },
   {
    "duration": 391,
    "start_time": "2022-07-15T19:10:16.870Z"
   },
   {
    "duration": 347,
    "start_time": "2022-07-15T19:10:37.764Z"
   },
   {
    "duration": 36,
    "start_time": "2022-07-15T19:13:24.691Z"
   },
   {
    "duration": 25,
    "start_time": "2022-07-15T19:15:12.237Z"
   },
   {
    "duration": 432,
    "start_time": "2022-07-15T19:20:37.980Z"
   },
   {
    "duration": 351,
    "start_time": "2022-07-15T19:20:59.517Z"
   },
   {
    "duration": 364,
    "start_time": "2022-07-15T19:21:19.165Z"
   },
   {
    "duration": 364,
    "start_time": "2022-07-15T19:25:34.364Z"
   },
   {
    "duration": 801,
    "start_time": "2022-07-16T06:22:31.128Z"
   },
   {
    "duration": 98,
    "start_time": "2022-07-16T06:22:32.813Z"
   },
   {
    "duration": 20,
    "start_time": "2022-07-16T06:22:33.407Z"
   },
   {
    "duration": 16,
    "start_time": "2022-07-16T06:22:38.650Z"
   },
   {
    "duration": 5,
    "start_time": "2022-07-16T06:22:38.668Z"
   },
   {
    "duration": 12,
    "start_time": "2022-07-16T06:22:38.675Z"
   },
   {
    "duration": 11,
    "start_time": "2022-07-16T06:22:41.907Z"
   },
   {
    "duration": 21,
    "start_time": "2022-07-16T06:22:42.749Z"
   },
   {
    "duration": 7,
    "start_time": "2022-07-16T06:22:43.318Z"
   },
   {
    "duration": 6,
    "start_time": "2022-07-16T06:22:44.682Z"
   },
   {
    "duration": 9,
    "start_time": "2022-07-16T06:22:46.786Z"
   },
   {
    "duration": 14,
    "start_time": "2022-07-16T06:22:47.262Z"
   },
   {
    "duration": 5,
    "start_time": "2022-07-16T06:22:48.245Z"
   },
   {
    "duration": 18,
    "start_time": "2022-07-16T06:22:48.896Z"
   },
   {
    "duration": 352,
    "start_time": "2022-07-16T06:22:50.853Z"
   },
   {
    "duration": 298,
    "start_time": "2022-07-16T06:22:53.111Z"
   },
   {
    "duration": 390,
    "start_time": "2022-07-16T06:22:54.266Z"
   },
   {
    "duration": 24,
    "start_time": "2022-07-16T06:22:56.157Z"
   },
   {
    "duration": 194,
    "start_time": "2022-07-16T06:22:57.538Z"
   },
   {
    "duration": 404,
    "start_time": "2022-07-16T06:31:39.909Z"
   },
   {
    "duration": 110,
    "start_time": "2022-07-16T06:58:02.757Z"
   },
   {
    "duration": 3,
    "start_time": "2022-07-16T06:58:12.896Z"
   },
   {
    "duration": 54,
    "start_time": "2022-07-16T06:58:14.054Z"
   },
   {
    "duration": 16,
    "start_time": "2022-07-16T06:58:14.450Z"
   },
   {
    "duration": 23,
    "start_time": "2022-07-16T06:58:15.458Z"
   },
   {
    "duration": 4,
    "start_time": "2022-07-16T06:58:16.352Z"
   },
   {
    "duration": 10,
    "start_time": "2022-07-16T06:58:16.896Z"
   },
   {
    "duration": 13,
    "start_time": "2022-07-16T06:58:17.366Z"
   },
   {
    "duration": 22,
    "start_time": "2022-07-16T06:58:17.570Z"
   },
   {
    "duration": 8,
    "start_time": "2022-07-16T06:58:17.969Z"
   },
   {
    "duration": 6,
    "start_time": "2022-07-16T06:58:18.658Z"
   },
   {
    "duration": 9,
    "start_time": "2022-07-16T06:58:19.913Z"
   },
   {
    "duration": 14,
    "start_time": "2022-07-16T06:58:20.093Z"
   },
   {
    "duration": 7,
    "start_time": "2022-07-16T06:58:20.869Z"
   },
   {
    "duration": 16,
    "start_time": "2022-07-16T06:58:21.014Z"
   },
   {
    "duration": 405,
    "start_time": "2022-07-16T06:58:21.621Z"
   },
   {
    "duration": 391,
    "start_time": "2022-07-16T06:58:22.222Z"
   },
   {
    "duration": 481,
    "start_time": "2022-07-16T06:58:22.616Z"
   },
   {
    "duration": 40,
    "start_time": "2022-07-16T06:58:23.191Z"
   },
   {
    "duration": 418,
    "start_time": "2022-07-16T06:58:23.621Z"
   },
   {
    "duration": 592,
    "start_time": "2022-07-16T06:58:24.270Z"
   },
   {
    "duration": 496,
    "start_time": "2022-07-16T06:58:24.875Z"
   },
   {
    "duration": 22,
    "start_time": "2022-07-16T06:58:25.374Z"
   },
   {
    "duration": 498,
    "start_time": "2022-07-16T06:58:25.397Z"
   },
   {
    "duration": 70,
    "start_time": "2022-07-16T06:58:25.898Z"
   },
   {
    "duration": 542,
    "start_time": "2022-07-16T06:58:25.976Z"
   },
   {
    "duration": 32,
    "start_time": "2022-07-16T06:58:26.923Z"
   },
   {
    "duration": 490,
    "start_time": "2022-07-16T06:58:27.125Z"
   },
   {
    "duration": 47,
    "start_time": "2022-07-16T06:58:27.617Z"
   },
   {
    "duration": 519,
    "start_time": "2022-07-16T06:58:27.673Z"
   },
   {
    "duration": 18,
    "start_time": "2022-07-16T06:58:28.195Z"
   },
   {
    "duration": 306,
    "start_time": "2022-07-16T06:58:28.215Z"
   },
   {
    "duration": 1269,
    "start_time": "2022-07-16T06:58:29.422Z"
   },
   {
    "duration": 914,
    "start_time": "2022-07-16T06:58:30.693Z"
   },
   {
    "duration": 837,
    "start_time": "2022-07-16T06:58:32.777Z"
   },
   {
    "duration": 11,
    "start_time": "2022-07-16T06:58:35.816Z"
   },
   {
    "duration": 851,
    "start_time": "2022-07-16T09:06:31.267Z"
   },
   {
    "duration": 120,
    "start_time": "2022-07-16T09:06:33.500Z"
   },
   {
    "duration": 17,
    "start_time": "2022-07-16T09:06:34.428Z"
   },
   {
    "duration": 17,
    "start_time": "2022-07-16T09:06:35.199Z"
   },
   {
    "duration": 3,
    "start_time": "2022-07-16T09:06:35.905Z"
   },
   {
    "duration": 11,
    "start_time": "2022-07-16T09:06:36.277Z"
   },
   {
    "duration": 12,
    "start_time": "2022-07-16T09:06:36.656Z"
   },
   {
    "duration": 22,
    "start_time": "2022-07-16T09:06:36.848Z"
   },
   {
    "duration": 8,
    "start_time": "2022-07-16T09:06:37.053Z"
   },
   {
    "duration": 5,
    "start_time": "2022-07-16T09:06:37.404Z"
   },
   {
    "duration": 10,
    "start_time": "2022-07-16T09:06:38.478Z"
   },
   {
    "duration": 15,
    "start_time": "2022-07-16T09:06:38.668Z"
   },
   {
    "duration": 5,
    "start_time": "2022-07-16T09:06:39.132Z"
   },
   {
    "duration": 20,
    "start_time": "2022-07-16T09:06:39.368Z"
   },
   {
    "duration": 348,
    "start_time": "2022-07-16T09:06:40.011Z"
   },
   {
    "duration": 313,
    "start_time": "2022-07-16T09:06:40.669Z"
   },
   {
    "duration": 435,
    "start_time": "2022-07-16T09:06:41.428Z"
   },
   {
    "duration": 25,
    "start_time": "2022-07-16T09:06:42.140Z"
   },
   {
    "duration": 193,
    "start_time": "2022-07-16T09:06:42.816Z"
   },
   {
    "duration": 352,
    "start_time": "2022-07-16T09:06:44.296Z"
   },
   {
    "duration": 276,
    "start_time": "2022-07-16T09:08:16.099Z"
   },
   {
    "duration": 14,
    "start_time": "2022-07-16T09:08:21.119Z"
   },
   {
    "duration": 273,
    "start_time": "2022-07-16T09:08:21.897Z"
   },
   {
    "duration": 16,
    "start_time": "2022-07-16T09:08:24.416Z"
   },
   {
    "duration": 315,
    "start_time": "2022-07-16T09:08:25.011Z"
   },
   {
    "duration": 15,
    "start_time": "2022-07-16T09:08:25.576Z"
   },
   {
    "duration": 365,
    "start_time": "2022-07-16T09:08:26.071Z"
   },
   {
    "duration": 14,
    "start_time": "2022-07-16T09:08:26.577Z"
   },
   {
    "duration": 279,
    "start_time": "2022-07-16T09:08:27.162Z"
   },
   {
    "duration": 15,
    "start_time": "2022-07-16T09:08:27.739Z"
   },
   {
    "duration": 187,
    "start_time": "2022-07-16T09:08:31.690Z"
   },
   {
    "duration": 862,
    "start_time": "2022-07-16T09:08:38.845Z"
   },
   {
    "duration": 880,
    "start_time": "2022-07-16T09:43:36.058Z"
   },
   {
    "duration": 542,
    "start_time": "2022-07-16T09:46:51.113Z"
   },
   {
    "duration": 892,
    "start_time": "2022-07-16T11:30:26.203Z"
   },
   {
    "duration": 135,
    "start_time": "2022-07-16T11:30:27.969Z"
   },
   {
    "duration": 35,
    "start_time": "2022-07-16T11:30:28.420Z"
   },
   {
    "duration": 16,
    "start_time": "2022-07-16T11:30:29.062Z"
   },
   {
    "duration": 3,
    "start_time": "2022-07-16T11:30:29.788Z"
   },
   {
    "duration": 12,
    "start_time": "2022-07-16T11:30:30.362Z"
   },
   {
    "duration": 18,
    "start_time": "2022-07-16T11:30:30.826Z"
   },
   {
    "duration": 21,
    "start_time": "2022-07-16T11:30:30.992Z"
   },
   {
    "duration": 7,
    "start_time": "2022-07-16T11:30:31.205Z"
   },
   {
    "duration": 4,
    "start_time": "2022-07-16T11:30:31.815Z"
   },
   {
    "duration": 9,
    "start_time": "2022-07-16T11:30:32.900Z"
   },
   {
    "duration": 22,
    "start_time": "2022-07-16T11:30:33.119Z"
   },
   {
    "duration": 12,
    "start_time": "2022-07-16T11:30:33.549Z"
   },
   {
    "duration": 23,
    "start_time": "2022-07-16T11:30:33.716Z"
   },
   {
    "duration": 447,
    "start_time": "2022-07-16T11:30:34.468Z"
   },
   {
    "duration": 365,
    "start_time": "2022-07-16T11:30:34.917Z"
   },
   {
    "duration": 473,
    "start_time": "2022-07-16T11:30:35.465Z"
   },
   {
    "duration": 33,
    "start_time": "2022-07-16T11:30:35.940Z"
   },
   {
    "duration": 238,
    "start_time": "2022-07-16T11:30:36.458Z"
   },
   {
    "duration": 454,
    "start_time": "2022-07-16T11:30:37.084Z"
   },
   {
    "duration": 372,
    "start_time": "2022-07-16T11:30:38.249Z"
   },
   {
    "duration": 26,
    "start_time": "2022-07-16T11:30:38.623Z"
   },
   {
    "duration": 366,
    "start_time": "2022-07-16T11:30:38.656Z"
   },
   {
    "duration": 22,
    "start_time": "2022-07-16T11:30:39.025Z"
   },
   {
    "duration": 372,
    "start_time": "2022-07-16T11:30:39.050Z"
   },
   {
    "duration": 23,
    "start_time": "2022-07-16T11:30:39.424Z"
   },
   {
    "duration": 424,
    "start_time": "2022-07-16T11:30:39.491Z"
   },
   {
    "duration": 24,
    "start_time": "2022-07-16T11:30:39.918Z"
   },
   {
    "duration": 326,
    "start_time": "2022-07-16T11:30:39.957Z"
   },
   {
    "duration": 13,
    "start_time": "2022-07-16T11:30:40.664Z"
   },
   {
    "duration": 261,
    "start_time": "2022-07-16T11:30:41.280Z"
   },
   {
    "duration": 1003,
    "start_time": "2022-07-16T11:30:43.259Z"
   },
   {
    "duration": 780,
    "start_time": "2022-07-16T11:30:44.264Z"
   },
   {
    "duration": 615,
    "start_time": "2022-07-16T11:30:47.378Z"
   },
   {
    "duration": 12,
    "start_time": "2022-07-16T12:24:19.617Z"
   },
   {
    "duration": 596,
    "start_time": "2022-07-16T12:25:43.349Z"
   },
   {
    "duration": 13,
    "start_time": "2022-07-16T12:25:46.190Z"
   },
   {
    "duration": 11,
    "start_time": "2022-07-16T12:30:28.862Z"
   },
   {
    "duration": 114,
    "start_time": "2022-07-16T12:30:44.257Z"
   },
   {
    "duration": 12,
    "start_time": "2022-07-16T12:31:44.349Z"
   },
   {
    "duration": 13,
    "start_time": "2022-07-16T12:32:34.552Z"
   },
   {
    "duration": 10,
    "start_time": "2022-07-16T12:33:58.897Z"
   },
   {
    "duration": 10,
    "start_time": "2022-07-16T12:34:35.976Z"
   },
   {
    "duration": 733,
    "start_time": "2022-07-17T13:05:24.651Z"
   },
   {
    "duration": 96,
    "start_time": "2022-07-17T13:05:26.451Z"
   },
   {
    "duration": 19,
    "start_time": "2022-07-17T13:05:27.163Z"
   },
   {
    "duration": 15,
    "start_time": "2022-07-17T13:05:29.362Z"
   },
   {
    "duration": 4,
    "start_time": "2022-07-17T13:05:31.552Z"
   },
   {
    "duration": 10,
    "start_time": "2022-07-17T13:05:32.653Z"
   },
   {
    "duration": 10,
    "start_time": "2022-07-17T13:05:33.824Z"
   },
   {
    "duration": 22,
    "start_time": "2022-07-17T13:05:33.998Z"
   },
   {
    "duration": 10,
    "start_time": "2022-07-17T13:05:34.463Z"
   },
   {
    "duration": 6,
    "start_time": "2022-07-17T13:05:35.429Z"
   },
   {
    "duration": 9,
    "start_time": "2022-07-17T13:05:37.061Z"
   },
   {
    "duration": 13,
    "start_time": "2022-07-17T13:05:37.451Z"
   },
   {
    "duration": 5,
    "start_time": "2022-07-17T13:05:38.685Z"
   },
   {
    "duration": 14,
    "start_time": "2022-07-17T13:05:39.118Z"
   },
   {
    "duration": 352,
    "start_time": "2022-07-17T13:05:42.975Z"
   },
   {
    "duration": 319,
    "start_time": "2022-07-17T13:05:50.910Z"
   },
   {
    "duration": 399,
    "start_time": "2022-07-17T13:06:06.077Z"
   },
   {
    "duration": 26,
    "start_time": "2022-07-17T13:06:08.754Z"
   },
   {
    "duration": 226,
    "start_time": "2022-07-17T13:06:10.972Z"
   },
   {
    "duration": 353,
    "start_time": "2022-07-17T13:06:24.251Z"
   },
   {
    "duration": 291,
    "start_time": "2022-07-17T13:06:26.281Z"
   },
   {
    "duration": 13,
    "start_time": "2022-07-17T13:06:29.764Z"
   },
   {
    "duration": 302,
    "start_time": "2022-07-17T13:06:31.150Z"
   },
   {
    "duration": 15,
    "start_time": "2022-07-17T13:06:31.767Z"
   },
   {
    "duration": 283,
    "start_time": "2022-07-17T13:06:32.359Z"
   },
   {
    "duration": 13,
    "start_time": "2022-07-17T13:06:33.337Z"
   },
   {
    "duration": 406,
    "start_time": "2022-07-17T13:06:34.061Z"
   },
   {
    "duration": 19,
    "start_time": "2022-07-17T13:06:35.184Z"
   },
   {
    "duration": 364,
    "start_time": "2022-07-17T13:06:36.410Z"
   },
   {
    "duration": 17,
    "start_time": "2022-07-17T13:06:37.315Z"
   },
   {
    "duration": 192,
    "start_time": "2022-07-17T13:06:40.232Z"
   },
   {
    "duration": 3,
    "start_time": "2022-07-17T13:19:50.062Z"
   },
   {
    "duration": 62,
    "start_time": "2022-07-17T13:19:50.067Z"
   },
   {
    "duration": 14,
    "start_time": "2022-07-17T13:19:50.131Z"
   },
   {
    "duration": 25,
    "start_time": "2022-07-17T13:19:50.146Z"
   },
   {
    "duration": 8,
    "start_time": "2022-07-17T13:19:50.173Z"
   },
   {
    "duration": 34,
    "start_time": "2022-07-17T13:19:50.183Z"
   },
   {
    "duration": 30,
    "start_time": "2022-07-17T13:19:50.219Z"
   },
   {
    "duration": 65,
    "start_time": "2022-07-17T13:19:50.251Z"
   },
   {
    "duration": 10,
    "start_time": "2022-07-17T13:19:50.319Z"
   },
   {
    "duration": 30,
    "start_time": "2022-07-17T13:19:50.331Z"
   },
   {
    "duration": 19,
    "start_time": "2022-07-17T13:19:50.363Z"
   },
   {
    "duration": 30,
    "start_time": "2022-07-17T13:19:50.383Z"
   },
   {
    "duration": 22,
    "start_time": "2022-07-17T13:19:50.415Z"
   },
   {
    "duration": 34,
    "start_time": "2022-07-17T13:19:50.439Z"
   },
   {
    "duration": 358,
    "start_time": "2022-07-17T13:19:50.475Z"
   },
   {
    "duration": 297,
    "start_time": "2022-07-17T13:19:50.950Z"
   },
   {
    "duration": 452,
    "start_time": "2022-07-17T13:19:51.386Z"
   },
   {
    "duration": 24,
    "start_time": "2022-07-17T13:19:52.017Z"
   },
   {
    "duration": 191,
    "start_time": "2022-07-17T13:19:52.426Z"
   },
   {
    "duration": 341,
    "start_time": "2022-07-17T13:19:53.056Z"
   },
   {
    "duration": 279,
    "start_time": "2022-07-17T13:19:53.662Z"
   },
   {
    "duration": 14,
    "start_time": "2022-07-17T13:19:54.024Z"
   },
   {
    "duration": 279,
    "start_time": "2022-07-17T13:19:54.439Z"
   },
   {
    "duration": 14,
    "start_time": "2022-07-17T13:19:54.720Z"
   },
   {
    "duration": 286,
    "start_time": "2022-07-17T13:19:54.863Z"
   },
   {
    "duration": 14,
    "start_time": "2022-07-17T13:19:55.151Z"
   },
   {
    "duration": 283,
    "start_time": "2022-07-17T13:19:55.253Z"
   },
   {
    "duration": 14,
    "start_time": "2022-07-17T13:19:55.538Z"
   },
   {
    "duration": 270,
    "start_time": "2022-07-17T13:19:55.713Z"
   },
   {
    "duration": 25,
    "start_time": "2022-07-17T13:19:55.985Z"
   },
   {
    "duration": 299,
    "start_time": "2022-07-17T13:19:56.334Z"
   },
   {
    "duration": 810,
    "start_time": "2022-07-17T13:19:57.374Z"
   },
   {
    "duration": 515,
    "start_time": "2022-07-17T13:19:58.261Z"
   },
   {
    "duration": 564,
    "start_time": "2022-07-17T13:19:58.901Z"
   },
   {
    "duration": 11,
    "start_time": "2022-07-17T13:19:59.748Z"
   },
   {
    "duration": 3,
    "start_time": "2022-07-17T13:20:00.152Z"
   },
   {
    "duration": 11,
    "start_time": "2022-07-17T13:20:00.873Z"
   },
   {
    "duration": 11,
    "start_time": "2022-07-17T13:20:01.835Z"
   },
   {
    "duration": 12,
    "start_time": "2022-07-17T13:20:02.458Z"
   },
   {
    "duration": 2,
    "start_time": "2022-07-17T13:53:17.892Z"
   },
   {
    "duration": 47,
    "start_time": "2022-07-17T13:53:18.748Z"
   },
   {
    "duration": 14,
    "start_time": "2022-07-17T13:53:18.949Z"
   },
   {
    "duration": 17,
    "start_time": "2022-07-17T13:53:20.752Z"
   },
   {
    "duration": 3,
    "start_time": "2022-07-17T13:53:20.771Z"
   },
   {
    "duration": 16,
    "start_time": "2022-07-17T13:53:20.775Z"
   },
   {
    "duration": 9,
    "start_time": "2022-07-17T13:53:21.081Z"
   },
   {
    "duration": 20,
    "start_time": "2022-07-17T13:53:21.303Z"
   },
   {
    "duration": 9,
    "start_time": "2022-07-17T13:53:21.490Z"
   },
   {
    "duration": 5,
    "start_time": "2022-07-17T13:53:21.924Z"
   },
   {
    "duration": 9,
    "start_time": "2022-07-17T13:53:22.688Z"
   },
   {
    "duration": 13,
    "start_time": "2022-07-17T13:53:22.906Z"
   },
   {
    "duration": 5,
    "start_time": "2022-07-17T13:53:23.308Z"
   },
   {
    "duration": 14,
    "start_time": "2022-07-17T13:53:23.508Z"
   },
   {
    "duration": 322,
    "start_time": "2022-07-17T13:53:24.107Z"
   },
   {
    "duration": 281,
    "start_time": "2022-07-17T13:53:24.886Z"
   },
   {
    "duration": 344,
    "start_time": "2022-07-17T13:53:25.274Z"
   },
   {
    "duration": 25,
    "start_time": "2022-07-17T13:53:25.862Z"
   },
   {
    "duration": 193,
    "start_time": "2022-07-17T13:53:26.269Z"
   },
   {
    "duration": 374,
    "start_time": "2022-07-17T13:53:26.890Z"
   },
   {
    "duration": 378,
    "start_time": "2022-07-17T13:53:27.487Z"
   },
   {
    "duration": 13,
    "start_time": "2022-07-17T13:53:27.867Z"
   },
   {
    "duration": 288,
    "start_time": "2022-07-17T13:53:28.171Z"
   },
   {
    "duration": 14,
    "start_time": "2022-07-17T13:53:28.460Z"
   },
   {
    "duration": 307,
    "start_time": "2022-07-17T13:53:28.584Z"
   },
   {
    "duration": 16,
    "start_time": "2022-07-17T13:53:29.199Z"
   },
   {
    "duration": 313,
    "start_time": "2022-07-17T13:53:29.217Z"
   },
   {
    "duration": 14,
    "start_time": "2022-07-17T13:53:29.532Z"
   },
   {
    "duration": 294,
    "start_time": "2022-07-17T13:53:29.548Z"
   },
   {
    "duration": 14,
    "start_time": "2022-07-17T13:53:29.844Z"
   },
   {
    "duration": 203,
    "start_time": "2022-07-17T13:53:30.210Z"
   },
   {
    "duration": 980,
    "start_time": "2022-07-17T13:53:31.096Z"
   },
   {
    "duration": 771,
    "start_time": "2022-07-17T13:53:32.078Z"
   },
   {
    "duration": 512,
    "start_time": "2022-07-17T13:53:32.852Z"
   },
   {
    "duration": 10,
    "start_time": "2022-07-17T13:53:33.367Z"
   },
   {
    "duration": 3,
    "start_time": "2022-07-17T13:53:33.504Z"
   },
   {
    "duration": 13,
    "start_time": "2022-07-17T13:53:33.713Z"
   },
   {
    "duration": 16,
    "start_time": "2022-07-17T13:53:35.048Z"
   },
   {
    "duration": 11,
    "start_time": "2022-07-17T13:53:35.297Z"
   },
   {
    "duration": 46,
    "start_time": "2022-07-17T14:24:20.119Z"
   },
   {
    "duration": 647,
    "start_time": "2022-07-17T14:24:25.592Z"
   },
   {
    "duration": 89,
    "start_time": "2022-07-17T14:24:26.241Z"
   },
   {
    "duration": 19,
    "start_time": "2022-07-17T14:24:26.332Z"
   },
   {
    "duration": 22,
    "start_time": "2022-07-17T14:24:26.353Z"
   },
   {
    "duration": 9,
    "start_time": "2022-07-17T14:24:26.395Z"
   },
   {
    "duration": 31,
    "start_time": "2022-07-17T14:24:26.408Z"
   },
   {
    "duration": 13,
    "start_time": "2022-07-17T14:24:26.441Z"
   },
   {
    "duration": 25,
    "start_time": "2022-07-17T14:24:26.456Z"
   },
   {
    "duration": 47,
    "start_time": "2022-07-17T14:24:26.483Z"
   },
   {
    "duration": 14,
    "start_time": "2022-07-17T14:24:26.532Z"
   },
   {
    "duration": 14,
    "start_time": "2022-07-17T14:24:26.548Z"
   },
   {
    "duration": 29,
    "start_time": "2022-07-17T14:24:26.563Z"
   },
   {
    "duration": 27,
    "start_time": "2022-07-17T14:24:26.594Z"
   },
   {
    "duration": 15,
    "start_time": "2022-07-17T14:24:26.624Z"
   },
   {
    "duration": 15,
    "start_time": "2022-07-17T14:24:26.641Z"
   },
   {
    "duration": 414,
    "start_time": "2022-07-17T14:24:26.657Z"
   },
   {
    "duration": 356,
    "start_time": "2022-07-17T14:24:27.075Z"
   },
   {
    "duration": 491,
    "start_time": "2022-07-17T14:24:27.433Z"
   },
   {
    "duration": 25,
    "start_time": "2022-07-17T14:24:27.926Z"
   },
   {
    "duration": 267,
    "start_time": "2022-07-17T14:24:27.953Z"
   },
   {
    "duration": 414,
    "start_time": "2022-07-17T14:24:28.222Z"
   },
   {
    "duration": 352,
    "start_time": "2022-07-17T14:24:28.638Z"
   },
   {
    "duration": 19,
    "start_time": "2022-07-17T14:24:28.999Z"
   },
   {
    "duration": 355,
    "start_time": "2022-07-17T14:24:29.020Z"
   },
   {
    "duration": 26,
    "start_time": "2022-07-17T14:24:29.377Z"
   },
   {
    "duration": 369,
    "start_time": "2022-07-17T14:24:29.408Z"
   },
   {
    "duration": 20,
    "start_time": "2022-07-17T14:24:29.781Z"
   },
   {
    "duration": 420,
    "start_time": "2022-07-17T14:24:29.804Z"
   },
   {
    "duration": 14,
    "start_time": "2022-07-17T14:24:30.226Z"
   },
   {
    "duration": 373,
    "start_time": "2022-07-17T14:24:30.242Z"
   },
   {
    "duration": 13,
    "start_time": "2022-07-17T14:24:30.617Z"
   },
   {
    "duration": 249,
    "start_time": "2022-07-17T14:24:30.632Z"
   },
   {
    "duration": 986,
    "start_time": "2022-07-17T14:24:30.882Z"
   },
   {
    "duration": 1227,
    "start_time": "2022-07-17T14:24:31.875Z"
   },
   {
    "duration": 1361,
    "start_time": "2022-07-17T14:24:33.104Z"
   },
   {
    "duration": 20,
    "start_time": "2022-07-17T14:24:34.467Z"
   },
   {
    "duration": 524,
    "start_time": "2022-07-17T14:24:34.494Z"
   },
   {
    "duration": 12,
    "start_time": "2022-07-17T14:24:35.019Z"
   },
   {
    "duration": 15,
    "start_time": "2022-07-17T14:24:35.033Z"
   },
   {
    "duration": 38,
    "start_time": "2022-07-17T14:24:35.059Z"
   },
   {
    "duration": 34,
    "start_time": "2022-07-17T14:33:32.665Z"
   },
   {
    "duration": 13,
    "start_time": "2022-07-17T14:35:37.196Z"
   },
   {
    "duration": 12,
    "start_time": "2022-07-17T14:35:42.684Z"
   },
   {
    "duration": 13,
    "start_time": "2022-07-17T14:35:56.933Z"
   },
   {
    "duration": 629,
    "start_time": "2022-07-17T14:40:29.377Z"
   },
   {
    "duration": 67,
    "start_time": "2022-07-17T14:40:30.008Z"
   },
   {
    "duration": 19,
    "start_time": "2022-07-17T14:40:30.077Z"
   },
   {
    "duration": 20,
    "start_time": "2022-07-17T14:40:30.098Z"
   },
   {
    "duration": 3,
    "start_time": "2022-07-17T14:40:30.120Z"
   },
   {
    "duration": 15,
    "start_time": "2022-07-17T14:40:30.125Z"
   },
   {
    "duration": 28,
    "start_time": "2022-07-17T14:40:30.142Z"
   },
   {
    "duration": 20,
    "start_time": "2022-07-17T14:40:30.172Z"
   },
   {
    "duration": 7,
    "start_time": "2022-07-17T14:40:30.194Z"
   },
   {
    "duration": 14,
    "start_time": "2022-07-17T14:40:30.203Z"
   },
   {
    "duration": 17,
    "start_time": "2022-07-17T14:40:30.218Z"
   },
   {
    "duration": 27,
    "start_time": "2022-07-17T14:40:30.236Z"
   },
   {
    "duration": 6,
    "start_time": "2022-07-17T14:40:30.265Z"
   },
   {
    "duration": 27,
    "start_time": "2022-07-17T14:40:30.273Z"
   },
   {
    "duration": 30,
    "start_time": "2022-07-17T14:40:30.302Z"
   },
   {
    "duration": 419,
    "start_time": "2022-07-17T14:40:30.334Z"
   },
   {
    "duration": 335,
    "start_time": "2022-07-17T14:40:30.755Z"
   },
   {
    "duration": 429,
    "start_time": "2022-07-17T14:40:31.091Z"
   },
   {
    "duration": 26,
    "start_time": "2022-07-17T14:40:31.522Z"
   },
   {
    "duration": 218,
    "start_time": "2022-07-17T14:40:31.563Z"
   },
   {
    "duration": 383,
    "start_time": "2022-07-17T14:40:31.783Z"
   },
   {
    "duration": 284,
    "start_time": "2022-07-17T14:40:32.168Z"
   },
   {
    "duration": 22,
    "start_time": "2022-07-17T14:40:32.454Z"
   },
   {
    "duration": 386,
    "start_time": "2022-07-17T14:40:32.478Z"
   },
   {
    "duration": 14,
    "start_time": "2022-07-17T14:40:32.865Z"
   },
   {
    "duration": 308,
    "start_time": "2022-07-17T14:40:32.881Z"
   },
   {
    "duration": 14,
    "start_time": "2022-07-17T14:40:33.191Z"
   },
   {
    "duration": 385,
    "start_time": "2022-07-17T14:40:33.209Z"
   },
   {
    "duration": 13,
    "start_time": "2022-07-17T14:40:33.596Z"
   },
   {
    "duration": 288,
    "start_time": "2022-07-17T14:40:33.610Z"
   },
   {
    "duration": 18,
    "start_time": "2022-07-17T14:40:33.899Z"
   },
   {
    "duration": 222,
    "start_time": "2022-07-17T14:40:33.919Z"
   },
   {
    "duration": 840,
    "start_time": "2022-07-17T14:40:34.143Z"
   },
   {
    "duration": 641,
    "start_time": "2022-07-17T14:40:34.985Z"
   },
   {
    "duration": 494,
    "start_time": "2022-07-17T14:40:35.628Z"
   },
   {
    "duration": 9,
    "start_time": "2022-07-17T14:40:36.124Z"
   },
   {
    "duration": 517,
    "start_time": "2022-07-17T14:40:36.134Z"
   },
   {
    "duration": 13,
    "start_time": "2022-07-17T14:40:36.653Z"
   },
   {
    "duration": 16,
    "start_time": "2022-07-17T14:40:36.667Z"
   },
   {
    "duration": 9,
    "start_time": "2022-07-17T14:40:36.685Z"
   },
   {
    "duration": 804,
    "start_time": "2022-07-18T17:13:06.165Z"
   },
   {
    "duration": 191,
    "start_time": "2022-07-18T17:13:07.681Z"
   },
   {
    "duration": 21,
    "start_time": "2022-07-18T17:13:08.349Z"
   },
   {
    "duration": 26,
    "start_time": "2022-07-18T17:13:10.517Z"
   },
   {
    "duration": 3,
    "start_time": "2022-07-18T17:26:07.031Z"
   },
   {
    "duration": 52,
    "start_time": "2022-07-18T17:26:08.058Z"
   },
   {
    "duration": 16,
    "start_time": "2022-07-18T17:26:08.434Z"
   },
   {
    "duration": 15,
    "start_time": "2022-07-18T17:26:09.561Z"
   },
   {
    "duration": 3,
    "start_time": "2022-07-18T17:26:12.661Z"
   },
   {
    "duration": 1199,
    "start_time": "2022-07-18T17:26:13.403Z"
   },
   {
    "duration": 13,
    "start_time": "2022-07-18T17:26:28.788Z"
   },
   {
    "duration": 24,
    "start_time": "2022-07-18T17:27:18.131Z"
   },
   {
    "duration": 10,
    "start_time": "2022-07-18T17:28:41.759Z"
   },
   {
    "duration": 11,
    "start_time": "2022-07-18T17:28:43.087Z"
   },
   {
    "duration": 24,
    "start_time": "2022-07-18T17:28:43.824Z"
   },
   {
    "duration": 8,
    "start_time": "2022-07-18T17:28:44.637Z"
   },
   {
    "duration": 5,
    "start_time": "2022-07-18T17:28:56.860Z"
   },
   {
    "duration": 6,
    "start_time": "2022-07-18T17:30:04.324Z"
   },
   {
    "duration": 3,
    "start_time": "2022-07-18T17:30:15.268Z"
   },
   {
    "duration": 56,
    "start_time": "2022-07-18T17:30:16.334Z"
   },
   {
    "duration": 16,
    "start_time": "2022-07-18T17:30:16.875Z"
   },
   {
    "duration": 17,
    "start_time": "2022-07-18T17:30:17.995Z"
   },
   {
    "duration": 3,
    "start_time": "2022-07-18T17:30:20.307Z"
   },
   {
    "duration": 22,
    "start_time": "2022-07-18T17:30:21.181Z"
   },
   {
    "duration": 10,
    "start_time": "2022-07-18T17:30:23.387Z"
   },
   {
    "duration": 12,
    "start_time": "2022-07-18T17:30:24.449Z"
   },
   {
    "duration": 21,
    "start_time": "2022-07-18T17:30:28.983Z"
   },
   {
    "duration": 9,
    "start_time": "2022-07-18T17:30:29.856Z"
   },
   {
    "duration": 5,
    "start_time": "2022-07-18T17:30:31.193Z"
   },
   {
    "duration": 4,
    "start_time": "2022-07-18T17:31:56.225Z"
   },
   {
    "duration": 606,
    "start_time": "2022-07-18T17:32:00.556Z"
   },
   {
    "duration": 0,
    "start_time": "2022-07-18T17:32:01.163Z"
   },
   {
    "duration": 4,
    "start_time": "2022-07-18T17:32:21.188Z"
   },
   {
    "duration": 22,
    "start_time": "2022-07-18T17:32:22.836Z"
   },
   {
    "duration": 4,
    "start_time": "2022-07-18T17:32:39.884Z"
   },
   {
    "duration": 23,
    "start_time": "2022-07-18T17:32:40.335Z"
   },
   {
    "duration": 4,
    "start_time": "2022-07-18T17:37:04.100Z"
   },
   {
    "duration": 18,
    "start_time": "2022-07-18T17:37:34.590Z"
   },
   {
    "duration": 17,
    "start_time": "2022-07-18T17:38:18.252Z"
   },
   {
    "duration": 22,
    "start_time": "2022-07-18T17:38:35.838Z"
   },
   {
    "duration": 7,
    "start_time": "2022-07-18T17:38:41.338Z"
   },
   {
    "duration": 5,
    "start_time": "2022-07-18T17:38:43.223Z"
   },
   {
    "duration": 4,
    "start_time": "2022-07-18T17:38:49.042Z"
   },
   {
    "duration": 16,
    "start_time": "2022-07-18T17:38:49.554Z"
   },
   {
    "duration": 5,
    "start_time": "2022-07-18T17:38:50.607Z"
   },
   {
    "duration": 14,
    "start_time": "2022-07-18T17:38:56.093Z"
   },
   {
    "duration": 30,
    "start_time": "2022-07-18T17:39:52.630Z"
   },
   {
    "duration": 11,
    "start_time": "2022-07-18T17:39:56.704Z"
   },
   {
    "duration": 21,
    "start_time": "2022-07-18T17:40:26.291Z"
   },
   {
    "duration": 12,
    "start_time": "2022-07-18T17:40:28.502Z"
   },
   {
    "duration": 3,
    "start_time": "2022-07-18T17:40:51.719Z"
   },
   {
    "duration": 64,
    "start_time": "2022-07-18T17:40:52.827Z"
   },
   {
    "duration": 21,
    "start_time": "2022-07-18T17:40:53.642Z"
   },
   {
    "duration": 15,
    "start_time": "2022-07-18T17:40:57.237Z"
   },
   {
    "duration": 3,
    "start_time": "2022-07-18T17:41:00.213Z"
   },
   {
    "duration": 21,
    "start_time": "2022-07-18T17:41:00.883Z"
   },
   {
    "duration": 11,
    "start_time": "2022-07-18T17:41:04.214Z"
   },
   {
    "duration": 13,
    "start_time": "2022-07-18T17:41:08.211Z"
   },
   {
    "duration": 22,
    "start_time": "2022-07-18T17:41:09.703Z"
   },
   {
    "duration": 18,
    "start_time": "2022-07-18T17:41:10.551Z"
   },
   {
    "duration": 10,
    "start_time": "2022-07-18T17:41:12.336Z"
   },
   {
    "duration": 4,
    "start_time": "2022-07-18T17:41:14.381Z"
   },
   {
    "duration": 4,
    "start_time": "2022-07-18T17:41:18.088Z"
   },
   {
    "duration": 14,
    "start_time": "2022-07-18T17:41:18.743Z"
   },
   {
    "duration": 5,
    "start_time": "2022-07-18T17:41:20.936Z"
   },
   {
    "duration": 15,
    "start_time": "2022-07-18T17:41:22.899Z"
   },
   {
    "duration": 15,
    "start_time": "2022-07-18T17:41:30.185Z"
   },
   {
    "duration": 7,
    "start_time": "2022-07-18T17:43:17.938Z"
   },
   {
    "duration": 9,
    "start_time": "2022-07-18T17:46:30.055Z"
   },
   {
    "duration": 6,
    "start_time": "2022-07-18T17:46:54.198Z"
   },
   {
    "duration": 17,
    "start_time": "2022-07-18T17:49:24.085Z"
   },
   {
    "duration": 16,
    "start_time": "2022-07-18T17:49:43.478Z"
   },
   {
    "duration": 3,
    "start_time": "2022-07-18T17:49:44.300Z"
   },
   {
    "duration": 17,
    "start_time": "2022-07-18T17:49:44.504Z"
   },
   {
    "duration": 12,
    "start_time": "2022-07-18T17:49:45.406Z"
   },
   {
    "duration": 11,
    "start_time": "2022-07-18T17:49:46.145Z"
   },
   {
    "duration": 32,
    "start_time": "2022-07-18T17:49:46.504Z"
   },
   {
    "duration": 24,
    "start_time": "2022-07-18T17:49:46.720Z"
   },
   {
    "duration": 10,
    "start_time": "2022-07-18T17:49:46.929Z"
   },
   {
    "duration": 5,
    "start_time": "2022-07-18T17:49:47.635Z"
   },
   {
    "duration": 4,
    "start_time": "2022-07-18T17:49:50.911Z"
   },
   {
    "duration": 21,
    "start_time": "2022-07-18T17:49:51.454Z"
   },
   {
    "duration": 5,
    "start_time": "2022-07-18T17:49:52.247Z"
   },
   {
    "duration": 19,
    "start_time": "2022-07-18T17:49:53.313Z"
   },
   {
    "duration": 18,
    "start_time": "2022-07-18T17:49:53.727Z"
   },
   {
    "duration": 23,
    "start_time": "2022-07-18T17:49:58.920Z"
   },
   {
    "duration": 3,
    "start_time": "2022-07-18T17:50:20.635Z"
   },
   {
    "duration": 74,
    "start_time": "2022-07-18T17:50:21.302Z"
   },
   {
    "duration": 21,
    "start_time": "2022-07-18T17:50:21.649Z"
   },
   {
    "duration": 18,
    "start_time": "2022-07-18T17:50:22.450Z"
   },
   {
    "duration": 4,
    "start_time": "2022-07-18T17:50:23.980Z"
   },
   {
    "duration": 16,
    "start_time": "2022-07-18T17:50:24.253Z"
   },
   {
    "duration": 14,
    "start_time": "2022-07-18T17:50:25.897Z"
   },
   {
    "duration": 10,
    "start_time": "2022-07-18T17:50:26.661Z"
   },
   {
    "duration": 35,
    "start_time": "2022-07-18T17:50:26.916Z"
   },
   {
    "duration": 22,
    "start_time": "2022-07-18T17:50:27.115Z"
   },
   {
    "duration": 8,
    "start_time": "2022-07-18T17:50:27.358Z"
   },
   {
    "duration": 5,
    "start_time": "2022-07-18T17:50:28.180Z"
   },
   {
    "duration": 4,
    "start_time": "2022-07-18T17:50:30.662Z"
   },
   {
    "duration": 14,
    "start_time": "2022-07-18T17:50:30.882Z"
   },
   {
    "duration": 5,
    "start_time": "2022-07-18T17:50:31.598Z"
   },
   {
    "duration": 15,
    "start_time": "2022-07-18T17:50:32.486Z"
   },
   {
    "duration": 17,
    "start_time": "2022-07-18T17:50:32.913Z"
   },
   {
    "duration": 6,
    "start_time": "2022-07-18T17:51:34.894Z"
   },
   {
    "duration": 26,
    "start_time": "2022-07-18T17:51:50.138Z"
   },
   {
    "duration": 17,
    "start_time": "2022-07-18T17:52:22.059Z"
   },
   {
    "duration": 19,
    "start_time": "2022-07-18T17:52:27.203Z"
   },
   {
    "duration": 11,
    "start_time": "2022-07-18T17:55:42.055Z"
   },
   {
    "duration": 6,
    "start_time": "2022-07-18T17:59:46.151Z"
   },
   {
    "duration": 16,
    "start_time": "2022-07-18T17:59:59.247Z"
   },
   {
    "duration": 4,
    "start_time": "2022-07-18T18:05:02.630Z"
   },
   {
    "duration": 8,
    "start_time": "2022-07-18T18:05:44.485Z"
   },
   {
    "duration": 34,
    "start_time": "2022-07-18T18:13:28.528Z"
   },
   {
    "duration": 728,
    "start_time": "2022-07-18T18:17:33.740Z"
   },
   {
    "duration": 66,
    "start_time": "2022-07-18T18:17:34.470Z"
   },
   {
    "duration": 3,
    "start_time": "2022-07-18T18:17:43.868Z"
   },
   {
    "duration": 76,
    "start_time": "2022-07-18T18:17:45.161Z"
   },
   {
    "duration": 42,
    "start_time": "2022-07-18T18:17:45.304Z"
   },
   {
    "duration": 16,
    "start_time": "2022-07-18T18:17:46.445Z"
   },
   {
    "duration": 3,
    "start_time": "2022-07-18T18:17:48.289Z"
   },
   {
    "duration": 15,
    "start_time": "2022-07-18T18:17:48.773Z"
   },
   {
    "duration": 10,
    "start_time": "2022-07-18T18:17:50.751Z"
   },
   {
    "duration": 33,
    "start_time": "2022-07-18T18:17:51.696Z"
   },
   {
    "duration": 28,
    "start_time": "2022-07-18T18:17:52.421Z"
   },
   {
    "duration": 19,
    "start_time": "2022-07-18T18:17:52.732Z"
   },
   {
    "duration": 7,
    "start_time": "2022-07-18T18:17:53.535Z"
   },
   {
    "duration": 6,
    "start_time": "2022-07-18T18:17:55.372Z"
   },
   {
    "duration": 6,
    "start_time": "2022-07-18T18:17:57.815Z"
   },
   {
    "duration": 15,
    "start_time": "2022-07-18T18:18:00.649Z"
   },
   {
    "duration": 5,
    "start_time": "2022-07-18T18:18:01.535Z"
   },
   {
    "duration": 26,
    "start_time": "2022-07-18T18:18:02.930Z"
   },
   {
    "duration": 15,
    "start_time": "2022-07-18T18:18:03.497Z"
   },
   {
    "duration": 5,
    "start_time": "2022-07-18T18:18:05.974Z"
   },
   {
    "duration": 14,
    "start_time": "2022-07-18T18:18:07.179Z"
   },
   {
    "duration": 4,
    "start_time": "2022-07-18T18:18:08.065Z"
   },
   {
    "duration": 7,
    "start_time": "2022-07-18T18:18:08.263Z"
   },
   {
    "duration": 67,
    "start_time": "2022-07-18T18:22:31.236Z"
   },
   {
    "duration": 28,
    "start_time": "2022-07-18T18:22:42.777Z"
   },
   {
    "duration": 11,
    "start_time": "2022-07-18T18:23:02.526Z"
   },
   {
    "duration": 9,
    "start_time": "2022-07-18T18:24:53.468Z"
   },
   {
    "duration": 12,
    "start_time": "2022-07-18T18:25:20.635Z"
   },
   {
    "duration": 6,
    "start_time": "2022-07-18T18:33:22.428Z"
   },
   {
    "duration": 12,
    "start_time": "2022-07-18T18:33:22.928Z"
   },
   {
    "duration": 434,
    "start_time": "2022-07-18T18:33:27.914Z"
   },
   {
    "duration": 464,
    "start_time": "2022-07-18T18:38:16.288Z"
   },
   {
    "duration": 478,
    "start_time": "2022-07-18T18:39:48.428Z"
   },
   {
    "duration": 335,
    "start_time": "2022-07-18T18:42:46.043Z"
   },
   {
    "duration": 2,
    "start_time": "2022-07-18T18:42:59.672Z"
   },
   {
    "duration": 51,
    "start_time": "2022-07-18T18:43:00.692Z"
   },
   {
    "duration": 15,
    "start_time": "2022-07-18T18:43:01.537Z"
   },
   {
    "duration": 22,
    "start_time": "2022-07-18T18:43:02.014Z"
   },
   {
    "duration": 3,
    "start_time": "2022-07-18T18:43:03.886Z"
   },
   {
    "duration": 14,
    "start_time": "2022-07-18T18:43:04.520Z"
   },
   {
    "duration": 11,
    "start_time": "2022-07-18T18:43:06.096Z"
   },
   {
    "duration": 11,
    "start_time": "2022-07-18T18:43:06.994Z"
   },
   {
    "duration": 24,
    "start_time": "2022-07-18T18:43:07.513Z"
   },
   {
    "duration": 17,
    "start_time": "2022-07-18T18:43:07.966Z"
   },
   {
    "duration": 8,
    "start_time": "2022-07-18T18:43:08.495Z"
   },
   {
    "duration": 5,
    "start_time": "2022-07-18T18:43:10.604Z"
   },
   {
    "duration": 4,
    "start_time": "2022-07-18T18:43:13.481Z"
   },
   {
    "duration": 15,
    "start_time": "2022-07-18T18:43:13.911Z"
   },
   {
    "duration": 5,
    "start_time": "2022-07-18T18:43:15.048Z"
   },
   {
    "duration": 22,
    "start_time": "2022-07-18T18:43:16.935Z"
   },
   {
    "duration": 19,
    "start_time": "2022-07-18T18:43:17.746Z"
   },
   {
    "duration": 5,
    "start_time": "2022-07-18T18:43:19.872Z"
   },
   {
    "duration": 5,
    "start_time": "2022-07-18T18:43:20.704Z"
   },
   {
    "duration": 9,
    "start_time": "2022-07-18T18:43:21.196Z"
   },
   {
    "duration": 403,
    "start_time": "2022-07-18T18:43:24.022Z"
   },
   {
    "duration": 348,
    "start_time": "2022-07-18T18:44:43.475Z"
   },
   {
    "duration": 458,
    "start_time": "2022-07-18T18:45:21.700Z"
   },
   {
    "duration": 484,
    "start_time": "2022-07-18T18:45:31.230Z"
   },
   {
    "duration": 358,
    "start_time": "2022-07-18T18:45:38.862Z"
   },
   {
    "duration": 29,
    "start_time": "2022-07-18T18:45:57.530Z"
   },
   {
    "duration": 3,
    "start_time": "2022-07-18T18:46:23.606Z"
   },
   {
    "duration": 56,
    "start_time": "2022-07-18T18:46:24.426Z"
   },
   {
    "duration": 16,
    "start_time": "2022-07-18T18:46:24.927Z"
   },
   {
    "duration": 16,
    "start_time": "2022-07-18T18:46:26.999Z"
   },
   {
    "duration": 3,
    "start_time": "2022-07-18T18:46:28.647Z"
   },
   {
    "duration": 15,
    "start_time": "2022-07-18T18:46:28.922Z"
   },
   {
    "duration": 11,
    "start_time": "2022-07-18T18:46:29.901Z"
   },
   {
    "duration": 12,
    "start_time": "2022-07-18T18:46:30.309Z"
   },
   {
    "duration": 23,
    "start_time": "2022-07-18T18:46:30.721Z"
   },
   {
    "duration": 19,
    "start_time": "2022-07-18T18:46:31.251Z"
   },
   {
    "duration": 8,
    "start_time": "2022-07-18T18:46:31.273Z"
   },
   {
    "duration": 4,
    "start_time": "2022-07-18T18:46:31.454Z"
   },
   {
    "duration": 5,
    "start_time": "2022-07-18T18:46:33.143Z"
   },
   {
    "duration": 15,
    "start_time": "2022-07-18T18:46:33.424Z"
   },
   {
    "duration": 5,
    "start_time": "2022-07-18T18:46:33.956Z"
   },
   {
    "duration": 15,
    "start_time": "2022-07-18T18:46:34.719Z"
   },
   {
    "duration": 15,
    "start_time": "2022-07-18T18:46:34.990Z"
   },
   {
    "duration": 4,
    "start_time": "2022-07-18T18:46:36.244Z"
   },
   {
    "duration": 4,
    "start_time": "2022-07-18T18:46:36.913Z"
   },
   {
    "duration": 7,
    "start_time": "2022-07-18T18:46:37.021Z"
   },
   {
    "duration": 383,
    "start_time": "2022-07-18T18:46:38.493Z"
   },
   {
    "duration": 345,
    "start_time": "2022-07-18T18:46:42.415Z"
   },
   {
    "duration": 28,
    "start_time": "2022-07-18T18:46:43.707Z"
   },
   {
    "duration": 370,
    "start_time": "2022-07-18T18:47:18.757Z"
   },
   {
    "duration": 339,
    "start_time": "2022-07-18T18:48:35.139Z"
   },
   {
    "duration": 532,
    "start_time": "2022-07-18T18:56:03.667Z"
   },
   {
    "duration": 261,
    "start_time": "2022-07-18T18:58:57.231Z"
   },
   {
    "duration": 259,
    "start_time": "2022-07-18T19:04:03.800Z"
   },
   {
    "duration": 400,
    "start_time": "2022-07-18T19:05:24.984Z"
   },
   {
    "duration": 334,
    "start_time": "2022-07-18T19:05:38.025Z"
   },
   {
    "duration": 281,
    "start_time": "2022-07-18T19:07:24.002Z"
   },
   {
    "duration": 565,
    "start_time": "2022-07-18T19:09:02.293Z"
   },
   {
    "duration": 387,
    "start_time": "2022-07-18T19:09:19.936Z"
   },
   {
    "duration": 286,
    "start_time": "2022-07-18T19:10:55.614Z"
   },
   {
    "duration": 277,
    "start_time": "2022-07-18T19:11:40.674Z"
   },
   {
    "duration": 26,
    "start_time": "2022-07-18T19:19:26.554Z"
   },
   {
    "duration": 206,
    "start_time": "2022-07-18T19:19:38.653Z"
   },
   {
    "duration": 389,
    "start_time": "2022-07-18T19:22:26.111Z"
   },
   {
    "duration": 226,
    "start_time": "2022-07-18T19:23:34.989Z"
   },
   {
    "duration": 624,
    "start_time": "2022-07-18T19:25:14.802Z"
   },
   {
    "duration": 462,
    "start_time": "2022-07-18T19:28:01.025Z"
   },
   {
    "duration": 343,
    "start_time": "2022-07-18T19:28:25.316Z"
   },
   {
    "duration": 367,
    "start_time": "2022-07-18T19:30:22.130Z"
   },
   {
    "duration": 256,
    "start_time": "2022-07-18T19:30:32.967Z"
   },
   {
    "duration": 388,
    "start_time": "2022-07-18T19:31:24.166Z"
   },
   {
    "duration": 401,
    "start_time": "2022-07-18T19:32:51.738Z"
   },
   {
    "duration": 870,
    "start_time": "2022-07-19T07:25:23.236Z"
   },
   {
    "duration": 104,
    "start_time": "2022-07-19T07:25:24.146Z"
   },
   {
    "duration": 20,
    "start_time": "2022-07-19T07:25:24.682Z"
   },
   {
    "duration": 22,
    "start_time": "2022-07-19T07:25:27.058Z"
   },
   {
    "duration": 3,
    "start_time": "2022-07-19T07:25:29.192Z"
   },
   {
    "duration": 20,
    "start_time": "2022-07-19T07:25:29.676Z"
   },
   {
    "duration": 14,
    "start_time": "2022-07-19T07:25:31.453Z"
   },
   {
    "duration": 10,
    "start_time": "2022-07-19T07:25:32.269Z"
   },
   {
    "duration": 19,
    "start_time": "2022-07-19T07:25:32.766Z"
   },
   {
    "duration": 16,
    "start_time": "2022-07-19T07:25:33.154Z"
   },
   {
    "duration": 9,
    "start_time": "2022-07-19T07:25:33.748Z"
   },
   {
    "duration": 5,
    "start_time": "2022-07-19T07:25:35.069Z"
   },
   {
    "duration": 4,
    "start_time": "2022-07-19T07:25:37.944Z"
   },
   {
    "duration": 13,
    "start_time": "2022-07-19T07:25:38.588Z"
   },
   {
    "duration": 5,
    "start_time": "2022-07-19T07:25:39.977Z"
   },
   {
    "duration": 19,
    "start_time": "2022-07-19T07:25:41.802Z"
   },
   {
    "duration": 15,
    "start_time": "2022-07-19T07:25:42.614Z"
   },
   {
    "duration": 4,
    "start_time": "2022-07-19T07:25:47.476Z"
   },
   {
    "duration": 6,
    "start_time": "2022-07-19T07:25:48.517Z"
   },
   {
    "duration": 14,
    "start_time": "2022-07-19T07:26:05.566Z"
   },
   {
    "duration": 5,
    "start_time": "2022-07-19T07:26:07.454Z"
   },
   {
    "duration": 5,
    "start_time": "2022-07-19T07:26:08.288Z"
   },
   {
    "duration": 10,
    "start_time": "2022-07-19T07:26:08.712Z"
   },
   {
    "duration": 413,
    "start_time": "2022-07-19T07:26:11.162Z"
   },
   {
    "duration": 352,
    "start_time": "2022-07-19T07:26:14.147Z"
   },
   {
    "duration": 304,
    "start_time": "2022-07-19T07:26:15.131Z"
   },
   {
    "duration": 25,
    "start_time": "2022-07-19T07:26:20.880Z"
   },
   {
    "duration": 218,
    "start_time": "2022-07-19T07:26:24.672Z"
   },
   {
    "duration": 364,
    "start_time": "2022-07-19T07:26:27.187Z"
   },
   {
    "duration": 275,
    "start_time": "2022-07-19T07:33:32.155Z"
   },
   {
    "duration": 12,
    "start_time": "2022-07-19T07:33:33.178Z"
   },
   {
    "duration": 8,
    "start_time": "2022-07-19T07:35:12.295Z"
   },
   {
    "duration": 4,
    "start_time": "2022-07-19T07:35:15.741Z"
   },
   {
    "duration": 17,
    "start_time": "2022-07-19T07:35:16.524Z"
   },
   {
    "duration": 5,
    "start_time": "2022-07-19T07:35:17.747Z"
   },
   {
    "duration": 17,
    "start_time": "2022-07-19T07:35:19.300Z"
   },
   {
    "duration": 18,
    "start_time": "2022-07-19T07:35:20.112Z"
   },
   {
    "duration": 5,
    "start_time": "2022-07-19T07:35:21.755Z"
   },
   {
    "duration": 3,
    "start_time": "2022-07-19T07:35:24.383Z"
   },
   {
    "duration": 8,
    "start_time": "2022-07-19T07:35:24.916Z"
   },
   {
    "duration": 513,
    "start_time": "2022-07-19T07:37:37.040Z"
   },
   {
    "duration": 16,
    "start_time": "2022-07-19T07:37:37.669Z"
   },
   {
    "duration": 3,
    "start_time": "2022-07-19T07:38:00.289Z"
   },
   {
    "duration": 49,
    "start_time": "2022-07-19T07:38:01.238Z"
   },
   {
    "duration": 13,
    "start_time": "2022-07-19T07:38:01.978Z"
   },
   {
    "duration": 16,
    "start_time": "2022-07-19T07:38:03.166Z"
   },
   {
    "duration": 4,
    "start_time": "2022-07-19T07:38:05.165Z"
   },
   {
    "duration": 15,
    "start_time": "2022-07-19T07:38:05.742Z"
   },
   {
    "duration": 11,
    "start_time": "2022-07-19T07:38:07.942Z"
   },
   {
    "duration": 12,
    "start_time": "2022-07-19T07:38:09.318Z"
   },
   {
    "duration": 27,
    "start_time": "2022-07-19T07:38:10.017Z"
   },
   {
    "duration": 16,
    "start_time": "2022-07-19T07:38:10.735Z"
   },
   {
    "duration": 8,
    "start_time": "2022-07-19T07:38:12.194Z"
   },
   {
    "duration": 7,
    "start_time": "2022-07-19T07:38:14.613Z"
   },
   {
    "duration": 10,
    "start_time": "2022-07-19T07:38:21.901Z"
   },
   {
    "duration": 740,
    "start_time": "2022-07-19T07:38:27.444Z"
   },
   {
    "duration": 10,
    "start_time": "2022-07-19T07:39:03.312Z"
   },
   {
    "duration": 9,
    "start_time": "2022-07-19T07:39:31.319Z"
   },
   {
    "duration": 503,
    "start_time": "2022-07-19T07:39:43.318Z"
   },
   {
    "duration": 6,
    "start_time": "2022-07-19T07:39:49.538Z"
   },
   {
    "duration": 15,
    "start_time": "2022-07-19T07:39:51.771Z"
   },
   {
    "duration": 7,
    "start_time": "2022-07-19T07:40:12.726Z"
   },
   {
    "duration": 19,
    "start_time": "2022-07-19T07:40:14.496Z"
   },
   {
    "duration": 15,
    "start_time": "2022-07-19T07:40:15.186Z"
   },
   {
    "duration": 6,
    "start_time": "2022-07-19T07:41:54.532Z"
   },
   {
    "duration": 13,
    "start_time": "2022-07-19T07:41:58.672Z"
   },
   {
    "duration": 6,
    "start_time": "2022-07-19T07:42:01.038Z"
   },
   {
    "duration": 22,
    "start_time": "2022-07-19T07:42:02.480Z"
   },
   {
    "duration": 20,
    "start_time": "2022-07-19T07:42:03.322Z"
   },
   {
    "duration": 6,
    "start_time": "2022-07-19T07:42:05.239Z"
   },
   {
    "duration": 5,
    "start_time": "2022-07-19T07:42:07.781Z"
   },
   {
    "duration": 8,
    "start_time": "2022-07-19T07:42:08.318Z"
   },
   {
    "duration": 409,
    "start_time": "2022-07-19T07:42:09.919Z"
   },
   {
    "duration": 353,
    "start_time": "2022-07-19T07:42:12.418Z"
   },
   {
    "duration": 245,
    "start_time": "2022-07-19T07:42:13.545Z"
   },
   {
    "duration": 37,
    "start_time": "2022-07-19T07:42:17.088Z"
   },
   {
    "duration": 340,
    "start_time": "2022-07-19T07:42:18.161Z"
   },
   {
    "duration": 337,
    "start_time": "2022-07-19T07:42:20.698Z"
   },
   {
    "duration": 338,
    "start_time": "2022-07-19T07:42:29.436Z"
   },
   {
    "duration": 942,
    "start_time": "2022-07-19T07:43:17.189Z"
   },
   {
    "duration": 217,
    "start_time": "2022-07-19T07:45:53.922Z"
   },
   {
    "duration": 310,
    "start_time": "2022-07-19T07:47:13.253Z"
   },
   {
    "duration": 1058,
    "start_time": "2022-07-19T07:47:22.520Z"
   },
   {
    "duration": 228,
    "start_time": "2022-07-19T07:47:46.198Z"
   },
   {
    "duration": 22,
    "start_time": "2022-07-19T07:51:42.462Z"
   },
   {
    "duration": 792,
    "start_time": "2022-07-19T07:52:28.828Z"
   },
   {
    "duration": 69,
    "start_time": "2022-07-19T07:52:30.156Z"
   },
   {
    "duration": 23,
    "start_time": "2022-07-19T07:52:30.606Z"
   },
   {
    "duration": 22,
    "start_time": "2022-07-19T07:52:31.883Z"
   },
   {
    "duration": 4,
    "start_time": "2022-07-19T07:52:33.981Z"
   },
   {
    "duration": 17,
    "start_time": "2022-07-19T07:52:34.422Z"
   },
   {
    "duration": 15,
    "start_time": "2022-07-19T07:52:36.400Z"
   },
   {
    "duration": 18,
    "start_time": "2022-07-19T07:52:37.358Z"
   },
   {
    "duration": 21,
    "start_time": "2022-07-19T07:52:37.966Z"
   },
   {
    "duration": 23,
    "start_time": "2022-07-19T07:52:38.858Z"
   },
   {
    "duration": 8,
    "start_time": "2022-07-19T07:52:39.371Z"
   },
   {
    "duration": 7,
    "start_time": "2022-07-19T07:52:40.613Z"
   },
   {
    "duration": 13,
    "start_time": "2022-07-19T07:52:43.838Z"
   },
   {
    "duration": 21,
    "start_time": "2022-07-19T07:52:44.313Z"
   },
   {
    "duration": 6,
    "start_time": "2022-07-19T07:52:45.344Z"
   },
   {
    "duration": 22,
    "start_time": "2022-07-19T07:52:47.099Z"
   },
   {
    "duration": 13,
    "start_time": "2022-07-19T07:52:47.553Z"
   },
   {
    "duration": 6,
    "start_time": "2022-07-19T07:52:49.062Z"
   },
   {
    "duration": 5,
    "start_time": "2022-07-19T07:52:50.013Z"
   },
   {
    "duration": 10,
    "start_time": "2022-07-19T07:52:50.946Z"
   },
   {
    "duration": 502,
    "start_time": "2022-07-19T07:53:02.020Z"
   },
   {
    "duration": 528,
    "start_time": "2022-07-19T07:53:05.152Z"
   },
   {
    "duration": 357,
    "start_time": "2022-07-19T07:53:06.160Z"
   },
   {
    "duration": 37,
    "start_time": "2022-07-19T07:53:09.934Z"
   },
   {
    "duration": 246,
    "start_time": "2022-07-19T07:53:10.939Z"
   },
   {
    "duration": 360,
    "start_time": "2022-07-19T07:53:12.619Z"
   },
   {
    "duration": 405,
    "start_time": "2022-07-19T07:53:15.077Z"
   },
   {
    "duration": 20,
    "start_time": "2022-07-19T07:53:15.611Z"
   },
   {
    "duration": 328,
    "start_time": "2022-07-19T07:58:28.381Z"
   },
   {
    "duration": 15,
    "start_time": "2022-07-19T07:58:29.049Z"
   },
   {
    "duration": 343,
    "start_time": "2022-07-19T07:58:38.281Z"
   },
   {
    "duration": 404,
    "start_time": "2022-07-19T07:58:49.829Z"
   },
   {
    "duration": 328,
    "start_time": "2022-07-19T07:59:09.861Z"
   },
   {
    "duration": 346,
    "start_time": "2022-07-19T07:59:30.809Z"
   },
   {
    "duration": 323,
    "start_time": "2022-07-19T07:59:42.061Z"
   },
   {
    "duration": 331,
    "start_time": "2022-07-19T08:00:13.263Z"
   },
   {
    "duration": 356,
    "start_time": "2022-07-19T08:00:29.461Z"
   },
   {
    "duration": 16,
    "start_time": "2022-07-19T08:02:46.466Z"
   },
   {
    "duration": 15,
    "start_time": "2022-07-19T08:03:41.881Z"
   },
   {
    "duration": 13,
    "start_time": "2022-07-19T08:04:28.686Z"
   },
   {
    "duration": 469,
    "start_time": "2022-07-19T08:04:52.164Z"
   },
   {
    "duration": 17,
    "start_time": "2022-07-19T08:05:36.560Z"
   },
   {
    "duration": 340,
    "start_time": "2022-07-19T08:06:16.290Z"
   },
   {
    "duration": 18,
    "start_time": "2022-07-19T08:07:15.398Z"
   },
   {
    "duration": 343,
    "start_time": "2022-07-19T08:08:08.674Z"
   },
   {
    "duration": 16,
    "start_time": "2022-07-19T08:08:49.738Z"
   },
   {
    "duration": 354,
    "start_time": "2022-07-19T08:14:40.768Z"
   },
   {
    "duration": 410,
    "start_time": "2022-07-19T08:15:09.077Z"
   },
   {
    "duration": 331,
    "start_time": "2022-07-19T08:15:28.870Z"
   },
   {
    "duration": 15,
    "start_time": "2022-07-19T08:15:34.657Z"
   },
   {
    "duration": 320,
    "start_time": "2022-07-19T08:15:35.573Z"
   },
   {
    "duration": 15,
    "start_time": "2022-07-19T08:15:35.977Z"
   },
   {
    "duration": 383,
    "start_time": "2022-07-19T08:15:36.492Z"
   },
   {
    "duration": 14,
    "start_time": "2022-07-19T08:15:36.944Z"
   },
   {
    "duration": 305,
    "start_time": "2022-07-19T08:15:37.611Z"
   },
   {
    "duration": 18,
    "start_time": "2022-07-19T08:15:38.601Z"
   },
   {
    "duration": 317,
    "start_time": "2022-07-19T08:16:09.065Z"
   },
   {
    "duration": 19,
    "start_time": "2022-07-19T08:17:24.666Z"
   },
   {
    "duration": 237,
    "start_time": "2022-07-19T08:18:37.337Z"
   },
   {
    "duration": 331,
    "start_time": "2022-07-19T08:21:54.442Z"
   },
   {
    "duration": 661,
    "start_time": "2022-07-19T08:23:12.215Z"
   },
   {
    "duration": 736,
    "start_time": "2022-07-19T08:23:29.472Z"
   },
   {
    "duration": 722,
    "start_time": "2022-07-19T08:23:45.681Z"
   },
   {
    "duration": 684,
    "start_time": "2022-07-19T08:25:40.100Z"
   },
   {
    "duration": 793,
    "start_time": "2022-07-19T08:25:52.439Z"
   },
   {
    "duration": 642,
    "start_time": "2022-07-19T08:26:12.383Z"
   },
   {
    "duration": 660,
    "start_time": "2022-07-19T08:26:26.008Z"
   },
   {
    "duration": 692,
    "start_time": "2022-07-19T08:26:40.317Z"
   },
   {
    "duration": 904,
    "start_time": "2022-07-19T08:46:03.496Z"
   },
   {
    "duration": 720,
    "start_time": "2022-07-19T08:58:02.793Z"
   },
   {
    "duration": 640,
    "start_time": "2022-07-19T09:00:28.269Z"
   },
   {
    "duration": 655,
    "start_time": "2022-07-19T09:01:11.183Z"
   },
   {
    "duration": 821,
    "start_time": "2022-07-19T09:04:30.300Z"
   },
   {
    "duration": 522,
    "start_time": "2022-07-19T09:07:39.693Z"
   },
   {
    "duration": 916,
    "start_time": "2022-07-19T09:08:29.858Z"
   },
   {
    "duration": 561,
    "start_time": "2022-07-19T09:08:53.160Z"
   },
   {
    "duration": 784,
    "start_time": "2022-07-19T09:09:18.866Z"
   },
   {
    "duration": 472,
    "start_time": "2022-07-19T09:09:32.821Z"
   },
   {
    "duration": 694,
    "start_time": "2022-07-19T09:13:36.056Z"
   },
   {
    "duration": 632,
    "start_time": "2022-07-19T09:14:04.166Z"
   },
   {
    "duration": 603,
    "start_time": "2022-07-19T09:14:32.257Z"
   },
   {
    "duration": 21,
    "start_time": "2022-07-19T09:16:24.856Z"
   },
   {
    "duration": 256,
    "start_time": "2022-07-19T09:17:05.503Z"
   },
   {
    "duration": 798,
    "start_time": "2022-07-19T09:17:35.492Z"
   },
   {
    "duration": 226,
    "start_time": "2022-07-19T09:26:47.973Z"
   },
   {
    "duration": 22,
    "start_time": "2022-07-19T09:32:46.963Z"
   },
   {
    "duration": 20,
    "start_time": "2022-07-19T09:33:25.860Z"
   },
   {
    "duration": 19,
    "start_time": "2022-07-19T09:33:38.057Z"
   },
   {
    "duration": 26,
    "start_time": "2022-07-19T09:34:00.406Z"
   },
   {
    "duration": 2,
    "start_time": "2022-07-19T09:37:34.958Z"
   },
   {
    "duration": 74,
    "start_time": "2022-07-19T09:37:35.738Z"
   },
   {
    "duration": 16,
    "start_time": "2022-07-19T09:37:36.230Z"
   },
   {
    "duration": 16,
    "start_time": "2022-07-19T09:37:37.204Z"
   },
   {
    "duration": 4,
    "start_time": "2022-07-19T09:37:39.098Z"
   },
   {
    "duration": 16,
    "start_time": "2022-07-19T09:37:39.493Z"
   },
   {
    "duration": 11,
    "start_time": "2022-07-19T09:37:41.249Z"
   },
   {
    "duration": 9,
    "start_time": "2022-07-19T09:37:48.571Z"
   },
   {
    "duration": 21,
    "start_time": "2022-07-19T09:37:49.276Z"
   },
   {
    "duration": 27,
    "start_time": "2022-07-19T09:37:49.800Z"
   },
   {
    "duration": 11,
    "start_time": "2022-07-19T09:37:50.270Z"
   },
   {
    "duration": 5,
    "start_time": "2022-07-19T09:37:51.184Z"
   },
   {
    "duration": 11,
    "start_time": "2022-07-19T09:37:53.627Z"
   },
   {
    "duration": 21,
    "start_time": "2022-07-19T09:37:54.060Z"
   },
   {
    "duration": 6,
    "start_time": "2022-07-19T09:37:54.940Z"
   },
   {
    "duration": 16,
    "start_time": "2022-07-19T09:37:56.246Z"
   },
   {
    "duration": 15,
    "start_time": "2022-07-19T09:37:56.896Z"
   },
   {
    "duration": 4,
    "start_time": "2022-07-19T09:37:58.347Z"
   },
   {
    "duration": 6,
    "start_time": "2022-07-19T09:37:59.203Z"
   },
   {
    "duration": 6,
    "start_time": "2022-07-19T09:37:59.659Z"
   },
   {
    "duration": 383,
    "start_time": "2022-07-19T09:38:01.694Z"
   },
   {
    "duration": 363,
    "start_time": "2022-07-19T09:38:04.494Z"
   },
   {
    "duration": 270,
    "start_time": "2022-07-19T09:38:05.525Z"
   },
   {
    "duration": 25,
    "start_time": "2022-07-19T09:38:09.237Z"
   },
   {
    "duration": 224,
    "start_time": "2022-07-19T09:38:10.287Z"
   },
   {
    "duration": 633,
    "start_time": "2022-07-19T09:38:11.903Z"
   },
   {
    "duration": 331,
    "start_time": "2022-07-19T09:38:14.745Z"
   },
   {
    "duration": 16,
    "start_time": "2022-07-19T09:38:15.282Z"
   },
   {
    "duration": 312,
    "start_time": "2022-07-19T09:38:16.443Z"
   },
   {
    "duration": 16,
    "start_time": "2022-07-19T09:38:16.992Z"
   },
   {
    "duration": 298,
    "start_time": "2022-07-19T09:38:17.557Z"
   },
   {
    "duration": 13,
    "start_time": "2022-07-19T09:38:18.183Z"
   },
   {
    "duration": 305,
    "start_time": "2022-07-19T09:38:18.692Z"
   },
   {
    "duration": 19,
    "start_time": "2022-07-19T09:38:19.427Z"
   },
   {
    "duration": 497,
    "start_time": "2022-07-19T09:38:20.387Z"
   },
   {
    "duration": 14,
    "start_time": "2022-07-19T09:38:21.567Z"
   },
   {
    "duration": 669,
    "start_time": "2022-07-19T09:38:23.961Z"
   },
   {
    "duration": 589,
    "start_time": "2022-07-19T09:38:29.027Z"
   },
   {
    "duration": 208,
    "start_time": "2022-07-19T09:46:18.410Z"
   },
   {
    "duration": 236,
    "start_time": "2022-07-19T09:46:29.969Z"
   },
   {
    "duration": 247,
    "start_time": "2022-07-19T09:49:27.692Z"
   },
   {
    "duration": 303,
    "start_time": "2022-07-19T09:49:46.847Z"
   },
   {
    "duration": 238,
    "start_time": "2022-07-19T09:50:11.533Z"
   },
   {
    "duration": 107,
    "start_time": "2022-07-19T09:50:56.301Z"
   },
   {
    "duration": 277,
    "start_time": "2022-07-19T09:51:03.907Z"
   },
   {
    "duration": 92,
    "start_time": "2022-07-19T09:51:16.446Z"
   },
   {
    "duration": 437,
    "start_time": "2022-07-19T09:51:21.057Z"
   },
   {
    "duration": 104,
    "start_time": "2022-07-19T09:52:10.625Z"
   },
   {
    "duration": 231,
    "start_time": "2022-07-19T09:52:52.054Z"
   },
   {
    "duration": 617,
    "start_time": "2022-07-19T09:57:10.414Z"
   },
   {
    "duration": 626,
    "start_time": "2022-07-19T09:58:02.279Z"
   },
   {
    "duration": 724,
    "start_time": "2022-07-19T09:58:32.770Z"
   },
   {
    "duration": 783,
    "start_time": "2022-07-19T09:58:49.372Z"
   },
   {
    "duration": 975,
    "start_time": "2022-07-19T09:59:15.366Z"
   },
   {
    "duration": 555,
    "start_time": "2022-07-19T09:59:25.922Z"
   },
   {
    "duration": 578,
    "start_time": "2022-07-19T09:59:33.257Z"
   },
   {
    "duration": 564,
    "start_time": "2022-07-19T09:59:46.625Z"
   },
   {
    "duration": 539,
    "start_time": "2022-07-19T09:59:57.307Z"
   },
   {
    "duration": 554,
    "start_time": "2022-07-19T10:00:00.275Z"
   },
   {
    "duration": 11,
    "start_time": "2022-07-19T10:00:40.963Z"
   },
   {
    "duration": 11,
    "start_time": "2022-07-19T10:00:59.547Z"
   },
   {
    "duration": 624,
    "start_time": "2022-07-19T10:01:02.352Z"
   },
   {
    "duration": 11,
    "start_time": "2022-07-19T10:02:35.757Z"
   },
   {
    "duration": 110,
    "start_time": "2022-07-19T10:08:24.176Z"
   },
   {
    "duration": 213,
    "start_time": "2022-07-19T10:10:20.022Z"
   },
   {
    "duration": 129,
    "start_time": "2022-07-19T10:10:46.343Z"
   },
   {
    "duration": 101,
    "start_time": "2022-07-19T10:11:05.987Z"
   },
   {
    "duration": 94,
    "start_time": "2022-07-19T10:11:20.653Z"
   },
   {
    "duration": 341,
    "start_time": "2022-07-19T10:11:37.187Z"
   },
   {
    "duration": 28,
    "start_time": "2022-07-19T10:12:44.167Z"
   },
   {
    "duration": 325,
    "start_time": "2022-07-19T10:12:55.457Z"
   },
   {
    "duration": 112,
    "start_time": "2022-07-19T10:13:18.803Z"
   },
   {
    "duration": 323,
    "start_time": "2022-07-19T10:13:33.060Z"
   },
   {
    "duration": 144,
    "start_time": "2022-07-19T10:15:23.504Z"
   },
   {
    "duration": 331,
    "start_time": "2022-07-19T10:15:33.338Z"
   },
   {
    "duration": 302,
    "start_time": "2022-07-19T10:17:39.488Z"
   },
   {
    "duration": 1127,
    "start_time": "2022-07-19T10:20:04.056Z"
   },
   {
    "duration": 51,
    "start_time": "2022-07-19T10:20:21.128Z"
   },
   {
    "duration": 18,
    "start_time": "2022-07-19T10:20:25.562Z"
   },
   {
    "duration": 304,
    "start_time": "2022-07-19T10:20:32.481Z"
   },
   {
    "duration": 292,
    "start_time": "2022-07-19T10:20:47.886Z"
   },
   {
    "duration": 3,
    "start_time": "2022-07-19T10:23:28.141Z"
   },
   {
    "duration": 48,
    "start_time": "2022-07-19T10:23:29.789Z"
   },
   {
    "duration": 15,
    "start_time": "2022-07-19T10:23:30.379Z"
   },
   {
    "duration": 15,
    "start_time": "2022-07-19T10:23:31.751Z"
   },
   {
    "duration": 4,
    "start_time": "2022-07-19T10:23:34.586Z"
   },
   {
    "duration": 13,
    "start_time": "2022-07-19T10:23:35.112Z"
   },
   {
    "duration": 11,
    "start_time": "2022-07-19T10:23:37.690Z"
   },
   {
    "duration": 10,
    "start_time": "2022-07-19T10:23:38.783Z"
   },
   {
    "duration": 22,
    "start_time": "2022-07-19T10:23:39.465Z"
   },
   {
    "duration": 18,
    "start_time": "2022-07-19T10:23:40.215Z"
   },
   {
    "duration": 7,
    "start_time": "2022-07-19T10:23:40.970Z"
   },
   {
    "duration": 5,
    "start_time": "2022-07-19T10:23:42.741Z"
   },
   {
    "duration": 7,
    "start_time": "2022-07-19T10:26:01.803Z"
   },
   {
    "duration": 15,
    "start_time": "2022-07-19T10:26:04.522Z"
   },
   {
    "duration": 1023,
    "start_time": "2022-07-19T10:27:00.448Z"
   },
   {
    "duration": 6,
    "start_time": "2022-07-19T10:27:06.853Z"
   },
   {
    "duration": 15,
    "start_time": "2022-07-19T10:27:10.183Z"
   },
   {
    "duration": 4,
    "start_time": "2022-07-19T10:28:37.076Z"
   },
   {
    "duration": 7,
    "start_time": "2022-07-19T10:28:39.512Z"
   },
   {
    "duration": 13,
    "start_time": "2022-07-19T10:28:40.083Z"
   },
   {
    "duration": 1033,
    "start_time": "2022-07-19T10:28:53.898Z"
   },
   {
    "duration": 50,
    "start_time": "2022-07-19T10:28:55.736Z"
   },
   {
    "duration": 17,
    "start_time": "2022-07-19T10:28:56.228Z"
   },
   {
    "duration": 13,
    "start_time": "2022-07-19T10:28:57.452Z"
   },
   {
    "duration": 3,
    "start_time": "2022-07-19T10:28:59.250Z"
   },
   {
    "duration": 12,
    "start_time": "2022-07-19T10:28:59.762Z"
   },
   {
    "duration": 9,
    "start_time": "2022-07-19T10:29:02.641Z"
   },
   {
    "duration": 12,
    "start_time": "2022-07-19T10:29:03.703Z"
   },
   {
    "duration": 20,
    "start_time": "2022-07-19T10:29:04.350Z"
   },
   {
    "duration": 17,
    "start_time": "2022-07-19T10:29:04.749Z"
   },
   {
    "duration": 9,
    "start_time": "2022-07-19T10:29:05.356Z"
   },
   {
    "duration": 5,
    "start_time": "2022-07-19T10:29:06.466Z"
   },
   {
    "duration": 7,
    "start_time": "2022-07-19T10:29:09.686Z"
   },
   {
    "duration": 10,
    "start_time": "2022-07-19T10:29:10.354Z"
   },
   {
    "duration": 13,
    "start_time": "2022-07-19T10:29:11.033Z"
   },
   {
    "duration": 4,
    "start_time": "2022-07-19T10:29:23.784Z"
   },
   {
    "duration": 13,
    "start_time": "2022-07-19T10:29:24.142Z"
   },
   {
    "duration": 4,
    "start_time": "2022-07-19T10:29:26.309Z"
   },
   {
    "duration": 13,
    "start_time": "2022-07-19T10:29:27.964Z"
   },
   {
    "duration": 13,
    "start_time": "2022-07-19T10:29:28.568Z"
   },
   {
    "duration": 6,
    "start_time": "2022-07-19T10:29:33.913Z"
   },
   {
    "duration": 4,
    "start_time": "2022-07-19T10:29:34.943Z"
   },
   {
    "duration": 7,
    "start_time": "2022-07-19T10:29:35.566Z"
   },
   {
    "duration": 152,
    "start_time": "2022-07-19T10:38:41.160Z"
   },
   {
    "duration": 42,
    "start_time": "2022-07-19T10:43:47.952Z"
   },
   {
    "duration": 35,
    "start_time": "2022-07-19T10:44:23.545Z"
   },
   {
    "duration": 373,
    "start_time": "2022-07-19T10:45:25.175Z"
   },
   {
    "duration": 8,
    "start_time": "2022-07-19T10:45:38.196Z"
   },
   {
    "duration": 6,
    "start_time": "2022-07-19T10:45:50.256Z"
   },
   {
    "duration": 8,
    "start_time": "2022-07-19T10:46:08.093Z"
   },
   {
    "duration": 8,
    "start_time": "2022-07-19T10:46:09.971Z"
   },
   {
    "duration": 8,
    "start_time": "2022-07-19T10:46:28.774Z"
   },
   {
    "duration": 368,
    "start_time": "2022-07-19T10:46:47.159Z"
   },
   {
    "duration": 318,
    "start_time": "2022-07-19T10:46:51.452Z"
   },
   {
    "duration": 12,
    "start_time": "2022-07-19T10:47:30.125Z"
   },
   {
    "duration": 3,
    "start_time": "2022-07-19T10:47:40.544Z"
   },
   {
    "duration": 47,
    "start_time": "2022-07-19T10:47:41.344Z"
   },
   {
    "duration": 15,
    "start_time": "2022-07-19T10:47:41.768Z"
   },
   {
    "duration": 13,
    "start_time": "2022-07-19T10:47:42.358Z"
   },
   {
    "duration": 4,
    "start_time": "2022-07-19T10:47:43.960Z"
   },
   {
    "duration": 12,
    "start_time": "2022-07-19T10:47:44.345Z"
   },
   {
    "duration": 9,
    "start_time": "2022-07-19T10:47:46.795Z"
   },
   {
    "duration": 10,
    "start_time": "2022-07-19T10:47:47.770Z"
   },
   {
    "duration": 25,
    "start_time": "2022-07-19T10:47:48.189Z"
   },
   {
    "duration": 15,
    "start_time": "2022-07-19T10:47:48.650Z"
   },
   {
    "duration": 7,
    "start_time": "2022-07-19T10:47:49.158Z"
   },
   {
    "duration": 4,
    "start_time": "2022-07-19T10:47:50.074Z"
   },
   {
    "duration": 7,
    "start_time": "2022-07-19T10:47:52.839Z"
   },
   {
    "duration": 12,
    "start_time": "2022-07-19T10:47:53.204Z"
   },
   {
    "duration": 4,
    "start_time": "2022-07-19T10:47:54.488Z"
   },
   {
    "duration": 14,
    "start_time": "2022-07-19T10:47:55.950Z"
   },
   {
    "duration": 13,
    "start_time": "2022-07-19T10:47:56.410Z"
   },
   {
    "duration": 5,
    "start_time": "2022-07-19T10:47:58.060Z"
   },
   {
    "duration": 2,
    "start_time": "2022-07-19T10:47:58.944Z"
   },
   {
    "duration": 8,
    "start_time": "2022-07-19T10:47:59.446Z"
   },
   {
    "duration": 6,
    "start_time": "2022-07-19T10:48:00.648Z"
   },
   {
    "duration": 39,
    "start_time": "2022-07-19T10:48:51.362Z"
   },
   {
    "duration": 2143,
    "start_time": "2022-07-19T10:49:07.010Z"
   },
   {
    "duration": 406,
    "start_time": "2022-07-19T10:49:09.155Z"
   },
   {
    "duration": 272,
    "start_time": "2022-07-19T10:49:09.564Z"
   },
   {
    "duration": 27,
    "start_time": "2022-07-19T10:49:15.209Z"
   },
   {
    "duration": 194,
    "start_time": "2022-07-19T10:49:17.859Z"
   },
   {
    "duration": 792,
    "start_time": "2022-07-19T10:49:20.608Z"
   },
   {
    "duration": 359,
    "start_time": "2022-07-19T10:49:23.624Z"
   },
   {
    "duration": 17,
    "start_time": "2022-07-19T10:49:24.076Z"
   },
   {
    "duration": 422,
    "start_time": "2022-07-19T10:49:25.161Z"
   },
   {
    "duration": 17,
    "start_time": "2022-07-19T10:49:25.728Z"
   },
   {
    "duration": 308,
    "start_time": "2022-07-19T10:49:26.140Z"
   },
   {
    "duration": 20,
    "start_time": "2022-07-19T10:49:26.604Z"
   },
   {
    "duration": 335,
    "start_time": "2022-07-19T10:49:27.072Z"
   },
   {
    "duration": 19,
    "start_time": "2022-07-19T10:49:27.570Z"
   },
   {
    "duration": 512,
    "start_time": "2022-07-19T10:49:28.245Z"
   },
   {
    "duration": 15,
    "start_time": "2022-07-19T10:49:28.760Z"
   },
   {
    "duration": 684,
    "start_time": "2022-07-19T10:49:30.972Z"
   },
   {
    "duration": 543,
    "start_time": "2022-07-19T10:49:36.281Z"
   },
   {
    "duration": 311,
    "start_time": "2022-07-19T10:49:46.037Z"
   },
   {
    "duration": 564,
    "start_time": "2022-07-19T10:51:43.853Z"
   },
   {
    "duration": 19,
    "start_time": "2022-07-19T10:53:25.545Z"
   },
   {
    "duration": 16,
    "start_time": "2022-07-19T10:53:27.270Z"
   },
   {
    "duration": 13,
    "start_time": "2022-07-19T10:55:30.835Z"
   },
   {
    "duration": 12,
    "start_time": "2022-07-19T10:56:00.398Z"
   },
   {
    "duration": 9,
    "start_time": "2022-07-19T10:59:14.588Z"
   },
   {
    "duration": 22,
    "start_time": "2022-07-19T10:59:19.740Z"
   },
   {
    "duration": 24,
    "start_time": "2022-07-19T10:59:20.981Z"
   },
   {
    "duration": 4,
    "start_time": "2022-07-19T10:59:31.440Z"
   },
   {
    "duration": 14,
    "start_time": "2022-07-19T10:59:35.652Z"
   },
   {
    "duration": 1123,
    "start_time": "2022-07-19T11:00:06.231Z"
   },
   {
    "duration": 92,
    "start_time": "2022-07-19T11:00:07.356Z"
   },
   {
    "duration": 23,
    "start_time": "2022-07-19T11:00:08.227Z"
   },
   {
    "duration": 14,
    "start_time": "2022-07-19T11:00:09.677Z"
   },
   {
    "duration": 4,
    "start_time": "2022-07-19T11:00:11.795Z"
   },
   {
    "duration": 13,
    "start_time": "2022-07-19T11:00:12.286Z"
   },
   {
    "duration": 9,
    "start_time": "2022-07-19T11:00:14.507Z"
   },
   {
    "duration": 17,
    "start_time": "2022-07-19T11:00:15.640Z"
   },
   {
    "duration": 21,
    "start_time": "2022-07-19T11:00:16.334Z"
   },
   {
    "duration": 22,
    "start_time": "2022-07-19T11:00:16.842Z"
   },
   {
    "duration": 11,
    "start_time": "2022-07-19T11:00:17.340Z"
   },
   {
    "duration": 4,
    "start_time": "2022-07-19T11:00:18.426Z"
   },
   {
    "duration": 8,
    "start_time": "2022-07-19T11:00:19.749Z"
   },
   {
    "duration": 3,
    "start_time": "2022-07-19T11:00:23.385Z"
   },
   {
    "duration": 18,
    "start_time": "2022-07-19T11:00:23.874Z"
   },
   {
    "duration": 5,
    "start_time": "2022-07-19T11:00:34.401Z"
   },
   {
    "duration": 16,
    "start_time": "2022-07-19T11:00:36.010Z"
   },
   {
    "duration": 12,
    "start_time": "2022-07-19T11:00:36.559Z"
   },
   {
    "duration": 5,
    "start_time": "2022-07-19T11:00:38.453Z"
   },
   {
    "duration": 3,
    "start_time": "2022-07-19T11:00:39.974Z"
   },
   {
    "duration": 11,
    "start_time": "2022-07-19T11:00:40.398Z"
   },
   {
    "duration": 7,
    "start_time": "2022-07-19T11:00:40.916Z"
   },
   {
    "duration": 384,
    "start_time": "2022-07-19T11:00:43.276Z"
   },
   {
    "duration": 307,
    "start_time": "2022-07-19T11:00:48.787Z"
   },
   {
    "duration": 242,
    "start_time": "2022-07-19T11:00:50.870Z"
   },
   {
    "duration": 33,
    "start_time": "2022-07-19T11:00:58.475Z"
   },
   {
    "duration": 206,
    "start_time": "2022-07-19T11:01:00.005Z"
   },
   {
    "duration": 639,
    "start_time": "2022-07-19T11:01:02.702Z"
   },
   {
    "duration": 246,
    "start_time": "2022-07-19T11:01:05.715Z"
   },
   {
    "duration": 273,
    "start_time": "2022-07-19T11:01:06.289Z"
   },
   {
    "duration": 18,
    "start_time": "2022-07-19T11:02:26.670Z"
   },
   {
    "duration": 5,
    "start_time": "2022-07-19T11:03:47.731Z"
   },
   {
    "duration": 18,
    "start_time": "2022-07-19T11:03:49.636Z"
   },
   {
    "duration": 18,
    "start_time": "2022-07-19T11:04:10.150Z"
   },
   {
    "duration": 7,
    "start_time": "2022-07-19T11:04:44.557Z"
   },
   {
    "duration": 13,
    "start_time": "2022-07-19T11:04:59.016Z"
   },
   {
    "duration": 1083,
    "start_time": "2022-07-19T11:05:30.160Z"
   },
   {
    "duration": 51,
    "start_time": "2022-07-19T11:05:31.245Z"
   },
   {
    "duration": 18,
    "start_time": "2022-07-19T11:05:31.298Z"
   },
   {
    "duration": 14,
    "start_time": "2022-07-19T11:05:32.212Z"
   },
   {
    "duration": 3,
    "start_time": "2022-07-19T11:05:33.691Z"
   },
   {
    "duration": 14,
    "start_time": "2022-07-19T11:05:34.100Z"
   },
   {
    "duration": 10,
    "start_time": "2022-07-19T11:05:35.954Z"
   },
   {
    "duration": 9,
    "start_time": "2022-07-19T11:05:36.840Z"
   },
   {
    "duration": 18,
    "start_time": "2022-07-19T11:05:37.351Z"
   },
   {
    "duration": 15,
    "start_time": "2022-07-19T11:05:37.988Z"
   },
   {
    "duration": 7,
    "start_time": "2022-07-19T11:05:38.883Z"
   },
   {
    "duration": 5,
    "start_time": "2022-07-19T11:05:39.852Z"
   },
   {
    "duration": 8,
    "start_time": "2022-07-19T11:05:40.813Z"
   },
   {
    "duration": 5,
    "start_time": "2022-07-19T11:05:44.129Z"
   },
   {
    "duration": 14,
    "start_time": "2022-07-19T11:05:47.476Z"
   },
   {
    "duration": 7,
    "start_time": "2022-07-19T11:06:17.476Z"
   },
   {
    "duration": 12,
    "start_time": "2022-07-19T11:06:19.840Z"
   },
   {
    "duration": 5,
    "start_time": "2022-07-19T11:06:22.879Z"
   },
   {
    "duration": 14,
    "start_time": "2022-07-19T11:06:24.390Z"
   },
   {
    "duration": 13,
    "start_time": "2022-07-19T11:06:24.858Z"
   },
   {
    "duration": 5,
    "start_time": "2022-07-19T11:06:26.427Z"
   },
   {
    "duration": 3,
    "start_time": "2022-07-19T11:06:27.327Z"
   },
   {
    "duration": 7,
    "start_time": "2022-07-19T11:06:27.749Z"
   },
   {
    "duration": 8,
    "start_time": "2022-07-19T11:06:28.225Z"
   },
   {
    "duration": 389,
    "start_time": "2022-07-19T11:06:29.907Z"
   },
   {
    "duration": 300,
    "start_time": "2022-07-19T11:06:32.556Z"
   },
   {
    "duration": 255,
    "start_time": "2022-07-19T11:06:33.825Z"
   },
   {
    "duration": 24,
    "start_time": "2022-07-19T11:06:37.649Z"
   },
   {
    "duration": 199,
    "start_time": "2022-07-19T11:06:38.503Z"
   },
   {
    "duration": 588,
    "start_time": "2022-07-19T11:06:39.761Z"
   },
   {
    "duration": 259,
    "start_time": "2022-07-19T11:06:42.628Z"
   },
   {
    "duration": 14,
    "start_time": "2022-07-19T11:06:43.245Z"
   },
   {
    "duration": 351,
    "start_time": "2022-07-19T11:07:45.957Z"
   },
   {
    "duration": 15,
    "start_time": "2022-07-19T11:08:17.791Z"
   },
   {
    "duration": 284,
    "start_time": "2022-07-19T11:10:00.117Z"
   },
   {
    "duration": 19,
    "start_time": "2022-07-19T11:10:00.982Z"
   },
   {
    "duration": 291,
    "start_time": "2022-07-19T11:10:02.111Z"
   },
   {
    "duration": 14,
    "start_time": "2022-07-19T11:10:02.969Z"
   },
   {
    "duration": 286,
    "start_time": "2022-07-19T11:10:04.035Z"
   },
   {
    "duration": 14,
    "start_time": "2022-07-19T11:10:04.949Z"
   },
   {
    "duration": 292,
    "start_time": "2022-07-19T11:10:05.713Z"
   },
   {
    "duration": 16,
    "start_time": "2022-07-19T11:10:06.567Z"
   },
   {
    "duration": 330,
    "start_time": "2022-07-19T11:10:07.222Z"
   },
   {
    "duration": 14,
    "start_time": "2022-07-19T11:10:08.184Z"
   },
   {
    "duration": 731,
    "start_time": "2022-07-19T11:10:11.463Z"
   },
   {
    "duration": 518,
    "start_time": "2022-07-19T11:10:16.731Z"
   },
   {
    "duration": 312,
    "start_time": "2022-07-19T11:10:19.281Z"
   },
   {
    "duration": 451,
    "start_time": "2022-07-19T11:10:22.821Z"
   },
   {
    "duration": 13,
    "start_time": "2022-07-19T11:10:29.438Z"
   },
   {
    "duration": 11,
    "start_time": "2022-07-19T11:10:57.875Z"
   },
   {
    "duration": 2,
    "start_time": "2022-07-19T11:11:36.685Z"
   },
   {
    "duration": 5,
    "start_time": "2022-07-19T11:11:43.198Z"
   },
   {
    "duration": 16,
    "start_time": "2022-07-19T11:11:45.848Z"
   },
   {
    "duration": 1161,
    "start_time": "2022-07-19T11:12:05.103Z"
   },
   {
    "duration": 54,
    "start_time": "2022-07-19T11:12:06.266Z"
   },
   {
    "duration": 20,
    "start_time": "2022-07-19T11:12:06.321Z"
   },
   {
    "duration": 14,
    "start_time": "2022-07-19T11:12:07.010Z"
   },
   {
    "duration": 4,
    "start_time": "2022-07-19T11:12:08.659Z"
   },
   {
    "duration": 12,
    "start_time": "2022-07-19T11:12:09.024Z"
   },
   {
    "duration": 11,
    "start_time": "2022-07-19T11:12:10.645Z"
   },
   {
    "duration": 10,
    "start_time": "2022-07-19T11:12:11.378Z"
   },
   {
    "duration": 22,
    "start_time": "2022-07-19T11:12:11.764Z"
   },
   {
    "duration": 15,
    "start_time": "2022-07-19T11:12:12.092Z"
   },
   {
    "duration": 7,
    "start_time": "2022-07-19T11:12:12.435Z"
   },
   {
    "duration": 6,
    "start_time": "2022-07-19T11:12:14.277Z"
   },
   {
    "duration": 4,
    "start_time": "2022-07-19T11:12:15.275Z"
   },
   {
    "duration": 9,
    "start_time": "2022-07-19T11:12:17.881Z"
   },
   {
    "duration": 14,
    "start_time": "2022-07-19T11:12:18.559Z"
   },
   {
    "duration": 6,
    "start_time": "2022-07-19T11:12:27.780Z"
   },
   {
    "duration": 15,
    "start_time": "2022-07-19T11:12:28.644Z"
   },
   {
    "duration": 13,
    "start_time": "2022-07-19T11:12:28.890Z"
   },
   {
    "duration": 4,
    "start_time": "2022-07-19T11:12:29.544Z"
   },
   {
    "duration": 3,
    "start_time": "2022-07-19T11:12:29.911Z"
   },
   {
    "duration": 8,
    "start_time": "2022-07-19T11:12:30.115Z"
   },
   {
    "duration": 7,
    "start_time": "2022-07-19T11:12:30.377Z"
   },
   {
    "duration": 415,
    "start_time": "2022-07-19T11:12:31.303Z"
   },
   {
    "duration": 301,
    "start_time": "2022-07-19T11:12:32.636Z"
   },
   {
    "duration": 250,
    "start_time": "2022-07-19T11:12:34.242Z"
   },
   {
    "duration": 27,
    "start_time": "2022-07-19T11:12:37.469Z"
   },
   {
    "duration": 204,
    "start_time": "2022-07-19T11:12:38.284Z"
   },
   {
    "duration": 590,
    "start_time": "2022-07-19T11:12:39.976Z"
   },
   {
    "duration": 294,
    "start_time": "2022-07-19T11:12:51.220Z"
   },
   {
    "duration": 15,
    "start_time": "2022-07-19T11:13:01.165Z"
   },
   {
    "duration": 362,
    "start_time": "2022-07-19T11:13:58.278Z"
   },
   {
    "duration": 14,
    "start_time": "2022-07-19T11:13:59.176Z"
   },
   {
    "duration": 270,
    "start_time": "2022-07-19T11:13:59.683Z"
   },
   {
    "duration": 13,
    "start_time": "2022-07-19T11:14:00.150Z"
   },
   {
    "duration": 271,
    "start_time": "2022-07-19T11:14:00.445Z"
   },
   {
    "duration": 14,
    "start_time": "2022-07-19T11:14:00.798Z"
   },
   {
    "duration": 316,
    "start_time": "2022-07-19T11:14:01.398Z"
   },
   {
    "duration": 13,
    "start_time": "2022-07-19T11:14:01.718Z"
   },
   {
    "duration": 683,
    "start_time": "2022-07-19T11:14:02.964Z"
   },
   {
    "duration": 664,
    "start_time": "2022-07-19T11:14:06.191Z"
   },
   {
    "duration": 316,
    "start_time": "2022-07-19T11:14:07.069Z"
   },
   {
    "duration": 494,
    "start_time": "2022-07-19T11:14:07.996Z"
   },
   {
    "duration": 11,
    "start_time": "2022-07-19T11:14:13.727Z"
   },
   {
    "duration": 13,
    "start_time": "2022-07-19T11:14:20.999Z"
   },
   {
    "duration": 11,
    "start_time": "2022-07-19T11:14:22.400Z"
   },
   {
    "duration": 10,
    "start_time": "2022-07-19T11:14:57.537Z"
   },
   {
    "duration": 1182,
    "start_time": "2022-07-20T06:26:28.582Z"
   },
   {
    "duration": 181,
    "start_time": "2022-07-20T06:26:29.766Z"
   },
   {
    "duration": 16,
    "start_time": "2022-07-20T06:26:29.949Z"
   },
   {
    "duration": 13,
    "start_time": "2022-07-20T06:26:29.967Z"
   },
   {
    "duration": 3,
    "start_time": "2022-07-20T06:26:29.981Z"
   },
   {
    "duration": 13,
    "start_time": "2022-07-20T06:26:29.986Z"
   },
   {
    "duration": 8,
    "start_time": "2022-07-20T06:26:30.001Z"
   },
   {
    "duration": 13,
    "start_time": "2022-07-20T06:26:30.011Z"
   },
   {
    "duration": 39,
    "start_time": "2022-07-20T06:26:30.026Z"
   },
   {
    "duration": 14,
    "start_time": "2022-07-20T06:26:30.067Z"
   },
   {
    "duration": 7,
    "start_time": "2022-07-20T06:26:30.083Z"
   },
   {
    "duration": 9,
    "start_time": "2022-07-20T06:26:30.091Z"
   },
   {
    "duration": 18,
    "start_time": "2022-07-20T06:26:30.101Z"
   },
   {
    "duration": 12,
    "start_time": "2022-07-20T06:26:30.120Z"
   },
   {
    "duration": 19,
    "start_time": "2022-07-20T06:26:30.133Z"
   },
   {
    "duration": 6,
    "start_time": "2022-07-20T06:26:30.154Z"
   },
   {
    "duration": 50,
    "start_time": "2022-07-20T06:26:30.162Z"
   },
   {
    "duration": 38,
    "start_time": "2022-07-20T06:26:30.214Z"
   },
   {
    "duration": 7,
    "start_time": "2022-07-20T06:26:30.254Z"
   },
   {
    "duration": 12,
    "start_time": "2022-07-20T06:26:30.262Z"
   },
   {
    "duration": 28,
    "start_time": "2022-07-20T06:26:30.275Z"
   },
   {
    "duration": 35,
    "start_time": "2022-07-20T06:26:30.305Z"
   },
   {
    "duration": 354,
    "start_time": "2022-07-20T06:26:30.342Z"
   },
   {
    "duration": 293,
    "start_time": "2022-07-20T06:26:30.698Z"
   },
   {
    "duration": 230,
    "start_time": "2022-07-20T06:26:30.993Z"
   },
   {
    "duration": 23,
    "start_time": "2022-07-20T06:26:31.224Z"
   },
   {
    "duration": 186,
    "start_time": "2022-07-20T06:26:31.248Z"
   },
   {
    "duration": 545,
    "start_time": "2022-07-20T06:26:31.437Z"
   },
   {
    "duration": 295,
    "start_time": "2022-07-20T06:26:31.984Z"
   },
   {
    "duration": 12,
    "start_time": "2022-07-20T06:26:32.281Z"
   },
   {
    "duration": 373,
    "start_time": "2022-07-20T06:26:32.294Z"
   },
   {
    "duration": 11,
    "start_time": "2022-07-20T06:26:32.669Z"
   },
   {
    "duration": 266,
    "start_time": "2022-07-20T06:26:32.681Z"
   },
   {
    "duration": 13,
    "start_time": "2022-07-20T06:26:32.953Z"
   },
   {
    "duration": 265,
    "start_time": "2022-07-20T06:26:32.968Z"
   },
   {
    "duration": 23,
    "start_time": "2022-07-20T06:26:33.235Z"
   },
   {
    "duration": 266,
    "start_time": "2022-07-20T06:26:33.260Z"
   },
   {
    "duration": 25,
    "start_time": "2022-07-20T06:26:33.528Z"
   },
   {
    "duration": 566,
    "start_time": "2022-07-20T06:26:33.554Z"
   },
   {
    "duration": 581,
    "start_time": "2022-07-20T06:26:34.121Z"
   },
   {
    "duration": 321,
    "start_time": "2022-07-20T06:26:34.703Z"
   },
   {
    "duration": 0,
    "start_time": "2022-07-20T06:26:35.026Z"
   },
   {
    "duration": 0,
    "start_time": "2022-07-20T06:26:35.027Z"
   },
   {
    "duration": 0,
    "start_time": "2022-07-20T06:26:35.029Z"
   },
   {
    "duration": 302,
    "start_time": "2022-07-20T06:26:59.363Z"
   },
   {
    "duration": 319,
    "start_time": "2022-07-20T06:27:21.286Z"
   },
   {
    "duration": 287,
    "start_time": "2022-07-20T06:28:10.654Z"
   },
   {
    "duration": 403,
    "start_time": "2022-07-20T06:28:17.590Z"
   },
   {
    "duration": 392,
    "start_time": "2022-07-20T06:28:26.837Z"
   },
   {
    "duration": 10,
    "start_time": "2022-07-20T06:29:59.551Z"
   },
   {
    "duration": 9,
    "start_time": "2022-07-20T06:30:11.362Z"
   },
   {
    "duration": 6,
    "start_time": "2022-07-20T06:32:20.293Z"
   },
   {
    "duration": 1615,
    "start_time": "2022-07-20T06:35:10.934Z"
   },
   {
    "duration": 70,
    "start_time": "2022-07-20T06:35:12.551Z"
   },
   {
    "duration": 26,
    "start_time": "2022-07-20T06:35:12.624Z"
   },
   {
    "duration": 20,
    "start_time": "2022-07-20T06:35:12.652Z"
   },
   {
    "duration": 4,
    "start_time": "2022-07-20T06:35:12.675Z"
   },
   {
    "duration": 23,
    "start_time": "2022-07-20T06:35:12.681Z"
   },
   {
    "duration": 13,
    "start_time": "2022-07-20T06:35:12.706Z"
   },
   {
    "duration": 32,
    "start_time": "2022-07-20T06:35:12.721Z"
   },
   {
    "duration": 31,
    "start_time": "2022-07-20T06:35:12.755Z"
   },
   {
    "duration": 15,
    "start_time": "2022-07-20T06:35:12.787Z"
   },
   {
    "duration": 9,
    "start_time": "2022-07-20T06:35:12.805Z"
   },
   {
    "duration": 38,
    "start_time": "2022-07-20T06:35:12.816Z"
   },
   {
    "duration": 4,
    "start_time": "2022-07-20T06:35:12.855Z"
   },
   {
    "duration": 9,
    "start_time": "2022-07-20T06:35:12.862Z"
   },
   {
    "duration": 14,
    "start_time": "2022-07-20T06:35:12.873Z"
   },
   {
    "duration": 4,
    "start_time": "2022-07-20T06:35:12.889Z"
   },
   {
    "duration": 15,
    "start_time": "2022-07-20T06:35:12.895Z"
   },
   {
    "duration": 45,
    "start_time": "2022-07-20T06:35:12.912Z"
   },
   {
    "duration": 4,
    "start_time": "2022-07-20T06:35:12.959Z"
   },
   {
    "duration": 5,
    "start_time": "2022-07-20T06:35:12.965Z"
   },
   {
    "duration": 13,
    "start_time": "2022-07-20T06:35:12.972Z"
   },
   {
    "duration": 7,
    "start_time": "2022-07-20T06:35:12.987Z"
   },
   {
    "duration": 411,
    "start_time": "2022-07-20T06:35:12.996Z"
   },
   {
    "duration": 441,
    "start_time": "2022-07-20T06:35:13.409Z"
   },
   {
    "duration": 247,
    "start_time": "2022-07-20T06:35:13.852Z"
   },
   {
    "duration": 27,
    "start_time": "2022-07-20T06:35:14.101Z"
   },
   {
    "duration": 204,
    "start_time": "2022-07-20T06:35:14.130Z"
   },
   {
    "duration": 580,
    "start_time": "2022-07-20T06:35:14.335Z"
   },
   {
    "duration": 287,
    "start_time": "2022-07-20T06:35:14.917Z"
   },
   {
    "duration": 11,
    "start_time": "2022-07-20T06:35:15.205Z"
   },
   {
    "duration": 346,
    "start_time": "2022-07-20T06:35:15.218Z"
   },
   {
    "duration": 13,
    "start_time": "2022-07-20T06:35:15.565Z"
   },
   {
    "duration": 264,
    "start_time": "2022-07-20T06:35:15.579Z"
   },
   {
    "duration": 15,
    "start_time": "2022-07-20T06:35:15.844Z"
   },
   {
    "duration": 298,
    "start_time": "2022-07-20T06:35:15.860Z"
   },
   {
    "duration": 16,
    "start_time": "2022-07-20T06:35:16.161Z"
   },
   {
    "duration": 301,
    "start_time": "2022-07-20T06:35:16.179Z"
   },
   {
    "duration": 12,
    "start_time": "2022-07-20T06:35:16.482Z"
   },
   {
    "duration": 595,
    "start_time": "2022-07-20T06:35:16.496Z"
   },
   {
    "duration": 744,
    "start_time": "2022-07-20T06:35:17.092Z"
   },
   {
    "duration": 334,
    "start_time": "2022-07-20T06:35:17.839Z"
   },
   {
    "duration": 610,
    "start_time": "2022-07-20T06:35:18.174Z"
   },
   {
    "duration": 902,
    "start_time": "2022-07-20T06:35:18.786Z"
   },
   {
    "duration": 63,
    "start_time": "2022-07-20T06:35:19.690Z"
   },
   {
    "duration": 11,
    "start_time": "2022-07-20T06:35:19.755Z"
   },
   {
    "duration": 11,
    "start_time": "2022-07-20T06:35:19.767Z"
   },
   {
    "duration": 49,
    "start_time": "2022-07-20T06:37:08.897Z"
   },
   {
    "duration": 3,
    "start_time": "2022-07-20T06:37:09.514Z"
   },
   {
    "duration": 10,
    "start_time": "2022-07-20T06:37:09.899Z"
   },
   {
    "duration": 93,
    "start_time": "2022-07-20T06:37:10.122Z"
   },
   {
    "duration": 4,
    "start_time": "2022-07-20T06:37:10.418Z"
   },
   {
    "duration": 3,
    "start_time": "2022-07-20T06:37:35.524Z"
   },
   {
    "duration": 5,
    "start_time": "2022-07-20T06:37:37.795Z"
   },
   {
    "duration": 4,
    "start_time": "2022-07-20T06:37:39.563Z"
   },
   {
    "duration": 6,
    "start_time": "2022-07-20T06:37:39.955Z"
   },
   {
    "duration": 5,
    "start_time": "2022-07-20T06:37:40.635Z"
   },
   {
    "duration": 829,
    "start_time": "2022-07-20T06:37:41.371Z"
   },
   {
    "duration": 1357,
    "start_time": "2022-07-20T14:45:11.154Z"
   },
   {
    "duration": 120,
    "start_time": "2022-07-20T14:45:15.253Z"
   },
   {
    "duration": 19,
    "start_time": "2022-07-20T14:45:15.712Z"
   },
   {
    "duration": 16,
    "start_time": "2022-07-20T14:45:17.480Z"
   },
   {
    "duration": 4,
    "start_time": "2022-07-20T14:45:23.775Z"
   },
   {
    "duration": 22,
    "start_time": "2022-07-20T14:45:24.316Z"
   },
   {
    "duration": 15,
    "start_time": "2022-07-20T14:45:27.761Z"
   },
   {
    "duration": 11,
    "start_time": "2022-07-20T14:45:29.720Z"
   },
   {
    "duration": 31,
    "start_time": "2022-07-20T14:45:33.182Z"
   },
   {
    "duration": 17,
    "start_time": "2022-07-20T14:45:33.954Z"
   },
   {
    "duration": 8,
    "start_time": "2022-07-20T14:45:34.753Z"
   },
   {
    "duration": 5,
    "start_time": "2022-07-20T14:45:37.724Z"
   },
   {
    "duration": 3,
    "start_time": "2022-07-20T14:45:38.683Z"
   },
   {
    "duration": 8,
    "start_time": "2022-07-20T14:45:48.948Z"
   },
   {
    "duration": 13,
    "start_time": "2022-07-20T14:45:49.749Z"
   },
   {
    "duration": 8,
    "start_time": "2022-07-20T14:47:26.721Z"
   },
   {
    "duration": 14,
    "start_time": "2022-07-20T14:47:27.402Z"
   },
   {
    "duration": 5,
    "start_time": "2022-07-20T14:47:34.804Z"
   },
   {
    "duration": 20,
    "start_time": "2022-07-20T14:47:38.676Z"
   },
   {
    "duration": 18,
    "start_time": "2022-07-20T14:47:39.714Z"
   },
   {
    "duration": 6,
    "start_time": "2022-07-20T14:47:46.477Z"
   },
   {
    "duration": 2,
    "start_time": "2022-07-20T14:47:47.414Z"
   },
   {
    "duration": 8,
    "start_time": "2022-07-20T14:47:48.651Z"
   },
   {
    "duration": 7,
    "start_time": "2022-07-20T14:47:50.673Z"
   },
   {
    "duration": 4,
    "start_time": "2022-07-20T14:48:48.727Z"
   },
   {
    "duration": 3,
    "start_time": "2022-07-20T14:48:50.810Z"
   },
   {
    "duration": 7,
    "start_time": "2022-07-20T14:48:51.185Z"
   },
   {
    "duration": 7,
    "start_time": "2022-07-20T14:48:51.716Z"
   },
   {
    "duration": 391,
    "start_time": "2022-07-20T14:49:34.600Z"
   },
   {
    "duration": 334,
    "start_time": "2022-07-20T14:49:38.573Z"
   },
   {
    "duration": 276,
    "start_time": "2022-07-20T14:49:40.272Z"
   },
   {
    "duration": 26,
    "start_time": "2022-07-20T14:49:47.812Z"
   },
   {
    "duration": 201,
    "start_time": "2022-07-20T14:49:49.471Z"
   },
   {
    "duration": 650,
    "start_time": "2022-07-20T14:49:51.521Z"
   },
   {
    "duration": 287,
    "start_time": "2022-07-20T14:49:57.696Z"
   },
   {
    "duration": 17,
    "start_time": "2022-07-20T14:49:58.556Z"
   },
   {
    "duration": 381,
    "start_time": "2022-07-20T14:50:00.176Z"
   },
   {
    "duration": 13,
    "start_time": "2022-07-20T14:50:02.872Z"
   },
   {
    "duration": 297,
    "start_time": "2022-07-20T14:50:03.668Z"
   },
   {
    "duration": 18,
    "start_time": "2022-07-20T14:50:04.688Z"
   },
   {
    "duration": 275,
    "start_time": "2022-07-20T14:50:05.352Z"
   },
   {
    "duration": 27,
    "start_time": "2022-07-20T14:50:06.256Z"
   },
   {
    "duration": 318,
    "start_time": "2022-07-20T14:50:06.812Z"
   },
   {
    "duration": 13,
    "start_time": "2022-07-20T14:50:07.817Z"
   },
   {
    "duration": 638,
    "start_time": "2022-07-20T14:50:13.882Z"
   },
   {
    "duration": 521,
    "start_time": "2022-07-20T14:52:58.501Z"
   },
   {
    "duration": 413,
    "start_time": "2022-07-20T14:53:10.675Z"
   },
   {
    "duration": 399,
    "start_time": "2022-07-20T14:53:23.651Z"
   },
   {
    "duration": 430,
    "start_time": "2022-07-20T14:54:23.414Z"
   },
   {
    "duration": 417,
    "start_time": "2022-07-20T14:55:17.710Z"
   },
   {
    "duration": 568,
    "start_time": "2022-07-20T14:55:42.174Z"
   },
   {
    "duration": 513,
    "start_time": "2022-07-20T14:55:58.318Z"
   },
   {
    "duration": 463,
    "start_time": "2022-07-20T14:56:57.192Z"
   },
   {
    "duration": 426,
    "start_time": "2022-07-20T14:58:15.560Z"
   },
   {
    "duration": 5,
    "start_time": "2022-07-20T14:58:50.098Z"
   },
   {
    "duration": 2,
    "start_time": "2022-07-20T14:58:51.190Z"
   },
   {
    "duration": 7,
    "start_time": "2022-07-20T14:58:51.648Z"
   },
   {
    "duration": 7,
    "start_time": "2022-07-20T14:58:52.092Z"
   },
   {
    "duration": 1154,
    "start_time": "2022-07-20T14:59:18.282Z"
   },
   {
    "duration": 53,
    "start_time": "2022-07-20T14:59:20.101Z"
   },
   {
    "duration": 25,
    "start_time": "2022-07-20T14:59:20.653Z"
   },
   {
    "duration": 19,
    "start_time": "2022-07-20T14:59:21.620Z"
   },
   {
    "duration": 3,
    "start_time": "2022-07-20T14:59:23.280Z"
   },
   {
    "duration": 13,
    "start_time": "2022-07-20T14:59:23.691Z"
   },
   {
    "duration": 12,
    "start_time": "2022-07-20T14:59:25.493Z"
   },
   {
    "duration": 14,
    "start_time": "2022-07-20T14:59:26.395Z"
   },
   {
    "duration": 22,
    "start_time": "2022-07-20T14:59:26.886Z"
   },
   {
    "duration": 17,
    "start_time": "2022-07-20T14:59:27.356Z"
   },
   {
    "duration": 7,
    "start_time": "2022-07-20T14:59:27.783Z"
   },
   {
    "duration": 7,
    "start_time": "2022-07-20T14:59:28.632Z"
   },
   {
    "duration": 2,
    "start_time": "2022-07-20T14:59:29.574Z"
   },
   {
    "duration": 9,
    "start_time": "2022-07-20T14:59:31.756Z"
   },
   {
    "duration": 15,
    "start_time": "2022-07-20T14:59:32.185Z"
   },
   {
    "duration": 5,
    "start_time": "2022-07-20T14:59:34.319Z"
   },
   {
    "duration": 14,
    "start_time": "2022-07-20T14:59:35.611Z"
   },
   {
    "duration": 13,
    "start_time": "2022-07-20T14:59:36.131Z"
   },
   {
    "duration": 4,
    "start_time": "2022-07-20T14:59:38.124Z"
   },
   {
    "duration": 5,
    "start_time": "2022-07-20T14:59:39.026Z"
   },
   {
    "duration": 8,
    "start_time": "2022-07-20T14:59:39.471Z"
   },
   {
    "duration": 7,
    "start_time": "2022-07-20T14:59:40.051Z"
   },
   {
    "duration": 383,
    "start_time": "2022-07-20T14:59:46.951Z"
   },
   {
    "duration": 343,
    "start_time": "2022-07-20T14:59:49.093Z"
   },
   {
    "duration": 263,
    "start_time": "2022-07-20T14:59:50.009Z"
   },
   {
    "duration": 24,
    "start_time": "2022-07-20T14:59:53.087Z"
   },
   {
    "duration": 219,
    "start_time": "2022-07-20T14:59:53.999Z"
   },
   {
    "duration": 621,
    "start_time": "2022-07-20T14:59:55.294Z"
   },
   {
    "duration": 318,
    "start_time": "2022-07-20T14:59:58.059Z"
   },
   {
    "duration": 28,
    "start_time": "2022-07-20T14:59:58.556Z"
   },
   {
    "duration": 428,
    "start_time": "2022-07-20T14:59:59.477Z"
   },
   {
    "duration": 15,
    "start_time": "2022-07-20T14:59:59.907Z"
   },
   {
    "duration": 292,
    "start_time": "2022-07-20T15:00:00.292Z"
   },
   {
    "duration": 15,
    "start_time": "2022-07-20T15:00:00.752Z"
   },
   {
    "duration": 291,
    "start_time": "2022-07-20T15:00:01.224Z"
   },
   {
    "duration": 15,
    "start_time": "2022-07-20T15:00:01.686Z"
   },
   {
    "duration": 336,
    "start_time": "2022-07-20T15:00:02.177Z"
   },
   {
    "duration": 16,
    "start_time": "2022-07-20T15:00:02.624Z"
   },
   {
    "duration": 653,
    "start_time": "2022-07-20T15:00:04.055Z"
   },
   {
    "duration": 593,
    "start_time": "2022-07-20T15:00:06.819Z"
   },
   {
    "duration": 602,
    "start_time": "2022-07-20T15:00:08.656Z"
   },
   {
    "duration": 392,
    "start_time": "2022-07-20T15:00:10.709Z"
   },
   {
    "duration": 453,
    "start_time": "2022-07-20T15:00:12.579Z"
   },
   {
    "duration": 7,
    "start_time": "2022-07-20T15:01:11.860Z"
   },
   {
    "duration": 2,
    "start_time": "2022-07-20T15:01:12.652Z"
   },
   {
    "duration": 7,
    "start_time": "2022-07-20T15:01:13.004Z"
   },
   {
    "duration": 7,
    "start_time": "2022-07-20T15:01:13.471Z"
   },
   {
    "duration": 4,
    "start_time": "2022-07-20T15:01:17.652Z"
   },
   {
    "duration": 3,
    "start_time": "2022-07-20T15:01:19.123Z"
   },
   {
    "duration": 12,
    "start_time": "2022-07-20T15:01:19.758Z"
   },
   {
    "duration": 8,
    "start_time": "2022-07-20T15:01:20.216Z"
   },
   {
    "duration": 1154,
    "start_time": "2022-07-20T15:05:04.257Z"
   },
   {
    "duration": 62,
    "start_time": "2022-07-20T15:05:06.455Z"
   },
   {
    "duration": 23,
    "start_time": "2022-07-20T15:05:07.061Z"
   },
   {
    "duration": 14,
    "start_time": "2022-07-20T15:05:08.419Z"
   },
   {
    "duration": 3,
    "start_time": "2022-07-20T15:05:10.351Z"
   },
   {
    "duration": 23,
    "start_time": "2022-07-20T15:05:10.856Z"
   },
   {
    "duration": 10,
    "start_time": "2022-07-20T15:05:12.723Z"
   },
   {
    "duration": 11,
    "start_time": "2022-07-20T15:05:13.713Z"
   },
   {
    "duration": 20,
    "start_time": "2022-07-20T15:05:14.208Z"
   },
   {
    "duration": 16,
    "start_time": "2022-07-20T15:05:14.717Z"
   },
   {
    "duration": 8,
    "start_time": "2022-07-20T15:05:15.288Z"
   },
   {
    "duration": 5,
    "start_time": "2022-07-20T15:05:17.687Z"
   },
   {
    "duration": 2,
    "start_time": "2022-07-20T15:05:18.743Z"
   },
   {
    "duration": 7,
    "start_time": "2022-07-20T15:05:22.915Z"
   },
   {
    "duration": 14,
    "start_time": "2022-07-20T15:05:23.494Z"
   },
   {
    "duration": 5,
    "start_time": "2022-07-20T15:05:24.651Z"
   },
   {
    "duration": 14,
    "start_time": "2022-07-20T15:05:26.104Z"
   },
   {
    "duration": 14,
    "start_time": "2022-07-20T15:05:26.884Z"
   },
   {
    "duration": 5,
    "start_time": "2022-07-20T15:05:28.861Z"
   },
   {
    "duration": 3,
    "start_time": "2022-07-20T15:05:29.778Z"
   },
   {
    "duration": 7,
    "start_time": "2022-07-20T15:05:30.183Z"
   },
   {
    "duration": 6,
    "start_time": "2022-07-20T15:05:31.387Z"
   },
   {
    "duration": 385,
    "start_time": "2022-07-20T15:05:37.751Z"
   },
   {
    "duration": 302,
    "start_time": "2022-07-20T15:05:39.951Z"
   },
   {
    "duration": 254,
    "start_time": "2022-07-20T15:05:40.862Z"
   },
   {
    "duration": 24,
    "start_time": "2022-07-20T15:05:43.274Z"
   },
   {
    "duration": 191,
    "start_time": "2022-07-20T15:05:44.027Z"
   },
   {
    "duration": 616,
    "start_time": "2022-07-20T15:05:45.187Z"
   },
   {
    "duration": 296,
    "start_time": "2022-07-20T15:05:47.771Z"
   },
   {
    "duration": 17,
    "start_time": "2022-07-20T15:05:48.303Z"
   },
   {
    "duration": 379,
    "start_time": "2022-07-20T15:05:49.307Z"
   },
   {
    "duration": 18,
    "start_time": "2022-07-20T15:05:49.793Z"
   },
   {
    "duration": 285,
    "start_time": "2022-07-20T15:05:50.353Z"
   },
   {
    "duration": 12,
    "start_time": "2022-07-20T15:05:50.824Z"
   },
   {
    "duration": 278,
    "start_time": "2022-07-20T15:05:51.356Z"
   },
   {
    "duration": 13,
    "start_time": "2022-07-20T15:05:51.822Z"
   },
   {
    "duration": 296,
    "start_time": "2022-07-20T15:05:52.272Z"
   },
   {
    "duration": 26,
    "start_time": "2022-07-20T15:05:52.750Z"
   },
   {
    "duration": 658,
    "start_time": "2022-07-20T15:05:54.119Z"
   },
   {
    "duration": 613,
    "start_time": "2022-07-20T15:06:00.816Z"
   },
   {
    "duration": 461,
    "start_time": "2022-07-20T15:08:05.596Z"
   },
   {
    "duration": 525,
    "start_time": "2022-07-20T15:08:30.454Z"
   },
   {
    "duration": 404,
    "start_time": "2022-07-20T15:08:58.584Z"
   },
   {
    "duration": 359,
    "start_time": "2022-07-20T15:09:14.675Z"
   },
   {
    "duration": 457,
    "start_time": "2022-07-20T15:09:49.598Z"
   },
   {
    "duration": 492,
    "start_time": "2022-07-20T15:09:58.856Z"
   },
   {
    "duration": 405,
    "start_time": "2022-07-20T15:11:14.021Z"
   },
   {
    "duration": 387,
    "start_time": "2022-07-20T15:11:25.962Z"
   },
   {
    "duration": 367,
    "start_time": "2022-07-20T15:11:35.413Z"
   },
   {
    "duration": 365,
    "start_time": "2022-07-20T15:11:40.624Z"
   },
   {
    "duration": 459,
    "start_time": "2022-07-20T15:11:50.178Z"
   },
   {
    "duration": 447,
    "start_time": "2022-07-20T15:12:08.460Z"
   },
   {
    "duration": 381,
    "start_time": "2022-07-20T15:13:29.146Z"
   },
   {
    "duration": 492,
    "start_time": "2022-07-20T15:15:08.251Z"
   },
   {
    "duration": 565,
    "start_time": "2022-07-20T15:17:19.460Z"
   },
   {
    "duration": 564,
    "start_time": "2022-07-20T15:18:15.155Z"
   },
   {
    "duration": 583,
    "start_time": "2022-07-20T15:20:11.412Z"
   },
   {
    "duration": 351,
    "start_time": "2022-07-20T15:20:53.293Z"
   },
   {
    "duration": 371,
    "start_time": "2022-07-20T15:21:04.976Z"
   },
   {
    "duration": 474,
    "start_time": "2022-07-20T15:21:25.855Z"
   },
   {
    "duration": 443,
    "start_time": "2022-07-20T15:26:04.751Z"
   },
   {
    "duration": 434,
    "start_time": "2022-07-20T15:40:03.845Z"
   },
   {
    "duration": 693,
    "start_time": "2022-07-20T15:51:48.293Z"
   },
   {
    "duration": 593,
    "start_time": "2022-07-20T15:52:25.850Z"
   },
   {
    "duration": 322,
    "start_time": "2022-07-20T15:54:46.881Z"
   },
   {
    "duration": 661,
    "start_time": "2022-07-20T15:55:16.205Z"
   },
   {
    "duration": 515,
    "start_time": "2022-07-20T15:55:37.474Z"
   },
   {
    "duration": 881,
    "start_time": "2022-07-20T15:56:55.385Z"
   },
   {
    "duration": 552,
    "start_time": "2022-07-20T15:57:22.597Z"
   },
   {
    "duration": 644,
    "start_time": "2022-07-20T15:58:29.822Z"
   },
   {
    "duration": 18,
    "start_time": "2022-07-20T16:58:57.656Z"
   },
   {
    "duration": 12,
    "start_time": "2022-07-20T16:58:59.514Z"
   },
   {
    "duration": 10,
    "start_time": "2022-07-20T17:00:30.686Z"
   },
   {
    "duration": 11,
    "start_time": "2022-07-20T17:00:52.307Z"
   },
   {
    "duration": 1164,
    "start_time": "2022-07-20T17:01:48.085Z"
   },
   {
    "duration": 62,
    "start_time": "2022-07-20T17:01:49.251Z"
   },
   {
    "duration": 20,
    "start_time": "2022-07-20T17:01:49.446Z"
   },
   {
    "duration": 17,
    "start_time": "2022-07-20T17:01:50.278Z"
   },
   {
    "duration": 3,
    "start_time": "2022-07-20T17:01:51.607Z"
   },
   {
    "duration": 21,
    "start_time": "2022-07-20T17:01:51.876Z"
   },
   {
    "duration": 14,
    "start_time": "2022-07-20T17:01:52.920Z"
   },
   {
    "duration": 14,
    "start_time": "2022-07-20T17:01:53.351Z"
   },
   {
    "duration": 30,
    "start_time": "2022-07-20T17:01:54.048Z"
   },
   {
    "duration": 30,
    "start_time": "2022-07-20T17:01:54.080Z"
   },
   {
    "duration": 9,
    "start_time": "2022-07-20T17:01:54.112Z"
   },
   {
    "duration": 6,
    "start_time": "2022-07-20T17:01:54.575Z"
   },
   {
    "duration": 3,
    "start_time": "2022-07-20T17:01:57.976Z"
   },
   {
    "duration": 11,
    "start_time": "2022-07-20T17:01:59.353Z"
   },
   {
    "duration": 15,
    "start_time": "2022-07-20T17:01:59.554Z"
   },
   {
    "duration": 6,
    "start_time": "2022-07-20T17:01:59.918Z"
   },
   {
    "duration": 20,
    "start_time": "2022-07-20T17:02:00.517Z"
   },
   {
    "duration": 14,
    "start_time": "2022-07-20T17:02:00.719Z"
   },
   {
    "duration": 5,
    "start_time": "2022-07-20T17:02:03.166Z"
   },
   {
    "duration": 3,
    "start_time": "2022-07-20T17:02:03.618Z"
   },
   {
    "duration": 7,
    "start_time": "2022-07-20T17:02:06.797Z"
   },
   {
    "duration": 36,
    "start_time": "2022-07-20T17:02:06.807Z"
   },
   {
    "duration": 480,
    "start_time": "2022-07-20T17:02:06.845Z"
   },
   {
    "duration": 323,
    "start_time": "2022-07-20T17:02:07.452Z"
   },
   {
    "duration": 284,
    "start_time": "2022-07-20T17:02:08.348Z"
   },
   {
    "duration": 35,
    "start_time": "2022-07-20T17:02:10.179Z"
   },
   {
    "duration": 213,
    "start_time": "2022-07-20T17:02:12.305Z"
   },
   {
    "duration": 711,
    "start_time": "2022-07-20T17:02:12.520Z"
   },
   {
    "duration": 356,
    "start_time": "2022-07-20T17:02:13.233Z"
   },
   {
    "duration": 14,
    "start_time": "2022-07-20T17:02:13.592Z"
   },
   {
    "duration": 406,
    "start_time": "2022-07-20T17:02:13.608Z"
   },
   {
    "duration": 14,
    "start_time": "2022-07-20T17:02:14.016Z"
   },
   {
    "duration": 326,
    "start_time": "2022-07-20T17:02:14.032Z"
   },
   {
    "duration": 21,
    "start_time": "2022-07-20T17:02:14.361Z"
   },
   {
    "duration": 344,
    "start_time": "2022-07-20T17:02:14.384Z"
   },
   {
    "duration": 13,
    "start_time": "2022-07-20T17:02:14.730Z"
   },
   {
    "duration": 329,
    "start_time": "2022-07-20T17:02:14.745Z"
   },
   {
    "duration": 15,
    "start_time": "2022-07-20T17:02:15.077Z"
   },
   {
    "duration": 659,
    "start_time": "2022-07-20T17:02:17.611Z"
   },
   {
    "duration": 701,
    "start_time": "2022-07-20T17:02:19.060Z"
   },
   {
    "duration": 566,
    "start_time": "2022-07-20T17:02:21.220Z"
   },
   {
    "duration": 424,
    "start_time": "2022-07-20T17:02:21.788Z"
   },
   {
    "duration": 490,
    "start_time": "2022-07-20T17:02:22.214Z"
   },
   {
    "duration": 7,
    "start_time": "2022-07-20T17:02:25.854Z"
   },
   {
    "duration": 14,
    "start_time": "2022-07-20T17:02:26.420Z"
   },
   {
    "duration": 10,
    "start_time": "2022-07-20T17:02:30.657Z"
   },
   {
    "duration": 10,
    "start_time": "2022-07-20T17:02:33.348Z"
   },
   {
    "duration": 3,
    "start_time": "2022-07-20T17:02:39.054Z"
   },
   {
    "duration": 50,
    "start_time": "2022-07-20T17:02:39.313Z"
   },
   {
    "duration": 3,
    "start_time": "2022-07-20T17:02:39.507Z"
   },
   {
    "duration": 10,
    "start_time": "2022-07-20T17:02:39.751Z"
   },
   {
    "duration": 5,
    "start_time": "2022-07-20T17:02:39.947Z"
   },
   {
    "duration": 4,
    "start_time": "2022-07-20T17:02:40.150Z"
   },
   {
    "duration": 8,
    "start_time": "2022-07-20T17:02:40.680Z"
   },
   {
    "duration": 4,
    "start_time": "2022-07-20T17:02:41.049Z"
   },
   {
    "duration": 645,
    "start_time": "2022-07-20T17:02:41.488Z"
   },
   {
    "duration": 10,
    "start_time": "2022-07-20T17:04:05.183Z"
   },
   {
    "duration": 9,
    "start_time": "2022-07-20T17:07:37.946Z"
   },
   {
    "duration": 10,
    "start_time": "2022-07-20T17:15:43.255Z"
   },
   {
    "duration": 12,
    "start_time": "2022-07-20T17:15:51.931Z"
   },
   {
    "duration": 1199,
    "start_time": "2022-07-20T17:29:26.440Z"
   },
   {
    "duration": 63,
    "start_time": "2022-07-20T17:29:27.642Z"
   },
   {
    "duration": 23,
    "start_time": "2022-07-20T17:29:27.877Z"
   },
   {
    "duration": 15,
    "start_time": "2022-07-20T17:29:29.239Z"
   },
   {
    "duration": 4,
    "start_time": "2022-07-20T17:29:32.681Z"
   },
   {
    "duration": 17,
    "start_time": "2022-07-20T17:29:33.101Z"
   },
   {
    "duration": 15,
    "start_time": "2022-07-20T17:29:35.228Z"
   },
   {
    "duration": 13,
    "start_time": "2022-07-20T17:29:36.225Z"
   },
   {
    "duration": 22,
    "start_time": "2022-07-20T17:29:36.787Z"
   },
   {
    "duration": 17,
    "start_time": "2022-07-20T17:29:37.330Z"
   },
   {
    "duration": 9,
    "start_time": "2022-07-20T17:29:37.839Z"
   },
   {
    "duration": 7,
    "start_time": "2022-07-20T17:29:38.759Z"
   },
   {
    "duration": 3,
    "start_time": "2022-07-20T17:29:39.757Z"
   },
   {
    "duration": 10,
    "start_time": "2022-07-20T17:29:42.290Z"
   },
   {
    "duration": 18,
    "start_time": "2022-07-20T17:29:42.802Z"
   },
   {
    "duration": 5,
    "start_time": "2022-07-20T17:29:43.936Z"
   },
   {
    "duration": 19,
    "start_time": "2022-07-20T17:29:45.443Z"
   },
   {
    "duration": 19,
    "start_time": "2022-07-20T17:29:46.005Z"
   },
   {
    "duration": 6,
    "start_time": "2022-07-20T17:29:47.502Z"
   },
   {
    "duration": 3,
    "start_time": "2022-07-20T17:29:48.462Z"
   },
   {
    "duration": 11,
    "start_time": "2022-07-20T17:29:48.872Z"
   },
   {
    "duration": 6,
    "start_time": "2022-07-20T17:29:49.333Z"
   },
   {
    "duration": 429,
    "start_time": "2022-07-20T17:29:52.578Z"
   },
   {
    "duration": 366,
    "start_time": "2022-07-20T17:29:55.024Z"
   },
   {
    "duration": 326,
    "start_time": "2022-07-20T17:29:56.038Z"
   },
   {
    "duration": 34,
    "start_time": "2022-07-20T17:29:59.441Z"
   },
   {
    "duration": 216,
    "start_time": "2022-07-20T17:30:00.402Z"
   },
   {
    "duration": 661,
    "start_time": "2022-07-20T17:30:01.892Z"
   },
   {
    "duration": 347,
    "start_time": "2022-07-20T17:30:05.281Z"
   },
   {
    "duration": 20,
    "start_time": "2022-07-20T17:30:05.805Z"
   },
   {
    "duration": 457,
    "start_time": "2022-07-20T17:30:06.752Z"
   },
   {
    "duration": 14,
    "start_time": "2022-07-20T17:30:07.277Z"
   },
   {
    "duration": 306,
    "start_time": "2022-07-20T17:30:07.735Z"
   },
   {
    "duration": 17,
    "start_time": "2022-07-20T17:30:08.190Z"
   },
   {
    "duration": 380,
    "start_time": "2022-07-20T17:30:08.654Z"
   },
   {
    "duration": 16,
    "start_time": "2022-07-20T17:30:09.332Z"
   },
   {
    "duration": 358,
    "start_time": "2022-07-20T17:35:54.253Z"
   },
   {
    "duration": 341,
    "start_time": "2022-07-20T17:36:04.758Z"
   },
   {
    "duration": 330,
    "start_time": "2022-07-20T17:36:17.589Z"
   },
   {
    "duration": 347,
    "start_time": "2022-07-20T17:37:20.808Z"
   },
   {
    "duration": 340,
    "start_time": "2022-07-20T17:37:38.050Z"
   },
   {
    "duration": 414,
    "start_time": "2022-07-20T17:38:28.674Z"
   },
   {
    "duration": 312,
    "start_time": "2022-07-20T17:39:03.650Z"
   },
   {
    "duration": 284,
    "start_time": "2022-07-20T17:39:32.480Z"
   },
   {
    "duration": 314,
    "start_time": "2022-07-20T17:40:00.692Z"
   },
   {
    "duration": 312,
    "start_time": "2022-07-20T17:40:51.207Z"
   },
   {
    "duration": 13,
    "start_time": "2022-07-20T17:40:52.638Z"
   },
   {
    "duration": 668,
    "start_time": "2022-07-20T17:40:58.023Z"
   },
   {
    "duration": 569,
    "start_time": "2022-07-20T17:41:03.225Z"
   },
   {
    "duration": 776,
    "start_time": "2022-07-20T17:41:10.527Z"
   },
   {
    "duration": 437,
    "start_time": "2022-07-20T17:41:13.256Z"
   },
   {
    "duration": 544,
    "start_time": "2022-07-20T17:41:16.520Z"
   },
   {
    "duration": 6,
    "start_time": "2022-07-20T17:41:23.791Z"
   },
   {
    "duration": 12,
    "start_time": "2022-07-20T17:41:24.286Z"
   },
   {
    "duration": 7,
    "start_time": "2022-07-20T17:41:28.050Z"
   },
   {
    "duration": 10,
    "start_time": "2022-07-20T17:41:29.813Z"
   },
   {
    "duration": 4,
    "start_time": "2022-07-20T17:41:36.484Z"
   },
   {
    "duration": 63,
    "start_time": "2022-07-20T17:41:37.096Z"
   },
   {
    "duration": 4,
    "start_time": "2022-07-20T17:41:37.440Z"
   },
   {
    "duration": 14,
    "start_time": "2022-07-20T17:41:37.678Z"
   },
   {
    "duration": 6,
    "start_time": "2022-07-20T17:41:37.895Z"
   },
   {
    "duration": 4,
    "start_time": "2022-07-20T17:41:38.099Z"
   },
   {
    "duration": 7,
    "start_time": "2022-07-20T17:41:38.287Z"
   },
   {
    "duration": 6,
    "start_time": "2022-07-20T17:41:38.494Z"
   },
   {
    "duration": 611,
    "start_time": "2022-07-20T17:41:39.238Z"
   },
   {
    "duration": 716,
    "start_time": "2022-07-20T17:43:20.778Z"
   },
   {
    "duration": 661,
    "start_time": "2022-07-20T17:43:30.071Z"
   },
   {
    "duration": 802,
    "start_time": "2022-07-20T17:43:37.185Z"
   },
   {
    "duration": 428,
    "start_time": "2022-07-20T17:43:52.802Z"
   },
   {
    "duration": 434,
    "start_time": "2022-07-20T17:44:09.077Z"
   },
   {
    "duration": 655,
    "start_time": "2022-07-20T17:44:29.349Z"
   },
   {
    "duration": 1120,
    "start_time": "2022-07-20T17:45:00.458Z"
   },
   {
    "duration": 55,
    "start_time": "2022-07-20T17:45:01.581Z"
   },
   {
    "duration": 18,
    "start_time": "2022-07-20T17:45:02.006Z"
   },
   {
    "duration": 14,
    "start_time": "2022-07-20T17:45:02.956Z"
   },
   {
    "duration": 4,
    "start_time": "2022-07-20T17:45:04.776Z"
   },
   {
    "duration": 22,
    "start_time": "2022-07-20T17:45:05.159Z"
   },
   {
    "duration": 11,
    "start_time": "2022-07-20T17:45:07.001Z"
   },
   {
    "duration": 14,
    "start_time": "2022-07-20T17:45:07.940Z"
   },
   {
    "duration": 21,
    "start_time": "2022-07-20T17:45:08.424Z"
   },
   {
    "duration": 19,
    "start_time": "2022-07-20T17:45:08.824Z"
   },
   {
    "duration": 7,
    "start_time": "2022-07-20T17:45:09.305Z"
   },
   {
    "duration": 5,
    "start_time": "2022-07-20T17:45:10.186Z"
   },
   {
    "duration": 3,
    "start_time": "2022-07-20T17:45:11.076Z"
   },
   {
    "duration": 9,
    "start_time": "2022-07-20T17:45:14.868Z"
   },
   {
    "duration": 13,
    "start_time": "2022-07-20T17:45:15.503Z"
   },
   {
    "duration": 7,
    "start_time": "2022-07-20T17:45:16.448Z"
   },
   {
    "duration": 16,
    "start_time": "2022-07-20T17:45:17.684Z"
   },
   {
    "duration": 18,
    "start_time": "2022-07-20T17:45:18.177Z"
   },
   {
    "duration": 4,
    "start_time": "2022-07-20T17:45:19.481Z"
   },
   {
    "duration": 3,
    "start_time": "2022-07-20T17:45:20.382Z"
   },
   {
    "duration": 13,
    "start_time": "2022-07-20T17:45:20.826Z"
   },
   {
    "duration": 8,
    "start_time": "2022-07-20T17:45:21.505Z"
   },
   {
    "duration": 417,
    "start_time": "2022-07-20T17:45:25.105Z"
   },
   {
    "duration": 324,
    "start_time": "2022-07-20T17:45:27.593Z"
   },
   {
    "duration": 272,
    "start_time": "2022-07-20T17:45:28.552Z"
   },
   {
    "duration": 27,
    "start_time": "2022-07-20T17:45:33.896Z"
   },
   {
    "duration": 213,
    "start_time": "2022-07-20T17:45:34.955Z"
   },
   {
    "duration": 605,
    "start_time": "2022-07-20T17:45:41.721Z"
   },
   {
    "duration": 309,
    "start_time": "2022-07-20T17:45:44.640Z"
   },
   {
    "duration": 21,
    "start_time": "2022-07-20T17:45:45.468Z"
   },
   {
    "duration": 407,
    "start_time": "2022-07-20T17:45:47.728Z"
   },
   {
    "duration": 13,
    "start_time": "2022-07-20T17:45:48.917Z"
   },
   {
    "duration": 303,
    "start_time": "2022-07-20T17:45:49.609Z"
   },
   {
    "duration": 21,
    "start_time": "2022-07-20T17:45:50.657Z"
   },
   {
    "duration": 292,
    "start_time": "2022-07-20T17:45:51.286Z"
   },
   {
    "duration": 13,
    "start_time": "2022-07-20T17:45:52.636Z"
   },
   {
    "duration": 302,
    "start_time": "2022-07-20T17:45:53.330Z"
   },
   {
    "duration": 13,
    "start_time": "2022-07-20T17:45:54.426Z"
   },
   {
    "duration": 689,
    "start_time": "2022-07-20T17:45:56.562Z"
   },
   {
    "duration": 530,
    "start_time": "2022-07-20T17:46:02.677Z"
   },
   {
    "duration": 539,
    "start_time": "2022-07-20T17:46:20.416Z"
   },
   {
    "duration": 487,
    "start_time": "2022-07-20T17:46:29.266Z"
   },
   {
    "duration": 449,
    "start_time": "2022-07-20T17:46:31.744Z"
   },
   {
    "duration": 8,
    "start_time": "2022-07-20T17:46:48.230Z"
   },
   {
    "duration": 12,
    "start_time": "2022-07-20T17:46:48.741Z"
   },
   {
    "duration": 7,
    "start_time": "2022-07-20T17:46:53.872Z"
   },
   {
    "duration": 11,
    "start_time": "2022-07-20T17:47:20.009Z"
   },
   {
    "duration": 3,
    "start_time": "2022-07-20T17:47:27.501Z"
   },
   {
    "duration": 50,
    "start_time": "2022-07-20T17:47:27.935Z"
   },
   {
    "duration": 3,
    "start_time": "2022-07-20T17:47:28.310Z"
   },
   {
    "duration": 11,
    "start_time": "2022-07-20T17:47:28.771Z"
   },
   {
    "duration": 5,
    "start_time": "2022-07-20T17:47:29.178Z"
   },
   {
    "duration": 4,
    "start_time": "2022-07-20T17:47:29.554Z"
   },
   {
    "duration": 6,
    "start_time": "2022-07-20T17:47:29.944Z"
   },
   {
    "duration": 5,
    "start_time": "2022-07-20T17:47:30.359Z"
   },
   {
    "duration": 578,
    "start_time": "2022-07-20T17:47:31.060Z"
   },
   {
    "duration": 1264,
    "start_time": "2023-09-19T15:12:38.649Z"
   },
   {
    "duration": 424,
    "start_time": "2023-09-19T15:12:40.950Z"
   },
   {
    "duration": 17,
    "start_time": "2023-09-19T15:12:41.375Z"
   },
   {
    "duration": 14,
    "start_time": "2023-09-19T15:12:41.477Z"
   },
   {
    "duration": 4,
    "start_time": "2023-09-19T15:12:42.015Z"
   },
   {
    "duration": 12,
    "start_time": "2023-09-19T15:12:42.195Z"
   },
   {
    "duration": 10,
    "start_time": "2023-09-19T15:12:42.567Z"
   },
   {
    "duration": 10,
    "start_time": "2023-09-19T15:12:42.925Z"
   },
   {
    "duration": 19,
    "start_time": "2023-09-19T15:12:43.107Z"
   },
   {
    "duration": 14,
    "start_time": "2023-09-19T15:12:43.290Z"
   },
   {
    "duration": 7,
    "start_time": "2023-09-19T15:12:43.479Z"
   },
   {
    "duration": 4,
    "start_time": "2023-09-19T15:12:43.866Z"
   },
   {
    "duration": 6,
    "start_time": "2023-09-19T15:12:44.646Z"
   },
   {
    "duration": 11,
    "start_time": "2023-09-19T15:12:44.841Z"
   },
   {
    "duration": 5,
    "start_time": "2023-09-19T15:12:45.218Z"
   },
   {
    "duration": 13,
    "start_time": "2023-09-19T15:12:45.410Z"
   },
   {
    "duration": 12,
    "start_time": "2023-09-19T15:12:45.596Z"
   },
   {
    "duration": 5,
    "start_time": "2023-09-19T15:12:46.006Z"
   },
   {
    "duration": 2,
    "start_time": "2023-09-19T15:12:46.370Z"
   },
   {
    "duration": 7,
    "start_time": "2023-09-19T15:12:46.567Z"
   },
   {
    "duration": 8,
    "start_time": "2023-09-19T15:12:46.768Z"
   },
   {
    "duration": 318,
    "start_time": "2023-09-19T15:12:47.326Z"
   },
   {
    "duration": 269,
    "start_time": "2023-09-19T15:12:47.909Z"
   },
   {
    "duration": 196,
    "start_time": "2023-09-19T15:12:48.323Z"
   },
   {
    "duration": 21,
    "start_time": "2023-09-19T15:12:48.934Z"
   },
   {
    "duration": 181,
    "start_time": "2023-09-19T15:12:49.345Z"
   },
   {
    "duration": 512,
    "start_time": "2023-09-19T15:12:49.945Z"
   },
   {
    "duration": 325,
    "start_time": "2023-09-19T15:12:50.578Z"
   },
   {
    "duration": 12,
    "start_time": "2023-09-19T15:12:50.905Z"
   },
   {
    "duration": 265,
    "start_time": "2023-09-19T15:12:51.227Z"
   },
   {
    "duration": 12,
    "start_time": "2023-09-19T15:12:51.493Z"
   },
   {
    "duration": 252,
    "start_time": "2023-09-19T15:12:51.653Z"
   },
   {
    "duration": 13,
    "start_time": "2023-09-19T15:12:51.907Z"
   },
   {
    "duration": 250,
    "start_time": "2023-09-19T15:12:52.059Z"
   },
   {
    "duration": 16,
    "start_time": "2023-09-19T15:12:52.311Z"
   },
   {
    "duration": 271,
    "start_time": "2023-09-19T15:12:52.469Z"
   },
   {
    "duration": 14,
    "start_time": "2023-09-19T15:12:52.744Z"
   },
   {
    "duration": 531,
    "start_time": "2023-09-19T15:12:53.160Z"
   },
   {
    "duration": 526,
    "start_time": "2023-09-19T15:12:54.003Z"
   },
   {
    "duration": 580,
    "start_time": "2023-09-19T15:12:54.648Z"
   },
   {
    "duration": 349,
    "start_time": "2023-09-19T15:12:55.326Z"
   },
   {
    "duration": 366,
    "start_time": "2023-09-19T15:12:55.837Z"
   },
   {
    "duration": 5,
    "start_time": "2023-09-19T15:12:57.223Z"
   },
   {
    "duration": 10,
    "start_time": "2023-09-19T15:12:57.586Z"
   },
   {
    "duration": 10,
    "start_time": "2023-09-19T15:12:58.804Z"
   },
   {
    "duration": 1069,
    "start_time": "2023-09-19T15:13:32.423Z"
   },
   {
    "duration": 53,
    "start_time": "2023-09-19T15:13:33.923Z"
   },
   {
    "duration": 25,
    "start_time": "2023-09-19T15:13:34.126Z"
   },
   {
    "duration": 15,
    "start_time": "2023-09-19T15:13:34.497Z"
   },
   {
    "duration": 4,
    "start_time": "2023-09-19T15:13:35.052Z"
   },
   {
    "duration": 14,
    "start_time": "2023-09-19T15:13:35.239Z"
   },
   {
    "duration": 10,
    "start_time": "2023-09-19T15:13:35.619Z"
   },
   {
    "duration": 11,
    "start_time": "2023-09-19T15:13:35.987Z"
   },
   {
    "duration": 20,
    "start_time": "2023-09-19T15:13:36.191Z"
   },
   {
    "duration": 15,
    "start_time": "2023-09-19T15:13:36.548Z"
   },
   {
    "duration": 7,
    "start_time": "2023-09-19T15:13:36.757Z"
   },
   {
    "duration": 5,
    "start_time": "2023-09-19T15:13:37.141Z"
   },
   {
    "duration": 6,
    "start_time": "2023-09-19T15:13:37.957Z"
   },
   {
    "duration": 13,
    "start_time": "2023-09-19T15:13:38.147Z"
   },
   {
    "duration": 4,
    "start_time": "2023-09-19T15:13:38.522Z"
   },
   {
    "duration": 13,
    "start_time": "2023-09-19T15:13:38.739Z"
   },
   {
    "duration": 12,
    "start_time": "2023-09-19T15:13:38.926Z"
   },
   {
    "duration": 4,
    "start_time": "2023-09-19T15:13:39.321Z"
   },
   {
    "duration": 2,
    "start_time": "2023-09-19T15:13:39.716Z"
   },
   {
    "duration": 7,
    "start_time": "2023-09-19T15:13:39.930Z"
   },
   {
    "duration": 6,
    "start_time": "2023-09-19T15:13:40.149Z"
   },
   {
    "duration": 338,
    "start_time": "2023-09-19T15:13:40.745Z"
   },
   {
    "duration": 284,
    "start_time": "2023-09-19T15:13:41.343Z"
   },
   {
    "duration": 207,
    "start_time": "2023-09-19T15:13:41.745Z"
   },
   {
    "duration": 22,
    "start_time": "2023-09-19T15:13:42.348Z"
   },
   {
    "duration": 176,
    "start_time": "2023-09-19T15:13:42.749Z"
   },
   {
    "duration": 517,
    "start_time": "2023-09-19T15:13:43.468Z"
   },
   {
    "duration": 414,
    "start_time": "2023-09-19T15:13:44.074Z"
   },
   {
    "duration": 12,
    "start_time": "2023-09-19T15:13:44.489Z"
   },
   {
    "duration": 285,
    "start_time": "2023-09-19T15:13:44.742Z"
   },
   {
    "duration": 21,
    "start_time": "2023-09-19T15:13:45.029Z"
   },
   {
    "duration": 250,
    "start_time": "2023-09-19T15:13:45.161Z"
   },
   {
    "duration": 12,
    "start_time": "2023-09-19T15:13:45.413Z"
   },
   {
    "duration": 247,
    "start_time": "2023-09-19T15:13:45.590Z"
   },
   {
    "duration": 15,
    "start_time": "2023-09-19T15:13:45.839Z"
   },
   {
    "duration": 268,
    "start_time": "2023-09-19T15:13:46.001Z"
   },
   {
    "duration": 13,
    "start_time": "2023-09-19T15:13:46.271Z"
   },
   {
    "duration": 570,
    "start_time": "2023-09-19T15:13:46.639Z"
   },
   {
    "duration": 418,
    "start_time": "2023-09-19T15:13:47.553Z"
   },
   {
    "duration": 521,
    "start_time": "2023-09-19T15:13:48.227Z"
   },
   {
    "duration": 326,
    "start_time": "2023-09-19T15:13:48.814Z"
   },
   {
    "duration": 380,
    "start_time": "2023-09-19T15:13:49.254Z"
   },
   {
    "duration": 6,
    "start_time": "2023-09-19T15:13:50.379Z"
   },
   {
    "duration": 10,
    "start_time": "2023-09-19T15:13:50.894Z"
   },
   {
    "duration": 9,
    "start_time": "2023-09-19T15:13:51.577Z"
   }
  ],
  "kernelspec": {
   "display_name": "Python 3 (ipykernel)",
   "language": "python",
   "name": "python3"
  },
  "language_info": {
   "codemirror_mode": {
    "name": "ipython",
    "version": 3
   },
   "file_extension": ".py",
   "mimetype": "text/x-python",
   "name": "python",
   "nbconvert_exporter": "python",
   "pygments_lexer": "ipython3",
   "version": "3.9.5"
  },
  "toc": {
   "base_numbering": 1,
   "nav_menu": {},
   "number_sections": true,
   "sideBar": true,
   "skip_h1_title": true,
   "title_cell": "Table of Contents",
   "title_sidebar": "Contents",
   "toc_cell": false,
   "toc_position": {
    "height": "478px",
    "left": "445px",
    "top": "111.125px",
    "width": "230.99px"
   },
   "toc_section_display": true,
   "toc_window_display": true
  }
 },
 "nbformat": 4,
 "nbformat_minor": 2
}
