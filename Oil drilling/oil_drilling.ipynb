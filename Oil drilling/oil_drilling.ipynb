{
 "cells": [
  {
   "cell_type": "markdown",
   "metadata": {},
   "source": [
    "# Выбор локации для скважины"
   ]
  },
  {
   "cell_type": "markdown",
   "metadata": {},
   "source": [
    "Предоставлены пробы нефти в трёх регионах: в каждом 10 000 месторождений, где измерили качество нефти и объём её запасов. Построить модель машинного обучения, которая поможет определить регион, где добыча принесёт наибольшую прибыль. \n",
    "\n",
    "Шаги для выбора локации:\n",
    "\n",
    "- В избранном регионе ищут месторождения, для каждого определяют значения признаков;\n",
    "- Строят модель и оценивают объём запасов;\n",
    "- Выбирают месторождения с самым высокими оценками значений. Количество месторождений зависит от бюджета компании и стоимости разработки одной скважины;\n",
    "- Прибыль равна суммарной прибыли отобранных месторождений."
   ]
  },
  {
   "cell_type": "markdown",
   "metadata": {},
   "source": [
    "## Загрузка и подготовка данных"
   ]
  },
  {
   "cell_type": "code",
   "execution_count": 1,
   "metadata": {},
   "outputs": [],
   "source": [
    "# импорт библиотек\n",
    "import pandas as pd\n",
    "import numpy as np\n",
    "from scipy import stats as st\n",
    "from sklearn.model_selection import train_test_split\n",
    "from sklearn.preprocessing import StandardScaler\n",
    "from sklearn.linear_model import LinearRegression\n",
    "from sklearn.metrics import mean_squared_error"
   ]
  },
  {
   "cell_type": "markdown",
   "metadata": {},
   "source": [
    "### Подготовка данных первого региона"
   ]
  },
  {
   "cell_type": "code",
   "execution_count": 2,
   "metadata": {},
   "outputs": [
    {
     "data": {
      "text/html": [
       "<div>\n",
       "<style scoped>\n",
       "    .dataframe tbody tr th:only-of-type {\n",
       "        vertical-align: middle;\n",
       "    }\n",
       "\n",
       "    .dataframe tbody tr th {\n",
       "        vertical-align: top;\n",
       "    }\n",
       "\n",
       "    .dataframe thead th {\n",
       "        text-align: right;\n",
       "    }\n",
       "</style>\n",
       "<table border=\"1\" class=\"dataframe\">\n",
       "  <thead>\n",
       "    <tr style=\"text-align: right;\">\n",
       "      <th></th>\n",
       "      <th>id</th>\n",
       "      <th>f0</th>\n",
       "      <th>f1</th>\n",
       "      <th>f2</th>\n",
       "      <th>product</th>\n",
       "    </tr>\n",
       "  </thead>\n",
       "  <tbody>\n",
       "    <tr>\n",
       "      <th>0</th>\n",
       "      <td>txEyH</td>\n",
       "      <td>0.705745</td>\n",
       "      <td>-0.497823</td>\n",
       "      <td>1.221170</td>\n",
       "      <td>105.280062</td>\n",
       "    </tr>\n",
       "    <tr>\n",
       "      <th>1</th>\n",
       "      <td>2acmU</td>\n",
       "      <td>1.334711</td>\n",
       "      <td>-0.340164</td>\n",
       "      <td>4.365080</td>\n",
       "      <td>73.037750</td>\n",
       "    </tr>\n",
       "    <tr>\n",
       "      <th>2</th>\n",
       "      <td>409Wp</td>\n",
       "      <td>1.022732</td>\n",
       "      <td>0.151990</td>\n",
       "      <td>1.419926</td>\n",
       "      <td>85.265647</td>\n",
       "    </tr>\n",
       "    <tr>\n",
       "      <th>3</th>\n",
       "      <td>iJLyR</td>\n",
       "      <td>-0.032172</td>\n",
       "      <td>0.139033</td>\n",
       "      <td>2.978566</td>\n",
       "      <td>168.620776</td>\n",
       "    </tr>\n",
       "    <tr>\n",
       "      <th>4</th>\n",
       "      <td>Xdl7t</td>\n",
       "      <td>1.988431</td>\n",
       "      <td>0.155413</td>\n",
       "      <td>4.751769</td>\n",
       "      <td>154.036647</td>\n",
       "    </tr>\n",
       "  </tbody>\n",
       "</table>\n",
       "</div>"
      ],
      "text/plain": [
       "      id        f0        f1        f2     product\n",
       "0  txEyH  0.705745 -0.497823  1.221170  105.280062\n",
       "1  2acmU  1.334711 -0.340164  4.365080   73.037750\n",
       "2  409Wp  1.022732  0.151990  1.419926   85.265647\n",
       "3  iJLyR -0.032172  0.139033  2.978566  168.620776\n",
       "4  Xdl7t  1.988431  0.155413  4.751769  154.036647"
      ]
     },
     "execution_count": 2,
     "metadata": {},
     "output_type": "execute_result"
    }
   ],
   "source": [
    "# чтение и просмотр файла\n",
    "df_0 = pd.read_csv('/datasets/geo_data_0.csv')\n",
    "df_0.head()"
   ]
  },
  {
   "cell_type": "code",
   "execution_count": 3,
   "metadata": {},
   "outputs": [
    {
     "data": {
      "text/html": [
       "<div>\n",
       "<style scoped>\n",
       "    .dataframe tbody tr th:only-of-type {\n",
       "        vertical-align: middle;\n",
       "    }\n",
       "\n",
       "    .dataframe tbody tr th {\n",
       "        vertical-align: top;\n",
       "    }\n",
       "\n",
       "    .dataframe thead th {\n",
       "        text-align: right;\n",
       "    }\n",
       "</style>\n",
       "<table border=\"1\" class=\"dataframe\">\n",
       "  <thead>\n",
       "    <tr style=\"text-align: right;\">\n",
       "      <th></th>\n",
       "      <th>id</th>\n",
       "      <th>f0</th>\n",
       "      <th>f1</th>\n",
       "      <th>f2</th>\n",
       "      <th>product</th>\n",
       "    </tr>\n",
       "  </thead>\n",
       "  <tbody>\n",
       "    <tr>\n",
       "      <th>0</th>\n",
       "      <td>txeyh</td>\n",
       "      <td>0.705745</td>\n",
       "      <td>-0.497823</td>\n",
       "      <td>1.221170</td>\n",
       "      <td>105.280062</td>\n",
       "    </tr>\n",
       "    <tr>\n",
       "      <th>1</th>\n",
       "      <td>2acmu</td>\n",
       "      <td>1.334711</td>\n",
       "      <td>-0.340164</td>\n",
       "      <td>4.365080</td>\n",
       "      <td>73.037750</td>\n",
       "    </tr>\n",
       "    <tr>\n",
       "      <th>2</th>\n",
       "      <td>409wp</td>\n",
       "      <td>1.022732</td>\n",
       "      <td>0.151990</td>\n",
       "      <td>1.419926</td>\n",
       "      <td>85.265647</td>\n",
       "    </tr>\n",
       "    <tr>\n",
       "      <th>3</th>\n",
       "      <td>ijlyr</td>\n",
       "      <td>-0.032172</td>\n",
       "      <td>0.139033</td>\n",
       "      <td>2.978566</td>\n",
       "      <td>168.620776</td>\n",
       "    </tr>\n",
       "    <tr>\n",
       "      <th>4</th>\n",
       "      <td>xdl7t</td>\n",
       "      <td>1.988431</td>\n",
       "      <td>0.155413</td>\n",
       "      <td>4.751769</td>\n",
       "      <td>154.036647</td>\n",
       "    </tr>\n",
       "  </tbody>\n",
       "</table>\n",
       "</div>"
      ],
      "text/plain": [
       "      id        f0        f1        f2     product\n",
       "0  txeyh  0.705745 -0.497823  1.221170  105.280062\n",
       "1  2acmu  1.334711 -0.340164  4.365080   73.037750\n",
       "2  409wp  1.022732  0.151990  1.419926   85.265647\n",
       "3  ijlyr -0.032172  0.139033  2.978566  168.620776\n",
       "4  xdl7t  1.988431  0.155413  4.751769  154.036647"
      ]
     },
     "execution_count": 3,
     "metadata": {},
     "output_type": "execute_result"
    }
   ],
   "source": [
    "# изменение регистра данных в столбце id\n",
    "df_0['id'] = df_0['id'].str.lower()\n",
    "df_0.head()"
   ]
  },
  {
   "cell_type": "code",
   "execution_count": 4,
   "metadata": {},
   "outputs": [
    {
     "name": "stdout",
     "output_type": "stream",
     "text": [
      "<class 'pandas.core.frame.DataFrame'>\n",
      "RangeIndex: 100000 entries, 0 to 99999\n",
      "Data columns (total 5 columns):\n",
      " #   Column   Non-Null Count   Dtype  \n",
      "---  ------   --------------   -----  \n",
      " 0   id       100000 non-null  object \n",
      " 1   f0       100000 non-null  float64\n",
      " 2   f1       100000 non-null  float64\n",
      " 3   f2       100000 non-null  float64\n",
      " 4   product  100000 non-null  float64\n",
      "dtypes: float64(4), object(1)\n",
      "memory usage: 3.8+ MB\n"
     ]
    }
   ],
   "source": [
    "# просмотр информации \n",
    "df_0.info()"
   ]
  },
  {
   "cell_type": "code",
   "execution_count": 5,
   "metadata": {},
   "outputs": [
    {
     "data": {
      "text/plain": [
       "0"
      ]
     },
     "execution_count": 5,
     "metadata": {},
     "output_type": "execute_result"
    }
   ],
   "source": [
    "# поиск явных дубликатов\n",
    "df_0.duplicated().sum()"
   ]
  },
  {
   "cell_type": "code",
   "execution_count": 6,
   "metadata": {
    "scrolled": false
   },
   "outputs": [
    {
     "data": {
      "text/plain": [
       "qw6lh    2\n",
       "yfcgc    2\n",
       "xudjb    2\n",
       "ocw1d    2\n",
       "tdehs    2\n",
       "        ..\n",
       "ocz8x    1\n",
       "jfgjd    1\n",
       "lrbr0    1\n",
       "15tlk    1\n",
       "dwtjw    1\n",
       "Name: id, Length: 99887, dtype: int64"
      ]
     },
     "execution_count": 6,
     "metadata": {},
     "output_type": "execute_result"
    }
   ],
   "source": [
    "# поиск неявных дубликатов\n",
    "df_0['id'].value_counts()"
   ]
  },
  {
   "cell_type": "markdown",
   "metadata": {},
   "source": [
    "#### Вывод"
   ]
  },
  {
   "cell_type": "markdown",
   "metadata": {},
   "source": [
    "- ознакомлена с данными первой таблицы\n",
    "- данные в столбце `id` приведены к одному нижнему регистру\n",
    "- пропусков, явных дубликатов не обнаружено\n",
    "- обнаружены неявные дубликаты, оставлены без изменений, так как неизвестна природа их возникновения\n",
    "- типы данных в столбцах соответствуют действительности"
   ]
  },
  {
   "cell_type": "markdown",
   "metadata": {},
   "source": [
    "### Подготовка данных второго региона"
   ]
  },
  {
   "cell_type": "code",
   "execution_count": 7,
   "metadata": {},
   "outputs": [
    {
     "data": {
      "text/html": [
       "<div>\n",
       "<style scoped>\n",
       "    .dataframe tbody tr th:only-of-type {\n",
       "        vertical-align: middle;\n",
       "    }\n",
       "\n",
       "    .dataframe tbody tr th {\n",
       "        vertical-align: top;\n",
       "    }\n",
       "\n",
       "    .dataframe thead th {\n",
       "        text-align: right;\n",
       "    }\n",
       "</style>\n",
       "<table border=\"1\" class=\"dataframe\">\n",
       "  <thead>\n",
       "    <tr style=\"text-align: right;\">\n",
       "      <th></th>\n",
       "      <th>id</th>\n",
       "      <th>f0</th>\n",
       "      <th>f1</th>\n",
       "      <th>f2</th>\n",
       "      <th>product</th>\n",
       "    </tr>\n",
       "  </thead>\n",
       "  <tbody>\n",
       "    <tr>\n",
       "      <th>0</th>\n",
       "      <td>kBEdx</td>\n",
       "      <td>-15.001348</td>\n",
       "      <td>-8.276000</td>\n",
       "      <td>-0.005876</td>\n",
       "      <td>3.179103</td>\n",
       "    </tr>\n",
       "    <tr>\n",
       "      <th>1</th>\n",
       "      <td>62mP7</td>\n",
       "      <td>14.272088</td>\n",
       "      <td>-3.475083</td>\n",
       "      <td>0.999183</td>\n",
       "      <td>26.953261</td>\n",
       "    </tr>\n",
       "    <tr>\n",
       "      <th>2</th>\n",
       "      <td>vyE1P</td>\n",
       "      <td>6.263187</td>\n",
       "      <td>-5.948386</td>\n",
       "      <td>5.001160</td>\n",
       "      <td>134.766305</td>\n",
       "    </tr>\n",
       "    <tr>\n",
       "      <th>3</th>\n",
       "      <td>KcrkZ</td>\n",
       "      <td>-13.081196</td>\n",
       "      <td>-11.506057</td>\n",
       "      <td>4.999415</td>\n",
       "      <td>137.945408</td>\n",
       "    </tr>\n",
       "    <tr>\n",
       "      <th>4</th>\n",
       "      <td>AHL4O</td>\n",
       "      <td>12.702195</td>\n",
       "      <td>-8.147433</td>\n",
       "      <td>5.004363</td>\n",
       "      <td>134.766305</td>\n",
       "    </tr>\n",
       "  </tbody>\n",
       "</table>\n",
       "</div>"
      ],
      "text/plain": [
       "      id         f0         f1        f2     product\n",
       "0  kBEdx -15.001348  -8.276000 -0.005876    3.179103\n",
       "1  62mP7  14.272088  -3.475083  0.999183   26.953261\n",
       "2  vyE1P   6.263187  -5.948386  5.001160  134.766305\n",
       "3  KcrkZ -13.081196 -11.506057  4.999415  137.945408\n",
       "4  AHL4O  12.702195  -8.147433  5.004363  134.766305"
      ]
     },
     "execution_count": 7,
     "metadata": {},
     "output_type": "execute_result"
    }
   ],
   "source": [
    "# чтение и просмотр файла\n",
    "df_1 = pd.read_csv('/datasets/geo_data_1.csv')\n",
    "df_1.head()"
   ]
  },
  {
   "cell_type": "code",
   "execution_count": 8,
   "metadata": {},
   "outputs": [
    {
     "data": {
      "text/html": [
       "<div>\n",
       "<style scoped>\n",
       "    .dataframe tbody tr th:only-of-type {\n",
       "        vertical-align: middle;\n",
       "    }\n",
       "\n",
       "    .dataframe tbody tr th {\n",
       "        vertical-align: top;\n",
       "    }\n",
       "\n",
       "    .dataframe thead th {\n",
       "        text-align: right;\n",
       "    }\n",
       "</style>\n",
       "<table border=\"1\" class=\"dataframe\">\n",
       "  <thead>\n",
       "    <tr style=\"text-align: right;\">\n",
       "      <th></th>\n",
       "      <th>id</th>\n",
       "      <th>f0</th>\n",
       "      <th>f1</th>\n",
       "      <th>f2</th>\n",
       "      <th>product</th>\n",
       "    </tr>\n",
       "  </thead>\n",
       "  <tbody>\n",
       "    <tr>\n",
       "      <th>0</th>\n",
       "      <td>kbedx</td>\n",
       "      <td>-15.001348</td>\n",
       "      <td>-8.276000</td>\n",
       "      <td>-0.005876</td>\n",
       "      <td>3.179103</td>\n",
       "    </tr>\n",
       "    <tr>\n",
       "      <th>1</th>\n",
       "      <td>62mp7</td>\n",
       "      <td>14.272088</td>\n",
       "      <td>-3.475083</td>\n",
       "      <td>0.999183</td>\n",
       "      <td>26.953261</td>\n",
       "    </tr>\n",
       "    <tr>\n",
       "      <th>2</th>\n",
       "      <td>vye1p</td>\n",
       "      <td>6.263187</td>\n",
       "      <td>-5.948386</td>\n",
       "      <td>5.001160</td>\n",
       "      <td>134.766305</td>\n",
       "    </tr>\n",
       "    <tr>\n",
       "      <th>3</th>\n",
       "      <td>kcrkz</td>\n",
       "      <td>-13.081196</td>\n",
       "      <td>-11.506057</td>\n",
       "      <td>4.999415</td>\n",
       "      <td>137.945408</td>\n",
       "    </tr>\n",
       "    <tr>\n",
       "      <th>4</th>\n",
       "      <td>ahl4o</td>\n",
       "      <td>12.702195</td>\n",
       "      <td>-8.147433</td>\n",
       "      <td>5.004363</td>\n",
       "      <td>134.766305</td>\n",
       "    </tr>\n",
       "  </tbody>\n",
       "</table>\n",
       "</div>"
      ],
      "text/plain": [
       "      id         f0         f1        f2     product\n",
       "0  kbedx -15.001348  -8.276000 -0.005876    3.179103\n",
       "1  62mp7  14.272088  -3.475083  0.999183   26.953261\n",
       "2  vye1p   6.263187  -5.948386  5.001160  134.766305\n",
       "3  kcrkz -13.081196 -11.506057  4.999415  137.945408\n",
       "4  ahl4o  12.702195  -8.147433  5.004363  134.766305"
      ]
     },
     "execution_count": 8,
     "metadata": {},
     "output_type": "execute_result"
    }
   ],
   "source": [
    "# изменение регистра данных в столбце id\n",
    "df_1['id'] = df_1['id'].str.lower()\n",
    "df_1.head()"
   ]
  },
  {
   "cell_type": "code",
   "execution_count": 9,
   "metadata": {},
   "outputs": [
    {
     "name": "stdout",
     "output_type": "stream",
     "text": [
      "<class 'pandas.core.frame.DataFrame'>\n",
      "RangeIndex: 100000 entries, 0 to 99999\n",
      "Data columns (total 5 columns):\n",
      " #   Column   Non-Null Count   Dtype  \n",
      "---  ------   --------------   -----  \n",
      " 0   id       100000 non-null  object \n",
      " 1   f0       100000 non-null  float64\n",
      " 2   f1       100000 non-null  float64\n",
      " 3   f2       100000 non-null  float64\n",
      " 4   product  100000 non-null  float64\n",
      "dtypes: float64(4), object(1)\n",
      "memory usage: 3.8+ MB\n"
     ]
    }
   ],
   "source": [
    "# просмотр информации \n",
    "df_1.info()"
   ]
  },
  {
   "cell_type": "code",
   "execution_count": 10,
   "metadata": {},
   "outputs": [
    {
     "data": {
      "text/plain": [
       "0"
      ]
     },
     "execution_count": 10,
     "metadata": {},
     "output_type": "execute_result"
    }
   ],
   "source": [
    "# поиск явных дубликатов\n",
    "df_1.duplicated().sum()"
   ]
  },
  {
   "cell_type": "code",
   "execution_count": 11,
   "metadata": {
    "scrolled": true
   },
   "outputs": [
    {
     "data": {
      "text/plain": [
       "zyegi    2\n",
       "mmvjw    2\n",
       "afdl4    2\n",
       "ocw8l    2\n",
       "2lern    2\n",
       "        ..\n",
       "ldghi    1\n",
       "amfdg    1\n",
       "d5b6l    1\n",
       "75eed    1\n",
       "rhz5l    1\n",
       "Name: id, Length: 99887, dtype: int64"
      ]
     },
     "execution_count": 11,
     "metadata": {},
     "output_type": "execute_result"
    }
   ],
   "source": [
    "# поиск неявных дубликатов\n",
    "df_1['id'].value_counts()"
   ]
  },
  {
   "cell_type": "markdown",
   "metadata": {},
   "source": [
    "#### Вывод"
   ]
  },
  {
   "cell_type": "markdown",
   "metadata": {},
   "source": [
    "- ознакомлена с данными первой таблицы\n",
    "- данные в столбце `id` приведены к одному нижнему регистру\n",
    "- пропусков, явных дубликатов не обнаружено\n",
    "- обнаружены неявные дубликаты, оставлены без изменений, так как неизвестна природа их возникновения\n",
    "- типы данных в столбцах соответствуют действительности"
   ]
  },
  {
   "cell_type": "markdown",
   "metadata": {},
   "source": [
    "### Подготовка данных третьего региона"
   ]
  },
  {
   "cell_type": "code",
   "execution_count": 12,
   "metadata": {},
   "outputs": [
    {
     "data": {
      "text/html": [
       "<div>\n",
       "<style scoped>\n",
       "    .dataframe tbody tr th:only-of-type {\n",
       "        vertical-align: middle;\n",
       "    }\n",
       "\n",
       "    .dataframe tbody tr th {\n",
       "        vertical-align: top;\n",
       "    }\n",
       "\n",
       "    .dataframe thead th {\n",
       "        text-align: right;\n",
       "    }\n",
       "</style>\n",
       "<table border=\"1\" class=\"dataframe\">\n",
       "  <thead>\n",
       "    <tr style=\"text-align: right;\">\n",
       "      <th></th>\n",
       "      <th>id</th>\n",
       "      <th>f0</th>\n",
       "      <th>f1</th>\n",
       "      <th>f2</th>\n",
       "      <th>product</th>\n",
       "    </tr>\n",
       "  </thead>\n",
       "  <tbody>\n",
       "    <tr>\n",
       "      <th>0</th>\n",
       "      <td>fwXo0</td>\n",
       "      <td>-1.146987</td>\n",
       "      <td>0.963328</td>\n",
       "      <td>-0.828965</td>\n",
       "      <td>27.758673</td>\n",
       "    </tr>\n",
       "    <tr>\n",
       "      <th>1</th>\n",
       "      <td>WJtFt</td>\n",
       "      <td>0.262778</td>\n",
       "      <td>0.269839</td>\n",
       "      <td>-2.530187</td>\n",
       "      <td>56.069697</td>\n",
       "    </tr>\n",
       "    <tr>\n",
       "      <th>2</th>\n",
       "      <td>ovLUW</td>\n",
       "      <td>0.194587</td>\n",
       "      <td>0.289035</td>\n",
       "      <td>-5.586433</td>\n",
       "      <td>62.871910</td>\n",
       "    </tr>\n",
       "    <tr>\n",
       "      <th>3</th>\n",
       "      <td>q6cA6</td>\n",
       "      <td>2.236060</td>\n",
       "      <td>-0.553760</td>\n",
       "      <td>0.930038</td>\n",
       "      <td>114.572842</td>\n",
       "    </tr>\n",
       "    <tr>\n",
       "      <th>4</th>\n",
       "      <td>WPMUX</td>\n",
       "      <td>-0.515993</td>\n",
       "      <td>1.716266</td>\n",
       "      <td>5.899011</td>\n",
       "      <td>149.600746</td>\n",
       "    </tr>\n",
       "  </tbody>\n",
       "</table>\n",
       "</div>"
      ],
      "text/plain": [
       "      id        f0        f1        f2     product\n",
       "0  fwXo0 -1.146987  0.963328 -0.828965   27.758673\n",
       "1  WJtFt  0.262778  0.269839 -2.530187   56.069697\n",
       "2  ovLUW  0.194587  0.289035 -5.586433   62.871910\n",
       "3  q6cA6  2.236060 -0.553760  0.930038  114.572842\n",
       "4  WPMUX -0.515993  1.716266  5.899011  149.600746"
      ]
     },
     "execution_count": 12,
     "metadata": {},
     "output_type": "execute_result"
    }
   ],
   "source": [
    "# чтение и просмотр файла\n",
    "df_2 = pd.read_csv('/datasets/geo_data_2.csv')\n",
    "df_2.head()"
   ]
  },
  {
   "cell_type": "code",
   "execution_count": 13,
   "metadata": {
    "scrolled": true
   },
   "outputs": [
    {
     "data": {
      "text/html": [
       "<div>\n",
       "<style scoped>\n",
       "    .dataframe tbody tr th:only-of-type {\n",
       "        vertical-align: middle;\n",
       "    }\n",
       "\n",
       "    .dataframe tbody tr th {\n",
       "        vertical-align: top;\n",
       "    }\n",
       "\n",
       "    .dataframe thead th {\n",
       "        text-align: right;\n",
       "    }\n",
       "</style>\n",
       "<table border=\"1\" class=\"dataframe\">\n",
       "  <thead>\n",
       "    <tr style=\"text-align: right;\">\n",
       "      <th></th>\n",
       "      <th>id</th>\n",
       "      <th>f0</th>\n",
       "      <th>f1</th>\n",
       "      <th>f2</th>\n",
       "      <th>product</th>\n",
       "    </tr>\n",
       "  </thead>\n",
       "  <tbody>\n",
       "    <tr>\n",
       "      <th>0</th>\n",
       "      <td>fwxo0</td>\n",
       "      <td>-1.146987</td>\n",
       "      <td>0.963328</td>\n",
       "      <td>-0.828965</td>\n",
       "      <td>27.758673</td>\n",
       "    </tr>\n",
       "    <tr>\n",
       "      <th>1</th>\n",
       "      <td>wjtft</td>\n",
       "      <td>0.262778</td>\n",
       "      <td>0.269839</td>\n",
       "      <td>-2.530187</td>\n",
       "      <td>56.069697</td>\n",
       "    </tr>\n",
       "    <tr>\n",
       "      <th>2</th>\n",
       "      <td>ovluw</td>\n",
       "      <td>0.194587</td>\n",
       "      <td>0.289035</td>\n",
       "      <td>-5.586433</td>\n",
       "      <td>62.871910</td>\n",
       "    </tr>\n",
       "    <tr>\n",
       "      <th>3</th>\n",
       "      <td>q6ca6</td>\n",
       "      <td>2.236060</td>\n",
       "      <td>-0.553760</td>\n",
       "      <td>0.930038</td>\n",
       "      <td>114.572842</td>\n",
       "    </tr>\n",
       "    <tr>\n",
       "      <th>4</th>\n",
       "      <td>wpmux</td>\n",
       "      <td>-0.515993</td>\n",
       "      <td>1.716266</td>\n",
       "      <td>5.899011</td>\n",
       "      <td>149.600746</td>\n",
       "    </tr>\n",
       "  </tbody>\n",
       "</table>\n",
       "</div>"
      ],
      "text/plain": [
       "      id        f0        f1        f2     product\n",
       "0  fwxo0 -1.146987  0.963328 -0.828965   27.758673\n",
       "1  wjtft  0.262778  0.269839 -2.530187   56.069697\n",
       "2  ovluw  0.194587  0.289035 -5.586433   62.871910\n",
       "3  q6ca6  2.236060 -0.553760  0.930038  114.572842\n",
       "4  wpmux -0.515993  1.716266  5.899011  149.600746"
      ]
     },
     "execution_count": 13,
     "metadata": {},
     "output_type": "execute_result"
    }
   ],
   "source": [
    "# изменение регистра данных в столбце id\n",
    "df_2['id'] = df_2['id'].str.lower()\n",
    "df_2.head()"
   ]
  },
  {
   "cell_type": "code",
   "execution_count": 14,
   "metadata": {
    "scrolled": true
   },
   "outputs": [
    {
     "name": "stdout",
     "output_type": "stream",
     "text": [
      "<class 'pandas.core.frame.DataFrame'>\n",
      "RangeIndex: 100000 entries, 0 to 99999\n",
      "Data columns (total 5 columns):\n",
      " #   Column   Non-Null Count   Dtype  \n",
      "---  ------   --------------   -----  \n",
      " 0   id       100000 non-null  object \n",
      " 1   f0       100000 non-null  float64\n",
      " 2   f1       100000 non-null  float64\n",
      " 3   f2       100000 non-null  float64\n",
      " 4   product  100000 non-null  float64\n",
      "dtypes: float64(4), object(1)\n",
      "memory usage: 3.8+ MB\n"
     ]
    }
   ],
   "source": [
    "# просмотр информации \n",
    "df_2.info()"
   ]
  },
  {
   "cell_type": "code",
   "execution_count": 15,
   "metadata": {},
   "outputs": [
    {
     "data": {
      "text/plain": [
       "0"
      ]
     },
     "execution_count": 15,
     "metadata": {},
     "output_type": "execute_result"
    }
   ],
   "source": [
    "# поиск явных дубликатов\n",
    "df_2.duplicated().sum()"
   ]
  },
  {
   "cell_type": "code",
   "execution_count": 16,
   "metadata": {},
   "outputs": [
    {
     "data": {
      "text/plain": [
       "nxgix    2\n",
       "oiwjq    2\n",
       "q6rkz    2\n",
       "0jrjy    2\n",
       "wlbmd    2\n",
       "        ..\n",
       "u4na0    1\n",
       "icweu    1\n",
       "qn0fk    1\n",
       "y2jtr    1\n",
       "pv0gm    1\n",
       "Name: id, Length: 99901, dtype: int64"
      ]
     },
     "execution_count": 16,
     "metadata": {},
     "output_type": "execute_result"
    }
   ],
   "source": [
    "# поиск неявных дубликатов\n",
    "df_2['id'].value_counts()"
   ]
  },
  {
   "cell_type": "markdown",
   "metadata": {},
   "source": [
    "#### Вывод"
   ]
  },
  {
   "cell_type": "markdown",
   "metadata": {},
   "source": [
    "- ознакомлена с данными первой таблицы\n",
    "- данные в столбце `id` приведены к одному нижнему регистру\n",
    "- пропусков, явных дубликатов не обнаружено\n",
    "- обнаружены неявные дубликаты, оставлены без изменений, так как неизвестна природа их возникновения\n",
    "- типы данных в столбцах соответствуют действительности"
   ]
  },
  {
   "cell_type": "markdown",
   "metadata": {},
   "source": [
    "## Обучение и проверка модели"
   ]
  },
  {
   "cell_type": "code",
   "execution_count": 17,
   "metadata": {},
   "outputs": [],
   "source": [
    "# значение random_state выносим в константу\n",
    "RANDOM_STATE = 12345"
   ]
  },
  {
   "cell_type": "markdown",
   "metadata": {},
   "source": [
    "### Обучение и проверка модели первого региона"
   ]
  },
  {
   "cell_type": "markdown",
   "metadata": {},
   "source": [
    "#### Разбиение на выборки"
   ]
  },
  {
   "cell_type": "code",
   "execution_count": 18,
   "metadata": {},
   "outputs": [],
   "source": [
    "# выявление целевого признака и остальных признаков\n",
    "# удаление столбца id для исключения выявления лишней зависимости\n",
    "target_0 = df_0['product']\n",
    "features_0 = df_0.drop(['product','id'], axis=1)"
   ]
  },
  {
   "cell_type": "code",
   "execution_count": 19,
   "metadata": {},
   "outputs": [],
   "source": [
    "# деление исходного набора данных на две выборки: обучающую и валидационную\n",
    "# в соотношении 75:25\n",
    "features_train_0, features_valid_0, target_train_0, target_valid_0 = train_test_split(features_0,\n",
    "                                                                                      target_0,\n",
    "                                                                                      test_size = 0.25,\n",
    "                                                                                      random_state=RANDOM_STATE)"
   ]
  },
  {
   "cell_type": "code",
   "execution_count": 20,
   "metadata": {},
   "outputs": [
    {
     "name": "stdout",
     "output_type": "stream",
     "text": [
      "(75000, 3) (25000, 3)\n"
     ]
    }
   ],
   "source": [
    "# проверка корректности разбиения\n",
    "print(features_train_0.shape, \n",
    "      features_valid_0.shape)"
   ]
  },
  {
   "cell_type": "markdown",
   "metadata": {},
   "source": [
    "#### Масштабирование признаков"
   ]
  },
  {
   "cell_type": "code",
   "execution_count": 21,
   "metadata": {},
   "outputs": [],
   "source": [
    "# масштабирование численных признаков\n",
    "pd.options.mode.chained_assignment = None\n",
    "numeric = ['f0', 'f1', 'f2']\n",
    "scaler = StandardScaler()\n",
    "scaler.fit(features_train_0[numeric])\n",
    "features_train_0[numeric] = scaler.transform(features_train_0[numeric])\n",
    "features_valid_0[numeric] = scaler.transform(features_valid_0[numeric])"
   ]
  },
  {
   "cell_type": "markdown",
   "metadata": {},
   "source": [
    "#### Обучение и предсказание модели"
   ]
  },
  {
   "cell_type": "code",
   "execution_count": 22,
   "metadata": {},
   "outputs": [],
   "source": [
    "model = LinearRegression()\n",
    "model.fit(features_train_0, target_train_0)\n",
    "predictions_valid_0 = model.predict(features_valid_0)\n",
    "result_0 = mean_squared_error(target_valid_0, predictions_valid_0)"
   ]
  },
  {
   "cell_type": "code",
   "execution_count": 23,
   "metadata": {},
   "outputs": [
    {
     "name": "stdout",
     "output_type": "stream",
     "text": [
      "Средний запас предсказанного сырья: 92.59256778438035\n",
      "RMSE модели линейной регрессии на валидационной выборке 37.5794217150813\n"
     ]
    }
   ],
   "source": [
    "print('Средний запас предсказанного сырья:', predictions_valid_0.mean())\n",
    "print('RMSE модели линейной регрессии на валидационной выборке', result_0**0.5)"
   ]
  },
  {
   "cell_type": "markdown",
   "metadata": {},
   "source": [
    "### Обучение и проверка модели второго региона"
   ]
  },
  {
   "cell_type": "markdown",
   "metadata": {},
   "source": [
    "#### Разбиение на выборки"
   ]
  },
  {
   "cell_type": "code",
   "execution_count": 24,
   "metadata": {},
   "outputs": [],
   "source": [
    "# выявление целевого признака и остальных признаков\n",
    "# удаление столбца id для исключения выявления лишней зависимости\n",
    "target_1 = df_1['product']\n",
    "features_1 = df_1.drop(['product','id'], axis=1)"
   ]
  },
  {
   "cell_type": "code",
   "execution_count": 25,
   "metadata": {},
   "outputs": [],
   "source": [
    "# деление исходного набора данных на две выборки: обучающую и валидационную\n",
    "# в соотношении 75:25\n",
    "features_train_1, features_valid_1, target_train_1, target_valid_1 = train_test_split(features_1,\n",
    "                                                                                      target_1,\n",
    "                                                                                      test_size = 0.25,\n",
    "                                                                                      random_state=RANDOM_STATE)"
   ]
  },
  {
   "cell_type": "code",
   "execution_count": 26,
   "metadata": {},
   "outputs": [
    {
     "name": "stdout",
     "output_type": "stream",
     "text": [
      "(75000, 3) (25000, 3)\n"
     ]
    }
   ],
   "source": [
    "# проверка корректности разбиения\n",
    "print(features_train_1.shape, \n",
    "      features_valid_1.shape)"
   ]
  },
  {
   "cell_type": "markdown",
   "metadata": {},
   "source": [
    "#### Масштабирование признаков"
   ]
  },
  {
   "cell_type": "code",
   "execution_count": 27,
   "metadata": {},
   "outputs": [],
   "source": [
    "# масштабирование численных признаков\n",
    "pd.options.mode.chained_assignment = None\n",
    "numeric = ['f0', 'f1', 'f2']\n",
    "scaler = StandardScaler()\n",
    "scaler.fit(features_train_1[numeric])\n",
    "features_train_1[numeric] = scaler.transform(features_train_1[numeric])\n",
    "features_valid_1[numeric] = scaler.transform(features_valid_1[numeric])"
   ]
  },
  {
   "cell_type": "markdown",
   "metadata": {},
   "source": [
    "#### Обучение и предсказание модели"
   ]
  },
  {
   "cell_type": "code",
   "execution_count": 28,
   "metadata": {},
   "outputs": [],
   "source": [
    "model = LinearRegression()\n",
    "model.fit(features_train_1, target_train_1)\n",
    "predictions_valid_1 = model.predict(features_valid_1)\n",
    "result_1 = mean_squared_error(target_valid_1, predictions_valid_1)"
   ]
  },
  {
   "cell_type": "code",
   "execution_count": 29,
   "metadata": {},
   "outputs": [
    {
     "name": "stdout",
     "output_type": "stream",
     "text": [
      "Средний запас предсказанного сырья: 68.728546895446\n",
      "RMSE модели линейной регрессии на валидационной выборке 0.893099286775617\n"
     ]
    }
   ],
   "source": [
    "print('Средний запас предсказанного сырья:', predictions_valid_1.mean())\n",
    "print('RMSE модели линейной регрессии на валидационной выборке', result_1**0.5)"
   ]
  },
  {
   "cell_type": "markdown",
   "metadata": {},
   "source": [
    "### Обучение и проверка модели третьего региона"
   ]
  },
  {
   "cell_type": "markdown",
   "metadata": {},
   "source": [
    "#### Разбиение на выборки"
   ]
  },
  {
   "cell_type": "code",
   "execution_count": 30,
   "metadata": {},
   "outputs": [],
   "source": [
    "# выявление целевого признака и остальных признаков\n",
    "# удаление столбца id для исключения выявления лишней зависимости\n",
    "target_2 = df_2['product']\n",
    "features_2 = df_2.drop(['product','id'], axis=1)"
   ]
  },
  {
   "cell_type": "code",
   "execution_count": 31,
   "metadata": {},
   "outputs": [],
   "source": [
    "# деление исходного набора данных на две выборки: обучающую и валидационную\n",
    "# в соотношении 75:25\n",
    "features_train_2, features_valid_2, target_train_2, target_valid_2 = train_test_split(features_2,\n",
    "                                                                                      target_2,\n",
    "                                                                                      test_size = 0.25,\n",
    "                                                                                      random_state=RANDOM_STATE)"
   ]
  },
  {
   "cell_type": "code",
   "execution_count": 32,
   "metadata": {},
   "outputs": [
    {
     "name": "stdout",
     "output_type": "stream",
     "text": [
      "(75000, 3) (25000, 3)\n"
     ]
    }
   ],
   "source": [
    "# проверка корректности разбиения\n",
    "print(features_train_2.shape, \n",
    "      features_valid_2.shape)"
   ]
  },
  {
   "cell_type": "markdown",
   "metadata": {},
   "source": [
    "#### Масштабирование признаков"
   ]
  },
  {
   "cell_type": "code",
   "execution_count": 33,
   "metadata": {},
   "outputs": [],
   "source": [
    "# масштабирование численных признаков\n",
    "pd.options.mode.chained_assignment = None\n",
    "numeric = ['f0', 'f1', 'f2']\n",
    "scaler = StandardScaler()\n",
    "scaler.fit(features_train_2[numeric])\n",
    "features_train_2[numeric] = scaler.transform(features_train_2[numeric])\n",
    "features_valid_2[numeric] = scaler.transform(features_valid_2[numeric])"
   ]
  },
  {
   "cell_type": "markdown",
   "metadata": {},
   "source": [
    "#### Обучение и предсказание модели"
   ]
  },
  {
   "cell_type": "code",
   "execution_count": 34,
   "metadata": {},
   "outputs": [],
   "source": [
    "model = LinearRegression()\n",
    "model.fit(features_train_2, target_train_2)\n",
    "predictions_valid_2 = model.predict(features_valid_2)\n",
    "result_2 = mean_squared_error(target_valid_2, predictions_valid_2)"
   ]
  },
  {
   "cell_type": "code",
   "execution_count": 35,
   "metadata": {},
   "outputs": [
    {
     "name": "stdout",
     "output_type": "stream",
     "text": [
      "Средний запас предсказанного сырья: 94.96504596800489\n",
      "RMSE модели линейной регрессии на валидационной выборке 40.02970873393434\n"
     ]
    }
   ],
   "source": [
    "print('Средний запас предсказанного сырья:', predictions_valid_2.mean())\n",
    "print('RMSE модели линейной регрессии на валидационной выборке', result_2**0.5)"
   ]
  },
  {
   "cell_type": "markdown",
   "metadata": {},
   "source": [
    "### Вывод"
   ]
  },
  {
   "cell_type": "code",
   "execution_count": 36,
   "metadata": {},
   "outputs": [
    {
     "name": "stdout",
     "output_type": "stream",
     "text": [
      "[92.59256778438035, 68.728546895446, 94.96504596800489]\n",
      "[37.5794217150813, 0.893099286775617, 40.02970873393434]\n"
     ]
    }
   ],
   "source": [
    "predict_tab = [predictions_valid_0.mean(), predictions_valid_1.mean(), predictions_valid_2.mean()]\n",
    "rmse_tab = [result_0**0.5, result_1**0.5, result_2**0.5]\n",
    "print(predict_tab)\n",
    "print(rmse_tab)"
   ]
  },
  {
   "cell_type": "markdown",
   "metadata": {},
   "source": [
    "Средний запас предсказанного сырья больше в третьем регионе. Лучшее качество показала модель второго региона."
   ]
  },
  {
   "cell_type": "markdown",
   "metadata": {},
   "source": [
    "## Подготовка к расчёту прибыли"
   ]
  },
  {
   "cell_type": "code",
   "execution_count": 37,
   "metadata": {},
   "outputs": [],
   "source": [
    "# Бюджет на разработку скважин в регионе — 10 млрд рублей\n",
    "# Доход с каждой единицы продукта составляет 450 тыс. рублей, поскольку объём указан в тысячах баррелей\n",
    "# При разведке региона выбирают 200 точек\n",
    "BUDGET = 10_000_000_000\n",
    "ONE_PRODUCT = 450_000\n",
    "POINTS = 200"
   ]
  },
  {
   "cell_type": "code",
   "execution_count": 38,
   "metadata": {
    "scrolled": true
   },
   "outputs": [
    {
     "name": "stdout",
     "output_type": "stream",
     "text": [
      "Достаточный объём сырья для безубыточной разработки новой скважины: 111.11111111111111\n"
     ]
    }
   ],
   "source": [
    "print('Достаточный объём сырья для безубыточной разработки новой скважины:', BUDGET/(ONE_PRODUCT*POINTS))"
   ]
  },
  {
   "cell_type": "markdown",
   "metadata": {},
   "source": [
    "**Вывод:**\n",
    "\n",
    "Предсказанный объем сырья в первом и третьем регионе приближен к полученному значению достаточного объёма."
   ]
  },
  {
   "cell_type": "code",
   "execution_count": 51,
   "metadata": {
    "scrolled": true
   },
   "outputs": [],
   "source": [
    "def profit(target, predictions):\n",
    "    best_pred = pd.Series(predictions).sort_values(ascending=False)[:POINTS]\n",
    "    best_target = target[best_pred.index]\n",
    "    return best_target.sum() * ONE_PRODUCT - BUDGET"
   ]
  },
  {
   "cell_type": "markdown",
   "metadata": {},
   "source": [
    "## Расчёт прибыли и рисков "
   ]
  },
  {
   "cell_type": "code",
   "execution_count": 52,
   "metadata": {},
   "outputs": [],
   "source": [
    "state = np.random.RandomState(12345)"
   ]
  },
  {
   "cell_type": "code",
   "execution_count": 53,
   "metadata": {},
   "outputs": [],
   "source": [
    "def region_profit(target, predictions):    \n",
    "    values = []\n",
    "    for i in range(1000):\n",
    "        subsample = target.sample(500,\n",
    "                                  replace=True,\n",
    "                                  random_state=state)\n",
    "        best_subsample = pd.Series(predictions, index=target.index)[subsample.index]\n",
    "        prof = profit(subsample, best_subsample)\n",
    "        values.append(prof)\n",
    "    values = pd.Series(values)\n",
    "    mean = values.mean() \n",
    "    lower = values.quantile(0.025)\n",
    "    upper = values.quantile(0.975)\n",
    "    print('Средняя прибыль в регионе:', mean)\n",
    "    print('0.025-квантиль:', lower)\n",
    "    print('0.0975-квантиль:', upper)\n",
    "    print('Доля отрицательной прибыли:',(values < 0).mean())"
   ]
  },
  {
   "cell_type": "code",
   "execution_count": 54,
   "metadata": {
    "scrolled": false
   },
   "outputs": [
    {
     "name": "stdout",
     "output_type": "stream",
     "text": [
      "Средняя прибыль в регионе: 600735244.2611653\n",
      "0.025-квантиль: 12948331.135115242\n",
      "0.0975-квантиль: 1231163605.7914982\n",
      "Доля отрицательной прибыли: 0.02\n",
      "Средняя прибыль в регионе: 663958995.2601906\n",
      "0.025-квантиль: 206476361.25177094\n",
      "0.0975-квантиль: 1191197684.7488434\n",
      "Доля отрицательной прибыли: 0.001\n",
      "Средняя прибыль в регионе: 597381047.9005232\n",
      "0.025-квантиль: 1734929.5311760982\n",
      "0.0975-квантиль: 1246217960.1652355\n",
      "Доля отрицательной прибыли: 0.025\n"
     ]
    }
   ],
   "source": [
    "region_profit(target_valid_0, predictions_valid_0)\n",
    "region_profit(target_valid_1, predictions_valid_1)\n",
    "region_profit(target_valid_2, predictions_valid_2)"
   ]
  },
  {
   "cell_type": "markdown",
   "metadata": {},
   "source": [
    "### Вывод"
   ]
  },
  {
   "cell_type": "markdown",
   "metadata": {},
   "source": [
    "Вероятность убытков меньше 2.5% обнаружена в первом и во втором регионе. Вероятность убытков в первом регионе равна 2%, во втором - 0.1%. Наибольшая средняя прибыль во втором регионе. Можно сделать вывод, что выбрать для разработки скважен перспективнее второй регион."
   ]
  }
 ],
 "metadata": {
  "ExecuteTimeLog": [
   {
    "duration": 47,
    "start_time": "2022-09-07T10:01:41.078Z"
   },
   {
    "duration": 413,
    "start_time": "2022-09-07T10:01:46.488Z"
   },
   {
    "duration": 368,
    "start_time": "2022-09-07T10:01:47.113Z"
   },
   {
    "duration": 13,
    "start_time": "2022-09-07T10:02:08.720Z"
   },
   {
    "duration": 42,
    "start_time": "2022-09-07T10:05:30.927Z"
   },
   {
    "duration": 39,
    "start_time": "2022-09-07T10:05:38.408Z"
   },
   {
    "duration": 26,
    "start_time": "2022-09-07T10:06:59.213Z"
   },
   {
    "duration": 25,
    "start_time": "2022-09-07T10:07:20.796Z"
   },
   {
    "duration": 21,
    "start_time": "2022-09-07T10:07:30.243Z"
   },
   {
    "duration": 30,
    "start_time": "2022-09-07T10:07:44.551Z"
   },
   {
    "duration": 3,
    "start_time": "2022-09-07T10:07:58.906Z"
   },
   {
    "duration": 126,
    "start_time": "2022-09-07T10:07:59.527Z"
   },
   {
    "duration": 39,
    "start_time": "2022-09-07T10:08:00.926Z"
   },
   {
    "duration": 18,
    "start_time": "2022-09-07T10:08:05.228Z"
   },
   {
    "duration": 40,
    "start_time": "2022-09-07T10:08:07.737Z"
   },
   {
    "duration": 272,
    "start_time": "2022-09-07T10:09:11.037Z"
   },
   {
    "duration": 18,
    "start_time": "2022-09-07T10:12:51.707Z"
   },
   {
    "duration": 254,
    "start_time": "2022-09-07T10:13:18.782Z"
   },
   {
    "duration": 3,
    "start_time": "2022-09-07T10:16:33.295Z"
   },
   {
    "duration": 143,
    "start_time": "2022-09-07T10:16:34.888Z"
   },
   {
    "duration": 2,
    "start_time": "2022-09-07T10:17:02.294Z"
   },
   {
    "duration": 123,
    "start_time": "2022-09-07T10:17:03.040Z"
   },
   {
    "duration": 34,
    "start_time": "2022-09-07T10:17:03.548Z"
   },
   {
    "duration": 15,
    "start_time": "2022-09-07T10:17:04.108Z"
   },
   {
    "duration": 41,
    "start_time": "2022-09-07T10:17:04.641Z"
   },
   {
    "duration": 263,
    "start_time": "2022-09-07T10:17:05.335Z"
   },
   {
    "duration": 201,
    "start_time": "2022-09-07T10:18:18.947Z"
   },
   {
    "duration": 34,
    "start_time": "2022-09-07T10:18:54.084Z"
   },
   {
    "duration": 12,
    "start_time": "2022-09-07T10:19:06.396Z"
   },
   {
    "duration": 138,
    "start_time": "2022-09-07T10:19:54.092Z"
   },
   {
    "duration": 37,
    "start_time": "2022-09-07T10:19:55.548Z"
   },
   {
    "duration": 38,
    "start_time": "2022-09-07T10:20:19.640Z"
   },
   {
    "duration": 245,
    "start_time": "2022-09-07T10:20:37.639Z"
   },
   {
    "duration": 54,
    "start_time": "2022-09-07T10:20:55.140Z"
   },
   {
    "duration": 40,
    "start_time": "2022-09-07T10:21:20.288Z"
   },
   {
    "duration": 35,
    "start_time": "2022-09-07T10:21:58.329Z"
   },
   {
    "duration": 34,
    "start_time": "2022-09-07T10:22:19.025Z"
   },
   {
    "duration": 14,
    "start_time": "2022-09-07T10:22:19.945Z"
   },
   {
    "duration": 44,
    "start_time": "2022-09-07T10:22:20.754Z"
   },
   {
    "duration": 50,
    "start_time": "2022-09-07T10:22:26.821Z"
   },
   {
    "duration": 14,
    "start_time": "2022-09-07T10:23:32.008Z"
   },
   {
    "duration": 14,
    "start_time": "2022-09-07T10:25:31.888Z"
   },
   {
    "duration": 403,
    "start_time": "2022-09-07T10:50:39.995Z"
   },
   {
    "duration": 139,
    "start_time": "2022-09-07T10:50:42.792Z"
   },
   {
    "duration": 35,
    "start_time": "2022-09-07T10:50:43.742Z"
   },
   {
    "duration": 17,
    "start_time": "2022-09-07T10:50:44.496Z"
   },
   {
    "duration": 53,
    "start_time": "2022-09-07T10:50:45.945Z"
   },
   {
    "duration": 58,
    "start_time": "2022-09-07T10:50:46.659Z"
   },
   {
    "duration": 13,
    "start_time": "2022-09-07T10:50:47.438Z"
   },
   {
    "duration": 15,
    "start_time": "2022-09-07T10:50:49.051Z"
   },
   {
    "duration": 26,
    "start_time": "2022-09-07T11:03:23.813Z"
   },
   {
    "duration": 9,
    "start_time": "2022-09-07T11:29:28.942Z"
   },
   {
    "duration": 14,
    "start_time": "2022-09-07T12:10:31.809Z"
   },
   {
    "duration": 148,
    "start_time": "2022-09-07T12:12:30.181Z"
   },
   {
    "duration": 125,
    "start_time": "2022-09-07T12:13:22.070Z"
   },
   {
    "duration": 72,
    "start_time": "2022-09-07T12:14:04.671Z"
   },
   {
    "duration": 138,
    "start_time": "2022-09-07T12:23:09.844Z"
   },
   {
    "duration": 34,
    "start_time": "2022-09-07T12:23:10.645Z"
   },
   {
    "duration": 19,
    "start_time": "2022-09-07T12:23:11.515Z"
   },
   {
    "duration": 54,
    "start_time": "2022-09-07T12:23:14.272Z"
   },
   {
    "duration": 298,
    "start_time": "2022-09-07T12:23:14.827Z"
   },
   {
    "duration": 46,
    "start_time": "2022-09-07T12:23:29.823Z"
   },
   {
    "duration": 215,
    "start_time": "2022-09-07T12:24:26.998Z"
   },
   {
    "duration": 34,
    "start_time": "2022-09-07T12:24:49.048Z"
   },
   {
    "duration": 13,
    "start_time": "2022-09-07T12:25:03.178Z"
   },
   {
    "duration": 53,
    "start_time": "2022-09-07T12:25:25.971Z"
   },
   {
    "duration": 70,
    "start_time": "2022-09-07T12:25:51.192Z"
   },
   {
    "duration": 132,
    "start_time": "2022-09-07T12:29:27.303Z"
   },
   {
    "duration": 33,
    "start_time": "2022-09-07T12:29:49.730Z"
   },
   {
    "duration": 2,
    "start_time": "2022-09-07T12:33:04.756Z"
   },
   {
    "duration": 131,
    "start_time": "2022-09-07T12:33:05.492Z"
   },
   {
    "duration": 33,
    "start_time": "2022-09-07T12:33:05.831Z"
   },
   {
    "duration": 12,
    "start_time": "2022-09-07T12:33:06.074Z"
   },
   {
    "duration": 56,
    "start_time": "2022-09-07T12:33:06.290Z"
   },
   {
    "duration": 72,
    "start_time": "2022-09-07T12:33:06.518Z"
   },
   {
    "duration": 139,
    "start_time": "2022-09-07T12:33:07.160Z"
   },
   {
    "duration": 35,
    "start_time": "2022-09-07T12:33:07.394Z"
   },
   {
    "duration": 12,
    "start_time": "2022-09-07T12:33:07.651Z"
   },
   {
    "duration": 39,
    "start_time": "2022-09-07T12:33:07.879Z"
   },
   {
    "duration": 50,
    "start_time": "2022-09-07T12:33:08.082Z"
   },
   {
    "duration": 124,
    "start_time": "2022-09-07T12:33:08.756Z"
   },
   {
    "duration": 41,
    "start_time": "2022-09-07T12:33:10.598Z"
   },
   {
    "duration": 14,
    "start_time": "2022-09-07T12:33:10.813Z"
   },
   {
    "duration": 45,
    "start_time": "2022-09-07T12:33:11.008Z"
   },
   {
    "duration": 58,
    "start_time": "2022-09-07T12:33:11.273Z"
   },
   {
    "duration": 7,
    "start_time": "2022-09-07T12:50:19.980Z"
   },
   {
    "duration": 5,
    "start_time": "2022-09-07T12:58:13.775Z"
   },
   {
    "duration": 2,
    "start_time": "2022-09-07T13:06:20.305Z"
   },
   {
    "duration": 6,
    "start_time": "2022-09-07T13:06:21.624Z"
   },
   {
    "duration": 66,
    "start_time": "2022-09-07T13:06:22.101Z"
   },
   {
    "duration": 694,
    "start_time": "2022-09-07T13:06:51.684Z"
   },
   {
    "duration": 125,
    "start_time": "2022-09-07T13:06:52.380Z"
   },
   {
    "duration": 39,
    "start_time": "2022-09-07T13:06:52.510Z"
   },
   {
    "duration": 13,
    "start_time": "2022-09-07T13:06:52.938Z"
   },
   {
    "duration": 40,
    "start_time": "2022-09-07T13:06:53.160Z"
   },
   {
    "duration": 47,
    "start_time": "2022-09-07T13:06:53.349Z"
   },
   {
    "duration": 123,
    "start_time": "2022-09-07T13:06:54.090Z"
   },
   {
    "duration": 33,
    "start_time": "2022-09-07T13:06:54.273Z"
   },
   {
    "duration": 16,
    "start_time": "2022-09-07T13:06:54.481Z"
   },
   {
    "duration": 38,
    "start_time": "2022-09-07T13:06:54.669Z"
   },
   {
    "duration": 49,
    "start_time": "2022-09-07T13:06:54.875Z"
   },
   {
    "duration": 121,
    "start_time": "2022-09-07T13:06:55.689Z"
   },
   {
    "duration": 33,
    "start_time": "2022-09-07T13:06:56.021Z"
   },
   {
    "duration": 12,
    "start_time": "2022-09-07T13:06:56.198Z"
   },
   {
    "duration": 39,
    "start_time": "2022-09-07T13:06:56.374Z"
   },
   {
    "duration": 47,
    "start_time": "2022-09-07T13:06:56.579Z"
   },
   {
    "duration": 2,
    "start_time": "2022-09-07T13:06:57.744Z"
   },
   {
    "duration": 4,
    "start_time": "2022-09-07T13:06:58.513Z"
   },
   {
    "duration": 58,
    "start_time": "2022-09-07T13:06:58.896Z"
   },
   {
    "duration": 25,
    "start_time": "2022-09-07T13:07:50.316Z"
   },
   {
    "duration": 10,
    "start_time": "2022-09-07T13:09:27.920Z"
   },
   {
    "duration": 3,
    "start_time": "2022-09-07T13:10:02.766Z"
   },
   {
    "duration": 2,
    "start_time": "2022-09-07T14:57:44.669Z"
   },
   {
    "duration": 122,
    "start_time": "2022-09-07T14:57:45.489Z"
   },
   {
    "duration": 34,
    "start_time": "2022-09-07T14:57:45.890Z"
   },
   {
    "duration": 14,
    "start_time": "2022-09-07T14:57:46.296Z"
   },
   {
    "duration": 43,
    "start_time": "2022-09-07T14:57:46.651Z"
   },
   {
    "duration": 49,
    "start_time": "2022-09-07T14:57:46.981Z"
   },
   {
    "duration": 121,
    "start_time": "2022-09-07T14:57:48.147Z"
   },
   {
    "duration": 32,
    "start_time": "2022-09-07T14:57:48.689Z"
   },
   {
    "duration": 14,
    "start_time": "2022-09-07T14:57:49.174Z"
   },
   {
    "duration": 40,
    "start_time": "2022-09-07T14:57:49.685Z"
   },
   {
    "duration": 47,
    "start_time": "2022-09-07T14:57:50.161Z"
   },
   {
    "duration": 126,
    "start_time": "2022-09-07T14:57:51.639Z"
   },
   {
    "duration": 33,
    "start_time": "2022-09-07T14:57:52.026Z"
   },
   {
    "duration": 12,
    "start_time": "2022-09-07T14:57:52.450Z"
   },
   {
    "duration": 44,
    "start_time": "2022-09-07T14:57:52.859Z"
   },
   {
    "duration": 47,
    "start_time": "2022-09-07T14:57:53.240Z"
   },
   {
    "duration": 2,
    "start_time": "2022-09-07T14:57:54.145Z"
   },
   {
    "duration": 123,
    "start_time": "2022-09-07T14:58:05.453Z"
   },
   {
    "duration": 31,
    "start_time": "2022-09-07T14:58:06.136Z"
   },
   {
    "duration": 12,
    "start_time": "2022-09-07T14:58:06.902Z"
   },
   {
    "duration": 38,
    "start_time": "2022-09-07T14:58:07.346Z"
   },
   {
    "duration": 48,
    "start_time": "2022-09-07T14:58:07.768Z"
   },
   {
    "duration": 122,
    "start_time": "2022-09-07T14:58:09.122Z"
   },
   {
    "duration": 32,
    "start_time": "2022-09-07T14:58:09.556Z"
   },
   {
    "duration": 13,
    "start_time": "2022-09-07T14:58:09.762Z"
   },
   {
    "duration": 40,
    "start_time": "2022-09-07T14:58:09.966Z"
   },
   {
    "duration": 49,
    "start_time": "2022-09-07T14:58:10.155Z"
   },
   {
    "duration": 2,
    "start_time": "2022-09-07T14:58:10.814Z"
   },
   {
    "duration": 5,
    "start_time": "2022-09-07T14:58:11.903Z"
   },
   {
    "duration": 10,
    "start_time": "2022-09-07T14:58:12.444Z"
   },
   {
    "duration": 2,
    "start_time": "2022-09-07T14:58:12.970Z"
   },
   {
    "duration": 5,
    "start_time": "2022-09-07T15:02:45.783Z"
   },
   {
    "duration": 9,
    "start_time": "2022-09-07T15:03:12.291Z"
   },
   {
    "duration": 3,
    "start_time": "2022-09-07T15:03:19.253Z"
   },
   {
    "duration": 9,
    "start_time": "2022-09-07T15:03:42.641Z"
   },
   {
    "duration": 2,
    "start_time": "2022-09-07T15:04:03.202Z"
   },
   {
    "duration": 13,
    "start_time": "2022-09-07T15:04:12.534Z"
   },
   {
    "duration": 3,
    "start_time": "2022-09-07T15:04:30.678Z"
   },
   {
    "duration": 136,
    "start_time": "2022-09-07T15:04:31.097Z"
   },
   {
    "duration": 33,
    "start_time": "2022-09-07T15:04:31.296Z"
   },
   {
    "duration": 12,
    "start_time": "2022-09-07T15:04:31.498Z"
   },
   {
    "duration": 41,
    "start_time": "2022-09-07T15:04:31.692Z"
   },
   {
    "duration": 47,
    "start_time": "2022-09-07T15:04:32.082Z"
   },
   {
    "duration": 122,
    "start_time": "2022-09-07T15:04:32.880Z"
   },
   {
    "duration": 32,
    "start_time": "2022-09-07T15:04:33.064Z"
   },
   {
    "duration": 13,
    "start_time": "2022-09-07T15:04:33.282Z"
   },
   {
    "duration": 37,
    "start_time": "2022-09-07T15:04:33.505Z"
   },
   {
    "duration": 46,
    "start_time": "2022-09-07T15:04:33.701Z"
   },
   {
    "duration": 134,
    "start_time": "2022-09-07T15:04:34.321Z"
   },
   {
    "duration": 40,
    "start_time": "2022-09-07T15:04:34.506Z"
   },
   {
    "duration": 12,
    "start_time": "2022-09-07T15:04:34.714Z"
   },
   {
    "duration": 46,
    "start_time": "2022-09-07T15:04:34.913Z"
   },
   {
    "duration": 59,
    "start_time": "2022-09-07T15:04:35.124Z"
   },
   {
    "duration": 2,
    "start_time": "2022-09-07T15:04:35.807Z"
   },
   {
    "duration": 5,
    "start_time": "2022-09-07T15:04:36.400Z"
   },
   {
    "duration": 11,
    "start_time": "2022-09-07T15:04:36.638Z"
   },
   {
    "duration": 3,
    "start_time": "2022-09-07T15:04:37.195Z"
   },
   {
    "duration": 18,
    "start_time": "2022-09-07T15:05:00.900Z"
   },
   {
    "duration": 8,
    "start_time": "2022-09-07T15:09:30.730Z"
   },
   {
    "duration": 21,
    "start_time": "2022-09-07T15:09:49.563Z"
   },
   {
    "duration": 14,
    "start_time": "2022-09-07T15:09:53.295Z"
   },
   {
    "duration": 1073,
    "start_time": "2022-09-07T15:11:01.293Z"
   },
   {
    "duration": 138,
    "start_time": "2022-09-07T15:11:03.273Z"
   },
   {
    "duration": 34,
    "start_time": "2022-09-07T15:11:04.049Z"
   },
   {
    "duration": 17,
    "start_time": "2022-09-07T15:11:04.621Z"
   },
   {
    "duration": 41,
    "start_time": "2022-09-07T15:11:05.090Z"
   },
   {
    "duration": 48,
    "start_time": "2022-09-07T15:11:05.422Z"
   },
   {
    "duration": 123,
    "start_time": "2022-09-07T15:11:06.233Z"
   },
   {
    "duration": 32,
    "start_time": "2022-09-07T15:11:06.407Z"
   },
   {
    "duration": 12,
    "start_time": "2022-09-07T15:11:06.626Z"
   },
   {
    "duration": 38,
    "start_time": "2022-09-07T15:11:06.939Z"
   },
   {
    "duration": 56,
    "start_time": "2022-09-07T15:11:07.155Z"
   },
   {
    "duration": 129,
    "start_time": "2022-09-07T15:11:08.551Z"
   },
   {
    "duration": 32,
    "start_time": "2022-09-07T15:11:08.766Z"
   },
   {
    "duration": 14,
    "start_time": "2022-09-07T15:11:08.988Z"
   },
   {
    "duration": 42,
    "start_time": "2022-09-07T15:11:09.194Z"
   },
   {
    "duration": 73,
    "start_time": "2022-09-07T15:11:09.586Z"
   },
   {
    "duration": 2,
    "start_time": "2022-09-07T15:11:10.614Z"
   },
   {
    "duration": 5,
    "start_time": "2022-09-07T15:11:11.520Z"
   },
   {
    "duration": 10,
    "start_time": "2022-09-07T15:11:11.783Z"
   },
   {
    "duration": 6,
    "start_time": "2022-09-07T15:11:12.210Z"
   },
   {
    "duration": 26,
    "start_time": "2022-09-07T15:11:13.113Z"
   },
   {
    "duration": 105,
    "start_time": "2022-09-07T15:11:14.221Z"
   },
   {
    "duration": 9,
    "start_time": "2022-09-07T15:11:56.374Z"
   },
   {
    "duration": 11,
    "start_time": "2022-09-07T15:12:04.417Z"
   },
   {
    "duration": 13,
    "start_time": "2022-09-07T15:12:10.733Z"
   },
   {
    "duration": 3,
    "start_time": "2022-09-07T15:15:33.392Z"
   },
   {
    "duration": 13,
    "start_time": "2022-09-07T15:15:39.161Z"
   },
   {
    "duration": 5,
    "start_time": "2022-09-07T15:17:07.806Z"
   },
   {
    "duration": 11,
    "start_time": "2022-09-07T15:17:08.207Z"
   },
   {
    "duration": 3,
    "start_time": "2022-09-07T15:17:08.661Z"
   },
   {
    "duration": 18,
    "start_time": "2022-09-07T15:17:21.728Z"
   },
   {
    "duration": 13,
    "start_time": "2022-09-07T15:17:48.758Z"
   },
   {
    "duration": 12,
    "start_time": "2022-09-07T15:18:53.281Z"
   },
   {
    "duration": 13,
    "start_time": "2022-09-07T15:21:08.757Z"
   },
   {
    "duration": 12,
    "start_time": "2022-09-07T15:21:21.592Z"
   },
   {
    "duration": 6,
    "start_time": "2022-09-07T15:24:21.050Z"
   },
   {
    "duration": 6,
    "start_time": "2022-09-07T15:24:54.525Z"
   },
   {
    "duration": 8,
    "start_time": "2022-09-07T15:26:59.048Z"
   },
   {
    "duration": 9,
    "start_time": "2022-09-07T15:27:10.154Z"
   },
   {
    "duration": 6,
    "start_time": "2022-09-07T15:27:58.761Z"
   },
   {
    "duration": 7,
    "start_time": "2022-09-07T15:27:59.606Z"
   },
   {
    "duration": 6,
    "start_time": "2022-09-07T15:28:00.452Z"
   },
   {
    "duration": 9,
    "start_time": "2022-09-07T15:28:03.265Z"
   },
   {
    "duration": 3,
    "start_time": "2022-09-07T15:28:03.909Z"
   },
   {
    "duration": 14,
    "start_time": "2022-09-07T15:28:07.988Z"
   },
   {
    "duration": 281,
    "start_time": "2022-09-07T15:28:13.024Z"
   },
   {
    "duration": 241,
    "start_time": "2022-09-07T15:28:28.364Z"
   },
   {
    "duration": 246,
    "start_time": "2022-09-07T15:29:16.758Z"
   },
   {
    "duration": 411,
    "start_time": "2022-09-07T15:30:56.893Z"
   },
   {
    "duration": 237,
    "start_time": "2022-09-07T15:31:07.367Z"
   },
   {
    "duration": 9,
    "start_time": "2022-09-07T15:32:49.462Z"
   },
   {
    "duration": 2,
    "start_time": "2022-09-07T15:33:16.754Z"
   },
   {
    "duration": 6,
    "start_time": "2022-09-07T15:33:42.270Z"
   },
   {
    "duration": 11,
    "start_time": "2022-09-07T15:33:42.752Z"
   },
   {
    "duration": 4,
    "start_time": "2022-09-07T15:33:43.300Z"
   },
   {
    "duration": 3,
    "start_time": "2022-09-07T15:33:59.528Z"
   },
   {
    "duration": 135,
    "start_time": "2022-09-07T15:33:59.995Z"
   },
   {
    "duration": 34,
    "start_time": "2022-09-07T15:34:00.212Z"
   },
   {
    "duration": 14,
    "start_time": "2022-09-07T15:34:00.439Z"
   },
   {
    "duration": 42,
    "start_time": "2022-09-07T15:34:00.690Z"
   },
   {
    "duration": 54,
    "start_time": "2022-09-07T15:34:00.893Z"
   },
   {
    "duration": 137,
    "start_time": "2022-09-07T15:34:01.891Z"
   },
   {
    "duration": 33,
    "start_time": "2022-09-07T15:34:02.148Z"
   },
   {
    "duration": 22,
    "start_time": "2022-09-07T15:34:02.609Z"
   },
   {
    "duration": 46,
    "start_time": "2022-09-07T15:34:02.999Z"
   },
   {
    "duration": 47,
    "start_time": "2022-09-07T15:34:03.462Z"
   },
   {
    "duration": 126,
    "start_time": "2022-09-07T15:34:04.733Z"
   },
   {
    "duration": 53,
    "start_time": "2022-09-07T15:34:04.999Z"
   },
   {
    "duration": 14,
    "start_time": "2022-09-07T15:34:05.213Z"
   },
   {
    "duration": 40,
    "start_time": "2022-09-07T15:34:05.410Z"
   },
   {
    "duration": 48,
    "start_time": "2022-09-07T15:34:05.808Z"
   },
   {
    "duration": 3,
    "start_time": "2022-09-07T15:34:07.197Z"
   },
   {
    "duration": 5,
    "start_time": "2022-09-07T15:34:09.144Z"
   },
   {
    "duration": 10,
    "start_time": "2022-09-07T15:34:10.437Z"
   },
   {
    "duration": 3,
    "start_time": "2022-09-07T15:34:11.159Z"
   },
   {
    "duration": 16,
    "start_time": "2022-09-07T15:34:15.461Z"
   },
   {
    "duration": 108,
    "start_time": "2022-09-07T15:35:25.191Z"
   },
   {
    "duration": 9,
    "start_time": "2022-09-07T15:35:40.952Z"
   },
   {
    "duration": 12,
    "start_time": "2022-09-07T15:38:10.327Z"
   },
   {
    "duration": 4,
    "start_time": "2022-09-07T15:38:11.321Z"
   },
   {
    "duration": 17,
    "start_time": "2022-09-07T15:40:38.701Z"
   },
   {
    "duration": 3,
    "start_time": "2022-09-07T15:40:39.183Z"
   },
   {
    "duration": 3,
    "start_time": "2022-09-07T15:41:27.925Z"
   },
   {
    "duration": 10,
    "start_time": "2022-09-07T15:41:32.093Z"
   },
   {
    "duration": 3,
    "start_time": "2022-09-07T15:41:33.010Z"
   },
   {
    "duration": 3,
    "start_time": "2022-09-07T15:42:03.497Z"
   },
   {
    "duration": 3,
    "start_time": "2022-09-07T15:42:08.113Z"
   },
   {
    "duration": 3,
    "start_time": "2022-09-07T15:46:27.996Z"
   },
   {
    "duration": 4,
    "start_time": "2022-09-07T15:46:32.908Z"
   },
   {
    "duration": 4,
    "start_time": "2022-09-07T15:51:05.682Z"
   },
   {
    "duration": 9,
    "start_time": "2022-09-07T15:51:06.264Z"
   },
   {
    "duration": 4,
    "start_time": "2022-09-07T15:51:06.925Z"
   },
   {
    "duration": 16,
    "start_time": "2022-09-07T15:51:10.590Z"
   },
   {
    "duration": 16,
    "start_time": "2022-09-07T15:51:21.859Z"
   },
   {
    "duration": 16,
    "start_time": "2022-09-07T15:51:22.714Z"
   },
   {
    "duration": 4,
    "start_time": "2022-09-07T15:51:23.207Z"
   },
   {
    "duration": 4,
    "start_time": "2022-09-07T15:51:35.201Z"
   },
   {
    "duration": 8,
    "start_time": "2022-09-07T15:51:35.726Z"
   },
   {
    "duration": 3,
    "start_time": "2022-09-07T15:51:36.418Z"
   },
   {
    "duration": 15,
    "start_time": "2022-09-07T15:51:37.824Z"
   },
   {
    "duration": 8,
    "start_time": "2022-09-07T15:51:49.530Z"
   },
   {
    "duration": 19,
    "start_time": "2022-09-07T15:51:51.505Z"
   },
   {
    "duration": 17,
    "start_time": "2022-09-07T15:51:52.341Z"
   },
   {
    "duration": 3,
    "start_time": "2022-09-07T15:51:52.898Z"
   },
   {
    "duration": 3,
    "start_time": "2022-09-07T16:07:06.251Z"
   },
   {
    "duration": 3,
    "start_time": "2022-09-07T16:08:39.408Z"
   },
   {
    "duration": 4,
    "start_time": "2022-09-07T16:09:03.872Z"
   },
   {
    "duration": 4,
    "start_time": "2022-09-07T16:09:22.174Z"
   },
   {
    "duration": 171,
    "start_time": "2022-09-07T16:09:29.833Z"
   },
   {
    "duration": 10,
    "start_time": "2022-09-07T16:09:36.466Z"
   },
   {
    "duration": 4,
    "start_time": "2022-09-07T16:09:42.062Z"
   },
   {
    "duration": 4,
    "start_time": "2022-09-07T16:11:36.195Z"
   },
   {
    "duration": 4,
    "start_time": "2022-09-07T16:11:57.465Z"
   },
   {
    "duration": 8,
    "start_time": "2022-09-07T16:25:29.041Z"
   },
   {
    "duration": 3,
    "start_time": "2022-09-07T16:25:31.220Z"
   },
   {
    "duration": 3,
    "start_time": "2022-09-07T16:25:32.064Z"
   },
   {
    "duration": 8,
    "start_time": "2022-09-07T16:28:38.838Z"
   },
   {
    "duration": 3,
    "start_time": "2022-09-07T16:28:42.012Z"
   },
   {
    "duration": 3,
    "start_time": "2022-09-07T16:28:42.471Z"
   },
   {
    "duration": 3,
    "start_time": "2022-09-07T16:30:55.519Z"
   },
   {
    "duration": 2,
    "start_time": "2022-09-07T16:49:32.872Z"
   },
   {
    "duration": 3,
    "start_time": "2022-09-07T16:49:34.336Z"
   },
   {
    "duration": 2,
    "start_time": "2022-09-07T16:49:41.411Z"
   },
   {
    "duration": 5,
    "start_time": "2022-09-07T16:49:44.914Z"
   },
   {
    "duration": 3,
    "start_time": "2022-09-07T16:57:14.030Z"
   },
   {
    "duration": 3,
    "start_time": "2022-09-07T16:57:15.150Z"
   },
   {
    "duration": 3,
    "start_time": "2022-09-07T16:57:28.179Z"
   },
   {
    "duration": 2,
    "start_time": "2022-09-07T16:57:30.283Z"
   },
   {
    "duration": 3,
    "start_time": "2022-09-07T16:57:30.702Z"
   },
   {
    "duration": 9,
    "start_time": "2022-09-07T17:38:45.764Z"
   },
   {
    "duration": 3,
    "start_time": "2022-09-07T17:39:03.618Z"
   },
   {
    "duration": 135,
    "start_time": "2022-09-07T17:39:04.772Z"
   },
   {
    "duration": 46,
    "start_time": "2022-09-07T17:39:05.075Z"
   },
   {
    "duration": 18,
    "start_time": "2022-09-07T17:39:05.270Z"
   },
   {
    "duration": 56,
    "start_time": "2022-09-07T17:39:05.472Z"
   },
   {
    "duration": 59,
    "start_time": "2022-09-07T17:39:05.851Z"
   },
   {
    "duration": 130,
    "start_time": "2022-09-07T17:39:06.785Z"
   },
   {
    "duration": 33,
    "start_time": "2022-09-07T17:39:06.987Z"
   },
   {
    "duration": 19,
    "start_time": "2022-09-07T17:39:07.187Z"
   },
   {
    "duration": 37,
    "start_time": "2022-09-07T17:39:07.365Z"
   },
   {
    "duration": 47,
    "start_time": "2022-09-07T17:39:07.582Z"
   },
   {
    "duration": 125,
    "start_time": "2022-09-07T17:39:08.389Z"
   },
   {
    "duration": 33,
    "start_time": "2022-09-07T17:39:08.555Z"
   },
   {
    "duration": 12,
    "start_time": "2022-09-07T17:39:08.732Z"
   },
   {
    "duration": 43,
    "start_time": "2022-09-07T17:39:08.954Z"
   },
   {
    "duration": 51,
    "start_time": "2022-09-07T17:39:09.126Z"
   },
   {
    "duration": 2,
    "start_time": "2022-09-07T17:39:10.191Z"
   },
   {
    "duration": 4,
    "start_time": "2022-09-07T17:39:10.998Z"
   },
   {
    "duration": 9,
    "start_time": "2022-09-07T17:39:11.213Z"
   },
   {
    "duration": 3,
    "start_time": "2022-09-07T17:39:11.384Z"
   },
   {
    "duration": 15,
    "start_time": "2022-09-07T17:39:11.832Z"
   },
   {
    "duration": 14,
    "start_time": "2022-09-07T17:39:12.343Z"
   },
   {
    "duration": 3,
    "start_time": "2022-09-07T17:39:12.555Z"
   },
   {
    "duration": 4,
    "start_time": "2022-09-07T17:39:13.735Z"
   },
   {
    "duration": 9,
    "start_time": "2022-09-07T17:39:13.939Z"
   },
   {
    "duration": 3,
    "start_time": "2022-09-07T17:39:14.132Z"
   },
   {
    "duration": 18,
    "start_time": "2022-09-07T17:39:14.585Z"
   },
   {
    "duration": 11,
    "start_time": "2022-09-07T17:39:15.006Z"
   },
   {
    "duration": 4,
    "start_time": "2022-09-07T17:39:15.209Z"
   },
   {
    "duration": 5,
    "start_time": "2022-09-07T17:39:16.065Z"
   },
   {
    "duration": 9,
    "start_time": "2022-09-07T17:39:16.268Z"
   },
   {
    "duration": 3,
    "start_time": "2022-09-07T17:39:16.484Z"
   },
   {
    "duration": 14,
    "start_time": "2022-09-07T17:39:16.934Z"
   },
   {
    "duration": 10,
    "start_time": "2022-09-07T17:39:17.350Z"
   },
   {
    "duration": 4,
    "start_time": "2022-09-07T17:39:17.547Z"
   },
   {
    "duration": 4,
    "start_time": "2022-09-07T17:39:17.974Z"
   },
   {
    "duration": 3,
    "start_time": "2022-09-07T17:39:18.628Z"
   },
   {
    "duration": 3,
    "start_time": "2022-09-07T17:39:18.809Z"
   },
   {
    "duration": 8,
    "start_time": "2022-09-07T17:39:19.071Z"
   },
   {
    "duration": 4,
    "start_time": "2022-09-07T17:39:27.225Z"
   },
   {
    "duration": 3,
    "start_time": "2022-09-07T17:43:57.135Z"
   },
   {
    "duration": 4,
    "start_time": "2022-09-07T17:44:54.152Z"
   },
   {
    "duration": 6,
    "start_time": "2022-09-07T17:45:00.775Z"
   },
   {
    "duration": 8,
    "start_time": "2022-09-07T17:45:07.062Z"
   },
   {
    "duration": 4,
    "start_time": "2022-09-07T17:45:41.629Z"
   },
   {
    "duration": 2,
    "start_time": "2022-09-07T17:58:56.028Z"
   },
   {
    "duration": 4,
    "start_time": "2022-09-07T18:06:18.414Z"
   },
   {
    "duration": 9,
    "start_time": "2022-09-07T18:06:19.270Z"
   },
   {
    "duration": 3,
    "start_time": "2022-09-07T18:06:22.382Z"
   },
   {
    "duration": 19,
    "start_time": "2022-09-07T18:06:24.562Z"
   },
   {
    "duration": 16,
    "start_time": "2022-09-07T18:06:26.168Z"
   },
   {
    "duration": 4,
    "start_time": "2022-09-07T18:06:29.538Z"
   },
   {
    "duration": 5,
    "start_time": "2022-09-07T18:06:42.451Z"
   },
   {
    "duration": 21,
    "start_time": "2022-09-07T18:06:42.988Z"
   },
   {
    "duration": 3,
    "start_time": "2022-09-07T18:06:43.459Z"
   },
   {
    "duration": 19,
    "start_time": "2022-09-07T18:06:44.561Z"
   },
   {
    "duration": 14,
    "start_time": "2022-09-07T18:06:45.052Z"
   },
   {
    "duration": 4,
    "start_time": "2022-09-07T18:06:45.471Z"
   },
   {
    "duration": 5,
    "start_time": "2022-09-07T18:06:58.333Z"
   },
   {
    "duration": 9,
    "start_time": "2022-09-07T18:06:58.629Z"
   },
   {
    "duration": 3,
    "start_time": "2022-09-07T18:06:58.868Z"
   },
   {
    "duration": 16,
    "start_time": "2022-09-07T18:06:59.858Z"
   },
   {
    "duration": 12,
    "start_time": "2022-09-07T18:07:00.338Z"
   },
   {
    "duration": 4,
    "start_time": "2022-09-07T18:07:00.527Z"
   },
   {
    "duration": 3,
    "start_time": "2022-09-07T18:07:01.081Z"
   },
   {
    "duration": 2,
    "start_time": "2022-09-07T18:07:03.562Z"
   },
   {
    "duration": 58,
    "start_time": "2022-09-07T18:07:13.753Z"
   },
   {
    "duration": 22,
    "start_time": "2022-09-07T18:07:34.391Z"
   },
   {
    "duration": 28,
    "start_time": "2022-09-07T18:09:41.581Z"
   },
   {
    "duration": 17,
    "start_time": "2022-09-07T18:12:13.249Z"
   },
   {
    "duration": 17,
    "start_time": "2022-09-07T18:12:33.745Z"
   },
   {
    "duration": 15,
    "start_time": "2022-09-07T18:12:49.762Z"
   },
   {
    "duration": 16,
    "start_time": "2022-09-07T18:14:48.694Z"
   },
   {
    "duration": 8,
    "start_time": "2022-09-07T18:17:47.606Z"
   },
   {
    "duration": 12,
    "start_time": "2022-09-07T18:17:59.904Z"
   },
   {
    "duration": 8,
    "start_time": "2022-09-07T18:18:32.671Z"
   },
   {
    "duration": 8,
    "start_time": "2022-09-07T18:19:08.765Z"
   },
   {
    "duration": 1025,
    "start_time": "2022-09-07T19:44:51.931Z"
   },
   {
    "duration": 521,
    "start_time": "2022-09-07T19:44:52.958Z"
   },
   {
    "duration": 37,
    "start_time": "2022-09-07T19:44:53.480Z"
   },
   {
    "duration": 18,
    "start_time": "2022-09-07T19:44:53.519Z"
   },
   {
    "duration": 43,
    "start_time": "2022-09-07T19:44:53.842Z"
   },
   {
    "duration": 61,
    "start_time": "2022-09-07T19:44:54.346Z"
   },
   {
    "duration": 240,
    "start_time": "2022-09-07T19:44:55.404Z"
   },
   {
    "duration": 37,
    "start_time": "2022-09-07T19:44:55.646Z"
   },
   {
    "duration": 13,
    "start_time": "2022-09-07T19:44:55.759Z"
   },
   {
    "duration": 48,
    "start_time": "2022-09-07T19:44:55.978Z"
   },
   {
    "duration": 83,
    "start_time": "2022-09-07T19:44:56.166Z"
   },
   {
    "duration": 220,
    "start_time": "2022-09-07T19:44:56.953Z"
   },
   {
    "duration": 37,
    "start_time": "2022-09-07T19:44:57.174Z"
   },
   {
    "duration": 15,
    "start_time": "2022-09-07T19:44:57.368Z"
   },
   {
    "duration": 52,
    "start_time": "2022-09-07T19:44:57.540Z"
   },
   {
    "duration": 58,
    "start_time": "2022-09-07T19:44:57.761Z"
   },
   {
    "duration": 2,
    "start_time": "2022-09-07T19:44:58.747Z"
   },
   {
    "duration": 5,
    "start_time": "2022-09-07T19:44:59.359Z"
   },
   {
    "duration": 13,
    "start_time": "2022-09-07T19:44:59.563Z"
   },
   {
    "duration": 3,
    "start_time": "2022-09-07T19:44:59.770Z"
   },
   {
    "duration": 22,
    "start_time": "2022-09-07T19:45:00.200Z"
   },
   {
    "duration": 17,
    "start_time": "2022-09-07T19:45:00.646Z"
   },
   {
    "duration": 4,
    "start_time": "2022-09-07T19:45:00.901Z"
   },
   {
    "duration": 6,
    "start_time": "2022-09-07T19:45:01.562Z"
   },
   {
    "duration": 15,
    "start_time": "2022-09-07T19:45:01.850Z"
   },
   {
    "duration": 4,
    "start_time": "2022-09-07T19:45:02.140Z"
   },
   {
    "duration": 17,
    "start_time": "2022-09-07T19:45:02.718Z"
   },
   {
    "duration": 20,
    "start_time": "2022-09-07T19:45:03.184Z"
   },
   {
    "duration": 3,
    "start_time": "2022-09-07T19:45:03.393Z"
   },
   {
    "duration": 6,
    "start_time": "2022-09-07T19:45:04.079Z"
   },
   {
    "duration": 12,
    "start_time": "2022-09-07T19:45:04.329Z"
   },
   {
    "duration": 4,
    "start_time": "2022-09-07T19:45:04.533Z"
   },
   {
    "duration": 19,
    "start_time": "2022-09-07T19:45:05.477Z"
   },
   {
    "duration": 24,
    "start_time": "2022-09-07T19:45:06.647Z"
   },
   {
    "duration": 3,
    "start_time": "2022-09-07T19:45:06.957Z"
   },
   {
    "duration": 5,
    "start_time": "2022-09-07T19:45:07.762Z"
   },
   {
    "duration": 3,
    "start_time": "2022-09-07T19:45:08.761Z"
   },
   {
    "duration": 3,
    "start_time": "2022-09-07T19:45:09.287Z"
   },
   {
    "duration": 9,
    "start_time": "2022-09-07T19:45:09.825Z"
   },
   {
    "duration": 9,
    "start_time": "2022-09-07T19:45:26.828Z"
   },
   {
    "duration": 5,
    "start_time": "2022-09-07T19:45:36.280Z"
   },
   {
    "duration": 3,
    "start_time": "2022-09-07T19:45:39.677Z"
   },
   {
    "duration": 4,
    "start_time": "2022-09-07T19:47:49.153Z"
   },
   {
    "duration": 94,
    "start_time": "2022-09-07T19:47:54.885Z"
   },
   {
    "duration": 3,
    "start_time": "2022-09-07T19:48:03.266Z"
   },
   {
    "duration": 5,
    "start_time": "2022-09-07T19:53:56.569Z"
   },
   {
    "duration": 3,
    "start_time": "2022-09-07T19:54:38.827Z"
   },
   {
    "duration": 4,
    "start_time": "2022-09-07T19:54:39.493Z"
   },
   {
    "duration": 9,
    "start_time": "2022-09-07T19:54:39.899Z"
   },
   {
    "duration": 11,
    "start_time": "2022-09-07T19:54:56.520Z"
   },
   {
    "duration": 8,
    "start_time": "2022-09-07T19:55:43.825Z"
   },
   {
    "duration": 3,
    "start_time": "2022-09-07T19:55:50.056Z"
   },
   {
    "duration": 4,
    "start_time": "2022-09-07T19:55:50.506Z"
   },
   {
    "duration": 9,
    "start_time": "2022-09-07T19:55:50.799Z"
   },
   {
    "duration": 8,
    "start_time": "2022-09-07T19:57:10.669Z"
   },
   {
    "duration": 10,
    "start_time": "2022-09-07T19:57:15.020Z"
   },
   {
    "duration": 14,
    "start_time": "2022-09-07T19:57:49.115Z"
   },
   {
    "duration": 3,
    "start_time": "2022-09-07T19:59:15.567Z"
   },
   {
    "duration": 4,
    "start_time": "2022-09-07T19:59:16.194Z"
   },
   {
    "duration": 15,
    "start_time": "2022-09-07T19:59:16.840Z"
   },
   {
    "duration": 3,
    "start_time": "2022-09-07T20:00:06.675Z"
   },
   {
    "duration": 4,
    "start_time": "2022-09-07T20:00:07.090Z"
   },
   {
    "duration": 16,
    "start_time": "2022-09-07T20:00:08.201Z"
   },
   {
    "duration": 2,
    "start_time": "2022-09-07T20:05:49.397Z"
   },
   {
    "duration": 143,
    "start_time": "2022-09-07T20:05:50.863Z"
   },
   {
    "duration": 38,
    "start_time": "2022-09-07T20:05:51.329Z"
   },
   {
    "duration": 13,
    "start_time": "2022-09-07T20:05:51.674Z"
   },
   {
    "duration": 44,
    "start_time": "2022-09-07T20:05:51.897Z"
   },
   {
    "duration": 58,
    "start_time": "2022-09-07T20:05:52.086Z"
   },
   {
    "duration": 137,
    "start_time": "2022-09-07T20:05:53.226Z"
   },
   {
    "duration": 38,
    "start_time": "2022-09-07T20:05:53.430Z"
   },
   {
    "duration": 14,
    "start_time": "2022-09-07T20:05:53.589Z"
   },
   {
    "duration": 41,
    "start_time": "2022-09-07T20:05:53.774Z"
   },
   {
    "duration": 70,
    "start_time": "2022-09-07T20:05:53.980Z"
   },
   {
    "duration": 145,
    "start_time": "2022-09-07T20:05:55.030Z"
   },
   {
    "duration": 36,
    "start_time": "2022-09-07T20:05:55.230Z"
   },
   {
    "duration": 12,
    "start_time": "2022-09-07T20:05:55.446Z"
   },
   {
    "duration": 44,
    "start_time": "2022-09-07T20:05:55.634Z"
   },
   {
    "duration": 91,
    "start_time": "2022-09-07T20:05:55.831Z"
   },
   {
    "duration": 3,
    "start_time": "2022-09-07T20:05:56.931Z"
   },
   {
    "duration": 6,
    "start_time": "2022-09-07T20:05:57.525Z"
   },
   {
    "duration": 12,
    "start_time": "2022-09-07T20:05:57.728Z"
   },
   {
    "duration": 3,
    "start_time": "2022-09-07T20:05:57.929Z"
   },
   {
    "duration": 19,
    "start_time": "2022-09-07T20:05:58.383Z"
   },
   {
    "duration": 19,
    "start_time": "2022-09-07T20:05:59.067Z"
   },
   {
    "duration": 3,
    "start_time": "2022-09-07T20:05:59.330Z"
   },
   {
    "duration": 4,
    "start_time": "2022-09-07T20:05:59.998Z"
   },
   {
    "duration": 14,
    "start_time": "2022-09-07T20:06:00.235Z"
   },
   {
    "duration": 4,
    "start_time": "2022-09-07T20:06:00.457Z"
   },
   {
    "duration": 26,
    "start_time": "2022-09-07T20:06:00.994Z"
   },
   {
    "duration": 13,
    "start_time": "2022-09-07T20:06:01.445Z"
   },
   {
    "duration": 4,
    "start_time": "2022-09-07T20:06:01.643Z"
   },
   {
    "duration": 5,
    "start_time": "2022-09-07T20:06:02.323Z"
   },
   {
    "duration": 11,
    "start_time": "2022-09-07T20:06:02.527Z"
   },
   {
    "duration": 3,
    "start_time": "2022-09-07T20:06:02.728Z"
   },
   {
    "duration": 18,
    "start_time": "2022-09-07T20:06:03.140Z"
   },
   {
    "duration": 18,
    "start_time": "2022-09-07T20:06:03.729Z"
   },
   {
    "duration": 4,
    "start_time": "2022-09-07T20:06:03.929Z"
   },
   {
    "duration": 5,
    "start_time": "2022-09-07T20:06:04.669Z"
   },
   {
    "duration": 3,
    "start_time": "2022-09-07T20:06:05.646Z"
   },
   {
    "duration": 4,
    "start_time": "2022-09-07T20:06:06.228Z"
   },
   {
    "duration": 14,
    "start_time": "2022-09-07T20:06:08.049Z"
   },
   {
    "duration": 3,
    "start_time": "2022-09-07T20:08:23.642Z"
   },
   {
    "duration": 29,
    "start_time": "2022-09-07T20:16:01.619Z"
   },
   {
    "duration": 21160,
    "start_time": "2022-09-07T20:19:53.823Z"
   },
   {
    "duration": 3,
    "start_time": "2022-09-07T20:25:16.837Z"
   },
   {
    "duration": 19562,
    "start_time": "2022-09-07T20:25:52.692Z"
   },
   {
    "duration": 3,
    "start_time": "2022-09-07T20:26:36.514Z"
   },
   {
    "duration": 22,
    "start_time": "2022-09-07T20:30:41.170Z"
   },
   {
    "duration": 13,
    "start_time": "2022-09-07T20:32:52.843Z"
   },
   {
    "duration": 13,
    "start_time": "2022-09-07T20:33:56.317Z"
   },
   {
    "duration": 13,
    "start_time": "2022-09-07T20:34:14.218Z"
   },
   {
    "duration": 13,
    "start_time": "2022-09-07T20:35:02.800Z"
   },
   {
    "duration": 10,
    "start_time": "2022-09-07T20:35:19.740Z"
   },
   {
    "duration": 12,
    "start_time": "2022-09-07T20:37:11.089Z"
   },
   {
    "duration": 16,
    "start_time": "2022-09-07T20:38:38.420Z"
   },
   {
    "duration": 7,
    "start_time": "2022-09-07T20:41:38.396Z"
   },
   {
    "duration": 17,
    "start_time": "2022-09-07T20:43:03.884Z"
   },
   {
    "duration": 4,
    "start_time": "2022-09-07T20:43:37.085Z"
   },
   {
    "duration": 24,
    "start_time": "2022-09-07T20:43:38.754Z"
   },
   {
    "duration": 16,
    "start_time": "2022-09-07T20:46:28.249Z"
   },
   {
    "duration": 29,
    "start_time": "2022-09-07T20:46:38.013Z"
   },
   {
    "duration": 18,
    "start_time": "2022-09-07T20:46:53.131Z"
   },
   {
    "duration": 21,
    "start_time": "2022-09-07T20:47:08.684Z"
   },
   {
    "duration": 17,
    "start_time": "2022-09-07T20:47:29.053Z"
   },
   {
    "duration": 13,
    "start_time": "2022-09-07T20:47:55.348Z"
   },
   {
    "duration": 3,
    "start_time": "2022-09-07T20:48:43.259Z"
   },
   {
    "duration": 15,
    "start_time": "2022-09-07T20:48:44.990Z"
   },
   {
    "duration": 16,
    "start_time": "2022-09-07T20:50:43.431Z"
   },
   {
    "duration": 16,
    "start_time": "2022-09-07T20:50:49.277Z"
   },
   {
    "duration": 1187,
    "start_time": "2022-09-07T20:51:10.390Z"
   },
   {
    "duration": 163,
    "start_time": "2022-09-07T20:51:11.579Z"
   },
   {
    "duration": 43,
    "start_time": "2022-09-07T20:51:11.744Z"
   },
   {
    "duration": 15,
    "start_time": "2022-09-07T20:51:11.919Z"
   },
   {
    "duration": 48,
    "start_time": "2022-09-07T20:51:12.267Z"
   },
   {
    "duration": 72,
    "start_time": "2022-09-07T20:51:12.482Z"
   },
   {
    "duration": 144,
    "start_time": "2022-09-07T20:51:13.456Z"
   },
   {
    "duration": 41,
    "start_time": "2022-09-07T20:51:13.647Z"
   },
   {
    "duration": 16,
    "start_time": "2022-09-07T20:51:13.845Z"
   },
   {
    "duration": 49,
    "start_time": "2022-09-07T20:51:14.015Z"
   },
   {
    "duration": 87,
    "start_time": "2022-09-07T20:51:14.220Z"
   },
   {
    "duration": 153,
    "start_time": "2022-09-07T20:51:14.995Z"
   },
   {
    "duration": 40,
    "start_time": "2022-09-07T20:51:15.402Z"
   },
   {
    "duration": 15,
    "start_time": "2022-09-07T20:51:15.587Z"
   },
   {
    "duration": 68,
    "start_time": "2022-09-07T20:51:15.814Z"
   },
   {
    "duration": 123,
    "start_time": "2022-09-07T20:51:16.032Z"
   },
   {
    "duration": 3,
    "start_time": "2022-09-07T20:51:17.017Z"
   },
   {
    "duration": 6,
    "start_time": "2022-09-07T20:51:17.634Z"
   },
   {
    "duration": 17,
    "start_time": "2022-09-07T20:51:17.818Z"
   },
   {
    "duration": 5,
    "start_time": "2022-09-07T20:51:18.037Z"
   },
   {
    "duration": 26,
    "start_time": "2022-09-07T20:51:18.461Z"
   },
   {
    "duration": 17,
    "start_time": "2022-09-07T20:51:19.060Z"
   },
   {
    "duration": 6,
    "start_time": "2022-09-07T20:51:19.097Z"
   },
   {
    "duration": 7,
    "start_time": "2022-09-07T20:51:19.911Z"
   },
   {
    "duration": 22,
    "start_time": "2022-09-07T20:51:20.108Z"
   },
   {
    "duration": 4,
    "start_time": "2022-09-07T20:51:20.313Z"
   },
   {
    "duration": 18,
    "start_time": "2022-09-07T20:51:20.745Z"
   },
   {
    "duration": 18,
    "start_time": "2022-09-07T20:51:21.213Z"
   },
   {
    "duration": 4,
    "start_time": "2022-09-07T20:51:21.389Z"
   },
   {
    "duration": 4,
    "start_time": "2022-09-07T20:51:22.050Z"
   },
   {
    "duration": 13,
    "start_time": "2022-09-07T20:51:22.242Z"
   },
   {
    "duration": 4,
    "start_time": "2022-09-07T20:51:22.470Z"
   },
   {
    "duration": 22,
    "start_time": "2022-09-07T20:51:22.882Z"
   },
   {
    "duration": 21,
    "start_time": "2022-09-07T20:51:23.301Z"
   },
   {
    "duration": 4,
    "start_time": "2022-09-07T20:51:23.518Z"
   },
   {
    "duration": 5,
    "start_time": "2022-09-07T20:51:23.950Z"
   },
   {
    "duration": 2,
    "start_time": "2022-09-07T20:51:24.583Z"
   },
   {
    "duration": 4,
    "start_time": "2022-09-07T20:51:24.845Z"
   },
   {
    "duration": 4,
    "start_time": "2022-09-07T20:51:25.236Z"
   },
   {
    "duration": 107,
    "start_time": "2022-09-07T20:51:25.843Z"
   },
   {
    "duration": 13,
    "start_time": "2022-09-07T20:51:43.778Z"
   },
   {
    "duration": 22,
    "start_time": "2022-09-07T20:51:56.028Z"
   },
   {
    "duration": 16,
    "start_time": "2022-09-07T20:52:06.932Z"
   },
   {
    "duration": 3,
    "start_time": "2022-09-07T20:52:52.427Z"
   },
   {
    "duration": 22,
    "start_time": "2022-09-07T20:52:59.419Z"
   },
   {
    "duration": 15,
    "start_time": "2022-09-07T20:54:50.768Z"
   },
   {
    "duration": 5,
    "start_time": "2022-09-07T20:55:46.529Z"
   },
   {
    "duration": 14,
    "start_time": "2022-09-07T20:56:40.358Z"
   },
   {
    "duration": 22,
    "start_time": "2022-09-07T20:58:36.352Z"
   },
   {
    "duration": 23,
    "start_time": "2022-09-07T20:59:55.020Z"
   },
   {
    "duration": 22,
    "start_time": "2022-09-07T21:01:05.675Z"
   },
   {
    "duration": 19,
    "start_time": "2022-09-07T21:04:07.760Z"
   },
   {
    "duration": 19,
    "start_time": "2022-09-07T21:04:21.324Z"
   },
   {
    "duration": 24,
    "start_time": "2022-09-07T21:04:59.557Z"
   },
   {
    "duration": 4,
    "start_time": "2022-09-07T21:05:02.022Z"
   },
   {
    "duration": 15,
    "start_time": "2022-09-07T21:05:03.253Z"
   },
   {
    "duration": 18,
    "start_time": "2022-09-07T21:05:14.234Z"
   },
   {
    "duration": 2586,
    "start_time": "2022-09-07T21:38:24.894Z"
   },
   {
    "duration": 510,
    "start_time": "2022-09-07T21:38:27.482Z"
   },
   {
    "duration": 37,
    "start_time": "2022-09-07T21:38:27.994Z"
   },
   {
    "duration": 19,
    "start_time": "2022-09-07T21:38:28.033Z"
   },
   {
    "duration": 74,
    "start_time": "2022-09-07T21:38:28.054Z"
   },
   {
    "duration": 76,
    "start_time": "2022-09-07T21:38:28.130Z"
   },
   {
    "duration": 206,
    "start_time": "2022-09-07T21:38:28.208Z"
   },
   {
    "duration": 35,
    "start_time": "2022-09-07T21:38:28.415Z"
   },
   {
    "duration": 13,
    "start_time": "2022-09-07T21:38:28.452Z"
   },
   {
    "duration": 46,
    "start_time": "2022-09-07T21:38:28.466Z"
   },
   {
    "duration": 76,
    "start_time": "2022-09-07T21:38:28.514Z"
   },
   {
    "duration": 230,
    "start_time": "2022-09-07T21:38:28.592Z"
   },
   {
    "duration": 38,
    "start_time": "2022-09-07T21:38:28.823Z"
   },
   {
    "duration": 13,
    "start_time": "2022-09-07T21:38:28.864Z"
   },
   {
    "duration": 45,
    "start_time": "2022-09-07T21:38:28.886Z"
   },
   {
    "duration": 79,
    "start_time": "2022-09-07T21:38:28.933Z"
   },
   {
    "duration": 3,
    "start_time": "2022-09-07T21:38:29.014Z"
   },
   {
    "duration": 10,
    "start_time": "2022-09-07T21:38:29.019Z"
   },
   {
    "duration": 15,
    "start_time": "2022-09-07T21:38:29.031Z"
   },
   {
    "duration": 8,
    "start_time": "2022-09-07T21:38:29.048Z"
   },
   {
    "duration": 48,
    "start_time": "2022-09-07T21:38:29.057Z"
   },
   {
    "duration": 82,
    "start_time": "2022-09-07T21:38:29.106Z"
   },
   {
    "duration": 87,
    "start_time": "2022-09-07T21:38:29.201Z"
   },
   {
    "duration": 16,
    "start_time": "2022-09-07T21:38:29.290Z"
   },
   {
    "duration": 18,
    "start_time": "2022-09-07T21:38:29.308Z"
   },
   {
    "duration": 26,
    "start_time": "2022-09-07T21:38:29.327Z"
   },
   {
    "duration": 24,
    "start_time": "2022-09-07T21:38:29.354Z"
   },
   {
    "duration": 14,
    "start_time": "2022-09-07T21:38:29.379Z"
   },
   {
    "duration": 101,
    "start_time": "2022-09-07T21:38:29.395Z"
   },
   {
    "duration": 91,
    "start_time": "2022-09-07T21:38:29.499Z"
   },
   {
    "duration": 14,
    "start_time": "2022-09-07T21:38:29.592Z"
   },
   {
    "duration": 6,
    "start_time": "2022-09-07T21:38:29.608Z"
   },
   {
    "duration": 18,
    "start_time": "2022-09-07T21:38:29.616Z"
   },
   {
    "duration": 51,
    "start_time": "2022-09-07T21:38:29.636Z"
   },
   {
    "duration": 4,
    "start_time": "2022-09-07T21:38:29.690Z"
   },
   {
    "duration": 93,
    "start_time": "2022-09-07T21:38:29.695Z"
   },
   {
    "duration": 12,
    "start_time": "2022-09-07T21:38:29.790Z"
   },
   {
    "duration": 17,
    "start_time": "2022-09-07T21:38:29.804Z"
   },
   {
    "duration": 7,
    "start_time": "2022-09-07T21:38:29.823Z"
   },
   {
    "duration": 101,
    "start_time": "2022-09-07T21:38:29.832Z"
   },
   {
    "duration": 6,
    "start_time": "2022-09-07T21:39:18.338Z"
   },
   {
    "duration": 4,
    "start_time": "2022-09-07T21:39:22.485Z"
   },
   {
    "duration": 1030,
    "start_time": "2022-09-08T08:39:38.351Z"
   },
   {
    "duration": 505,
    "start_time": "2022-09-08T08:39:40.577Z"
   },
   {
    "duration": 32,
    "start_time": "2022-09-08T08:39:41.149Z"
   },
   {
    "duration": 12,
    "start_time": "2022-09-08T08:39:42.171Z"
   },
   {
    "duration": 40,
    "start_time": "2022-09-08T08:39:42.734Z"
   },
   {
    "duration": 47,
    "start_time": "2022-09-08T08:39:43.376Z"
   },
   {
    "duration": 194,
    "start_time": "2022-09-08T08:40:28.584Z"
   },
   {
    "duration": 34,
    "start_time": "2022-09-08T08:40:29.195Z"
   },
   {
    "duration": 13,
    "start_time": "2022-09-08T08:40:30.022Z"
   },
   {
    "duration": 40,
    "start_time": "2022-09-08T08:40:32.026Z"
   },
   {
    "duration": 49,
    "start_time": "2022-09-08T08:40:34.145Z"
   },
   {
    "duration": 192,
    "start_time": "2022-09-08T08:40:36.446Z"
   },
   {
    "duration": 32,
    "start_time": "2022-09-08T08:40:36.994Z"
   },
   {
    "duration": 12,
    "start_time": "2022-09-08T08:40:37.461Z"
   },
   {
    "duration": 44,
    "start_time": "2022-09-08T08:40:37.949Z"
   },
   {
    "duration": 59,
    "start_time": "2022-09-08T08:40:38.429Z"
   },
   {
    "duration": 107,
    "start_time": "2022-09-08T08:43:44.714Z"
   },
   {
    "duration": 16,
    "start_time": "2022-09-08T08:43:55.398Z"
   },
   {
    "duration": 2,
    "start_time": "2022-09-08T08:44:12.043Z"
   },
   {
    "duration": 9,
    "start_time": "2022-09-08T08:45:20.189Z"
   },
   {
    "duration": 4,
    "start_time": "2022-09-08T08:45:25.223Z"
   },
   {
    "duration": 8,
    "start_time": "2022-09-08T08:48:05.267Z"
   },
   {
    "duration": 7,
    "start_time": "2022-09-08T08:48:14.085Z"
   },
   {
    "duration": 19,
    "start_time": "2022-09-08T08:59:03.591Z"
   },
   {
    "duration": 4,
    "start_time": "2022-09-08T08:59:09.990Z"
   },
   {
    "duration": 76,
    "start_time": "2022-09-08T08:59:32.619Z"
   },
   {
    "duration": 3,
    "start_time": "2022-09-08T09:01:01.617Z"
   },
   {
    "duration": 2,
    "start_time": "2022-09-08T09:04:23.718Z"
   },
   {
    "duration": 5,
    "start_time": "2022-09-08T09:04:25.450Z"
   },
   {
    "duration": 11,
    "start_time": "2022-09-08T09:04:51.354Z"
   },
   {
    "duration": 3,
    "start_time": "2022-09-08T09:04:57.630Z"
   },
   {
    "duration": 10,
    "start_time": "2022-09-08T09:05:11.612Z"
   },
   {
    "duration": 19,
    "start_time": "2022-09-08T09:05:17.834Z"
   },
   {
    "duration": 18,
    "start_time": "2022-09-08T09:05:37.392Z"
   },
   {
    "duration": 4,
    "start_time": "2022-09-08T09:05:40.301Z"
   },
   {
    "duration": 9,
    "start_time": "2022-09-08T09:06:10.241Z"
   },
   {
    "duration": 5,
    "start_time": "2022-09-08T09:06:18.697Z"
   },
   {
    "duration": 12,
    "start_time": "2022-09-08T09:06:19.273Z"
   },
   {
    "duration": 3,
    "start_time": "2022-09-08T09:06:25.661Z"
   },
   {
    "duration": 19,
    "start_time": "2022-09-08T09:06:41.625Z"
   },
   {
    "duration": 14,
    "start_time": "2022-09-08T09:07:07.600Z"
   },
   {
    "duration": 3,
    "start_time": "2022-09-08T09:07:08.226Z"
   },
   {
    "duration": 5,
    "start_time": "2022-09-08T09:07:17.172Z"
   },
   {
    "duration": 13,
    "start_time": "2022-09-08T09:08:08.210Z"
   },
   {
    "duration": 3,
    "start_time": "2022-09-08T09:08:08.738Z"
   },
   {
    "duration": 6,
    "start_time": "2022-09-08T09:08:15.848Z"
   },
   {
    "duration": 5,
    "start_time": "2022-09-08T09:08:52.152Z"
   },
   {
    "duration": 11,
    "start_time": "2022-09-08T09:08:52.450Z"
   },
   {
    "duration": 3,
    "start_time": "2022-09-08T09:08:52.880Z"
   },
   {
    "duration": 16,
    "start_time": "2022-09-08T09:09:13.881Z"
   },
   {
    "duration": 11,
    "start_time": "2022-09-08T09:09:33.199Z"
   },
   {
    "duration": 4,
    "start_time": "2022-09-08T09:09:33.710Z"
   },
   {
    "duration": 4,
    "start_time": "2022-09-08T09:09:53.681Z"
   },
   {
    "duration": 1038,
    "start_time": "2022-09-08T09:13:33.741Z"
   },
   {
    "duration": 132,
    "start_time": "2022-09-08T09:13:36.707Z"
   },
   {
    "duration": 36,
    "start_time": "2022-09-08T09:13:37.483Z"
   },
   {
    "duration": 14,
    "start_time": "2022-09-08T09:13:38.254Z"
   },
   {
    "duration": 40,
    "start_time": "2022-09-08T09:13:38.682Z"
   },
   {
    "duration": 49,
    "start_time": "2022-09-08T09:13:39.181Z"
   },
   {
    "duration": 127,
    "start_time": "2022-09-08T09:13:43.820Z"
   },
   {
    "duration": 33,
    "start_time": "2022-09-08T09:13:44.288Z"
   },
   {
    "duration": 12,
    "start_time": "2022-09-08T09:13:44.768Z"
   },
   {
    "duration": 43,
    "start_time": "2022-09-08T09:13:45.161Z"
   },
   {
    "duration": 49,
    "start_time": "2022-09-08T09:13:45.632Z"
   },
   {
    "duration": 124,
    "start_time": "2022-09-08T09:13:47.925Z"
   },
   {
    "duration": 32,
    "start_time": "2022-09-08T09:13:48.375Z"
   },
   {
    "duration": 12,
    "start_time": "2022-09-08T09:13:48.896Z"
   },
   {
    "duration": 41,
    "start_time": "2022-09-08T09:13:49.394Z"
   },
   {
    "duration": 47,
    "start_time": "2022-09-08T09:13:49.879Z"
   },
   {
    "duration": 2,
    "start_time": "2022-09-08T09:13:53.434Z"
   },
   {
    "duration": 7,
    "start_time": "2022-09-08T09:13:56.779Z"
   },
   {
    "duration": 11,
    "start_time": "2022-09-08T09:13:58.684Z"
   },
   {
    "duration": 3,
    "start_time": "2022-09-08T09:13:59.728Z"
   },
   {
    "duration": 19,
    "start_time": "2022-09-08T09:14:03.422Z"
   },
   {
    "duration": 13,
    "start_time": "2022-09-08T09:14:06.054Z"
   },
   {
    "duration": 3,
    "start_time": "2022-09-08T09:14:06.892Z"
   },
   {
    "duration": 5,
    "start_time": "2022-09-08T09:14:10.342Z"
   },
   {
    "duration": 12,
    "start_time": "2022-09-08T09:14:12.754Z"
   },
   {
    "duration": 3,
    "start_time": "2022-09-08T09:14:14.052Z"
   },
   {
    "duration": 23,
    "start_time": "2022-09-08T09:14:24.478Z"
   },
   {
    "duration": 14,
    "start_time": "2022-09-08T09:14:29.927Z"
   },
   {
    "duration": 3,
    "start_time": "2022-09-08T09:14:30.702Z"
   },
   {
    "duration": 5,
    "start_time": "2022-09-08T09:14:32.559Z"
   },
   {
    "duration": 11,
    "start_time": "2022-09-08T09:14:33.331Z"
   },
   {
    "duration": 4,
    "start_time": "2022-09-08T09:14:34.465Z"
   },
   {
    "duration": 18,
    "start_time": "2022-09-08T09:14:35.630Z"
   },
   {
    "duration": 12,
    "start_time": "2022-09-08T09:14:36.621Z"
   },
   {
    "duration": 3,
    "start_time": "2022-09-08T09:14:37.236Z"
   },
   {
    "duration": 4,
    "start_time": "2022-09-08T09:14:39.027Z"
   },
   {
    "duration": 2,
    "start_time": "2022-09-08T09:14:43.400Z"
   },
   {
    "duration": 2,
    "start_time": "2022-09-08T09:15:53.182Z"
   },
   {
    "duration": 3,
    "start_time": "2022-09-08T09:16:00.380Z"
   },
   {
    "duration": 3,
    "start_time": "2022-09-08T09:16:49.804Z"
   },
   {
    "duration": 3,
    "start_time": "2022-09-08T09:17:39.127Z"
   },
   {
    "duration": 99,
    "start_time": "2022-09-08T09:19:49.113Z"
   },
   {
    "duration": 9,
    "start_time": "2022-09-08T09:20:19.145Z"
   },
   {
    "duration": 4,
    "start_time": "2022-09-08T09:20:31.022Z"
   },
   {
    "duration": 4,
    "start_time": "2022-09-08T09:20:39.091Z"
   },
   {
    "duration": 10,
    "start_time": "2022-09-08T09:20:46.291Z"
   },
   {
    "duration": 9,
    "start_time": "2022-09-08T09:20:59.559Z"
   },
   {
    "duration": 10,
    "start_time": "2022-09-08T09:21:06.211Z"
   },
   {
    "duration": 10,
    "start_time": "2022-09-08T09:21:14.853Z"
   },
   {
    "duration": 9,
    "start_time": "2022-09-08T09:22:31.155Z"
   },
   {
    "duration": 10,
    "start_time": "2022-09-08T09:23:20.895Z"
   },
   {
    "duration": 13,
    "start_time": "2022-09-08T09:24:24.643Z"
   },
   {
    "duration": 61,
    "start_time": "2022-09-08T09:24:43.696Z"
   },
   {
    "duration": 22,
    "start_time": "2022-09-08T09:24:48.627Z"
   },
   {
    "duration": 24,
    "start_time": "2022-09-08T09:25:15.226Z"
   },
   {
    "duration": 22,
    "start_time": "2022-09-08T09:26:00.051Z"
   },
   {
    "duration": 52,
    "start_time": "2022-09-08T09:29:09.797Z"
   },
   {
    "duration": 9,
    "start_time": "2022-09-08T09:32:10.901Z"
   },
   {
    "duration": 10,
    "start_time": "2022-09-08T09:32:17.097Z"
   },
   {
    "duration": 23,
    "start_time": "2022-09-08T09:32:42.628Z"
   },
   {
    "duration": 10,
    "start_time": "2022-09-08T09:32:58.388Z"
   },
   {
    "duration": 12,
    "start_time": "2022-09-08T09:33:04.295Z"
   },
   {
    "duration": 10,
    "start_time": "2022-09-08T09:33:08.860Z"
   },
   {
    "duration": 9,
    "start_time": "2022-09-08T09:33:17.040Z"
   },
   {
    "duration": 23,
    "start_time": "2022-09-08T09:33:29.166Z"
   },
   {
    "duration": 23,
    "start_time": "2022-09-08T09:36:17.255Z"
   },
   {
    "duration": 9,
    "start_time": "2022-09-08T09:36:44.329Z"
   },
   {
    "duration": 27,
    "start_time": "2022-09-08T09:36:51.602Z"
   },
   {
    "duration": 21,
    "start_time": "2022-09-08T09:36:57.759Z"
   },
   {
    "duration": 8,
    "start_time": "2022-09-08T09:37:17.602Z"
   },
   {
    "duration": 30,
    "start_time": "2022-09-08T09:37:23.769Z"
   },
   {
    "duration": 10,
    "start_time": "2022-09-08T09:37:47.051Z"
   },
   {
    "duration": 22,
    "start_time": "2022-09-08T09:38:13.636Z"
   },
   {
    "duration": 24,
    "start_time": "2022-09-08T09:38:30.175Z"
   },
   {
    "duration": 21,
    "start_time": "2022-09-08T09:44:06.769Z"
   },
   {
    "duration": 1054,
    "start_time": "2022-09-08T11:11:54.282Z"
   },
   {
    "duration": 517,
    "start_time": "2022-09-08T11:11:56.261Z"
   },
   {
    "duration": 34,
    "start_time": "2022-09-08T11:11:56.780Z"
   },
   {
    "duration": 12,
    "start_time": "2022-09-08T11:11:56.815Z"
   },
   {
    "duration": 39,
    "start_time": "2022-09-08T11:11:56.890Z"
   },
   {
    "duration": 52,
    "start_time": "2022-09-08T11:11:57.053Z"
   },
   {
    "duration": 566,
    "start_time": "2022-09-08T11:11:58.555Z"
   },
   {
    "duration": 30,
    "start_time": "2022-09-08T11:11:59.123Z"
   },
   {
    "duration": 17,
    "start_time": "2022-09-08T11:11:59.155Z"
   },
   {
    "duration": 38,
    "start_time": "2022-09-08T11:11:59.173Z"
   },
   {
    "duration": 48,
    "start_time": "2022-09-08T11:11:59.342Z"
   },
   {
    "duration": 569,
    "start_time": "2022-09-08T11:12:00.420Z"
   },
   {
    "duration": 38,
    "start_time": "2022-09-08T11:12:00.991Z"
   },
   {
    "duration": 12,
    "start_time": "2022-09-08T11:12:01.030Z"
   },
   {
    "duration": 43,
    "start_time": "2022-09-08T11:12:01.052Z"
   },
   {
    "duration": 56,
    "start_time": "2022-09-08T11:12:01.216Z"
   },
   {
    "duration": 2,
    "start_time": "2022-09-08T11:12:02.451Z"
   },
   {
    "duration": 5,
    "start_time": "2022-09-08T11:12:03.099Z"
   },
   {
    "duration": 11,
    "start_time": "2022-09-08T11:12:03.294Z"
   },
   {
    "duration": 3,
    "start_time": "2022-09-08T11:12:03.499Z"
   },
   {
    "duration": 18,
    "start_time": "2022-09-08T11:12:03.917Z"
   },
   {
    "duration": 18,
    "start_time": "2022-09-08T11:12:04.359Z"
   },
   {
    "duration": 3,
    "start_time": "2022-09-08T11:12:04.562Z"
   },
   {
    "duration": 5,
    "start_time": "2022-09-08T11:12:05.226Z"
   },
   {
    "duration": 13,
    "start_time": "2022-09-08T11:12:05.406Z"
   },
   {
    "duration": 4,
    "start_time": "2022-09-08T11:12:06.080Z"
   },
   {
    "duration": 18,
    "start_time": "2022-09-08T11:12:06.475Z"
   },
   {
    "duration": 17,
    "start_time": "2022-09-08T11:12:07.103Z"
   },
   {
    "duration": 5,
    "start_time": "2022-09-08T11:12:07.352Z"
   },
   {
    "duration": 5,
    "start_time": "2022-09-08T11:12:07.991Z"
   },
   {
    "duration": 13,
    "start_time": "2022-09-08T11:12:08.210Z"
   },
   {
    "duration": 3,
    "start_time": "2022-09-08T11:12:08.447Z"
   },
   {
    "duration": 18,
    "start_time": "2022-09-08T11:12:08.852Z"
   },
   {
    "duration": 17,
    "start_time": "2022-09-08T11:12:09.293Z"
   },
   {
    "duration": 3,
    "start_time": "2022-09-08T11:12:09.518Z"
   },
   {
    "duration": 4,
    "start_time": "2022-09-08T11:12:09.908Z"
   },
   {
    "duration": 3,
    "start_time": "2022-09-08T11:12:12.352Z"
   },
   {
    "duration": 3,
    "start_time": "2022-09-08T11:12:14.957Z"
   },
   {
    "duration": 3,
    "start_time": "2022-09-08T11:12:15.014Z"
   },
   {
    "duration": 126,
    "start_time": "2022-09-08T11:12:17.492Z"
   },
   {
    "duration": 3,
    "start_time": "2022-09-08T11:20:50.712Z"
   },
   {
    "duration": 24,
    "start_time": "2022-09-08T11:20:56.379Z"
   },
   {
    "duration": 255,
    "start_time": "2022-09-08T11:24:44.094Z"
   },
   {
    "duration": 21,
    "start_time": "2022-09-08T11:24:51.366Z"
   },
   {
    "duration": 22,
    "start_time": "2022-09-08T11:25:24.484Z"
   },
   {
    "duration": 6,
    "start_time": "2022-09-08T12:39:07.071Z"
   },
   {
    "duration": 173,
    "start_time": "2022-09-08T12:39:07.080Z"
   },
   {
    "duration": 36,
    "start_time": "2022-09-08T12:39:07.255Z"
   },
   {
    "duration": 16,
    "start_time": "2022-09-08T12:39:07.293Z"
   },
   {
    "duration": 67,
    "start_time": "2022-09-08T12:39:07.311Z"
   },
   {
    "duration": 71,
    "start_time": "2022-09-08T12:39:07.381Z"
   },
   {
    "duration": 135,
    "start_time": "2022-09-08T12:39:07.454Z"
   },
   {
    "duration": 36,
    "start_time": "2022-09-08T12:39:07.590Z"
   },
   {
    "duration": 30,
    "start_time": "2022-09-08T12:39:07.628Z"
   },
   {
    "duration": 43,
    "start_time": "2022-09-08T12:39:07.660Z"
   },
   {
    "duration": 79,
    "start_time": "2022-09-08T12:39:07.705Z"
   },
   {
    "duration": 136,
    "start_time": "2022-09-08T12:39:07.786Z"
   },
   {
    "duration": 42,
    "start_time": "2022-09-08T12:39:07.924Z"
   },
   {
    "duration": 16,
    "start_time": "2022-09-08T12:39:07.970Z"
   },
   {
    "duration": 63,
    "start_time": "2022-09-08T12:39:07.988Z"
   },
   {
    "duration": 57,
    "start_time": "2022-09-08T12:39:08.053Z"
   },
   {
    "duration": 3,
    "start_time": "2022-09-08T12:39:08.111Z"
   },
   {
    "duration": 9,
    "start_time": "2022-09-08T12:39:08.116Z"
   },
   {
    "duration": 32,
    "start_time": "2022-09-08T12:39:08.127Z"
   },
   {
    "duration": 4,
    "start_time": "2022-09-08T12:39:08.160Z"
   },
   {
    "duration": 19,
    "start_time": "2022-09-08T12:39:08.166Z"
   },
   {
    "duration": 61,
    "start_time": "2022-09-08T12:39:08.186Z"
   },
   {
    "duration": 4,
    "start_time": "2022-09-08T12:39:08.250Z"
   },
   {
    "duration": 92,
    "start_time": "2022-09-08T12:39:08.255Z"
   },
   {
    "duration": 17,
    "start_time": "2022-09-08T12:39:08.349Z"
   },
   {
    "duration": 3,
    "start_time": "2022-09-08T12:39:08.367Z"
   },
   {
    "duration": 18,
    "start_time": "2022-09-08T12:39:08.372Z"
   },
   {
    "duration": 55,
    "start_time": "2022-09-08T12:39:08.391Z"
   },
   {
    "duration": 98,
    "start_time": "2022-09-08T12:39:08.449Z"
   },
   {
    "duration": 5,
    "start_time": "2022-09-08T12:39:08.549Z"
   },
   {
    "duration": 17,
    "start_time": "2022-09-08T12:39:08.555Z"
   },
   {
    "duration": 3,
    "start_time": "2022-09-08T12:39:08.573Z"
   },
   {
    "duration": 22,
    "start_time": "2022-09-08T12:39:08.577Z"
   },
   {
    "duration": 47,
    "start_time": "2022-09-08T12:39:08.600Z"
   },
   {
    "duration": 4,
    "start_time": "2022-09-08T12:39:08.650Z"
   },
   {
    "duration": 93,
    "start_time": "2022-09-08T12:39:08.656Z"
   },
   {
    "duration": 5,
    "start_time": "2022-09-08T12:39:08.750Z"
   },
   {
    "duration": 8,
    "start_time": "2022-09-08T12:39:08.757Z"
   },
   {
    "duration": 7,
    "start_time": "2022-09-08T12:39:08.766Z"
   },
   {
    "duration": 41,
    "start_time": "2022-09-08T12:39:08.774Z"
   },
   {
    "duration": 3,
    "start_time": "2022-09-08T12:39:45.475Z"
   },
   {
    "duration": 1158,
    "start_time": "2022-09-08T12:39:46.479Z"
   },
   {
    "duration": 1217,
    "start_time": "2022-09-08T12:40:03.220Z"
   },
   {
    "duration": 4,
    "start_time": "2022-09-08T12:40:11.579Z"
   },
   {
    "duration": 1116,
    "start_time": "2022-09-08T12:40:31.167Z"
   },
   {
    "duration": 1189,
    "start_time": "2022-09-08T12:40:37.181Z"
   },
   {
    "duration": 4,
    "start_time": "2022-09-08T12:40:52.292Z"
   },
   {
    "duration": 29,
    "start_time": "2022-09-08T12:40:53.447Z"
   },
   {
    "duration": 28,
    "start_time": "2022-09-08T12:41:15.631Z"
   },
   {
    "duration": 24,
    "start_time": "2022-09-08T12:41:21.072Z"
   },
   {
    "duration": 2228,
    "start_time": "2022-09-08T12:41:38.828Z"
   },
   {
    "duration": 977,
    "start_time": "2022-09-08T12:41:43.860Z"
   },
   {
    "duration": 8,
    "start_time": "2022-09-08T12:41:54.326Z"
   },
   {
    "duration": 2,
    "start_time": "2022-09-08T12:42:08.062Z"
   },
   {
    "duration": 10,
    "start_time": "2022-09-08T12:42:09.331Z"
   },
   {
    "duration": 2250,
    "start_time": "2022-09-08T12:42:19.220Z"
   },
   {
    "duration": 1000,
    "start_time": "2022-09-08T12:42:23.289Z"
   },
   {
    "duration": 3,
    "start_time": "2022-09-08T12:42:31.303Z"
   },
   {
    "duration": 1083,
    "start_time": "2022-09-08T12:42:32.457Z"
   },
   {
    "duration": 4,
    "start_time": "2022-09-08T12:42:56.434Z"
   },
   {
    "duration": 10,
    "start_time": "2022-09-08T12:42:57.317Z"
   },
   {
    "duration": 12,
    "start_time": "2022-09-08T12:43:12.053Z"
   },
   {
    "duration": 8,
    "start_time": "2022-09-08T12:44:19.290Z"
   },
   {
    "duration": 9,
    "start_time": "2022-09-08T12:44:21.865Z"
   },
   {
    "duration": 3,
    "start_time": "2022-09-08T12:44:30.041Z"
   },
   {
    "duration": 17,
    "start_time": "2022-09-08T12:44:32.325Z"
   },
   {
    "duration": 1956,
    "start_time": "2022-09-08T12:44:37.425Z"
   },
   {
    "duration": 3,
    "start_time": "2022-09-08T12:44:42.179Z"
   },
   {
    "duration": 3,
    "start_time": "2022-09-08T12:44:43.045Z"
   },
   {
    "duration": 795,
    "start_time": "2022-09-08T12:44:43.239Z"
   },
   {
    "duration": 786,
    "start_time": "2022-09-08T12:44:49.032Z"
   },
   {
    "duration": 863,
    "start_time": "2022-09-08T12:45:08.702Z"
   },
   {
    "duration": 860,
    "start_time": "2022-09-08T12:45:18.494Z"
   },
   {
    "duration": 3,
    "start_time": "2022-09-08T12:45:28.386Z"
   },
   {
    "duration": 2,
    "start_time": "2022-09-08T12:52:52.618Z"
   },
   {
    "duration": 3,
    "start_time": "2022-09-08T12:52:52.902Z"
   },
   {
    "duration": 2,
    "start_time": "2022-09-08T12:53:01.189Z"
   },
   {
    "duration": 919,
    "start_time": "2022-09-08T12:53:06.050Z"
   },
   {
    "duration": 6,
    "start_time": "2022-09-08T12:53:13.540Z"
   },
   {
    "duration": 3,
    "start_time": "2022-09-08T12:53:17.222Z"
   },
   {
    "duration": 4,
    "start_time": "2022-09-08T12:53:18.399Z"
   },
   {
    "duration": 4,
    "start_time": "2022-09-08T12:53:19.773Z"
   },
   {
    "duration": 14,
    "start_time": "2022-09-08T12:53:41.499Z"
   },
   {
    "duration": 1170,
    "start_time": "2022-09-08T12:53:57.008Z"
   },
   {
    "duration": 1234,
    "start_time": "2022-09-08T12:54:07.073Z"
   },
   {
    "duration": 3,
    "start_time": "2022-09-08T12:54:23.824Z"
   },
   {
    "duration": 4,
    "start_time": "2022-09-08T12:54:25.997Z"
   },
   {
    "duration": 2,
    "start_time": "2022-09-08T12:54:29.506Z"
   },
   {
    "duration": 4,
    "start_time": "2022-09-08T12:54:31.145Z"
   },
   {
    "duration": 1131,
    "start_time": "2022-09-08T12:54:48.102Z"
   },
   {
    "duration": 1113,
    "start_time": "2022-09-08T12:54:52.983Z"
   },
   {
    "duration": 1112,
    "start_time": "2022-09-08T12:55:22.406Z"
   },
   {
    "duration": 1168,
    "start_time": "2022-09-08T12:55:27.935Z"
   },
   {
    "duration": 1150,
    "start_time": "2022-09-08T12:55:32.139Z"
   },
   {
    "duration": 28,
    "start_time": "2022-09-08T12:57:00.006Z"
   },
   {
    "duration": 20,
    "start_time": "2022-09-08T12:57:48.278Z"
   },
   {
    "duration": 1320,
    "start_time": "2022-09-08T12:57:53.672Z"
   },
   {
    "duration": 23,
    "start_time": "2022-09-08T12:57:59.922Z"
   },
   {
    "duration": 4,
    "start_time": "2022-09-08T13:03:27.439Z"
   },
   {
    "duration": 4,
    "start_time": "2022-09-08T13:03:27.930Z"
   },
   {
    "duration": 2,
    "start_time": "2022-09-08T13:03:28.725Z"
   },
   {
    "duration": 25,
    "start_time": "2022-09-08T13:03:28.899Z"
   },
   {
    "duration": 1044,
    "start_time": "2022-09-09T09:32:34.739Z"
   },
   {
    "duration": 526,
    "start_time": "2022-09-09T09:32:37.626Z"
   },
   {
    "duration": 34,
    "start_time": "2022-09-09T09:32:38.227Z"
   },
   {
    "duration": 13,
    "start_time": "2022-09-09T09:32:38.736Z"
   },
   {
    "duration": 52,
    "start_time": "2022-09-09T09:32:39.103Z"
   },
   {
    "duration": 60,
    "start_time": "2022-09-09T09:32:39.481Z"
   },
   {
    "duration": 584,
    "start_time": "2022-09-09T09:32:42.962Z"
   },
   {
    "duration": 33,
    "start_time": "2022-09-09T09:32:43.548Z"
   },
   {
    "duration": 13,
    "start_time": "2022-09-09T09:32:43.700Z"
   },
   {
    "duration": 41,
    "start_time": "2022-09-09T09:32:44.106Z"
   },
   {
    "duration": 55,
    "start_time": "2022-09-09T09:32:44.513Z"
   },
   {
    "duration": 591,
    "start_time": "2022-09-09T09:32:46.221Z"
   },
   {
    "duration": 33,
    "start_time": "2022-09-09T09:32:46.814Z"
   },
   {
    "duration": 13,
    "start_time": "2022-09-09T09:32:47.171Z"
   },
   {
    "duration": 45,
    "start_time": "2022-09-09T09:32:47.777Z"
   },
   {
    "duration": 53,
    "start_time": "2022-09-09T09:32:48.189Z"
   },
   {
    "duration": 2,
    "start_time": "2022-09-09T09:32:54.755Z"
   },
   {
    "duration": 7,
    "start_time": "2022-09-09T09:32:56.028Z"
   },
   {
    "duration": 12,
    "start_time": "2022-09-09T09:32:56.439Z"
   },
   {
    "duration": 3,
    "start_time": "2022-09-09T09:32:57.201Z"
   },
   {
    "duration": 30,
    "start_time": "2022-09-09T09:32:58.238Z"
   },
   {
    "duration": 17,
    "start_time": "2022-09-09T09:32:58.787Z"
   },
   {
    "duration": 3,
    "start_time": "2022-09-09T09:32:59.010Z"
   },
   {
    "duration": 5,
    "start_time": "2022-09-09T09:33:00.470Z"
   },
   {
    "duration": 14,
    "start_time": "2022-09-09T09:33:00.799Z"
   },
   {
    "duration": 4,
    "start_time": "2022-09-09T09:33:01.089Z"
   },
   {
    "duration": 21,
    "start_time": "2022-09-09T09:33:02.213Z"
   },
   {
    "duration": 22,
    "start_time": "2022-09-09T09:33:02.890Z"
   },
   {
    "duration": 4,
    "start_time": "2022-09-09T09:33:03.329Z"
   },
   {
    "duration": 6,
    "start_time": "2022-09-09T09:33:04.641Z"
   },
   {
    "duration": 12,
    "start_time": "2022-09-09T09:33:05.018Z"
   },
   {
    "duration": 3,
    "start_time": "2022-09-09T09:33:05.492Z"
   },
   {
    "duration": 22,
    "start_time": "2022-09-09T09:33:06.127Z"
   },
   {
    "duration": 18,
    "start_time": "2022-09-09T09:33:06.693Z"
   },
   {
    "duration": 3,
    "start_time": "2022-09-09T09:33:06.924Z"
   },
   {
    "duration": 5,
    "start_time": "2022-09-09T09:33:07.322Z"
   },
   {
    "duration": 3,
    "start_time": "2022-09-09T09:33:10.265Z"
   },
   {
    "duration": 3,
    "start_time": "2022-09-09T09:33:28.471Z"
   },
   {
    "duration": 3,
    "start_time": "2022-09-09T09:33:53.194Z"
   },
   {
    "duration": 3,
    "start_time": "2022-09-09T09:33:54.400Z"
   },
   {
    "duration": 3,
    "start_time": "2022-09-09T09:34:13.127Z"
   },
   {
    "duration": 3,
    "start_time": "2022-09-09T09:34:45.555Z"
   },
   {
    "duration": 3,
    "start_time": "2022-09-09T09:34:46.837Z"
   },
   {
    "duration": 98,
    "start_time": "2022-09-09T09:34:58.938Z"
   },
   {
    "duration": 3,
    "start_time": "2022-09-09T09:35:34.156Z"
   },
   {
    "duration": 2,
    "start_time": "2022-09-09T09:35:42.292Z"
   },
   {
    "duration": 24,
    "start_time": "2022-09-09T09:35:57.840Z"
   },
   {
    "duration": 26,
    "start_time": "2022-09-09T09:41:35.790Z"
   },
   {
    "duration": 27,
    "start_time": "2022-09-09T09:41:46.519Z"
   },
   {
    "duration": 4,
    "start_time": "2022-09-09T09:42:55.767Z"
   },
   {
    "duration": 24,
    "start_time": "2022-09-09T09:45:34.300Z"
   },
   {
    "duration": 24,
    "start_time": "2022-09-09T09:45:48.711Z"
   },
   {
    "duration": 36,
    "start_time": "2022-09-09T09:45:57.096Z"
   },
   {
    "duration": 39,
    "start_time": "2022-09-09T09:46:02.505Z"
   },
   {
    "duration": 6,
    "start_time": "2022-09-09T09:46:10.755Z"
   },
   {
    "duration": 37,
    "start_time": "2022-09-09T09:46:17.005Z"
   },
   {
    "duration": 4,
    "start_time": "2022-09-09T09:46:36.758Z"
   },
   {
    "duration": 5,
    "start_time": "2022-09-09T09:49:13.165Z"
   },
   {
    "duration": 14,
    "start_time": "2022-09-09T09:49:29.967Z"
   },
   {
    "duration": 21,
    "start_time": "2022-09-09T09:49:40.151Z"
   },
   {
    "duration": 34,
    "start_time": "2022-09-09T09:49:48.118Z"
   },
   {
    "duration": 28,
    "start_time": "2022-09-09T09:50:01.599Z"
   },
   {
    "duration": 23,
    "start_time": "2022-09-09T09:50:09.026Z"
   },
   {
    "duration": 26,
    "start_time": "2022-09-09T09:51:42.263Z"
   },
   {
    "duration": 6,
    "start_time": "2022-09-09T09:52:56.968Z"
   },
   {
    "duration": 23,
    "start_time": "2022-09-09T09:53:06.666Z"
   },
   {
    "duration": 1074,
    "start_time": "2022-09-09T09:53:30.633Z"
   },
   {
    "duration": 156,
    "start_time": "2022-09-09T09:53:31.772Z"
   },
   {
    "duration": 35,
    "start_time": "2022-09-09T09:53:32.362Z"
   },
   {
    "duration": 13,
    "start_time": "2022-09-09T09:53:32.712Z"
   },
   {
    "duration": 49,
    "start_time": "2022-09-09T09:53:33.158Z"
   },
   {
    "duration": 63,
    "start_time": "2022-09-09T09:53:33.594Z"
   },
   {
    "duration": 150,
    "start_time": "2022-09-09T09:53:36.257Z"
   },
   {
    "duration": 36,
    "start_time": "2022-09-09T09:53:36.593Z"
   },
   {
    "duration": 15,
    "start_time": "2022-09-09T09:53:36.793Z"
   },
   {
    "duration": 56,
    "start_time": "2022-09-09T09:53:37.017Z"
   },
   {
    "duration": 68,
    "start_time": "2022-09-09T09:53:37.235Z"
   },
   {
    "duration": 142,
    "start_time": "2022-09-09T09:53:38.312Z"
   },
   {
    "duration": 34,
    "start_time": "2022-09-09T09:53:38.570Z"
   },
   {
    "duration": 14,
    "start_time": "2022-09-09T09:53:38.756Z"
   },
   {
    "duration": 47,
    "start_time": "2022-09-09T09:53:38.956Z"
   },
   {
    "duration": 59,
    "start_time": "2022-09-09T09:53:39.167Z"
   },
   {
    "duration": 2,
    "start_time": "2022-09-09T09:53:40.664Z"
   },
   {
    "duration": 6,
    "start_time": "2022-09-09T09:53:41.295Z"
   },
   {
    "duration": 13,
    "start_time": "2022-09-09T09:53:41.495Z"
   },
   {
    "duration": 3,
    "start_time": "2022-09-09T09:53:41.703Z"
   },
   {
    "duration": 20,
    "start_time": "2022-09-09T09:53:42.130Z"
   },
   {
    "duration": 35,
    "start_time": "2022-09-09T09:53:42.577Z"
   },
   {
    "duration": 3,
    "start_time": "2022-09-09T09:53:42.807Z"
   },
   {
    "duration": 6,
    "start_time": "2022-09-09T09:53:43.422Z"
   },
   {
    "duration": 17,
    "start_time": "2022-09-09T09:53:43.644Z"
   },
   {
    "duration": 3,
    "start_time": "2022-09-09T09:53:43.870Z"
   },
   {
    "duration": 19,
    "start_time": "2022-09-09T09:53:44.288Z"
   },
   {
    "duration": 33,
    "start_time": "2022-09-09T09:53:44.697Z"
   },
   {
    "duration": 5,
    "start_time": "2022-09-09T09:53:44.907Z"
   },
   {
    "duration": 7,
    "start_time": "2022-09-09T09:53:45.545Z"
   },
   {
    "duration": 13,
    "start_time": "2022-09-09T09:53:45.772Z"
   },
   {
    "duration": 3,
    "start_time": "2022-09-09T09:53:45.994Z"
   },
   {
    "duration": 20,
    "start_time": "2022-09-09T09:53:46.419Z"
   },
   {
    "duration": 13,
    "start_time": "2022-09-09T09:53:46.848Z"
   },
   {
    "duration": 4,
    "start_time": "2022-09-09T09:53:47.086Z"
   },
   {
    "duration": 5,
    "start_time": "2022-09-09T09:53:47.566Z"
   },
   {
    "duration": 4,
    "start_time": "2022-09-09T09:53:49.028Z"
   },
   {
    "duration": 4,
    "start_time": "2022-09-09T09:53:50.117Z"
   },
   {
    "duration": 3,
    "start_time": "2022-09-09T09:53:50.892Z"
   },
   {
    "duration": 3,
    "start_time": "2022-09-09T09:53:52.459Z"
   },
   {
    "duration": 5,
    "start_time": "2022-09-09T09:53:52.695Z"
   },
   {
    "duration": 102,
    "start_time": "2022-09-09T09:53:52.891Z"
   },
   {
    "duration": 12,
    "start_time": "2022-09-09T09:55:31.152Z"
   },
   {
    "duration": 24,
    "start_time": "2022-09-09T09:56:29.504Z"
   },
   {
    "duration": 5,
    "start_time": "2022-09-09T09:58:05.863Z"
   },
   {
    "duration": 34,
    "start_time": "2022-09-09T09:58:07.097Z"
   },
   {
    "duration": 23,
    "start_time": "2022-09-09T10:06:24.658Z"
   },
   {
    "duration": 4,
    "start_time": "2022-09-09T10:06:49.693Z"
   },
   {
    "duration": 24,
    "start_time": "2022-09-09T10:06:51.078Z"
   },
   {
    "duration": 4,
    "start_time": "2022-09-09T10:06:59.935Z"
   },
   {
    "duration": 39,
    "start_time": "2022-09-09T10:07:01.654Z"
   },
   {
    "duration": 4,
    "start_time": "2022-09-09T10:07:52.977Z"
   },
   {
    "duration": 23,
    "start_time": "2022-09-09T10:07:55.703Z"
   },
   {
    "duration": 5,
    "start_time": "2022-09-09T10:08:05.794Z"
   },
   {
    "duration": 3,
    "start_time": "2022-09-09T10:08:40.363Z"
   },
   {
    "duration": 4,
    "start_time": "2022-09-09T10:08:46.213Z"
   },
   {
    "duration": 4,
    "start_time": "2022-09-09T10:08:46.706Z"
   },
   {
    "duration": 23,
    "start_time": "2022-09-09T10:08:47.540Z"
   },
   {
    "duration": 5,
    "start_time": "2022-09-09T10:09:57.053Z"
   },
   {
    "duration": 24,
    "start_time": "2022-09-09T10:09:58.204Z"
   },
   {
    "duration": 4,
    "start_time": "2022-09-09T10:11:50.956Z"
   },
   {
    "duration": 12,
    "start_time": "2022-09-09T10:11:51.921Z"
   },
   {
    "duration": 5,
    "start_time": "2022-09-09T10:12:18.869Z"
   },
   {
    "duration": 2075,
    "start_time": "2022-09-09T10:12:20.531Z"
   },
   {
    "duration": 5,
    "start_time": "2022-09-09T10:12:45.043Z"
   },
   {
    "duration": 2169,
    "start_time": "2022-09-09T10:12:45.887Z"
   },
   {
    "duration": 4,
    "start_time": "2022-09-09T10:15:19.553Z"
   },
   {
    "duration": 2031,
    "start_time": "2022-09-09T10:15:20.160Z"
   },
   {
    "duration": 4,
    "start_time": "2022-09-09T10:15:29.696Z"
   },
   {
    "duration": 2018,
    "start_time": "2022-09-09T10:15:30.360Z"
   },
   {
    "duration": 2,
    "start_time": "2022-09-09T10:22:37.285Z"
   },
   {
    "duration": 4,
    "start_time": "2022-09-09T10:22:37.615Z"
   },
   {
    "duration": 2162,
    "start_time": "2022-09-09T10:22:38.271Z"
   },
   {
    "duration": 2207,
    "start_time": "2022-09-09T10:22:58.151Z"
   },
   {
    "duration": 4,
    "start_time": "2022-09-09T10:23:05.042Z"
   },
   {
    "duration": 2133,
    "start_time": "2022-09-09T10:23:05.680Z"
   },
   {
    "duration": 1018,
    "start_time": "2022-09-09T10:23:23.049Z"
   },
   {
    "duration": 156,
    "start_time": "2022-09-09T10:23:25.130Z"
   },
   {
    "duration": 48,
    "start_time": "2022-09-09T10:23:25.442Z"
   },
   {
    "duration": 15,
    "start_time": "2022-09-09T10:23:25.647Z"
   },
   {
    "duration": 49,
    "start_time": "2022-09-09T10:23:25.842Z"
   },
   {
    "duration": 121,
    "start_time": "2022-09-09T10:23:26.057Z"
   },
   {
    "duration": 135,
    "start_time": "2022-09-09T10:23:27.417Z"
   },
   {
    "duration": 36,
    "start_time": "2022-09-09T10:23:27.641Z"
   },
   {
    "duration": 22,
    "start_time": "2022-09-09T10:23:27.791Z"
   },
   {
    "duration": 65,
    "start_time": "2022-09-09T10:23:27.994Z"
   },
   {
    "duration": 86,
    "start_time": "2022-09-09T10:23:28.203Z"
   },
   {
    "duration": 130,
    "start_time": "2022-09-09T10:23:29.329Z"
   },
   {
    "duration": 35,
    "start_time": "2022-09-09T10:23:29.513Z"
   },
   {
    "duration": 15,
    "start_time": "2022-09-09T10:23:29.758Z"
   },
   {
    "duration": 45,
    "start_time": "2022-09-09T10:23:29.992Z"
   },
   {
    "duration": 72,
    "start_time": "2022-09-09T10:23:30.230Z"
   },
   {
    "duration": 3,
    "start_time": "2022-09-09T10:23:31.979Z"
   },
   {
    "duration": 7,
    "start_time": "2022-09-09T10:23:32.781Z"
   },
   {
    "duration": 17,
    "start_time": "2022-09-09T10:23:33.035Z"
   },
   {
    "duration": 4,
    "start_time": "2022-09-09T10:23:33.270Z"
   },
   {
    "duration": 20,
    "start_time": "2022-09-09T10:23:33.677Z"
   },
   {
    "duration": 43,
    "start_time": "2022-09-09T10:23:34.063Z"
   },
   {
    "duration": 3,
    "start_time": "2022-09-09T10:23:34.436Z"
   },
   {
    "duration": 5,
    "start_time": "2022-09-09T10:23:35.064Z"
   },
   {
    "duration": 13,
    "start_time": "2022-09-09T10:23:35.275Z"
   },
   {
    "duration": 4,
    "start_time": "2022-09-09T10:23:35.483Z"
   },
   {
    "duration": 20,
    "start_time": "2022-09-09T10:23:35.879Z"
   },
   {
    "duration": 17,
    "start_time": "2022-09-09T10:23:36.279Z"
   },
   {
    "duration": 13,
    "start_time": "2022-09-09T10:23:36.507Z"
   },
   {
    "duration": 5,
    "start_time": "2022-09-09T10:23:37.053Z"
   },
   {
    "duration": 14,
    "start_time": "2022-09-09T10:23:37.256Z"
   },
   {
    "duration": 2,
    "start_time": "2022-09-09T10:23:37.466Z"
   },
   {
    "duration": 20,
    "start_time": "2022-09-09T10:23:37.884Z"
   },
   {
    "duration": 103,
    "start_time": "2022-09-09T10:23:38.502Z"
   },
   {
    "duration": 4,
    "start_time": "2022-09-09T10:23:38.756Z"
   },
   {
    "duration": 4,
    "start_time": "2022-09-09T10:23:39.156Z"
   },
   {
    "duration": 3,
    "start_time": "2022-09-09T10:23:40.633Z"
   },
   {
    "duration": 4,
    "start_time": "2022-09-09T10:23:41.686Z"
   },
   {
    "duration": 4,
    "start_time": "2022-09-09T10:23:42.309Z"
   },
   {
    "duration": 4,
    "start_time": "2022-09-09T10:23:43.776Z"
   },
   {
    "duration": 4,
    "start_time": "2022-09-09T10:23:44.088Z"
   },
   {
    "duration": 2251,
    "start_time": "2022-09-09T10:23:44.461Z"
   },
   {
    "duration": 2139,
    "start_time": "2022-09-09T10:23:51.570Z"
   },
   {
    "duration": 3,
    "start_time": "2022-09-09T10:24:00.234Z"
   },
   {
    "duration": 6,
    "start_time": "2022-09-09T10:24:00.773Z"
   },
   {
    "duration": 2201,
    "start_time": "2022-09-09T10:24:01.257Z"
   },
   {
    "duration": 3,
    "start_time": "2022-09-09T10:24:06.442Z"
   },
   {
    "duration": 5,
    "start_time": "2022-09-09T10:24:07.046Z"
   },
   {
    "duration": 2073,
    "start_time": "2022-09-09T10:24:07.495Z"
   },
   {
    "duration": 3,
    "start_time": "2022-09-09T10:24:12.524Z"
   },
   {
    "duration": 5,
    "start_time": "2022-09-09T10:24:13.096Z"
   },
   {
    "duration": 2119,
    "start_time": "2022-09-09T10:24:13.592Z"
   },
   {
    "duration": 4,
    "start_time": "2022-09-09T10:24:20.563Z"
   },
   {
    "duration": 3,
    "start_time": "2022-09-09T10:24:23.231Z"
   },
   {
    "duration": 4,
    "start_time": "2022-09-09T10:24:26.116Z"
   },
   {
    "duration": 4,
    "start_time": "2022-09-09T10:24:26.525Z"
   },
   {
    "duration": 2211,
    "start_time": "2022-09-09T10:24:27.069Z"
   },
   {
    "duration": 1138,
    "start_time": "2022-09-09T10:28:16.598Z"
   },
   {
    "duration": 143,
    "start_time": "2022-09-09T10:28:18.454Z"
   },
   {
    "duration": 37,
    "start_time": "2022-09-09T10:28:18.858Z"
   },
   {
    "duration": 14,
    "start_time": "2022-09-09T10:28:19.301Z"
   },
   {
    "duration": 52,
    "start_time": "2022-09-09T10:28:19.732Z"
   },
   {
    "duration": 66,
    "start_time": "2022-09-09T10:28:20.182Z"
   },
   {
    "duration": 133,
    "start_time": "2022-09-09T10:28:21.941Z"
   },
   {
    "duration": 34,
    "start_time": "2022-09-09T10:28:22.144Z"
   },
   {
    "duration": 15,
    "start_time": "2022-09-09T10:28:22.364Z"
   },
   {
    "duration": 45,
    "start_time": "2022-09-09T10:28:22.552Z"
   },
   {
    "duration": 64,
    "start_time": "2022-09-09T10:28:23.129Z"
   },
   {
    "duration": 136,
    "start_time": "2022-09-09T10:28:23.886Z"
   },
   {
    "duration": 35,
    "start_time": "2022-09-09T10:28:24.105Z"
   },
   {
    "duration": 14,
    "start_time": "2022-09-09T10:28:24.285Z"
   },
   {
    "duration": 45,
    "start_time": "2022-09-09T10:28:24.488Z"
   },
   {
    "duration": 75,
    "start_time": "2022-09-09T10:28:24.709Z"
   },
   {
    "duration": 3,
    "start_time": "2022-09-09T10:28:26.237Z"
   },
   {
    "duration": 6,
    "start_time": "2022-09-09T10:28:26.843Z"
   },
   {
    "duration": 12,
    "start_time": "2022-09-09T10:28:27.012Z"
   },
   {
    "duration": 3,
    "start_time": "2022-09-09T10:28:27.236Z"
   },
   {
    "duration": 21,
    "start_time": "2022-09-09T10:28:27.669Z"
   },
   {
    "duration": 103,
    "start_time": "2022-09-09T10:28:28.505Z"
   },
   {
    "duration": 98,
    "start_time": "2022-09-09T10:28:28.610Z"
   },
   {
    "duration": 6,
    "start_time": "2022-09-09T10:28:28.758Z"
   },
   {
    "duration": 13,
    "start_time": "2022-09-09T10:28:29.136Z"
   },
   {
    "duration": 3,
    "start_time": "2022-09-09T10:28:29.340Z"
   },
   {
    "duration": 21,
    "start_time": "2022-09-09T10:28:29.747Z"
   },
   {
    "duration": 15,
    "start_time": "2022-09-09T10:28:30.144Z"
   },
   {
    "duration": 3,
    "start_time": "2022-09-09T10:28:30.333Z"
   },
   {
    "duration": 5,
    "start_time": "2022-09-09T10:28:30.894Z"
   },
   {
    "duration": 12,
    "start_time": "2022-09-09T10:28:31.104Z"
   },
   {
    "duration": 3,
    "start_time": "2022-09-09T10:28:31.309Z"
   },
   {
    "duration": 19,
    "start_time": "2022-09-09T10:28:31.682Z"
   },
   {
    "duration": 13,
    "start_time": "2022-09-09T10:28:32.103Z"
   },
   {
    "duration": 4,
    "start_time": "2022-09-09T10:28:32.307Z"
   },
   {
    "duration": 4,
    "start_time": "2022-09-09T10:28:32.708Z"
   },
   {
    "duration": 3,
    "start_time": "2022-09-09T10:28:34.074Z"
   },
   {
    "duration": 4,
    "start_time": "2022-09-09T10:28:35.071Z"
   },
   {
    "duration": 4,
    "start_time": "2022-09-09T10:28:35.683Z"
   },
   {
    "duration": 3,
    "start_time": "2022-09-09T10:28:36.883Z"
   },
   {
    "duration": 5,
    "start_time": "2022-09-09T10:28:37.397Z"
   },
   {
    "duration": 2102,
    "start_time": "2022-09-09T10:28:38.069Z"
   },
   {
    "duration": 1074,
    "start_time": "2022-09-09T10:31:19.429Z"
   },
   {
    "duration": 141,
    "start_time": "2022-09-09T10:31:21.663Z"
   },
   {
    "duration": 35,
    "start_time": "2022-09-09T10:31:21.898Z"
   },
   {
    "duration": 16,
    "start_time": "2022-09-09T10:31:22.067Z"
   },
   {
    "duration": 42,
    "start_time": "2022-09-09T10:31:22.294Z"
   },
   {
    "duration": 60,
    "start_time": "2022-09-09T10:31:22.477Z"
   },
   {
    "duration": 132,
    "start_time": "2022-09-09T10:31:24.264Z"
   },
   {
    "duration": 39,
    "start_time": "2022-09-09T10:31:24.591Z"
   },
   {
    "duration": 13,
    "start_time": "2022-09-09T10:31:24.848Z"
   },
   {
    "duration": 42,
    "start_time": "2022-09-09T10:31:25.100Z"
   },
   {
    "duration": 68,
    "start_time": "2022-09-09T10:31:25.306Z"
   },
   {
    "duration": 144,
    "start_time": "2022-09-09T10:31:26.158Z"
   },
   {
    "duration": 37,
    "start_time": "2022-09-09T10:31:26.385Z"
   },
   {
    "duration": 13,
    "start_time": "2022-09-09T10:31:26.687Z"
   },
   {
    "duration": 45,
    "start_time": "2022-09-09T10:31:26.912Z"
   },
   {
    "duration": 76,
    "start_time": "2022-09-09T10:31:27.157Z"
   },
   {
    "duration": 3,
    "start_time": "2022-09-09T10:31:29.285Z"
   },
   {
    "duration": 6,
    "start_time": "2022-09-09T10:31:30.004Z"
   },
   {
    "duration": 12,
    "start_time": "2022-09-09T10:31:30.379Z"
   },
   {
    "duration": 3,
    "start_time": "2022-09-09T10:31:30.741Z"
   },
   {
    "duration": 2,
    "start_time": "2022-09-09T10:31:31.843Z"
   },
   {
    "duration": 21,
    "start_time": "2022-09-09T10:31:32.562Z"
   },
   {
    "duration": 3,
    "start_time": "2022-09-09T10:31:33.069Z"
   },
   {
    "duration": 5,
    "start_time": "2022-09-09T10:31:35.058Z"
   },
   {
    "duration": 13,
    "start_time": "2022-09-09T10:31:35.317Z"
   },
   {
    "duration": 4,
    "start_time": "2022-09-09T10:31:35.522Z"
   },
   {
    "duration": 3,
    "start_time": "2022-09-09T10:31:36.176Z"
   },
   {
    "duration": 16,
    "start_time": "2022-09-09T10:31:37.050Z"
   },
   {
    "duration": 4,
    "start_time": "2022-09-09T10:31:37.405Z"
   },
   {
    "duration": 5,
    "start_time": "2022-09-09T10:31:39.516Z"
   },
   {
    "duration": 13,
    "start_time": "2022-09-09T10:31:39.708Z"
   },
   {
    "duration": 3,
    "start_time": "2022-09-09T10:31:39.952Z"
   },
   {
    "duration": 3,
    "start_time": "2022-09-09T10:31:40.477Z"
   },
   {
    "duration": 16,
    "start_time": "2022-09-09T10:31:41.648Z"
   },
   {
    "duration": 5,
    "start_time": "2022-09-09T10:31:41.821Z"
   },
   {
    "duration": 4,
    "start_time": "2022-09-09T10:31:43.361Z"
   },
   {
    "duration": 3,
    "start_time": "2022-09-09T10:31:49.268Z"
   },
   {
    "duration": 4,
    "start_time": "2022-09-09T10:31:51.274Z"
   },
   {
    "duration": 4,
    "start_time": "2022-09-09T10:31:51.966Z"
   },
   {
    "duration": 3,
    "start_time": "2022-09-09T10:31:54.192Z"
   },
   {
    "duration": 6,
    "start_time": "2022-09-09T10:31:54.698Z"
   },
   {
    "duration": 2226,
    "start_time": "2022-09-09T10:31:55.577Z"
   },
   {
    "duration": 2014,
    "start_time": "2022-09-09T10:33:17.075Z"
   },
   {
    "duration": 78,
    "start_time": "2022-09-09T10:33:30.650Z"
   },
   {
    "duration": 789,
    "start_time": "2022-09-09T10:33:38.212Z"
   },
   {
    "duration": 2159,
    "start_time": "2022-09-09T10:33:44.813Z"
   },
   {
    "duration": 3,
    "start_time": "2022-09-09T10:33:52.617Z"
   },
   {
    "duration": 126,
    "start_time": "2022-09-09T10:33:53.398Z"
   },
   {
    "duration": 33,
    "start_time": "2022-09-09T10:33:53.588Z"
   },
   {
    "duration": 18,
    "start_time": "2022-09-09T10:33:53.793Z"
   },
   {
    "duration": 56,
    "start_time": "2022-09-09T10:33:53.970Z"
   },
   {
    "duration": 86,
    "start_time": "2022-09-09T10:33:54.351Z"
   },
   {
    "duration": 128,
    "start_time": "2022-09-09T10:33:55.670Z"
   },
   {
    "duration": 32,
    "start_time": "2022-09-09T10:33:55.875Z"
   },
   {
    "duration": 18,
    "start_time": "2022-09-09T10:33:56.050Z"
   },
   {
    "duration": 48,
    "start_time": "2022-09-09T10:33:56.206Z"
   },
   {
    "duration": 53,
    "start_time": "2022-09-09T10:33:56.378Z"
   },
   {
    "duration": 123,
    "start_time": "2022-09-09T10:33:57.144Z"
   },
   {
    "duration": 32,
    "start_time": "2022-09-09T10:33:57.307Z"
   },
   {
    "duration": 14,
    "start_time": "2022-09-09T10:33:57.495Z"
   },
   {
    "duration": 41,
    "start_time": "2022-09-09T10:33:57.685Z"
   },
   {
    "duration": 60,
    "start_time": "2022-09-09T10:33:57.858Z"
   },
   {
    "duration": 3,
    "start_time": "2022-09-09T10:33:59.107Z"
   },
   {
    "duration": 6,
    "start_time": "2022-09-09T10:33:59.662Z"
   },
   {
    "duration": 12,
    "start_time": "2022-09-09T10:33:59.853Z"
   },
   {
    "duration": 4,
    "start_time": "2022-09-09T10:34:00.056Z"
   },
   {
    "duration": 16,
    "start_time": "2022-09-09T10:34:00.420Z"
   },
   {
    "duration": 15,
    "start_time": "2022-09-09T10:34:00.778Z"
   },
   {
    "duration": 3,
    "start_time": "2022-09-09T10:34:00.984Z"
   },
   {
    "duration": 5,
    "start_time": "2022-09-09T10:34:01.552Z"
   },
   {
    "duration": 14,
    "start_time": "2022-09-09T10:34:01.722Z"
   },
   {
    "duration": 3,
    "start_time": "2022-09-09T10:34:01.916Z"
   },
   {
    "duration": 17,
    "start_time": "2022-09-09T10:34:02.287Z"
   },
   {
    "duration": 12,
    "start_time": "2022-09-09T10:34:02.683Z"
   },
   {
    "duration": 3,
    "start_time": "2022-09-09T10:34:02.908Z"
   },
   {
    "duration": 4,
    "start_time": "2022-09-09T10:34:03.428Z"
   },
   {
    "duration": 11,
    "start_time": "2022-09-09T10:34:03.614Z"
   },
   {
    "duration": 3,
    "start_time": "2022-09-09T10:34:03.801Z"
   },
   {
    "duration": 15,
    "start_time": "2022-09-09T10:34:04.177Z"
   },
   {
    "duration": 43,
    "start_time": "2022-09-09T10:34:04.562Z"
   },
   {
    "duration": 3,
    "start_time": "2022-09-09T10:34:04.763Z"
   },
   {
    "duration": 3,
    "start_time": "2022-09-09T10:34:05.353Z"
   },
   {
    "duration": 2,
    "start_time": "2022-09-09T10:34:06.676Z"
   },
   {
    "duration": 3,
    "start_time": "2022-09-09T10:34:07.958Z"
   },
   {
    "duration": 3,
    "start_time": "2022-09-09T10:34:09.104Z"
   },
   {
    "duration": 2,
    "start_time": "2022-09-09T10:34:11.328Z"
   },
   {
    "duration": 4,
    "start_time": "2022-09-09T10:34:11.518Z"
   },
   {
    "duration": 2304,
    "start_time": "2022-09-09T10:34:11.911Z"
   },
   {
    "duration": 2361,
    "start_time": "2022-09-09T11:16:31.084Z"
   },
   {
    "duration": 508,
    "start_time": "2022-09-09T11:16:33.446Z"
   },
   {
    "duration": 32,
    "start_time": "2022-09-09T11:16:33.956Z"
   },
   {
    "duration": 14,
    "start_time": "2022-09-09T11:16:33.990Z"
   },
   {
    "duration": 46,
    "start_time": "2022-09-09T11:16:34.006Z"
   },
   {
    "duration": 67,
    "start_time": "2022-09-09T11:16:34.054Z"
   },
   {
    "duration": 536,
    "start_time": "2022-09-09T11:16:34.123Z"
   },
   {
    "duration": 33,
    "start_time": "2022-09-09T11:16:34.661Z"
   },
   {
    "duration": 15,
    "start_time": "2022-09-09T11:16:34.696Z"
   },
   {
    "duration": 38,
    "start_time": "2022-09-09T11:16:34.712Z"
   },
   {
    "duration": 73,
    "start_time": "2022-09-09T11:16:34.752Z"
   },
   {
    "duration": 508,
    "start_time": "2022-09-09T11:16:34.827Z"
   },
   {
    "duration": 34,
    "start_time": "2022-09-09T11:16:35.336Z"
   },
   {
    "duration": 12,
    "start_time": "2022-09-09T11:16:35.373Z"
   },
   {
    "duration": 62,
    "start_time": "2022-09-09T11:16:35.387Z"
   },
   {
    "duration": 54,
    "start_time": "2022-09-09T11:16:35.450Z"
   },
   {
    "duration": 3,
    "start_time": "2022-09-09T11:16:35.505Z"
   },
   {
    "duration": 9,
    "start_time": "2022-09-09T11:16:35.510Z"
   },
   {
    "duration": 13,
    "start_time": "2022-09-09T11:16:35.521Z"
   },
   {
    "duration": 3,
    "start_time": "2022-09-09T11:16:35.536Z"
   },
   {
    "duration": 19,
    "start_time": "2022-09-09T11:16:35.541Z"
   },
   {
    "duration": 44,
    "start_time": "2022-09-09T11:16:35.562Z"
   },
   {
    "duration": 4,
    "start_time": "2022-09-09T11:16:35.608Z"
   },
   {
    "duration": 100,
    "start_time": "2022-09-09T11:16:35.615Z"
   },
   {
    "duration": 14,
    "start_time": "2022-09-09T11:16:35.717Z"
   },
   {
    "duration": 4,
    "start_time": "2022-09-09T11:16:35.732Z"
   },
   {
    "duration": 19,
    "start_time": "2022-09-09T11:16:35.737Z"
   },
   {
    "duration": 51,
    "start_time": "2022-09-09T11:16:35.757Z"
   },
   {
    "duration": 94,
    "start_time": "2022-09-09T11:16:35.812Z"
   },
   {
    "duration": 6,
    "start_time": "2022-09-09T11:16:35.907Z"
   },
   {
    "duration": 19,
    "start_time": "2022-09-09T11:16:35.914Z"
   },
   {
    "duration": 3,
    "start_time": "2022-09-09T11:16:35.934Z"
   },
   {
    "duration": 25,
    "start_time": "2022-09-09T11:16:35.939Z"
   },
   {
    "duration": 43,
    "start_time": "2022-09-09T11:16:35.965Z"
   },
   {
    "duration": 5,
    "start_time": "2022-09-09T11:16:36.009Z"
   },
   {
    "duration": 107,
    "start_time": "2022-09-09T11:16:36.015Z"
   },
   {
    "duration": 23,
    "start_time": "2022-09-09T11:16:36.124Z"
   },
   {
    "duration": 21,
    "start_time": "2022-09-09T11:16:36.149Z"
   },
   {
    "duration": 18,
    "start_time": "2022-09-09T11:16:36.172Z"
   },
   {
    "duration": 11,
    "start_time": "2022-09-09T11:16:36.193Z"
   },
   {
    "duration": 13,
    "start_time": "2022-09-09T11:16:36.208Z"
   },
   {
    "duration": 2048,
    "start_time": "2022-09-09T11:16:36.223Z"
   },
   {
    "duration": 4,
    "start_time": "2022-09-09T11:16:44.842Z"
   },
   {
    "duration": 102,
    "start_time": "2022-09-09T11:16:45.075Z"
   },
   {
    "duration": 5,
    "start_time": "2022-09-09T11:17:05.459Z"
   },
   {
    "duration": 15,
    "start_time": "2022-09-09T11:17:06.236Z"
   },
   {
    "duration": 4,
    "start_time": "2022-09-09T11:17:11.918Z"
   },
   {
    "duration": 3417,
    "start_time": "2022-09-09T11:17:12.533Z"
   },
   {
    "duration": 3,
    "start_time": "2022-09-09T11:17:28.151Z"
   },
   {
    "duration": 2,
    "start_time": "2022-09-09T11:17:29.215Z"
   },
   {
    "duration": 4,
    "start_time": "2022-09-09T11:17:29.383Z"
   },
   {
    "duration": 3498,
    "start_time": "2022-09-09T11:17:29.959Z"
   },
   {
    "duration": 3,
    "start_time": "2022-09-09T11:29:49.959Z"
   },
   {
    "duration": 2,
    "start_time": "2022-09-09T11:29:51.076Z"
   },
   {
    "duration": 5,
    "start_time": "2022-09-09T11:29:51.243Z"
   },
   {
    "duration": 2016,
    "start_time": "2022-09-09T11:29:51.419Z"
   },
   {
    "duration": 1107,
    "start_time": "2022-09-09T12:28:47.794Z"
   },
   {
    "duration": 570,
    "start_time": "2022-09-09T12:28:49.791Z"
   },
   {
    "duration": 48,
    "start_time": "2022-09-09T12:28:50.363Z"
   },
   {
    "duration": 16,
    "start_time": "2022-09-09T12:28:50.456Z"
   },
   {
    "duration": 47,
    "start_time": "2022-09-09T12:28:50.781Z"
   },
   {
    "duration": 61,
    "start_time": "2022-09-09T12:28:51.192Z"
   },
   {
    "duration": 643,
    "start_time": "2022-09-09T12:28:54.799Z"
   },
   {
    "duration": 47,
    "start_time": "2022-09-09T12:28:55.443Z"
   },
   {
    "duration": 21,
    "start_time": "2022-09-09T12:28:55.669Z"
   },
   {
    "duration": 48,
    "start_time": "2022-09-09T12:28:56.034Z"
   },
   {
    "duration": 79,
    "start_time": "2022-09-09T12:28:56.247Z"
   },
   {
    "duration": 742,
    "start_time": "2022-09-09T12:28:57.091Z"
   },
   {
    "duration": 47,
    "start_time": "2022-09-09T12:28:57.836Z"
   },
   {
    "duration": 19,
    "start_time": "2022-09-09T12:28:57.885Z"
   },
   {
    "duration": 69,
    "start_time": "2022-09-09T12:28:57.906Z"
   },
   {
    "duration": 101,
    "start_time": "2022-09-09T12:28:57.977Z"
   },
   {
    "duration": 3,
    "start_time": "2022-09-09T12:29:00.424Z"
   },
   {
    "duration": 6,
    "start_time": "2022-09-09T12:29:01.253Z"
   },
   {
    "duration": 15,
    "start_time": "2022-09-09T12:29:01.456Z"
   },
   {
    "duration": 3,
    "start_time": "2022-09-09T12:29:02.000Z"
   },
   {
    "duration": 25,
    "start_time": "2022-09-09T12:29:02.857Z"
   },
   {
    "duration": 22,
    "start_time": "2022-09-09T12:29:03.422Z"
   },
   {
    "duration": 4,
    "start_time": "2022-09-09T12:29:03.666Z"
   },
   {
    "duration": 6,
    "start_time": "2022-09-09T12:29:05.115Z"
   },
   {
    "duration": 13,
    "start_time": "2022-09-09T12:29:05.420Z"
   },
   {
    "duration": 4,
    "start_time": "2022-09-09T12:29:05.858Z"
   },
   {
    "duration": 22,
    "start_time": "2022-09-09T12:29:06.923Z"
   },
   {
    "duration": 15,
    "start_time": "2022-09-09T12:29:07.219Z"
   },
   {
    "duration": 4,
    "start_time": "2022-09-09T12:29:07.629Z"
   },
   {
    "duration": 8,
    "start_time": "2022-09-09T12:29:08.865Z"
   },
   {
    "duration": 12,
    "start_time": "2022-09-09T12:29:08.944Z"
   },
   {
    "duration": 3,
    "start_time": "2022-09-09T12:29:09.715Z"
   },
   {
    "duration": 25,
    "start_time": "2022-09-09T12:29:10.404Z"
   },
   {
    "duration": 25,
    "start_time": "2022-09-09T12:29:11.497Z"
   },
   {
    "duration": 170,
    "start_time": "2022-09-09T12:29:11.525Z"
   },
   {
    "duration": 4,
    "start_time": "2022-09-09T12:29:13.039Z"
   },
   {
    "duration": 3,
    "start_time": "2022-09-09T12:29:22.190Z"
   },
   {
    "duration": 4,
    "start_time": "2022-09-09T12:29:25.211Z"
   },
   {
    "duration": 3,
    "start_time": "2022-09-09T12:29:27.129Z"
   },
   {
    "duration": 4,
    "start_time": "2022-09-09T12:31:01.540Z"
   },
   {
    "duration": 5,
    "start_time": "2022-09-09T12:31:02.386Z"
   },
   {
    "duration": 3,
    "start_time": "2022-09-09T12:31:37.359Z"
   },
   {
    "duration": 5,
    "start_time": "2022-09-09T12:31:38.124Z"
   },
   {
    "duration": 3839,
    "start_time": "2022-09-09T12:31:39.087Z"
   },
   {
    "duration": 4,
    "start_time": "2022-09-09T12:33:16.202Z"
   },
   {
    "duration": 7,
    "start_time": "2022-09-09T12:33:16.517Z"
   },
   {
    "duration": 4009,
    "start_time": "2022-09-09T12:33:17.261Z"
   },
   {
    "duration": 4,
    "start_time": "2022-09-09T12:37:47.590Z"
   },
   {
    "duration": 3884,
    "start_time": "2022-09-09T12:37:48.099Z"
   },
   {
    "duration": 3770,
    "start_time": "2022-09-09T12:38:01.781Z"
   },
   {
    "duration": 4,
    "start_time": "2022-09-09T12:38:09.681Z"
   },
   {
    "duration": 3,
    "start_time": "2022-09-09T12:38:12.380Z"
   },
   {
    "duration": 8,
    "start_time": "2022-09-09T12:38:12.865Z"
   },
   {
    "duration": 4141,
    "start_time": "2022-09-09T12:38:13.980Z"
   }
  ],
  "kernelspec": {
   "display_name": "Python 3 (ipykernel)",
   "language": "python",
   "name": "python3"
  },
  "language_info": {
   "codemirror_mode": {
    "name": "ipython",
    "version": 3
   },
   "file_extension": ".py",
   "mimetype": "text/x-python",
   "name": "python",
   "nbconvert_exporter": "python",
   "pygments_lexer": "ipython3",
   "version": "3.9.5"
  },
  "toc": {
   "base_numbering": 1,
   "nav_menu": {},
   "number_sections": true,
   "sideBar": true,
   "skip_h1_title": true,
   "title_cell": "Table of Contents",
   "title_sidebar": "Contents",
   "toc_cell": false,
   "toc_position": {
    "height": "calc(100% - 180px)",
    "left": "10px",
    "top": "150px",
    "width": "302.214px"
   },
   "toc_section_display": true,
   "toc_window_display": true
  }
 },
 "nbformat": 4,
 "nbformat_minor": 2
}
