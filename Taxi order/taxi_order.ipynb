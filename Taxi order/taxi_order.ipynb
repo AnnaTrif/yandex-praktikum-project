{
 "cells": [
  {
   "cell_type": "markdown",
   "metadata": {
    "toc": true
   },
   "source": [
    "<h1>Содержание<span class=\"tocSkip\"></span></h1>\n",
    "<div class=\"toc\"><ul class=\"toc-item\"><li><span><a href=\"#Подготовка\" data-toc-modified-id=\"Подготовка-1\"><span class=\"toc-item-num\">1&nbsp;&nbsp;</span>Подготовка</a></span><ul class=\"toc-item\"><li><span><a href=\"#Вывод\" data-toc-modified-id=\"Вывод-1.1\"><span class=\"toc-item-num\">1.1&nbsp;&nbsp;</span>Вывод</a></span></li></ul></li><li><span><a href=\"#Анализ\" data-toc-modified-id=\"Анализ-2\"><span class=\"toc-item-num\">2&nbsp;&nbsp;</span>Анализ</a></span><ul class=\"toc-item\"><li><span><a href=\"#Вывод\" data-toc-modified-id=\"Вывод-2.1\"><span class=\"toc-item-num\">2.1&nbsp;&nbsp;</span>Вывод</a></span></li></ul></li><li><span><a href=\"#Обучение\" data-toc-modified-id=\"Обучение-3\"><span class=\"toc-item-num\">3&nbsp;&nbsp;</span>Обучение</a></span></li><li><span><a href=\"#Тестирование\" data-toc-modified-id=\"Тестирование-4\"><span class=\"toc-item-num\">4&nbsp;&nbsp;</span>Тестирование</a></span></li><li><span><a href=\"#Вывод\" data-toc-modified-id=\"Вывод-5\"><span class=\"toc-item-num\">5&nbsp;&nbsp;</span>Вывод</a></span></li><li><span><a href=\"#Чек-лист-проверки\" data-toc-modified-id=\"Чек-лист-проверки-6\"><span class=\"toc-item-num\">6&nbsp;&nbsp;</span>Чек-лист проверки</a></span></li></ul></div>"
   ]
  },
  {
   "cell_type": "markdown",
   "metadata": {},
   "source": [
    "#  Прогнозирование заказов такси"
   ]
  },
  {
   "cell_type": "markdown",
   "metadata": {},
   "source": [
    "Компания собрала исторические данные о заказах такси в аэропортах. Чтобы привлекать больше водителей в период пиковой нагрузки, нужно спрогнозировать количество заказов такси на следующий час. Постройте модель для такого предсказания.\n",
    "\n",
    "Значение метрики *RMSE* на тестовой выборке должно быть не больше 48.\n",
    "\n",
    "Вам нужно:\n",
    "\n",
    "1. Загрузить данные и выполнить их ресемплирование по одному часу.\n",
    "2. Проанализировать данные.\n",
    "3. Обучить разные модели с различными гиперпараметрами. Сделать тестовую выборку размером 10% от исходных данных.\n",
    "4. Проверить данные на тестовой выборке и сделать выводы.\n",
    "\n",
    "\n",
    "Данные лежат в файле `taxi.csv`. Количество заказов находится в столбце `num_orders` (от англ. *number of orders*, «число заказов»)."
   ]
  },
  {
   "cell_type": "markdown",
   "metadata": {},
   "source": [
    "## Подготовка"
   ]
  },
  {
   "cell_type": "code",
   "execution_count": 1,
   "metadata": {},
   "outputs": [],
   "source": [
    "# импортирование библиотек\n",
    "import pandas as pd\n",
    "import numpy as np\n",
    "import matplotlib.pyplot as plt\n",
    "from statsmodels.tsa.seasonal import seasonal_decompose\n",
    "from sklearn.model_selection import train_test_split\n",
    "from sklearn.linear_model import LinearRegression\n",
    "from sklearn.metrics import mean_squared_error\n",
    "from sklearn.ensemble import RandomForestRegressor\n",
    "from lightgbm import LGBMRegressor\n",
    "from sklearn.model_selection import cross_val_score\n",
    "from sklearn.model_selection import TimeSeriesSplit"
   ]
  },
  {
   "cell_type": "code",
   "execution_count": 2,
   "metadata": {},
   "outputs": [
    {
     "data": {
      "text/html": [
       "<div>\n",
       "<style scoped>\n",
       "    .dataframe tbody tr th:only-of-type {\n",
       "        vertical-align: middle;\n",
       "    }\n",
       "\n",
       "    .dataframe tbody tr th {\n",
       "        vertical-align: top;\n",
       "    }\n",
       "\n",
       "    .dataframe thead th {\n",
       "        text-align: right;\n",
       "    }\n",
       "</style>\n",
       "<table border=\"1\" class=\"dataframe\">\n",
       "  <thead>\n",
       "    <tr style=\"text-align: right;\">\n",
       "      <th></th>\n",
       "      <th>num_orders</th>\n",
       "    </tr>\n",
       "    <tr>\n",
       "      <th>datetime</th>\n",
       "      <th></th>\n",
       "    </tr>\n",
       "  </thead>\n",
       "  <tbody>\n",
       "    <tr>\n",
       "      <th>2018-03-01 00:00:00</th>\n",
       "      <td>9</td>\n",
       "    </tr>\n",
       "    <tr>\n",
       "      <th>2018-03-01 00:10:00</th>\n",
       "      <td>14</td>\n",
       "    </tr>\n",
       "    <tr>\n",
       "      <th>2018-03-01 00:20:00</th>\n",
       "      <td>28</td>\n",
       "    </tr>\n",
       "    <tr>\n",
       "      <th>2018-03-01 00:30:00</th>\n",
       "      <td>20</td>\n",
       "    </tr>\n",
       "    <tr>\n",
       "      <th>2018-03-01 00:40:00</th>\n",
       "      <td>32</td>\n",
       "    </tr>\n",
       "  </tbody>\n",
       "</table>\n",
       "</div>"
      ],
      "text/plain": [
       "                     num_orders\n",
       "datetime                       \n",
       "2018-03-01 00:00:00           9\n",
       "2018-03-01 00:10:00          14\n",
       "2018-03-01 00:20:00          28\n",
       "2018-03-01 00:30:00          20\n",
       "2018-03-01 00:40:00          32"
      ]
     },
     "execution_count": 2,
     "metadata": {},
     "output_type": "execute_result"
    }
   ],
   "source": [
    "# чтение файла\n",
    "# сортировка индексов таблицы\n",
    "data = pd.read_csv('/datasets/taxi.csv', parse_dates = [0], index_col = [0])\n",
    "data.sort_index(inplace=True)\n",
    "data.head()"
   ]
  },
  {
   "cell_type": "code",
   "execution_count": 3,
   "metadata": {},
   "outputs": [
    {
     "name": "stdout",
     "output_type": "stream",
     "text": [
      "<class 'pandas.core.frame.DataFrame'>\n",
      "DatetimeIndex: 26496 entries, 2018-03-01 00:00:00 to 2018-08-31 23:50:00\n",
      "Data columns (total 1 columns):\n",
      " #   Column      Non-Null Count  Dtype\n",
      "---  ------      --------------  -----\n",
      " 0   num_orders  26496 non-null  int64\n",
      "dtypes: int64(1)\n",
      "memory usage: 414.0 KB\n"
     ]
    }
   ],
   "source": [
    "data.info()"
   ]
  },
  {
   "cell_type": "code",
   "execution_count": 4,
   "metadata": {},
   "outputs": [
    {
     "data": {
      "text/html": [
       "<div>\n",
       "<style scoped>\n",
       "    .dataframe tbody tr th:only-of-type {\n",
       "        vertical-align: middle;\n",
       "    }\n",
       "\n",
       "    .dataframe tbody tr th {\n",
       "        vertical-align: top;\n",
       "    }\n",
       "\n",
       "    .dataframe thead th {\n",
       "        text-align: right;\n",
       "    }\n",
       "</style>\n",
       "<table border=\"1\" class=\"dataframe\">\n",
       "  <thead>\n",
       "    <tr style=\"text-align: right;\">\n",
       "      <th></th>\n",
       "      <th>num_orders</th>\n",
       "    </tr>\n",
       "    <tr>\n",
       "      <th>datetime</th>\n",
       "      <th></th>\n",
       "    </tr>\n",
       "  </thead>\n",
       "  <tbody>\n",
       "    <tr>\n",
       "      <th>2018-03-01 00:00:00</th>\n",
       "      <td>124</td>\n",
       "    </tr>\n",
       "    <tr>\n",
       "      <th>2018-03-01 01:00:00</th>\n",
       "      <td>85</td>\n",
       "    </tr>\n",
       "    <tr>\n",
       "      <th>2018-03-01 02:00:00</th>\n",
       "      <td>71</td>\n",
       "    </tr>\n",
       "    <tr>\n",
       "      <th>2018-03-01 03:00:00</th>\n",
       "      <td>66</td>\n",
       "    </tr>\n",
       "    <tr>\n",
       "      <th>2018-03-01 04:00:00</th>\n",
       "      <td>43</td>\n",
       "    </tr>\n",
       "  </tbody>\n",
       "</table>\n",
       "</div>"
      ],
      "text/plain": [
       "                     num_orders\n",
       "datetime                       \n",
       "2018-03-01 00:00:00         124\n",
       "2018-03-01 01:00:00          85\n",
       "2018-03-01 02:00:00          71\n",
       "2018-03-01 03:00:00          66\n",
       "2018-03-01 04:00:00          43"
      ]
     },
     "execution_count": 4,
     "metadata": {},
     "output_type": "execute_result"
    }
   ],
   "source": [
    "# ресемплирование по одному часу\n",
    "# суммирование количества заказов\n",
    "data = data.resample('1H').sum()\n",
    "data.head()"
   ]
  },
  {
   "cell_type": "markdown",
   "metadata": {},
   "source": [
    "### Вывод"
   ]
  },
  {
   "cell_type": "markdown",
   "metadata": {},
   "source": [
    "Проведено ресемплирование по одному часу и суммирование количества заказов."
   ]
  },
  {
   "cell_type": "markdown",
   "metadata": {},
   "source": [
    "## Анализ"
   ]
  },
  {
   "cell_type": "code",
   "execution_count": 5,
   "metadata": {},
   "outputs": [],
   "source": [
    "# разложение временного ряда на сезонность,\n",
    "# тренд и остаток\n",
    "decomposed = seasonal_decompose(data)"
   ]
  },
  {
   "cell_type": "code",
   "execution_count": 6,
   "metadata": {},
   "outputs": [
    {
     "data": {
      "image/png": "[encoded data removed]",
      "text/plain": [
       "<Figure size 864x1440 with 2 Axes>"
      ]
     },
     "metadata": {
      "needs_background": "light"
     },
     "output_type": "display_data"
    }
   ],
   "source": [
    "# построение графиков тренда и сезонности\n",
    "plt.figure(figsize=(12,20))\n",
    "plt.subplot(311)\n",
    "decomposed.trend.plot(ax=plt.gca())\n",
    "plt.title('Trend')\n",
    "\n",
    "plt.subplot(312)\n",
    "decomposed.seasonal['2018-03-01':'2018-03-03'].plot(ax=plt.gca())\n",
    "plt.title('Seasonality')\n",
    "\n",
    "plt.tight_layout()"
   ]
  },
  {
   "cell_type": "code",
   "execution_count": 7,
   "metadata": {},
   "outputs": [
    {
     "data": {
      "text/plain": [
       "<AxesSubplot:xlabel='datetime'>"
      ]
     },
     "execution_count": 7,
     "metadata": {},
     "output_type": "execute_result"
    },
    {
     "data": {
      "image/png": "[encoded data removed]",
      "text/plain": [
       "<Figure size 936x720 with 1 Axes>"
      ]
     },
     "metadata": {
      "needs_background": "light"
     },
     "output_type": "display_data"
    }
   ],
   "source": [
    "data['mean'] = data['num_orders'].rolling(24*7).mean()\n",
    "data['std'] = data['num_orders'].rolling(24*7).std()\n",
    "data.plot(figsize = (13,10)) "
   ]
  },
  {
   "cell_type": "markdown",
   "metadata": {},
   "source": [
    "### Вывод"
   ]
  },
  {
   "cell_type": "markdown",
   "metadata": {},
   "source": [
    "- Выполнено разложение временного ряда на сезонность, тренд и остаток. Проанализированы первые 2 параметра:\n",
    "    - Тренд связан с временем года. Спрос на такси увеличивается к отпускному сезону, с марта по август он постепенно возрастает.\n",
    "    - Сезонность связана с временем суток. С раннего утра до полуночи спрос растёт, затем постепенно ослабевает.\n",
    "- Проведён анализ скользящего отклонения. Ряд приведён к стационарному виду."
   ]
  },
  {
   "cell_type": "markdown",
   "metadata": {},
   "source": [
    "## Обучение"
   ]
  },
  {
   "cell_type": "code",
   "execution_count": 9,
   "metadata": {},
   "outputs": [
    {
     "data": {
      "text/html": [
       "<div>\n",
       "<style scoped>\n",
       "    .dataframe tbody tr th:only-of-type {\n",
       "        vertical-align: middle;\n",
       "    }\n",
       "\n",
       "    .dataframe tbody tr th {\n",
       "        vertical-align: top;\n",
       "    }\n",
       "\n",
       "    .dataframe thead th {\n",
       "        text-align: right;\n",
       "    }\n",
       "</style>\n",
       "<table border=\"1\" class=\"dataframe\">\n",
       "  <thead>\n",
       "    <tr style=\"text-align: right;\">\n",
       "      <th></th>\n",
       "      <th>num_orders</th>\n",
       "      <th>mean</th>\n",
       "      <th>std</th>\n",
       "    </tr>\n",
       "    <tr>\n",
       "      <th>datetime</th>\n",
       "      <th></th>\n",
       "      <th></th>\n",
       "      <th></th>\n",
       "    </tr>\n",
       "  </thead>\n",
       "  <tbody>\n",
       "    <tr>\n",
       "      <th>2018-03-01 00:00:00</th>\n",
       "      <td>124</td>\n",
       "      <td>NaN</td>\n",
       "      <td>NaN</td>\n",
       "    </tr>\n",
       "    <tr>\n",
       "      <th>2018-03-01 01:00:00</th>\n",
       "      <td>85</td>\n",
       "      <td>NaN</td>\n",
       "      <td>NaN</td>\n",
       "    </tr>\n",
       "    <tr>\n",
       "      <th>2018-03-01 02:00:00</th>\n",
       "      <td>71</td>\n",
       "      <td>NaN</td>\n",
       "      <td>NaN</td>\n",
       "    </tr>\n",
       "    <tr>\n",
       "      <th>2018-03-01 03:00:00</th>\n",
       "      <td>66</td>\n",
       "      <td>NaN</td>\n",
       "      <td>NaN</td>\n",
       "    </tr>\n",
       "    <tr>\n",
       "      <th>2018-03-01 04:00:00</th>\n",
       "      <td>43</td>\n",
       "      <td>NaN</td>\n",
       "      <td>NaN</td>\n",
       "    </tr>\n",
       "  </tbody>\n",
       "</table>\n",
       "</div>"
      ],
      "text/plain": [
       "                     num_orders  mean  std\n",
       "datetime                                  \n",
       "2018-03-01 00:00:00         124   NaN  NaN\n",
       "2018-03-01 01:00:00          85   NaN  NaN\n",
       "2018-03-01 02:00:00          71   NaN  NaN\n",
       "2018-03-01 03:00:00          66   NaN  NaN\n",
       "2018-03-01 04:00:00          43   NaN  NaN"
      ]
     },
     "execution_count": 9,
     "metadata": {},
     "output_type": "execute_result"
    }
   ],
   "source": [
    "data_new = data.copy(deep=True)\n",
    "data_new.head()"
   ]
  },
  {
   "cell_type": "code",
   "execution_count": 10,
   "metadata": {
    "scrolled": false
   },
   "outputs": [],
   "source": [
    "# создание признаков для горизонта прогнозирования в одиг шаг\n",
    "def make_features(data, max_lag, rolling_mean_size):\n",
    "    data['year'] = data.index.year\n",
    "    data['month'] = data.index.month\n",
    "    data['day'] = data.index.day\n",
    "    data['dayofweek'] = data.index.dayofweek\n",
    "    \n",
    "    for lag in range(1, max_lag + 1):\n",
    "        data['lag_{}'.format(lag)] = data['num_orders'].shift(lag)\n",
    "\n",
    "    data['rolling_mean'] = data['num_orders'].shift().rolling(rolling_mean_size).mean()\n",
    "    \n",
    "\n",
    "make_features(data_new, 25, 24)"
   ]
  },
  {
   "cell_type": "code",
   "execution_count": 11,
   "metadata": {},
   "outputs": [],
   "source": [
    "data_new = data_new.drop(['mean','std'], axis=1)"
   ]
  },
  {
   "cell_type": "code",
   "execution_count": 12,
   "metadata": {},
   "outputs": [
    {
     "data": {
      "text/html": [
       "<div>\n",
       "<style scoped>\n",
       "    .dataframe tbody tr th:only-of-type {\n",
       "        vertical-align: middle;\n",
       "    }\n",
       "\n",
       "    .dataframe tbody tr th {\n",
       "        vertical-align: top;\n",
       "    }\n",
       "\n",
       "    .dataframe thead th {\n",
       "        text-align: right;\n",
       "    }\n",
       "</style>\n",
       "<table border=\"1\" class=\"dataframe\">\n",
       "  <thead>\n",
       "    <tr style=\"text-align: right;\">\n",
       "      <th></th>\n",
       "      <th>num_orders</th>\n",
       "      <th>year</th>\n",
       "      <th>month</th>\n",
       "      <th>day</th>\n",
       "      <th>dayofweek</th>\n",
       "      <th>lag_1</th>\n",
       "      <th>lag_2</th>\n",
       "      <th>lag_3</th>\n",
       "      <th>lag_4</th>\n",
       "      <th>lag_5</th>\n",
       "      <th>...</th>\n",
       "      <th>lag_17</th>\n",
       "      <th>lag_18</th>\n",
       "      <th>lag_19</th>\n",
       "      <th>lag_20</th>\n",
       "      <th>lag_21</th>\n",
       "      <th>lag_22</th>\n",
       "      <th>lag_23</th>\n",
       "      <th>lag_24</th>\n",
       "      <th>lag_25</th>\n",
       "      <th>rolling_mean</th>\n",
       "    </tr>\n",
       "    <tr>\n",
       "      <th>datetime</th>\n",
       "      <th></th>\n",
       "      <th></th>\n",
       "      <th></th>\n",
       "      <th></th>\n",
       "      <th></th>\n",
       "      <th></th>\n",
       "      <th></th>\n",
       "      <th></th>\n",
       "      <th></th>\n",
       "      <th></th>\n",
       "      <th></th>\n",
       "      <th></th>\n",
       "      <th></th>\n",
       "      <th></th>\n",
       "      <th></th>\n",
       "      <th></th>\n",
       "      <th></th>\n",
       "      <th></th>\n",
       "      <th></th>\n",
       "      <th></th>\n",
       "      <th></th>\n",
       "    </tr>\n",
       "  </thead>\n",
       "  <tbody>\n",
       "    <tr>\n",
       "      <th>2018-03-01 00:00:00</th>\n",
       "      <td>124</td>\n",
       "      <td>2018</td>\n",
       "      <td>3</td>\n",
       "      <td>1</td>\n",
       "      <td>3</td>\n",
       "      <td>NaN</td>\n",
       "      <td>NaN</td>\n",
       "      <td>NaN</td>\n",
       "      <td>NaN</td>\n",
       "      <td>NaN</td>\n",
       "      <td>...</td>\n",
       "      <td>NaN</td>\n",
       "      <td>NaN</td>\n",
       "      <td>NaN</td>\n",
       "      <td>NaN</td>\n",
       "      <td>NaN</td>\n",
       "      <td>NaN</td>\n",
       "      <td>NaN</td>\n",
       "      <td>NaN</td>\n",
       "      <td>NaN</td>\n",
       "      <td>NaN</td>\n",
       "    </tr>\n",
       "    <tr>\n",
       "      <th>2018-03-01 01:00:00</th>\n",
       "      <td>85</td>\n",
       "      <td>2018</td>\n",
       "      <td>3</td>\n",
       "      <td>1</td>\n",
       "      <td>3</td>\n",
       "      <td>124.0</td>\n",
       "      <td>NaN</td>\n",
       "      <td>NaN</td>\n",
       "      <td>NaN</td>\n",
       "      <td>NaN</td>\n",
       "      <td>...</td>\n",
       "      <td>NaN</td>\n",
       "      <td>NaN</td>\n",
       "      <td>NaN</td>\n",
       "      <td>NaN</td>\n",
       "      <td>NaN</td>\n",
       "      <td>NaN</td>\n",
       "      <td>NaN</td>\n",
       "      <td>NaN</td>\n",
       "      <td>NaN</td>\n",
       "      <td>NaN</td>\n",
       "    </tr>\n",
       "    <tr>\n",
       "      <th>2018-03-01 02:00:00</th>\n",
       "      <td>71</td>\n",
       "      <td>2018</td>\n",
       "      <td>3</td>\n",
       "      <td>1</td>\n",
       "      <td>3</td>\n",
       "      <td>85.0</td>\n",
       "      <td>124.0</td>\n",
       "      <td>NaN</td>\n",
       "      <td>NaN</td>\n",
       "      <td>NaN</td>\n",
       "      <td>...</td>\n",
       "      <td>NaN</td>\n",
       "      <td>NaN</td>\n",
       "      <td>NaN</td>\n",
       "      <td>NaN</td>\n",
       "      <td>NaN</td>\n",
       "      <td>NaN</td>\n",
       "      <td>NaN</td>\n",
       "      <td>NaN</td>\n",
       "      <td>NaN</td>\n",
       "      <td>NaN</td>\n",
       "    </tr>\n",
       "    <tr>\n",
       "      <th>2018-03-01 03:00:00</th>\n",
       "      <td>66</td>\n",
       "      <td>2018</td>\n",
       "      <td>3</td>\n",
       "      <td>1</td>\n",
       "      <td>3</td>\n",
       "      <td>71.0</td>\n",
       "      <td>85.0</td>\n",
       "      <td>124.0</td>\n",
       "      <td>NaN</td>\n",
       "      <td>NaN</td>\n",
       "      <td>...</td>\n",
       "      <td>NaN</td>\n",
       "      <td>NaN</td>\n",
       "      <td>NaN</td>\n",
       "      <td>NaN</td>\n",
       "      <td>NaN</td>\n",
       "      <td>NaN</td>\n",
       "      <td>NaN</td>\n",
       "      <td>NaN</td>\n",
       "      <td>NaN</td>\n",
       "      <td>NaN</td>\n",
       "    </tr>\n",
       "    <tr>\n",
       "      <th>2018-03-01 04:00:00</th>\n",
       "      <td>43</td>\n",
       "      <td>2018</td>\n",
       "      <td>3</td>\n",
       "      <td>1</td>\n",
       "      <td>3</td>\n",
       "      <td>66.0</td>\n",
       "      <td>71.0</td>\n",
       "      <td>85.0</td>\n",
       "      <td>124.0</td>\n",
       "      <td>NaN</td>\n",
       "      <td>...</td>\n",
       "      <td>NaN</td>\n",
       "      <td>NaN</td>\n",
       "      <td>NaN</td>\n",
       "      <td>NaN</td>\n",
       "      <td>NaN</td>\n",
       "      <td>NaN</td>\n",
       "      <td>NaN</td>\n",
       "      <td>NaN</td>\n",
       "      <td>NaN</td>\n",
       "      <td>NaN</td>\n",
       "    </tr>\n",
       "  </tbody>\n",
       "</table>\n",
       "<p>5 rows × 31 columns</p>\n",
       "</div>"
      ],
      "text/plain": [
       "                     num_orders  year  month  day  dayofweek  lag_1  lag_2  \\\n",
       "datetime                                                                     \n",
       "2018-03-01 00:00:00         124  2018      3    1          3    NaN    NaN   \n",
       "2018-03-01 01:00:00          85  2018      3    1          3  124.0    NaN   \n",
       "2018-03-01 02:00:00          71  2018      3    1          3   85.0  124.0   \n",
       "2018-03-01 03:00:00          66  2018      3    1          3   71.0   85.0   \n",
       "2018-03-01 04:00:00          43  2018      3    1          3   66.0   71.0   \n",
       "\n",
       "                     lag_3  lag_4  lag_5  ...  lag_17  lag_18  lag_19  lag_20  \\\n",
       "datetime                                  ...                                   \n",
       "2018-03-01 00:00:00    NaN    NaN    NaN  ...     NaN     NaN     NaN     NaN   \n",
       "2018-03-01 01:00:00    NaN    NaN    NaN  ...     NaN     NaN     NaN     NaN   \n",
       "2018-03-01 02:00:00    NaN    NaN    NaN  ...     NaN     NaN     NaN     NaN   \n",
       "2018-03-01 03:00:00  124.0    NaN    NaN  ...     NaN     NaN     NaN     NaN   \n",
       "2018-03-01 04:00:00   85.0  124.0    NaN  ...     NaN     NaN     NaN     NaN   \n",
       "\n",
       "                     lag_21  lag_22  lag_23  lag_24  lag_25  rolling_mean  \n",
       "datetime                                                                   \n",
       "2018-03-01 00:00:00     NaN     NaN     NaN     NaN     NaN           NaN  \n",
       "2018-03-01 01:00:00     NaN     NaN     NaN     NaN     NaN           NaN  \n",
       "2018-03-01 02:00:00     NaN     NaN     NaN     NaN     NaN           NaN  \n",
       "2018-03-01 03:00:00     NaN     NaN     NaN     NaN     NaN           NaN  \n",
       "2018-03-01 04:00:00     NaN     NaN     NaN     NaN     NaN           NaN  \n",
       "\n",
       "[5 rows x 31 columns]"
      ]
     },
     "execution_count": 12,
     "metadata": {},
     "output_type": "execute_result"
    }
   ],
   "source": [
    "data_new.head()"
   ]
  },
  {
   "cell_type": "code",
   "execution_count": 93,
   "metadata": {},
   "outputs": [],
   "source": [
    "# деление исходного набора данных на две выборки: обучающую и тестовую\n",
    "# под обучающую отвела 90%, под тестовую - 10%\n",
    "train, test = train_test_split(data_new,\n",
    "                               shuffle=False,\n",
    "                               test_size = 0.1)"
   ]
  },
  {
   "cell_type": "code",
   "execution_count": 94,
   "metadata": {},
   "outputs": [],
   "source": [
    "# удаление пропусков \n",
    "train = train.dropna()\n",
    "\n",
    "features_train = train.drop(['num_orders'], axis=1)\n",
    "target_train = train['num_orders']\n",
    "features_test = test.drop(['num_orders'], axis=1)\n",
    "target_test = test['num_orders']"
   ]
  },
  {
   "cell_type": "code",
   "execution_count": 95,
   "metadata": {},
   "outputs": [
    {
     "name": "stdout",
     "output_type": "stream",
     "text": [
      "Значение RSME: 25.7759432278792\n"
     ]
    }
   ],
   "source": [
    "model_1 = LinearRegression()\n",
    "model_1.fit(features_train, target_train)\n",
    "pred_train_1 = model_1.predict(features_train)\n",
    "rmse_train_1 = mean_squared_error(target_train, pred_train_1)**0.5\n",
    "print('Значение RSME:', rmse_train_1)"
   ]
  },
  {
   "cell_type": "code",
   "execution_count": 98,
   "metadata": {},
   "outputs": [
    {
     "name": "stdout",
     "output_type": "stream",
     "text": [
      "Лучшее значение RSME: 26.814530362718074 Количество деревьев: 50 Глубина дерева: 7\n"
     ]
    }
   ],
   "source": [
    "best_model_2 = None\n",
    "best_result_2 = 48\n",
    "best_est_2 = 0\n",
    "best_depth_2 = 0 \n",
    "\n",
    "for est in range(10,51,5):\n",
    "    for depth in range(1,8):\n",
    "        model_2 = RandomForestRegressor(random_state = 12345,\n",
    "                                        n_estimators = est,\n",
    "                                        max_depth = depth)\n",
    "        result_2 = cross_val_score(model_2, features_train, target_train, \n",
    "                                   cv = TimeSeriesSplit(n_splits = 5),\n",
    "                                   scoring = 'neg_mean_squared_error')\n",
    "        result_2 = np.mean(np.sqrt(np.abs(result_2)))\n",
    "        \n",
    "        if result_2 < best_result_2:\n",
    "            best_model_2 = model_2\n",
    "            best_result_2 = result_2\n",
    "            best_est_2 = est\n",
    "            best_depth_2 = depth\n",
    "\n",
    "print('Лучшее значение RSME:', best_result_2, \n",
    "      'Количество деревьев:', best_est_2,\n",
    "      'Глубина дерева:', best_depth_2)"
   ]
  },
  {
   "cell_type": "code",
   "execution_count": 100,
   "metadata": {},
   "outputs": [
    {
     "name": "stdout",
     "output_type": "stream",
     "text": [
      "Лучшее значение RSME: 25.647619375109734 Количество деревьев: 50 Глубина дерева: 7\n"
     ]
    }
   ],
   "source": [
    "best_model_3 = None\n",
    "best_result_3 = 48\n",
    "best_est_3 = 0\n",
    "best_depth_3 = 0 \n",
    "\n",
    "for est in range(10,51,5):\n",
    "    for depth in range(1,8):\n",
    "        model_3 = LGBMRegressor(n_estimators = est, \n",
    "                                max_depth = depth)\n",
    "        result_3 = cross_val_score(model_3, features_train, target_train, \n",
    "                                   cv = TimeSeriesSplit(n_splits = 5),\n",
    "                                   scoring = 'neg_mean_squared_error')\n",
    "        result_3 = np.mean(np.sqrt(np.abs(result_3)))\n",
    "        \n",
    "        if result_3 < best_result_3:\n",
    "            best_model_3 = model_3\n",
    "            best_result_3 = result_3\n",
    "            best_est_3 = est\n",
    "            best_depth_3 = depth\n",
    "\n",
    "print('Лучшее значение RSME:', best_result_3, \n",
    "      'Количество деревьев:', best_est_3,\n",
    "      'Глубина дерева:', best_depth_3)"
   ]
  },
  {
   "cell_type": "markdown",
   "metadata": {},
   "source": [
    "## Тестирование"
   ]
  },
  {
   "cell_type": "code",
   "execution_count": 101,
   "metadata": {},
   "outputs": [
    {
     "name": "stdout",
     "output_type": "stream",
     "text": [
      "Значение RSME: 45.671435011292836\n"
     ]
    }
   ],
   "source": [
    "pred_test_1 = model_1.predict(features_test)\n",
    "rmse_test_1 = mean_squared_error(target_test, pred_test_1)**0.5\n",
    "predictions_1 = list(pred_test_1)\n",
    "print('Значение RSME:', rmse_test_1)"
   ]
  },
  {
   "cell_type": "code",
   "execution_count": 102,
   "metadata": {},
   "outputs": [
    {
     "data": {
      "text/plain": [
       "Text(0.5, 1.0, 'Predictions')"
      ]
     },
     "execution_count": 102,
     "metadata": {},
     "output_type": "execute_result"
    },
    {
     "data": {
      "image/png": "[encoded data removed]",
      "text/plain": [
       "<Figure size 1080x504 with 1 Axes>"
      ]
     },
     "metadata": {
      "needs_background": "light"
     },
     "output_type": "display_data"
    },
    {
     "data": {
      "image/png": "[encoded data removed]",
      "text/plain": [
       "<Figure size 1080x504 with 1 Axes>"
      ]
     },
     "metadata": {
      "needs_background": "light"
     },
     "output_type": "display_data"
    }
   ],
   "source": [
    "plt.figure(figsize=(15, 7))\n",
    "plt.grid()\n",
    "plt.plot(target_test, label='test')\n",
    "plt.xlabel('datetime')\n",
    "plt.ylabel('frequency')\n",
    "plt.title('Target', fontsize=15)\n",
    "\n",
    "plt.figure(figsize=(15, 7))\n",
    "plt.grid()\n",
    "plt.plot(predictions_1, label='predictions')\n",
    "plt.xlabel('datetime')\n",
    "plt.ylabel('frequency')\n",
    "plt.title('Predictions', fontsize=15)"
   ]
  },
  {
   "cell_type": "code",
   "execution_count": 103,
   "metadata": {},
   "outputs": [
    {
     "name": "stdout",
     "output_type": "stream",
     "text": [
      "Значение RSME: 45.60260513374894\n"
     ]
    }
   ],
   "source": [
    "best_model_2.fit(features_train, target_train)\n",
    "pred_test_2 = best_model_2.predict(features_test)\n",
    "rmse_test_2 = mean_squared_error(target_test, pred_test_2)**0.5\n",
    "predictions_2 = list(pred_test_2)\n",
    "print('Значение RSME:', rmse_test_2)"
   ]
  },
  {
   "cell_type": "code",
   "execution_count": 104,
   "metadata": {},
   "outputs": [
    {
     "data": {
      "text/plain": [
       "Text(0.5, 1.0, 'Predictions')"
      ]
     },
     "execution_count": 104,
     "metadata": {},
     "output_type": "execute_result"
    },
    {
     "data": {
      "image/png": "[encoded data removed]",
      "text/plain": [
       "<Figure size 1080x504 with 1 Axes>"
      ]
     },
     "metadata": {
      "needs_background": "light"
     },
     "output_type": "display_data"
    },
    {
     "data": {
      "image/png": "[encoded data removed]",
      "text/plain": [
       "<Figure size 1080x504 with 1 Axes>"
      ]
     },
     "metadata": {
      "needs_background": "light"
     },
     "output_type": "display_data"
    }
   ],
   "source": [
    "plt.figure(figsize=(15, 7))\n",
    "plt.grid()\n",
    "plt.plot(target_test, label='test')\n",
    "plt.xlabel('datetime')\n",
    "plt.ylabel('frequency')\n",
    "plt.title('Target', fontsize=15)\n",
    "\n",
    "plt.figure(figsize=(15, 7))\n",
    "plt.grid()\n",
    "plt.plot(predictions_2, label='predictions')\n",
    "plt.xlabel('datetime')\n",
    "plt.ylabel('frequency')\n",
    "plt.title('Predictions', fontsize=15)"
   ]
  },
  {
   "cell_type": "code",
   "execution_count": 105,
   "metadata": {},
   "outputs": [
    {
     "name": "stdout",
     "output_type": "stream",
     "text": [
      "Значение RSME: 44.255081542403936\n"
     ]
    }
   ],
   "source": [
    "best_model_3.fit(features_train, target_train)\n",
    "pred_test_3 = best_model_3.predict(features_test)\n",
    "rmse_test_3 = mean_squared_error(target_test, pred_test_3)**0.5\n",
    "predictions_3 = list(pred_test_3)\n",
    "print('Значение RSME:', rmse_test_3)"
   ]
  },
  {
   "cell_type": "code",
   "execution_count": 106,
   "metadata": {},
   "outputs": [
    {
     "data": {
      "text/plain": [
       "Text(0.5, 1.0, 'Predictions')"
      ]
     },
     "execution_count": 106,
     "metadata": {},
     "output_type": "execute_result"
    },
    {
     "data": {
      "image/png": "[encoded data removed]",
      "text/plain": [
       "<Figure size 1080x504 with 1 Axes>"
      ]
     },
     "metadata": {
      "needs_background": "light"
     },
     "output_type": "display_data"
    },
    {
     "data": {
      "image/png": "[encoded data removed]",
      "text/plain": [
       "<Figure size 1080x504 with 1 Axes>"
      ]
     },
     "metadata": {
      "needs_background": "light"
     },
     "output_type": "display_data"
    }
   ],
   "source": [
    "plt.figure(figsize=(15, 7))\n",
    "plt.grid()\n",
    "plt.plot(target_test, label='test')\n",
    "plt.xlabel('datetime')\n",
    "plt.ylabel('frequency')\n",
    "plt.title('Target', fontsize=15)\n",
    "\n",
    "plt.figure(figsize=(15, 7))\n",
    "plt.grid()\n",
    "plt.plot(predictions_3, label='predictions')\n",
    "plt.xlabel('datetime')\n",
    "plt.ylabel('frequency')\n",
    "plt.title('Predictions', fontsize=15)"
   ]
  },
  {
   "cell_type": "markdown",
   "metadata": {},
   "source": [
    "## Вывод"
   ]
  },
  {
   "cell_type": "markdown",
   "metadata": {},
   "source": [
    "Была построена модель для спрогнозирования количества заказов такси на следующий час. Все значения метрики качества приведены к нужному значению. Лучший результат метрики качества показала модель LGBMRegressor."
   ]
  }
 ],
 "metadata": {
  "ExecuteTimeLog": [
   {
    "duration": 407,
    "start_time": "2022-11-09T09:19:22.632Z"
   },
   {
    "duration": 122,
    "start_time": "2022-11-09T09:19:51.588Z"
   },
   {
    "duration": 69,
    "start_time": "2022-11-09T09:23:24.066Z"
   },
   {
    "duration": 10,
    "start_time": "2022-11-09T09:23:48.732Z"
   },
   {
    "duration": 48,
    "start_time": "2022-11-09T09:27:44.723Z"
   },
   {
    "duration": 44,
    "start_time": "2022-11-09T09:28:04.447Z"
   },
   {
    "duration": 11,
    "start_time": "2022-11-09T09:28:09.658Z"
   },
   {
    "duration": 52,
    "start_time": "2022-11-09T09:29:29.855Z"
   },
   {
    "duration": 11,
    "start_time": "2022-11-09T09:29:35.192Z"
   },
   {
    "duration": 13,
    "start_time": "2022-11-09T09:29:39.828Z"
   },
   {
    "duration": 11,
    "start_time": "2022-11-09T09:48:38.086Z"
   },
   {
    "duration": 8,
    "start_time": "2022-11-09T09:50:18.322Z"
   },
   {
    "duration": 6,
    "start_time": "2022-11-09T09:51:37.422Z"
   },
   {
    "duration": 6,
    "start_time": "2022-11-09T09:51:46.610Z"
   },
   {
    "duration": 8,
    "start_time": "2022-11-09T09:53:00.221Z"
   },
   {
    "duration": 8,
    "start_time": "2022-11-09T09:53:02.764Z"
   },
   {
    "duration": 11,
    "start_time": "2022-11-09T09:53:54.436Z"
   },
   {
    "duration": 6,
    "start_time": "2022-11-09T09:53:54.750Z"
   },
   {
    "duration": 7,
    "start_time": "2022-11-09T09:53:55.215Z"
   },
   {
    "duration": 7,
    "start_time": "2022-11-09T09:53:55.627Z"
   },
   {
    "duration": 2,
    "start_time": "2022-11-09T09:54:07.093Z"
   },
   {
    "duration": 47,
    "start_time": "2022-11-09T09:54:07.617Z"
   },
   {
    "duration": 10,
    "start_time": "2022-11-09T09:54:07.865Z"
   },
   {
    "duration": 14,
    "start_time": "2022-11-09T09:54:08.390Z"
   },
   {
    "duration": 5,
    "start_time": "2022-11-09T09:54:10.954Z"
   },
   {
    "duration": 7,
    "start_time": "2022-11-09T09:54:11.828Z"
   },
   {
    "duration": 6,
    "start_time": "2022-11-09T09:54:12.523Z"
   },
   {
    "duration": 7,
    "start_time": "2022-11-09T09:55:03.187Z"
   },
   {
    "duration": 10,
    "start_time": "2022-11-09T09:56:35.054Z"
   },
   {
    "duration": 602,
    "start_time": "2022-11-09T09:56:46.515Z"
   },
   {
    "duration": 394,
    "start_time": "2022-11-09T09:57:02.968Z"
   },
   {
    "duration": 52,
    "start_time": "2022-11-09T09:57:07.139Z"
   },
   {
    "duration": 11,
    "start_time": "2022-11-09T09:57:07.549Z"
   },
   {
    "duration": 12,
    "start_time": "2022-11-09T09:57:07.960Z"
   },
   {
    "duration": 6,
    "start_time": "2022-11-09T09:57:08.394Z"
   },
   {
    "duration": 7,
    "start_time": "2022-11-09T09:57:08.827Z"
   },
   {
    "duration": 7,
    "start_time": "2022-11-09T09:57:09.317Z"
   },
   {
    "duration": 18,
    "start_time": "2022-11-09T09:57:11.098Z"
   },
   {
    "duration": 49,
    "start_time": "2022-11-09T09:58:14.257Z"
   },
   {
    "duration": 12,
    "start_time": "2022-11-09T09:58:20.691Z"
   },
   {
    "duration": 13,
    "start_time": "2022-11-09T09:58:21.722Z"
   },
   {
    "duration": 6,
    "start_time": "2022-11-09T09:58:27.351Z"
   },
   {
    "duration": 8,
    "start_time": "2022-11-09T09:58:28.616Z"
   },
   {
    "duration": 8,
    "start_time": "2022-11-09T09:58:29.272Z"
   },
   {
    "duration": 10,
    "start_time": "2022-11-09T09:58:30.775Z"
   },
   {
    "duration": 1103,
    "start_time": "2022-11-09T09:59:33.998Z"
   },
   {
    "duration": 1049,
    "start_time": "2022-11-09T09:59:54.410Z"
   },
   {
    "duration": 12,
    "start_time": "2022-11-09T10:00:02.045Z"
   },
   {
    "duration": 11,
    "start_time": "2022-11-09T10:00:06.526Z"
   },
   {
    "duration": 13,
    "start_time": "2022-11-09T10:00:07.059Z"
   },
   {
    "duration": 4,
    "start_time": "2022-11-09T10:00:13.677Z"
   },
   {
    "duration": 49,
    "start_time": "2022-11-09T10:00:13.867Z"
   },
   {
    "duration": 11,
    "start_time": "2022-11-09T10:00:14.682Z"
   },
   {
    "duration": 14,
    "start_time": "2022-11-09T10:00:15.177Z"
   },
   {
    "duration": 6,
    "start_time": "2022-11-09T10:00:16.418Z"
   },
   {
    "duration": 8,
    "start_time": "2022-11-09T10:00:16.916Z"
   },
   {
    "duration": 8,
    "start_time": "2022-11-09T10:00:17.593Z"
   },
   {
    "duration": 12,
    "start_time": "2022-11-09T10:00:20.393Z"
   },
   {
    "duration": 1859,
    "start_time": "2022-11-09T10:00:59.430Z"
   },
   {
    "duration": 12,
    "start_time": "2022-11-09T10:01:36.087Z"
   },
   {
    "duration": 3,
    "start_time": "2022-11-09T10:03:36.347Z"
   },
   {
    "duration": 63,
    "start_time": "2022-11-09T10:03:36.767Z"
   },
   {
    "duration": 13,
    "start_time": "2022-11-09T10:03:37.395Z"
   },
   {
    "duration": 15,
    "start_time": "2022-11-09T10:03:38.426Z"
   },
   {
    "duration": 18,
    "start_time": "2022-11-09T10:04:38.369Z"
   },
   {
    "duration": 12,
    "start_time": "2022-11-09T10:04:46.994Z"
   },
   {
    "duration": 6,
    "start_time": "2022-11-09T10:04:53.817Z"
   },
   {
    "duration": 9,
    "start_time": "2022-11-09T10:04:54.470Z"
   },
   {
    "duration": 7,
    "start_time": "2022-11-09T10:04:56.451Z"
   },
   {
    "duration": 11,
    "start_time": "2022-11-09T10:04:58.418Z"
   },
   {
    "duration": 1138,
    "start_time": "2022-11-09T10:05:10.961Z"
   },
   {
    "duration": 111,
    "start_time": "2022-11-09T10:05:12.101Z"
   },
   {
    "duration": 14,
    "start_time": "2022-11-09T10:05:12.221Z"
   },
   {
    "duration": 24,
    "start_time": "2022-11-09T10:05:13.017Z"
   },
   {
    "duration": 6,
    "start_time": "2022-11-09T10:05:13.556Z"
   },
   {
    "duration": 9,
    "start_time": "2022-11-09T10:05:14.055Z"
   },
   {
    "duration": 8,
    "start_time": "2022-11-09T10:05:14.752Z"
   },
   {
    "duration": 111,
    "start_time": "2022-11-09T10:05:15.757Z"
   },
   {
    "duration": 6,
    "start_time": "2022-11-09T10:09:05.863Z"
   },
   {
    "duration": 3,
    "start_time": "2022-11-09T10:09:56.367Z"
   },
   {
    "duration": 49,
    "start_time": "2022-11-09T10:09:57.436Z"
   },
   {
    "duration": 13,
    "start_time": "2022-11-09T10:09:58.228Z"
   },
   {
    "duration": 8,
    "start_time": "2022-11-09T10:09:58.941Z"
   },
   {
    "duration": 1095,
    "start_time": "2022-11-09T10:10:11.018Z"
   },
   {
    "duration": 120,
    "start_time": "2022-11-09T10:10:12.115Z"
   },
   {
    "duration": 13,
    "start_time": "2022-11-09T10:10:12.238Z"
   },
   {
    "duration": 8,
    "start_time": "2022-11-09T10:10:12.612Z"
   },
   {
    "duration": 16,
    "start_time": "2022-11-09T10:10:15.150Z"
   },
   {
    "duration": 8,
    "start_time": "2022-11-09T10:10:18.411Z"
   },
   {
    "duration": 9,
    "start_time": "2022-11-09T10:10:21.007Z"
   },
   {
    "duration": 7,
    "start_time": "2022-11-09T10:10:22.953Z"
   },
   {
    "duration": 7,
    "start_time": "2022-11-09T10:10:38.929Z"
   },
   {
    "duration": 6,
    "start_time": "2022-11-09T10:10:39.647Z"
   },
   {
    "duration": 7,
    "start_time": "2022-11-09T10:10:40.051Z"
   },
   {
    "duration": 7,
    "start_time": "2022-11-09T10:10:40.824Z"
   },
   {
    "duration": 114,
    "start_time": "2022-11-09T10:10:56.788Z"
   },
   {
    "duration": 137,
    "start_time": "2022-11-09T10:13:55.956Z"
   },
   {
    "duration": 12,
    "start_time": "2022-11-09T10:15:32.182Z"
   },
   {
    "duration": 15,
    "start_time": "2022-11-09T10:15:38.073Z"
   },
   {
    "duration": 50,
    "start_time": "2022-11-09T10:15:53.307Z"
   },
   {
    "duration": 65,
    "start_time": "2022-11-09T10:16:19.102Z"
   },
   {
    "duration": 16,
    "start_time": "2022-11-09T10:16:28.942Z"
   },
   {
    "duration": 6,
    "start_time": "2022-11-09T10:16:33.819Z"
   },
   {
    "duration": 5,
    "start_time": "2022-11-09T10:16:34.525Z"
   },
   {
    "duration": 7,
    "start_time": "2022-11-09T10:16:35.364Z"
   },
   {
    "duration": 6,
    "start_time": "2022-11-09T10:16:36.177Z"
   },
   {
    "duration": 10,
    "start_time": "2022-11-09T10:16:37.476Z"
   },
   {
    "duration": 49,
    "start_time": "2022-11-09T10:17:05.552Z"
   },
   {
    "duration": 13,
    "start_time": "2022-11-09T10:17:28.770Z"
   },
   {
    "duration": 18,
    "start_time": "2022-11-09T10:17:29.059Z"
   },
   {
    "duration": 7,
    "start_time": "2022-11-09T10:17:29.282Z"
   },
   {
    "duration": 6,
    "start_time": "2022-11-09T10:17:29.727Z"
   },
   {
    "duration": 9,
    "start_time": "2022-11-09T10:17:30.003Z"
   },
   {
    "duration": 7,
    "start_time": "2022-11-09T10:17:30.222Z"
   },
   {
    "duration": 10,
    "start_time": "2022-11-09T10:17:31.228Z"
   },
   {
    "duration": 15,
    "start_time": "2022-11-09T10:25:34.821Z"
   },
   {
    "duration": 12,
    "start_time": "2022-11-09T10:25:43.731Z"
   },
   {
    "duration": 3,
    "start_time": "2022-11-09T10:25:48.953Z"
   },
   {
    "duration": 49,
    "start_time": "2022-11-09T10:25:49.170Z"
   },
   {
    "duration": 11,
    "start_time": "2022-11-09T10:25:49.870Z"
   },
   {
    "duration": 14,
    "start_time": "2022-11-09T10:25:50.199Z"
   },
   {
    "duration": 6,
    "start_time": "2022-11-09T10:25:51.883Z"
   },
   {
    "duration": 5,
    "start_time": "2022-11-09T10:25:52.451Z"
   },
   {
    "duration": 7,
    "start_time": "2022-11-09T10:25:53.047Z"
   },
   {
    "duration": 7,
    "start_time": "2022-11-09T10:25:53.922Z"
   },
   {
    "duration": 9,
    "start_time": "2022-11-09T10:25:57.168Z"
   },
   {
    "duration": 12,
    "start_time": "2022-11-09T10:26:06.325Z"
   },
   {
    "duration": 3,
    "start_time": "2022-11-09T10:26:10.678Z"
   },
   {
    "duration": 50,
    "start_time": "2022-11-09T10:26:11.060Z"
   },
   {
    "duration": 11,
    "start_time": "2022-11-09T10:26:11.606Z"
   },
   {
    "duration": 14,
    "start_time": "2022-11-09T10:26:12.241Z"
   },
   {
    "duration": 6,
    "start_time": "2022-11-09T10:26:13.627Z"
   },
   {
    "duration": 7,
    "start_time": "2022-11-09T10:26:14.309Z"
   },
   {
    "duration": 7,
    "start_time": "2022-11-09T10:26:14.930Z"
   },
   {
    "duration": 7,
    "start_time": "2022-11-09T10:26:15.703Z"
   },
   {
    "duration": 11,
    "start_time": "2022-11-09T10:26:17.419Z"
   },
   {
    "duration": 1258,
    "start_time": "2022-11-09T11:13:08.201Z"
   },
   {
    "duration": 141,
    "start_time": "2022-11-09T11:13:09.461Z"
   },
   {
    "duration": 12,
    "start_time": "2022-11-09T11:13:09.915Z"
   },
   {
    "duration": 20,
    "start_time": "2022-11-09T11:13:11.083Z"
   },
   {
    "duration": 7,
    "start_time": "2022-11-09T11:13:11.828Z"
   },
   {
    "duration": 5,
    "start_time": "2022-11-09T11:13:12.586Z"
   },
   {
    "duration": 9,
    "start_time": "2022-11-09T11:13:13.247Z"
   },
   {
    "duration": 8,
    "start_time": "2022-11-09T11:13:13.807Z"
   },
   {
    "duration": 103,
    "start_time": "2022-11-09T11:13:15.367Z"
   },
   {
    "duration": 3,
    "start_time": "2022-11-09T11:14:57.290Z"
   },
   {
    "duration": 2,
    "start_time": "2022-11-09T11:15:06.714Z"
   },
   {
    "duration": 49,
    "start_time": "2022-11-09T11:15:07.293Z"
   },
   {
    "duration": 11,
    "start_time": "2022-11-09T11:15:07.684Z"
   },
   {
    "duration": 14,
    "start_time": "2022-11-09T11:15:08.098Z"
   },
   {
    "duration": 7,
    "start_time": "2022-11-09T11:15:08.397Z"
   },
   {
    "duration": 6,
    "start_time": "2022-11-09T11:15:08.683Z"
   },
   {
    "duration": 7,
    "start_time": "2022-11-09T11:15:08.982Z"
   },
   {
    "duration": 7,
    "start_time": "2022-11-09T11:15:09.189Z"
   },
   {
    "duration": 161,
    "start_time": "2022-11-09T11:19:31.457Z"
   },
   {
    "duration": 56,
    "start_time": "2022-11-09T11:20:01.183Z"
   },
   {
    "duration": 12,
    "start_time": "2022-11-09T11:20:04.918Z"
   },
   {
    "duration": 18,
    "start_time": "2022-11-09T11:20:09.109Z"
   },
   {
    "duration": 398,
    "start_time": "2022-11-09T11:20:32.531Z"
   },
   {
    "duration": 55,
    "start_time": "2022-11-09T11:20:32.947Z"
   },
   {
    "duration": 11,
    "start_time": "2022-11-09T11:20:33.482Z"
   },
   {
    "duration": 68,
    "start_time": "2022-11-09T11:20:36.920Z"
   },
   {
    "duration": 6,
    "start_time": "2022-11-09T11:20:39.387Z"
   },
   {
    "duration": 14,
    "start_time": "2022-11-09T11:20:46.623Z"
   },
   {
    "duration": 59,
    "start_time": "2022-11-09T11:21:16.366Z"
   },
   {
    "duration": 10,
    "start_time": "2022-11-09T11:21:17.907Z"
   },
   {
    "duration": 11,
    "start_time": "2022-11-09T11:21:18.861Z"
   },
   {
    "duration": 551,
    "start_time": "2022-11-09T11:21:30.639Z"
   },
   {
    "duration": 484,
    "start_time": "2022-11-09T11:22:46.284Z"
   },
   {
    "duration": 50,
    "start_time": "2022-11-09T11:22:47.945Z"
   },
   {
    "duration": 11,
    "start_time": "2022-11-09T11:22:48.536Z"
   },
   {
    "duration": 11,
    "start_time": "2022-11-09T11:22:49.018Z"
   },
   {
    "duration": 8,
    "start_time": "2022-11-09T11:22:50.062Z"
   },
   {
    "duration": 4,
    "start_time": "2022-11-09T11:23:24.429Z"
   },
   {
    "duration": 508,
    "start_time": "2022-11-09T11:30:56.520Z"
   },
   {
    "duration": 565,
    "start_time": "2022-11-09T11:31:19.801Z"
   },
   {
    "duration": 668,
    "start_time": "2022-11-09T11:31:26.609Z"
   },
   {
    "duration": 605,
    "start_time": "2022-11-09T11:31:34.756Z"
   },
   {
    "duration": 840,
    "start_time": "2022-11-09T11:32:29.954Z"
   },
   {
    "duration": 755,
    "start_time": "2022-11-09T11:32:39.274Z"
   },
   {
    "duration": 350,
    "start_time": "2022-11-09T11:33:10.651Z"
   },
   {
    "duration": 323,
    "start_time": "2022-11-09T11:33:26.184Z"
   },
   {
    "duration": 713,
    "start_time": "2022-11-09T11:33:39.250Z"
   },
   {
    "duration": 781,
    "start_time": "2022-11-09T11:33:46.942Z"
   },
   {
    "duration": 740,
    "start_time": "2022-11-09T11:33:55.658Z"
   },
   {
    "duration": 1474,
    "start_time": "2022-11-09T16:46:26.591Z"
   },
   {
    "duration": 134,
    "start_time": "2022-11-09T16:46:28.990Z"
   },
   {
    "duration": 11,
    "start_time": "2022-11-09T16:46:29.595Z"
   },
   {
    "duration": 12,
    "start_time": "2022-11-09T16:46:30.164Z"
   },
   {
    "duration": 8,
    "start_time": "2022-11-09T16:46:31.227Z"
   },
   {
    "duration": 745,
    "start_time": "2022-11-09T16:46:31.733Z"
   },
   {
    "duration": 354,
    "start_time": "2022-11-09T16:46:33.570Z"
   },
   {
    "duration": 4,
    "start_time": "2022-11-09T16:48:22.146Z"
   },
   {
    "duration": 1442,
    "start_time": "2022-11-09T20:46:02.440Z"
   },
   {
    "duration": 126,
    "start_time": "2022-11-09T20:46:03.884Z"
   },
   {
    "duration": 10,
    "start_time": "2022-11-09T20:46:04.604Z"
   },
   {
    "duration": 12,
    "start_time": "2022-11-09T20:46:04.827Z"
   },
   {
    "duration": 9,
    "start_time": "2022-11-09T20:46:05.226Z"
   },
   {
    "duration": 696,
    "start_time": "2022-11-09T20:46:05.447Z"
   },
   {
    "duration": 321,
    "start_time": "2022-11-09T20:46:08.495Z"
   },
   {
    "duration": 5,
    "start_time": "2022-11-09T20:50:09.915Z"
   },
   {
    "duration": 281,
    "start_time": "2022-11-09T20:50:21.686Z"
   },
   {
    "duration": 282,
    "start_time": "2022-11-09T21:07:48.614Z"
   },
   {
    "duration": 270,
    "start_time": "2022-11-09T21:07:53.565Z"
   },
   {
    "duration": 12,
    "start_time": "2022-11-09T21:08:06.816Z"
   },
   {
    "duration": 352,
    "start_time": "2022-11-09T21:11:14.508Z"
   },
   {
    "duration": 267,
    "start_time": "2022-11-09T21:12:11.686Z"
   },
   {
    "duration": 284,
    "start_time": "2022-11-09T21:12:26.534Z"
   },
   {
    "duration": 208,
    "start_time": "2022-11-09T21:20:17.546Z"
   },
   {
    "duration": 375,
    "start_time": "2022-11-09T21:20:29.519Z"
   },
   {
    "duration": 1297,
    "start_time": "2022-11-09T21:20:43.253Z"
   },
   {
    "duration": 56,
    "start_time": "2022-11-09T21:20:44.552Z"
   },
   {
    "duration": 10,
    "start_time": "2022-11-09T21:20:45.181Z"
   },
   {
    "duration": 12,
    "start_time": "2022-11-09T21:20:45.586Z"
   },
   {
    "duration": 6,
    "start_time": "2022-11-09T21:20:46.424Z"
   },
   {
    "duration": 667,
    "start_time": "2022-11-09T21:20:46.968Z"
   },
   {
    "duration": 219,
    "start_time": "2022-11-09T21:20:48.134Z"
   },
   {
    "duration": 326,
    "start_time": "2022-11-09T21:20:49.387Z"
   },
   {
    "duration": 281,
    "start_time": "2022-11-09T21:21:24.922Z"
   },
   {
    "duration": 275,
    "start_time": "2022-11-09T21:21:31.764Z"
   },
   {
    "duration": 10,
    "start_time": "2022-11-09T21:24:52.557Z"
   },
   {
    "duration": 5,
    "start_time": "2022-11-09T21:25:05.476Z"
   },
   {
    "duration": 22,
    "start_time": "2022-11-09T21:26:25.171Z"
   },
   {
    "duration": 3,
    "start_time": "2022-11-09T21:26:42.087Z"
   },
   {
    "duration": 4,
    "start_time": "2022-11-09T21:29:51.957Z"
   },
   {
    "duration": 20,
    "start_time": "2022-11-09T21:29:52.703Z"
   },
   {
    "duration": 19,
    "start_time": "2022-11-09T21:32:58.115Z"
   },
   {
    "duration": 107,
    "start_time": "2022-11-09T21:41:00.346Z"
   },
   {
    "duration": 26,
    "start_time": "2022-11-09T21:41:18.553Z"
   },
   {
    "duration": 2974,
    "start_time": "2022-11-09T21:41:23.035Z"
   },
   {
    "duration": 12,
    "start_time": "2022-11-09T21:44:50.263Z"
   },
   {
    "duration": 4,
    "start_time": "2022-11-09T21:44:51.552Z"
   },
   {
    "duration": 97,
    "start_time": "2022-11-09T21:44:52.153Z"
   },
   {
    "duration": 4076,
    "start_time": "2022-11-09T21:45:01.803Z"
   },
   {
    "duration": 10897,
    "start_time": "2022-11-09T21:45:19.212Z"
   },
   {
    "duration": 12,
    "start_time": "2022-11-09T21:46:00.027Z"
   },
   {
    "duration": 7,
    "start_time": "2022-11-09T21:46:01.559Z"
   },
   {
    "duration": 141,
    "start_time": "2022-11-09T21:46:02.207Z"
   },
   {
    "duration": 16727,
    "start_time": "2022-11-09T21:46:03.972Z"
   },
   {
    "duration": 105,
    "start_time": "2022-11-09T21:46:31.643Z"
   },
   {
    "duration": 13,
    "start_time": "2022-11-09T21:46:36.469Z"
   },
   {
    "duration": 536,
    "start_time": "2022-11-09T21:46:37.621Z"
   },
   {
    "duration": 8,
    "start_time": "2022-11-09T21:47:37.869Z"
   },
   {
    "duration": 6,
    "start_time": "2022-11-09T21:47:39.362Z"
   },
   {
    "duration": 615,
    "start_time": "2022-11-09T21:47:39.736Z"
   },
   {
    "duration": 1306,
    "start_time": "2022-11-09T21:47:57.452Z"
   },
   {
    "duration": 52,
    "start_time": "2022-11-09T21:47:59.371Z"
   },
   {
    "duration": 14,
    "start_time": "2022-11-09T21:47:59.839Z"
   },
   {
    "duration": 13,
    "start_time": "2022-11-09T21:48:00.023Z"
   },
   {
    "duration": 7,
    "start_time": "2022-11-09T21:48:00.452Z"
   },
   {
    "duration": 707,
    "start_time": "2022-11-09T21:48:00.632Z"
   },
   {
    "duration": 3,
    "start_time": "2022-11-09T21:48:01.341Z"
   },
   {
    "duration": 49,
    "start_time": "2022-11-09T21:48:01.346Z"
   },
   {
    "duration": 23,
    "start_time": "2022-11-09T21:48:01.397Z"
   },
   {
    "duration": 6,
    "start_time": "2022-11-09T21:48:01.577Z"
   },
   {
    "duration": 48,
    "start_time": "2022-11-09T21:48:01.807Z"
   },
   {
    "duration": 4412,
    "start_time": "2022-11-09T21:48:06.597Z"
   },
   {
    "duration": 4,
    "start_time": "2022-11-09T21:49:48.444Z"
   },
   {
    "duration": 4,
    "start_time": "2022-11-09T21:49:49.764Z"
   },
   {
    "duration": 74,
    "start_time": "2022-11-09T21:49:50.880Z"
   },
   {
    "duration": 4447,
    "start_time": "2022-11-09T21:49:52.455Z"
   },
   {
    "duration": 14,
    "start_time": "2022-11-09T21:51:24.780Z"
   },
   {
    "duration": 6,
    "start_time": "2022-11-09T21:51:25.819Z"
   },
   {
    "duration": 66,
    "start_time": "2022-11-09T21:51:26.191Z"
   },
   {
    "duration": 13857,
    "start_time": "2022-11-09T21:51:27.428Z"
   },
   {
    "duration": 10,
    "start_time": "2022-11-09T21:56:17.543Z"
   },
   {
    "duration": 4,
    "start_time": "2022-11-09T21:56:18.812Z"
   },
   {
    "duration": 117,
    "start_time": "2022-11-09T21:56:19.435Z"
   },
   {
    "duration": 14441,
    "start_time": "2022-11-09T21:56:20.893Z"
   },
   {
    "duration": 24,
    "start_time": "2022-11-09T21:58:26.220Z"
   },
   {
    "duration": 80643,
    "start_time": "2022-11-09T21:59:58.818Z"
   },
   {
    "duration": 8,
    "start_time": "2022-11-09T22:01:47.995Z"
   },
   {
    "duration": 32,
    "start_time": "2022-11-09T22:01:48.319Z"
   },
   {
    "duration": 14,
    "start_time": "2022-11-09T22:02:42.321Z"
   },
   {
    "duration": 8,
    "start_time": "2022-11-09T22:04:07.486Z"
   },
   {
    "duration": 4,
    "start_time": "2022-11-09T22:04:08.738Z"
   },
   {
    "duration": 8,
    "start_time": "2022-11-09T22:04:09.242Z"
   },
   {
    "duration": 15,
    "start_time": "2022-11-09T22:04:09.702Z"
   },
   {
    "duration": 1372,
    "start_time": "2022-11-09T22:04:26.127Z"
   },
   {
    "duration": 54,
    "start_time": "2022-11-09T22:04:28.831Z"
   },
   {
    "duration": 10,
    "start_time": "2022-11-09T22:04:29.037Z"
   },
   {
    "duration": 13,
    "start_time": "2022-11-09T22:04:29.295Z"
   },
   {
    "duration": 7,
    "start_time": "2022-11-09T22:04:29.694Z"
   },
   {
    "duration": 724,
    "start_time": "2022-11-09T22:04:30.003Z"
   },
   {
    "duration": 3,
    "start_time": "2022-11-09T22:04:30.728Z"
   },
   {
    "duration": 19,
    "start_time": "2022-11-09T22:04:30.732Z"
   },
   {
    "duration": 13,
    "start_time": "2022-11-09T22:04:31.194Z"
   },
   {
    "duration": 6,
    "start_time": "2022-11-09T22:04:32.156Z"
   },
   {
    "duration": 8,
    "start_time": "2022-11-09T22:04:35.387Z"
   },
   {
    "duration": 16,
    "start_time": "2022-11-09T22:04:36.045Z"
   },
   {
    "duration": 106,
    "start_time": "2022-11-09T22:06:57.881Z"
   },
   {
    "duration": 9,
    "start_time": "2022-11-09T22:07:40.078Z"
   },
   {
    "duration": 3,
    "start_time": "2022-11-09T22:07:47.573Z"
   },
   {
    "duration": 15,
    "start_time": "2022-11-09T22:07:55.460Z"
   },
   {
    "duration": 20,
    "start_time": "2022-11-09T22:08:06.962Z"
   },
   {
    "duration": 18,
    "start_time": "2022-11-09T22:08:08.315Z"
   },
   {
    "duration": 4,
    "start_time": "2022-11-09T22:09:28.300Z"
   },
   {
    "duration": 9,
    "start_time": "2022-11-09T22:09:29.404Z"
   },
   {
    "duration": 4,
    "start_time": "2022-11-09T22:09:31.341Z"
   },
   {
    "duration": 8,
    "start_time": "2022-11-09T22:09:32.760Z"
   },
   {
    "duration": 20,
    "start_time": "2022-11-09T22:09:34.359Z"
   },
   {
    "duration": 14,
    "start_time": "2022-11-09T22:09:35.202Z"
   },
   {
    "duration": 9003,
    "start_time": "2022-11-09T22:09:37.618Z"
   },
   {
    "duration": 9,
    "start_time": "2022-11-09T22:10:24.420Z"
   },
   {
    "duration": 765,
    "start_time": "2022-11-09T22:10:29.761Z"
   },
   {
    "duration": 8,
    "start_time": "2022-11-09T22:10:30.528Z"
   },
   {
    "duration": 4,
    "start_time": "2022-11-09T22:10:32.315Z"
   },
   {
    "duration": 7,
    "start_time": "2022-11-09T22:10:33.454Z"
   },
   {
    "duration": 22,
    "start_time": "2022-11-09T22:10:34.047Z"
   },
   {
    "duration": 17,
    "start_time": "2022-11-09T22:10:35.349Z"
   },
   {
    "duration": 9015,
    "start_time": "2022-11-09T22:10:37.213Z"
   },
   {
    "duration": 20938,
    "start_time": "2022-11-09T22:10:46.231Z"
   },
   {
    "duration": 3,
    "start_time": "2022-11-09T22:13:28.408Z"
   },
   {
    "duration": 10,
    "start_time": "2022-11-09T22:16:34.180Z"
   },
   {
    "duration": 40204,
    "start_time": "2022-11-09T22:17:06.522Z"
   },
   {
    "duration": 39629,
    "start_time": "2022-11-09T22:18:48.310Z"
   },
   {
    "duration": 39636,
    "start_time": "2022-11-09T22:19:36.782Z"
   },
   {
    "duration": 711,
    "start_time": "2022-11-09T22:26:39.900Z"
   },
   {
    "duration": 809,
    "start_time": "2022-11-09T22:27:02.346Z"
   },
   {
    "duration": 669,
    "start_time": "2022-11-09T22:27:16.637Z"
   },
   {
    "duration": 1396,
    "start_time": "2022-11-09T22:27:25.529Z"
   },
   {
    "duration": 55,
    "start_time": "2022-11-09T22:27:26.927Z"
   },
   {
    "duration": 11,
    "start_time": "2022-11-09T22:27:26.983Z"
   },
   {
    "duration": 11,
    "start_time": "2022-11-09T22:27:26.996Z"
   },
   {
    "duration": 7,
    "start_time": "2022-11-09T22:27:27.291Z"
   },
   {
    "duration": 714,
    "start_time": "2022-11-09T22:27:28.105Z"
   },
   {
    "duration": 316,
    "start_time": "2022-11-09T22:27:29.728Z"
   },
   {
    "duration": 241,
    "start_time": "2022-11-09T22:27:40.479Z"
   },
   {
    "duration": 270,
    "start_time": "2022-11-09T22:28:04.012Z"
   },
   {
    "duration": 297,
    "start_time": "2022-11-09T22:28:21.010Z"
   },
   {
    "duration": 401,
    "start_time": "2022-11-09T22:29:07.094Z"
   },
   {
    "duration": 12,
    "start_time": "2022-11-09T22:29:12.753Z"
   },
   {
    "duration": 5,
    "start_time": "2022-11-09T22:29:16.285Z"
   },
   {
    "duration": 8,
    "start_time": "2022-11-09T22:29:17.237Z"
   },
   {
    "duration": 20,
    "start_time": "2022-11-09T22:29:18.807Z"
   },
   {
    "duration": 205,
    "start_time": "2022-11-09T22:29:20.946Z"
   },
   {
    "duration": 11202,
    "start_time": "2022-11-09T22:29:24.787Z"
   },
   {
    "duration": 31562,
    "start_time": "2022-11-09T22:29:35.991Z"
   },
   {
    "duration": 129,
    "start_time": "2022-11-09T22:32:15.841Z"
   },
   {
    "duration": 4,
    "start_time": "2022-11-09T22:32:36.845Z"
   },
   {
    "duration": 4,
    "start_time": "2022-11-09T22:32:40.521Z"
   },
   {
    "duration": 10,
    "start_time": "2022-11-09T22:32:40.930Z"
   },
   {
    "duration": 6,
    "start_time": "2022-11-09T22:32:56.281Z"
   },
   {
    "duration": 3,
    "start_time": "2022-11-09T22:35:07.867Z"
   },
   {
    "duration": 6,
    "start_time": "2022-11-09T22:35:40.340Z"
   },
   {
    "duration": 1257,
    "start_time": "2022-11-09T22:37:08.396Z"
   },
   {
    "duration": 53,
    "start_time": "2022-11-09T22:37:09.655Z"
   },
   {
    "duration": 9,
    "start_time": "2022-11-09T22:37:09.709Z"
   },
   {
    "duration": 14,
    "start_time": "2022-11-09T22:37:10.251Z"
   },
   {
    "duration": 9,
    "start_time": "2022-11-09T22:37:11.791Z"
   },
   {
    "duration": 659,
    "start_time": "2022-11-09T22:37:12.331Z"
   },
   {
    "duration": 421,
    "start_time": "2022-11-09T22:37:12.992Z"
   },
   {
    "duration": 328,
    "start_time": "2022-11-09T22:37:13.415Z"
   },
   {
    "duration": 9,
    "start_time": "2022-11-09T22:37:15.085Z"
   },
   {
    "duration": 1291,
    "start_time": "2022-11-09T22:38:16.811Z"
   },
   {
    "duration": 58,
    "start_time": "2022-11-09T22:38:18.104Z"
   },
   {
    "duration": 11,
    "start_time": "2022-11-09T22:38:18.164Z"
   },
   {
    "duration": 12,
    "start_time": "2022-11-09T22:38:18.267Z"
   },
   {
    "duration": 9,
    "start_time": "2022-11-09T22:38:20.450Z"
   },
   {
    "duration": 1237,
    "start_time": "2022-11-09T22:40:52.802Z"
   },
   {
    "duration": 53,
    "start_time": "2022-11-09T22:40:54.040Z"
   },
   {
    "duration": 9,
    "start_time": "2022-11-09T22:40:54.094Z"
   },
   {
    "duration": 11,
    "start_time": "2022-11-09T22:40:54.104Z"
   },
   {
    "duration": 7,
    "start_time": "2022-11-09T22:40:54.629Z"
   },
   {
    "duration": 714,
    "start_time": "2022-11-09T22:40:54.808Z"
   },
   {
    "duration": 365,
    "start_time": "2022-11-09T22:40:55.525Z"
   },
   {
    "duration": 310,
    "start_time": "2022-11-09T22:40:55.891Z"
   },
   {
    "duration": 12,
    "start_time": "2022-11-09T22:40:56.203Z"
   },
   {
    "duration": 5,
    "start_time": "2022-11-09T22:40:57.117Z"
   },
   {
    "duration": 8,
    "start_time": "2022-11-09T22:40:58.382Z"
   },
   {
    "duration": 7,
    "start_time": "2022-11-09T22:41:55.870Z"
   },
   {
    "duration": 13,
    "start_time": "2022-11-09T22:41:56.866Z"
   },
   {
    "duration": 11023,
    "start_time": "2022-11-09T22:41:58.151Z"
   },
   {
    "duration": 23580,
    "start_time": "2022-11-09T22:42:09.176Z"
   },
   {
    "duration": 6,
    "start_time": "2022-11-09T22:44:46.511Z"
   },
   {
    "duration": 9,
    "start_time": "2022-11-09T22:44:58.841Z"
   },
   {
    "duration": 10,
    "start_time": "2022-11-09T22:45:41.954Z"
   },
   {
    "duration": 7,
    "start_time": "2022-11-09T22:45:53.751Z"
   },
   {
    "duration": 104,
    "start_time": "2022-11-09T22:47:19.246Z"
   },
   {
    "duration": 1320,
    "start_time": "2022-11-09T22:47:37.275Z"
   },
   {
    "duration": 53,
    "start_time": "2022-11-09T22:47:38.596Z"
   },
   {
    "duration": 9,
    "start_time": "2022-11-09T22:47:38.651Z"
   },
   {
    "duration": 11,
    "start_time": "2022-11-09T22:47:38.661Z"
   },
   {
    "duration": 8,
    "start_time": "2022-11-09T22:47:38.673Z"
   },
   {
    "duration": 679,
    "start_time": "2022-11-09T22:47:39.201Z"
   },
   {
    "duration": 389,
    "start_time": "2022-11-09T22:47:39.882Z"
   },
   {
    "duration": 299,
    "start_time": "2022-11-09T22:47:40.440Z"
   },
   {
    "duration": 12,
    "start_time": "2022-11-09T22:47:41.846Z"
   },
   {
    "duration": 5,
    "start_time": "2022-11-09T22:47:44.242Z"
   },
   {
    "duration": 7,
    "start_time": "2022-11-09T22:47:45.167Z"
   },
   {
    "duration": 11,
    "start_time": "2022-11-09T22:47:45.671Z"
   },
   {
    "duration": 11005,
    "start_time": "2022-11-09T22:48:03.092Z"
   },
   {
    "duration": 20552,
    "start_time": "2022-11-09T22:48:25.505Z"
   },
   {
    "duration": 6,
    "start_time": "2022-11-09T22:49:55.767Z"
   },
   {
    "duration": 10,
    "start_time": "2022-11-09T22:49:56.529Z"
   },
   {
    "duration": 16,
    "start_time": "2022-11-09T22:49:57.236Z"
   },
   {
    "duration": 1322,
    "start_time": "2022-11-09T22:59:43.549Z"
   },
   {
    "duration": 4,
    "start_time": "2022-11-09T23:00:12.047Z"
   },
   {
    "duration": 53,
    "start_time": "2022-11-09T23:00:27.927Z"
   },
   {
    "duration": 48,
    "start_time": "2022-11-09T23:01:08.974Z"
   },
   {
    "duration": 9,
    "start_time": "2022-11-09T23:01:11.275Z"
   },
   {
    "duration": 11,
    "start_time": "2022-11-09T23:01:19.847Z"
   },
   {
    "duration": 5,
    "start_time": "2022-11-09T23:03:11.182Z"
   },
   {
    "duration": 4,
    "start_time": "2022-11-09T23:04:47.755Z"
   },
   {
    "duration": 6,
    "start_time": "2022-11-09T23:04:57.857Z"
   },
   {
    "duration": 6,
    "start_time": "2022-11-09T23:04:58.917Z"
   },
   {
    "duration": 1322,
    "start_time": "2022-11-09T23:06:02.309Z"
   },
   {
    "duration": 55,
    "start_time": "2022-11-09T23:06:03.735Z"
   },
   {
    "duration": 11,
    "start_time": "2022-11-09T23:06:07.315Z"
   },
   {
    "duration": 5,
    "start_time": "2022-11-09T23:06:13.131Z"
   },
   {
    "duration": 7,
    "start_time": "2022-11-09T23:06:24.195Z"
   },
   {
    "duration": 114,
    "start_time": "2022-11-09T23:06:25.963Z"
   },
   {
    "duration": 13,
    "start_time": "2022-11-09T23:06:31.947Z"
   },
   {
    "duration": 1350,
    "start_time": "2022-11-09T23:06:49.024Z"
   },
   {
    "duration": 51,
    "start_time": "2022-11-09T23:06:50.376Z"
   },
   {
    "duration": 13,
    "start_time": "2022-11-09T23:06:51.556Z"
   },
   {
    "duration": 12,
    "start_time": "2022-11-09T23:06:52.471Z"
   },
   {
    "duration": 7,
    "start_time": "2022-11-09T23:08:45.676Z"
   },
   {
    "duration": 697,
    "start_time": "2022-11-09T23:11:01.148Z"
   },
   {
    "duration": 682,
    "start_time": "2022-11-09T23:19:01.211Z"
   },
   {
    "duration": 573,
    "start_time": "2022-11-09T23:19:42.509Z"
   },
   {
    "duration": 494,
    "start_time": "2022-11-09T23:19:54.608Z"
   },
   {
    "duration": 481,
    "start_time": "2022-11-09T23:20:12.209Z"
   },
   {
    "duration": 528,
    "start_time": "2022-11-09T23:20:56.278Z"
   },
   {
    "duration": 512,
    "start_time": "2022-11-09T23:22:21.253Z"
   },
   {
    "duration": 608,
    "start_time": "2022-11-09T23:23:12.290Z"
   },
   {
    "duration": 522,
    "start_time": "2022-11-09T23:23:35.688Z"
   },
   {
    "duration": 296,
    "start_time": "2022-11-09T23:25:19.599Z"
   },
   {
    "duration": 295,
    "start_time": "2022-11-09T23:27:44.546Z"
   },
   {
    "duration": 1268,
    "start_time": "2022-11-09T23:28:46.273Z"
   },
   {
    "duration": 52,
    "start_time": "2022-11-09T23:28:47.543Z"
   },
   {
    "duration": 10,
    "start_time": "2022-11-09T23:28:47.880Z"
   },
   {
    "duration": 11,
    "start_time": "2022-11-09T23:28:52.503Z"
   },
   {
    "duration": 9,
    "start_time": "2022-11-09T23:29:33.004Z"
   },
   {
    "duration": 7,
    "start_time": "2022-11-09T23:29:35.829Z"
   },
   {
    "duration": 569,
    "start_time": "2022-11-09T23:29:36.941Z"
   },
   {
    "duration": 357,
    "start_time": "2022-11-09T23:29:41.956Z"
   },
   {
    "duration": 317,
    "start_time": "2022-11-09T23:29:44.972Z"
   },
   {
    "duration": 11,
    "start_time": "2022-11-09T23:30:42.964Z"
   },
   {
    "duration": 4,
    "start_time": "2022-11-09T23:30:54.419Z"
   },
   {
    "duration": 10,
    "start_time": "2022-11-09T23:30:55.211Z"
   },
   {
    "duration": 7,
    "start_time": "2022-11-09T23:31:14.073Z"
   },
   {
    "duration": 11,
    "start_time": "2022-11-09T23:31:15.732Z"
   },
   {
    "duration": 11104,
    "start_time": "2022-11-09T23:31:20.099Z"
   },
   {
    "duration": 12,
    "start_time": "2022-11-09T23:32:33.855Z"
   },
   {
    "duration": 10,
    "start_time": "2022-11-09T23:33:04.371Z"
   },
   {
    "duration": 10,
    "start_time": "2022-11-09T23:33:24.098Z"
   },
   {
    "duration": 10956,
    "start_time": "2022-11-09T23:35:22.830Z"
   },
   {
    "duration": 24168,
    "start_time": "2022-11-09T23:36:57.581Z"
   },
   {
    "duration": 7,
    "start_time": "2022-11-09T23:38:09.305Z"
   },
   {
    "duration": 11,
    "start_time": "2022-11-09T23:38:10.929Z"
   },
   {
    "duration": 10,
    "start_time": "2022-11-09T23:38:30.402Z"
   },
   {
    "duration": 1529,
    "start_time": "2022-11-11T05:55:25.862Z"
   },
   {
    "duration": 141,
    "start_time": "2022-11-11T05:55:31.102Z"
   },
   {
    "duration": 11,
    "start_time": "2022-11-11T05:55:32.153Z"
   },
   {
    "duration": 12,
    "start_time": "2022-11-11T05:55:33.103Z"
   },
   {
    "duration": 8,
    "start_time": "2022-11-11T05:55:39.234Z"
   },
   {
    "duration": 649,
    "start_time": "2022-11-11T05:55:39.832Z"
   },
   {
    "duration": 382,
    "start_time": "2022-11-11T05:55:41.373Z"
   },
   {
    "duration": 316,
    "start_time": "2022-11-11T05:55:49.528Z"
   },
   {
    "duration": 11,
    "start_time": "2022-11-11T05:56:05.965Z"
   },
   {
    "duration": 5,
    "start_time": "2022-11-11T05:56:31.335Z"
   },
   {
    "duration": 9,
    "start_time": "2022-11-11T05:56:35.689Z"
   },
   {
    "duration": 15,
    "start_time": "2022-11-11T05:56:36.696Z"
   },
   {
    "duration": 11703,
    "start_time": "2022-11-11T05:56:38.265Z"
   },
   {
    "duration": 20831,
    "start_time": "2022-11-11T05:57:07.625Z"
   },
   {
    "duration": 7,
    "start_time": "2022-11-11T05:57:28.458Z"
   },
   {
    "duration": 92,
    "start_time": "2022-11-11T05:57:28.467Z"
   },
   {
    "duration": 16,
    "start_time": "2022-11-11T05:57:28.562Z"
   },
   {
    "duration": 51,
    "start_time": "2022-11-11T06:09:01.410Z"
   },
   {
    "duration": 10,
    "start_time": "2022-11-11T06:09:01.741Z"
   },
   {
    "duration": 11,
    "start_time": "2022-11-11T06:09:02.541Z"
   },
   {
    "duration": 8,
    "start_time": "2022-11-11T06:09:06.465Z"
   },
   {
    "duration": 548,
    "start_time": "2022-11-11T06:09:07.178Z"
   },
   {
    "duration": 308,
    "start_time": "2022-11-11T06:09:07.776Z"
   },
   {
    "duration": 2,
    "start_time": "2022-11-11T06:09:25.796Z"
   },
   {
    "duration": 126,
    "start_time": "2022-11-11T06:12:26.147Z"
   },
   {
    "duration": 158,
    "start_time": "2022-11-11T06:13:53.890Z"
   },
   {
    "duration": 12,
    "start_time": "2022-11-11T06:14:41.992Z"
   },
   {
    "duration": 30,
    "start_time": "2022-11-11T06:16:00.273Z"
   },
   {
    "duration": 30,
    "start_time": "2022-11-11T06:18:00.124Z"
   },
   {
    "duration": 21,
    "start_time": "2022-11-11T06:18:19.268Z"
   },
   {
    "duration": 30,
    "start_time": "2022-11-11T06:19:15.684Z"
   },
   {
    "duration": 21,
    "start_time": "2022-11-11T06:19:26.263Z"
   },
   {
    "duration": 30,
    "start_time": "2022-11-11T06:19:33.632Z"
   },
   {
    "duration": 10,
    "start_time": "2022-11-11T06:20:01.439Z"
   },
   {
    "duration": 23,
    "start_time": "2022-11-11T06:23:44.054Z"
   },
   {
    "duration": 92,
    "start_time": "2022-11-11T06:23:52.299Z"
   },
   {
    "duration": 9,
    "start_time": "2022-11-11T06:24:09.047Z"
   },
   {
    "duration": 4,
    "start_time": "2022-11-11T06:53:44.250Z"
   },
   {
    "duration": 49,
    "start_time": "2022-11-11T06:53:44.746Z"
   },
   {
    "duration": 10,
    "start_time": "2022-11-11T06:53:44.997Z"
   },
   {
    "duration": 12,
    "start_time": "2022-11-11T06:53:45.254Z"
   },
   {
    "duration": 7,
    "start_time": "2022-11-11T06:53:46.817Z"
   },
   {
    "duration": 593,
    "start_time": "2022-11-11T06:53:47.076Z"
   },
   {
    "duration": 441,
    "start_time": "2022-11-11T06:53:47.671Z"
   },
   {
    "duration": 2,
    "start_time": "2022-11-11T06:53:49.349Z"
   },
   {
    "duration": 8,
    "start_time": "2022-11-11T06:53:50.898Z"
   },
   {
    "duration": 31,
    "start_time": "2022-11-11T06:54:26.121Z"
   },
   {
    "duration": 9,
    "start_time": "2022-11-11T06:54:49.767Z"
   },
   {
    "duration": 30,
    "start_time": "2022-11-11T06:55:46.611Z"
   },
   {
    "duration": 11,
    "start_time": "2022-11-11T06:55:52.198Z"
   },
   {
    "duration": 32,
    "start_time": "2022-11-11T06:57:48.003Z"
   },
   {
    "duration": 10,
    "start_time": "2022-11-11T06:58:07.323Z"
   },
   {
    "duration": 54,
    "start_time": "2022-11-11T06:58:46.916Z"
   },
   {
    "duration": 17,
    "start_time": "2022-11-11T06:58:58.216Z"
   },
   {
    "duration": 13,
    "start_time": "2022-11-11T06:59:08.217Z"
   },
   {
    "duration": 10,
    "start_time": "2022-11-11T06:59:21.044Z"
   },
   {
    "duration": 28,
    "start_time": "2022-11-11T06:59:40.324Z"
   },
   {
    "duration": 4,
    "start_time": "2022-11-11T07:00:50.827Z"
   },
   {
    "duration": 14,
    "start_time": "2022-11-11T07:00:58.425Z"
   },
   {
    "duration": 9,
    "start_time": "2022-11-11T07:01:06.051Z"
   },
   {
    "duration": 13,
    "start_time": "2022-11-11T07:02:00.749Z"
   },
   {
    "duration": 5,
    "start_time": "2022-11-11T07:02:08.347Z"
   },
   {
    "duration": 8,
    "start_time": "2022-11-11T07:02:30.169Z"
   },
   {
    "duration": 13,
    "start_time": "2022-11-11T07:03:17.374Z"
   },
   {
    "duration": 8,
    "start_time": "2022-11-11T07:03:21.756Z"
   },
   {
    "duration": 8,
    "start_time": "2022-11-11T07:03:33.986Z"
   },
   {
    "duration": 28,
    "start_time": "2022-11-11T07:03:53.668Z"
   },
   {
    "duration": 8,
    "start_time": "2022-11-11T07:03:59.280Z"
   },
   {
    "duration": 13,
    "start_time": "2022-11-11T07:04:29.001Z"
   },
   {
    "duration": 9,
    "start_time": "2022-11-11T07:09:14.257Z"
   },
   {
    "duration": 9,
    "start_time": "2022-11-11T07:09:28.543Z"
   },
   {
    "duration": 1435,
    "start_time": "2022-11-11T07:09:41.164Z"
   },
   {
    "duration": 56,
    "start_time": "2022-11-11T07:09:42.601Z"
   },
   {
    "duration": 11,
    "start_time": "2022-11-11T07:09:43.313Z"
   },
   {
    "duration": 12,
    "start_time": "2022-11-11T07:09:43.897Z"
   },
   {
    "duration": 9,
    "start_time": "2022-11-11T07:09:46.295Z"
   },
   {
    "duration": 635,
    "start_time": "2022-11-11T07:09:46.642Z"
   },
   {
    "duration": 419,
    "start_time": "2022-11-11T07:09:47.280Z"
   },
   {
    "duration": 2,
    "start_time": "2022-11-11T07:09:47.890Z"
   },
   {
    "duration": 8,
    "start_time": "2022-11-11T07:09:49.358Z"
   },
   {
    "duration": 9,
    "start_time": "2022-11-11T07:09:50.445Z"
   },
   {
    "duration": 13,
    "start_time": "2022-11-11T07:09:51.419Z"
   },
   {
    "duration": 9,
    "start_time": "2022-11-11T07:09:54.365Z"
   },
   {
    "duration": 11,
    "start_time": "2022-11-11T07:11:04.675Z"
   },
   {
    "duration": 13,
    "start_time": "2022-11-11T07:11:06.723Z"
   },
   {
    "duration": 11,
    "start_time": "2022-11-11T07:11:45.643Z"
   },
   {
    "duration": 15,
    "start_time": "2022-11-11T07:11:47.184Z"
   },
   {
    "duration": 1415,
    "start_time": "2022-11-11T07:13:34.113Z"
   },
   {
    "duration": 56,
    "start_time": "2022-11-11T07:13:35.530Z"
   },
   {
    "duration": 10,
    "start_time": "2022-11-11T07:13:35.587Z"
   },
   {
    "duration": 27,
    "start_time": "2022-11-11T07:13:35.598Z"
   },
   {
    "duration": 8,
    "start_time": "2022-11-11T07:13:37.398Z"
   },
   {
    "duration": 608,
    "start_time": "2022-11-11T07:13:37.889Z"
   },
   {
    "duration": 390,
    "start_time": "2022-11-11T07:13:38.499Z"
   },
   {
    "duration": 2,
    "start_time": "2022-11-11T07:13:39.425Z"
   },
   {
    "duration": 8,
    "start_time": "2022-11-11T07:13:41.502Z"
   },
   {
    "duration": 8,
    "start_time": "2022-11-11T07:13:43.329Z"
   },
   {
    "duration": 13,
    "start_time": "2022-11-11T07:13:45.194Z"
   },
   {
    "duration": 8,
    "start_time": "2022-11-11T07:13:47.639Z"
   },
   {
    "duration": 11,
    "start_time": "2022-11-11T07:13:58.020Z"
   },
   {
    "duration": 14,
    "start_time": "2022-11-11T07:13:58.880Z"
   },
   {
    "duration": 10,
    "start_time": "2022-11-11T07:14:08.927Z"
   },
   {
    "duration": 15,
    "start_time": "2022-11-11T07:14:10.640Z"
   },
   {
    "duration": 8,
    "start_time": "2022-11-11T07:14:22.931Z"
   },
   {
    "duration": 13,
    "start_time": "2022-11-11T07:14:24.365Z"
   },
   {
    "duration": 3,
    "start_time": "2022-11-11T07:14:39.462Z"
   },
   {
    "duration": 13,
    "start_time": "2022-11-11T07:14:40.240Z"
   },
   {
    "duration": 4,
    "start_time": "2022-11-11T07:14:47.797Z"
   },
   {
    "duration": 8,
    "start_time": "2022-11-11T07:14:52.462Z"
   },
   {
    "duration": 20,
    "start_time": "2022-11-11T07:14:54.628Z"
   },
   {
    "duration": 4,
    "start_time": "2022-11-11T07:21:48.047Z"
   },
   {
    "duration": 49,
    "start_time": "2022-11-11T07:21:50.504Z"
   },
   {
    "duration": 10,
    "start_time": "2022-11-11T07:21:50.691Z"
   },
   {
    "duration": 11,
    "start_time": "2022-11-11T07:21:51.062Z"
   },
   {
    "duration": 9,
    "start_time": "2022-11-11T07:21:51.986Z"
   },
   {
    "duration": 561,
    "start_time": "2022-11-11T07:21:52.352Z"
   },
   {
    "duration": 457,
    "start_time": "2022-11-11T07:21:52.914Z"
   },
   {
    "duration": 3,
    "start_time": "2022-11-11T07:21:53.373Z"
   },
   {
    "duration": 9,
    "start_time": "2022-11-11T07:21:53.755Z"
   },
   {
    "duration": 9,
    "start_time": "2022-11-11T07:21:54.341Z"
   },
   {
    "duration": 13,
    "start_time": "2022-11-11T07:21:54.706Z"
   },
   {
    "duration": 4,
    "start_time": "2022-11-11T07:21:56.622Z"
   },
   {
    "duration": 15,
    "start_time": "2022-11-11T07:21:57.237Z"
   },
   {
    "duration": 5,
    "start_time": "2022-11-11T07:21:57.859Z"
   },
   {
    "duration": 8,
    "start_time": "2022-11-11T07:22:02.043Z"
   },
   {
    "duration": 19,
    "start_time": "2022-11-11T07:22:05.027Z"
   },
   {
    "duration": 4,
    "start_time": "2022-11-11T07:33:53.331Z"
   },
   {
    "duration": 1702,
    "start_time": "2022-11-11T09:30:00.500Z"
   },
   {
    "duration": 152,
    "start_time": "2022-11-11T09:30:02.205Z"
   },
   {
    "duration": 12,
    "start_time": "2022-11-11T09:30:02.359Z"
   },
   {
    "duration": 14,
    "start_time": "2022-11-11T09:30:04.566Z"
   },
   {
    "duration": 9,
    "start_time": "2022-11-11T09:30:09.407Z"
   },
   {
    "duration": 761,
    "start_time": "2022-11-11T09:30:10.230Z"
   },
   {
    "duration": 502,
    "start_time": "2022-11-11T09:30:10.995Z"
   },
   {
    "duration": 3,
    "start_time": "2022-11-11T09:30:11.795Z"
   },
   {
    "duration": 10,
    "start_time": "2022-11-11T09:30:13.196Z"
   },
   {
    "duration": 9,
    "start_time": "2022-11-11T09:30:17.248Z"
   },
   {
    "duration": 20,
    "start_time": "2022-11-11T09:30:17.702Z"
   },
   {
    "duration": 6,
    "start_time": "2022-11-11T09:30:19.434Z"
   },
   {
    "duration": 14,
    "start_time": "2022-11-11T09:30:19.875Z"
   },
   {
    "duration": 5,
    "start_time": "2022-11-11T09:30:29.814Z"
   },
   {
    "duration": 11,
    "start_time": "2022-11-11T09:30:30.481Z"
   },
   {
    "duration": 111,
    "start_time": "2022-11-11T09:30:32.681Z"
   },
   {
    "duration": 131,
    "start_time": "2022-11-11T09:32:19.579Z"
   },
   {
    "duration": 25,
    "start_time": "2022-11-11T09:33:59.165Z"
   },
   {
    "duration": 32,
    "start_time": "2022-11-11T09:36:15.538Z"
   },
   {
    "duration": 4,
    "start_time": "2022-11-11T09:47:17.375Z"
   },
   {
    "duration": 44,
    "start_time": "2022-11-11T09:47:17.997Z"
   },
   {
    "duration": 12,
    "start_time": "2022-11-11T09:47:18.175Z"
   },
   {
    "duration": 13,
    "start_time": "2022-11-11T09:47:18.346Z"
   },
   {
    "duration": 7,
    "start_time": "2022-11-11T09:47:19.579Z"
   },
   {
    "duration": 573,
    "start_time": "2022-11-11T09:47:19.787Z"
   },
   {
    "duration": 348,
    "start_time": "2022-11-11T09:47:20.362Z"
   },
   {
    "duration": 3,
    "start_time": "2022-11-11T09:47:20.875Z"
   },
   {
    "duration": 8,
    "start_time": "2022-11-11T09:47:22.382Z"
   },
   {
    "duration": 9,
    "start_time": "2022-11-11T09:47:23.457Z"
   },
   {
    "duration": 15,
    "start_time": "2022-11-11T09:47:24.048Z"
   },
   {
    "duration": 5,
    "start_time": "2022-11-11T09:47:27.742Z"
   },
   {
    "duration": 16,
    "start_time": "2022-11-11T09:47:28.272Z"
   },
   {
    "duration": 5,
    "start_time": "2022-11-11T09:47:31.062Z"
   },
   {
    "duration": 8,
    "start_time": "2022-11-11T09:47:32.562Z"
   },
   {
    "duration": 29,
    "start_time": "2022-11-11T09:47:32.954Z"
   },
   {
    "duration": 4620,
    "start_time": "2022-11-11T09:47:45.403Z"
   },
   {
    "duration": 4601,
    "start_time": "2022-11-11T09:47:56.540Z"
   },
   {
    "duration": 5084,
    "start_time": "2022-11-11T09:48:54.625Z"
   },
   {
    "duration": 4924,
    "start_time": "2022-11-11T09:49:08.572Z"
   },
   {
    "duration": 3,
    "start_time": "2022-11-11T09:49:52.558Z"
   },
   {
    "duration": 71835,
    "start_time": "2022-11-11T09:50:55.550Z"
   },
   {
    "duration": 7,
    "start_time": "2022-11-11T09:52:11.996Z"
   },
   {
    "duration": 10,
    "start_time": "2022-11-11T09:52:12.744Z"
   },
   {
    "duration": 18,
    "start_time": "2022-11-11T09:52:21.649Z"
   },
   {
    "duration": 878,
    "start_time": "2022-11-11T09:53:19.591Z"
   },
   {
    "duration": 1038,
    "start_time": "2022-11-11T09:53:45.645Z"
   },
   {
    "duration": 130,
    "start_time": "2022-11-11T10:02:17.990Z"
   },
   {
    "duration": 34218,
    "start_time": "2022-11-11T10:02:35.671Z"
   },
   {
    "duration": 322,
    "start_time": "2022-11-11T10:03:22.686Z"
   },
   {
    "duration": 60672,
    "start_time": "2022-11-11T10:03:48.647Z"
   },
   {
    "duration": 145530,
    "start_time": "2022-11-11T10:06:20.851Z"
   },
   {
    "duration": 98591,
    "start_time": "2022-11-11T10:13:43.894Z"
   },
   {
    "duration": 7,
    "start_time": "2022-11-11T10:15:52.744Z"
   },
   {
    "duration": 434,
    "start_time": "2022-11-11T10:15:56.060Z"
   },
   {
    "duration": 602,
    "start_time": "2022-11-11T10:15:57.380Z"
   },
   {
    "duration": 144954,
    "start_time": "2022-11-11T10:18:09.450Z"
   },
   {
    "duration": 206167,
    "start_time": "2022-11-11T10:20:47.117Z"
   },
   {
    "duration": 7,
    "start_time": "2022-11-11T10:24:18.881Z"
   },
   {
    "duration": 557,
    "start_time": "2022-11-11T10:24:19.596Z"
   },
   {
    "duration": 1734,
    "start_time": "2022-11-11T10:24:21.949Z"
   },
   {
    "duration": 87524,
    "start_time": "2022-11-11T10:31:42.754Z"
   },
   {
    "duration": 9,
    "start_time": "2022-11-11T10:34:00.676Z"
   },
   {
    "duration": 150430,
    "start_time": "2022-11-11T10:34:07.854Z"
   },
   {
    "duration": 1489,
    "start_time": "2022-11-11T10:37:57.238Z"
   },
   {
    "duration": 53,
    "start_time": "2022-11-11T10:37:58.729Z"
   },
   {
    "duration": 12,
    "start_time": "2022-11-11T10:37:58.783Z"
   },
   {
    "duration": 15,
    "start_time": "2022-11-11T10:37:59.188Z"
   },
   {
    "duration": 8,
    "start_time": "2022-11-11T10:38:00.680Z"
   },
   {
    "duration": 669,
    "start_time": "2022-11-11T10:38:00.873Z"
   },
   {
    "duration": 414,
    "start_time": "2022-11-11T10:38:01.544Z"
   },
   {
    "duration": 3,
    "start_time": "2022-11-11T10:38:01.960Z"
   },
   {
    "duration": 9,
    "start_time": "2022-11-11T10:38:03.351Z"
   },
   {
    "duration": 10,
    "start_time": "2022-11-11T10:38:04.395Z"
   },
   {
    "duration": 18,
    "start_time": "2022-11-11T10:38:04.934Z"
   },
   {
    "duration": 5,
    "start_time": "2022-11-11T10:38:28.415Z"
   },
   {
    "duration": 14,
    "start_time": "2022-11-11T10:38:28.705Z"
   },
   {
    "duration": 4,
    "start_time": "2022-11-11T10:38:29.512Z"
   },
   {
    "duration": 8,
    "start_time": "2022-11-11T10:38:30.944Z"
   },
   {
    "duration": 12,
    "start_time": "2022-11-11T10:38:33.324Z"
   },
   {
    "duration": 3,
    "start_time": "2022-11-11T10:38:35.115Z"
   },
   {
    "duration": 146608,
    "start_time": "2022-11-11T10:38:35.779Z"
   },
   {
    "duration": 4,
    "start_time": "2022-11-11T10:41:54.069Z"
   },
   {
    "duration": 1448,
    "start_time": "2022-11-11T10:55:10.020Z"
   },
   {
    "duration": 57,
    "start_time": "2022-11-11T10:55:11.470Z"
   },
   {
    "duration": 10,
    "start_time": "2022-11-11T10:55:11.529Z"
   },
   {
    "duration": 16,
    "start_time": "2022-11-11T10:55:12.481Z"
   },
   {
    "duration": 9,
    "start_time": "2022-11-11T10:55:16.479Z"
   },
   {
    "duration": 655,
    "start_time": "2022-11-11T10:55:17.255Z"
   },
   {
    "duration": 424,
    "start_time": "2022-11-11T10:55:17.912Z"
   },
   {
    "duration": 2,
    "start_time": "2022-11-11T10:55:18.338Z"
   },
   {
    "duration": 10,
    "start_time": "2022-11-11T10:55:19.570Z"
   },
   {
    "duration": 10,
    "start_time": "2022-11-11T10:55:20.620Z"
   },
   {
    "duration": 12,
    "start_time": "2022-11-11T10:55:21.044Z"
   },
   {
    "duration": 5,
    "start_time": "2022-11-11T10:55:22.282Z"
   },
   {
    "duration": 17,
    "start_time": "2022-11-11T10:55:22.827Z"
   },
   {
    "duration": 5,
    "start_time": "2022-11-11T10:55:23.310Z"
   },
   {
    "duration": 9,
    "start_time": "2022-11-11T10:55:24.336Z"
   },
   {
    "duration": 111,
    "start_time": "2022-11-11T10:55:24.767Z"
   },
   {
    "duration": 3,
    "start_time": "2022-11-11T10:55:25.797Z"
   },
   {
    "duration": 270,
    "start_time": "2022-11-11T10:55:26.479Z"
   },
   {
    "duration": 143,
    "start_time": "2022-11-11T10:56:30.654Z"
   },
   {
    "duration": 23301,
    "start_time": "2022-11-11T10:58:03.207Z"
   },
   {
    "duration": 39,
    "start_time": "2022-11-11T10:58:56.469Z"
   },
   {
    "duration": 32,
    "start_time": "2022-11-11T10:59:14.929Z"
   },
   {
    "duration": 1760,
    "start_time": "2022-11-11T11:01:27.509Z"
   },
   {
    "duration": 68,
    "start_time": "2022-11-11T11:01:29.271Z"
   },
   {
    "duration": 11,
    "start_time": "2022-11-11T11:01:29.341Z"
   },
   {
    "duration": 32,
    "start_time": "2022-11-11T11:01:29.354Z"
   },
   {
    "duration": 9,
    "start_time": "2022-11-11T11:01:29.752Z"
   },
   {
    "duration": 768,
    "start_time": "2022-11-11T11:01:30.001Z"
   },
   {
    "duration": 524,
    "start_time": "2022-11-11T11:01:30.771Z"
   },
   {
    "duration": 5,
    "start_time": "2022-11-11T11:01:31.305Z"
   },
   {
    "duration": 12,
    "start_time": "2022-11-11T11:01:32.601Z"
   },
   {
    "duration": 12,
    "start_time": "2022-11-11T11:01:33.364Z"
   },
   {
    "duration": 14,
    "start_time": "2022-11-11T11:01:33.607Z"
   },
   {
    "duration": 6,
    "start_time": "2022-11-11T11:01:34.771Z"
   },
   {
    "duration": 14,
    "start_time": "2022-11-11T11:01:35.239Z"
   },
   {
    "duration": 5,
    "start_time": "2022-11-11T11:01:35.608Z"
   },
   {
    "duration": 10,
    "start_time": "2022-11-11T11:01:36.451Z"
   },
   {
    "duration": 3,
    "start_time": "2022-11-11T11:01:36.859Z"
   },
   {
    "duration": 35,
    "start_time": "2022-11-11T11:01:37.121Z"
   },
   {
    "duration": 4,
    "start_time": "2022-11-11T11:01:38.341Z"
   },
   {
    "duration": 24636,
    "start_time": "2022-11-11T11:01:39.021Z"
   },
   {
    "duration": 4,
    "start_time": "2022-11-11T11:02:08.093Z"
   },
   {
    "duration": 1495,
    "start_time": "2022-11-11T14:58:09.657Z"
   },
   {
    "duration": 140,
    "start_time": "2022-11-11T14:58:11.996Z"
   },
   {
    "duration": 10,
    "start_time": "2022-11-11T14:58:12.950Z"
   },
   {
    "duration": 11,
    "start_time": "2022-11-11T14:58:13.722Z"
   },
   {
    "duration": 12,
    "start_time": "2022-11-11T14:58:15.478Z"
   },
   {
    "duration": 642,
    "start_time": "2022-11-11T14:58:15.645Z"
   },
   {
    "duration": 384,
    "start_time": "2022-11-11T14:58:16.289Z"
   },
   {
    "duration": 2,
    "start_time": "2022-11-11T14:58:16.676Z"
   },
   {
    "duration": 8,
    "start_time": "2022-11-11T14:58:17.901Z"
   },
   {
    "duration": 13,
    "start_time": "2022-11-11T14:58:19.100Z"
   },
   {
    "duration": 14,
    "start_time": "2022-11-11T14:58:19.678Z"
   },
   {
    "duration": 4,
    "start_time": "2022-11-11T14:58:22.437Z"
   },
   {
    "duration": 13,
    "start_time": "2022-11-11T14:58:23.541Z"
   },
   {
    "duration": 4,
    "start_time": "2022-11-11T14:58:24.117Z"
   },
   {
    "duration": 8,
    "start_time": "2022-11-11T14:59:25.380Z"
   },
   {
    "duration": 12,
    "start_time": "2022-11-11T14:59:25.537Z"
   },
   {
    "duration": 5,
    "start_time": "2022-11-11T14:59:26.236Z"
   },
   {
    "duration": 14,
    "start_time": "2022-11-11T14:59:26.725Z"
   },
   {
    "duration": 6,
    "start_time": "2022-11-11T14:59:27.151Z"
   },
   {
    "duration": 12,
    "start_time": "2022-11-11T14:59:29.594Z"
   },
   {
    "duration": 92,
    "start_time": "2022-11-11T14:59:30.238Z"
   },
   {
    "duration": 3,
    "start_time": "2022-11-11T14:59:32.402Z"
   },
   {
    "duration": 4,
    "start_time": "2022-11-11T14:59:35.310Z"
   },
   {
    "duration": 20595,
    "start_time": "2022-11-11T14:59:35.722Z"
   },
   {
    "duration": 1370,
    "start_time": "2022-11-11T15:08:17.943Z"
   },
   {
    "duration": 56,
    "start_time": "2022-11-11T15:08:19.352Z"
   },
   {
    "duration": 11,
    "start_time": "2022-11-11T15:08:20.236Z"
   },
   {
    "duration": 13,
    "start_time": "2022-11-11T15:08:21.786Z"
   },
   {
    "duration": 6,
    "start_time": "2022-11-11T15:08:34.157Z"
   },
   {
    "duration": 51,
    "start_time": "2022-11-11T15:08:35.634Z"
   },
   {
    "duration": 12,
    "start_time": "2022-11-11T15:08:36.302Z"
   },
   {
    "duration": 12,
    "start_time": "2022-11-11T15:08:36.558Z"
   },
   {
    "duration": 7,
    "start_time": "2022-11-11T15:08:38.807Z"
   },
   {
    "duration": 609,
    "start_time": "2022-11-11T15:08:39.234Z"
   },
   {
    "duration": 467,
    "start_time": "2022-11-11T15:08:39.845Z"
   },
   {
    "duration": 4,
    "start_time": "2022-11-11T15:09:17.491Z"
   },
   {
    "duration": 49,
    "start_time": "2022-11-11T15:09:18.160Z"
   },
   {
    "duration": 15,
    "start_time": "2022-11-11T15:09:18.343Z"
   },
   {
    "duration": 15,
    "start_time": "2022-11-11T15:09:18.571Z"
   },
   {
    "duration": 11,
    "start_time": "2022-11-11T15:09:20.539Z"
   },
   {
    "duration": 588,
    "start_time": "2022-11-11T15:09:21.025Z"
   },
   {
    "duration": 321,
    "start_time": "2022-11-11T15:09:21.618Z"
   },
   {
    "duration": 2,
    "start_time": "2022-11-11T15:09:23.147Z"
   },
   {
    "duration": 10,
    "start_time": "2022-11-11T15:09:31.056Z"
   },
   {
    "duration": 12,
    "start_time": "2022-11-11T15:09:35.108Z"
   },
   {
    "duration": 15,
    "start_time": "2022-11-11T15:09:36.404Z"
   },
   {
    "duration": 6,
    "start_time": "2022-11-11T15:11:18.216Z"
   },
   {
    "duration": 13,
    "start_time": "2022-11-11T15:11:18.949Z"
   },
   {
    "duration": 5,
    "start_time": "2022-11-11T15:11:19.705Z"
   },
   {
    "duration": 12,
    "start_time": "2022-11-11T15:11:21.837Z"
   },
   {
    "duration": 20,
    "start_time": "2022-11-11T15:11:22.780Z"
   },
   {
    "duration": 11,
    "start_time": "2022-11-11T15:11:25.575Z"
   },
   {
    "duration": 3,
    "start_time": "2022-11-11T15:11:26.198Z"
   },
   {
    "duration": 2,
    "start_time": "2022-11-11T15:11:26.822Z"
   },
   {
    "duration": 20999,
    "start_time": "2022-11-11T15:11:28.590Z"
   },
   {
    "duration": 3,
    "start_time": "2022-11-11T15:12:13.277Z"
   },
   {
    "duration": 1363,
    "start_time": "2022-11-11T15:24:24.098Z"
   },
   {
    "duration": 52,
    "start_time": "2022-11-11T15:24:25.463Z"
   },
   {
    "duration": 9,
    "start_time": "2022-11-11T15:24:25.517Z"
   },
   {
    "duration": 25,
    "start_time": "2022-11-11T15:24:25.528Z"
   },
   {
    "duration": 9,
    "start_time": "2022-11-11T15:24:25.818Z"
   },
   {
    "duration": 590,
    "start_time": "2022-11-11T15:24:25.980Z"
   },
   {
    "duration": 376,
    "start_time": "2022-11-11T15:24:26.572Z"
   },
   {
    "duration": 2,
    "start_time": "2022-11-11T15:24:26.950Z"
   },
   {
    "duration": 8,
    "start_time": "2022-11-11T15:24:27.858Z"
   },
   {
    "duration": 13,
    "start_time": "2022-11-11T15:24:28.059Z"
   },
   {
    "duration": 5,
    "start_time": "2022-11-11T15:24:28.836Z"
   },
   {
    "duration": 13,
    "start_time": "2022-11-11T15:24:29.049Z"
   },
   {
    "duration": 4,
    "start_time": "2022-11-11T15:24:29.206Z"
   },
   {
    "duration": 8,
    "start_time": "2022-11-11T15:24:29.611Z"
   },
   {
    "duration": 11,
    "start_time": "2022-11-11T15:24:29.809Z"
   },
   {
    "duration": 2,
    "start_time": "2022-11-11T15:24:30.031Z"
   },
   {
    "duration": 2,
    "start_time": "2022-11-11T15:24:30.194Z"
   },
   {
    "duration": 29755,
    "start_time": "2022-11-11T15:24:30.426Z"
   },
   {
    "duration": 3,
    "start_time": "2022-11-11T15:26:42.494Z"
   },
   {
    "duration": 536266,
    "start_time": "2022-11-11T15:26:48.868Z"
   },
   {
    "duration": 9,
    "start_time": "2022-11-11T15:35:45.137Z"
   },
   {
    "duration": 301,
    "start_time": "2022-11-11T15:37:41.861Z"
   },
   {
    "duration": 216,
    "start_time": "2022-11-11T15:37:43.718Z"
   },
   {
    "duration": 29,
    "start_time": "2022-11-11T15:37:57.957Z"
   },
   {
    "duration": 293,
    "start_time": "2022-11-11T15:38:00.219Z"
   },
   {
    "duration": 116621,
    "start_time": "2022-11-11T15:38:01.913Z"
   },
   {
    "duration": 5,
    "start_time": "2022-11-11T15:39:58.536Z"
   },
   {
    "duration": 321,
    "start_time": "2022-11-11T15:39:58.542Z"
   },
   {
    "duration": 265,
    "start_time": "2022-11-11T15:39:58.865Z"
   },
   {
    "duration": 8,
    "start_time": "2022-11-11T15:42:18.120Z"
   },
   {
    "duration": 109,
    "start_time": "2022-11-11T15:42:27.766Z"
   },
   {
    "duration": 7,
    "start_time": "2022-11-11T15:42:46.242Z"
   },
   {
    "duration": 6,
    "start_time": "2022-11-11T15:43:46.529Z"
   },
   {
    "duration": 6,
    "start_time": "2022-11-11T15:47:51.684Z"
   },
   {
    "duration": 6,
    "start_time": "2022-11-11T15:48:10.528Z"
   },
   {
    "duration": 8,
    "start_time": "2022-11-11T15:49:43.525Z"
   },
   {
    "duration": 9,
    "start_time": "2022-11-11T15:50:02.559Z"
   },
   {
    "duration": 9,
    "start_time": "2022-11-11T15:50:34.798Z"
   },
   {
    "duration": 9,
    "start_time": "2022-11-11T15:50:40.766Z"
   },
   {
    "duration": 10,
    "start_time": "2022-11-11T15:50:54.797Z"
   },
   {
    "duration": 279,
    "start_time": "2022-11-11T15:58:01.344Z"
   },
   {
    "duration": 83653,
    "start_time": "2022-11-11T15:58:25.883Z"
   },
   {
    "duration": 1517,
    "start_time": "2022-11-12T10:29:06.343Z"
   },
   {
    "duration": 132,
    "start_time": "2022-11-12T10:29:08.634Z"
   },
   {
    "duration": 10,
    "start_time": "2022-11-12T10:29:09.276Z"
   },
   {
    "duration": 12,
    "start_time": "2022-11-12T10:29:10.142Z"
   },
   {
    "duration": 10,
    "start_time": "2022-11-12T10:29:13.840Z"
   },
   {
    "duration": 619,
    "start_time": "2022-11-12T10:29:23.007Z"
   },
   {
    "duration": 399,
    "start_time": "2022-11-12T10:29:23.684Z"
   },
   {
    "duration": 3,
    "start_time": "2022-11-12T10:29:26.565Z"
   },
   {
    "duration": 8,
    "start_time": "2022-11-12T10:29:31.456Z"
   },
   {
    "duration": 12,
    "start_time": "2022-11-12T10:29:32.050Z"
   },
   {
    "duration": 5,
    "start_time": "2022-11-12T10:32:01.234Z"
   },
   {
    "duration": 55,
    "start_time": "2022-11-12T10:32:01.566Z"
   },
   {
    "duration": 11,
    "start_time": "2022-11-12T10:32:01.767Z"
   },
   {
    "duration": 13,
    "start_time": "2022-11-12T10:32:02.156Z"
   },
   {
    "duration": 10,
    "start_time": "2022-11-12T10:32:03.088Z"
   },
   {
    "duration": 627,
    "start_time": "2022-11-12T10:32:03.260Z"
   },
   {
    "duration": 385,
    "start_time": "2022-11-12T10:32:03.892Z"
   },
   {
    "duration": 3,
    "start_time": "2022-11-12T10:32:04.279Z"
   },
   {
    "duration": 3,
    "start_time": "2022-11-12T10:32:05.859Z"
   },
   {
    "duration": 27,
    "start_time": "2022-11-12T10:32:06.036Z"
   },
   {
    "duration": 5,
    "start_time": "2022-11-12T10:32:16.926Z"
   },
   {
    "duration": 13,
    "start_time": "2022-11-12T10:32:20.395Z"
   },
   {
    "duration": 142,
    "start_time": "2022-11-12T10:33:03.367Z"
   },
   {
    "duration": 1445,
    "start_time": "2022-11-12T10:33:30.245Z"
   },
   {
    "duration": 57,
    "start_time": "2022-11-12T10:33:31.692Z"
   },
   {
    "duration": 11,
    "start_time": "2022-11-12T10:33:31.750Z"
   },
   {
    "duration": 34,
    "start_time": "2022-11-12T10:33:31.763Z"
   },
   {
    "duration": 10,
    "start_time": "2022-11-12T10:33:32.079Z"
   },
   {
    "duration": 661,
    "start_time": "2022-11-12T10:33:32.270Z"
   },
   {
    "duration": 427,
    "start_time": "2022-11-12T10:33:32.933Z"
   },
   {
    "duration": 3,
    "start_time": "2022-11-12T10:33:33.361Z"
   },
   {
    "duration": 3,
    "start_time": "2022-11-12T10:33:34.589Z"
   },
   {
    "duration": 139,
    "start_time": "2022-11-12T10:33:34.782Z"
   },
   {
    "duration": 27,
    "start_time": "2022-11-12T10:34:03.212Z"
   },
   {
    "duration": 28,
    "start_time": "2022-11-12T10:34:38.716Z"
   },
   {
    "duration": 10,
    "start_time": "2022-11-12T10:34:44.482Z"
   },
   {
    "duration": 21,
    "start_time": "2022-11-12T10:35:42.200Z"
   },
   {
    "duration": 12,
    "start_time": "2022-11-12T10:35:45.799Z"
   },
   {
    "duration": 6,
    "start_time": "2022-11-12T10:35:50.349Z"
   },
   {
    "duration": 13,
    "start_time": "2022-11-12T10:35:53.142Z"
   },
   {
    "duration": 16,
    "start_time": "2022-11-12T10:38:09.964Z"
   },
   {
    "duration": 1300,
    "start_time": "2022-11-12T10:38:23.386Z"
   },
   {
    "duration": 54,
    "start_time": "2022-11-12T10:38:24.688Z"
   },
   {
    "duration": 10,
    "start_time": "2022-11-12T10:38:24.743Z"
   },
   {
    "duration": 14,
    "start_time": "2022-11-12T10:38:24.755Z"
   },
   {
    "duration": 7,
    "start_time": "2022-11-12T10:38:25.076Z"
   },
   {
    "duration": 572,
    "start_time": "2022-11-12T10:38:25.271Z"
   },
   {
    "duration": 379,
    "start_time": "2022-11-12T10:38:25.844Z"
   },
   {
    "duration": 5,
    "start_time": "2022-11-12T10:38:26.225Z"
   },
   {
    "duration": 9,
    "start_time": "2022-11-12T10:38:27.219Z"
   },
   {
    "duration": 11,
    "start_time": "2022-11-12T10:38:27.557Z"
   },
   {
    "duration": 5,
    "start_time": "2022-11-12T10:38:29.319Z"
   },
   {
    "duration": 13,
    "start_time": "2022-11-12T10:38:30.145Z"
   },
   {
    "duration": 4,
    "start_time": "2022-11-12T10:38:30.468Z"
   },
   {
    "duration": 8,
    "start_time": "2022-11-12T10:38:31.974Z"
   },
   {
    "duration": 11,
    "start_time": "2022-11-12T10:38:32.332Z"
   },
   {
    "duration": 2,
    "start_time": "2022-11-12T10:38:33.208Z"
   },
   {
    "duration": 3,
    "start_time": "2022-11-12T10:38:33.821Z"
   },
   {
    "duration": 31967,
    "start_time": "2022-11-12T10:38:34.587Z"
   },
   {
    "duration": 2,
    "start_time": "2022-11-12T10:39:06.557Z"
   },
   {
    "duration": 1451,
    "start_time": "2022-11-12T10:40:42.010Z"
   },
   {
    "duration": 60,
    "start_time": "2022-11-12T10:40:43.463Z"
   },
   {
    "duration": 11,
    "start_time": "2022-11-12T10:40:43.524Z"
   },
   {
    "duration": 15,
    "start_time": "2022-11-12T10:40:43.537Z"
   },
   {
    "duration": 11,
    "start_time": "2022-11-12T10:40:44.051Z"
   },
   {
    "duration": 593,
    "start_time": "2022-11-12T10:40:44.238Z"
   },
   {
    "duration": 430,
    "start_time": "2022-11-12T10:40:44.834Z"
   },
   {
    "duration": 3,
    "start_time": "2022-11-12T10:40:45.266Z"
   },
   {
    "duration": 8,
    "start_time": "2022-11-12T10:40:46.189Z"
   },
   {
    "duration": 12,
    "start_time": "2022-11-12T10:40:46.398Z"
   },
   {
    "duration": 12,
    "start_time": "2022-11-12T10:40:53.719Z"
   },
   {
    "duration": 5,
    "start_time": "2022-11-12T10:40:55.853Z"
   },
   {
    "duration": 18,
    "start_time": "2022-11-12T10:40:57.025Z"
   },
   {
    "duration": 5,
    "start_time": "2022-11-12T10:40:57.704Z"
   },
   {
    "duration": 9,
    "start_time": "2022-11-12T10:41:00.146Z"
   },
   {
    "duration": 101,
    "start_time": "2022-11-12T10:41:00.629Z"
   },
   {
    "duration": 2,
    "start_time": "2022-11-12T10:41:00.983Z"
   },
   {
    "duration": 3,
    "start_time": "2022-11-12T10:41:01.486Z"
   },
   {
    "duration": 43092,
    "start_time": "2022-11-12T10:41:02.343Z"
   },
   {
    "duration": 2,
    "start_time": "2022-11-12T10:41:49.862Z"
   },
   {
    "duration": 212548,
    "start_time": "2022-11-12T10:41:50.882Z"
   },
   {
    "duration": 11,
    "start_time": "2022-11-12T10:56:11.726Z"
   },
   {
    "duration": 394,
    "start_time": "2022-11-12T10:56:13.073Z"
   },
   {
    "duration": 141140,
    "start_time": "2022-11-12T10:56:14.610Z"
   },
   {
    "duration": 4,
    "start_time": "2022-11-12T11:42:50.923Z"
   },
   {
    "duration": 49,
    "start_time": "2022-11-12T11:42:53.427Z"
   },
   {
    "duration": 11,
    "start_time": "2022-11-12T11:42:54.414Z"
   },
   {
    "duration": 11,
    "start_time": "2022-11-12T11:42:55.274Z"
   },
   {
    "duration": 8,
    "start_time": "2022-11-12T11:42:58.013Z"
   },
   {
    "duration": 569,
    "start_time": "2022-11-12T11:42:58.748Z"
   },
   {
    "duration": 313,
    "start_time": "2022-11-12T11:42:59.319Z"
   },
   {
    "duration": 3,
    "start_time": "2022-11-12T11:43:00.830Z"
   },
   {
    "duration": 9,
    "start_time": "2022-11-12T11:43:04.833Z"
   },
   {
    "duration": 16,
    "start_time": "2022-11-12T11:43:05.496Z"
   },
   {
    "duration": 14,
    "start_time": "2022-11-12T11:43:11.590Z"
   },
   {
    "duration": 5,
    "start_time": "2022-11-12T11:43:17.774Z"
   },
   {
    "duration": 20,
    "start_time": "2022-11-12T11:43:18.984Z"
   },
   {
    "duration": 5,
    "start_time": "2022-11-12T11:43:19.886Z"
   },
   {
    "duration": 9,
    "start_time": "2022-11-12T11:43:26.816Z"
   },
   {
    "duration": 71,
    "start_time": "2022-11-12T11:43:27.560Z"
   },
   {
    "duration": 2,
    "start_time": "2022-11-12T11:43:28.785Z"
   },
   {
    "duration": 3,
    "start_time": "2022-11-12T11:43:30.381Z"
   },
   {
    "duration": 56282,
    "start_time": "2022-11-12T11:43:31.079Z"
   },
   {
    "duration": 3,
    "start_time": "2022-11-12T11:44:38.592Z"
   },
   {
    "duration": 384526,
    "start_time": "2022-11-12T11:44:39.207Z"
   },
   {
    "duration": 8,
    "start_time": "2022-11-12T11:51:17.609Z"
   },
   {
    "duration": 114,
    "start_time": "2022-11-12T11:51:25.276Z"
   },
   {
    "duration": 227,
    "start_time": "2022-11-12T11:52:14.005Z"
   },
   {
    "duration": 765,
    "start_time": "2022-11-12T11:53:09.597Z"
   },
   {
    "duration": 587,
    "start_time": "2022-11-12T11:53:38.305Z"
   },
   {
    "duration": 387,
    "start_time": "2022-11-12T11:53:47.345Z"
   },
   {
    "duration": 9,
    "start_time": "2022-11-12T11:54:09.712Z"
   },
   {
    "duration": 228,
    "start_time": "2022-11-12T11:54:11.090Z"
   },
   {
    "duration": 203,
    "start_time": "2022-11-12T11:54:27.103Z"
   },
   {
    "duration": 231,
    "start_time": "2022-11-12T11:55:37.749Z"
   },
   {
    "duration": 169,
    "start_time": "2022-11-12T11:56:21.243Z"
   },
   {
    "duration": 252,
    "start_time": "2022-11-12T12:00:27.140Z"
   },
   {
    "duration": 218,
    "start_time": "2022-11-12T12:01:05.840Z"
   },
   {
    "duration": 7,
    "start_time": "2022-11-12T12:08:07.665Z"
   },
   {
    "duration": 169,
    "start_time": "2022-11-12T12:08:08.299Z"
   },
   {
    "duration": 576,
    "start_time": "2022-11-12T12:08:09.495Z"
   },
   {
    "duration": 126782,
    "start_time": "2022-11-12T12:08:12.449Z"
   },
   {
    "duration": 233,
    "start_time": "2022-11-12T12:11:46.079Z"
   },
   {
    "duration": 155,
    "start_time": "2022-11-12T12:12:16.579Z"
   },
   {
    "duration": 361,
    "start_time": "2022-11-12T12:12:47.220Z"
   },
   {
    "duration": 338,
    "start_time": "2022-11-12T12:13:13.253Z"
   },
   {
    "duration": 7,
    "start_time": "2022-11-12T12:13:35.219Z"
   },
   {
    "duration": 352,
    "start_time": "2022-11-12T12:13:36.062Z"
   },
   {
    "duration": 528,
    "start_time": "2022-11-12T12:14:14.863Z"
   },
   {
    "duration": 345,
    "start_time": "2022-11-12T12:14:16.648Z"
   },
   {
    "duration": 107622,
    "start_time": "2022-11-12T12:15:03.716Z"
   },
   {
    "duration": 392,
    "start_time": "2022-11-12T12:17:09.868Z"
   },
   {
    "duration": 13,
    "start_time": "2022-11-12T12:17:34.650Z"
   },
   {
    "duration": 19,
    "start_time": "2022-11-12T12:17:36.904Z"
   },
   {
    "duration": 19,
    "start_time": "2022-11-12T12:17:37.718Z"
   },
   {
    "duration": 5,
    "start_time": "2022-11-12T12:17:39.286Z"
   },
   {
    "duration": 8,
    "start_time": "2022-11-12T12:17:40.233Z"
   },
   {
    "duration": 178,
    "start_time": "2022-11-12T12:17:40.554Z"
   },
   {
    "duration": 3,
    "start_time": "2022-11-12T12:17:40.926Z"
   },
   {
    "duration": 2,
    "start_time": "2022-11-12T12:17:41.320Z"
   },
   {
    "duration": 64137,
    "start_time": "2022-11-12T12:17:41.663Z"
   },
   {
    "duration": 3,
    "start_time": "2022-11-12T12:18:50.342Z"
   },
   {
    "duration": 74421,
    "start_time": "2022-11-12T12:18:51.314Z"
   },
   {
    "duration": 90,
    "start_time": "2022-11-12T12:20:28.640Z"
   },
   {
    "duration": 363,
    "start_time": "2022-11-12T12:20:34.340Z"
   },
   {
    "duration": 1230,
    "start_time": "2022-11-12T12:20:42.448Z"
   },
   {
    "duration": 360,
    "start_time": "2022-11-12T12:20:52.046Z"
   },
   {
    "duration": 19241,
    "start_time": "2022-11-12T12:20:56.594Z"
   },
   {
    "duration": 378,
    "start_time": "2022-11-12T12:21:21.854Z"
   },
   {
    "duration": 19,
    "start_time": "2022-11-12T12:22:04.080Z"
   },
   {
    "duration": 14,
    "start_time": "2022-11-12T12:22:06.740Z"
   },
   {
    "duration": 19,
    "start_time": "2022-11-12T12:22:07.355Z"
   },
   {
    "duration": 4,
    "start_time": "2022-11-12T12:22:07.390Z"
   },
   {
    "duration": 9,
    "start_time": "2022-11-12T12:22:09.026Z"
   },
   {
    "duration": 88,
    "start_time": "2022-11-12T12:22:09.452Z"
   },
   {
    "duration": 3,
    "start_time": "2022-11-12T12:22:09.705Z"
   },
   {
    "duration": 5,
    "start_time": "2022-11-12T12:22:10.101Z"
   },
   {
    "duration": 78857,
    "start_time": "2022-11-12T12:22:10.290Z"
   },
   {
    "duration": 3,
    "start_time": "2022-11-12T12:23:34.084Z"
   },
   {
    "duration": 297427,
    "start_time": "2022-11-12T12:23:34.512Z"
   },
   {
    "duration": 8,
    "start_time": "2022-11-12T12:30:50.642Z"
   },
   {
    "duration": 392,
    "start_time": "2022-11-12T12:30:53.949Z"
   },
   {
    "duration": 1300,
    "start_time": "2022-11-12T12:30:57.903Z"
   },
   {
    "duration": 406,
    "start_time": "2022-11-12T12:31:03.634Z"
   },
   {
    "duration": 603,
    "start_time": "2022-11-12T12:31:10.028Z"
   },
   {
    "duration": 486,
    "start_time": "2022-11-12T12:32:11.952Z"
   },
   {
    "duration": 5116,
    "start_time": "2022-11-13T06:33:40.614Z"
   },
   {
    "duration": 148,
    "start_time": "2022-11-13T06:33:45.732Z"
   },
   {
    "duration": 10,
    "start_time": "2022-11-13T06:33:45.882Z"
   },
   {
    "duration": 13,
    "start_time": "2022-11-13T06:33:45.893Z"
   },
   {
    "duration": 7,
    "start_time": "2022-11-13T06:33:45.908Z"
   },
   {
    "duration": 717,
    "start_time": "2022-11-13T06:33:45.917Z"
   },
   {
    "duration": 414,
    "start_time": "2022-11-13T06:33:46.636Z"
   },
   {
    "duration": 3,
    "start_time": "2022-11-13T06:33:47.051Z"
   },
   {
    "duration": 22,
    "start_time": "2022-11-13T06:33:47.056Z"
   },
   {
    "duration": 25,
    "start_time": "2022-11-13T06:33:47.080Z"
   },
   {
    "duration": 5,
    "start_time": "2022-11-13T06:33:47.107Z"
   },
   {
    "duration": 21,
    "start_time": "2022-11-13T06:33:56.066Z"
   }
  ],
  "kernelspec": {
   "display_name": "Python 3 (ipykernel)",
   "language": "python",
   "name": "python3"
  },
  "language_info": {
   "codemirror_mode": {
    "name": "ipython",
    "version": 3
   },
   "file_extension": ".py",
   "mimetype": "text/x-python",
   "name": "python",
   "nbconvert_exporter": "python",
   "pygments_lexer": "ipython3",
   "version": "3.9.5"
  },
  "toc": {
   "base_numbering": 1,
   "nav_menu": {},
   "number_sections": true,
   "sideBar": true,
   "skip_h1_title": true,
   "title_cell": "Содержание",
   "title_sidebar": "Contents",
   "toc_cell": true,
   "toc_position": {
    "height": "calc(100% - 180px)",
    "left": "10px",
    "top": "150px",
    "width": "342.236px"
   },
   "toc_section_display": true,
   "toc_window_display": false
  }
 },
 "nbformat": 4,
 "nbformat_minor": 2
}
