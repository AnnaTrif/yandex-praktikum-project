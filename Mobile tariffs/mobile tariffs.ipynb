{
 "cells": [
  {
   "cell_type": "markdown",
   "metadata": {},
   "source": [
    "# Прогнозирование подходящих тарифов"
   ]
  },
  {
   "cell_type": "markdown",
   "metadata": {},
   "source": [
    "Предоставлены данные о поведении клиентов, которые уже перешли на тарифы. Нужно построить модель для задачи классификации, которая выберет подходящий тариф.\n",
    "\n",
    "Необходимо построить модель с максимально большим значением *accuracy*. (нужно довести долю правильных ответов до 0.75)"
   ]
  },
  {
   "cell_type": "markdown",
   "metadata": {},
   "source": [
    "## Просмотр данных"
   ]
  },
  {
   "cell_type": "code",
   "execution_count": 1,
   "metadata": {},
   "outputs": [],
   "source": [
    "# импорт необходимых библиотек\n",
    "import pandas as pd\n",
    "from sklearn.model_selection import train_test_split\n",
    "from sklearn.metrics import accuracy_score\n",
    "from sklearn.tree import DecisionTreeClassifier\n",
    "from sklearn.ensemble import RandomForestClassifier\n",
    "from sklearn.linear_model import LogisticRegression\n",
    "from sklearn.model_selection import GridSearchCV\n",
    "from sklearn.dummy import DummyClassifier"
   ]
  },
  {
   "cell_type": "code",
   "execution_count": 2,
   "metadata": {
    "scrolled": true
   },
   "outputs": [
    {
     "data": {
      "text/html": [
       "<div>\n",
       "<style scoped>\n",
       "    .dataframe tbody tr th:only-of-type {\n",
       "        vertical-align: middle;\n",
       "    }\n",
       "\n",
       "    .dataframe tbody tr th {\n",
       "        vertical-align: top;\n",
       "    }\n",
       "\n",
       "    .dataframe thead th {\n",
       "        text-align: right;\n",
       "    }\n",
       "</style>\n",
       "<table border=\"1\" class=\"dataframe\">\n",
       "  <thead>\n",
       "    <tr style=\"text-align: right;\">\n",
       "      <th></th>\n",
       "      <th>calls</th>\n",
       "      <th>minutes</th>\n",
       "      <th>messages</th>\n",
       "      <th>mb_used</th>\n",
       "      <th>is_ultra</th>\n",
       "    </tr>\n",
       "  </thead>\n",
       "  <tbody>\n",
       "    <tr>\n",
       "      <th>0</th>\n",
       "      <td>40.0</td>\n",
       "      <td>311.90</td>\n",
       "      <td>83.0</td>\n",
       "      <td>19915.42</td>\n",
       "      <td>0</td>\n",
       "    </tr>\n",
       "    <tr>\n",
       "      <th>1</th>\n",
       "      <td>85.0</td>\n",
       "      <td>516.75</td>\n",
       "      <td>56.0</td>\n",
       "      <td>22696.96</td>\n",
       "      <td>0</td>\n",
       "    </tr>\n",
       "    <tr>\n",
       "      <th>2</th>\n",
       "      <td>77.0</td>\n",
       "      <td>467.66</td>\n",
       "      <td>86.0</td>\n",
       "      <td>21060.45</td>\n",
       "      <td>0</td>\n",
       "    </tr>\n",
       "    <tr>\n",
       "      <th>3</th>\n",
       "      <td>106.0</td>\n",
       "      <td>745.53</td>\n",
       "      <td>81.0</td>\n",
       "      <td>8437.39</td>\n",
       "      <td>1</td>\n",
       "    </tr>\n",
       "    <tr>\n",
       "      <th>4</th>\n",
       "      <td>66.0</td>\n",
       "      <td>418.74</td>\n",
       "      <td>1.0</td>\n",
       "      <td>14502.75</td>\n",
       "      <td>0</td>\n",
       "    </tr>\n",
       "  </tbody>\n",
       "</table>\n",
       "</div>"
      ],
      "text/plain": [
       "   calls  minutes  messages   mb_used  is_ultra\n",
       "0   40.0   311.90      83.0  19915.42         0\n",
       "1   85.0   516.75      56.0  22696.96         0\n",
       "2   77.0   467.66      86.0  21060.45         0\n",
       "3  106.0   745.53      81.0   8437.39         1\n",
       "4   66.0   418.74       1.0  14502.75         0"
      ]
     },
     "execution_count": 2,
     "metadata": {},
     "output_type": "execute_result"
    }
   ],
   "source": [
    "# чтение и просмотр файла\n",
    "df = pd.read_csv('/datasets/users_behavior.csv')\n",
    "df.head()"
   ]
  },
  {
   "cell_type": "code",
   "execution_count": 3,
   "metadata": {
    "scrolled": true
   },
   "outputs": [
    {
     "name": "stdout",
     "output_type": "stream",
     "text": [
      "<class 'pandas.core.frame.DataFrame'>\n",
      "RangeIndex: 3214 entries, 0 to 3213\n",
      "Data columns (total 5 columns):\n",
      " #   Column    Non-Null Count  Dtype  \n",
      "---  ------    --------------  -----  \n",
      " 0   calls     3214 non-null   float64\n",
      " 1   minutes   3214 non-null   float64\n",
      " 2   messages  3214 non-null   float64\n",
      " 3   mb_used   3214 non-null   float64\n",
      " 4   is_ultra  3214 non-null   int64  \n",
      "dtypes: float64(4), int64(1)\n",
      "memory usage: 125.7 KB\n"
     ]
    }
   ],
   "source": [
    "df.info()"
   ]
  },
  {
   "cell_type": "markdown",
   "metadata": {},
   "source": [
    "**Вывод:**\n",
    "- В данных отстутствуют пропуски.\n",
    "- Целевой признак имеет категориальную форму.\n",
    "- Данные относятся к типам `float` и `int`."
   ]
  },
  {
   "cell_type": "markdown",
   "metadata": {},
   "source": [
    "## Разбиение данных на выборки"
   ]
  },
  {
   "cell_type": "code",
   "execution_count": 4,
   "metadata": {},
   "outputs": [],
   "source": [
    "# определение целевого признака и признаков\n",
    "features = df.drop(['is_ultra'], axis = 1)\n",
    "target = df['is_ultra']"
   ]
  },
  {
   "cell_type": "code",
   "execution_count": 5,
   "metadata": {},
   "outputs": [],
   "source": [
    "# деление исходного набора данных на две выборки: обучающую и тестовую\n",
    "# под обучающую отвела 60%, под тестовую - 40%, чтобы в дальнейшем разбить \n",
    "# её на тестовую и валидационную\n",
    "features_train, features_test, target_train, target_test = train_test_split(features, target, \n",
    "                                                                            test_size = 0.4, random_state = 12345,\n",
    "                                                                            stratify=target)"
   ]
  },
  {
   "cell_type": "code",
   "execution_count": 6,
   "metadata": {},
   "outputs": [],
   "source": [
    "# деление тестовой выборки на тестовую и валидационную\n",
    "# от исходного набора данных они содержат каждая по 20%\n",
    "features_test, features_valid, target_test, target_valid = train_test_split(features_test, target_test, \n",
    "                                                                            test_size = 0.5, random_state = 12345,\n",
    "                                                                            stratify=target_test)"
   ]
  },
  {
   "cell_type": "code",
   "execution_count": 7,
   "metadata": {},
   "outputs": [
    {
     "name": "stdout",
     "output_type": "stream",
     "text": [
      "(1928, 4) (643, 4) (643, 4)\n"
     ]
    }
   ],
   "source": [
    "# проверка корректности разбиения\n",
    "print(features_train.shape,\n",
    "      features_test.shape, \n",
    "      features_valid.shape)"
   ]
  },
  {
   "cell_type": "markdown",
   "metadata": {},
   "source": [
    "**Вывод:**\n",
    "- Определены целевой признак и признаки.\n",
    "- Данные разделены на три выборки: обучающую, тестовую и валидационную. \n",
    "- Сделана проверка корректности разбиения."
   ]
  },
  {
   "cell_type": "markdown",
   "metadata": {},
   "source": [
    "## Исследование моделей"
   ]
  },
  {
   "cell_type": "markdown",
   "metadata": {},
   "source": [
    "### Исследование качества решающего дерева"
   ]
  },
  {
   "cell_type": "code",
   "execution_count": 9,
   "metadata": {},
   "outputs": [
    {
     "name": "stdout",
     "output_type": "stream",
     "text": [
      "Лучшее значение accuracy: 0.8118195956454122 Глубина дерева: 5\n"
     ]
    }
   ],
   "source": [
    "# изменение гиперпараметра max_depth\n",
    "# выявление лучшего значения метрики\n",
    "best_model = None\n",
    "best_result = 0\n",
    "best_depth = 0\n",
    "for depth in range(1,11):\n",
    "    model = DecisionTreeClassifier(random_state = 12345, max_depth = depth)\n",
    "    model.fit(features_train, target_train)\n",
    "    predictions_valid = model.predict(features_valid)\n",
    "    result = accuracy_score(target_valid, predictions_valid)\n",
    "    if result > best_result:\n",
    "        best_model = model\n",
    "        best_result = result\n",
    "        best_depth = depth\n",
    "print('Лучшее значение accuracy:', best_result, \n",
    "      'Глубина дерева:', best_depth)\n",
    "#print('max_depth =', depth, \": \", end='')\n",
    "#print(accuracy_score(target_valid, predictions_valid))"
   ]
  },
  {
   "cell_type": "markdown",
   "metadata": {},
   "source": [
    "**Вывод:**\n",
    "- Из рассматриваемых вариантов значений гиперпараметра `max_depth` лучшее качество показывает дерево с глубиной равной 5. "
   ]
  },
  {
   "cell_type": "code",
   "execution_count": 10,
   "metadata": {
    "scrolled": true
   },
   "outputs": [
    {
     "name": "stdout",
     "output_type": "stream",
     "text": [
      "Лучшее значение accuracy: 0.8118195956454122 Глубина дерева: 5\n"
     ]
    },
    {
     "data": {
      "image/png": "[encoded data removed]",
      "text/plain": [
       "<Figure size 432x288 with 1 Axes>"
      ]
     },
     "metadata": {
      "needs_background": "light"
     },
     "output_type": "display_data"
    }
   ],
   "source": [
    "# код ревьюера\n",
    "\n",
    "# изменение гиперпараметра max_depth\n",
    "# выявление лучшего значения метрики\n",
    "best_model = None\n",
    "best_result = 0\n",
    "best_depth = 0\n",
    "\n",
    "# добавил\n",
    "lst_test = []\n",
    "lst_train = []\n",
    "# добавил\n",
    "\n",
    "for depth in range(1,20):\n",
    "    model = DecisionTreeClassifier(random_state = 12345, max_depth = depth)\n",
    "    model.fit(features_train, target_train)\n",
    "    predictions_valid = model.predict(features_valid)\n",
    "    result = accuracy_score(target_valid, predictions_valid)\n",
    "# добавил    \n",
    "    predictions_train = model.predict(features_train)\n",
    "    result_train = accuracy_score(target_train, predictions_train)\n",
    "    lst_train.append(result_train)\n",
    "    lst_test.append(result)\n",
    "# добавил\n",
    "\n",
    "\n",
    "    if result > best_result:\n",
    "        best_model = model\n",
    "        best_result = result\n",
    "        best_depth = depth\n",
    "print('Лучшее значение accuracy:', best_result, \n",
    "      'Глубина дерева:', best_depth)\n",
    "#print('max_depth =', depth, \": \", end='')\n",
    "#print(accuracy_score(target_valid, predictions_valid))\n",
    "\n",
    "\n",
    "# добавил\n",
    "import matplotlib.pyplot as plt\n",
    "plt.plot(lst_train)\n",
    "plt.plot(lst_test)\n",
    "plt.show()\n",
    "\n",
    "# и видим на графике как на train точность растет до 100%, а на валидации падает - переобучение."
   ]
  },
  {
   "cell_type": "markdown",
   "metadata": {},
   "source": [
    "### Исследование качества модели случайный лес"
   ]
  },
  {
   "cell_type": "code",
   "execution_count": 11,
   "metadata": {},
   "outputs": [],
   "source": [
    "# объединим тренировочную и валидационную выборки \n",
    "features_tv = pd.concat([features_train]+[features_valid])\n",
    "target_tv = pd.concat([target_train]+[target_valid])"
   ]
  },
  {
   "cell_type": "code",
   "execution_count": 12,
   "metadata": {},
   "outputs": [
    {
     "data": {
      "text/plain": [
       "({'max_depth': 9, 'n_estimators': 10}, 0.8031899059347966)"
      ]
     },
     "execution_count": 12,
     "metadata": {},
     "output_type": "execute_result"
    }
   ],
   "source": [
    "model = RandomForestClassifier(random_state=12345)\n",
    "parametrs = { \n",
    "    'n_estimators': range (10, 51, 10),\n",
    "    'max_depth': range (1,11)\n",
    "}\n",
    "grid = GridSearchCV(model, parametrs, cv=5)\n",
    "grid.fit(features_tv, target_tv)\n",
    "grid.best_params_, grid.best_score_"
   ]
  },
  {
   "cell_type": "code",
   "execution_count": 13,
   "metadata": {},
   "outputs": [
    {
     "name": "stdout",
     "output_type": "stream",
     "text": [
      "Лучшее значение accuracy: 0.8211508553654744 Количество деревьев: 20 Глубина дерева: 6\n"
     ]
    }
   ],
   "source": [
    "best_model = None\n",
    "best_result = 0\n",
    "best_est = 0\n",
    "best_depth = 0 \n",
    "for est in range(10,51,10):\n",
    "    for depth in range(1,11):\n",
    "        model = RandomForestClassifier(random_state = 12345, n_estimators = est, max_depth = depth)\n",
    "        model.fit(features_train, target_train)\n",
    "        predictions_valid = model.predict(features_valid)\n",
    "        result = accuracy_score(target_valid, predictions_valid)\n",
    "        if result > best_result:\n",
    "            best_model = model\n",
    "            best_result = result\n",
    "            best_est = est\n",
    "            best_depth = depth\n",
    "print('Лучшее значение accuracy:', best_result, \n",
    "      'Количество деревьев:', best_est,\n",
    "      'Глубина дерева:', best_depth)\n",
    "   \n",
    "#print('n_estimators =', est, \": \", end='')\n",
    "#print(accuracy_score(target_valid, predictions_valid))"
   ]
  },
  {
   "cell_type": "markdown",
   "metadata": {},
   "source": [
    "**Вывод:**\n",
    "- Из рассматриваемых вариантов значений гиперпараметра `n_estimators` лучшее качество показывает значение равное 6, глубина дерева - 20."
   ]
  },
  {
   "cell_type": "markdown",
   "metadata": {},
   "source": [
    "### Исследование качества логистической регрессии"
   ]
  },
  {
   "cell_type": "code",
   "execution_count": 14,
   "metadata": {},
   "outputs": [
    {
     "data": {
      "text/plain": [
       "0.7465007776049767"
      ]
     },
     "execution_count": 14,
     "metadata": {},
     "output_type": "execute_result"
    }
   ],
   "source": [
    "model = LogisticRegression(random_state = 12345, solver = 'lbfgs')\n",
    "model.fit(features_train, target_train)\n",
    "predictions_valid = model.predict(features_valid)\n",
    "accuracy_score(target_valid, predictions_valid)"
   ]
  },
  {
   "cell_type": "markdown",
   "metadata": {},
   "source": [
    "**Вывод:**\n",
    "- Лучшее качество предоставляет модель случайный лес."
   ]
  },
  {
   "cell_type": "markdown",
   "metadata": {},
   "source": [
    "## Проверка модели на тестовой выборке"
   ]
  },
  {
   "cell_type": "code",
   "execution_count": 15,
   "metadata": {},
   "outputs": [
    {
     "data": {
      "text/plain": [
       "0.8009331259720062"
      ]
     },
     "execution_count": 15,
     "metadata": {},
     "output_type": "execute_result"
    }
   ],
   "source": [
    "predictions_test = best_model.predict(features_test)\n",
    "accuracy_score(target_test, predictions_test)"
   ]
  },
  {
   "cell_type": "markdown",
   "metadata": {},
   "source": [
    "**Вывод:**\n",
    "- Показатель accuracy > 0.74"
   ]
  },
  {
   "cell_type": "code",
   "execution_count": 18,
   "metadata": {},
   "outputs": [
    {
     "data": {
      "text/plain": [
       "0.8304821150855366"
      ]
     },
     "execution_count": 18,
     "metadata": {},
     "output_type": "execute_result"
    }
   ],
   "source": [
    "# обучим модель на тренировочной + валидационной выборке\n",
    "# объединение выборок выше\n",
    "best_model.fit(features_tv, target_tv)\n",
    "predictions_test = best_model.predict(features_test)\n",
    "accuracy_score(target_test, predictions_test)"
   ]
  },
  {
   "cell_type": "markdown",
   "metadata": {},
   "source": [
    "**Вывод:**\n",
    "\n",
    "Модель обучена на тренировочной + валидационной выборке, результат метрики не изменился."
   ]
  },
  {
   "cell_type": "markdown",
   "metadata": {},
   "source": [
    "##  Проверка модели на адекватность"
   ]
  },
  {
   "cell_type": "code",
   "execution_count": 16,
   "metadata": {
    "scrolled": true
   },
   "outputs": [
    {
     "name": "stdout",
     "output_type": "stream",
     "text": [
      "0    0.693528\n",
      "1    0.306472\n",
      "Name: is_ultra, dtype: float64\n"
     ]
    },
    {
     "data": {
      "text/plain": [
       "<AxesSubplot:>"
      ]
     },
     "execution_count": 16,
     "metadata": {},
     "output_type": "execute_result"
    },
    {
     "data": {
      "image/png": "[encoded data removed]",
      "text/plain": [
       "<Figure size 432x288 with 1 Axes>"
      ]
     },
     "metadata": {
      "needs_background": "light"
     },
     "output_type": "display_data"
    }
   ],
   "source": [
    "class_frequency = df['is_ultra'].value_counts(normalize=True)\n",
    "print(class_frequency)\n",
    "class_frequency.plot(kind='bar')"
   ]
  },
  {
   "cell_type": "markdown",
   "metadata": {},
   "source": [
    "Тарифом Смарт пользовались чаще, чем тарифом Ультра."
   ]
  },
  {
   "cell_type": "code",
   "execution_count": 17,
   "metadata": {},
   "outputs": [
    {
     "data": {
      "text/plain": [
       "0.6934647302904564"
      ]
     },
     "execution_count": 17,
     "metadata": {},
     "output_type": "execute_result"
    }
   ],
   "source": [
    "dummy_clf = DummyClassifier(constant = '0')\n",
    "dummy_clf.fit(features_train, target_train)\n",
    "dummy_clf.predict(features_train)\n",
    "dummy_clf.score(features_train, target_train)"
   ]
  },
  {
   "cell_type": "code",
   "execution_count": 18,
   "metadata": {},
   "outputs": [
    {
     "data": {
      "text/plain": [
       "0.693528313627878"
      ]
     },
     "execution_count": 18,
     "metadata": {},
     "output_type": "execute_result"
    }
   ],
   "source": [
    "target_pred_constant = pd.Series([0]*len(target))\n",
    "accuracy_score(target, target_pred_constant)"
   ]
  },
  {
   "cell_type": "markdown",
   "metadata": {},
   "source": [
    "**Вывод:**\n",
    "\n",
    "Можно считать, что модель является адекватной. Результат метрики обученной модели и константной примерно равны."
   ]
  },
  {
   "cell_type": "markdown",
   "metadata": {},
   "source": [
    "## Вывод"
   ]
  },
  {
   "cell_type": "markdown",
   "metadata": {},
   "source": [
    "Построена модель случайный лес с лучшим значением исследуемой метрики - accuracy = 0.82."
   ]
  }
 ],
 "metadata": {
  "ExecuteTimeLog": [
   {
    "duration": 380,
    "start_time": "2022-08-05T14:55:45.238Z"
   },
   {
    "duration": 58,
    "start_time": "2022-08-05T14:56:13.894Z"
   },
   {
    "duration": 61,
    "start_time": "2022-08-05T14:56:32.046Z"
   },
   {
    "duration": 40,
    "start_time": "2022-08-05T14:57:25.984Z"
   },
   {
    "duration": 8,
    "start_time": "2022-08-05T15:07:11.020Z"
   },
   {
    "duration": 621,
    "start_time": "2022-08-05T15:07:23.809Z"
   },
   {
    "duration": 34,
    "start_time": "2022-08-05T15:07:24.431Z"
   },
   {
    "duration": 5,
    "start_time": "2022-08-05T15:07:25.989Z"
   },
   {
    "duration": 4,
    "start_time": "2022-08-05T15:09:10.455Z"
   },
   {
    "duration": 2,
    "start_time": "2022-08-05T15:23:09.835Z"
   },
   {
    "duration": 34,
    "start_time": "2022-08-05T15:23:10.125Z"
   },
   {
    "duration": 5,
    "start_time": "2022-08-05T15:23:11.036Z"
   },
   {
    "duration": 4,
    "start_time": "2022-08-05T15:23:11.551Z"
   },
   {
    "duration": 5,
    "start_time": "2022-08-05T15:23:13.493Z"
   },
   {
    "duration": 159,
    "start_time": "2022-08-05T15:24:19.621Z"
   },
   {
    "duration": 35,
    "start_time": "2022-08-05T15:24:20.666Z"
   },
   {
    "duration": 5,
    "start_time": "2022-08-05T15:24:21.651Z"
   },
   {
    "duration": 4,
    "start_time": "2022-08-05T15:24:22.206Z"
   },
   {
    "duration": 5,
    "start_time": "2022-08-05T15:24:24.032Z"
   },
   {
    "duration": 3,
    "start_time": "2022-08-05T15:34:21.902Z"
   },
   {
    "duration": 34,
    "start_time": "2022-08-05T15:34:22.361Z"
   },
   {
    "duration": 4,
    "start_time": "2022-08-05T15:34:23.246Z"
   },
   {
    "duration": 4,
    "start_time": "2022-08-05T15:34:23.745Z"
   },
   {
    "duration": 5,
    "start_time": "2022-08-05T15:34:24.720Z"
   },
   {
    "duration": 72,
    "start_time": "2022-08-05T15:34:25.343Z"
   },
   {
    "duration": 100,
    "start_time": "2022-08-05T15:34:36.279Z"
   },
   {
    "duration": 207,
    "start_time": "2022-08-05T15:34:54.691Z"
   },
   {
    "duration": 34,
    "start_time": "2022-08-05T15:35:13.912Z"
   },
   {
    "duration": 38,
    "start_time": "2022-08-05T15:35:20.688Z"
   },
   {
    "duration": 34,
    "start_time": "2022-08-05T15:35:29.724Z"
   },
   {
    "duration": 11,
    "start_time": "2022-08-05T15:47:20.021Z"
   },
   {
    "duration": 37,
    "start_time": "2022-08-05T15:47:21.260Z"
   },
   {
    "duration": 6,
    "start_time": "2022-08-05T15:47:22.679Z"
   },
   {
    "duration": 5,
    "start_time": "2022-08-05T15:47:23.234Z"
   },
   {
    "duration": 7,
    "start_time": "2022-08-05T15:47:24.255Z"
   },
   {
    "duration": 47,
    "start_time": "2022-08-05T15:47:24.830Z"
   },
   {
    "duration": 104,
    "start_time": "2022-08-05T15:49:39.723Z"
   },
   {
    "duration": 107,
    "start_time": "2022-08-05T15:55:52.410Z"
   },
   {
    "duration": 306,
    "start_time": "2022-08-05T15:55:53.258Z"
   },
   {
    "duration": 71,
    "start_time": "2022-08-05T15:59:42.020Z"
   },
   {
    "duration": 37,
    "start_time": "2022-08-05T16:00:40.106Z"
   },
   {
    "duration": 1157,
    "start_time": "2022-08-05T17:49:22.689Z"
   },
   {
    "duration": 186,
    "start_time": "2022-08-05T17:49:23.847Z"
   },
   {
    "duration": 5,
    "start_time": "2022-08-05T17:49:24.340Z"
   },
   {
    "duration": 5,
    "start_time": "2022-08-05T17:49:24.673Z"
   },
   {
    "duration": 6,
    "start_time": "2022-08-05T17:49:25.387Z"
   },
   {
    "duration": 52,
    "start_time": "2022-08-05T17:49:25.659Z"
   },
   {
    "duration": 142,
    "start_time": "2022-08-05T17:49:26.009Z"
   },
   {
    "duration": 828,
    "start_time": "2022-08-05T17:49:26.274Z"
   },
   {
    "duration": 128,
    "start_time": "2022-08-05T17:49:27.116Z"
   },
   {
    "duration": 3,
    "start_time": "2022-08-05T17:50:24.738Z"
   },
   {
    "duration": 40,
    "start_time": "2022-08-05T17:50:58.482Z"
   },
   {
    "duration": 3,
    "start_time": "2022-08-05T17:54:26.254Z"
   },
   {
    "duration": 2,
    "start_time": "2022-08-05T17:56:58.259Z"
   },
   {
    "duration": 35,
    "start_time": "2022-08-05T17:56:58.521Z"
   },
   {
    "duration": 5,
    "start_time": "2022-08-05T17:56:59.134Z"
   },
   {
    "duration": 4,
    "start_time": "2022-08-05T17:56:59.554Z"
   },
   {
    "duration": 6,
    "start_time": "2022-08-05T17:57:00.490Z"
   },
   {
    "duration": 125,
    "start_time": "2022-08-05T18:10:46.761Z"
   },
   {
    "duration": 19,
    "start_time": "2022-08-05T18:11:24.735Z"
   },
   {
    "duration": 44,
    "start_time": "2022-08-05T18:12:34.809Z"
   },
   {
    "duration": 423,
    "start_time": "2022-08-05T18:17:03.546Z"
   },
   {
    "duration": 428,
    "start_time": "2022-08-05T18:17:22.818Z"
   },
   {
    "duration": 456,
    "start_time": "2022-08-05T18:18:04.663Z"
   },
   {
    "duration": 446,
    "start_time": "2022-08-05T18:18:27.908Z"
   },
   {
    "duration": 447,
    "start_time": "2022-08-05T18:18:50.265Z"
   },
   {
    "duration": 121,
    "start_time": "2022-08-05T18:19:37.618Z"
   },
   {
    "duration": 3373,
    "start_time": "2022-08-05T18:22:24.940Z"
   },
   {
    "duration": 334,
    "start_time": "2022-08-05T18:23:07.769Z"
   },
   {
    "duration": 109,
    "start_time": "2022-08-05T18:28:15.507Z"
   },
   {
    "duration": 88,
    "start_time": "2022-08-05T19:09:58.117Z"
   },
   {
    "duration": 954,
    "start_time": "2022-08-10T06:56:05.797Z"
   },
   {
    "duration": 103,
    "start_time": "2022-08-10T07:02:41.237Z"
   },
   {
    "duration": 3,
    "start_time": "2022-08-10T07:02:46.517Z"
   },
   {
    "duration": 174,
    "start_time": "2022-08-10T07:02:48.454Z"
   },
   {
    "duration": 10,
    "start_time": "2022-08-10T07:02:50.532Z"
   },
   {
    "duration": 8,
    "start_time": "2022-08-10T07:03:31.722Z"
   },
   {
    "duration": 35,
    "start_time": "2022-08-10T07:06:55.803Z"
   },
   {
    "duration": 34,
    "start_time": "2022-08-10T07:07:09.647Z"
   },
   {
    "duration": 10,
    "start_time": "2022-08-10T07:07:09.683Z"
   },
   {
    "duration": 4,
    "start_time": "2022-08-10T07:12:30.999Z"
   },
   {
    "duration": 4,
    "start_time": "2022-08-10T07:12:31.509Z"
   },
   {
    "duration": 32,
    "start_time": "2022-08-10T07:19:48.163Z"
   },
   {
    "duration": 5,
    "start_time": "2022-08-10T07:21:19.409Z"
   },
   {
    "duration": 4,
    "start_time": "2022-08-10T07:22:04.748Z"
   },
   {
    "duration": 5,
    "start_time": "2022-08-10T07:24:50.608Z"
   },
   {
    "duration": 6,
    "start_time": "2022-08-10T07:27:10.993Z"
   },
   {
    "duration": 14,
    "start_time": "2022-08-10T07:29:43.365Z"
   },
   {
    "duration": 11,
    "start_time": "2022-08-10T07:30:17.086Z"
   },
   {
    "duration": 9,
    "start_time": "2022-08-10T07:31:41.936Z"
   },
   {
    "duration": 8,
    "start_time": "2022-08-10T07:32:30.266Z"
   },
   {
    "duration": 5,
    "start_time": "2022-08-10T07:32:38.571Z"
   },
   {
    "duration": 4,
    "start_time": "2022-08-10T07:33:06.757Z"
   },
   {
    "duration": 4,
    "start_time": "2022-08-10T07:33:32.404Z"
   },
   {
    "duration": 4,
    "start_time": "2022-08-10T07:34:22.908Z"
   },
   {
    "duration": 2,
    "start_time": "2022-08-10T07:39:40.927Z"
   },
   {
    "duration": 64,
    "start_time": "2022-08-10T07:50:32.268Z"
   },
   {
    "duration": 63,
    "start_time": "2022-08-10T07:50:49.342Z"
   },
   {
    "duration": 64,
    "start_time": "2022-08-10T07:51:27.454Z"
   },
   {
    "duration": 47,
    "start_time": "2022-08-10T07:53:01.745Z"
   },
   {
    "duration": 50,
    "start_time": "2022-08-10T07:53:09.119Z"
   },
   {
    "duration": 64,
    "start_time": "2022-08-10T07:53:17.172Z"
   },
   {
    "duration": 62,
    "start_time": "2022-08-10T07:53:52.921Z"
   },
   {
    "duration": 64,
    "start_time": "2022-08-10T07:54:02.616Z"
   },
   {
    "duration": 59,
    "start_time": "2022-08-10T07:54:09.584Z"
   },
   {
    "duration": 245,
    "start_time": "2022-08-10T07:54:25.989Z"
   },
   {
    "duration": 32,
    "start_time": "2022-08-10T07:54:31.935Z"
   },
   {
    "duration": 42,
    "start_time": "2022-08-10T07:54:38.649Z"
   },
   {
    "duration": 1074,
    "start_time": "2022-08-10T14:06:42.287Z"
   },
   {
    "duration": 100,
    "start_time": "2022-08-10T14:06:44.050Z"
   },
   {
    "duration": 10,
    "start_time": "2022-08-10T14:06:44.456Z"
   },
   {
    "duration": 4,
    "start_time": "2022-08-10T14:06:47.083Z"
   },
   {
    "duration": 6,
    "start_time": "2022-08-10T14:06:48.768Z"
   },
   {
    "duration": 5,
    "start_time": "2022-08-10T14:06:49.418Z"
   },
   {
    "duration": 2,
    "start_time": "2022-08-10T14:06:50.265Z"
   },
   {
    "duration": 2,
    "start_time": "2022-08-10T14:06:53.981Z"
   },
   {
    "duration": 79,
    "start_time": "2022-08-10T14:06:58.201Z"
   },
   {
    "duration": 67,
    "start_time": "2022-08-10T14:08:04.388Z"
   },
   {
    "duration": 108,
    "start_time": "2022-08-10T14:08:09.765Z"
   },
   {
    "duration": 62,
    "start_time": "2022-08-10T14:08:14.421Z"
   },
   {
    "duration": 58,
    "start_time": "2022-08-10T14:08:33.538Z"
   },
   {
    "duration": 62,
    "start_time": "2022-08-10T14:09:42.540Z"
   },
   {
    "duration": 175,
    "start_time": "2022-08-10T14:13:07.891Z"
   },
   {
    "duration": 68,
    "start_time": "2022-08-10T14:14:14.959Z"
   },
   {
    "duration": 65,
    "start_time": "2022-08-10T14:14:29.236Z"
   },
   {
    "duration": 65,
    "start_time": "2022-08-10T14:14:39.964Z"
   },
   {
    "duration": 83,
    "start_time": "2022-08-10T14:17:14.379Z"
   },
   {
    "duration": 8270,
    "start_time": "2022-08-10T14:17:52.820Z"
   },
   {
    "duration": 1544,
    "start_time": "2022-08-10T14:18:14.194Z"
   },
   {
    "duration": 1585,
    "start_time": "2022-08-10T14:18:44.380Z"
   },
   {
    "duration": 77,
    "start_time": "2022-08-10T14:19:02.461Z"
   },
   {
    "duration": 7796,
    "start_time": "2022-08-10T14:19:19.041Z"
   },
   {
    "duration": 1540,
    "start_time": "2022-08-10T14:19:46.749Z"
   },
   {
    "duration": 2581,
    "start_time": "2022-08-10T14:20:49.222Z"
   },
   {
    "duration": 1746,
    "start_time": "2022-08-10T14:21:34.661Z"
   },
   {
    "duration": 1644,
    "start_time": "2022-08-10T14:21:41.469Z"
   },
   {
    "duration": 1548,
    "start_time": "2022-08-10T14:22:33.651Z"
   },
   {
    "duration": 64,
    "start_time": "2022-08-10T14:25:05.921Z"
   },
   {
    "duration": 3,
    "start_time": "2022-08-10T14:30:21.997Z"
   },
   {
    "duration": 40,
    "start_time": "2022-08-10T14:30:24.328Z"
   },
   {
    "duration": 12,
    "start_time": "2022-08-10T14:30:24.495Z"
   },
   {
    "duration": 4,
    "start_time": "2022-08-10T14:30:25.596Z"
   },
   {
    "duration": 5,
    "start_time": "2022-08-10T14:30:25.792Z"
   },
   {
    "duration": 6,
    "start_time": "2022-08-10T14:30:26.370Z"
   },
   {
    "duration": 7,
    "start_time": "2022-08-10T14:30:26.378Z"
   },
   {
    "duration": 3,
    "start_time": "2022-08-10T14:30:26.782Z"
   },
   {
    "duration": 59,
    "start_time": "2022-08-10T14:30:28.438Z"
   },
   {
    "duration": 240,
    "start_time": "2022-08-10T14:30:30.991Z"
   },
   {
    "duration": 16155,
    "start_time": "2022-08-10T14:34:03.835Z"
   },
   {
    "duration": 16099,
    "start_time": "2022-08-10T14:34:42.672Z"
   },
   {
    "duration": 16235,
    "start_time": "2022-08-10T14:35:09.043Z"
   },
   {
    "duration": 16469,
    "start_time": "2022-08-10T14:35:45.371Z"
   },
   {
    "duration": 252,
    "start_time": "2022-08-10T14:36:12.876Z"
   },
   {
    "duration": 16397,
    "start_time": "2022-08-10T14:36:48.074Z"
   },
   {
    "duration": 1020,
    "start_time": "2022-08-10T14:41:08.968Z"
   },
   {
    "duration": 979,
    "start_time": "2022-08-10T14:41:21.516Z"
   },
   {
    "duration": 947,
    "start_time": "2022-08-10T14:42:08.738Z"
   },
   {
    "duration": 16181,
    "start_time": "2022-08-10T14:45:04.206Z"
   },
   {
    "duration": 16895,
    "start_time": "2022-08-10T14:46:53.986Z"
   },
   {
    "duration": 982,
    "start_time": "2022-08-10T14:47:53.532Z"
   },
   {
    "duration": 1051,
    "start_time": "2022-08-10T14:48:17.585Z"
   },
   {
    "duration": 16795,
    "start_time": "2022-08-10T14:48:55.232Z"
   },
   {
    "duration": 962,
    "start_time": "2022-08-10T14:49:12.028Z"
   },
   {
    "duration": 16313,
    "start_time": "2022-08-10T14:49:25.432Z"
   },
   {
    "duration": 16306,
    "start_time": "2022-08-10T14:49:53.091Z"
   },
   {
    "duration": 1002,
    "start_time": "2022-08-10T14:50:09.399Z"
   },
   {
    "duration": 1039,
    "start_time": "2022-08-10T14:50:37.639Z"
   },
   {
    "duration": 58,
    "start_time": "2022-08-10T14:50:39.618Z"
   },
   {
    "duration": 13,
    "start_time": "2022-08-10T14:50:39.908Z"
   },
   {
    "duration": 3,
    "start_time": "2022-08-10T14:50:41.469Z"
   },
   {
    "duration": 6,
    "start_time": "2022-08-10T14:50:41.850Z"
   },
   {
    "duration": 6,
    "start_time": "2022-08-10T14:50:42.095Z"
   },
   {
    "duration": 3,
    "start_time": "2022-08-10T14:50:42.454Z"
   },
   {
    "duration": 2,
    "start_time": "2022-08-10T14:50:43.683Z"
   },
   {
    "duration": 73,
    "start_time": "2022-08-10T14:50:46.086Z"
   },
   {
    "duration": 17004,
    "start_time": "2022-08-10T14:50:49.050Z"
   },
   {
    "duration": 1026,
    "start_time": "2022-08-10T14:51:06.056Z"
   },
   {
    "duration": 114,
    "start_time": "2022-08-10T14:54:15.921Z"
   },
   {
    "duration": 105,
    "start_time": "2022-08-10T14:54:33.602Z"
   },
   {
    "duration": 16713,
    "start_time": "2022-08-10T14:54:43.706Z"
   },
   {
    "duration": 985,
    "start_time": "2022-08-10T14:57:31.073Z"
   },
   {
    "duration": 16942,
    "start_time": "2022-08-10T14:57:40.246Z"
   },
   {
    "duration": 1106,
    "start_time": "2022-08-10T14:57:57.190Z"
   },
   {
    "duration": 3696,
    "start_time": "2022-08-10T14:58:03.243Z"
   },
   {
    "duration": 15998,
    "start_time": "2022-08-10T14:58:27.616Z"
   },
   {
    "duration": 3520,
    "start_time": "2022-08-10T14:58:43.615Z"
   },
   {
    "duration": 36,
    "start_time": "2022-08-10T14:58:55.356Z"
   },
   {
    "duration": 41,
    "start_time": "2022-08-10T16:03:58.042Z"
   },
   {
    "duration": 61,
    "start_time": "2022-08-10T16:04:39.783Z"
   },
   {
    "duration": 18,
    "start_time": "2022-08-10T16:09:07.704Z"
   },
   {
    "duration": 9,
    "start_time": "2022-08-10T16:17:26.961Z"
   },
   {
    "duration": 56,
    "start_time": "2022-08-10T16:17:37.990Z"
   },
   {
    "duration": 333,
    "start_time": "2022-08-10T16:29:34.310Z"
   },
   {
    "duration": 22,
    "start_time": "2022-08-10T16:29:48.600Z"
   },
   {
    "duration": 183,
    "start_time": "2022-08-10T16:30:10.705Z"
   },
   {
    "duration": 3,
    "start_time": "2022-08-10T16:34:40.167Z"
   },
   {
    "duration": 38,
    "start_time": "2022-08-10T16:34:40.826Z"
   },
   {
    "duration": 10,
    "start_time": "2022-08-10T16:34:40.990Z"
   },
   {
    "duration": 4,
    "start_time": "2022-08-10T16:34:42.133Z"
   },
   {
    "duration": 6,
    "start_time": "2022-08-10T16:34:42.332Z"
   },
   {
    "duration": 6,
    "start_time": "2022-08-10T16:34:42.537Z"
   },
   {
    "duration": 3,
    "start_time": "2022-08-10T16:34:42.738Z"
   },
   {
    "duration": 3,
    "start_time": "2022-08-10T16:34:43.359Z"
   },
   {
    "duration": 64,
    "start_time": "2022-08-10T16:34:44.529Z"
   },
   {
    "duration": 16842,
    "start_time": "2022-08-10T16:34:45.548Z"
   },
   {
    "duration": 3489,
    "start_time": "2022-08-10T16:35:02.392Z"
   },
   {
    "duration": 46,
    "start_time": "2022-08-10T16:35:05.882Z"
   },
   {
    "duration": 52,
    "start_time": "2022-08-10T16:35:05.930Z"
   },
   {
    "duration": 146,
    "start_time": "2022-08-10T16:35:05.984Z"
   },
   {
    "duration": 16,
    "start_time": "2022-08-10T16:37:14.402Z"
   },
   {
    "duration": 10,
    "start_time": "2022-08-10T16:38:45.419Z"
   },
   {
    "duration": 6,
    "start_time": "2022-08-10T16:39:05.793Z"
   },
   {
    "duration": 5,
    "start_time": "2022-08-10T16:39:17.397Z"
   },
   {
    "duration": 6,
    "start_time": "2022-08-10T16:39:25.532Z"
   },
   {
    "duration": 6,
    "start_time": "2022-08-10T16:40:37.671Z"
   },
   {
    "duration": 6,
    "start_time": "2022-08-10T16:41:29.046Z"
   },
   {
    "duration": 81,
    "start_time": "2022-08-10T16:42:57.392Z"
   },
   {
    "duration": 6,
    "start_time": "2022-08-10T16:43:07.102Z"
   },
   {
    "duration": 3,
    "start_time": "2022-08-10T16:49:40.486Z"
   },
   {
    "duration": 37,
    "start_time": "2022-08-10T16:49:41.527Z"
   },
   {
    "duration": 10,
    "start_time": "2022-08-10T16:49:41.743Z"
   },
   {
    "duration": 4,
    "start_time": "2022-08-10T16:49:44.141Z"
   },
   {
    "duration": 9,
    "start_time": "2022-08-10T16:49:44.521Z"
   },
   {
    "duration": 5,
    "start_time": "2022-08-10T16:49:44.836Z"
   },
   {
    "duration": 3,
    "start_time": "2022-08-10T16:49:45.107Z"
   },
   {
    "duration": 3,
    "start_time": "2022-08-10T16:49:46.086Z"
   },
   {
    "duration": 61,
    "start_time": "2022-08-10T16:49:47.244Z"
   },
   {
    "duration": 16744,
    "start_time": "2022-08-10T16:49:48.746Z"
   },
   {
    "duration": 3558,
    "start_time": "2022-08-10T16:50:05.491Z"
   },
   {
    "duration": 34,
    "start_time": "2022-08-10T16:50:09.050Z"
   },
   {
    "duration": 72,
    "start_time": "2022-08-10T16:50:09.085Z"
   },
   {
    "duration": 105,
    "start_time": "2022-08-10T16:50:09.159Z"
   },
   {
    "duration": 6,
    "start_time": "2022-08-10T16:50:09.265Z"
   },
   {
    "duration": 6,
    "start_time": "2022-08-10T16:50:09.272Z"
   },
   {
    "duration": 1071,
    "start_time": "2022-08-16T10:23:40.036Z"
   },
   {
    "duration": 212,
    "start_time": "2022-08-16T10:23:45.236Z"
   },
   {
    "duration": 13,
    "start_time": "2022-08-16T10:23:45.800Z"
   },
   {
    "duration": 4,
    "start_time": "2022-08-16T10:23:50.806Z"
   },
   {
    "duration": 5,
    "start_time": "2022-08-16T10:23:51.384Z"
   },
   {
    "duration": 5,
    "start_time": "2022-08-16T10:23:51.994Z"
   },
   {
    "duration": 3,
    "start_time": "2022-08-16T10:23:53.724Z"
   },
   {
    "duration": 2,
    "start_time": "2022-08-16T10:23:55.454Z"
   },
   {
    "duration": 70,
    "start_time": "2022-08-16T10:24:01.018Z"
   },
   {
    "duration": 85,
    "start_time": "2022-08-16T10:26:49.701Z"
   },
   {
    "duration": 1174,
    "start_time": "2022-08-19T08:26:16.600Z"
   },
   {
    "duration": 79,
    "start_time": "2022-08-19T08:26:18.333Z"
   },
   {
    "duration": 11,
    "start_time": "2022-08-19T08:26:19.076Z"
   },
   {
    "duration": 4,
    "start_time": "2022-08-19T08:26:23.416Z"
   },
   {
    "duration": 7,
    "start_time": "2022-08-19T08:26:24.058Z"
   },
   {
    "duration": 6,
    "start_time": "2022-08-19T08:26:24.485Z"
   },
   {
    "duration": 4,
    "start_time": "2022-08-19T08:26:25.114Z"
   },
   {
    "duration": 2,
    "start_time": "2022-08-19T08:26:27.880Z"
   },
   {
    "duration": 74,
    "start_time": "2022-08-19T08:26:32.661Z"
   },
   {
    "duration": 6,
    "start_time": "2022-08-19T08:29:43.624Z"
   },
   {
    "duration": 7,
    "start_time": "2022-08-19T08:29:54.187Z"
   },
   {
    "duration": 75,
    "start_time": "2022-08-19T08:32:11.517Z"
   },
   {
    "duration": 76,
    "start_time": "2022-08-19T08:32:17.114Z"
   },
   {
    "duration": 1072,
    "start_time": "2022-08-21T06:35:55.708Z"
   },
   {
    "duration": 169,
    "start_time": "2022-08-21T06:36:00.166Z"
   },
   {
    "duration": 11,
    "start_time": "2022-08-21T06:36:00.915Z"
   },
   {
    "duration": 4,
    "start_time": "2022-08-21T06:36:04.380Z"
   },
   {
    "duration": 8,
    "start_time": "2022-08-21T06:36:04.935Z"
   },
   {
    "duration": 5,
    "start_time": "2022-08-21T06:36:05.401Z"
   },
   {
    "duration": 3,
    "start_time": "2022-08-21T06:36:06.261Z"
   },
   {
    "duration": 3,
    "start_time": "2022-08-21T06:36:11.268Z"
   },
   {
    "duration": 62,
    "start_time": "2022-08-21T06:36:23.698Z"
   },
   {
    "duration": 138,
    "start_time": "2022-08-21T06:38:34.382Z"
   },
   {
    "duration": 22,
    "start_time": "2022-08-21T06:38:45.930Z"
   },
   {
    "duration": 19,
    "start_time": "2022-08-21T06:38:53.896Z"
   },
   {
    "duration": 50,
    "start_time": "2022-08-21T06:39:02.082Z"
   },
   {
    "duration": 17,
    "start_time": "2022-08-21T06:39:09.343Z"
   },
   {
    "duration": 61,
    "start_time": "2022-08-21T06:39:26.716Z"
   },
   {
    "duration": 16318,
    "start_time": "2022-08-21T06:39:30.468Z"
   },
   {
    "duration": 3606,
    "start_time": "2022-08-21T06:39:46.788Z"
   },
   {
    "duration": 37,
    "start_time": "2022-08-21T06:39:50.396Z"
   },
   {
    "duration": 70,
    "start_time": "2022-08-21T06:39:50.435Z"
   },
   {
    "duration": 10,
    "start_time": "2022-08-21T06:40:03.215Z"
   },
   {
    "duration": 434,
    "start_time": "2022-08-21T06:44:00.594Z"
   },
   {
    "duration": 6,
    "start_time": "2022-08-21T06:44:02.669Z"
   },
   {
    "duration": 5,
    "start_time": "2022-08-21T06:44:05.413Z"
   },
   {
    "duration": 1192,
    "start_time": "2022-08-22T07:59:02.402Z"
   },
   {
    "duration": 82,
    "start_time": "2022-08-22T07:59:04.262Z"
   },
   {
    "duration": 14,
    "start_time": "2022-08-22T07:59:04.842Z"
   },
   {
    "duration": 4,
    "start_time": "2022-08-22T07:59:07.648Z"
   },
   {
    "duration": 7,
    "start_time": "2022-08-22T07:59:08.090Z"
   },
   {
    "duration": 7,
    "start_time": "2022-08-22T07:59:08.476Z"
   },
   {
    "duration": 5,
    "start_time": "2022-08-22T07:59:08.901Z"
   },
   {
    "duration": 3,
    "start_time": "2022-08-22T07:59:10.101Z"
   },
   {
    "duration": 75,
    "start_time": "2022-08-22T07:59:13.853Z"
   },
   {
    "duration": 18830,
    "start_time": "2022-08-22T08:00:02.949Z"
   },
   {
    "duration": 24990,
    "start_time": "2022-08-22T08:01:55.626Z"
   },
   {
    "duration": 24943,
    "start_time": "2022-08-22T08:02:23.215Z"
   },
   {
    "duration": 5,
    "start_time": "2022-08-22T08:07:41.511Z"
   },
   {
    "duration": 21836,
    "start_time": "2022-08-22T08:07:54.237Z"
   },
   {
    "duration": 21863,
    "start_time": "2022-08-22T08:15:47.715Z"
   },
   {
    "duration": 21855,
    "start_time": "2022-08-22T08:17:37.326Z"
   },
   {
    "duration": 21664,
    "start_time": "2022-08-22T08:18:35.435Z"
   },
   {
    "duration": 21672,
    "start_time": "2022-08-22T08:19:07.651Z"
   },
   {
    "duration": 27,
    "start_time": "2022-08-22T08:21:41.890Z"
   },
   {
    "duration": 18,
    "start_time": "2022-08-22T08:21:48.899Z"
   },
   {
    "duration": 19,
    "start_time": "2022-08-22T08:22:33.156Z"
   },
   {
    "duration": 426,
    "start_time": "2022-08-22T08:23:13.832Z"
   },
   {
    "duration": 265,
    "start_time": "2022-08-22T08:23:15.475Z"
   },
   {
    "duration": 128,
    "start_time": "2022-08-22T08:23:42.384Z"
   },
   {
    "duration": 123,
    "start_time": "2022-08-22T08:23:59.120Z"
   },
   {
    "duration": 137,
    "start_time": "2022-08-22T08:24:23.295Z"
   },
   {
    "duration": 128,
    "start_time": "2022-08-22T08:24:52.903Z"
   },
   {
    "duration": 18,
    "start_time": "2022-08-22T08:25:39.782Z"
   },
   {
    "duration": 1141,
    "start_time": "2022-08-22T08:25:57.322Z"
   },
   {
    "duration": 49,
    "start_time": "2022-08-22T08:25:58.466Z"
   },
   {
    "duration": 13,
    "start_time": "2022-08-22T08:25:58.517Z"
   },
   {
    "duration": 4,
    "start_time": "2022-08-22T08:26:00.399Z"
   },
   {
    "duration": 7,
    "start_time": "2022-08-22T08:26:00.593Z"
   },
   {
    "duration": 7,
    "start_time": "2022-08-22T08:26:00.785Z"
   },
   {
    "duration": 4,
    "start_time": "2022-08-22T08:26:00.970Z"
   },
   {
    "duration": 2,
    "start_time": "2022-08-22T08:26:01.580Z"
   },
   {
    "duration": 270,
    "start_time": "2022-08-22T08:26:02.755Z"
   },
   {
    "duration": 125,
    "start_time": "2022-08-22T08:26:03.305Z"
   },
   {
    "duration": 20,
    "start_time": "2022-08-22T08:26:16.056Z"
   },
   {
    "duration": 137,
    "start_time": "2022-08-22T08:27:27.540Z"
   },
   {
    "duration": 20,
    "start_time": "2022-08-22T08:27:35.756Z"
   },
   {
    "duration": 136,
    "start_time": "2022-08-22T08:28:14.545Z"
   },
   {
    "duration": 80,
    "start_time": "2022-08-22T08:28:30.300Z"
   },
   {
    "duration": 218,
    "start_time": "2022-08-22T08:29:04.427Z"
   },
   {
    "duration": 206,
    "start_time": "2022-08-22T08:29:18.308Z"
   },
   {
    "duration": 126,
    "start_time": "2022-08-22T08:29:28.767Z"
   },
   {
    "duration": 135,
    "start_time": "2022-08-22T08:29:35.612Z"
   },
   {
    "duration": 189,
    "start_time": "2022-08-22T08:29:50.278Z"
   },
   {
    "duration": 83,
    "start_time": "2022-08-22T08:30:18.370Z"
   },
   {
    "duration": 5,
    "start_time": "2022-08-22T08:30:25.522Z"
   },
   {
    "duration": 22034,
    "start_time": "2022-08-22T08:30:26.073Z"
   },
   {
    "duration": 4245,
    "start_time": "2022-08-22T08:30:48.109Z"
   },
   {
    "duration": 41,
    "start_time": "2022-08-22T08:30:52.489Z"
   },
   {
    "duration": 7,
    "start_time": "2022-08-22T08:30:58.455Z"
   },
   {
    "duration": 590,
    "start_time": "2022-08-22T08:32:55.513Z"
   },
   {
    "duration": 5,
    "start_time": "2022-08-22T08:35:10.144Z"
   },
   {
    "duration": 685,
    "start_time": "2022-08-22T08:36:32.716Z"
   },
   {
    "duration": 120,
    "start_time": "2022-08-22T08:37:22.916Z"
   },
   {
    "duration": 7,
    "start_time": "2022-08-22T08:37:25.121Z"
   },
   {
    "duration": 7,
    "start_time": "2022-08-22T08:37:26.250Z"
   },
   {
    "duration": 4,
    "start_time": "2022-08-22T08:42:52.255Z"
   },
   {
    "duration": 38,
    "start_time": "2022-08-22T08:42:52.879Z"
   },
   {
    "duration": 12,
    "start_time": "2022-08-22T08:42:53.078Z"
   },
   {
    "duration": 5,
    "start_time": "2022-08-22T08:42:54.555Z"
   },
   {
    "duration": 6,
    "start_time": "2022-08-22T08:42:54.730Z"
   },
   {
    "duration": 6,
    "start_time": "2022-08-22T08:42:54.968Z"
   },
   {
    "duration": 5,
    "start_time": "2022-08-22T08:42:55.118Z"
   },
   {
    "duration": 3,
    "start_time": "2022-08-22T08:42:55.866Z"
   },
   {
    "duration": 76,
    "start_time": "2022-08-22T08:42:57.273Z"
   },
   {
    "duration": 5,
    "start_time": "2022-08-22T08:42:58.722Z"
   },
   {
    "duration": 21737,
    "start_time": "2022-08-22T08:42:59.018Z"
   },
   {
    "duration": 4192,
    "start_time": "2022-08-22T08:43:20.758Z"
   },
   {
    "duration": 50,
    "start_time": "2022-08-22T08:43:24.951Z"
   },
   {
    "duration": 7,
    "start_time": "2022-08-22T08:43:25.003Z"
   },
   {
    "duration": 780,
    "start_time": "2022-08-22T08:43:25.012Z"
   },
   {
    "duration": 219,
    "start_time": "2022-08-22T08:43:25.794Z"
   },
   {
    "duration": 8,
    "start_time": "2022-08-22T08:43:26.016Z"
   },
   {
    "duration": 27,
    "start_time": "2022-08-22T08:43:26.026Z"
   },
   {
    "duration": 1271,
    "start_time": "2022-08-22T11:05:51.692Z"
   },
   {
    "duration": 50,
    "start_time": "2022-08-22T11:05:52.965Z"
   },
   {
    "duration": 10,
    "start_time": "2022-08-22T11:05:53.017Z"
   },
   {
    "duration": 7,
    "start_time": "2022-08-22T11:05:53.029Z"
   },
   {
    "duration": 11,
    "start_time": "2022-08-22T11:05:53.037Z"
   },
   {
    "duration": 8,
    "start_time": "2022-08-22T11:05:53.049Z"
   },
   {
    "duration": 7,
    "start_time": "2022-08-22T11:05:53.058Z"
   },
   {
    "duration": 6,
    "start_time": "2022-08-22T11:05:53.066Z"
   },
   {
    "duration": 67,
    "start_time": "2022-08-22T11:05:53.073Z"
   },
   {
    "duration": 4,
    "start_time": "2022-08-22T11:05:53.142Z"
   },
   {
    "duration": 19114,
    "start_time": "2022-08-22T11:05:53.158Z"
   },
   {
    "duration": 3606,
    "start_time": "2022-08-22T11:06:12.273Z"
   },
   {
    "duration": 35,
    "start_time": "2022-08-22T11:06:15.881Z"
   },
   {
    "duration": 6,
    "start_time": "2022-08-22T11:06:15.918Z"
   },
   {
    "duration": 535,
    "start_time": "2022-08-22T11:06:15.925Z"
   },
   {
    "duration": 381,
    "start_time": "2022-08-22T11:06:16.462Z"
   },
   {
    "duration": 14,
    "start_time": "2022-08-22T11:06:16.844Z"
   },
   {
    "duration": 6,
    "start_time": "2022-08-22T11:06:16.859Z"
   },
   {
    "duration": 6,
    "start_time": "2022-08-22T11:10:12.674Z"
   },
   {
    "duration": 7,
    "start_time": "2022-08-22T11:11:15.428Z"
   },
   {
    "duration": 6,
    "start_time": "2022-08-22T11:11:25.268Z"
   },
   {
    "duration": 5,
    "start_time": "2022-08-22T11:13:45.075Z"
   },
   {
    "duration": 110,
    "start_time": "2022-08-22T11:17:50.820Z"
   },
   {
    "duration": 85,
    "start_time": "2022-08-22T11:18:05.076Z"
   },
   {
    "duration": 208,
    "start_time": "2022-08-22T11:18:30.438Z"
   },
   {
    "duration": 189,
    "start_time": "2022-08-22T11:18:37.398Z"
   },
   {
    "duration": 264,
    "start_time": "2022-08-22T11:18:47.995Z"
   },
   {
    "duration": 231,
    "start_time": "2022-08-22T11:18:55.283Z"
   },
   {
    "duration": 290,
    "start_time": "2022-08-22T11:19:37.611Z"
   },
   {
    "duration": 283,
    "start_time": "2022-08-22T11:20:37.222Z"
   },
   {
    "duration": 291,
    "start_time": "2022-08-22T11:21:42.155Z"
   },
   {
    "duration": 337,
    "start_time": "2022-08-22T11:21:55.187Z"
   },
   {
    "duration": 6,
    "start_time": "2022-08-22T11:22:54.229Z"
   },
   {
    "duration": 5,
    "start_time": "2022-08-22T11:23:03.419Z"
   },
   {
    "duration": 1117,
    "start_time": "2022-08-24T20:15:10.489Z"
   },
   {
    "duration": 137,
    "start_time": "2022-08-24T20:15:11.609Z"
   },
   {
    "duration": 14,
    "start_time": "2022-08-24T20:15:11.748Z"
   },
   {
    "duration": 5,
    "start_time": "2022-08-24T20:15:12.922Z"
   },
   {
    "duration": 8,
    "start_time": "2022-08-24T20:15:13.133Z"
   },
   {
    "duration": 6,
    "start_time": "2022-08-24T20:15:13.318Z"
   },
   {
    "duration": 4,
    "start_time": "2022-08-24T20:15:13.531Z"
   },
   {
    "duration": 2,
    "start_time": "2022-08-24T20:15:14.077Z"
   },
   {
    "duration": 66,
    "start_time": "2022-08-24T20:15:15.536Z"
   },
   {
    "duration": 589,
    "start_time": "2022-08-24T20:15:17.469Z"
   },
   {
    "duration": 5,
    "start_time": "2022-08-24T20:15:18.425Z"
   },
   {
    "duration": 19282,
    "start_time": "2022-08-24T20:15:18.654Z"
   },
   {
    "duration": 3537,
    "start_time": "2022-08-24T20:15:37.938Z"
   },
   {
    "duration": 38,
    "start_time": "2022-08-24T20:15:41.477Z"
   },
   {
    "duration": 9,
    "start_time": "2022-08-24T20:15:41.517Z"
   },
   {
    "duration": 6,
    "start_time": "2022-08-24T20:15:46.226Z"
   },
   {
    "duration": 528,
    "start_time": "2022-08-24T20:15:52.362Z"
   },
   {
    "duration": 65,
    "start_time": "2022-08-24T20:16:29.274Z"
   }
  ],
  "kernelspec": {
   "display_name": "Python 3 (ipykernel)",
   "language": "python",
   "name": "python3"
  },
  "language_info": {
   "codemirror_mode": {
    "name": "ipython",
    "version": 3
   },
   "file_extension": ".py",
   "mimetype": "text/x-python",
   "name": "python",
   "nbconvert_exporter": "python",
   "pygments_lexer": "ipython3",
   "version": "3.9.5"
  },
  "toc": {
   "base_numbering": 1,
   "nav_menu": {},
   "number_sections": true,
   "sideBar": true,
   "skip_h1_title": true,
   "title_cell": "Table of Contents",
   "title_sidebar": "Contents",
   "toc_cell": false,
   "toc_position": {},
   "toc_section_display": true,
   "toc_window_display": false
  }
 },
 "nbformat": 4,
 "nbformat_minor": 2
}
