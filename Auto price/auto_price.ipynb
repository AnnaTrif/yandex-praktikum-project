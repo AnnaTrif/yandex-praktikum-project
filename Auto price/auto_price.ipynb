{
 "cells": [
  {
   "cell_type": "markdown",
   "metadata": {},
   "source": [
    "# Определение стоимости автомобилей"
   ]
  },
  {
   "cell_type": "markdown",
   "metadata": {},
   "source": [
    "Сервис по продаже автомобилей с пробегом разрабатывает приложение для привлечения новых клиентов. В нём можно быстро узнать рыночную стоимость своего автомобиля. В вашем распоряжении исторические данные: технические характеристики, комплектации и цены автомобилей. Вам нужно построить модель для определения стоимости. \n",
    "\n",
    "Заказчику важны:\n",
    "\n",
    "- качество предсказания;\n",
    "- скорость предсказания;\n",
    "- время обучения."
   ]
  },
  {
   "cell_type": "markdown",
   "metadata": {},
   "source": [
    "## Подготовка данных"
   ]
  },
  {
   "cell_type": "code",
   "execution_count": 1,
   "metadata": {},
   "outputs": [],
   "source": [
    "import pandas as pd\n",
    "import seaborn as sn\n",
    "import matplotlib.pyplot as plt\n",
    "import time\n",
    "from sklearn.model_selection import train_test_split\n",
    "from sklearn.ensemble import RandomForestRegressor \n",
    "from catboost import CatBoostRegressor\n",
    "from lightgbm import LGBMRegressor\n",
    "from sklearn.metrics import mean_squared_error"
   ]
  },
  {
   "cell_type": "code",
   "execution_count": 2,
   "metadata": {
    "scrolled": true
   },
   "outputs": [
    {
     "data": {
      "text/html": [
       "<div>\n",
       "<style scoped>\n",
       "    .dataframe tbody tr th:only-of-type {\n",
       "        vertical-align: middle;\n",
       "    }\n",
       "\n",
       "    .dataframe tbody tr th {\n",
       "        vertical-align: top;\n",
       "    }\n",
       "\n",
       "    .dataframe thead th {\n",
       "        text-align: right;\n",
       "    }\n",
       "</style>\n",
       "<table border=\"1\" class=\"dataframe\">\n",
       "  <thead>\n",
       "    <tr style=\"text-align: right;\">\n",
       "      <th></th>\n",
       "      <th>DateCrawled</th>\n",
       "      <th>Price</th>\n",
       "      <th>VehicleType</th>\n",
       "      <th>RegistrationYear</th>\n",
       "      <th>Gearbox</th>\n",
       "      <th>Power</th>\n",
       "      <th>Model</th>\n",
       "      <th>Kilometer</th>\n",
       "      <th>RegistrationMonth</th>\n",
       "      <th>FuelType</th>\n",
       "      <th>Brand</th>\n",
       "      <th>Repaired</th>\n",
       "      <th>DateCreated</th>\n",
       "      <th>NumberOfPictures</th>\n",
       "      <th>PostalCode</th>\n",
       "      <th>LastSeen</th>\n",
       "    </tr>\n",
       "  </thead>\n",
       "  <tbody>\n",
       "    <tr>\n",
       "      <th>0</th>\n",
       "      <td>2016-03-24 11:52:17</td>\n",
       "      <td>480</td>\n",
       "      <td>NaN</td>\n",
       "      <td>1993</td>\n",
       "      <td>manual</td>\n",
       "      <td>0</td>\n",
       "      <td>golf</td>\n",
       "      <td>150000</td>\n",
       "      <td>0</td>\n",
       "      <td>petrol</td>\n",
       "      <td>volkswagen</td>\n",
       "      <td>NaN</td>\n",
       "      <td>2016-03-24 00:00:00</td>\n",
       "      <td>0</td>\n",
       "      <td>70435</td>\n",
       "      <td>2016-04-07 03:16:57</td>\n",
       "    </tr>\n",
       "    <tr>\n",
       "      <th>1</th>\n",
       "      <td>2016-03-24 10:58:45</td>\n",
       "      <td>18300</td>\n",
       "      <td>coupe</td>\n",
       "      <td>2011</td>\n",
       "      <td>manual</td>\n",
       "      <td>190</td>\n",
       "      <td>NaN</td>\n",
       "      <td>125000</td>\n",
       "      <td>5</td>\n",
       "      <td>gasoline</td>\n",
       "      <td>audi</td>\n",
       "      <td>yes</td>\n",
       "      <td>2016-03-24 00:00:00</td>\n",
       "      <td>0</td>\n",
       "      <td>66954</td>\n",
       "      <td>2016-04-07 01:46:50</td>\n",
       "    </tr>\n",
       "    <tr>\n",
       "      <th>2</th>\n",
       "      <td>2016-03-14 12:52:21</td>\n",
       "      <td>9800</td>\n",
       "      <td>suv</td>\n",
       "      <td>2004</td>\n",
       "      <td>auto</td>\n",
       "      <td>163</td>\n",
       "      <td>grand</td>\n",
       "      <td>125000</td>\n",
       "      <td>8</td>\n",
       "      <td>gasoline</td>\n",
       "      <td>jeep</td>\n",
       "      <td>NaN</td>\n",
       "      <td>2016-03-14 00:00:00</td>\n",
       "      <td>0</td>\n",
       "      <td>90480</td>\n",
       "      <td>2016-04-05 12:47:46</td>\n",
       "    </tr>\n",
       "    <tr>\n",
       "      <th>3</th>\n",
       "      <td>2016-03-17 16:54:04</td>\n",
       "      <td>1500</td>\n",
       "      <td>small</td>\n",
       "      <td>2001</td>\n",
       "      <td>manual</td>\n",
       "      <td>75</td>\n",
       "      <td>golf</td>\n",
       "      <td>150000</td>\n",
       "      <td>6</td>\n",
       "      <td>petrol</td>\n",
       "      <td>volkswagen</td>\n",
       "      <td>no</td>\n",
       "      <td>2016-03-17 00:00:00</td>\n",
       "      <td>0</td>\n",
       "      <td>91074</td>\n",
       "      <td>2016-03-17 17:40:17</td>\n",
       "    </tr>\n",
       "    <tr>\n",
       "      <th>4</th>\n",
       "      <td>2016-03-31 17:25:20</td>\n",
       "      <td>3600</td>\n",
       "      <td>small</td>\n",
       "      <td>2008</td>\n",
       "      <td>manual</td>\n",
       "      <td>69</td>\n",
       "      <td>fabia</td>\n",
       "      <td>90000</td>\n",
       "      <td>7</td>\n",
       "      <td>gasoline</td>\n",
       "      <td>skoda</td>\n",
       "      <td>no</td>\n",
       "      <td>2016-03-31 00:00:00</td>\n",
       "      <td>0</td>\n",
       "      <td>60437</td>\n",
       "      <td>2016-04-06 10:17:21</td>\n",
       "    </tr>\n",
       "  </tbody>\n",
       "</table>\n",
       "</div>"
      ],
      "text/plain": [
       "           DateCrawled  Price VehicleType  RegistrationYear Gearbox  Power  \\\n",
       "0  2016-03-24 11:52:17    480         NaN              1993  manual      0   \n",
       "1  2016-03-24 10:58:45  18300       coupe              2011  manual    190   \n",
       "2  2016-03-14 12:52:21   9800         suv              2004    auto    163   \n",
       "3  2016-03-17 16:54:04   1500       small              2001  manual     75   \n",
       "4  2016-03-31 17:25:20   3600       small              2008  manual     69   \n",
       "\n",
       "   Model  Kilometer  RegistrationMonth  FuelType       Brand Repaired  \\\n",
       "0   golf     150000                  0    petrol  volkswagen      NaN   \n",
       "1    NaN     125000                  5  gasoline        audi      yes   \n",
       "2  grand     125000                  8  gasoline        jeep      NaN   \n",
       "3   golf     150000                  6    petrol  volkswagen       no   \n",
       "4  fabia      90000                  7  gasoline       skoda       no   \n",
       "\n",
       "           DateCreated  NumberOfPictures  PostalCode             LastSeen  \n",
       "0  2016-03-24 00:00:00                 0       70435  2016-04-07 03:16:57  \n",
       "1  2016-03-24 00:00:00                 0       66954  2016-04-07 01:46:50  \n",
       "2  2016-03-14 00:00:00                 0       90480  2016-04-05 12:47:46  \n",
       "3  2016-03-17 00:00:00                 0       91074  2016-03-17 17:40:17  \n",
       "4  2016-03-31 00:00:00                 0       60437  2016-04-06 10:17:21  "
      ]
     },
     "execution_count": 2,
     "metadata": {},
     "output_type": "execute_result"
    }
   ],
   "source": [
    "data = pd.read_csv('/datasets/autos.csv')\n",
    "data.head()"
   ]
  },
  {
   "cell_type": "code",
   "execution_count": 3,
   "metadata": {},
   "outputs": [
    {
     "name": "stdout",
     "output_type": "stream",
     "text": [
      "<class 'pandas.core.frame.DataFrame'>\n",
      "RangeIndex: 354369 entries, 0 to 354368\n",
      "Data columns (total 16 columns):\n",
      " #   Column             Non-Null Count   Dtype \n",
      "---  ------             --------------   ----- \n",
      " 0   DateCrawled        354369 non-null  object\n",
      " 1   Price              354369 non-null  int64 \n",
      " 2   VehicleType        316879 non-null  object\n",
      " 3   RegistrationYear   354369 non-null  int64 \n",
      " 4   Gearbox            334536 non-null  object\n",
      " 5   Power              354369 non-null  int64 \n",
      " 6   Model              334664 non-null  object\n",
      " 7   Kilometer          354369 non-null  int64 \n",
      " 8   RegistrationMonth  354369 non-null  int64 \n",
      " 9   FuelType           321474 non-null  object\n",
      " 10  Brand              354369 non-null  object\n",
      " 11  Repaired           283215 non-null  object\n",
      " 12  DateCreated        354369 non-null  object\n",
      " 13  NumberOfPictures   354369 non-null  int64 \n",
      " 14  PostalCode         354369 non-null  int64 \n",
      " 15  LastSeen           354369 non-null  object\n",
      "dtypes: int64(7), object(9)\n",
      "memory usage: 43.3+ MB\n"
     ]
    }
   ],
   "source": [
    "data.info()"
   ]
  },
  {
   "cell_type": "code",
   "execution_count": 4,
   "metadata": {},
   "outputs": [
    {
     "data": {
      "text/html": [
       "<div>\n",
       "<style scoped>\n",
       "    .dataframe tbody tr th:only-of-type {\n",
       "        vertical-align: middle;\n",
       "    }\n",
       "\n",
       "    .dataframe tbody tr th {\n",
       "        vertical-align: top;\n",
       "    }\n",
       "\n",
       "    .dataframe thead th {\n",
       "        text-align: right;\n",
       "    }\n",
       "</style>\n",
       "<table border=\"1\" class=\"dataframe\">\n",
       "  <thead>\n",
       "    <tr style=\"text-align: right;\">\n",
       "      <th></th>\n",
       "      <th>datecrawled</th>\n",
       "      <th>price</th>\n",
       "      <th>vehicletype</th>\n",
       "      <th>registrationyear</th>\n",
       "      <th>gearbox</th>\n",
       "      <th>power</th>\n",
       "      <th>model</th>\n",
       "      <th>kilometer</th>\n",
       "      <th>registrationmonth</th>\n",
       "      <th>fueltype</th>\n",
       "      <th>brand</th>\n",
       "      <th>repaired</th>\n",
       "      <th>datecreated</th>\n",
       "      <th>numberofpictures</th>\n",
       "      <th>postalcode</th>\n",
       "      <th>lastseen</th>\n",
       "    </tr>\n",
       "  </thead>\n",
       "  <tbody>\n",
       "    <tr>\n",
       "      <th>0</th>\n",
       "      <td>2016-03-24 11:52:17</td>\n",
       "      <td>480</td>\n",
       "      <td>NaN</td>\n",
       "      <td>1993</td>\n",
       "      <td>manual</td>\n",
       "      <td>0</td>\n",
       "      <td>golf</td>\n",
       "      <td>150000</td>\n",
       "      <td>0</td>\n",
       "      <td>petrol</td>\n",
       "      <td>volkswagen</td>\n",
       "      <td>NaN</td>\n",
       "      <td>2016-03-24 00:00:00</td>\n",
       "      <td>0</td>\n",
       "      <td>70435</td>\n",
       "      <td>2016-04-07 03:16:57</td>\n",
       "    </tr>\n",
       "    <tr>\n",
       "      <th>1</th>\n",
       "      <td>2016-03-24 10:58:45</td>\n",
       "      <td>18300</td>\n",
       "      <td>coupe</td>\n",
       "      <td>2011</td>\n",
       "      <td>manual</td>\n",
       "      <td>190</td>\n",
       "      <td>NaN</td>\n",
       "      <td>125000</td>\n",
       "      <td>5</td>\n",
       "      <td>gasoline</td>\n",
       "      <td>audi</td>\n",
       "      <td>yes</td>\n",
       "      <td>2016-03-24 00:00:00</td>\n",
       "      <td>0</td>\n",
       "      <td>66954</td>\n",
       "      <td>2016-04-07 01:46:50</td>\n",
       "    </tr>\n",
       "    <tr>\n",
       "      <th>2</th>\n",
       "      <td>2016-03-14 12:52:21</td>\n",
       "      <td>9800</td>\n",
       "      <td>suv</td>\n",
       "      <td>2004</td>\n",
       "      <td>auto</td>\n",
       "      <td>163</td>\n",
       "      <td>grand</td>\n",
       "      <td>125000</td>\n",
       "      <td>8</td>\n",
       "      <td>gasoline</td>\n",
       "      <td>jeep</td>\n",
       "      <td>NaN</td>\n",
       "      <td>2016-03-14 00:00:00</td>\n",
       "      <td>0</td>\n",
       "      <td>90480</td>\n",
       "      <td>2016-04-05 12:47:46</td>\n",
       "    </tr>\n",
       "    <tr>\n",
       "      <th>3</th>\n",
       "      <td>2016-03-17 16:54:04</td>\n",
       "      <td>1500</td>\n",
       "      <td>small</td>\n",
       "      <td>2001</td>\n",
       "      <td>manual</td>\n",
       "      <td>75</td>\n",
       "      <td>golf</td>\n",
       "      <td>150000</td>\n",
       "      <td>6</td>\n",
       "      <td>petrol</td>\n",
       "      <td>volkswagen</td>\n",
       "      <td>no</td>\n",
       "      <td>2016-03-17 00:00:00</td>\n",
       "      <td>0</td>\n",
       "      <td>91074</td>\n",
       "      <td>2016-03-17 17:40:17</td>\n",
       "    </tr>\n",
       "    <tr>\n",
       "      <th>4</th>\n",
       "      <td>2016-03-31 17:25:20</td>\n",
       "      <td>3600</td>\n",
       "      <td>small</td>\n",
       "      <td>2008</td>\n",
       "      <td>manual</td>\n",
       "      <td>69</td>\n",
       "      <td>fabia</td>\n",
       "      <td>90000</td>\n",
       "      <td>7</td>\n",
       "      <td>gasoline</td>\n",
       "      <td>skoda</td>\n",
       "      <td>no</td>\n",
       "      <td>2016-03-31 00:00:00</td>\n",
       "      <td>0</td>\n",
       "      <td>60437</td>\n",
       "      <td>2016-04-06 10:17:21</td>\n",
       "    </tr>\n",
       "  </tbody>\n",
       "</table>\n",
       "</div>"
      ],
      "text/plain": [
       "           datecrawled  price vehicletype  registrationyear gearbox  power  \\\n",
       "0  2016-03-24 11:52:17    480         NaN              1993  manual      0   \n",
       "1  2016-03-24 10:58:45  18300       coupe              2011  manual    190   \n",
       "2  2016-03-14 12:52:21   9800         suv              2004    auto    163   \n",
       "3  2016-03-17 16:54:04   1500       small              2001  manual     75   \n",
       "4  2016-03-31 17:25:20   3600       small              2008  manual     69   \n",
       "\n",
       "   model  kilometer  registrationmonth  fueltype       brand repaired  \\\n",
       "0   golf     150000                  0    petrol  volkswagen      NaN   \n",
       "1    NaN     125000                  5  gasoline        audi      yes   \n",
       "2  grand     125000                  8  gasoline        jeep      NaN   \n",
       "3   golf     150000                  6    petrol  volkswagen       no   \n",
       "4  fabia      90000                  7  gasoline       skoda       no   \n",
       "\n",
       "           datecreated  numberofpictures  postalcode             lastseen  \n",
       "0  2016-03-24 00:00:00                 0       70435  2016-04-07 03:16:57  \n",
       "1  2016-03-24 00:00:00                 0       66954  2016-04-07 01:46:50  \n",
       "2  2016-03-14 00:00:00                 0       90480  2016-04-05 12:47:46  \n",
       "3  2016-03-17 00:00:00                 0       91074  2016-03-17 17:40:17  \n",
       "4  2016-03-31 00:00:00                 0       60437  2016-04-06 10:17:21  "
      ]
     },
     "execution_count": 4,
     "metadata": {},
     "output_type": "execute_result"
    }
   ],
   "source": [
    "data.columns = data.columns.str.lower()\n",
    "data.head()"
   ]
  },
  {
   "cell_type": "code",
   "execution_count": 5,
   "metadata": {
    "scrolled": false
   },
   "outputs": [
    {
     "name": "stdout",
     "output_type": "stream",
     "text": [
      "                   registrationyear     power  kilometer  registrationmonth  \\\n",
      "registrationyear           1.000000 -0.000828  -0.053447          -0.011619   \n",
      "power                     -0.000828  1.000000   0.024002           0.043380   \n",
      "kilometer                 -0.053447  0.024002   1.000000           0.009571   \n",
      "registrationmonth         -0.011619  0.043380   0.009571           1.000000   \n",
      "postalcode                -0.003459  0.021665  -0.007698           0.013995   \n",
      "\n",
      "                   postalcode  \n",
      "registrationyear    -0.003459  \n",
      "power                0.021665  \n",
      "kilometer           -0.007698  \n",
      "registrationmonth    0.013995  \n",
      "postalcode           1.000000  \n"
     ]
    },
    {
     "data": {
      "text/plain": [
       "<AxesSubplot:>"
      ]
     },
     "execution_count": 5,
     "metadata": {},
     "output_type": "execute_result"
    },
    {
     "data": {
      "image/png": "[encoded data removed]",
      "text/plain": [
       "<Figure size 432x288 with 2 Axes>"
      ]
     },
     "metadata": {
      "needs_background": "light"
     },
     "output_type": "display_data"
    }
   ],
   "source": [
    "# посмотрим матрицу корреляции для выявления зависимости\n",
    "# между числовыми данными\n",
    "numeric_col = ['registrationyear','power','kilometer','registrationmonth','postalcode']\n",
    "\n",
    "corr_matrix = data.loc[:,numeric_col].corr()\n",
    "print(corr_matrix)\n",
    "\n",
    "sn.heatmap(corr_matrix, annot=True)"
   ]
  },
  {
   "cell_type": "markdown",
   "metadata": {},
   "source": [
    "Достаточной корреляции между признаками не обнаружено, нет проблем для предобработки данных."
   ]
  },
  {
   "cell_type": "markdown",
   "metadata": {},
   "source": [
    "Столбцы `datecrawled`, `datecreated`, `numberofpictures`, `postalcode`, `lastseen` будут удалены, так как полезной информации для исследования они не предоставляют и могут вызывать лишние зависимости."
   ]
  },
  {
   "cell_type": "code",
   "execution_count": 6,
   "metadata": {},
   "outputs": [
    {
     "data": {
      "text/html": [
       "<div>\n",
       "<style scoped>\n",
       "    .dataframe tbody tr th:only-of-type {\n",
       "        vertical-align: middle;\n",
       "    }\n",
       "\n",
       "    .dataframe tbody tr th {\n",
       "        vertical-align: top;\n",
       "    }\n",
       "\n",
       "    .dataframe thead th {\n",
       "        text-align: right;\n",
       "    }\n",
       "</style>\n",
       "<table border=\"1\" class=\"dataframe\">\n",
       "  <thead>\n",
       "    <tr style=\"text-align: right;\">\n",
       "      <th></th>\n",
       "      <th>price</th>\n",
       "      <th>vehicletype</th>\n",
       "      <th>registrationyear</th>\n",
       "      <th>gearbox</th>\n",
       "      <th>power</th>\n",
       "      <th>model</th>\n",
       "      <th>kilometer</th>\n",
       "      <th>registrationmonth</th>\n",
       "      <th>fueltype</th>\n",
       "      <th>brand</th>\n",
       "      <th>repaired</th>\n",
       "    </tr>\n",
       "  </thead>\n",
       "  <tbody>\n",
       "    <tr>\n",
       "      <th>0</th>\n",
       "      <td>480</td>\n",
       "      <td>NaN</td>\n",
       "      <td>1993</td>\n",
       "      <td>manual</td>\n",
       "      <td>0</td>\n",
       "      <td>golf</td>\n",
       "      <td>150000</td>\n",
       "      <td>0</td>\n",
       "      <td>petrol</td>\n",
       "      <td>volkswagen</td>\n",
       "      <td>NaN</td>\n",
       "    </tr>\n",
       "    <tr>\n",
       "      <th>1</th>\n",
       "      <td>18300</td>\n",
       "      <td>coupe</td>\n",
       "      <td>2011</td>\n",
       "      <td>manual</td>\n",
       "      <td>190</td>\n",
       "      <td>NaN</td>\n",
       "      <td>125000</td>\n",
       "      <td>5</td>\n",
       "      <td>gasoline</td>\n",
       "      <td>audi</td>\n",
       "      <td>yes</td>\n",
       "    </tr>\n",
       "    <tr>\n",
       "      <th>2</th>\n",
       "      <td>9800</td>\n",
       "      <td>suv</td>\n",
       "      <td>2004</td>\n",
       "      <td>auto</td>\n",
       "      <td>163</td>\n",
       "      <td>grand</td>\n",
       "      <td>125000</td>\n",
       "      <td>8</td>\n",
       "      <td>gasoline</td>\n",
       "      <td>jeep</td>\n",
       "      <td>NaN</td>\n",
       "    </tr>\n",
       "    <tr>\n",
       "      <th>3</th>\n",
       "      <td>1500</td>\n",
       "      <td>small</td>\n",
       "      <td>2001</td>\n",
       "      <td>manual</td>\n",
       "      <td>75</td>\n",
       "      <td>golf</td>\n",
       "      <td>150000</td>\n",
       "      <td>6</td>\n",
       "      <td>petrol</td>\n",
       "      <td>volkswagen</td>\n",
       "      <td>no</td>\n",
       "    </tr>\n",
       "    <tr>\n",
       "      <th>4</th>\n",
       "      <td>3600</td>\n",
       "      <td>small</td>\n",
       "      <td>2008</td>\n",
       "      <td>manual</td>\n",
       "      <td>69</td>\n",
       "      <td>fabia</td>\n",
       "      <td>90000</td>\n",
       "      <td>7</td>\n",
       "      <td>gasoline</td>\n",
       "      <td>skoda</td>\n",
       "      <td>no</td>\n",
       "    </tr>\n",
       "  </tbody>\n",
       "</table>\n",
       "</div>"
      ],
      "text/plain": [
       "   price vehicletype  registrationyear gearbox  power  model  kilometer  \\\n",
       "0    480         NaN              1993  manual      0   golf     150000   \n",
       "1  18300       coupe              2011  manual    190    NaN     125000   \n",
       "2   9800         suv              2004    auto    163  grand     125000   \n",
       "3   1500       small              2001  manual     75   golf     150000   \n",
       "4   3600       small              2008  manual     69  fabia      90000   \n",
       "\n",
       "   registrationmonth  fueltype       brand repaired  \n",
       "0                  0    petrol  volkswagen      NaN  \n",
       "1                  5  gasoline        audi      yes  \n",
       "2                  8  gasoline        jeep      NaN  \n",
       "3                  6    petrol  volkswagen       no  \n",
       "4                  7  gasoline       skoda       no  "
      ]
     },
     "execution_count": 6,
     "metadata": {},
     "output_type": "execute_result"
    }
   ],
   "source": [
    "# удаление столбцов для исключения выявления лишней зависимости\n",
    "data = data.drop(['datecrawled','datecreated','numberofpictures','postalcode','lastseen'], axis=1)\n",
    "data.head()"
   ]
  },
  {
   "cell_type": "code",
   "execution_count": 7,
   "metadata": {},
   "outputs": [
    {
     "data": {
      "text/plain": [
       "27543"
      ]
     },
     "execution_count": 7,
     "metadata": {},
     "output_type": "execute_result"
    }
   ],
   "source": [
    "# проверка на наличие строк-дубликатов\n",
    "data.duplicated().sum()"
   ]
  },
  {
   "cell_type": "code",
   "execution_count": 8,
   "metadata": {},
   "outputs": [
    {
     "data": {
      "text/plain": [
       "0"
      ]
     },
     "execution_count": 8,
     "metadata": {},
     "output_type": "execute_result"
    }
   ],
   "source": [
    "data = data.drop_duplicates().reset_index(drop=True)\n",
    "data.duplicated().sum()"
   ]
  },
  {
   "cell_type": "code",
   "execution_count": 9,
   "metadata": {},
   "outputs": [
    {
     "name": "stdout",
     "output_type": "stream",
     "text": [
      "<class 'pandas.core.frame.DataFrame'>\n",
      "RangeIndex: 326826 entries, 0 to 326825\n",
      "Data columns (total 11 columns):\n",
      " #   Column             Non-Null Count   Dtype \n",
      "---  ------             --------------   ----- \n",
      " 0   price              326826 non-null  int64 \n",
      " 1   vehicletype        291577 non-null  object\n",
      " 2   registrationyear   326826 non-null  int64 \n",
      " 3   gearbox            309248 non-null  object\n",
      " 4   power              326826 non-null  int64 \n",
      " 5   model              308294 non-null  object\n",
      " 6   kilometer          326826 non-null  int64 \n",
      " 7   registrationmonth  326826 non-null  int64 \n",
      " 8   fueltype           295704 non-null  object\n",
      " 9   brand              326826 non-null  object\n",
      " 10  repaired           260399 non-null  object\n",
      "dtypes: int64(5), object(6)\n",
      "memory usage: 27.4+ MB\n"
     ]
    }
   ],
   "source": [
    "data.info()"
   ]
  },
  {
   "cell_type": "markdown",
   "metadata": {},
   "source": [
    "#### Вывод"
   ]
  },
  {
   "cell_type": "markdown",
   "metadata": {},
   "source": [
    "- заголовки датафрейма приведены к нижнему регистру\n",
    "- построена матрица корреляции для выявления зависимости между числовыми данными, достаточной корреляции между признаками не обнаружено\n",
    "- удалены неинформативные столбцы\n",
    "- удалены строки дубликаты"
   ]
  },
  {
   "cell_type": "markdown",
   "metadata": {},
   "source": [
    "### Обработка пропусков "
   ]
  },
  {
   "cell_type": "code",
   "execution_count": 10,
   "metadata": {
    "scrolled": false
   },
   "outputs": [
    {
     "data": {
      "text/plain": [
       "price                0.000000\n",
       "vehicletype          0.107852\n",
       "registrationyear     0.000000\n",
       "gearbox              0.053784\n",
       "power                0.000000\n",
       "model                0.056703\n",
       "kilometer            0.000000\n",
       "registrationmonth    0.000000\n",
       "fueltype             0.095225\n",
       "brand                0.000000\n",
       "repaired             0.203249\n",
       "dtype: float64"
      ]
     },
     "execution_count": 10,
     "metadata": {},
     "output_type": "execute_result"
    }
   ],
   "source": [
    "# расчёт доли пропусков \n",
    "data.isna().mean()"
   ]
  },
  {
   "cell_type": "code",
   "execution_count": 11,
   "metadata": {},
   "outputs": [
    {
     "data": {
      "text/plain": [
       "sedan          83602\n",
       "small          73496\n",
       "wagon          59662\n",
       "bus            26795\n",
       "convertible    18752\n",
       "coupe          15120\n",
       "suv            10977\n",
       "other           3173\n",
       "Name: vehicletype, dtype: int64"
      ]
     },
     "execution_count": 11,
     "metadata": {},
     "output_type": "execute_result"
    }
   ],
   "source": [
    "data['vehicletype'].value_counts()"
   ]
  },
  {
   "cell_type": "code",
   "execution_count": 12,
   "metadata": {},
   "outputs": [
    {
     "data": {
      "text/plain": [
       "sedan          83602\n",
       "small          73496\n",
       "wagon          59662\n",
       "unknown        35249\n",
       "bus            26795\n",
       "convertible    18752\n",
       "coupe          15120\n",
       "suv            10977\n",
       "other           3173\n",
       "Name: vehicletype, dtype: int64"
      ]
     },
     "execution_count": 12,
     "metadata": {},
     "output_type": "execute_result"
    }
   ],
   "source": [
    "data['vehicletype'] = data['vehicletype'].fillna(value = 'unknown')\n",
    "data['vehicletype'].value_counts()"
   ]
  },
  {
   "cell_type": "code",
   "execution_count": 13,
   "metadata": {},
   "outputs": [
    {
     "data": {
      "text/plain": [
       "manual    248135\n",
       "auto       61113\n",
       "Name: gearbox, dtype: int64"
      ]
     },
     "execution_count": 13,
     "metadata": {},
     "output_type": "execute_result"
    }
   ],
   "source": [
    "data['gearbox'].value_counts()"
   ]
  },
  {
   "cell_type": "code",
   "execution_count": 14,
   "metadata": {},
   "outputs": [
    {
     "data": {
      "text/plain": [
       "manual     248135\n",
       "auto        61113\n",
       "unknown     17578\n",
       "Name: gearbox, dtype: int64"
      ]
     },
     "execution_count": 14,
     "metadata": {},
     "output_type": "execute_result"
    }
   ],
   "source": [
    "data['gearbox'] = data['gearbox'].fillna(value = 'unknown')\n",
    "data['gearbox'].value_counts()"
   ]
  },
  {
   "cell_type": "code",
   "execution_count": 15,
   "metadata": {},
   "outputs": [
    {
     "data": {
      "text/plain": [
       "golf                  26444\n",
       "other                 23231\n",
       "3er                   18037\n",
       "polo                  11934\n",
       "corsa                 11381\n",
       "                      ...  \n",
       "kalina                    8\n",
       "rangerover                4\n",
       "serie_3                   4\n",
       "serie_1                   2\n",
       "range_rover_evoque        1\n",
       "Name: model, Length: 250, dtype: int64"
      ]
     },
     "execution_count": 15,
     "metadata": {},
     "output_type": "execute_result"
    }
   ],
   "source": [
    "data['model'].value_counts()"
   ]
  },
  {
   "cell_type": "code",
   "execution_count": 16,
   "metadata": {},
   "outputs": [
    {
     "data": {
      "text/plain": [
       "golf                  26444\n",
       "other                 23231\n",
       "unknown               18532\n",
       "3er                   18037\n",
       "polo                  11934\n",
       "                      ...  \n",
       "kalina                    8\n",
       "serie_3                   4\n",
       "rangerover                4\n",
       "serie_1                   2\n",
       "range_rover_evoque        1\n",
       "Name: model, Length: 251, dtype: int64"
      ]
     },
     "execution_count": 16,
     "metadata": {},
     "output_type": "execute_result"
    }
   ],
   "source": [
    "data['model'] = data['model'].fillna(value = 'unknown')\n",
    "data['model'].value_counts()"
   ]
  },
  {
   "cell_type": "code",
   "execution_count": 17,
   "metadata": {},
   "outputs": [
    {
     "data": {
      "text/plain": [
       "petrol      200260\n",
       "gasoline     89464\n",
       "lpg           4934\n",
       "cng            529\n",
       "hybrid         228\n",
       "other          200\n",
       "electric        89\n",
       "Name: fueltype, dtype: int64"
      ]
     },
     "execution_count": 17,
     "metadata": {},
     "output_type": "execute_result"
    }
   ],
   "source": [
    "data['fueltype'].value_counts()"
   ]
  },
  {
   "cell_type": "code",
   "execution_count": 18,
   "metadata": {},
   "outputs": [
    {
     "data": {
      "text/plain": [
       "petrol      200260\n",
       "gasoline     89464\n",
       "unknown      31122\n",
       "lpg           4934\n",
       "cng            529\n",
       "hybrid         228\n",
       "other          200\n",
       "electric        89\n",
       "Name: fueltype, dtype: int64"
      ]
     },
     "execution_count": 18,
     "metadata": {},
     "output_type": "execute_result"
    }
   ],
   "source": [
    "data['fueltype'] = data['fueltype'].fillna(value = 'unknown')\n",
    "data['fueltype'].value_counts()"
   ]
  },
  {
   "cell_type": "code",
   "execution_count": 19,
   "metadata": {},
   "outputs": [
    {
     "data": {
      "text/plain": [
       "no     225970\n",
       "yes     34429\n",
       "Name: repaired, dtype: int64"
      ]
     },
     "execution_count": 19,
     "metadata": {},
     "output_type": "execute_result"
    }
   ],
   "source": [
    "data['repaired'].value_counts()"
   ]
  },
  {
   "cell_type": "code",
   "execution_count": 20,
   "metadata": {},
   "outputs": [
    {
     "data": {
      "text/plain": [
       "no         225970\n",
       "unknown     66427\n",
       "yes         34429\n",
       "Name: repaired, dtype: int64"
      ]
     },
     "execution_count": 20,
     "metadata": {},
     "output_type": "execute_result"
    }
   ],
   "source": [
    "data['repaired'] = data['repaired'].fillna(value = 'unknown')\n",
    "data['repaired'].value_counts()"
   ]
  },
  {
   "cell_type": "markdown",
   "metadata": {},
   "source": [
    "#### Вывод"
   ]
  },
  {
   "cell_type": "markdown",
   "metadata": {},
   "source": [
    "Пропуски в столбцах заполнены значением `unknown`."
   ]
  },
  {
   "cell_type": "markdown",
   "metadata": {},
   "source": [
    "### Обработка аномалий"
   ]
  },
  {
   "cell_type": "code",
   "execution_count": 21,
   "metadata": {},
   "outputs": [
    {
     "data": {
      "text/html": [
       "<div>\n",
       "<style scoped>\n",
       "    .dataframe tbody tr th:only-of-type {\n",
       "        vertical-align: middle;\n",
       "    }\n",
       "\n",
       "    .dataframe tbody tr th {\n",
       "        vertical-align: top;\n",
       "    }\n",
       "\n",
       "    .dataframe thead th {\n",
       "        text-align: right;\n",
       "    }\n",
       "</style>\n",
       "<table border=\"1\" class=\"dataframe\">\n",
       "  <thead>\n",
       "    <tr style=\"text-align: right;\">\n",
       "      <th></th>\n",
       "      <th>price</th>\n",
       "      <th>vehicletype</th>\n",
       "      <th>registrationyear</th>\n",
       "      <th>gearbox</th>\n",
       "      <th>power</th>\n",
       "      <th>model</th>\n",
       "      <th>kilometer</th>\n",
       "      <th>registrationmonth</th>\n",
       "      <th>fueltype</th>\n",
       "      <th>brand</th>\n",
       "      <th>repaired</th>\n",
       "    </tr>\n",
       "  </thead>\n",
       "  <tbody>\n",
       "    <tr>\n",
       "      <th>0</th>\n",
       "      <td>480</td>\n",
       "      <td>unknown</td>\n",
       "      <td>1993</td>\n",
       "      <td>manual</td>\n",
       "      <td>0</td>\n",
       "      <td>golf</td>\n",
       "      <td>150000</td>\n",
       "      <td>0</td>\n",
       "      <td>petrol</td>\n",
       "      <td>volkswagen</td>\n",
       "      <td>unknown</td>\n",
       "    </tr>\n",
       "    <tr>\n",
       "      <th>1</th>\n",
       "      <td>18300</td>\n",
       "      <td>coupe</td>\n",
       "      <td>2011</td>\n",
       "      <td>manual</td>\n",
       "      <td>190</td>\n",
       "      <td>unknown</td>\n",
       "      <td>125000</td>\n",
       "      <td>5</td>\n",
       "      <td>gasoline</td>\n",
       "      <td>audi</td>\n",
       "      <td>yes</td>\n",
       "    </tr>\n",
       "    <tr>\n",
       "      <th>2</th>\n",
       "      <td>9800</td>\n",
       "      <td>suv</td>\n",
       "      <td>2004</td>\n",
       "      <td>auto</td>\n",
       "      <td>163</td>\n",
       "      <td>grand</td>\n",
       "      <td>125000</td>\n",
       "      <td>8</td>\n",
       "      <td>gasoline</td>\n",
       "      <td>jeep</td>\n",
       "      <td>unknown</td>\n",
       "    </tr>\n",
       "    <tr>\n",
       "      <th>3</th>\n",
       "      <td>1500</td>\n",
       "      <td>small</td>\n",
       "      <td>2001</td>\n",
       "      <td>manual</td>\n",
       "      <td>75</td>\n",
       "      <td>golf</td>\n",
       "      <td>150000</td>\n",
       "      <td>6</td>\n",
       "      <td>petrol</td>\n",
       "      <td>volkswagen</td>\n",
       "      <td>no</td>\n",
       "    </tr>\n",
       "    <tr>\n",
       "      <th>4</th>\n",
       "      <td>3600</td>\n",
       "      <td>small</td>\n",
       "      <td>2008</td>\n",
       "      <td>manual</td>\n",
       "      <td>69</td>\n",
       "      <td>fabia</td>\n",
       "      <td>90000</td>\n",
       "      <td>7</td>\n",
       "      <td>gasoline</td>\n",
       "      <td>skoda</td>\n",
       "      <td>no</td>\n",
       "    </tr>\n",
       "  </tbody>\n",
       "</table>\n",
       "</div>"
      ],
      "text/plain": [
       "   price vehicletype  registrationyear gearbox  power    model  kilometer  \\\n",
       "0    480     unknown              1993  manual      0     golf     150000   \n",
       "1  18300       coupe              2011  manual    190  unknown     125000   \n",
       "2   9800         suv              2004    auto    163    grand     125000   \n",
       "3   1500       small              2001  manual     75     golf     150000   \n",
       "4   3600       small              2008  manual     69    fabia      90000   \n",
       "\n",
       "   registrationmonth  fueltype       brand repaired  \n",
       "0                  0    petrol  volkswagen  unknown  \n",
       "1                  5  gasoline        audi      yes  \n",
       "2                  8  gasoline        jeep  unknown  \n",
       "3                  6    petrol  volkswagen       no  \n",
       "4                  7  gasoline       skoda       no  "
      ]
     },
     "execution_count": 21,
     "metadata": {},
     "output_type": "execute_result"
    }
   ],
   "source": [
    "data.head()"
   ]
  },
  {
   "cell_type": "code",
   "execution_count": 22,
   "metadata": {},
   "outputs": [
    {
     "data": {
      "text/plain": [
       "Text(0.5, 0, 'Год')"
      ]
     },
     "execution_count": 22,
     "metadata": {},
     "output_type": "execute_result"
    },
    {
     "data": {
      "image/png": "[encoded data removed]",
      "text/plain": [
       "<Figure size 720x504 with 1 Axes>"
      ]
     },
     "metadata": {
      "needs_background": "light"
     },
     "output_type": "display_data"
    }
   ],
   "source": [
    "data['registrationyear'].hist(bins=100, range = (0, 4000), figsize = (10, 7))\n",
    "plt.title('Анализ параметра: год регистрации автомобиля', fontsize=10)\n",
    "plt.ylabel('Частота', fontsize=10)\n",
    "plt.xlabel('Год', fontsize=10)"
   ]
  },
  {
   "cell_type": "code",
   "execution_count": 23,
   "metadata": {},
   "outputs": [
    {
     "data": {
      "text/plain": [
       "Text(0.5, 0, 'Мощность')"
      ]
     },
     "execution_count": 23,
     "metadata": {},
     "output_type": "execute_result"
    },
    {
     "data": {
      "image/png": "[encoded data removed]",
      "text/plain": [
       "<Figure size 720x504 with 1 Axes>"
      ]
     },
     "metadata": {
      "needs_background": "light"
     },
     "output_type": "display_data"
    }
   ],
   "source": [
    "data['power'].hist(bins=100, range = (-100, 1000), figsize = (10, 7))\n",
    "plt.title('Анализ параметра: мощность', fontsize=10)\n",
    "plt.ylabel('Частота', fontsize=10)\n",
    "plt.xlabel('Мощность', fontsize=10)"
   ]
  },
  {
   "cell_type": "code",
   "execution_count": 24,
   "metadata": {},
   "outputs": [],
   "source": [
    "power_median = int(data['power'].median())\n",
    "data['power'] = data['power'].replace(0, power_median)"
   ]
  },
  {
   "cell_type": "code",
   "execution_count": 25,
   "metadata": {},
   "outputs": [
    {
     "data": {
      "text/plain": [
       "Text(0.5, 0, 'Месяц')"
      ]
     },
     "execution_count": 25,
     "metadata": {},
     "output_type": "execute_result"
    },
    {
     "data": {
      "image/png": "[encoded data removed]",
      "text/plain": [
       "<Figure size 720x504 with 1 Axes>"
      ]
     },
     "metadata": {
      "needs_background": "light"
     },
     "output_type": "display_data"
    }
   ],
   "source": [
    "data['registrationmonth'].hist(bins=100, figsize = (10, 7))\n",
    "plt.title('Анализ параметра: месяц регистрации автомобиля', fontsize=10)\n",
    "plt.ylabel('Частота', fontsize=10)\n",
    "plt.xlabel('Месяц', fontsize=10)"
   ]
  },
  {
   "cell_type": "code",
   "execution_count": 26,
   "metadata": {},
   "outputs": [],
   "source": [
    "data['registrationmonth'] = data['registrationmonth'].replace(0, 10)"
   ]
  },
  {
   "cell_type": "markdown",
   "metadata": {},
   "source": [
    "#### Вывод"
   ]
  },
  {
   "cell_type": "markdown",
   "metadata": {},
   "source": [
    "Аномалии:\n",
    "- в столбце `power` заменены на медианное значение\n",
    "- в столбце `registrationmonth` заменены на предполагаемое значение"
   ]
  },
  {
   "cell_type": "code",
   "execution_count": 27,
   "metadata": {},
   "outputs": [
    {
     "name": "stdout",
     "output_type": "stream",
     "text": [
      "<class 'pandas.core.frame.DataFrame'>\n",
      "RangeIndex: 326826 entries, 0 to 326825\n",
      "Data columns (total 11 columns):\n",
      " #   Column             Non-Null Count   Dtype \n",
      "---  ------             --------------   ----- \n",
      " 0   price              326826 non-null  int64 \n",
      " 1   vehicletype        326826 non-null  object\n",
      " 2   registrationyear   326826 non-null  int64 \n",
      " 3   gearbox            326826 non-null  object\n",
      " 4   power              326826 non-null  int64 \n",
      " 5   model              326826 non-null  object\n",
      " 6   kilometer          326826 non-null  int64 \n",
      " 7   registrationmonth  326826 non-null  int64 \n",
      " 8   fueltype           326826 non-null  object\n",
      " 9   brand              326826 non-null  object\n",
      " 10  repaired           326826 non-null  object\n",
      "dtypes: int64(5), object(6)\n",
      "memory usage: 27.4+ MB\n"
     ]
    }
   ],
   "source": [
    "data_1 = data.copy(deep=True)\n",
    "data_1.info()"
   ]
  },
  {
   "cell_type": "code",
   "execution_count": 28,
   "metadata": {},
   "outputs": [],
   "source": [
    "data_ohe = pd.get_dummies(data_1, drop_first=True)"
   ]
  },
  {
   "cell_type": "markdown",
   "metadata": {},
   "source": [
    "### Кодирование метки"
   ]
  },
  {
   "cell_type": "code",
   "execution_count": 29,
   "metadata": {},
   "outputs": [],
   "source": [
    "# замена типа object на тип category\n",
    "data['vehicletype'] = data['vehicletype'].astype('category')\n",
    "data['gearbox'] = data['gearbox'].astype('category')\n",
    "data['model'] = data['model'].astype('category')\n",
    "data['fueltype'] = data['fueltype'].astype('category')\n",
    "data['brand'] = data['brand'].astype('category')\n",
    "data['repaired'] = data['repaired'].astype('category')"
   ]
  },
  {
   "cell_type": "code",
   "execution_count": 30,
   "metadata": {},
   "outputs": [
    {
     "name": "stdout",
     "output_type": "stream",
     "text": [
      "<class 'pandas.core.frame.DataFrame'>\n",
      "RangeIndex: 326826 entries, 0 to 326825\n",
      "Data columns (total 11 columns):\n",
      " #   Column             Non-Null Count   Dtype   \n",
      "---  ------             --------------   -----   \n",
      " 0   price              326826 non-null  int64   \n",
      " 1   vehicletype        326826 non-null  category\n",
      " 2   registrationyear   326826 non-null  int64   \n",
      " 3   gearbox            326826 non-null  category\n",
      " 4   power              326826 non-null  int64   \n",
      " 5   model              326826 non-null  category\n",
      " 6   kilometer          326826 non-null  int64   \n",
      " 7   registrationmonth  326826 non-null  int64   \n",
      " 8   fueltype           326826 non-null  category\n",
      " 9   brand              326826 non-null  category\n",
      " 10  repaired           326826 non-null  category\n",
      "dtypes: category(6), int64(5)\n",
      "memory usage: 14.7 MB\n"
     ]
    }
   ],
   "source": [
    "data.info()"
   ]
  },
  {
   "cell_type": "markdown",
   "metadata": {},
   "source": [
    "## Обучение моделей"
   ]
  },
  {
   "cell_type": "markdown",
   "metadata": {},
   "source": [
    "### Разбиение на выборки"
   ]
  },
  {
   "cell_type": "code",
   "execution_count": 31,
   "metadata": {},
   "outputs": [],
   "source": [
    "# определение целевого признака и признаков \n",
    "target = data['price']\n",
    "features = data.drop('price', axis=1)\n",
    "\n",
    "target_1 = data_ohe['price']\n",
    "features_1 = data_ohe.drop('price', axis=1)"
   ]
  },
  {
   "cell_type": "code",
   "execution_count": 32,
   "metadata": {},
   "outputs": [],
   "source": [
    "# деление исходного набора данных на две выборки: обучающую и тестовую\n",
    "# под обучающую отвела 60%, под тестовую - 40%, чтобы в дальнейшем разбить \n",
    "# её на тестовую и валидационную\n",
    "features_train, features_test, target_train, target_test = train_test_split(features, \n",
    "                                                                            target, \n",
    "                                                                            test_size = 0.4,\n",
    "                                                                            random_state=12345)\n",
    "# деление тестовой выборки на тестовую и валидационную\n",
    "# от исходного набора данных они содержат каждая по 20%\n",
    "features_test, features_valid, target_test, target_valid = train_test_split(features_test, \n",
    "                                                                            target_test, \n",
    "                                                                            test_size = 0.5, \n",
    "                                                                            random_state=12345)"
   ]
  },
  {
   "cell_type": "code",
   "execution_count": 33,
   "metadata": {},
   "outputs": [],
   "source": [
    "features_train_1, features_test_1, target_train_1, target_test_1 = train_test_split(features_1, \n",
    "                                                                                    target_1, \n",
    "                                                                                    test_size = 0.4,\n",
    "                                                                                    random_state=12345)\n",
    "\n",
    "features_test_1, features_valid_1, target_test_1, target_valid_1 = train_test_split(features_test_1, \n",
    "                                                                                    target_test_1, \n",
    "                                                                                    test_size = 0.5, \n",
    "                                                                                    random_state=12345)"
   ]
  },
  {
   "cell_type": "code",
   "execution_count": 34,
   "metadata": {},
   "outputs": [
    {
     "name": "stdout",
     "output_type": "stream",
     "text": [
      "(196095, 10) (65365, 10) (65366, 10)\n"
     ]
    }
   ],
   "source": [
    "# проверка корректности разбиения\n",
    "print(features_train.shape,\n",
    "      features_test.shape, \n",
    "      features_valid.shape)"
   ]
  },
  {
   "cell_type": "markdown",
   "metadata": {},
   "source": [
    "### Обучение моделей"
   ]
  },
  {
   "cell_type": "code",
   "execution_count": 35,
   "metadata": {
    "scrolled": true
   },
   "outputs": [
    {
     "name": "stdout",
     "output_type": "stream",
     "text": [
      "Лучшее значение RSME: 2262.361493705918 Количество деревьев: 30 Глубина дерева: 7\n"
     ]
    }
   ],
   "source": [
    "best_model_forest = None\n",
    "best_result_forest = 2500\n",
    "best_est_forest = 0\n",
    "best_depth_forest = 0 \n",
    "\n",
    "for est in range(10,31,5):\n",
    "    for depth in range(1,8):\n",
    "        model_forest = RandomForestRegressor(random_state = 12345,\n",
    "                                             n_estimators = est, \n",
    "                                             max_depth = depth)\n",
    "        model_forest.fit(features_train_1, target_train_1)\n",
    "        pred_valid_forest = model_forest.predict(features_valid_1)\n",
    "        rmse_forest = mean_squared_error(target_valid_1, pred_valid_forest)**0.5\n",
    "        \n",
    "        if rmse_forest < best_result_forest:\n",
    "            best_model_forest = model_forest\n",
    "            best_result_forest = rmse_forest\n",
    "            best_est_forest = est\n",
    "            best_depth_forest = depth\n",
    "\n",
    "print('Лучшее значение RSME:', best_result_forest, \n",
    "      'Количество деревьев:', best_est_forest,\n",
    "      'Глубина дерева:', best_depth_forest)"
   ]
  },
  {
   "cell_type": "code",
   "execution_count": 36,
   "metadata": {
    "scrolled": true
   },
   "outputs": [
    {
     "name": "stdout",
     "output_type": "stream",
     "text": [
      "Learning rate set to 0.094273\n",
      "0:\tlearn: 4395.0438446\ttotal: 92.2ms\tremaining: 1m 32s\n",
      "100:\tlearn: 2572.7035777\ttotal: 2.63s\tremaining: 23.5s\n",
      "200:\tlearn: 2386.2714764\ttotal: 5.22s\tremaining: 20.8s\n",
      "300:\tlearn: 2331.8632481\ttotal: 7.69s\tremaining: 17.9s\n",
      "400:\tlearn: 2307.9079677\ttotal: 10.3s\tremaining: 15.3s\n",
      "500:\tlearn: 2295.8259378\ttotal: 12.8s\tremaining: 12.8s\n",
      "600:\tlearn: 2287.7525609\ttotal: 15.5s\tremaining: 10.3s\n",
      "700:\tlearn: 2281.5852321\ttotal: 18.1s\tremaining: 7.71s\n",
      "800:\tlearn: 2276.8446358\ttotal: 20.5s\tremaining: 5.1s\n",
      "900:\tlearn: 2272.9962384\ttotal: 23s\tremaining: 2.53s\n",
      "999:\tlearn: 2269.8986334\ttotal: 25.5s\tremaining: 0us\n",
      "Learning rate set to 0.094273\n",
      "0:\tlearn: 4329.5653122\ttotal: 73.6ms\tremaining: 1m 13s\n",
      "100:\tlearn: 2199.6683029\ttotal: 5.11s\tremaining: 45.5s\n",
      "200:\tlearn: 2082.4811544\ttotal: 10.4s\tremaining: 41.2s\n",
      "300:\tlearn: 2029.8879248\ttotal: 15.5s\tremaining: 36.1s\n",
      "400:\tlearn: 2000.2148192\ttotal: 20.6s\tremaining: 30.7s\n",
      "500:\tlearn: 1977.4019809\ttotal: 25.3s\tremaining: 25.2s\n",
      "600:\tlearn: 1961.7045353\ttotal: 30.1s\tremaining: 20s\n",
      "700:\tlearn: 1948.8911996\ttotal: 34.9s\tremaining: 14.9s\n",
      "800:\tlearn: 1938.7311112\ttotal: 39.7s\tremaining: 9.86s\n",
      "900:\tlearn: 1930.4006152\ttotal: 44.3s\tremaining: 4.87s\n",
      "999:\tlearn: 1924.1250145\ttotal: 49.1s\tremaining: 0us\n",
      "Learning rate set to 0.094273\n",
      "0:\tlearn: 4300.2723732\ttotal: 102ms\tremaining: 1m 42s\n",
      "100:\tlearn: 2074.7121478\ttotal: 8.03s\tremaining: 1m 11s\n",
      "200:\tlearn: 1979.2507172\ttotal: 16.1s\tremaining: 1m 3s\n",
      "300:\tlearn: 1933.5252950\ttotal: 24.3s\tremaining: 56.5s\n",
      "400:\tlearn: 1905.7804666\ttotal: 32.5s\tremaining: 48.6s\n",
      "500:\tlearn: 1886.5187606\ttotal: 40.8s\tremaining: 40.7s\n",
      "600:\tlearn: 1871.5436191\ttotal: 48.6s\tremaining: 32.3s\n",
      "700:\tlearn: 1861.1495463\ttotal: 56.7s\tremaining: 24.2s\n",
      "800:\tlearn: 1852.6319919\ttotal: 1m 4s\tremaining: 16s\n",
      "900:\tlearn: 1843.7705174\ttotal: 1m 12s\tremaining: 7.91s\n",
      "999:\tlearn: 1836.4010323\ttotal: 1m 19s\tremaining: 0us\n",
      "Learning rate set to 0.094273\n",
      "0:\tlearn: 4277.5277525\ttotal: 161ms\tremaining: 2m 41s\n",
      "100:\tlearn: 2003.1862676\ttotal: 11.4s\tremaining: 1m 41s\n",
      "200:\tlearn: 1914.6279885\ttotal: 22.9s\tremaining: 1m 30s\n",
      "300:\tlearn: 1873.5116081\ttotal: 34.9s\tremaining: 1m 21s\n",
      "400:\tlearn: 1849.2320211\ttotal: 45.8s\tremaining: 1m 8s\n",
      "500:\tlearn: 1833.0382550\ttotal: 57s\tremaining: 56.8s\n",
      "600:\tlearn: 1819.2841096\ttotal: 1m 8s\tremaining: 45.3s\n",
      "700:\tlearn: 1807.7589833\ttotal: 1m 19s\tremaining: 33.9s\n",
      "800:\tlearn: 1798.4950854\ttotal: 1m 31s\tremaining: 22.7s\n",
      "900:\tlearn: 1789.5733042\ttotal: 1m 42s\tremaining: 11.3s\n",
      "999:\tlearn: 1781.5978572\ttotal: 1m 54s\tremaining: 0us\n",
      "Лучшее значение RSME: 1808.1140226783502 Глубина дерева: 4\n"
     ]
    }
   ],
   "source": [
    "best_model_catboost = None\n",
    "best_result_catboost = 2500\n",
    "best_depth = 0 \n",
    "\n",
    "for depth in range(1,5):\n",
    "    model_catboost = CatBoostRegressor(max_depth = depth)\n",
    "    category = ['vehicletype','gearbox','model','fueltype','brand','repaired']\n",
    "    model_catboost.fit(features_train, target_train, cat_features=category, verbose=100)\n",
    "    pred_valid_catboost = model_catboost.predict(features_valid)\n",
    "    rmse_catboost = mean_squared_error(target_valid, pred_valid_catboost)**0.5\n",
    "        \n",
    "    if rmse_catboost < best_result_catboost:\n",
    "        best_model_catboost = model_catboost\n",
    "        best_result_catboost = rmse_catboost\n",
    "        best_depth = depth\n",
    "        \n",
    "print('Лучшее значение RSME:', best_result_catboost,\n",
    "      'Глубина дерева:', best_depth)"
   ]
  },
  {
   "cell_type": "code",
   "execution_count": 37,
   "metadata": {},
   "outputs": [
    {
     "name": "stdout",
     "output_type": "stream",
     "text": [
      "Лучшее значение RSME: 1836.1260910354629 Количество деревьев: 50 Глубина дерева: 10\n"
     ]
    }
   ],
   "source": [
    "best_model_light = None\n",
    "best_result_light = 2500\n",
    "best_est = 0\n",
    "best_depth = 0 \n",
    "\n",
    "for est in range(10,51,5):\n",
    "    for depth in range(1,11):\n",
    "        model_light = LGBMRegressor(n_estimators = est, \n",
    "                                    max_depth = depth)\n",
    "        model_light.fit(features_train, target_train)\n",
    "        pred_valid_light = model_light.predict(features_valid)\n",
    "        rmse_light = mean_squared_error(target_valid, pred_valid_light)**0.5\n",
    "        \n",
    "        if rmse_light < best_result_light:\n",
    "            best_model_light = model_light\n",
    "            best_result_light = rmse_light\n",
    "            best_est = est\n",
    "            best_depth = depth\n",
    "\n",
    "print('Лучшее значение RSME:', best_result_light, \n",
    "      'Количество деревьев:', best_est,\n",
    "      'Глубина дерева:', best_depth)"
   ]
  },
  {
   "cell_type": "markdown",
   "metadata": {},
   "source": [
    "## Анализ моделей"
   ]
  },
  {
   "cell_type": "code",
   "execution_count": 38,
   "metadata": {},
   "outputs": [
    {
     "name": "stdout",
     "output_type": "stream",
     "text": [
      "Время обучения модели: 52.72271039895713 с\n",
      "Время предсказания модели: 0.19640418887138367 с\n"
     ]
    }
   ],
   "source": [
    "t1 = time.perf_counter()\n",
    "best_model_forest.fit(features_train_1, target_train_1)\n",
    "t2 = time.perf_counter()\n",
    "pred_valid_forest = best_model_forest.predict(features_valid_1)\n",
    "t3 = time.perf_counter()\n",
    "print(f'Время обучения модели: {t2-t1} с')\n",
    "print(f'Время предсказания модели: {t3-t2} с')"
   ]
  },
  {
   "cell_type": "code",
   "execution_count": 40,
   "metadata": {},
   "outputs": [
    {
     "name": "stdout",
     "output_type": "stream",
     "text": [
      "Learning rate set to 0.094273\n",
      "0:\tlearn: 4277.5277525\ttotal: 140ms\tremaining: 2m 19s\n",
      "100:\tlearn: 2003.1862676\ttotal: 11.5s\tremaining: 1m 41s\n",
      "200:\tlearn: 1914.6279885\ttotal: 23.1s\tremaining: 1m 31s\n",
      "300:\tlearn: 1873.5116081\ttotal: 34.5s\tremaining: 1m 20s\n",
      "400:\tlearn: 1849.2320211\ttotal: 45.2s\tremaining: 1m 7s\n",
      "500:\tlearn: 1833.0382550\ttotal: 56.2s\tremaining: 56s\n",
      "600:\tlearn: 1819.2841096\ttotal: 1m 7s\tremaining: 44.8s\n",
      "700:\tlearn: 1807.7589833\ttotal: 1m 18s\tremaining: 33.5s\n",
      "800:\tlearn: 1798.4950854\ttotal: 1m 30s\tremaining: 22.4s\n",
      "900:\tlearn: 1789.5733042\ttotal: 1m 41s\tremaining: 11.2s\n",
      "999:\tlearn: 1781.5978572\ttotal: 1m 53s\tremaining: 0us\n",
      "Время обучения модели: 114.89986545965075 с\n",
      "Время предсказания модели: 0.3016708195209503 с\n"
     ]
    }
   ],
   "source": [
    "t4 = time.perf_counter()\n",
    "best_model_catboost.fit(features_train, target_train, cat_features=category, verbose=100)\n",
    "t5 = time.perf_counter()\n",
    "pred_valid_catboost = best_model_catboost.predict(features_valid)\n",
    "t6 = time.perf_counter()\n",
    "print(f'Время обучения модели: {t5-t4} с')\n",
    "print(f'Время предсказания модели: {t6-t5} с')"
   ]
  },
  {
   "cell_type": "code",
   "execution_count": 41,
   "metadata": {},
   "outputs": [
    {
     "name": "stdout",
     "output_type": "stream",
     "text": [
      "Время обучения модели: 2.7768587712198496 с\n",
      "Время предсказания модели: 0.40017247945070267 с\n"
     ]
    }
   ],
   "source": [
    "t7 = time.perf_counter()\n",
    "best_model_light.fit(features_train, target_train)\n",
    "t8 = time.perf_counter()\n",
    "pred_valid_light = best_model_light.predict(features_valid)\n",
    "t9 = time.perf_counter()\n",
    "print(f'Время обучения модели: {t8-t7} с')\n",
    "print(f'Время предсказания модели: {t9-t8} с')"
   ]
  },
  {
   "cell_type": "code",
   "execution_count": 42,
   "metadata": {},
   "outputs": [
    {
     "data": {
      "text/html": [
       "<div>\n",
       "<style scoped>\n",
       "    .dataframe tbody tr th:only-of-type {\n",
       "        vertical-align: middle;\n",
       "    }\n",
       "\n",
       "    .dataframe tbody tr th {\n",
       "        vertical-align: top;\n",
       "    }\n",
       "\n",
       "    .dataframe thead th {\n",
       "        text-align: right;\n",
       "    }\n",
       "</style>\n",
       "<table border=\"1\" class=\"dataframe\">\n",
       "  <thead>\n",
       "    <tr style=\"text-align: right;\">\n",
       "      <th></th>\n",
       "      <th>модель</th>\n",
       "      <th>RMSE</th>\n",
       "      <th>время обучения</th>\n",
       "      <th>время предсказания</th>\n",
       "    </tr>\n",
       "  </thead>\n",
       "  <tbody>\n",
       "    <tr>\n",
       "      <th>0</th>\n",
       "      <td>RandomForest</td>\n",
       "      <td>2262.361494</td>\n",
       "      <td>52.722710</td>\n",
       "      <td>0.196404</td>\n",
       "    </tr>\n",
       "    <tr>\n",
       "      <th>1</th>\n",
       "      <td>CatBoost</td>\n",
       "      <td>1808.114023</td>\n",
       "      <td>114.899865</td>\n",
       "      <td>0.301671</td>\n",
       "    </tr>\n",
       "    <tr>\n",
       "      <th>2</th>\n",
       "      <td>LightGBM</td>\n",
       "      <td>1836.126091</td>\n",
       "      <td>2.776859</td>\n",
       "      <td>0.400172</td>\n",
       "    </tr>\n",
       "  </tbody>\n",
       "</table>\n",
       "</div>"
      ],
      "text/plain": [
       "         модель         RMSE  время обучения  время предсказания\n",
       "0  RandomForest  2262.361494       52.722710            0.196404\n",
       "1      CatBoost  1808.114023      114.899865            0.301671\n",
       "2      LightGBM  1836.126091        2.776859            0.400172"
      ]
     },
     "execution_count": 42,
     "metadata": {},
     "output_type": "execute_result"
    }
   ],
   "source": [
    "df = pd.DataFrame({'модель': ['RandomForest', 'CatBoost', 'LightGBM'], \n",
    "                   'RMSE': [best_result_forest,best_result_catboost,best_result_light],\n",
    "                   'время обучения':[t2-t1, t5-t4, t8-t7],\n",
    "                   'время предсказания':[t3-t2, t6-t5, t9-t8]})\n",
    "df"
   ]
  },
  {
   "cell_type": "code",
   "execution_count": 43,
   "metadata": {},
   "outputs": [
    {
     "data": {
      "text/plain": [
       "1854.283414803912"
      ]
     },
     "execution_count": 43,
     "metadata": {},
     "output_type": "execute_result"
    }
   ],
   "source": [
    "pred_test_light = best_model_light.predict(features_test)\n",
    "rmse_test_light = mean_squared_error(target_test, pred_test_light)**0.5\n",
    "rmse_test_light"
   ]
  },
  {
   "cell_type": "markdown",
   "metadata": {},
   "source": [
    "## Вывод"
   ]
  },
  {
   "cell_type": "markdown",
   "metadata": {},
   "source": [
    "Построена модель, которая умеет определять рыночную стоимость автомобиля, опираясь на данные о технических характеристиках, комплектации и др. Определена модель, удовлетворяющая критериям заказчика. \n",
    "\n",
    "Лучшие результаты показала модель LightGBM с глубиной дерева 10 и количеством деревьев 50, значение RMSE равно 1836.126091."
   ]
  }
 ],
 "metadata": {
  "ExecuteTimeLog": [
   {
    "duration": 356,
    "start_time": "2022-10-30T09:57:12.155Z"
   },
   {
    "duration": 1091,
    "start_time": "2022-10-30T09:57:42.698Z"
   },
   {
    "duration": 730,
    "start_time": "2022-10-30T09:58:04.248Z"
   },
   {
    "duration": 731,
    "start_time": "2022-10-30T09:59:22.465Z"
   },
   {
    "duration": 113,
    "start_time": "2022-10-30T10:00:19.388Z"
   },
   {
    "duration": 122,
    "start_time": "2022-10-30T10:00:36.313Z"
   },
   {
    "duration": 113,
    "start_time": "2022-10-30T10:05:29.549Z"
   },
   {
    "duration": 3,
    "start_time": "2022-10-30T10:06:40.225Z"
   },
   {
    "duration": 12,
    "start_time": "2022-10-30T10:06:48.370Z"
   },
   {
    "duration": 431,
    "start_time": "2022-10-30T16:56:44.055Z"
   },
   {
    "duration": 1124,
    "start_time": "2022-10-30T16:56:45.130Z"
   },
   {
    "duration": 136,
    "start_time": "2022-10-30T16:56:46.790Z"
   },
   {
    "duration": 133,
    "start_time": "2022-10-30T16:56:50.188Z"
   },
   {
    "duration": 14,
    "start_time": "2022-10-30T16:56:51.555Z"
   },
   {
    "duration": 1169,
    "start_time": "2022-10-30T17:02:39.490Z"
   },
   {
    "duration": 609,
    "start_time": "2022-10-30T17:02:46.822Z"
   },
   {
    "duration": 501,
    "start_time": "2022-10-30T17:03:25.642Z"
   },
   {
    "duration": 454,
    "start_time": "2022-10-30T17:03:38.393Z"
   },
   {
    "duration": 604,
    "start_time": "2022-10-30T17:04:24.478Z"
   },
   {
    "duration": 588,
    "start_time": "2022-10-30T17:04:45.309Z"
   },
   {
    "duration": 35,
    "start_time": "2022-10-30T17:08:37.776Z"
   },
   {
    "duration": 105,
    "start_time": "2022-10-30T17:09:03.914Z"
   },
   {
    "duration": 3,
    "start_time": "2022-10-30T17:09:19.348Z"
   },
   {
    "duration": 829,
    "start_time": "2022-10-30T17:09:19.975Z"
   },
   {
    "duration": 141,
    "start_time": "2022-10-30T17:09:20.806Z"
   },
   {
    "duration": 131,
    "start_time": "2022-10-30T17:09:20.949Z"
   },
   {
    "duration": 14,
    "start_time": "2022-10-30T17:09:21.914Z"
   },
   {
    "duration": 470,
    "start_time": "2022-10-30T17:09:23.764Z"
   },
   {
    "duration": 37,
    "start_time": "2022-10-30T17:16:39.293Z"
   },
   {
    "duration": 167,
    "start_time": "2022-10-30T17:17:08.735Z"
   },
   {
    "duration": 61,
    "start_time": "2022-10-30T17:45:33.138Z"
   },
   {
    "duration": 19,
    "start_time": "2022-10-30T17:48:43.886Z"
   },
   {
    "duration": 3,
    "start_time": "2022-10-30T17:48:48.763Z"
   },
   {
    "duration": 853,
    "start_time": "2022-10-30T17:48:48.945Z"
   },
   {
    "duration": 139,
    "start_time": "2022-10-30T17:48:49.801Z"
   },
   {
    "duration": 14,
    "start_time": "2022-10-30T17:48:49.942Z"
   },
   {
    "duration": 475,
    "start_time": "2022-10-30T17:48:49.958Z"
   },
   {
    "duration": 35,
    "start_time": "2022-10-30T17:48:51.939Z"
   },
   {
    "duration": 18,
    "start_time": "2022-10-30T17:49:02.516Z"
   },
   {
    "duration": 14,
    "start_time": "2022-10-30T17:49:05.106Z"
   },
   {
    "duration": 2,
    "start_time": "2022-10-30T17:49:08.555Z"
   },
   {
    "duration": 820,
    "start_time": "2022-10-30T17:49:08.753Z"
   },
   {
    "duration": 144,
    "start_time": "2022-10-30T17:49:09.575Z"
   },
   {
    "duration": 14,
    "start_time": "2022-10-30T17:49:09.733Z"
   },
   {
    "duration": 530,
    "start_time": "2022-10-30T17:49:09.750Z"
   },
   {
    "duration": 32,
    "start_time": "2022-10-30T17:49:12.543Z"
   },
   {
    "duration": 19,
    "start_time": "2022-10-30T17:49:54.665Z"
   },
   {
    "duration": 3,
    "start_time": "2022-10-30T17:49:58.753Z"
   },
   {
    "duration": 806,
    "start_time": "2022-10-30T17:49:58.920Z"
   },
   {
    "duration": 176,
    "start_time": "2022-10-30T17:49:59.733Z"
   },
   {
    "duration": 23,
    "start_time": "2022-10-30T17:49:59.911Z"
   },
   {
    "duration": 480,
    "start_time": "2022-10-30T17:49:59.936Z"
   },
   {
    "duration": 30,
    "start_time": "2022-10-30T17:50:00.418Z"
   },
   {
    "duration": 85,
    "start_time": "2022-10-30T17:50:00.647Z"
   },
   {
    "duration": 34,
    "start_time": "2022-10-30T17:50:01.345Z"
   },
   {
    "duration": 59,
    "start_time": "2022-10-30T17:51:50.411Z"
   },
   {
    "duration": 9,
    "start_time": "2022-10-30T17:52:58.842Z"
   },
   {
    "duration": 35,
    "start_time": "2022-10-30T17:58:31.486Z"
   },
   {
    "duration": 57,
    "start_time": "2022-10-30T18:13:10.491Z"
   },
   {
    "duration": 81,
    "start_time": "2022-10-30T18:13:38.425Z"
   },
   {
    "duration": 35,
    "start_time": "2022-10-30T18:14:12.412Z"
   },
   {
    "duration": 53,
    "start_time": "2022-10-30T18:15:02.541Z"
   },
   {
    "duration": 33,
    "start_time": "2022-10-30T18:15:23.433Z"
   },
   {
    "duration": 67,
    "start_time": "2022-10-30T18:15:49.481Z"
   },
   {
    "duration": 33,
    "start_time": "2022-10-30T18:16:20.431Z"
   },
   {
    "duration": 83,
    "start_time": "2022-10-30T18:16:53.487Z"
   },
   {
    "duration": 3,
    "start_time": "2022-10-30T18:20:29.486Z"
   },
   {
    "duration": 839,
    "start_time": "2022-10-30T18:20:30.274Z"
   },
   {
    "duration": 134,
    "start_time": "2022-10-30T18:20:31.984Z"
   },
   {
    "duration": 16,
    "start_time": "2022-10-30T18:20:32.737Z"
   },
   {
    "duration": 404,
    "start_time": "2022-10-30T18:20:33.227Z"
   },
   {
    "duration": 24,
    "start_time": "2022-10-30T18:20:34.661Z"
   },
   {
    "duration": 89,
    "start_time": "2022-10-30T18:20:35.190Z"
   },
   {
    "duration": 37,
    "start_time": "2022-10-30T18:20:35.703Z"
   },
   {
    "duration": 69,
    "start_time": "2022-10-30T18:20:36.189Z"
   },
   {
    "duration": 39,
    "start_time": "2022-10-30T18:20:36.733Z"
   },
   {
    "duration": 86,
    "start_time": "2022-10-30T18:20:37.284Z"
   },
   {
    "duration": 37,
    "start_time": "2022-10-30T18:20:38.476Z"
   },
   {
    "duration": 52,
    "start_time": "2022-10-30T18:20:39.412Z"
   },
   {
    "duration": 47,
    "start_time": "2022-10-30T18:20:41.059Z"
   },
   {
    "duration": 54,
    "start_time": "2022-10-30T18:20:41.753Z"
   },
   {
    "duration": 87,
    "start_time": "2022-10-30T18:20:43.046Z"
   },
   {
    "duration": 51,
    "start_time": "2022-10-30T18:23:00.135Z"
   },
   {
    "duration": 53,
    "start_time": "2022-10-30T18:23:08.303Z"
   },
   {
    "duration": 3,
    "start_time": "2022-10-30T18:23:13.451Z"
   },
   {
    "duration": 856,
    "start_time": "2022-10-30T18:23:13.681Z"
   },
   {
    "duration": 132,
    "start_time": "2022-10-30T18:23:14.538Z"
   },
   {
    "duration": 14,
    "start_time": "2022-10-30T18:23:14.730Z"
   },
   {
    "duration": 437,
    "start_time": "2022-10-30T18:23:15.357Z"
   },
   {
    "duration": 26,
    "start_time": "2022-10-30T18:23:16.856Z"
   },
   {
    "duration": 98,
    "start_time": "2022-10-30T18:23:17.405Z"
   },
   {
    "duration": 34,
    "start_time": "2022-10-30T18:23:18.227Z"
   },
   {
    "duration": 63,
    "start_time": "2022-10-30T18:23:19.414Z"
   },
   {
    "duration": 72,
    "start_time": "2022-10-30T18:23:27.805Z"
   },
   {
    "duration": 46,
    "start_time": "2022-10-30T18:23:28.410Z"
   },
   {
    "duration": 81,
    "start_time": "2022-10-30T18:23:28.787Z"
   },
   {
    "duration": 34,
    "start_time": "2022-10-30T18:23:29.385Z"
   },
   {
    "duration": 52,
    "start_time": "2022-10-30T18:23:34.490Z"
   },
   {
    "duration": 34,
    "start_time": "2022-10-30T18:23:35.207Z"
   },
   {
    "duration": 49,
    "start_time": "2022-10-30T18:23:42.915Z"
   },
   {
    "duration": 32,
    "start_time": "2022-10-30T18:24:27.009Z"
   },
   {
    "duration": 3,
    "start_time": "2022-10-30T18:25:08.932Z"
   },
   {
    "duration": 829,
    "start_time": "2022-10-30T18:25:09.114Z"
   },
   {
    "duration": 132,
    "start_time": "2022-10-30T18:25:09.945Z"
   },
   {
    "duration": 13,
    "start_time": "2022-10-30T18:25:10.079Z"
   },
   {
    "duration": 428,
    "start_time": "2022-10-30T18:25:10.094Z"
   },
   {
    "duration": 27,
    "start_time": "2022-10-30T18:25:10.524Z"
   },
   {
    "duration": 84,
    "start_time": "2022-10-30T18:27:31.565Z"
   },
   {
    "duration": 51,
    "start_time": "2022-10-30T18:27:31.950Z"
   },
   {
    "duration": 52,
    "start_time": "2022-10-30T18:27:32.563Z"
   },
   {
    "duration": 34,
    "start_time": "2022-10-30T18:27:33.302Z"
   },
   {
    "duration": 53,
    "start_time": "2022-10-30T18:27:35.364Z"
   },
   {
    "duration": 38,
    "start_time": "2022-10-30T18:27:38.221Z"
   },
   {
    "duration": 54,
    "start_time": "2022-10-30T18:27:38.986Z"
   },
   {
    "duration": 35,
    "start_time": "2022-10-30T18:27:39.616Z"
   },
   {
    "duration": 68,
    "start_time": "2022-10-30T18:27:40.170Z"
   },
   {
    "duration": 84,
    "start_time": "2022-10-30T18:27:40.800Z"
   },
   {
    "duration": 36,
    "start_time": "2022-10-30T18:27:41.687Z"
   },
   {
    "duration": 50,
    "start_time": "2022-10-30T18:28:11.370Z"
   },
   {
    "duration": 98,
    "start_time": "2022-10-30T18:28:51.356Z"
   },
   {
    "duration": 12,
    "start_time": "2022-10-30T18:30:02.647Z"
   },
   {
    "duration": 12,
    "start_time": "2022-10-30T18:37:05.750Z"
   },
   {
    "duration": 860,
    "start_time": "2022-10-30T18:40:39.803Z"
   },
   {
    "duration": 21,
    "start_time": "2022-10-30T20:21:43.836Z"
   },
   {
    "duration": 307,
    "start_time": "2022-10-30T20:36:28.606Z"
   },
   {
    "duration": 256,
    "start_time": "2022-10-30T20:41:35.777Z"
   },
   {
    "duration": 745,
    "start_time": "2022-10-30T20:42:00.998Z"
   },
   {
    "duration": 235,
    "start_time": "2022-10-30T20:42:13.701Z"
   },
   {
    "duration": 333,
    "start_time": "2022-10-30T20:42:42.975Z"
   },
   {
    "duration": 12,
    "start_time": "2022-10-30T20:43:35.642Z"
   },
   {
    "duration": 248,
    "start_time": "2022-10-30T20:44:48.909Z"
   },
   {
    "duration": 293,
    "start_time": "2022-10-30T20:45:00.870Z"
   },
   {
    "duration": 253,
    "start_time": "2022-10-30T20:45:51.205Z"
   },
   {
    "duration": 261,
    "start_time": "2022-10-30T20:46:24.531Z"
   },
   {
    "duration": 383,
    "start_time": "2022-10-30T20:46:32.023Z"
   },
   {
    "duration": 268,
    "start_time": "2022-10-30T20:46:47.677Z"
   },
   {
    "duration": 3,
    "start_time": "2022-10-30T20:47:57.619Z"
   },
   {
    "duration": 306,
    "start_time": "2022-10-30T20:48:39.481Z"
   },
   {
    "duration": 279,
    "start_time": "2022-10-30T20:49:18.262Z"
   },
   {
    "duration": 280,
    "start_time": "2022-10-30T20:49:39.768Z"
   },
   {
    "duration": 275,
    "start_time": "2022-10-30T20:49:58.286Z"
   },
   {
    "duration": 12,
    "start_time": "2022-10-30T20:51:06.199Z"
   },
   {
    "duration": 159,
    "start_time": "2022-10-30T20:53:26.662Z"
   },
   {
    "duration": 3,
    "start_time": "2022-10-30T20:53:32.772Z"
   },
   {
    "duration": 811,
    "start_time": "2022-10-30T20:53:33.112Z"
   },
   {
    "duration": 134,
    "start_time": "2022-10-30T20:53:33.924Z"
   },
   {
    "duration": 15,
    "start_time": "2022-10-30T20:53:36.607Z"
   },
   {
    "duration": 409,
    "start_time": "2022-10-30T20:53:40.686Z"
   },
   {
    "duration": 25,
    "start_time": "2022-10-30T20:53:45.881Z"
   },
   {
    "duration": 177,
    "start_time": "2022-10-30T20:53:48.446Z"
   },
   {
    "duration": 367,
    "start_time": "2022-10-30T20:55:33.135Z"
   },
   {
    "duration": 96,
    "start_time": "2022-10-30T20:55:47.805Z"
   },
   {
    "duration": 76,
    "start_time": "2022-10-30T20:55:56.829Z"
   },
   {
    "duration": 30,
    "start_time": "2022-10-30T20:56:03.399Z"
   },
   {
    "duration": 48,
    "start_time": "2022-10-30T20:56:04.699Z"
   },
   {
    "duration": 30,
    "start_time": "2022-10-30T20:56:04.964Z"
   },
   {
    "duration": 47,
    "start_time": "2022-10-30T20:56:05.566Z"
   },
   {
    "duration": 48,
    "start_time": "2022-10-30T20:56:06.158Z"
   },
   {
    "duration": 47,
    "start_time": "2022-10-30T20:56:06.703Z"
   },
   {
    "duration": 31,
    "start_time": "2022-10-30T20:56:07.468Z"
   },
   {
    "duration": 47,
    "start_time": "2022-10-30T20:56:07.894Z"
   },
   {
    "duration": 30,
    "start_time": "2022-10-30T20:56:08.106Z"
   },
   {
    "duration": 57,
    "start_time": "2022-10-30T20:56:08.775Z"
   },
   {
    "duration": 11,
    "start_time": "2022-10-30T20:56:10.315Z"
   },
   {
    "duration": 433,
    "start_time": "2022-10-30T20:56:14.215Z"
   },
   {
    "duration": 286,
    "start_time": "2022-10-30T20:56:17.391Z"
   },
   {
    "duration": 287,
    "start_time": "2022-10-30T20:56:18.709Z"
   },
   {
    "duration": 288,
    "start_time": "2022-10-30T20:56:21.077Z"
   },
   {
    "duration": 13,
    "start_time": "2022-10-30T20:56:27.933Z"
   },
   {
    "duration": 719,
    "start_time": "2022-10-30T20:56:28.843Z"
   },
   {
    "duration": 16,
    "start_time": "2022-10-30T21:01:31.875Z"
   },
   {
    "duration": 85,
    "start_time": "2022-10-30T21:01:37.191Z"
   },
   {
    "duration": 284,
    "start_time": "2022-10-30T21:01:48.383Z"
   },
   {
    "duration": 288,
    "start_time": "2022-10-30T21:02:06.007Z"
   },
   {
    "duration": 266,
    "start_time": "2022-10-30T21:02:18.612Z"
   },
   {
    "duration": 32,
    "start_time": "2022-10-30T21:04:38.432Z"
   },
   {
    "duration": 45,
    "start_time": "2022-10-30T21:04:39.005Z"
   },
   {
    "duration": 11,
    "start_time": "2022-10-30T21:04:40.039Z"
   },
   {
    "duration": 275,
    "start_time": "2022-10-30T21:04:41.406Z"
   },
   {
    "duration": 486,
    "start_time": "2022-10-30T21:04:50.948Z"
   },
   {
    "duration": 9,
    "start_time": "2022-10-30T21:08:01.910Z"
   },
   {
    "duration": 87,
    "start_time": "2022-10-30T21:08:08.109Z"
   },
   {
    "duration": 274,
    "start_time": "2022-10-30T21:08:22.444Z"
   },
   {
    "duration": 7,
    "start_time": "2022-10-30T21:09:31.165Z"
   },
   {
    "duration": 271,
    "start_time": "2022-10-30T21:09:39.782Z"
   },
   {
    "duration": 1485,
    "start_time": "2022-10-31T09:11:41.893Z"
   },
   {
    "duration": 3259,
    "start_time": "2022-10-31T09:11:45.476Z"
   },
   {
    "duration": 147,
    "start_time": "2022-10-31T09:11:49.468Z"
   },
   {
    "duration": 17,
    "start_time": "2022-10-31T09:11:50.747Z"
   },
   {
    "duration": 502,
    "start_time": "2022-10-31T09:11:51.661Z"
   },
   {
    "duration": 37,
    "start_time": "2022-10-31T09:11:55.229Z"
   },
   {
    "duration": 212,
    "start_time": "2022-10-31T09:11:56.148Z"
   },
   {
    "duration": 462,
    "start_time": "2022-10-31T09:12:03.301Z"
   },
   {
    "duration": 86,
    "start_time": "2022-10-31T09:12:14.708Z"
   },
   {
    "duration": 96,
    "start_time": "2022-10-31T09:12:16.833Z"
   },
   {
    "duration": 33,
    "start_time": "2022-10-31T09:12:18.657Z"
   },
   {
    "duration": 52,
    "start_time": "2022-10-31T09:12:19.313Z"
   },
   {
    "duration": 33,
    "start_time": "2022-10-31T09:12:19.877Z"
   },
   {
    "duration": 52,
    "start_time": "2022-10-31T09:12:20.415Z"
   },
   {
    "duration": 36,
    "start_time": "2022-10-31T09:12:20.929Z"
   },
   {
    "duration": 57,
    "start_time": "2022-10-31T09:12:21.374Z"
   },
   {
    "duration": 42,
    "start_time": "2022-10-31T09:12:21.838Z"
   },
   {
    "duration": 52,
    "start_time": "2022-10-31T09:12:22.356Z"
   },
   {
    "duration": 32,
    "start_time": "2022-10-31T09:12:22.967Z"
   },
   {
    "duration": 53,
    "start_time": "2022-10-31T09:12:23.565Z"
   },
   {
    "duration": 11,
    "start_time": "2022-10-31T09:12:24.962Z"
   },
   {
    "duration": 326,
    "start_time": "2022-10-31T09:12:25.813Z"
   },
   {
    "duration": 324,
    "start_time": "2022-10-31T09:12:39.446Z"
   },
   {
    "duration": 334,
    "start_time": "2022-10-31T09:12:40.172Z"
   },
   {
    "duration": 77,
    "start_time": "2022-10-31T09:12:41.007Z"
   },
   {
    "duration": 306,
    "start_time": "2022-10-31T09:12:42.172Z"
   },
   {
    "duration": 7,
    "start_time": "2022-10-31T09:12:44.224Z"
   },
   {
    "duration": 16,
    "start_time": "2022-10-31T09:12:51.362Z"
   },
   {
    "duration": 13,
    "start_time": "2022-10-31T09:12:57.914Z"
   },
   {
    "duration": 1091,
    "start_time": "2022-10-31T09:13:00.520Z"
   },
   {
    "duration": 214,
    "start_time": "2022-10-31T09:16:06.090Z"
   },
   {
    "duration": 338,
    "start_time": "2022-10-31T09:21:46.949Z"
   },
   {
    "duration": 169,
    "start_time": "2022-10-31T09:21:50.667Z"
   },
   {
    "duration": 3,
    "start_time": "2022-10-31T09:22:25.866Z"
   },
   {
    "duration": 3085,
    "start_time": "2022-10-31T09:22:26.655Z"
   },
   {
    "duration": 140,
    "start_time": "2022-10-31T09:22:29.742Z"
   },
   {
    "duration": 16,
    "start_time": "2022-10-31T09:22:29.884Z"
   },
   {
    "duration": 514,
    "start_time": "2022-10-31T09:22:29.902Z"
   },
   {
    "duration": 38,
    "start_time": "2022-10-31T09:22:30.793Z"
   },
   {
    "duration": 212,
    "start_time": "2022-10-31T09:22:31.195Z"
   },
   {
    "duration": 498,
    "start_time": "2022-10-31T09:22:31.683Z"
   },
   {
    "duration": 87,
    "start_time": "2022-10-31T09:22:32.222Z"
   },
   {
    "duration": 82,
    "start_time": "2022-10-31T09:22:33.488Z"
   },
   {
    "duration": 34,
    "start_time": "2022-10-31T09:22:33.960Z"
   },
   {
    "duration": 49,
    "start_time": "2022-10-31T09:22:34.572Z"
   },
   {
    "duration": 42,
    "start_time": "2022-10-31T09:22:35.310Z"
   },
   {
    "duration": 51,
    "start_time": "2022-10-31T09:22:35.965Z"
   },
   {
    "duration": 35,
    "start_time": "2022-10-31T09:22:37.552Z"
   },
   {
    "duration": 50,
    "start_time": "2022-10-31T09:22:38.101Z"
   },
   {
    "duration": 33,
    "start_time": "2022-10-31T09:22:38.612Z"
   },
   {
    "duration": 50,
    "start_time": "2022-10-31T09:22:39.143Z"
   },
   {
    "duration": 1318,
    "start_time": "2022-10-31T09:22:39.557Z"
   },
   {
    "duration": 0,
    "start_time": "2022-10-31T09:22:40.877Z"
   },
   {
    "duration": 1396,
    "start_time": "2022-10-31T09:24:22.772Z"
   },
   {
    "duration": 912,
    "start_time": "2022-10-31T09:24:24.170Z"
   },
   {
    "duration": 148,
    "start_time": "2022-10-31T09:24:26.941Z"
   },
   {
    "duration": 15,
    "start_time": "2022-10-31T09:24:27.871Z"
   },
   {
    "duration": 457,
    "start_time": "2022-10-31T09:24:28.757Z"
   },
   {
    "duration": 51,
    "start_time": "2022-10-31T09:24:31.100Z"
   },
   {
    "duration": 244,
    "start_time": "2022-10-31T09:24:31.951Z"
   },
   {
    "duration": 474,
    "start_time": "2022-10-31T09:24:32.490Z"
   },
   {
    "duration": 86,
    "start_time": "2022-10-31T09:24:34.676Z"
   },
   {
    "duration": 83,
    "start_time": "2022-10-31T09:24:37.253Z"
   },
   {
    "duration": 33,
    "start_time": "2022-10-31T09:24:37.899Z"
   },
   {
    "duration": 51,
    "start_time": "2022-10-31T09:24:38.436Z"
   },
   {
    "duration": 32,
    "start_time": "2022-10-31T09:24:38.972Z"
   },
   {
    "duration": 51,
    "start_time": "2022-10-31T09:24:39.564Z"
   },
   {
    "duration": 35,
    "start_time": "2022-10-31T09:24:40.156Z"
   },
   {
    "duration": 51,
    "start_time": "2022-10-31T09:24:40.742Z"
   },
   {
    "duration": 35,
    "start_time": "2022-10-31T09:24:42.581Z"
   },
   {
    "duration": 78,
    "start_time": "2022-10-31T09:24:43.391Z"
   },
   {
    "duration": 1328,
    "start_time": "2022-10-31T09:24:43.973Z"
   },
   {
    "duration": 0,
    "start_time": "2022-10-31T09:24:45.304Z"
   },
   {
    "duration": 38,
    "start_time": "2022-10-31T09:25:51.910Z"
   },
   {
    "duration": 65,
    "start_time": "2022-10-31T09:26:03.109Z"
   },
   {
    "duration": 12,
    "start_time": "2022-10-31T09:26:05.463Z"
   },
   {
    "duration": 295,
    "start_time": "2022-10-31T09:26:06.701Z"
   },
   {
    "duration": 318,
    "start_time": "2022-10-31T09:26:07.394Z"
   },
   {
    "duration": 70,
    "start_time": "2022-10-31T09:26:08.133Z"
   },
   {
    "duration": 402,
    "start_time": "2022-10-31T09:26:08.916Z"
   },
   {
    "duration": 8,
    "start_time": "2022-10-31T09:26:09.874Z"
   },
   {
    "duration": 14,
    "start_time": "2022-10-31T09:26:11.696Z"
   },
   {
    "duration": 1027,
    "start_time": "2022-10-31T09:26:12.241Z"
   },
   {
    "duration": 213,
    "start_time": "2022-10-31T09:26:19.640Z"
   },
   {
    "duration": 42,
    "start_time": "2022-10-31T09:26:20.619Z"
   },
   {
    "duration": 2,
    "start_time": "2022-10-31T09:28:58.261Z"
   },
   {
    "duration": 22,
    "start_time": "2022-10-31T09:28:59.878Z"
   },
   {
    "duration": 43,
    "start_time": "2022-10-31T09:29:00.960Z"
   },
   {
    "duration": 3,
    "start_time": "2022-10-31T09:29:10.974Z"
   },
   {
    "duration": 943,
    "start_time": "2022-10-31T09:29:11.162Z"
   },
   {
    "duration": 144,
    "start_time": "2022-10-31T09:29:12.107Z"
   },
   {
    "duration": 29,
    "start_time": "2022-10-31T09:29:12.254Z"
   },
   {
    "duration": 483,
    "start_time": "2022-10-31T09:29:12.285Z"
   },
   {
    "duration": 29,
    "start_time": "2022-10-31T09:29:12.770Z"
   },
   {
    "duration": 234,
    "start_time": "2022-10-31T09:29:12.801Z"
   },
   {
    "duration": 451,
    "start_time": "2022-10-31T09:29:13.038Z"
   },
   {
    "duration": 90,
    "start_time": "2022-10-31T09:29:13.491Z"
   },
   {
    "duration": 95,
    "start_time": "2022-10-31T09:29:13.583Z"
   },
   {
    "duration": 33,
    "start_time": "2022-10-31T09:29:13.714Z"
   },
   {
    "duration": 51,
    "start_time": "2022-10-31T09:29:13.901Z"
   },
   {
    "duration": 33,
    "start_time": "2022-10-31T09:29:14.072Z"
   },
   {
    "duration": 55,
    "start_time": "2022-10-31T09:29:14.279Z"
   },
   {
    "duration": 36,
    "start_time": "2022-10-31T09:29:14.470Z"
   },
   {
    "duration": 52,
    "start_time": "2022-10-31T09:29:14.644Z"
   },
   {
    "duration": 39,
    "start_time": "2022-10-31T09:29:14.852Z"
   },
   {
    "duration": 51,
    "start_time": "2022-10-31T09:29:15.025Z"
   },
   {
    "duration": 33,
    "start_time": "2022-10-31T09:29:15.214Z"
   },
   {
    "duration": 54,
    "start_time": "2022-10-31T09:29:15.412Z"
   },
   {
    "duration": 11,
    "start_time": "2022-10-31T09:29:15.789Z"
   },
   {
    "duration": 293,
    "start_time": "2022-10-31T09:29:15.974Z"
   },
   {
    "duration": 305,
    "start_time": "2022-10-31T09:29:16.270Z"
   },
   {
    "duration": 85,
    "start_time": "2022-10-31T09:29:16.577Z"
   },
   {
    "duration": 292,
    "start_time": "2022-10-31T09:29:16.711Z"
   },
   {
    "duration": 6,
    "start_time": "2022-10-31T09:29:17.005Z"
   },
   {
    "duration": 13,
    "start_time": "2022-10-31T09:29:17.670Z"
   },
   {
    "duration": 3,
    "start_time": "2022-10-31T09:29:18.217Z"
   },
   {
    "duration": 17,
    "start_time": "2022-10-31T09:29:19.582Z"
   },
   {
    "duration": 48,
    "start_time": "2022-10-31T09:29:20.211Z"
   },
   {
    "duration": 1021,
    "start_time": "2022-10-31T09:29:30.726Z"
   },
   {
    "duration": 216,
    "start_time": "2022-10-31T09:29:41.682Z"
   },
   {
    "duration": 3,
    "start_time": "2022-10-31T09:37:05.682Z"
   },
   {
    "duration": 1624,
    "start_time": "2022-11-01T08:19:44.098Z"
   },
   {
    "duration": 1069,
    "start_time": "2022-11-01T08:19:47.604Z"
   },
   {
    "duration": 128,
    "start_time": "2022-11-01T08:19:48.676Z"
   },
   {
    "duration": 13,
    "start_time": "2022-11-01T08:19:49.552Z"
   },
   {
    "duration": 522,
    "start_time": "2022-11-01T08:19:53.301Z"
   },
   {
    "duration": 32,
    "start_time": "2022-11-01T08:19:56.799Z"
   },
   {
    "duration": 184,
    "start_time": "2022-11-01T08:20:02.132Z"
   },
   {
    "duration": 388,
    "start_time": "2022-11-01T08:20:03.188Z"
   },
   {
    "duration": 70,
    "start_time": "2022-11-01T08:20:04.682Z"
   },
   {
    "duration": 66,
    "start_time": "2022-11-01T08:20:05.953Z"
   },
   {
    "duration": 34,
    "start_time": "2022-11-01T08:20:06.530Z"
   },
   {
    "duration": 46,
    "start_time": "2022-11-01T08:20:07.145Z"
   },
   {
    "duration": 27,
    "start_time": "2022-11-01T08:20:07.621Z"
   },
   {
    "duration": 46,
    "start_time": "2022-11-01T08:20:08.108Z"
   },
   {
    "duration": 31,
    "start_time": "2022-11-01T08:20:09.625Z"
   },
   {
    "duration": 47,
    "start_time": "2022-11-01T08:20:10.205Z"
   },
   {
    "duration": 30,
    "start_time": "2022-11-01T08:20:10.610Z"
   },
   {
    "duration": 44,
    "start_time": "2022-11-01T08:20:11.136Z"
   },
   {
    "duration": 30,
    "start_time": "2022-11-01T08:20:12.198Z"
   },
   {
    "duration": 44,
    "start_time": "2022-11-01T08:20:13.688Z"
   },
   {
    "duration": 10,
    "start_time": "2022-11-01T08:20:18.008Z"
   },
   {
    "duration": 252,
    "start_time": "2022-11-01T08:20:19.025Z"
   },
   {
    "duration": 257,
    "start_time": "2022-11-01T08:20:19.757Z"
   },
   {
    "duration": 70,
    "start_time": "2022-11-01T08:20:20.535Z"
   },
   {
    "duration": 321,
    "start_time": "2022-11-01T08:20:21.162Z"
   },
   {
    "duration": 6,
    "start_time": "2022-11-01T08:20:24.005Z"
   },
   {
    "duration": 12,
    "start_time": "2022-11-01T08:20:26.493Z"
   },
   {
    "duration": 502,
    "start_time": "2022-11-01T08:20:27.237Z"
   },
   {
    "duration": 147,
    "start_time": "2022-11-01T08:20:34.192Z"
   },
   {
    "duration": 152,
    "start_time": "2022-11-01T08:20:36.813Z"
   },
   {
    "duration": 323,
    "start_time": "2022-11-01T08:22:53.783Z"
   },
   {
    "duration": 253,
    "start_time": "2022-11-01T08:31:05.598Z"
   },
   {
    "duration": 5,
    "start_time": "2022-11-01T08:31:06.616Z"
   },
   {
    "duration": 3,
    "start_time": "2022-11-01T08:31:08.316Z"
   },
   {
    "duration": 2,
    "start_time": "2022-11-01T08:31:10.428Z"
   },
   {
    "duration": 86,
    "start_time": "2022-11-01T08:31:13.968Z"
   },
   {
    "duration": 20,
    "start_time": "2022-11-01T08:31:22.610Z"
   },
   {
    "duration": 89,
    "start_time": "2022-11-01T08:31:24.785Z"
   },
   {
    "duration": 3,
    "start_time": "2022-11-01T08:31:29.550Z"
   },
   {
    "duration": 72,
    "start_time": "2022-11-01T08:37:05.470Z"
   },
   {
    "duration": 148,
    "start_time": "2022-11-01T08:39:51.349Z"
   },
   {
    "duration": 22,
    "start_time": "2022-11-01T08:39:58.545Z"
   },
   {
    "duration": 7,
    "start_time": "2022-11-01T08:40:07.797Z"
   },
   {
    "duration": 26,
    "start_time": "2022-11-01T08:40:08.118Z"
   },
   {
    "duration": 2,
    "start_time": "2022-11-01T08:40:08.479Z"
   },
   {
    "duration": 2,
    "start_time": "2022-11-01T08:40:08.965Z"
   },
   {
    "duration": 9,
    "start_time": "2022-11-01T08:40:11.203Z"
   },
   {
    "duration": 44,
    "start_time": "2022-11-01T08:40:12.423Z"
   },
   {
    "duration": 25,
    "start_time": "2022-11-01T08:51:22.758Z"
   },
   {
    "duration": 29,
    "start_time": "2022-11-01T08:51:54.338Z"
   },
   {
    "duration": 3,
    "start_time": "2022-11-01T08:56:42.204Z"
   },
   {
    "duration": 1678,
    "start_time": "2022-11-01T13:29:52.108Z"
   },
   {
    "duration": 3396,
    "start_time": "2022-11-01T13:29:55.247Z"
   },
   {
    "duration": 98,
    "start_time": "2022-11-01T13:29:58.645Z"
   },
   {
    "duration": 12,
    "start_time": "2022-11-01T13:29:58.744Z"
   },
   {
    "duration": 439,
    "start_time": "2022-11-01T13:29:58.758Z"
   },
   {
    "duration": 31,
    "start_time": "2022-11-01T13:29:59.199Z"
   },
   {
    "duration": 170,
    "start_time": "2022-11-01T13:29:59.232Z"
   },
   {
    "duration": 353,
    "start_time": "2022-11-01T13:29:59.404Z"
   },
   {
    "duration": 70,
    "start_time": "2022-11-01T13:29:59.759Z"
   },
   {
    "duration": 78,
    "start_time": "2022-11-01T13:29:59.831Z"
   },
   {
    "duration": 25,
    "start_time": "2022-11-01T13:29:59.911Z"
   },
   {
    "duration": 41,
    "start_time": "2022-11-01T13:29:59.938Z"
   },
   {
    "duration": 43,
    "start_time": "2022-11-01T13:29:59.980Z"
   },
   {
    "duration": 44,
    "start_time": "2022-11-01T13:30:00.025Z"
   },
   {
    "duration": 37,
    "start_time": "2022-11-01T13:30:00.070Z"
   },
   {
    "duration": 43,
    "start_time": "2022-11-01T13:30:00.109Z"
   },
   {
    "duration": 27,
    "start_time": "2022-11-01T13:30:00.153Z"
   },
   {
    "duration": 39,
    "start_time": "2022-11-01T13:30:00.318Z"
   },
   {
    "duration": 26,
    "start_time": "2022-11-01T13:30:00.526Z"
   },
   {
    "duration": 38,
    "start_time": "2022-11-01T13:30:00.715Z"
   },
   {
    "duration": 10,
    "start_time": "2022-11-01T13:30:01.473Z"
   },
   {
    "duration": 265,
    "start_time": "2022-11-01T13:30:01.727Z"
   },
   {
    "duration": 389,
    "start_time": "2022-11-01T13:30:01.994Z"
   },
   {
    "duration": 70,
    "start_time": "2022-11-01T13:30:02.386Z"
   },
   {
    "duration": 273,
    "start_time": "2022-11-01T13:30:02.457Z"
   },
   {
    "duration": 6,
    "start_time": "2022-11-01T13:30:02.733Z"
   },
   {
    "duration": 133,
    "start_time": "2022-11-01T13:30:03.491Z"
   },
   {
    "duration": 24,
    "start_time": "2022-11-01T13:30:03.713Z"
   },
   {
    "duration": 2,
    "start_time": "2022-11-01T13:30:03.920Z"
   },
   {
    "duration": 2,
    "start_time": "2022-11-01T13:30:04.203Z"
   },
   {
    "duration": 6,
    "start_time": "2022-11-01T13:30:06.449Z"
   },
   {
    "duration": 55,
    "start_time": "2022-11-01T13:30:06.880Z"
   },
   {
    "duration": 3,
    "start_time": "2022-11-01T13:30:09.088Z"
   },
   {
    "duration": 1273,
    "start_time": "2022-11-01T13:44:40.397Z"
   },
   {
    "duration": 27,
    "start_time": "2022-11-01T13:46:07.475Z"
   },
   {
    "duration": 2,
    "start_time": "2022-11-01T13:46:08.224Z"
   },
   {
    "duration": 602,
    "start_time": "2022-11-01T13:46:09.497Z"
   },
   {
    "duration": 208,
    "start_time": "2022-11-01T13:46:31.123Z"
   },
   {
    "duration": 390,
    "start_time": "2022-11-01T13:46:33.795Z"
   },
   {
    "duration": 4,
    "start_time": "2022-11-01T13:46:37.494Z"
   },
   {
    "duration": 17,
    "start_time": "2022-11-01T13:46:40.846Z"
   },
   {
    "duration": 1611,
    "start_time": "2022-11-01T13:47:19.687Z"
   },
   {
    "duration": 7,
    "start_time": "2022-11-01T13:47:49.394Z"
   },
   {
    "duration": 56,
    "start_time": "2022-11-01T13:47:50.899Z"
   },
   {
    "duration": 4,
    "start_time": "2022-11-01T13:47:55.025Z"
   },
   {
    "duration": 7,
    "start_time": "2022-11-01T13:48:06.404Z"
   },
   {
    "duration": 21,
    "start_time": "2022-11-01T13:48:07.170Z"
   },
   {
    "duration": 3,
    "start_time": "2022-11-01T13:48:08.955Z"
   },
   {
    "duration": 2,
    "start_time": "2022-11-01T13:48:09.489Z"
   },
   {
    "duration": 6,
    "start_time": "2022-11-01T13:48:11.818Z"
   },
   {
    "duration": 54,
    "start_time": "2022-11-01T13:48:12.127Z"
   },
   {
    "duration": 3,
    "start_time": "2022-11-01T13:48:23.378Z"
   },
   {
    "duration": 1125,
    "start_time": "2022-11-01T13:48:24.188Z"
   },
   {
    "duration": 943,
    "start_time": "2022-11-01T13:49:21.771Z"
   },
   {
    "duration": 44,
    "start_time": "2022-11-01T13:49:50.266Z"
   },
   {
    "duration": 1448,
    "start_time": "2022-11-01T13:49:59.723Z"
   },
   {
    "duration": 3025,
    "start_time": "2022-11-01T13:50:01.173Z"
   },
   {
    "duration": 107,
    "start_time": "2022-11-01T13:50:04.200Z"
   },
   {
    "duration": 18,
    "start_time": "2022-11-01T13:50:04.309Z"
   },
   {
    "duration": 420,
    "start_time": "2022-11-01T13:50:04.329Z"
   },
   {
    "duration": 30,
    "start_time": "2022-11-01T13:50:08.127Z"
   },
   {
    "duration": 157,
    "start_time": "2022-11-01T13:50:08.543Z"
   },
   {
    "duration": 351,
    "start_time": "2022-11-01T13:50:08.973Z"
   },
   {
    "duration": 62,
    "start_time": "2022-11-01T13:50:09.376Z"
   },
   {
    "duration": 58,
    "start_time": "2022-11-01T13:50:09.759Z"
   },
   {
    "duration": 26,
    "start_time": "2022-11-01T13:50:09.963Z"
   },
   {
    "duration": 38,
    "start_time": "2022-11-01T13:50:10.172Z"
   },
   {
    "duration": 25,
    "start_time": "2022-11-01T13:50:10.364Z"
   },
   {
    "duration": 37,
    "start_time": "2022-11-01T13:50:10.562Z"
   },
   {
    "duration": 26,
    "start_time": "2022-11-01T13:50:10.741Z"
   },
   {
    "duration": 37,
    "start_time": "2022-11-01T13:50:10.936Z"
   },
   {
    "duration": 25,
    "start_time": "2022-11-01T13:50:11.108Z"
   },
   {
    "duration": 37,
    "start_time": "2022-11-01T13:50:11.276Z"
   },
   {
    "duration": 25,
    "start_time": "2022-11-01T13:50:11.480Z"
   },
   {
    "duration": 39,
    "start_time": "2022-11-01T13:50:11.684Z"
   },
   {
    "duration": 10,
    "start_time": "2022-11-01T13:50:12.448Z"
   },
   {
    "duration": 258,
    "start_time": "2022-11-01T13:50:12.618Z"
   },
   {
    "duration": 239,
    "start_time": "2022-11-01T13:50:12.994Z"
   },
   {
    "duration": 58,
    "start_time": "2022-11-01T13:50:13.235Z"
   },
   {
    "duration": 333,
    "start_time": "2022-11-01T13:50:13.394Z"
   },
   {
    "duration": 6,
    "start_time": "2022-11-01T13:50:13.728Z"
   },
   {
    "duration": 139,
    "start_time": "2022-11-01T13:50:14.229Z"
   },
   {
    "duration": 22,
    "start_time": "2022-11-01T13:50:14.429Z"
   },
   {
    "duration": 2,
    "start_time": "2022-11-01T13:50:14.659Z"
   },
   {
    "duration": 2,
    "start_time": "2022-11-01T13:50:15.149Z"
   },
   {
    "duration": 6,
    "start_time": "2022-11-01T13:50:16.325Z"
   },
   {
    "duration": 57,
    "start_time": "2022-11-01T13:50:16.509Z"
   },
   {
    "duration": 3,
    "start_time": "2022-11-01T13:50:18.145Z"
   },
   {
    "duration": 1030,
    "start_time": "2022-11-01T13:50:18.978Z"
   },
   {
    "duration": 3,
    "start_time": "2022-11-01T14:00:19.675Z"
   },
   {
    "duration": 1945,
    "start_time": "2022-11-01T14:01:39.047Z"
   },
   {
    "duration": 1361,
    "start_time": "2022-11-01T14:02:09.232Z"
   },
   {
    "duration": 784,
    "start_time": "2022-11-01T14:02:10.595Z"
   },
   {
    "duration": 103,
    "start_time": "2022-11-01T14:02:11.381Z"
   },
   {
    "duration": 13,
    "start_time": "2022-11-01T14:02:12.681Z"
   },
   {
    "duration": 430,
    "start_time": "2022-11-01T14:02:13.332Z"
   },
   {
    "duration": 30,
    "start_time": "2022-11-01T14:02:13.866Z"
   },
   {
    "duration": 204,
    "start_time": "2022-11-01T14:02:14.237Z"
   },
   {
    "duration": 397,
    "start_time": "2022-11-01T14:02:14.443Z"
   },
   {
    "duration": 83,
    "start_time": "2022-11-01T14:02:14.841Z"
   },
   {
    "duration": 59,
    "start_time": "2022-11-01T14:02:15.136Z"
   },
   {
    "duration": 26,
    "start_time": "2022-11-01T14:02:15.309Z"
   },
   {
    "duration": 38,
    "start_time": "2022-11-01T14:02:15.484Z"
   },
   {
    "duration": 25,
    "start_time": "2022-11-01T14:02:15.671Z"
   },
   {
    "duration": 39,
    "start_time": "2022-11-01T14:02:15.844Z"
   },
   {
    "duration": 27,
    "start_time": "2022-11-01T14:02:16.044Z"
   },
   {
    "duration": 57,
    "start_time": "2022-11-01T14:02:16.234Z"
   },
   {
    "duration": 26,
    "start_time": "2022-11-01T14:02:16.440Z"
   },
   {
    "duration": 41,
    "start_time": "2022-11-01T14:02:16.592Z"
   },
   {
    "duration": 25,
    "start_time": "2022-11-01T14:02:16.823Z"
   },
   {
    "duration": 39,
    "start_time": "2022-11-01T14:02:16.970Z"
   },
   {
    "duration": 11,
    "start_time": "2022-11-01T14:02:17.501Z"
   },
   {
    "duration": 263,
    "start_time": "2022-11-01T14:02:17.683Z"
   },
   {
    "duration": 276,
    "start_time": "2022-11-01T14:02:17.948Z"
   },
   {
    "duration": 64,
    "start_time": "2022-11-01T14:02:18.226Z"
   },
   {
    "duration": 345,
    "start_time": "2022-11-01T14:02:18.292Z"
   },
   {
    "duration": 6,
    "start_time": "2022-11-01T14:02:18.639Z"
   },
   {
    "duration": 139,
    "start_time": "2022-11-01T14:02:19.049Z"
   },
   {
    "duration": 22,
    "start_time": "2022-11-01T14:02:19.213Z"
   },
   {
    "duration": 2,
    "start_time": "2022-11-01T14:02:19.404Z"
   },
   {
    "duration": 2,
    "start_time": "2022-11-01T14:02:19.604Z"
   },
   {
    "duration": 8,
    "start_time": "2022-11-01T14:02:20.937Z"
   },
   {
    "duration": 61,
    "start_time": "2022-11-01T14:02:21.323Z"
   },
   {
    "duration": 3,
    "start_time": "2022-11-01T14:02:23.115Z"
   },
   {
    "duration": 1462,
    "start_time": "2022-11-01T14:02:24.255Z"
   },
   {
    "duration": 1397,
    "start_time": "2022-11-01T14:03:30.096Z"
   },
   {
    "duration": 1475,
    "start_time": "2022-11-01T14:03:42.592Z"
   },
   {
    "duration": 1449,
    "start_time": "2022-11-01T14:04:51.364Z"
   },
   {
    "duration": 2111,
    "start_time": "2022-11-01T14:05:16.289Z"
   },
   {
    "duration": 1476,
    "start_time": "2022-11-01T14:05:40.646Z"
   },
   {
    "duration": 1403,
    "start_time": "2022-11-01T14:05:52.772Z"
   },
   {
    "duration": 1420,
    "start_time": "2022-11-01T14:06:09.811Z"
   },
   {
    "duration": 2465,
    "start_time": "2022-11-01T14:06:33.259Z"
   },
   {
    "duration": 2786,
    "start_time": "2022-11-01T15:35:09.766Z"
   },
   {
    "duration": 3286,
    "start_time": "2022-11-01T15:35:12.554Z"
   },
   {
    "duration": 119,
    "start_time": "2022-11-01T15:35:15.842Z"
   },
   {
    "duration": 16,
    "start_time": "2022-11-01T15:35:15.963Z"
   },
   {
    "duration": 556,
    "start_time": "2022-11-01T15:35:27.549Z"
   },
   {
    "duration": 34,
    "start_time": "2022-11-01T15:35:28.648Z"
   },
   {
    "duration": 189,
    "start_time": "2022-11-01T15:35:29.044Z"
   },
   {
    "duration": 438,
    "start_time": "2022-11-01T15:35:29.238Z"
   },
   {
    "duration": 80,
    "start_time": "2022-11-01T15:35:29.678Z"
   },
   {
    "duration": 64,
    "start_time": "2022-11-01T15:35:29.818Z"
   },
   {
    "duration": 33,
    "start_time": "2022-11-01T15:35:29.985Z"
   },
   {
    "duration": 49,
    "start_time": "2022-11-01T15:35:30.386Z"
   },
   {
    "duration": 29,
    "start_time": "2022-11-01T15:35:30.578Z"
   },
   {
    "duration": 47,
    "start_time": "2022-11-01T15:35:30.750Z"
   },
   {
    "duration": 32,
    "start_time": "2022-11-01T15:35:30.925Z"
   },
   {
    "duration": 51,
    "start_time": "2022-11-01T15:35:31.115Z"
   },
   {
    "duration": 34,
    "start_time": "2022-11-01T15:35:31.288Z"
   },
   {
    "duration": 44,
    "start_time": "2022-11-01T15:35:31.615Z"
   },
   {
    "duration": 33,
    "start_time": "2022-11-01T15:35:31.813Z"
   },
   {
    "duration": 62,
    "start_time": "2022-11-01T15:35:31.970Z"
   },
   {
    "duration": 12,
    "start_time": "2022-11-01T15:35:32.509Z"
   },
   {
    "duration": 329,
    "start_time": "2022-11-01T15:35:32.676Z"
   },
   {
    "duration": 340,
    "start_time": "2022-11-01T15:35:33.008Z"
   },
   {
    "duration": 82,
    "start_time": "2022-11-01T15:35:33.351Z"
   },
   {
    "duration": 421,
    "start_time": "2022-11-01T15:35:33.442Z"
   },
   {
    "duration": 7,
    "start_time": "2022-11-01T15:35:33.865Z"
   },
   {
    "duration": 156,
    "start_time": "2022-11-01T15:35:37.339Z"
   },
   {
    "duration": 25,
    "start_time": "2022-11-01T15:35:37.542Z"
   },
   {
    "duration": 3,
    "start_time": "2022-11-01T15:35:37.730Z"
   },
   {
    "duration": 3,
    "start_time": "2022-11-01T15:35:39.293Z"
   },
   {
    "duration": 8,
    "start_time": "2022-11-01T15:35:41.146Z"
   },
   {
    "duration": 63,
    "start_time": "2022-11-01T15:35:44.124Z"
   },
   {
    "duration": 4,
    "start_time": "2022-11-01T15:35:45.432Z"
   },
   {
    "duration": 1863,
    "start_time": "2022-11-01T15:36:00.711Z"
   },
   {
    "duration": 1609,
    "start_time": "2022-11-01T15:40:51.112Z"
   },
   {
    "duration": 12795,
    "start_time": "2022-11-01T15:41:07.251Z"
   },
   {
    "duration": 1595,
    "start_time": "2022-11-01T15:41:39.360Z"
   },
   {
    "duration": 21324,
    "start_time": "2022-11-01T15:41:52.434Z"
   },
   {
    "duration": 2811,
    "start_time": "2022-11-01T15:43:43.232Z"
   },
   {
    "duration": 2425,
    "start_time": "2022-11-01T15:44:49.718Z"
   },
   {
    "duration": 25,
    "start_time": "2022-11-01T16:03:30.057Z"
   },
   {
    "duration": 182,
    "start_time": "2022-11-01T16:05:30.213Z"
   },
   {
    "duration": 3,
    "start_time": "2022-11-01T16:07:37.611Z"
   },
   {
    "duration": 9,
    "start_time": "2022-11-01T16:07:38.171Z"
   },
   {
    "duration": 25,
    "start_time": "2022-11-01T16:07:43.828Z"
   },
   {
    "duration": 3,
    "start_time": "2022-11-01T16:07:47.585Z"
   },
   {
    "duration": 2,
    "start_time": "2022-11-01T16:07:48.092Z"
   },
   {
    "duration": 16,
    "start_time": "2022-11-01T16:08:00.588Z"
   },
   {
    "duration": 7,
    "start_time": "2022-11-01T16:08:13.680Z"
   },
   {
    "duration": 63,
    "start_time": "2022-11-01T16:08:14.046Z"
   },
   {
    "duration": 4,
    "start_time": "2022-11-01T16:08:15.793Z"
   },
   {
    "duration": 1754,
    "start_time": "2022-11-01T16:08:16.753Z"
   },
   {
    "duration": 110,
    "start_time": "2022-11-01T16:08:26.348Z"
   },
   {
    "duration": 0,
    "start_time": "2022-11-01T16:08:26.460Z"
   },
   {
    "duration": 28216,
    "start_time": "2022-11-01T16:08:30.615Z"
   },
   {
    "duration": 1231,
    "start_time": "2022-11-01T16:08:58.836Z"
   },
   {
    "duration": 607,
    "start_time": "2022-11-01T16:13:16.849Z"
   },
   {
    "duration": 93,
    "start_time": "2022-11-01T16:13:17.707Z"
   },
   {
    "duration": 787,
    "start_time": "2022-11-01T16:13:18.656Z"
   },
   {
    "duration": 4,
    "start_time": "2022-11-01T16:13:47.109Z"
   },
   {
    "duration": 28,
    "start_time": "2022-11-01T16:14:53.511Z"
   },
   {
    "duration": 1711,
    "start_time": "2022-11-01T16:15:13.425Z"
   },
   {
    "duration": 1150,
    "start_time": "2022-11-01T16:15:15.138Z"
   },
   {
    "duration": 214,
    "start_time": "2022-11-01T16:15:16.291Z"
   },
   {
    "duration": 28,
    "start_time": "2022-11-01T16:15:16.508Z"
   },
   {
    "duration": 558,
    "start_time": "2022-11-01T16:15:16.538Z"
   },
   {
    "duration": 55,
    "start_time": "2022-11-01T16:15:17.098Z"
   },
   {
    "duration": 310,
    "start_time": "2022-11-01T16:15:17.156Z"
   },
   {
    "duration": 519,
    "start_time": "2022-11-01T16:15:17.468Z"
   },
   {
    "duration": 113,
    "start_time": "2022-11-01T16:15:17.989Z"
   },
   {
    "duration": 128,
    "start_time": "2022-11-01T16:15:18.106Z"
   },
   {
    "duration": 50,
    "start_time": "2022-11-01T16:15:18.237Z"
   },
   {
    "duration": 71,
    "start_time": "2022-11-01T16:15:18.290Z"
   },
   {
    "duration": 33,
    "start_time": "2022-11-01T16:15:18.363Z"
   },
   {
    "duration": 85,
    "start_time": "2022-11-01T16:15:18.398Z"
   },
   {
    "duration": 32,
    "start_time": "2022-11-01T16:15:18.485Z"
   },
   {
    "duration": 63,
    "start_time": "2022-11-01T16:15:18.537Z"
   },
   {
    "duration": 49,
    "start_time": "2022-11-01T16:15:18.602Z"
   },
   {
    "duration": 79,
    "start_time": "2022-11-01T16:15:18.654Z"
   },
   {
    "duration": 39,
    "start_time": "2022-11-01T16:15:18.736Z"
   },
   {
    "duration": 69,
    "start_time": "2022-11-01T16:15:18.778Z"
   },
   {
    "duration": 15,
    "start_time": "2022-11-01T16:15:19.272Z"
   },
   {
    "duration": 429,
    "start_time": "2022-11-01T16:15:19.454Z"
   },
   {
    "duration": 488,
    "start_time": "2022-11-01T16:15:19.886Z"
   },
   {
    "duration": 143,
    "start_time": "2022-11-01T16:15:20.377Z"
   },
   {
    "duration": 390,
    "start_time": "2022-11-01T16:15:20.522Z"
   },
   {
    "duration": 17,
    "start_time": "2022-11-01T16:15:20.914Z"
   },
   {
    "duration": 3,
    "start_time": "2022-11-01T16:15:21.053Z"
   },
   {
    "duration": 183,
    "start_time": "2022-11-01T16:15:21.263Z"
   },
   {
    "duration": 29,
    "start_time": "2022-11-01T16:15:21.482Z"
   },
   {
    "duration": 3,
    "start_time": "2022-11-01T16:15:21.744Z"
   },
   {
    "duration": 991,
    "start_time": "2022-11-01T16:15:21.962Z"
   },
   {
    "duration": 567,
    "start_time": "2022-11-01T16:15:25.429Z"
   },
   {
    "duration": 93,
    "start_time": "2022-11-01T16:15:25.998Z"
   },
   {
    "duration": 563,
    "start_time": "2022-11-01T16:15:26.470Z"
   },
   {
    "duration": 4,
    "start_time": "2022-11-01T16:15:28.523Z"
   },
   {
    "duration": 28,
    "start_time": "2022-11-01T16:15:29.162Z"
   },
   {
    "duration": 32,
    "start_time": "2022-11-01T16:16:08.741Z"
   },
   {
    "duration": 25,
    "start_time": "2022-11-01T16:16:13.147Z"
   },
   {
    "duration": 4,
    "start_time": "2022-11-01T16:17:56.596Z"
   },
   {
    "duration": 155,
    "start_time": "2022-11-01T16:19:35.315Z"
   },
   {
    "duration": 210,
    "start_time": "2022-11-01T16:19:53.003Z"
   },
   {
    "duration": 1797,
    "start_time": "2022-11-01T16:20:36.694Z"
   },
   {
    "duration": 1036,
    "start_time": "2022-11-01T16:20:39.691Z"
   },
   {
    "duration": 126,
    "start_time": "2022-11-01T16:20:40.731Z"
   },
   {
    "duration": 17,
    "start_time": "2022-11-01T16:20:40.860Z"
   },
   {
    "duration": 516,
    "start_time": "2022-11-01T16:20:41.551Z"
   },
   {
    "duration": 40,
    "start_time": "2022-11-01T16:20:45.415Z"
   },
   {
    "duration": 256,
    "start_time": "2022-11-01T16:20:45.795Z"
   },
   {
    "duration": 567,
    "start_time": "2022-11-01T16:20:46.054Z"
   },
   {
    "duration": 110,
    "start_time": "2022-11-01T16:20:46.623Z"
   },
   {
    "duration": 106,
    "start_time": "2022-11-01T16:20:46.735Z"
   },
   {
    "duration": 50,
    "start_time": "2022-11-01T16:20:46.843Z"
   },
   {
    "duration": 85,
    "start_time": "2022-11-01T16:20:46.895Z"
   },
   {
    "duration": 40,
    "start_time": "2022-11-01T16:20:47.073Z"
   },
   {
    "duration": 55,
    "start_time": "2022-11-01T16:20:47.261Z"
   },
   {
    "duration": 52,
    "start_time": "2022-11-01T16:20:47.464Z"
   },
   {
    "duration": 57,
    "start_time": "2022-11-01T16:20:47.669Z"
   },
   {
    "duration": 50,
    "start_time": "2022-11-01T16:20:47.857Z"
   },
   {
    "duration": 78,
    "start_time": "2022-11-01T16:20:48.002Z"
   },
   {
    "duration": 54,
    "start_time": "2022-11-01T16:20:48.203Z"
   },
   {
    "duration": 79,
    "start_time": "2022-11-01T16:20:48.387Z"
   },
   {
    "duration": 18,
    "start_time": "2022-11-01T16:20:48.949Z"
   },
   {
    "duration": 398,
    "start_time": "2022-11-01T16:20:49.125Z"
   },
   {
    "duration": 487,
    "start_time": "2022-11-01T16:20:49.531Z"
   },
   {
    "duration": 127,
    "start_time": "2022-11-01T16:20:50.020Z"
   },
   {
    "duration": 365,
    "start_time": "2022-11-01T16:20:50.150Z"
   },
   {
    "duration": 14,
    "start_time": "2022-11-01T16:20:50.518Z"
   },
   {
    "duration": 5,
    "start_time": "2022-11-01T16:20:50.869Z"
   },
   {
    "duration": 213,
    "start_time": "2022-11-01T16:20:51.057Z"
   },
   {
    "duration": 33,
    "start_time": "2022-11-01T16:20:51.317Z"
   },
   {
    "duration": 4,
    "start_time": "2022-11-01T16:20:51.500Z"
   },
   {
    "duration": 887,
    "start_time": "2022-11-01T16:20:52.833Z"
   },
   {
    "duration": 445,
    "start_time": "2022-11-01T16:20:58.596Z"
   },
   {
    "duration": 73,
    "start_time": "2022-11-01T16:20:59.235Z"
   },
   {
    "duration": 571,
    "start_time": "2022-11-01T16:20:59.920Z"
   },
   {
    "duration": 9,
    "start_time": "2022-11-01T16:21:02.754Z"
   },
   {
    "duration": 24,
    "start_time": "2022-11-01T16:21:03.880Z"
   },
   {
    "duration": 171,
    "start_time": "2022-11-01T16:21:10.318Z"
   },
   {
    "duration": 3,
    "start_time": "2022-11-01T16:21:55.412Z"
   },
   {
    "duration": 10,
    "start_time": "2022-11-01T16:21:56.435Z"
   },
   {
    "duration": 34,
    "start_time": "2022-11-01T16:21:56.989Z"
   },
   {
    "duration": 3,
    "start_time": "2022-11-01T16:21:59.642Z"
   },
   {
    "duration": 1256,
    "start_time": "2022-11-01T16:22:01.057Z"
   },
   {
    "duration": 463,
    "start_time": "2022-11-01T16:22:05.019Z"
   },
   {
    "duration": 58,
    "start_time": "2022-11-01T16:22:06.258Z"
   },
   {
    "duration": 523,
    "start_time": "2022-11-01T16:22:06.898Z"
   },
   {
    "duration": 4,
    "start_time": "2022-11-01T16:22:15.103Z"
   },
   {
    "duration": 34,
    "start_time": "2022-11-01T16:22:15.945Z"
   },
   {
    "duration": 235,
    "start_time": "2022-11-01T16:22:19.877Z"
   },
   {
    "duration": 181,
    "start_time": "2022-11-01T16:22:23.823Z"
   },
   {
    "duration": 36804,
    "start_time": "2022-11-01T16:22:24.640Z"
   },
   {
    "duration": 10,
    "start_time": "2022-11-01T16:23:20.862Z"
   },
   {
    "duration": 35,
    "start_time": "2022-11-01T16:23:21.339Z"
   },
   {
    "duration": 2,
    "start_time": "2022-11-01T16:23:40.951Z"
   },
   {
    "duration": 12,
    "start_time": "2022-11-01T16:23:52.089Z"
   },
   {
    "duration": 69,
    "start_time": "2022-11-01T16:23:59.665Z"
   },
   {
    "duration": 4,
    "start_time": "2022-11-01T16:24:07.562Z"
   },
   {
    "duration": 2145,
    "start_time": "2022-11-01T16:24:19.008Z"
   },
   {
    "duration": 27355,
    "start_time": "2022-11-01T16:24:21.985Z"
   },
   {
    "duration": 51,
    "start_time": "2022-11-01T16:34:28.783Z"
   },
   {
    "duration": 20,
    "start_time": "2022-11-01T16:40:29.297Z"
   },
   {
    "duration": 76,
    "start_time": "2022-11-01T16:40:48.339Z"
   },
   {
    "duration": 13,
    "start_time": "2022-11-01T16:42:57.779Z"
   },
   {
    "duration": 14,
    "start_time": "2022-11-01T16:43:12.161Z"
   },
   {
    "duration": 16,
    "start_time": "2022-11-01T16:43:26.341Z"
   },
   {
    "duration": 327,
    "start_time": "2022-11-01T16:43:28.276Z"
   },
   {
    "duration": 6,
    "start_time": "2022-11-01T16:43:30.408Z"
   },
   {
    "duration": 11,
    "start_time": "2022-11-01T16:43:31.113Z"
   },
   {
    "duration": 34,
    "start_time": "2022-11-01T16:43:31.260Z"
   },
   {
    "duration": 3,
    "start_time": "2022-11-01T16:43:31.453Z"
   },
   {
    "duration": 3,
    "start_time": "2022-11-01T16:43:31.645Z"
   },
   {
    "duration": 4,
    "start_time": "2022-11-01T16:43:43.712Z"
   },
   {
    "duration": 850,
    "start_time": "2022-11-01T16:43:44.103Z"
   },
   {
    "duration": 146,
    "start_time": "2022-11-01T16:43:44.957Z"
   },
   {
    "duration": 29,
    "start_time": "2022-11-01T16:43:45.105Z"
   },
   {
    "duration": 542,
    "start_time": "2022-11-01T16:43:45.137Z"
   },
   {
    "duration": 34,
    "start_time": "2022-11-01T16:43:45.681Z"
   },
   {
    "duration": 208,
    "start_time": "2022-11-01T16:43:45.866Z"
   },
   {
    "duration": 448,
    "start_time": "2022-11-01T16:43:46.076Z"
   },
   {
    "duration": 116,
    "start_time": "2022-11-01T16:43:46.527Z"
   },
   {
    "duration": 107,
    "start_time": "2022-11-01T16:43:46.916Z"
   },
   {
    "duration": 36,
    "start_time": "2022-11-01T16:43:48.614Z"
   },
   {
    "duration": 73,
    "start_time": "2022-11-01T16:43:48.812Z"
   },
   {
    "duration": 31,
    "start_time": "2022-11-01T16:43:49.003Z"
   },
   {
    "duration": 54,
    "start_time": "2022-11-01T16:43:49.215Z"
   },
   {
    "duration": 39,
    "start_time": "2022-11-01T16:43:49.386Z"
   },
   {
    "duration": 69,
    "start_time": "2022-11-01T16:43:49.577Z"
   },
   {
    "duration": 33,
    "start_time": "2022-11-01T16:43:49.748Z"
   },
   {
    "duration": 54,
    "start_time": "2022-11-01T16:43:49.956Z"
   },
   {
    "duration": 37,
    "start_time": "2022-11-01T16:43:50.167Z"
   },
   {
    "duration": 51,
    "start_time": "2022-11-01T16:43:50.368Z"
   },
   {
    "duration": 16,
    "start_time": "2022-11-01T16:43:50.943Z"
   },
   {
    "duration": 401,
    "start_time": "2022-11-01T16:43:51.150Z"
   },
   {
    "duration": 353,
    "start_time": "2022-11-01T16:43:51.999Z"
   },
   {
    "duration": 13,
    "start_time": "2022-11-01T16:43:54.141Z"
   },
   {
    "duration": 459,
    "start_time": "2022-11-01T16:43:55.165Z"
   },
   {
    "duration": 8,
    "start_time": "2022-11-01T16:44:01.540Z"
   },
   {
    "duration": 173,
    "start_time": "2022-11-01T16:44:03.941Z"
   },
   {
    "duration": 33,
    "start_time": "2022-11-01T16:44:04.522Z"
   },
   {
    "duration": 4,
    "start_time": "2022-11-01T16:44:06.041Z"
   },
   {
    "duration": 4,
    "start_time": "2022-11-01T16:44:06.484Z"
   },
   {
    "duration": 6,
    "start_time": "2022-11-01T16:44:08.209Z"
   },
   {
    "duration": 83,
    "start_time": "2022-11-01T16:44:08.726Z"
   },
   {
    "duration": 5,
    "start_time": "2022-11-01T16:44:10.068Z"
   },
   {
    "duration": 1827,
    "start_time": "2022-11-01T16:44:10.896Z"
   },
   {
    "duration": 25545,
    "start_time": "2022-11-01T16:44:13.007Z"
   },
   {
    "duration": 126,
    "start_time": "2022-11-01T16:44:38.554Z"
   },
   {
    "duration": 25,
    "start_time": "2022-11-01T16:45:29.181Z"
   },
   {
    "duration": 31,
    "start_time": "2022-11-01T16:45:55.951Z"
   },
   {
    "duration": 54,
    "start_time": "2022-11-01T16:45:56.450Z"
   },
   {
    "duration": 109,
    "start_time": "2022-11-01T16:45:56.959Z"
   },
   {
    "duration": 68,
    "start_time": "2022-11-01T16:45:57.579Z"
   },
   {
    "duration": 107,
    "start_time": "2022-11-01T16:46:11.043Z"
   },
   {
    "duration": 55,
    "start_time": "2022-11-01T16:49:26.919Z"
   },
   {
    "duration": 78,
    "start_time": "2022-11-01T16:49:43.321Z"
   },
   {
    "duration": 972,
    "start_time": "2022-11-01T16:50:22.227Z"
   },
   {
    "duration": 265,
    "start_time": "2022-11-01T16:50:49.023Z"
   },
   {
    "duration": 446,
    "start_time": "2022-11-01T16:51:04.943Z"
   },
   {
    "duration": 1697,
    "start_time": "2022-11-01T17:45:47.289Z"
   },
   {
    "duration": 1496,
    "start_time": "2022-11-01T17:45:48.988Z"
   },
   {
    "duration": 119,
    "start_time": "2022-11-01T17:45:50.486Z"
   },
   {
    "duration": 27,
    "start_time": "2022-11-01T17:45:50.608Z"
   },
   {
    "duration": 521,
    "start_time": "2022-11-01T17:45:50.637Z"
   },
   {
    "duration": 44,
    "start_time": "2022-11-01T17:45:51.160Z"
   },
   {
    "duration": 252,
    "start_time": "2022-11-01T17:45:51.206Z"
   },
   {
    "duration": 523,
    "start_time": "2022-11-01T17:45:51.460Z"
   },
   {
    "duration": 101,
    "start_time": "2022-11-01T17:45:51.985Z"
   },
   {
    "duration": 80,
    "start_time": "2022-11-01T17:45:52.088Z"
   },
   {
    "duration": 44,
    "start_time": "2022-11-01T17:45:52.170Z"
   },
   {
    "duration": 45,
    "start_time": "2022-11-01T17:45:52.216Z"
   },
   {
    "duration": 28,
    "start_time": "2022-11-01T17:45:52.264Z"
   },
   {
    "duration": 63,
    "start_time": "2022-11-01T17:45:52.294Z"
   },
   {
    "duration": 46,
    "start_time": "2022-11-01T17:45:52.359Z"
   },
   {
    "duration": 56,
    "start_time": "2022-11-01T17:45:52.407Z"
   },
   {
    "duration": 28,
    "start_time": "2022-11-01T17:45:52.465Z"
   },
   {
    "duration": 89,
    "start_time": "2022-11-01T17:45:52.495Z"
   },
   {
    "duration": 31,
    "start_time": "2022-11-01T17:45:52.668Z"
   },
   {
    "duration": 65,
    "start_time": "2022-11-01T17:45:52.860Z"
   },
   {
    "duration": 16,
    "start_time": "2022-11-01T17:45:53.388Z"
   },
   {
    "duration": 308,
    "start_time": "2022-11-01T17:45:54.195Z"
   },
   {
    "duration": 423,
    "start_time": "2022-11-01T17:45:54.506Z"
   },
   {
    "duration": 13,
    "start_time": "2022-11-01T17:45:54.931Z"
   },
   {
    "duration": 349,
    "start_time": "2022-11-01T17:45:54.946Z"
   },
   {
    "duration": 6,
    "start_time": "2022-11-01T17:45:55.298Z"
   },
   {
    "duration": 167,
    "start_time": "2022-11-01T17:45:55.306Z"
   },
   {
    "duration": 24,
    "start_time": "2022-11-01T17:45:55.475Z"
   },
   {
    "duration": 3,
    "start_time": "2022-11-01T17:45:55.501Z"
   },
   {
    "duration": 3,
    "start_time": "2022-11-01T17:45:55.531Z"
   },
   {
    "duration": 7,
    "start_time": "2022-11-01T17:45:56.493Z"
   },
   {
    "duration": 78,
    "start_time": "2022-11-01T17:45:56.698Z"
   },
   {
    "duration": 4,
    "start_time": "2022-11-01T17:45:57.711Z"
   },
   {
    "duration": 1831,
    "start_time": "2022-11-01T17:45:58.606Z"
   },
   {
    "duration": 36805,
    "start_time": "2022-11-01T17:46:00.440Z"
   },
   {
    "duration": 996,
    "start_time": "2022-11-01T17:46:37.248Z"
   },
   {
    "duration": 211,
    "start_time": "2022-11-01T17:46:38.247Z"
   },
   {
    "duration": 451,
    "start_time": "2022-11-01T17:46:38.459Z"
   },
   {
    "duration": 1630,
    "start_time": "2022-11-01T17:57:33.474Z"
   },
   {
    "duration": 894,
    "start_time": "2022-11-01T17:57:36.538Z"
   },
   {
    "duration": 142,
    "start_time": "2022-11-01T17:57:39.814Z"
   },
   {
    "duration": 20,
    "start_time": "2022-11-01T17:57:42.633Z"
   },
   {
    "duration": 507,
    "start_time": "2022-11-01T17:57:42.934Z"
   },
   {
    "duration": 31,
    "start_time": "2022-11-01T17:57:43.443Z"
   },
   {
    "duration": 205,
    "start_time": "2022-11-01T17:57:43.476Z"
   },
   {
    "duration": 400,
    "start_time": "2022-11-01T17:57:43.683Z"
   },
   {
    "duration": 78,
    "start_time": "2022-11-01T17:57:44.085Z"
   },
   {
    "duration": 92,
    "start_time": "2022-11-01T17:57:44.166Z"
   },
   {
    "duration": 31,
    "start_time": "2022-11-01T17:57:44.273Z"
   },
   {
    "duration": 45,
    "start_time": "2022-11-01T17:57:44.638Z"
   },
   {
    "duration": 31,
    "start_time": "2022-11-01T17:57:44.686Z"
   },
   {
    "duration": 46,
    "start_time": "2022-11-01T17:57:44.853Z"
   },
   {
    "duration": 53,
    "start_time": "2022-11-01T17:57:45.038Z"
   },
   {
    "duration": 46,
    "start_time": "2022-11-01T17:57:45.225Z"
   },
   {
    "duration": 43,
    "start_time": "2022-11-01T17:57:45.421Z"
   },
   {
    "duration": 44,
    "start_time": "2022-11-01T17:57:45.605Z"
   },
   {
    "duration": 28,
    "start_time": "2022-11-01T17:57:45.792Z"
   },
   {
    "duration": 45,
    "start_time": "2022-11-01T17:57:45.980Z"
   },
   {
    "duration": 13,
    "start_time": "2022-11-01T17:57:46.520Z"
   },
   {
    "duration": 372,
    "start_time": "2022-11-01T17:57:46.702Z"
   },
   {
    "duration": 426,
    "start_time": "2022-11-01T17:57:47.076Z"
   },
   {
    "duration": 11,
    "start_time": "2022-11-01T17:57:47.505Z"
   },
   {
    "duration": 413,
    "start_time": "2022-11-01T17:57:47.518Z"
   },
   {
    "duration": 6,
    "start_time": "2022-11-01T17:57:47.934Z"
   },
   {
    "duration": 141,
    "start_time": "2022-11-01T17:57:49.262Z"
   },
   {
    "duration": 27,
    "start_time": "2022-11-01T17:57:49.440Z"
   },
   {
    "duration": 2,
    "start_time": "2022-11-01T17:57:49.638Z"
   },
   {
    "duration": 2,
    "start_time": "2022-11-01T17:57:50.157Z"
   },
   {
    "duration": 5,
    "start_time": "2022-11-01T17:57:51.722Z"
   },
   {
    "duration": 56,
    "start_time": "2022-11-01T17:57:52.317Z"
   },
   {
    "duration": 4,
    "start_time": "2022-11-01T17:57:54.538Z"
   },
   {
    "duration": 1817,
    "start_time": "2022-11-01T17:57:55.397Z"
   },
   {
    "duration": 29825,
    "start_time": "2022-11-01T17:57:57.216Z"
   },
   {
    "duration": 825,
    "start_time": "2022-11-01T17:58:41.942Z"
   },
   {
    "duration": 207,
    "start_time": "2022-11-01T17:58:45.262Z"
   },
   {
    "duration": 437,
    "start_time": "2022-11-01T17:58:46.298Z"
   },
   {
    "duration": 1580,
    "start_time": "2022-11-01T18:14:44.582Z"
   },
   {
    "duration": 810,
    "start_time": "2022-11-01T18:14:48.332Z"
   },
   {
    "duration": 127,
    "start_time": "2022-11-01T18:14:49.271Z"
   },
   {
    "duration": 15,
    "start_time": "2022-11-01T18:14:49.800Z"
   },
   {
    "duration": 497,
    "start_time": "2022-11-01T18:14:50.860Z"
   },
   {
    "duration": 34,
    "start_time": "2022-11-01T18:14:52.297Z"
   },
   {
    "duration": 192,
    "start_time": "2022-11-01T18:14:53.117Z"
   },
   {
    "duration": 447,
    "start_time": "2022-11-01T18:14:53.615Z"
   },
   {
    "duration": 78,
    "start_time": "2022-11-01T18:14:54.067Z"
   },
   {
    "duration": 68,
    "start_time": "2022-11-01T18:14:55.271Z"
   },
   {
    "duration": 33,
    "start_time": "2022-11-01T18:14:55.749Z"
   },
   {
    "duration": 42,
    "start_time": "2022-11-01T18:14:56.410Z"
   },
   {
    "duration": 29,
    "start_time": "2022-11-01T18:14:57.005Z"
   },
   {
    "duration": 41,
    "start_time": "2022-11-01T18:14:57.446Z"
   },
   {
    "duration": 43,
    "start_time": "2022-11-01T18:14:58.055Z"
   },
   {
    "duration": 61,
    "start_time": "2022-11-01T18:14:58.100Z"
   },
   {
    "duration": 29,
    "start_time": "2022-11-01T18:14:58.672Z"
   },
   {
    "duration": 55,
    "start_time": "2022-11-01T18:14:58.703Z"
   },
   {
    "duration": 30,
    "start_time": "2022-11-01T18:14:58.945Z"
   },
   {
    "duration": 44,
    "start_time": "2022-11-01T18:14:59.745Z"
   },
   {
    "duration": 11,
    "start_time": "2022-11-01T18:15:01.053Z"
   },
   {
    "duration": 337,
    "start_time": "2022-11-01T18:15:01.598Z"
   },
   {
    "duration": 392,
    "start_time": "2022-11-01T18:15:02.617Z"
   },
   {
    "duration": 11,
    "start_time": "2022-11-01T18:15:04.763Z"
   },
   {
    "duration": 323,
    "start_time": "2022-11-01T18:15:06.246Z"
   },
   {
    "duration": 6,
    "start_time": "2022-11-01T18:15:06.830Z"
   },
   {
    "duration": 150,
    "start_time": "2022-11-01T18:15:08.258Z"
   },
   {
    "duration": 23,
    "start_time": "2022-11-01T18:15:08.742Z"
   },
   {
    "duration": 3,
    "start_time": "2022-11-01T18:15:10.105Z"
   },
   {
    "duration": 3,
    "start_time": "2022-11-01T18:15:12.177Z"
   },
   {
    "duration": 6,
    "start_time": "2022-11-01T18:15:14.859Z"
   },
   {
    "duration": 76,
    "start_time": "2022-11-01T18:15:15.338Z"
   },
   {
    "duration": 4,
    "start_time": "2022-11-01T18:15:17.566Z"
   },
   {
    "duration": 1655,
    "start_time": "2022-11-01T18:15:18.472Z"
   },
   {
    "duration": 2514,
    "start_time": "2022-11-01T18:15:20.129Z"
   },
   {
    "duration": 916,
    "start_time": "2022-11-01T18:15:27.434Z"
   },
   {
    "duration": 206,
    "start_time": "2022-11-01T18:15:33.619Z"
   },
   {
    "duration": 494,
    "start_time": "2022-11-01T18:15:34.695Z"
   },
   {
    "duration": 184,
    "start_time": "2022-11-01T18:15:36.554Z"
   },
   {
    "duration": 1859,
    "start_time": "2022-11-01T18:37:15.690Z"
   },
   {
    "duration": 2249,
    "start_time": "2022-11-01T18:37:17.551Z"
   },
   {
    "duration": 116,
    "start_time": "2022-11-01T18:37:19.803Z"
   },
   {
    "duration": 25,
    "start_time": "2022-11-01T18:37:19.922Z"
   },
   {
    "duration": 494,
    "start_time": "2022-11-01T18:37:19.949Z"
   },
   {
    "duration": 36,
    "start_time": "2022-11-01T18:37:20.445Z"
   },
   {
    "duration": 206,
    "start_time": "2022-11-01T18:37:20.483Z"
   },
   {
    "duration": 461,
    "start_time": "2022-11-01T18:37:20.691Z"
   },
   {
    "duration": 116,
    "start_time": "2022-11-01T18:37:21.155Z"
   },
   {
    "duration": 120,
    "start_time": "2022-11-01T18:37:21.273Z"
   },
   {
    "duration": 54,
    "start_time": "2022-11-01T18:37:21.396Z"
   },
   {
    "duration": 47,
    "start_time": "2022-11-01T18:37:21.452Z"
   },
   {
    "duration": 46,
    "start_time": "2022-11-01T18:37:21.501Z"
   },
   {
    "duration": 66,
    "start_time": "2022-11-01T18:37:21.549Z"
   },
   {
    "duration": 46,
    "start_time": "2022-11-01T18:37:21.631Z"
   },
   {
    "duration": 65,
    "start_time": "2022-11-01T18:37:21.680Z"
   },
   {
    "duration": 31,
    "start_time": "2022-11-01T18:37:21.747Z"
   },
   {
    "duration": 53,
    "start_time": "2022-11-01T18:37:21.963Z"
   },
   {
    "duration": 30,
    "start_time": "2022-11-01T18:37:22.085Z"
   },
   {
    "duration": 50,
    "start_time": "2022-11-01T18:37:22.288Z"
   },
   {
    "duration": 12,
    "start_time": "2022-11-01T18:37:22.865Z"
   },
   {
    "duration": 359,
    "start_time": "2022-11-01T18:37:23.060Z"
   },
   {
    "duration": 442,
    "start_time": "2022-11-01T18:37:23.431Z"
   },
   {
    "duration": 12,
    "start_time": "2022-11-01T18:37:23.876Z"
   },
   {
    "duration": 368,
    "start_time": "2022-11-01T18:37:23.890Z"
   },
   {
    "duration": 6,
    "start_time": "2022-11-01T18:37:24.260Z"
   },
   {
    "duration": 167,
    "start_time": "2022-11-01T18:37:24.448Z"
   },
   {
    "duration": 39,
    "start_time": "2022-11-01T18:37:24.656Z"
   },
   {
    "duration": 5,
    "start_time": "2022-11-01T18:37:24.840Z"
   },
   {
    "duration": 3,
    "start_time": "2022-11-01T18:37:25.050Z"
   },
   {
    "duration": 6,
    "start_time": "2022-11-01T18:37:26.086Z"
   },
   {
    "duration": 80,
    "start_time": "2022-11-01T18:37:26.292Z"
   },
   {
    "duration": 4,
    "start_time": "2022-11-01T18:37:29.043Z"
   },
   {
    "duration": 1839,
    "start_time": "2022-11-01T18:37:29.822Z"
   },
   {
    "duration": 29583,
    "start_time": "2022-11-01T18:37:31.664Z"
   },
   {
    "duration": 29459,
    "start_time": "2022-11-01T18:38:21.587Z"
   },
   {
    "duration": 882,
    "start_time": "2022-11-01T18:38:54.591Z"
   },
   {
    "duration": 212,
    "start_time": "2022-11-01T18:38:55.474Z"
   },
   {
    "duration": 482,
    "start_time": "2022-11-01T18:38:55.733Z"
   },
   {
    "duration": 160,
    "start_time": "2022-11-01T18:38:57.143Z"
   },
   {
    "duration": 4,
    "start_time": "2022-11-01T18:40:21.344Z"
   },
   {
    "duration": 1968,
    "start_time": "2022-11-01T18:41:54.992Z"
   },
   {
    "duration": 3138,
    "start_time": "2022-11-01T18:41:58.872Z"
   },
   {
    "duration": 120,
    "start_time": "2022-11-01T18:42:02.012Z"
   },
   {
    "duration": 14,
    "start_time": "2022-11-01T18:42:02.134Z"
   },
   {
    "duration": 472,
    "start_time": "2022-11-01T18:42:02.150Z"
   },
   {
    "duration": 35,
    "start_time": "2022-11-01T18:42:02.631Z"
   },
   {
    "duration": 214,
    "start_time": "2022-11-01T18:42:02.668Z"
   },
   {
    "duration": 442,
    "start_time": "2022-11-01T18:42:02.884Z"
   },
   {
    "duration": 74,
    "start_time": "2022-11-01T18:42:03.328Z"
   },
   {
    "duration": 97,
    "start_time": "2022-11-01T18:42:03.405Z"
   },
   {
    "duration": 40,
    "start_time": "2022-11-01T18:42:03.504Z"
   },
   {
    "duration": 45,
    "start_time": "2022-11-01T18:42:03.546Z"
   },
   {
    "duration": 44,
    "start_time": "2022-11-01T18:42:03.592Z"
   },
   {
    "duration": 47,
    "start_time": "2022-11-01T18:42:03.638Z"
   },
   {
    "duration": 47,
    "start_time": "2022-11-01T18:42:03.686Z"
   },
   {
    "duration": 43,
    "start_time": "2022-11-01T18:42:03.735Z"
   },
   {
    "duration": 28,
    "start_time": "2022-11-01T18:42:03.780Z"
   },
   {
    "duration": 55,
    "start_time": "2022-11-01T18:42:03.918Z"
   },
   {
    "duration": 29,
    "start_time": "2022-11-01T18:42:04.120Z"
   },
   {
    "duration": 49,
    "start_time": "2022-11-01T18:42:04.309Z"
   },
   {
    "duration": 13,
    "start_time": "2022-11-01T18:42:04.925Z"
   },
   {
    "duration": 304,
    "start_time": "2022-11-01T18:42:05.080Z"
   },
   {
    "duration": 399,
    "start_time": "2022-11-01T18:42:05.387Z"
   },
   {
    "duration": 13,
    "start_time": "2022-11-01T18:42:05.789Z"
   },
   {
    "duration": 372,
    "start_time": "2022-11-01T18:42:05.805Z"
   },
   {
    "duration": 6,
    "start_time": "2022-11-01T18:42:06.179Z"
   },
   {
    "duration": 148,
    "start_time": "2022-11-01T18:42:06.779Z"
   },
   {
    "duration": 27,
    "start_time": "2022-11-01T18:42:06.990Z"
   },
   {
    "duration": 2,
    "start_time": "2022-11-01T18:42:07.183Z"
   },
   {
    "duration": 2,
    "start_time": "2022-11-01T18:42:07.382Z"
   },
   {
    "duration": 8,
    "start_time": "2022-11-01T18:42:08.612Z"
   },
   {
    "duration": 55,
    "start_time": "2022-11-01T18:42:08.844Z"
   },
   {
    "duration": 3,
    "start_time": "2022-11-01T18:42:10.433Z"
   },
   {
    "duration": 1794,
    "start_time": "2022-11-01T18:42:11.559Z"
   },
   {
    "duration": 5481,
    "start_time": "2022-11-01T18:42:13.355Z"
   },
   {
    "duration": 860,
    "start_time": "2022-11-01T18:42:18.838Z"
   },
   {
    "duration": 208,
    "start_time": "2022-11-01T18:42:19.700Z"
   },
   {
    "duration": 446,
    "start_time": "2022-11-01T18:42:19.911Z"
   },
   {
    "duration": 192,
    "start_time": "2022-11-01T18:42:22.188Z"
   },
   {
    "duration": 2024,
    "start_time": "2022-11-01T18:42:55.330Z"
   },
   {
    "duration": 3,
    "start_time": "2022-11-01T18:46:40.546Z"
   },
   {
    "duration": 3147,
    "start_time": "2022-11-01T18:46:41.264Z"
   },
   {
    "duration": 132,
    "start_time": "2022-11-01T18:46:44.414Z"
   },
   {
    "duration": 15,
    "start_time": "2022-11-01T18:46:44.547Z"
   },
   {
    "duration": 526,
    "start_time": "2022-11-01T18:46:44.564Z"
   },
   {
    "duration": 37,
    "start_time": "2022-11-01T18:46:45.091Z"
   },
   {
    "duration": 212,
    "start_time": "2022-11-01T18:46:45.129Z"
   },
   {
    "duration": 419,
    "start_time": "2022-11-01T18:46:45.343Z"
   },
   {
    "duration": 80,
    "start_time": "2022-11-01T18:46:45.764Z"
   },
   {
    "duration": 64,
    "start_time": "2022-11-01T18:46:45.846Z"
   },
   {
    "duration": 46,
    "start_time": "2022-11-01T18:46:45.912Z"
   },
   {
    "duration": 42,
    "start_time": "2022-11-01T18:46:45.960Z"
   },
   {
    "duration": 51,
    "start_time": "2022-11-01T18:46:46.004Z"
   },
   {
    "duration": 43,
    "start_time": "2022-11-01T18:46:46.057Z"
   },
   {
    "duration": 47,
    "start_time": "2022-11-01T18:46:46.102Z"
   },
   {
    "duration": 58,
    "start_time": "2022-11-01T18:46:46.151Z"
   },
   {
    "duration": 41,
    "start_time": "2022-11-01T18:46:46.215Z"
   },
   {
    "duration": 49,
    "start_time": "2022-11-01T18:46:46.410Z"
   },
   {
    "duration": 27,
    "start_time": "2022-11-01T18:46:46.590Z"
   },
   {
    "duration": 59,
    "start_time": "2022-11-01T18:46:46.951Z"
   },
   {
    "duration": 12,
    "start_time": "2022-11-01T18:46:48.792Z"
   },
   {
    "duration": 331,
    "start_time": "2022-11-01T18:46:49.345Z"
   },
   {
    "duration": 387,
    "start_time": "2022-11-01T18:46:49.707Z"
   },
   {
    "duration": 11,
    "start_time": "2022-11-01T18:46:50.185Z"
   },
   {
    "duration": 328,
    "start_time": "2022-11-01T18:46:50.512Z"
   },
   {
    "duration": 6,
    "start_time": "2022-11-01T18:46:51.079Z"
   },
   {
    "duration": 168,
    "start_time": "2022-11-01T18:46:53.025Z"
   },
   {
    "duration": 34,
    "start_time": "2022-11-01T18:46:53.384Z"
   },
   {
    "duration": 3,
    "start_time": "2022-11-01T18:46:53.860Z"
   },
   {
    "duration": 2,
    "start_time": "2022-11-01T18:46:54.772Z"
   },
   {
    "duration": 6,
    "start_time": "2022-11-01T18:46:56.569Z"
   },
   {
    "duration": 54,
    "start_time": "2022-11-01T18:46:57.047Z"
   },
   {
    "duration": 4,
    "start_time": "2022-11-01T18:47:08.190Z"
   },
   {
    "duration": 1857,
    "start_time": "2022-11-01T18:47:10.267Z"
   },
   {
    "duration": 38721,
    "start_time": "2022-11-01T18:47:12.127Z"
   },
   {
    "duration": 1319,
    "start_time": "2022-11-01T18:47:50.850Z"
   },
   {
    "duration": 61,
    "start_time": "2022-11-01T18:47:52.171Z"
   },
   {
    "duration": 1759,
    "start_time": "2022-11-01T18:55:28.150Z"
   },
   {
    "duration": 278011,
    "start_time": "2022-11-01T18:55:42.135Z"
   },
   {
    "duration": 103932,
    "start_time": "2022-11-01T19:02:08.845Z"
   },
   {
    "duration": 1714,
    "start_time": "2022-11-01T19:08:02.287Z"
   },
   {
    "duration": 1074,
    "start_time": "2022-11-01T19:08:04.004Z"
   },
   {
    "duration": 153,
    "start_time": "2022-11-01T19:08:05.080Z"
   },
   {
    "duration": 26,
    "start_time": "2022-11-01T19:08:05.236Z"
   },
   {
    "duration": 601,
    "start_time": "2022-11-01T19:08:05.265Z"
   },
   {
    "duration": 37,
    "start_time": "2022-11-01T19:08:05.868Z"
   },
   {
    "duration": 248,
    "start_time": "2022-11-01T19:08:05.908Z"
   },
   {
    "duration": 456,
    "start_time": "2022-11-01T19:08:06.158Z"
   },
   {
    "duration": 90,
    "start_time": "2022-11-01T19:08:06.616Z"
   },
   {
    "duration": 109,
    "start_time": "2022-11-01T19:08:06.710Z"
   },
   {
    "duration": 42,
    "start_time": "2022-11-01T19:08:06.831Z"
   },
   {
    "duration": 65,
    "start_time": "2022-11-01T19:08:06.876Z"
   },
   {
    "duration": 46,
    "start_time": "2022-11-01T19:08:06.945Z"
   },
   {
    "duration": 72,
    "start_time": "2022-11-01T19:08:06.993Z"
   },
   {
    "duration": 39,
    "start_time": "2022-11-01T19:08:07.067Z"
   },
   {
    "duration": 92,
    "start_time": "2022-11-01T19:08:07.109Z"
   },
   {
    "duration": 61,
    "start_time": "2022-11-01T19:08:07.204Z"
   },
   {
    "duration": 92,
    "start_time": "2022-11-01T19:08:07.267Z"
   },
   {
    "duration": 49,
    "start_time": "2022-11-01T19:08:07.361Z"
   },
   {
    "duration": 52,
    "start_time": "2022-11-01T19:08:07.453Z"
   },
   {
    "duration": 16,
    "start_time": "2022-11-01T19:08:08.174Z"
   },
   {
    "duration": 367,
    "start_time": "2022-11-01T19:08:08.386Z"
   },
   {
    "duration": 502,
    "start_time": "2022-11-01T19:08:08.756Z"
   },
   {
    "duration": 13,
    "start_time": "2022-11-01T19:08:09.262Z"
   },
   {
    "duration": 408,
    "start_time": "2022-11-01T19:08:09.277Z"
   },
   {
    "duration": 8,
    "start_time": "2022-11-01T19:08:09.687Z"
   },
   {
    "duration": 231,
    "start_time": "2022-11-01T19:08:09.699Z"
   },
   {
    "duration": 29,
    "start_time": "2022-11-01T19:08:10.341Z"
   },
   {
    "duration": 4,
    "start_time": "2022-11-01T19:08:10.712Z"
   },
   {
    "duration": 4,
    "start_time": "2022-11-01T19:08:10.922Z"
   },
   {
    "duration": 7,
    "start_time": "2022-11-01T19:08:12.260Z"
   },
   {
    "duration": 76,
    "start_time": "2022-11-01T19:08:12.443Z"
   },
   {
    "duration": 5,
    "start_time": "2022-11-01T19:08:13.850Z"
   },
   {
    "duration": 38012,
    "start_time": "2022-11-01T19:08:14.227Z"
   },
   {
    "duration": 0,
    "start_time": "2022-11-01T19:08:52.241Z"
   },
   {
    "duration": 1900,
    "start_time": "2022-11-01T19:13:49.613Z"
   },
   {
    "duration": 1005,
    "start_time": "2022-11-01T19:13:51.515Z"
   },
   {
    "duration": 141,
    "start_time": "2022-11-01T19:13:52.523Z"
   },
   {
    "duration": 15,
    "start_time": "2022-11-01T19:13:52.667Z"
   },
   {
    "duration": 597,
    "start_time": "2022-11-01T19:13:52.685Z"
   },
   {
    "duration": 40,
    "start_time": "2022-11-01T19:13:53.284Z"
   },
   {
    "duration": 224,
    "start_time": "2022-11-01T19:13:53.332Z"
   },
   {
    "duration": 717,
    "start_time": "2022-11-01T19:13:53.558Z"
   },
   {
    "duration": 118,
    "start_time": "2022-11-01T19:13:54.277Z"
   },
   {
    "duration": 94,
    "start_time": "2022-11-01T19:13:54.398Z"
   },
   {
    "duration": 42,
    "start_time": "2022-11-01T19:13:54.494Z"
   },
   {
    "duration": 69,
    "start_time": "2022-11-01T19:13:54.538Z"
   },
   {
    "duration": 51,
    "start_time": "2022-11-01T19:13:54.610Z"
   },
   {
    "duration": 49,
    "start_time": "2022-11-01T19:13:54.662Z"
   },
   {
    "duration": 61,
    "start_time": "2022-11-01T19:13:54.713Z"
   },
   {
    "duration": 67,
    "start_time": "2022-11-01T19:13:54.776Z"
   },
   {
    "duration": 43,
    "start_time": "2022-11-01T19:13:54.844Z"
   },
   {
    "duration": 81,
    "start_time": "2022-11-01T19:13:54.890Z"
   },
   {
    "duration": 38,
    "start_time": "2022-11-01T19:13:54.973Z"
   },
   {
    "duration": 94,
    "start_time": "2022-11-01T19:13:55.013Z"
   },
   {
    "duration": 26,
    "start_time": "2022-11-01T19:13:55.110Z"
   },
   {
    "duration": 428,
    "start_time": "2022-11-01T19:13:55.139Z"
   },
   {
    "duration": 458,
    "start_time": "2022-11-01T19:13:55.570Z"
   },
   {
    "duration": 14,
    "start_time": "2022-11-01T19:13:56.032Z"
   },
   {
    "duration": 412,
    "start_time": "2022-11-01T19:13:56.049Z"
   },
   {
    "duration": 7,
    "start_time": "2022-11-01T19:13:56.463Z"
   },
   {
    "duration": 191,
    "start_time": "2022-11-01T19:13:56.472Z"
   },
   {
    "duration": 25,
    "start_time": "2022-11-01T19:13:56.666Z"
   },
   {
    "duration": 4,
    "start_time": "2022-11-01T19:13:56.783Z"
   },
   {
    "duration": 3,
    "start_time": "2022-11-01T19:13:56.987Z"
   },
   {
    "duration": 10,
    "start_time": "2022-11-01T19:13:58.025Z"
   },
   {
    "duration": 92,
    "start_time": "2022-11-01T19:13:58.204Z"
   },
   {
    "duration": 4,
    "start_time": "2022-11-01T19:13:59.211Z"
   },
   {
    "duration": 1641,
    "start_time": "2022-11-01T19:16:38.845Z"
   },
   {
    "duration": 993,
    "start_time": "2022-11-01T19:16:40.487Z"
   },
   {
    "duration": 157,
    "start_time": "2022-11-01T19:16:41.482Z"
   },
   {
    "duration": 17,
    "start_time": "2022-11-01T19:16:41.642Z"
   },
   {
    "duration": 495,
    "start_time": "2022-11-01T19:16:41.663Z"
   },
   {
    "duration": 35,
    "start_time": "2022-11-01T19:16:42.160Z"
   },
   {
    "duration": 258,
    "start_time": "2022-11-01T19:16:42.197Z"
   },
   {
    "duration": 478,
    "start_time": "2022-11-01T19:16:42.457Z"
   },
   {
    "duration": 76,
    "start_time": "2022-11-01T19:16:42.937Z"
   },
   {
    "duration": 79,
    "start_time": "2022-11-01T19:16:43.016Z"
   },
   {
    "duration": 44,
    "start_time": "2022-11-01T19:16:43.097Z"
   },
   {
    "duration": 55,
    "start_time": "2022-11-01T19:16:43.143Z"
   },
   {
    "duration": 52,
    "start_time": "2022-11-01T19:16:43.200Z"
   },
   {
    "duration": 56,
    "start_time": "2022-11-01T19:16:43.253Z"
   },
   {
    "duration": 46,
    "start_time": "2022-11-01T19:16:43.311Z"
   },
   {
    "duration": 84,
    "start_time": "2022-11-01T19:16:43.359Z"
   },
   {
    "duration": 51,
    "start_time": "2022-11-01T19:16:43.445Z"
   },
   {
    "duration": 62,
    "start_time": "2022-11-01T19:16:43.499Z"
   },
   {
    "duration": 35,
    "start_time": "2022-11-01T19:16:43.578Z"
   },
   {
    "duration": 47,
    "start_time": "2022-11-01T19:16:43.792Z"
   },
   {
    "duration": 15,
    "start_time": "2022-11-01T19:16:44.548Z"
   },
   {
    "duration": 340,
    "start_time": "2022-11-01T19:16:44.730Z"
   },
   {
    "duration": 402,
    "start_time": "2022-11-01T19:16:45.073Z"
   },
   {
    "duration": 13,
    "start_time": "2022-11-01T19:16:45.477Z"
   },
   {
    "duration": 389,
    "start_time": "2022-11-01T19:16:45.492Z"
   },
   {
    "duration": 7,
    "start_time": "2022-11-01T19:16:45.883Z"
   },
   {
    "duration": 164,
    "start_time": "2022-11-01T19:16:47.213Z"
   },
   {
    "duration": 27,
    "start_time": "2022-11-01T19:16:47.635Z"
   },
   {
    "duration": 4,
    "start_time": "2022-11-01T19:16:47.998Z"
   },
   {
    "duration": 12,
    "start_time": "2022-11-01T19:16:48.377Z"
   },
   {
    "duration": 7,
    "start_time": "2022-11-01T19:16:49.877Z"
   },
   {
    "duration": 62,
    "start_time": "2022-11-01T19:16:50.063Z"
   },
   {
    "duration": 4,
    "start_time": "2022-11-01T19:16:51.980Z"
   },
   {
    "duration": 1697,
    "start_time": "2022-11-01T19:24:57.360Z"
   },
   {
    "duration": 1226,
    "start_time": "2022-11-01T19:24:59.988Z"
   },
   {
    "duration": 216,
    "start_time": "2022-11-01T19:25:01.217Z"
   },
   {
    "duration": 39,
    "start_time": "2022-11-01T19:25:01.438Z"
   },
   {
    "duration": 620,
    "start_time": "2022-11-01T19:25:01.479Z"
   },
   {
    "duration": 42,
    "start_time": "2022-11-01T19:25:02.101Z"
   },
   {
    "duration": 257,
    "start_time": "2022-11-01T19:25:02.146Z"
   },
   {
    "duration": 492,
    "start_time": "2022-11-01T19:25:02.405Z"
   },
   {
    "duration": 117,
    "start_time": "2022-11-01T19:25:02.899Z"
   },
   {
    "duration": 82,
    "start_time": "2022-11-01T19:25:03.020Z"
   },
   {
    "duration": 68,
    "start_time": "2022-11-01T19:25:03.104Z"
   },
   {
    "duration": 105,
    "start_time": "2022-11-01T19:25:03.175Z"
   },
   {
    "duration": 56,
    "start_time": "2022-11-01T19:25:03.283Z"
   },
   {
    "duration": 83,
    "start_time": "2022-11-01T19:25:03.341Z"
   },
   {
    "duration": 44,
    "start_time": "2022-11-01T19:25:03.427Z"
   },
   {
    "duration": 68,
    "start_time": "2022-11-01T19:25:03.473Z"
   },
   {
    "duration": 72,
    "start_time": "2022-11-01T19:25:03.542Z"
   },
   {
    "duration": 67,
    "start_time": "2022-11-01T19:25:03.727Z"
   },
   {
    "duration": 31,
    "start_time": "2022-11-01T19:25:03.929Z"
   },
   {
    "duration": 69,
    "start_time": "2022-11-01T19:25:04.086Z"
   },
   {
    "duration": 12,
    "start_time": "2022-11-01T19:25:04.637Z"
   },
   {
    "duration": 343,
    "start_time": "2022-11-01T19:25:04.800Z"
   },
   {
    "duration": 376,
    "start_time": "2022-11-01T19:25:05.144Z"
   },
   {
    "duration": 20,
    "start_time": "2022-11-01T19:25:05.522Z"
   },
   {
    "duration": 453,
    "start_time": "2022-11-01T19:25:05.544Z"
   },
   {
    "duration": 7,
    "start_time": "2022-11-01T19:25:06.000Z"
   },
   {
    "duration": 160,
    "start_time": "2022-11-01T19:25:06.112Z"
   },
   {
    "duration": 28,
    "start_time": "2022-11-01T19:25:06.307Z"
   },
   {
    "duration": 3,
    "start_time": "2022-11-01T19:25:06.496Z"
   },
   {
    "duration": 3,
    "start_time": "2022-11-01T19:25:06.669Z"
   },
   {
    "duration": 8,
    "start_time": "2022-11-01T19:25:10.186Z"
   },
   {
    "duration": 25,
    "start_time": "2022-11-01T19:25:10.375Z"
   },
   {
    "duration": 3,
    "start_time": "2022-11-01T19:25:10.547Z"
   },
   {
    "duration": 2,
    "start_time": "2022-11-01T19:25:10.991Z"
   },
   {
    "duration": 6,
    "start_time": "2022-11-01T19:25:12.425Z"
   },
   {
    "duration": 74,
    "start_time": "2022-11-01T19:25:12.698Z"
   },
   {
    "duration": 4,
    "start_time": "2022-11-01T19:25:14.647Z"
   },
   {
    "duration": 1688,
    "start_time": "2022-11-01T19:38:17.522Z"
   },
   {
    "duration": 894,
    "start_time": "2022-11-01T19:38:19.213Z"
   },
   {
    "duration": 132,
    "start_time": "2022-11-01T19:38:20.108Z"
   },
   {
    "duration": 15,
    "start_time": "2022-11-01T19:38:20.243Z"
   },
   {
    "duration": 476,
    "start_time": "2022-11-01T19:38:20.259Z"
   },
   {
    "duration": 39,
    "start_time": "2022-11-01T19:38:20.737Z"
   },
   {
    "duration": 248,
    "start_time": "2022-11-01T19:38:20.778Z"
   },
   {
    "duration": 455,
    "start_time": "2022-11-01T19:38:21.027Z"
   },
   {
    "duration": 78,
    "start_time": "2022-11-01T19:38:21.484Z"
   },
   {
    "duration": 76,
    "start_time": "2022-11-01T19:38:21.564Z"
   },
   {
    "duration": 30,
    "start_time": "2022-11-01T19:38:21.642Z"
   },
   {
    "duration": 66,
    "start_time": "2022-11-01T19:38:21.674Z"
   },
   {
    "duration": 30,
    "start_time": "2022-11-01T19:38:21.743Z"
   },
   {
    "duration": 58,
    "start_time": "2022-11-01T19:38:21.775Z"
   },
   {
    "duration": 29,
    "start_time": "2022-11-01T19:38:21.835Z"
   },
   {
    "duration": 52,
    "start_time": "2022-11-01T19:38:21.866Z"
   },
   {
    "duration": 32,
    "start_time": "2022-11-01T19:38:21.932Z"
   },
   {
    "duration": 44,
    "start_time": "2022-11-01T19:38:22.002Z"
   },
   {
    "duration": 35,
    "start_time": "2022-11-01T19:38:22.232Z"
   },
   {
    "duration": 50,
    "start_time": "2022-11-01T19:38:22.390Z"
   },
   {
    "duration": 12,
    "start_time": "2022-11-01T19:38:22.957Z"
   },
   {
    "duration": 317,
    "start_time": "2022-11-01T19:38:23.159Z"
   },
   {
    "duration": 317,
    "start_time": "2022-11-01T19:38:23.478Z"
   },
   {
    "duration": 12,
    "start_time": "2022-11-01T19:38:23.880Z"
   },
   {
    "duration": 407,
    "start_time": "2022-11-01T19:38:24.303Z"
   },
   {
    "duration": 6,
    "start_time": "2022-11-01T19:38:24.712Z"
   },
   {
    "duration": 166,
    "start_time": "2022-11-01T19:38:25.227Z"
   },
   {
    "duration": 25,
    "start_time": "2022-11-01T19:38:25.598Z"
   },
   {
    "duration": 3,
    "start_time": "2022-11-01T19:38:25.929Z"
   },
   {
    "duration": 2,
    "start_time": "2022-11-01T19:38:26.310Z"
   },
   {
    "duration": 6,
    "start_time": "2022-11-01T19:38:28.279Z"
   },
   {
    "duration": 68,
    "start_time": "2022-11-01T19:38:28.682Z"
   },
   {
    "duration": 3,
    "start_time": "2022-11-01T19:38:31.606Z"
   },
   {
    "duration": 333017,
    "start_time": "2022-11-01T19:38:32.659Z"
   },
   {
    "duration": 330454,
    "start_time": "2022-11-01T19:46:39.228Z"
   },
   {
    "duration": 301074,
    "start_time": "2022-11-01T19:55:39.472Z"
   },
   {
    "duration": 271368,
    "start_time": "2022-11-01T20:01:52.466Z"
   },
   {
    "duration": 12,
    "start_time": "2022-11-01T20:07:25.755Z"
   },
   {
    "duration": 5,
    "start_time": "2022-11-01T20:07:41.457Z"
   },
   {
    "duration": 11,
    "start_time": "2022-11-01T20:07:45.342Z"
   },
   {
    "duration": 11,
    "start_time": "2022-11-01T20:08:14.566Z"
   },
   {
    "duration": 13,
    "start_time": "2022-11-01T20:09:17.083Z"
   },
   {
    "duration": 11,
    "start_time": "2022-11-01T20:11:17.100Z"
   },
   {
    "duration": 4,
    "start_time": "2022-11-01T20:11:32.179Z"
   },
   {
    "duration": 11,
    "start_time": "2022-11-01T20:11:37.414Z"
   },
   {
    "duration": 345,
    "start_time": "2022-11-01T20:15:04.389Z"
   },
   {
    "duration": 11,
    "start_time": "2022-11-01T20:19:22.362Z"
   },
   {
    "duration": 5,
    "start_time": "2022-11-01T20:19:32.383Z"
   },
   {
    "duration": 295446,
    "start_time": "2022-11-01T20:19:37.692Z"
   },
   {
    "duration": 265095,
    "start_time": "2022-11-01T20:30:20.446Z"
   },
   {
    "duration": 325428,
    "start_time": "2022-11-01T20:40:51.753Z"
   },
   {
    "duration": 273677,
    "start_time": "2022-11-01T20:46:54.884Z"
   },
   {
    "duration": 4,
    "start_time": "2022-11-01T20:51:44.938Z"
   },
   {
    "duration": 13,
    "start_time": "2022-11-01T20:51:53.563Z"
   },
   {
    "duration": 12,
    "start_time": "2022-11-01T20:52:57.382Z"
   },
   {
    "duration": 13,
    "start_time": "2022-11-01T20:53:20.003Z"
   },
   {
    "duration": 384,
    "start_time": "2022-11-01T20:53:26.526Z"
   },
   {
    "duration": 3,
    "start_time": "2022-11-01T21:50:26.103Z"
   },
   {
    "duration": 3810,
    "start_time": "2022-11-01T21:50:28.171Z"
   },
   {
    "duration": 132,
    "start_time": "2022-11-01T21:50:33.110Z"
   },
   {
    "duration": 15,
    "start_time": "2022-11-01T21:50:33.908Z"
   },
   {
    "duration": 523,
    "start_time": "2022-11-01T21:50:36.091Z"
   },
   {
    "duration": 38,
    "start_time": "2022-11-01T21:50:38.915Z"
   },
   {
    "duration": 223,
    "start_time": "2022-11-01T21:50:40.019Z"
   },
   {
    "duration": 484,
    "start_time": "2022-11-01T21:50:40.425Z"
   },
   {
    "duration": 68,
    "start_time": "2022-11-01T21:50:40.944Z"
   },
   {
    "duration": 75,
    "start_time": "2022-11-01T21:51:11.562Z"
   },
   {
    "duration": 89,
    "start_time": "2022-11-01T21:54:24.205Z"
   },
   {
    "duration": 31,
    "start_time": "2022-11-01T21:54:25.004Z"
   },
   {
    "duration": 43,
    "start_time": "2022-11-01T21:54:26.468Z"
   },
   {
    "duration": 28,
    "start_time": "2022-11-01T21:54:27.111Z"
   },
   {
    "duration": 47,
    "start_time": "2022-11-01T21:54:34.059Z"
   },
   {
    "duration": 38,
    "start_time": "2022-11-01T21:54:34.766Z"
   },
   {
    "duration": 51,
    "start_time": "2022-11-01T21:54:35.325Z"
   },
   {
    "duration": 38,
    "start_time": "2022-11-01T21:54:35.788Z"
   },
   {
    "duration": 71,
    "start_time": "2022-11-01T21:54:36.303Z"
   },
   {
    "duration": 34,
    "start_time": "2022-11-01T21:54:36.883Z"
   },
   {
    "duration": 44,
    "start_time": "2022-11-01T21:54:37.579Z"
   },
   {
    "duration": 11,
    "start_time": "2022-11-01T21:55:53.360Z"
   },
   {
    "duration": 298,
    "start_time": "2022-11-01T21:55:56.650Z"
   },
   {
    "duration": 331,
    "start_time": "2022-11-01T21:55:57.463Z"
   },
   {
    "duration": 13,
    "start_time": "2022-11-01T21:56:00.661Z"
   },
   {
    "duration": 355,
    "start_time": "2022-11-01T21:56:10.467Z"
   },
   {
    "duration": 8,
    "start_time": "2022-11-01T21:56:11.719Z"
   },
   {
    "duration": 151,
    "start_time": "2022-11-01T21:58:07.146Z"
   },
   {
    "duration": 25,
    "start_time": "2022-11-01T21:58:09.249Z"
   },
   {
    "duration": 3,
    "start_time": "2022-11-01T21:58:09.860Z"
   },
   {
    "duration": 7,
    "start_time": "2022-11-01T21:58:49.864Z"
   },
   {
    "duration": 25,
    "start_time": "2022-11-01T21:58:50.180Z"
   },
   {
    "duration": 5,
    "start_time": "2022-11-01T21:58:55.859Z"
   },
   {
    "duration": 54,
    "start_time": "2022-11-01T21:58:56.393Z"
   },
   {
    "duration": 5,
    "start_time": "2022-11-01T21:59:00.131Z"
   },
   {
    "duration": 328068,
    "start_time": "2022-11-01T21:59:12.207Z"
   },
   {
    "duration": 662046,
    "start_time": "2022-11-01T22:05:47.397Z"
   },
   {
    "duration": 12,
    "start_time": "2022-11-01T22:17:09.267Z"
   },
   {
    "duration": 354,
    "start_time": "2022-11-01T22:17:13.551Z"
   },
   {
    "duration": 1676,
    "start_time": "2022-11-04T11:51:00.691Z"
   },
   {
    "duration": 3081,
    "start_time": "2022-11-04T11:51:02.372Z"
   },
   {
    "duration": 133,
    "start_time": "2022-11-04T11:51:05.455Z"
   },
   {
    "duration": 15,
    "start_time": "2022-11-04T11:51:06.331Z"
   },
   {
    "duration": 515,
    "start_time": "2022-11-04T11:51:07.943Z"
   },
   {
    "duration": 30,
    "start_time": "2022-11-04T11:51:10.374Z"
   },
   {
    "duration": 204,
    "start_time": "2022-11-04T11:51:12.555Z"
   },
   {
    "duration": 426,
    "start_time": "2022-11-04T11:51:13.114Z"
   },
   {
    "duration": 68,
    "start_time": "2022-11-04T11:51:13.840Z"
   },
   {
    "duration": 75,
    "start_time": "2022-11-04T11:51:16.303Z"
   },
   {
    "duration": 39,
    "start_time": "2022-11-04T11:51:16.728Z"
   },
   {
    "duration": 46,
    "start_time": "2022-11-04T11:51:17.393Z"
   },
   {
    "duration": 29,
    "start_time": "2022-11-04T11:51:17.889Z"
   },
   {
    "duration": 42,
    "start_time": "2022-11-04T11:51:18.414Z"
   },
   {
    "duration": 33,
    "start_time": "2022-11-04T11:51:18.849Z"
   },
   {
    "duration": 44,
    "start_time": "2022-11-04T11:51:19.326Z"
   },
   {
    "duration": 36,
    "start_time": "2022-11-04T11:51:19.784Z"
   },
   {
    "duration": 53,
    "start_time": "2022-11-04T11:51:20.258Z"
   },
   {
    "duration": 44,
    "start_time": "2022-11-04T11:51:20.795Z"
   },
   {
    "duration": 52,
    "start_time": "2022-11-04T11:51:21.227Z"
   },
   {
    "duration": 11,
    "start_time": "2022-11-04T11:51:23.567Z"
   },
   {
    "duration": 310,
    "start_time": "2022-11-04T11:51:24.358Z"
   },
   {
    "duration": 322,
    "start_time": "2022-11-04T11:51:24.992Z"
   },
   {
    "duration": 14,
    "start_time": "2022-11-04T11:51:25.571Z"
   },
   {
    "duration": 405,
    "start_time": "2022-11-04T11:51:26.132Z"
   },
   {
    "duration": 7,
    "start_time": "2022-11-04T11:51:27.204Z"
   },
   {
    "duration": 154,
    "start_time": "2022-11-04T11:51:30.041Z"
   },
   {
    "duration": 26,
    "start_time": "2022-11-04T11:51:30.728Z"
   },
   {
    "duration": 6,
    "start_time": "2022-11-04T11:51:33.700Z"
   },
   {
    "duration": 65,
    "start_time": "2022-11-04T11:51:34.380Z"
   },
   {
    "duration": 4,
    "start_time": "2022-11-04T11:51:42.891Z"
   },
   {
    "duration": 21,
    "start_time": "2022-11-04T11:54:11.507Z"
   },
   {
    "duration": 208,
    "start_time": "2022-11-04T11:56:39.727Z"
   },
   {
    "duration": 34,
    "start_time": "2022-11-04T12:02:14.351Z"
   },
   {
    "duration": 3,
    "start_time": "2022-11-04T12:02:29.303Z"
   },
   {
    "duration": 1670,
    "start_time": "2022-11-04T12:02:30.392Z"
   },
   {
    "duration": 126,
    "start_time": "2022-11-04T12:02:32.064Z"
   },
   {
    "duration": 14,
    "start_time": "2022-11-04T12:02:38.824Z"
   },
   {
    "duration": 471,
    "start_time": "2022-11-04T12:02:39.877Z"
   },
   {
    "duration": 36,
    "start_time": "2022-11-04T12:02:40.436Z"
   },
   {
    "duration": 238,
    "start_time": "2022-11-04T12:02:40.837Z"
   },
   {
    "duration": 490,
    "start_time": "2022-11-04T12:02:41.077Z"
   },
   {
    "duration": 88,
    "start_time": "2022-11-04T12:02:41.569Z"
   },
   {
    "duration": 68,
    "start_time": "2022-11-04T12:02:42.147Z"
   },
   {
    "duration": 30,
    "start_time": "2022-11-04T12:02:42.335Z"
   },
   {
    "duration": 47,
    "start_time": "2022-11-04T12:02:42.536Z"
   },
   {
    "duration": 33,
    "start_time": "2022-11-04T12:02:42.743Z"
   },
   {
    "duration": 49,
    "start_time": "2022-11-04T12:02:42.941Z"
   },
   {
    "duration": 31,
    "start_time": "2022-11-04T12:02:43.128Z"
   },
   {
    "duration": 50,
    "start_time": "2022-11-04T12:02:43.312Z"
   },
   {
    "duration": 35,
    "start_time": "2022-11-04T12:02:43.524Z"
   },
   {
    "duration": 49,
    "start_time": "2022-11-04T12:02:43.704Z"
   },
   {
    "duration": 31,
    "start_time": "2022-11-04T12:02:43.928Z"
   },
   {
    "duration": 47,
    "start_time": "2022-11-04T12:02:44.099Z"
   },
   {
    "duration": 12,
    "start_time": "2022-11-04T12:02:45.608Z"
   },
   {
    "duration": 315,
    "start_time": "2022-11-04T12:02:46.087Z"
   },
   {
    "duration": 314,
    "start_time": "2022-11-04T12:02:46.405Z"
   },
   {
    "duration": 99,
    "start_time": "2022-11-04T12:02:46.756Z"
   },
   {
    "duration": 325,
    "start_time": "2022-11-04T12:02:46.986Z"
   },
   {
    "duration": 7,
    "start_time": "2022-11-04T12:02:47.552Z"
   },
   {
    "duration": 81,
    "start_time": "2022-11-04T12:02:49.324Z"
   },
   {
    "duration": 163,
    "start_time": "2022-11-04T12:02:55.049Z"
   },
   {
    "duration": 29,
    "start_time": "2022-11-04T12:02:57.026Z"
   },
   {
    "duration": 22,
    "start_time": "2022-11-04T12:04:35.381Z"
   },
   {
    "duration": 67,
    "start_time": "2022-11-04T12:04:36.106Z"
   },
   {
    "duration": 124,
    "start_time": "2022-11-04T12:04:36.587Z"
   },
   {
    "duration": 83,
    "start_time": "2022-11-04T12:04:56.155Z"
   },
   {
    "duration": 1265,
    "start_time": "2022-11-04T12:09:10.300Z"
   },
   {
    "duration": 9,
    "start_time": "2022-11-04T12:09:13.224Z"
   },
   {
    "duration": 26,
    "start_time": "2022-11-04T12:09:13.895Z"
   },
   {
    "duration": 610,
    "start_time": "2022-11-04T12:09:17.232Z"
   },
   {
    "duration": 57,
    "start_time": "2022-11-04T12:09:18.087Z"
   },
   {
    "duration": 541,
    "start_time": "2022-11-04T12:09:19.224Z"
   },
   {
    "duration": 3,
    "start_time": "2022-11-04T12:09:24.046Z"
   },
   {
    "duration": 22594,
    "start_time": "2022-11-04T12:09:27.538Z"
   },
   {
    "duration": 23448,
    "start_time": "2022-11-04T12:14:05.285Z"
   },
   {
    "duration": 39,
    "start_time": "2022-11-04T12:17:27.663Z"
   },
   {
    "duration": 1679,
    "start_time": "2022-11-04T12:32:01.333Z"
   },
   {
    "duration": 4,
    "start_time": "2022-11-04T12:32:05.640Z"
   },
   {
    "duration": 1623,
    "start_time": "2022-11-04T12:32:06.975Z"
   },
   {
    "duration": 129,
    "start_time": "2022-11-04T12:32:08.599Z"
   },
   {
    "duration": 13,
    "start_time": "2022-11-04T12:32:08.730Z"
   },
   {
    "duration": 499,
    "start_time": "2022-11-04T12:32:08.745Z"
   },
   {
    "duration": 40,
    "start_time": "2022-11-04T12:32:09.628Z"
   },
   {
    "duration": 226,
    "start_time": "2022-11-04T12:32:10.015Z"
   },
   {
    "duration": 458,
    "start_time": "2022-11-04T12:32:10.244Z"
   },
   {
    "duration": 90,
    "start_time": "2022-11-04T12:32:10.704Z"
   },
   {
    "duration": 83,
    "start_time": "2022-11-04T12:32:11.561Z"
   },
   {
    "duration": 33,
    "start_time": "2022-11-04T12:32:11.728Z"
   },
   {
    "duration": 48,
    "start_time": "2022-11-04T12:32:11.924Z"
   },
   {
    "duration": 28,
    "start_time": "2022-11-04T12:32:12.124Z"
   },
   {
    "duration": 46,
    "start_time": "2022-11-04T12:32:12.327Z"
   },
   {
    "duration": 31,
    "start_time": "2022-11-04T12:32:12.543Z"
   },
   {
    "duration": 49,
    "start_time": "2022-11-04T12:32:12.724Z"
   },
   {
    "duration": 29,
    "start_time": "2022-11-04T12:32:12.926Z"
   },
   {
    "duration": 46,
    "start_time": "2022-11-04T12:32:13.135Z"
   },
   {
    "duration": 27,
    "start_time": "2022-11-04T12:32:13.309Z"
   },
   {
    "duration": 43,
    "start_time": "2022-11-04T12:32:13.496Z"
   },
   {
    "duration": 12,
    "start_time": "2022-11-04T12:32:14.749Z"
   },
   {
    "duration": 333,
    "start_time": "2022-11-04T12:32:15.066Z"
   },
   {
    "duration": 420,
    "start_time": "2022-11-04T12:32:15.451Z"
   },
   {
    "duration": 12,
    "start_time": "2022-11-04T12:32:15.873Z"
   },
   {
    "duration": 321,
    "start_time": "2022-11-04T12:32:15.909Z"
   },
   {
    "duration": 7,
    "start_time": "2022-11-04T12:32:16.233Z"
   },
   {
    "duration": 105,
    "start_time": "2022-11-04T12:32:17.694Z"
   },
   {
    "duration": 1041,
    "start_time": "2022-11-04T12:32:18.137Z"
   },
   {
    "duration": 150,
    "start_time": "2022-11-04T12:32:19.695Z"
   },
   {
    "duration": 26,
    "start_time": "2022-11-04T12:32:20.289Z"
   },
   {
    "duration": 210,
    "start_time": "2022-11-04T12:32:22.712Z"
   },
   {
    "duration": 66,
    "start_time": "2022-11-04T12:32:23.487Z"
   },
   {
    "duration": 456,
    "start_time": "2022-11-04T12:32:24.557Z"
   },
   {
    "duration": 4,
    "start_time": "2022-11-04T12:32:27.283Z"
   },
   {
    "duration": 1655,
    "start_time": "2022-11-04T13:11:54.627Z"
   },
   {
    "duration": 1830,
    "start_time": "2022-11-04T13:11:56.284Z"
   },
   {
    "duration": 147,
    "start_time": "2022-11-04T13:11:58.116Z"
   },
   {
    "duration": 20,
    "start_time": "2022-11-04T13:11:58.266Z"
   },
   {
    "duration": 570,
    "start_time": "2022-11-04T13:11:58.289Z"
   },
   {
    "duration": 40,
    "start_time": "2022-11-04T13:11:58.861Z"
   },
   {
    "duration": 229,
    "start_time": "2022-11-04T13:11:58.903Z"
   },
   {
    "duration": 479,
    "start_time": "2022-11-04T13:11:59.133Z"
   },
   {
    "duration": 75,
    "start_time": "2022-11-04T13:11:59.614Z"
   },
   {
    "duration": 80,
    "start_time": "2022-11-04T13:11:59.692Z"
   },
   {
    "duration": 31,
    "start_time": "2022-11-04T13:11:59.773Z"
   },
   {
    "duration": 65,
    "start_time": "2022-11-04T13:11:59.806Z"
   },
   {
    "duration": 28,
    "start_time": "2022-11-04T13:11:59.873Z"
   },
   {
    "duration": 77,
    "start_time": "2022-11-04T13:11:59.994Z"
   },
   {
    "duration": 33,
    "start_time": "2022-11-04T13:12:00.181Z"
   },
   {
    "duration": 54,
    "start_time": "2022-11-04T13:12:00.387Z"
   },
   {
    "duration": 30,
    "start_time": "2022-11-04T13:12:00.556Z"
   },
   {
    "duration": 48,
    "start_time": "2022-11-04T13:12:00.780Z"
   },
   {
    "duration": 39,
    "start_time": "2022-11-04T13:12:01.010Z"
   },
   {
    "duration": 78,
    "start_time": "2022-11-04T13:12:01.428Z"
   },
   {
    "duration": 17,
    "start_time": "2022-11-04T13:12:02.461Z"
   },
   {
    "duration": 388,
    "start_time": "2022-11-04T13:12:02.668Z"
   },
   {
    "duration": 501,
    "start_time": "2022-11-04T13:12:03.059Z"
   },
   {
    "duration": 13,
    "start_time": "2022-11-04T13:12:03.563Z"
   },
   {
    "duration": 353,
    "start_time": "2022-11-04T13:12:03.578Z"
   },
   {
    "duration": 7,
    "start_time": "2022-11-04T13:12:03.934Z"
   },
   {
    "duration": 95,
    "start_time": "2022-11-04T13:12:04.271Z"
   },
   {
    "duration": 1161,
    "start_time": "2022-11-04T13:12:04.494Z"
   },
   {
    "duration": 158,
    "start_time": "2022-11-04T13:12:05.658Z"
   },
   {
    "duration": 26,
    "start_time": "2022-11-04T13:12:06.131Z"
   },
   {
    "duration": 224,
    "start_time": "2022-11-04T13:12:08.476Z"
   },
   {
    "duration": 79,
    "start_time": "2022-11-04T13:12:09.025Z"
   },
   {
    "duration": 545,
    "start_time": "2022-11-04T13:12:09.610Z"
   },
   {
    "duration": 4,
    "start_time": "2022-11-04T13:12:11.864Z"
   },
   {
    "duration": 1691,
    "start_time": "2022-11-04T13:30:23.978Z"
   },
   {
    "duration": 932,
    "start_time": "2022-11-04T13:30:25.671Z"
   },
   {
    "duration": 143,
    "start_time": "2022-11-04T13:30:26.605Z"
   },
   {
    "duration": 17,
    "start_time": "2022-11-04T13:30:26.750Z"
   },
   {
    "duration": 585,
    "start_time": "2022-11-04T13:30:26.770Z"
   },
   {
    "duration": 52,
    "start_time": "2022-11-04T13:30:27.358Z"
   },
   {
    "duration": 239,
    "start_time": "2022-11-04T13:30:27.650Z"
   },
   {
    "duration": 551,
    "start_time": "2022-11-04T13:30:27.892Z"
   },
   {
    "duration": 75,
    "start_time": "2022-11-04T13:30:28.445Z"
   },
   {
    "duration": 67,
    "start_time": "2022-11-04T13:30:29.065Z"
   },
   {
    "duration": 30,
    "start_time": "2022-11-04T13:30:29.348Z"
   },
   {
    "duration": 69,
    "start_time": "2022-11-04T13:30:29.598Z"
   },
   {
    "duration": 53,
    "start_time": "2022-11-04T13:30:29.845Z"
   },
   {
    "duration": 45,
    "start_time": "2022-11-04T13:30:30.291Z"
   },
   {
    "duration": 45,
    "start_time": "2022-11-04T13:30:30.522Z"
   },
   {
    "duration": 50,
    "start_time": "2022-11-04T13:30:30.726Z"
   },
   {
    "duration": 50,
    "start_time": "2022-11-04T13:30:30.922Z"
   },
   {
    "duration": 79,
    "start_time": "2022-11-04T13:30:31.139Z"
   },
   {
    "duration": 37,
    "start_time": "2022-11-04T13:30:31.351Z"
   },
   {
    "duration": 57,
    "start_time": "2022-11-04T13:30:31.557Z"
   },
   {
    "duration": 12,
    "start_time": "2022-11-04T13:30:33.662Z"
   },
   {
    "duration": 361,
    "start_time": "2022-11-04T13:30:33.879Z"
   },
   {
    "duration": 467,
    "start_time": "2022-11-04T13:30:34.243Z"
   },
   {
    "duration": 20,
    "start_time": "2022-11-04T13:30:34.712Z"
   },
   {
    "duration": 382,
    "start_time": "2022-11-04T13:30:34.773Z"
   },
   {
    "duration": 10,
    "start_time": "2022-11-04T13:30:35.158Z"
   },
   {
    "duration": 107,
    "start_time": "2022-11-04T13:30:43.892Z"
   },
   {
    "duration": 1077,
    "start_time": "2022-11-04T13:30:44.098Z"
   },
   {
    "duration": 170,
    "start_time": "2022-11-04T13:30:45.178Z"
   },
   {
    "duration": 26,
    "start_time": "2022-11-04T13:30:45.351Z"
   },
   {
    "duration": 232,
    "start_time": "2022-11-04T13:30:46.622Z"
   },
   {
    "duration": 75,
    "start_time": "2022-11-04T13:30:46.857Z"
   },
   {
    "duration": 479,
    "start_time": "2022-11-04T13:30:47.122Z"
   },
   {
    "duration": 4,
    "start_time": "2022-11-04T13:30:51.886Z"
   },
   {
    "duration": 404941,
    "start_time": "2022-11-04T13:30:53.088Z"
   },
   {
    "duration": 733112,
    "start_time": "2022-11-04T13:40:32.446Z"
   },
   {
    "duration": 734821,
    "start_time": "2022-11-04T13:55:02.791Z"
   },
   {
    "duration": 1493,
    "start_time": "2022-11-04T18:20:52.346Z"
   },
   {
    "duration": 2903,
    "start_time": "2022-11-04T18:20:53.841Z"
   },
   {
    "duration": 101,
    "start_time": "2022-11-04T18:20:56.746Z"
   },
   {
    "duration": 14,
    "start_time": "2022-11-04T18:20:56.849Z"
   },
   {
    "duration": 427,
    "start_time": "2022-11-04T18:20:56.864Z"
   },
   {
    "duration": 34,
    "start_time": "2022-11-04T18:20:57.293Z"
   },
   {
    "duration": 223,
    "start_time": "2022-11-04T18:20:57.328Z"
   },
   {
    "duration": 400,
    "start_time": "2022-11-04T18:20:57.552Z"
   },
   {
    "duration": 74,
    "start_time": "2022-11-04T18:20:57.953Z"
   },
   {
    "duration": 76,
    "start_time": "2022-11-04T18:20:58.029Z"
   },
   {
    "duration": 23,
    "start_time": "2022-11-04T18:20:58.107Z"
   },
   {
    "duration": 41,
    "start_time": "2022-11-04T18:20:58.132Z"
   },
   {
    "duration": 32,
    "start_time": "2022-11-04T18:20:58.174Z"
   },
   {
    "duration": 40,
    "start_time": "2022-11-04T18:20:58.208Z"
   },
   {
    "duration": 35,
    "start_time": "2022-11-04T18:20:58.250Z"
   },
   {
    "duration": 40,
    "start_time": "2022-11-04T18:20:58.351Z"
   },
   {
    "duration": 25,
    "start_time": "2022-11-04T18:20:58.978Z"
   },
   {
    "duration": 37,
    "start_time": "2022-11-04T18:20:59.180Z"
   },
   {
    "duration": 26,
    "start_time": "2022-11-04T18:20:59.370Z"
   },
   {
    "duration": 39,
    "start_time": "2022-11-04T18:20:59.578Z"
   },
   {
    "duration": 10,
    "start_time": "2022-11-04T18:21:00.585Z"
   },
   {
    "duration": 266,
    "start_time": "2022-11-04T18:21:01.002Z"
   },
   {
    "duration": 305,
    "start_time": "2022-11-04T18:21:01.377Z"
   },
   {
    "duration": 9,
    "start_time": "2022-11-04T18:21:01.684Z"
   },
   {
    "duration": 248,
    "start_time": "2022-11-04T18:21:01.810Z"
   },
   {
    "duration": 5,
    "start_time": "2022-11-04T18:21:02.060Z"
   },
   {
    "duration": 84,
    "start_time": "2022-11-04T18:21:03.123Z"
   },
   {
    "duration": 628,
    "start_time": "2022-11-04T18:21:03.327Z"
   },
   {
    "duration": 129,
    "start_time": "2022-11-04T18:21:03.957Z"
   },
   {
    "duration": 25,
    "start_time": "2022-11-04T18:21:04.170Z"
   },
   {
    "duration": 198,
    "start_time": "2022-11-04T18:21:05.251Z"
   },
   {
    "duration": 56,
    "start_time": "2022-11-04T18:21:05.451Z"
   },
   {
    "duration": 392,
    "start_time": "2022-11-04T18:21:06.309Z"
   },
   {
    "duration": 4,
    "start_time": "2022-11-04T18:21:12.199Z"
   },
   {
    "duration": 1424,
    "start_time": "2022-11-04T19:12:08.687Z"
   },
   {
    "duration": 775,
    "start_time": "2022-11-04T19:12:10.113Z"
   },
   {
    "duration": 116,
    "start_time": "2022-11-04T19:12:10.889Z"
   },
   {
    "duration": 13,
    "start_time": "2022-11-04T19:12:11.007Z"
   },
   {
    "duration": 435,
    "start_time": "2022-11-04T19:12:11.021Z"
   },
   {
    "duration": 32,
    "start_time": "2022-11-04T19:12:11.457Z"
   },
   {
    "duration": 209,
    "start_time": "2022-11-04T19:12:11.491Z"
   },
   {
    "duration": 400,
    "start_time": "2022-11-04T19:12:11.701Z"
   },
   {
    "duration": 70,
    "start_time": "2022-11-04T19:12:12.102Z"
   },
   {
    "duration": 58,
    "start_time": "2022-11-04T19:12:12.615Z"
   },
   {
    "duration": 25,
    "start_time": "2022-11-04T19:12:12.818Z"
   },
   {
    "duration": 39,
    "start_time": "2022-11-04T19:12:13.018Z"
   },
   {
    "duration": 27,
    "start_time": "2022-11-04T19:12:13.212Z"
   },
   {
    "duration": 41,
    "start_time": "2022-11-04T19:12:13.447Z"
   },
   {
    "duration": 27,
    "start_time": "2022-11-04T19:12:13.654Z"
   },
   {
    "duration": 37,
    "start_time": "2022-11-04T19:12:14.012Z"
   },
   {
    "duration": 24,
    "start_time": "2022-11-04T19:12:14.196Z"
   },
   {
    "duration": 40,
    "start_time": "2022-11-04T19:12:14.334Z"
   },
   {
    "duration": 25,
    "start_time": "2022-11-04T19:12:14.706Z"
   },
   {
    "duration": 38,
    "start_time": "2022-11-04T19:12:14.915Z"
   },
   {
    "duration": 10,
    "start_time": "2022-11-04T19:12:16.051Z"
   },
   {
    "duration": 240,
    "start_time": "2022-11-04T19:12:16.268Z"
   },
   {
    "duration": 325,
    "start_time": "2022-11-04T19:12:16.510Z"
   },
   {
    "duration": 9,
    "start_time": "2022-11-04T19:12:16.837Z"
   },
   {
    "duration": 249,
    "start_time": "2022-11-04T19:12:16.901Z"
   },
   {
    "duration": 5,
    "start_time": "2022-11-04T19:12:17.152Z"
   },
   {
    "duration": 86,
    "start_time": "2022-11-04T19:12:18.429Z"
   },
   {
    "duration": 663,
    "start_time": "2022-11-04T19:12:18.880Z"
   },
   {
    "duration": 137,
    "start_time": "2022-11-04T19:12:19.545Z"
   },
   {
    "duration": 27,
    "start_time": "2022-11-04T19:12:19.684Z"
   },
   {
    "duration": 198,
    "start_time": "2022-11-04T19:12:20.937Z"
   },
   {
    "duration": 51,
    "start_time": "2022-11-04T19:12:21.169Z"
   },
   {
    "duration": 415,
    "start_time": "2022-11-04T19:12:21.375Z"
   },
   {
    "duration": 3,
    "start_time": "2022-11-04T19:12:24.429Z"
   },
   {
    "duration": 1382,
    "start_time": "2022-11-04T19:30:17.293Z"
   },
   {
    "duration": 724,
    "start_time": "2022-11-04T19:30:19.143Z"
   },
   {
    "duration": 113,
    "start_time": "2022-11-04T19:30:19.869Z"
   },
   {
    "duration": 12,
    "start_time": "2022-11-04T19:30:19.984Z"
   },
   {
    "duration": 403,
    "start_time": "2022-11-04T19:30:20.314Z"
   },
   {
    "duration": 32,
    "start_time": "2022-11-04T19:30:20.873Z"
   },
   {
    "duration": 167,
    "start_time": "2022-11-04T19:30:21.522Z"
   },
   {
    "duration": 363,
    "start_time": "2022-11-04T19:30:21.723Z"
   },
   {
    "duration": 64,
    "start_time": "2022-11-04T19:30:22.088Z"
   },
   {
    "duration": 59,
    "start_time": "2022-11-04T19:30:22.743Z"
   },
   {
    "duration": 25,
    "start_time": "2022-11-04T19:30:22.946Z"
   },
   {
    "duration": 38,
    "start_time": "2022-11-04T19:30:23.156Z"
   },
   {
    "duration": 24,
    "start_time": "2022-11-04T19:30:23.374Z"
   },
   {
    "duration": 36,
    "start_time": "2022-11-04T19:30:23.562Z"
   },
   {
    "duration": 27,
    "start_time": "2022-11-04T19:30:23.753Z"
   },
   {
    "duration": 38,
    "start_time": "2022-11-04T19:30:23.945Z"
   },
   {
    "duration": 24,
    "start_time": "2022-11-04T19:30:24.184Z"
   },
   {
    "duration": 38,
    "start_time": "2022-11-04T19:30:24.375Z"
   },
   {
    "duration": 24,
    "start_time": "2022-11-04T19:30:24.583Z"
   },
   {
    "duration": 38,
    "start_time": "2022-11-04T19:30:25.039Z"
   },
   {
    "duration": 10,
    "start_time": "2022-11-04T19:30:26.376Z"
   },
   {
    "duration": 253,
    "start_time": "2022-11-04T19:30:26.576Z"
   },
   {
    "duration": 328,
    "start_time": "2022-11-04T19:30:26.833Z"
   },
   {
    "duration": 11,
    "start_time": "2022-11-04T19:30:27.162Z"
   },
   {
    "duration": 320,
    "start_time": "2022-11-04T19:30:27.255Z"
   },
   {
    "duration": 6,
    "start_time": "2022-11-04T19:30:27.576Z"
   },
   {
    "duration": 86,
    "start_time": "2022-11-04T19:30:28.438Z"
   },
   {
    "duration": 690,
    "start_time": "2022-11-04T19:30:28.646Z"
   },
   {
    "duration": 131,
    "start_time": "2022-11-04T19:30:29.338Z"
   },
   {
    "duration": 21,
    "start_time": "2022-11-04T19:30:29.504Z"
   },
   {
    "duration": 198,
    "start_time": "2022-11-04T19:30:30.672Z"
   },
   {
    "duration": 53,
    "start_time": "2022-11-04T19:30:30.874Z"
   },
   {
    "duration": 408,
    "start_time": "2022-11-04T19:30:31.096Z"
   },
   {
    "duration": 3,
    "start_time": "2022-11-04T19:30:33.863Z"
   },
   {
    "duration": 682103,
    "start_time": "2022-11-04T19:30:34.841Z"
   },
   {
    "duration": 276242,
    "start_time": "2022-11-04T19:42:03.688Z"
   },
   {
    "duration": 262002,
    "start_time": "2022-11-04T19:47:25.104Z"
   },
   {
    "duration": 52922,
    "start_time": "2022-11-04T19:52:23.589Z"
   },
   {
    "duration": 1176,
    "start_time": "2022-11-04T19:53:28.557Z"
   },
   {
    "duration": 115205,
    "start_time": "2022-11-04T19:54:50.781Z"
   },
   {
    "duration": 3181,
    "start_time": "2022-11-04T19:56:58.238Z"
   },
   {
    "duration": 10,
    "start_time": "2022-11-04T19:57:27.853Z"
   },
   {
    "duration": 284,
    "start_time": "2022-11-04T19:58:18.735Z"
   }
  ],
  "kernelspec": {
   "display_name": "Python 3 (ipykernel)",
   "language": "python",
   "name": "python3"
  },
  "language_info": {
   "codemirror_mode": {
    "name": "ipython",
    "version": 3
   },
   "file_extension": ".py",
   "mimetype": "text/x-python",
   "name": "python",
   "nbconvert_exporter": "python",
   "pygments_lexer": "ipython3",
   "version": "3.9.5"
  },
  "toc": {
   "base_numbering": 1,
   "nav_menu": {},
   "number_sections": true,
   "sideBar": true,
   "skip_h1_title": true,
   "title_cell": "Table of Contents",
   "title_sidebar": "Contents",
   "toc_cell": false,
   "toc_position": {
    "height": "calc(100% - 180px)",
    "left": "10px",
    "top": "150px",
    "width": "342.222px"
   },
   "toc_section_display": true,
   "toc_window_display": false
  }
 },
 "nbformat": 4,
 "nbformat_minor": 2
}
