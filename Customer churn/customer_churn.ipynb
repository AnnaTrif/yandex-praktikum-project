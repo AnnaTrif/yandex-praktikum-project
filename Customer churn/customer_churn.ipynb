{
 "cells": [
  {
   "cell_type": "markdown",
   "id": "495b3d48",
   "metadata": {},
   "source": [
    "# Телеком"
   ]
  },
  {
   "cell_type": "markdown",
   "id": "ffe77b5a",
   "metadata": {},
   "source": [
    "Оператор связи хочет научиться прогнозировать отток клиентов. Если выяснится, что пользователь планирует уйти, ему будут предложены промокоды и специальные условия. Команда оператора собрала персональные данные о некоторых клиентах, информацию об их тарифах и договорах.\n",
    "\n",
    "**Описание услуг**\n",
    "\n",
    "Оператор предоставляет два основных типа услуг: \n",
    "\n",
    "1. Стационарную телефонную связь. Возможно подключение телефонного аппарата к нескольким линиям одновременно.\n",
    "2. Интернет. Подключение может быть двух типов: через телефонную линию (DSL*,* от англ. *digital subscriber line*, «цифровая абонентская линия») или оптоволоконный кабель (*Fiber optic*).  \n",
    "\n",
    "Также доступны такие услуги:\n",
    "\n",
    "- Интернет-безопасность: антивирус (*DeviceProtection*) и блокировка небезопасных сайтов (*OnlineSecurity*);\n",
    "- Выделенная линия технической поддержки (*TechSupport*);\n",
    "- Облачное хранилище файлов для резервного копирования данных (*OnlineBackup*);\n",
    "- Стриминговое телевидение (*StreamingTV*) и каталог фильмов (*StreamingMovies*).\n",
    "\n",
    "За услуги клиенты могут платить каждый месяц или заключить договор на 1–2 года. Доступны различные способы расчёта и возможность получения электронного чека."
   ]
  },
  {
   "cell_type": "code",
   "execution_count": 1,
   "id": "861ee1ba",
   "metadata": {},
   "outputs": [
    {
     "name": "stdout",
     "output_type": "stream",
     "text": [
      "Collecting phik\n",
      "  Downloading phik-0.12.3-cp39-cp39-manylinux_2_17_x86_64.manylinux2014_x86_64.whl (679 kB)\n",
      "\u001b[K     |████████████████████████████████| 679 kB 1.2 MB/s eta 0:00:01\n",
      "\u001b[?25hRequirement already satisfied: numpy>=1.18.0 in /opt/conda/lib/python3.9/site-packages (from phik) (1.21.1)\n",
      "Requirement already satisfied: matplotlib>=2.2.3 in /opt/conda/lib/python3.9/site-packages (from phik) (3.3.4)\n",
      "Requirement already satisfied: scipy>=1.5.2 in /opt/conda/lib/python3.9/site-packages (from phik) (1.9.1)\n",
      "Requirement already satisfied: pandas>=0.25.1 in /opt/conda/lib/python3.9/site-packages (from phik) (1.2.4)\n",
      "Requirement already satisfied: joblib>=0.14.1 in /opt/conda/lib/python3.9/site-packages (from phik) (1.1.0)\n",
      "Requirement already satisfied: kiwisolver>=1.0.1 in /opt/conda/lib/python3.9/site-packages (from matplotlib>=2.2.3->phik) (1.4.4)\n",
      "Requirement already satisfied: cycler>=0.10 in /opt/conda/lib/python3.9/site-packages (from matplotlib>=2.2.3->phik) (0.11.0)\n",
      "Requirement already satisfied: pillow>=6.2.0 in /opt/conda/lib/python3.9/site-packages (from matplotlib>=2.2.3->phik) (8.4.0)\n",
      "Requirement already satisfied: pyparsing!=2.0.4,!=2.1.2,!=2.1.6,>=2.0.3 in /opt/conda/lib/python3.9/site-packages (from matplotlib>=2.2.3->phik) (2.4.7)\n",
      "Requirement already satisfied: python-dateutil>=2.1 in /opt/conda/lib/python3.9/site-packages (from matplotlib>=2.2.3->phik) (2.8.1)\n",
      "Requirement already satisfied: pytz>=2017.3 in /opt/conda/lib/python3.9/site-packages (from pandas>=0.25.1->phik) (2021.1)\n",
      "Requirement already satisfied: six>=1.5 in /opt/conda/lib/python3.9/site-packages (from python-dateutil>=2.1->matplotlib>=2.2.3->phik) (1.16.0)\n",
      "Installing collected packages: phik\n",
      "Successfully installed phik-0.12.3\n"
     ]
    }
   ],
   "source": [
    "!pip install phik"
   ]
  },
  {
   "cell_type": "code",
   "execution_count": 2,
   "id": "2b9588aa",
   "metadata": {},
   "outputs": [],
   "source": [
    "# импорт библиотек\n",
    "import pandas as pd\n",
    "import matplotlib.pyplot as plt\n",
    "import phik\n",
    "import seaborn as sn\n",
    "import numpy as np\n",
    "from sklearn.model_selection import train_test_split\n",
    "from sklearn.preprocessing import OneHotEncoder, StandardScaler, OrdinalEncoder\n",
    "from sklearn.compose import make_column_transformer\n",
    "from sklearn.metrics import roc_auc_score\n",
    "from sklearn.model_selection import cross_val_score\n",
    "from sklearn.ensemble import RandomForestClassifier\n",
    "from sklearn.linear_model import LogisticRegression\n",
    "from catboost import CatBoostClassifier\n",
    "from lightgbm import LGBMClassifier\n",
    "from sklearn.pipeline import Pipeline, make_pipeline\n",
    "from sklearn.model_selection import GridSearchCV\n",
    "from sklearn.metrics import confusion_matrix\n",
    "\n",
    "\n",
    "RANDOM_STATE = 261222"
   ]
  },
  {
   "cell_type": "markdown",
   "id": "3c30c261",
   "metadata": {},
   "source": [
    "## Исследовательский анализ данных"
   ]
  },
  {
   "cell_type": "markdown",
   "id": "a7fa81b8",
   "metadata": {},
   "source": [
    "### Информация о договоре"
   ]
  },
  {
   "cell_type": "markdown",
   "id": "38370655",
   "metadata": {},
   "source": [
    "Файл `contract.csv` содержит информацию о договорах.\n",
    "\n",
    "Содержание столбцов:\n",
    "- `customerID` - код клиента\n",
    "- `BeginDate` - дата начала пользования услугами\n",
    "- `EndDate` - дата окончания пользования услугами\n",
    "- `Type` - тип договора: ежемесячный, годовой и двухгодовой\n",
    "- `PaperlessBilling`\t- факт выставление счёта на электронную почту\n",
    "- `PaymentMethod` - способ оплаты\n",
    "- `MonthlyCharges` - ежемесячные траты на услуги\n",
    "- `TotalCharges` - всего потрачено денег на услуги"
   ]
  },
  {
   "cell_type": "code",
   "execution_count": 3,
   "id": "75cf476d",
   "metadata": {},
   "outputs": [
    {
     "data": {
      "text/html": [
       "<div>\n",
       "<style scoped>\n",
       "    .dataframe tbody tr th:only-of-type {\n",
       "        vertical-align: middle;\n",
       "    }\n",
       "\n",
       "    .dataframe tbody tr th {\n",
       "        vertical-align: top;\n",
       "    }\n",
       "\n",
       "    .dataframe thead th {\n",
       "        text-align: right;\n",
       "    }\n",
       "</style>\n",
       "<table border=\"1\" class=\"dataframe\">\n",
       "  <thead>\n",
       "    <tr style=\"text-align: right;\">\n",
       "      <th></th>\n",
       "      <th>customerID</th>\n",
       "      <th>BeginDate</th>\n",
       "      <th>EndDate</th>\n",
       "      <th>Type</th>\n",
       "      <th>PaperlessBilling</th>\n",
       "      <th>PaymentMethod</th>\n",
       "      <th>MonthlyCharges</th>\n",
       "      <th>TotalCharges</th>\n",
       "    </tr>\n",
       "  </thead>\n",
       "  <tbody>\n",
       "    <tr>\n",
       "      <th>0</th>\n",
       "      <td>7590-VHVEG</td>\n",
       "      <td>2020-01-01</td>\n",
       "      <td>No</td>\n",
       "      <td>Month-to-month</td>\n",
       "      <td>Yes</td>\n",
       "      <td>Electronic check</td>\n",
       "      <td>29.85</td>\n",
       "      <td>29.85</td>\n",
       "    </tr>\n",
       "    <tr>\n",
       "      <th>1</th>\n",
       "      <td>5575-GNVDE</td>\n",
       "      <td>2017-04-01</td>\n",
       "      <td>No</td>\n",
       "      <td>One year</td>\n",
       "      <td>No</td>\n",
       "      <td>Mailed check</td>\n",
       "      <td>56.95</td>\n",
       "      <td>1889.5</td>\n",
       "    </tr>\n",
       "    <tr>\n",
       "      <th>2</th>\n",
       "      <td>3668-QPYBK</td>\n",
       "      <td>2019-10-01</td>\n",
       "      <td>2019-12-01 00:00:00</td>\n",
       "      <td>Month-to-month</td>\n",
       "      <td>Yes</td>\n",
       "      <td>Mailed check</td>\n",
       "      <td>53.85</td>\n",
       "      <td>108.15</td>\n",
       "    </tr>\n",
       "    <tr>\n",
       "      <th>3</th>\n",
       "      <td>7795-CFOCW</td>\n",
       "      <td>2016-05-01</td>\n",
       "      <td>No</td>\n",
       "      <td>One year</td>\n",
       "      <td>No</td>\n",
       "      <td>Bank transfer (automatic)</td>\n",
       "      <td>42.30</td>\n",
       "      <td>1840.75</td>\n",
       "    </tr>\n",
       "    <tr>\n",
       "      <th>4</th>\n",
       "      <td>9237-HQITU</td>\n",
       "      <td>2019-09-01</td>\n",
       "      <td>2019-11-01 00:00:00</td>\n",
       "      <td>Month-to-month</td>\n",
       "      <td>Yes</td>\n",
       "      <td>Electronic check</td>\n",
       "      <td>70.70</td>\n",
       "      <td>151.65</td>\n",
       "    </tr>\n",
       "  </tbody>\n",
       "</table>\n",
       "</div>"
      ],
      "text/plain": [
       "   customerID   BeginDate              EndDate            Type  \\\n",
       "0  7590-VHVEG  2020-01-01                   No  Month-to-month   \n",
       "1  5575-GNVDE  2017-04-01                   No        One year   \n",
       "2  3668-QPYBK  2019-10-01  2019-12-01 00:00:00  Month-to-month   \n",
       "3  7795-CFOCW  2016-05-01                   No        One year   \n",
       "4  9237-HQITU  2019-09-01  2019-11-01 00:00:00  Month-to-month   \n",
       "\n",
       "  PaperlessBilling              PaymentMethod  MonthlyCharges TotalCharges  \n",
       "0              Yes           Electronic check           29.85        29.85  \n",
       "1               No               Mailed check           56.95       1889.5  \n",
       "2              Yes               Mailed check           53.85       108.15  \n",
       "3               No  Bank transfer (automatic)           42.30      1840.75  \n",
       "4              Yes           Electronic check           70.70       151.65  "
      ]
     },
     "execution_count": 3,
     "metadata": {},
     "output_type": "execute_result"
    }
   ],
   "source": [
    "# чтение файла\n",
    "try:\n",
    "    df_contract = pd.read_csv(r\"C:\\downloads\\final_provider\\final_provider\\contract.csv\")\n",
    "except:\n",
    "    df_contract = pd.read_csv(\"/datasets/final_provider/contract.csv\")\n",
    "df_contract.head()"
   ]
  },
  {
   "cell_type": "code",
   "execution_count": 4,
   "id": "4bd17e97",
   "metadata": {},
   "outputs": [
    {
     "name": "stdout",
     "output_type": "stream",
     "text": [
      "<class 'pandas.core.frame.DataFrame'>\n",
      "RangeIndex: 7043 entries, 0 to 7042\n",
      "Data columns (total 8 columns):\n",
      " #   Column            Non-Null Count  Dtype  \n",
      "---  ------            --------------  -----  \n",
      " 0   customerID        7043 non-null   object \n",
      " 1   BeginDate         7043 non-null   object \n",
      " 2   EndDate           7043 non-null   object \n",
      " 3   Type              7043 non-null   object \n",
      " 4   PaperlessBilling  7043 non-null   object \n",
      " 5   PaymentMethod     7043 non-null   object \n",
      " 6   MonthlyCharges    7043 non-null   float64\n",
      " 7   TotalCharges      7043 non-null   object \n",
      "dtypes: float64(1), object(7)\n",
      "memory usage: 440.3+ KB\n"
     ]
    }
   ],
   "source": [
    "# просмотр общей информации\n",
    "df_contract.info()"
   ]
  },
  {
   "cell_type": "code",
   "execution_count": 5,
   "id": "2da8a89a",
   "metadata": {},
   "outputs": [
    {
     "data": {
      "text/plain": [
       "0"
      ]
     },
     "execution_count": 5,
     "metadata": {},
     "output_type": "execute_result"
    }
   ],
   "source": [
    "# проверка на наличие строк-дубликатов\n",
    "df_contract.duplicated().sum()"
   ]
  },
  {
   "cell_type": "code",
   "execution_count": 6,
   "id": "8ea4bcac",
   "metadata": {},
   "outputs": [
    {
     "data": {
      "text/plain": [
       "2014-02-01    366\n",
       "2019-11-01    237\n",
       "2019-10-01    237\n",
       "2019-09-01    237\n",
       "2020-01-01    233\n",
       "             ... \n",
       "2020-02-01     11\n",
       "2014-01-01      7\n",
       "2013-10-01      3\n",
       "2013-12-01      3\n",
       "2013-11-01      2\n",
       "Name: BeginDate, Length: 77, dtype: int64"
      ]
     },
     "execution_count": 6,
     "metadata": {},
     "output_type": "execute_result"
    }
   ],
   "source": [
    "# ознакомление с данными\n",
    "df_contract['BeginDate'].value_counts()"
   ]
  },
  {
   "cell_type": "code",
   "execution_count": 7,
   "id": "c6cf59cb",
   "metadata": {},
   "outputs": [
    {
     "data": {
      "text/plain": [
       "No                     5174\n",
       "2019-11-01 00:00:00     485\n",
       "2019-12-01 00:00:00     466\n",
       "2020-01-01 00:00:00     460\n",
       "2019-10-01 00:00:00     458\n",
       "Name: EndDate, dtype: int64"
      ]
     },
     "execution_count": 7,
     "metadata": {},
     "output_type": "execute_result"
    }
   ],
   "source": [
    "# ознакомление с данными\n",
    "df_contract['EndDate'].value_counts()"
   ]
  },
  {
   "cell_type": "code",
   "execution_count": 8,
   "id": "d41be2ef",
   "metadata": {},
   "outputs": [
    {
     "data": {
      "text/plain": [
       "Month-to-month    3875\n",
       "Two year          1695\n",
       "One year          1473\n",
       "Name: Type, dtype: int64"
      ]
     },
     "execution_count": 8,
     "metadata": {},
     "output_type": "execute_result"
    }
   ],
   "source": [
    "# ознакомление с данными\n",
    "df_contract['Type'].value_counts()"
   ]
  },
  {
   "cell_type": "code",
   "execution_count": 9,
   "id": "f6b9b455",
   "metadata": {},
   "outputs": [
    {
     "data": {
      "text/plain": [
       "Yes    4171\n",
       "No     2872\n",
       "Name: PaperlessBilling, dtype: int64"
      ]
     },
     "execution_count": 9,
     "metadata": {},
     "output_type": "execute_result"
    }
   ],
   "source": [
    "# ознакомление с данными\n",
    "df_contract['PaperlessBilling'].value_counts()"
   ]
  },
  {
   "cell_type": "code",
   "execution_count": 10,
   "id": "283d3273",
   "metadata": {},
   "outputs": [
    {
     "data": {
      "text/plain": [
       "Electronic check             2365\n",
       "Mailed check                 1612\n",
       "Bank transfer (automatic)    1544\n",
       "Credit card (automatic)      1522\n",
       "Name: PaymentMethod, dtype: int64"
      ]
     },
     "execution_count": 10,
     "metadata": {},
     "output_type": "execute_result"
    }
   ],
   "source": [
    "# ознакомление с данными\n",
    "df_contract['PaymentMethod'].value_counts()"
   ]
  },
  {
   "cell_type": "code",
   "execution_count": 11,
   "id": "c629b256",
   "metadata": {},
   "outputs": [
    {
     "data": {
      "text/plain": [
       "count    7043.000000\n",
       "mean       64.761692\n",
       "std        30.090047\n",
       "min        18.250000\n",
       "25%        35.500000\n",
       "50%        70.350000\n",
       "75%        89.850000\n",
       "max       118.750000\n",
       "Name: MonthlyCharges, dtype: float64"
      ]
     },
     "execution_count": 11,
     "metadata": {},
     "output_type": "execute_result"
    }
   ],
   "source": [
    "# ознакомление с данными\n",
    "df_contract['MonthlyCharges'].describe()"
   ]
  },
  {
   "cell_type": "code",
   "execution_count": 12,
   "id": "03655d9d",
   "metadata": {},
   "outputs": [
    {
     "data": {
      "text/plain": [
       "Text(0, 0.5, 'Частота')"
      ]
     },
     "execution_count": 12,
     "metadata": {},
     "output_type": "execute_result"
    },
    {
     "data": {
      "image/png": "[encoded data removed]",
      "text/plain": [
       "<Figure size 1080x720 with 1 Axes>"
      ]
     },
     "metadata": {
      "needs_background": "light"
     },
     "output_type": "display_data"
    }
   ],
   "source": [
    "# построение графика распределения ежемесячных трат на услуги\n",
    "df_contract['MonthlyCharges'].plot(kind=\"hist\",\n",
    "                                   bins=300,\n",
    "                                   figsize=(15,10),\n",
    "                                   fontsize = 12)\n",
    "\n",
    "plt.title(\"График распределения ежемесячных трат на услуги в выборке\", fontsize=20)\n",
    "plt.xlabel(\"Сумма\", fontsize=15)\n",
    "plt.ylabel(\"Частота\", fontsize=15)"
   ]
  },
  {
   "cell_type": "code",
   "execution_count": 13,
   "id": "d98b89b8",
   "metadata": {},
   "outputs": [
    {
     "data": {
      "text/plain": [
       "           11\n",
       "20.2       11\n",
       "19.75       9\n",
       "19.65       8\n",
       "19.9        8\n",
       "           ..\n",
       "6503.2      1\n",
       "8425.15     1\n",
       "2258.25     1\n",
       "119.75      1\n",
       "5610.7      1\n",
       "Name: TotalCharges, Length: 6531, dtype: int64"
      ]
     },
     "execution_count": 13,
     "metadata": {},
     "output_type": "execute_result"
    }
   ],
   "source": [
    "# ознакомление с данными\n",
    "df_contract['TotalCharges'].value_counts()"
   ]
  },
  {
   "cell_type": "code",
   "execution_count": 14,
   "id": "93f99a24",
   "metadata": {},
   "outputs": [
    {
     "name": "stdout",
     "output_type": "stream",
     "text": [
      "interval columns not set, guessing: ['MonthlyCharges']\n"
     ]
    },
    {
     "name": "stderr",
     "output_type": "stream",
     "text": [
      "/opt/conda/lib/python3.9/site-packages/phik/data_quality.py:59: UserWarning: The number of unique values of variable TotalCharges is large: 6531. Are you sure this is not an interval variable? Analysis for pairs of variables including TotalCharges can be slow.\n",
      "  warnings.warn(\n"
     ]
    },
    {
     "name": "stdout",
     "output_type": "stream",
     "text": [
      "                      Type  PaperlessBilling  PaymentMethod  MonthlyCharges  \\\n",
      "Type              1.000000          0.106860       0.277462        0.388444   \n",
      "PaperlessBilling  0.106860          1.000000       0.370495        0.467812   \n",
      "PaymentMethod     0.277462          0.370495       1.000000        0.399526   \n",
      "MonthlyCharges    0.388444          0.467812       0.399526        1.000000   \n",
      "TotalCharges      0.945608          0.312983       0.702284        0.954137   \n",
      "\n",
      "                  TotalCharges  \n",
      "Type                  0.945608  \n",
      "PaperlessBilling      0.312983  \n",
      "PaymentMethod         0.702284  \n",
      "MonthlyCharges        0.954137  \n",
      "TotalCharges          1.000000  \n"
     ]
    },
    {
     "data": {
      "text/plain": [
       "<AxesSubplot:>"
      ]
     },
     "execution_count": 14,
     "metadata": {},
     "output_type": "execute_result"
    },
    {
     "data": {
      "image/png": "[encoded data removed]",
      "text/plain": [
       "<Figure size 432x288 with 2 Axes>"
      ]
     },
     "metadata": {
      "needs_background": "light"
     },
     "output_type": "display_data"
    }
   ],
   "source": [
    "# построение матрицы корреляции для выявления зависимости\n",
    "# между данными\n",
    "corr_columns = ['Type', 'PaperlessBilling', 'PaymentMethod', 'MonthlyCharges', 'TotalCharges']\n",
    "\n",
    "corr_matrix = df_contract.loc[:,corr_columns].phik_matrix()\n",
    "print(corr_matrix)\n",
    "\n",
    "sn.heatmap(corr_matrix, annot=True)"
   ]
  },
  {
   "cell_type": "markdown",
   "id": "eece028a",
   "metadata": {},
   "source": [
    "#### Вывод"
   ]
  },
  {
   "cell_type": "markdown",
   "id": "f16bdc40",
   "metadata": {},
   "source": [
    "- Данные не содержат строк-дубликатов.\n",
    "- Столбец `BeginDate` не содержит пропусков.\n",
    "- Столбец `EndDate` содержит пропуски. Причиной является то, что не все клиенты завершили использование услуг. Будут заменены на дату актуальности данных. Следует отметить: услуги перестают действовать под конец 2019 года и в первый месяц 2020.\n",
    "- Столбец `Type` не содержит пропусков. Чаще заключают договоры на месяц.\n",
    "- Столбец `PaperlessBilling` не содержит пропуски. \n",
    "- Столбец `PaymentMethod` не содержит пропуски.\n",
    "- Столбец `MonthlyCharges` не содержит пропуски. Минимальная трата равна 18.25, максимальная - 118.75. Большое скопление трат находится возле показателя 20. Наблюдаются пики в \"круглых\" показателях трат (рост к пикам, спад после них).\n",
    "- Столбец `TotalCharges` содерджит пропуски. Будут заменены на значения из столбца `MonthlyCharges`. Не будут удалены, так как наблюдается значительная корреляция.\n",
    "- Проанализирована корреляция данных. \n",
    "    - Значительная зависимость наблюдается между способом оплаты (`PaymentMethod`) и количеством потраченных денег на услуги (`TotalCharges`).\n",
    "    - Значительная зависимость наблюдается между типом договора (`Type`) и количеством потраченных денег на услуги (`TotalCharges`).\n",
    "    - Значительная зависимость наблюдается между ежемесячными тратами (`MonthlyCharges`) и количеством потраченных денег на услуги (`TotalCharges`)."
   ]
  },
  {
   "cell_type": "markdown",
   "id": "661b6b2c",
   "metadata": {},
   "source": [
    "### Персональные данные клиента"
   ]
  },
  {
   "cell_type": "markdown",
   "id": "1306179e",
   "metadata": {},
   "source": [
    "Файл `internet.csv` содержит информацию о персональных данных клиента.\n",
    "\n",
    "Содержание столбцов:\n",
    "- `customerID` - код клиента\n",
    "- `InternetService` - способ подключение интернета: через телефонную линию или оптоволоконный кабель  \n",
    "- `OnlineSecurity` - блокировка небезопасных сайтов\n",
    "- `OnlineBackup` - облачное хранилище файлов для резервного копирования данных \n",
    "- `DeviceProtection` - антивирус\n",
    "- `TechSupport` - выделенная линия технической поддержки\n",
    "- `StreamingTV` - стриминговое телевидение\n",
    "- `StreamingMovies` - каталог фильмов "
   ]
  },
  {
   "cell_type": "code",
   "execution_count": 15,
   "id": "542b7685",
   "metadata": {},
   "outputs": [
    {
     "data": {
      "text/html": [
       "<div>\n",
       "<style scoped>\n",
       "    .dataframe tbody tr th:only-of-type {\n",
       "        vertical-align: middle;\n",
       "    }\n",
       "\n",
       "    .dataframe tbody tr th {\n",
       "        vertical-align: top;\n",
       "    }\n",
       "\n",
       "    .dataframe thead th {\n",
       "        text-align: right;\n",
       "    }\n",
       "</style>\n",
       "<table border=\"1\" class=\"dataframe\">\n",
       "  <thead>\n",
       "    <tr style=\"text-align: right;\">\n",
       "      <th></th>\n",
       "      <th>customerID</th>\n",
       "      <th>InternetService</th>\n",
       "      <th>OnlineSecurity</th>\n",
       "      <th>OnlineBackup</th>\n",
       "      <th>DeviceProtection</th>\n",
       "      <th>TechSupport</th>\n",
       "      <th>StreamingTV</th>\n",
       "      <th>StreamingMovies</th>\n",
       "    </tr>\n",
       "  </thead>\n",
       "  <tbody>\n",
       "    <tr>\n",
       "      <th>0</th>\n",
       "      <td>7590-VHVEG</td>\n",
       "      <td>DSL</td>\n",
       "      <td>No</td>\n",
       "      <td>Yes</td>\n",
       "      <td>No</td>\n",
       "      <td>No</td>\n",
       "      <td>No</td>\n",
       "      <td>No</td>\n",
       "    </tr>\n",
       "    <tr>\n",
       "      <th>1</th>\n",
       "      <td>5575-GNVDE</td>\n",
       "      <td>DSL</td>\n",
       "      <td>Yes</td>\n",
       "      <td>No</td>\n",
       "      <td>Yes</td>\n",
       "      <td>No</td>\n",
       "      <td>No</td>\n",
       "      <td>No</td>\n",
       "    </tr>\n",
       "    <tr>\n",
       "      <th>2</th>\n",
       "      <td>3668-QPYBK</td>\n",
       "      <td>DSL</td>\n",
       "      <td>Yes</td>\n",
       "      <td>Yes</td>\n",
       "      <td>No</td>\n",
       "      <td>No</td>\n",
       "      <td>No</td>\n",
       "      <td>No</td>\n",
       "    </tr>\n",
       "    <tr>\n",
       "      <th>3</th>\n",
       "      <td>7795-CFOCW</td>\n",
       "      <td>DSL</td>\n",
       "      <td>Yes</td>\n",
       "      <td>No</td>\n",
       "      <td>Yes</td>\n",
       "      <td>Yes</td>\n",
       "      <td>No</td>\n",
       "      <td>No</td>\n",
       "    </tr>\n",
       "    <tr>\n",
       "      <th>4</th>\n",
       "      <td>9237-HQITU</td>\n",
       "      <td>Fiber optic</td>\n",
       "      <td>No</td>\n",
       "      <td>No</td>\n",
       "      <td>No</td>\n",
       "      <td>No</td>\n",
       "      <td>No</td>\n",
       "      <td>No</td>\n",
       "    </tr>\n",
       "  </tbody>\n",
       "</table>\n",
       "</div>"
      ],
      "text/plain": [
       "   customerID InternetService OnlineSecurity OnlineBackup DeviceProtection  \\\n",
       "0  7590-VHVEG             DSL             No          Yes               No   \n",
       "1  5575-GNVDE             DSL            Yes           No              Yes   \n",
       "2  3668-QPYBK             DSL            Yes          Yes               No   \n",
       "3  7795-CFOCW             DSL            Yes           No              Yes   \n",
       "4  9237-HQITU     Fiber optic             No           No               No   \n",
       "\n",
       "  TechSupport StreamingTV StreamingMovies  \n",
       "0          No          No              No  \n",
       "1          No          No              No  \n",
       "2          No          No              No  \n",
       "3         Yes          No              No  \n",
       "4          No          No              No  "
      ]
     },
     "execution_count": 15,
     "metadata": {},
     "output_type": "execute_result"
    }
   ],
   "source": [
    "# чтение файла\n",
    "try:\n",
    "    df_internet = pd.read_csv(r\"C:\\downloads\\final_provider\\final_provider\\internet.csv\")\n",
    "except:\n",
    "    df_internet = pd.read_csv(\"/datasets/final_provider/internet.csv\")\n",
    "df_internet.head()"
   ]
  },
  {
   "cell_type": "code",
   "execution_count": 16,
   "id": "413bb47f",
   "metadata": {},
   "outputs": [
    {
     "name": "stdout",
     "output_type": "stream",
     "text": [
      "<class 'pandas.core.frame.DataFrame'>\n",
      "RangeIndex: 5517 entries, 0 to 5516\n",
      "Data columns (total 8 columns):\n",
      " #   Column            Non-Null Count  Dtype \n",
      "---  ------            --------------  ----- \n",
      " 0   customerID        5517 non-null   object\n",
      " 1   InternetService   5517 non-null   object\n",
      " 2   OnlineSecurity    5517 non-null   object\n",
      " 3   OnlineBackup      5517 non-null   object\n",
      " 4   DeviceProtection  5517 non-null   object\n",
      " 5   TechSupport       5517 non-null   object\n",
      " 6   StreamingTV       5517 non-null   object\n",
      " 7   StreamingMovies   5517 non-null   object\n",
      "dtypes: object(8)\n",
      "memory usage: 344.9+ KB\n"
     ]
    }
   ],
   "source": [
    "# просмотр общей информации\n",
    "df_internet.info()"
   ]
  },
  {
   "cell_type": "code",
   "execution_count": 17,
   "id": "81b739e3",
   "metadata": {},
   "outputs": [
    {
     "data": {
      "text/plain": [
       "0"
      ]
     },
     "execution_count": 17,
     "metadata": {},
     "output_type": "execute_result"
    }
   ],
   "source": [
    "# проверка на наличие строк-дубликатов\n",
    "df_internet.duplicated().sum()"
   ]
  },
  {
   "cell_type": "code",
   "execution_count": 18,
   "id": "7808da85",
   "metadata": {},
   "outputs": [
    {
     "data": {
      "text/plain": [
       "Fiber optic    3096\n",
       "DSL            2421\n",
       "Name: InternetService, dtype: int64"
      ]
     },
     "execution_count": 18,
     "metadata": {},
     "output_type": "execute_result"
    }
   ],
   "source": [
    "# ознакомление с данными\n",
    "df_internet['InternetService'].value_counts()"
   ]
  },
  {
   "cell_type": "code",
   "execution_count": 19,
   "id": "41cbdda3",
   "metadata": {},
   "outputs": [
    {
     "data": {
      "text/plain": [
       "No     3498\n",
       "Yes    2019\n",
       "Name: OnlineSecurity, dtype: int64"
      ]
     },
     "execution_count": 19,
     "metadata": {},
     "output_type": "execute_result"
    }
   ],
   "source": [
    "# ознакомление с данными\n",
    "df_internet['OnlineSecurity'].value_counts()"
   ]
  },
  {
   "cell_type": "code",
   "execution_count": 20,
   "id": "c12fd9f6",
   "metadata": {},
   "outputs": [
    {
     "data": {
      "text/plain": [
       "No     3088\n",
       "Yes    2429\n",
       "Name: OnlineBackup, dtype: int64"
      ]
     },
     "execution_count": 20,
     "metadata": {},
     "output_type": "execute_result"
    }
   ],
   "source": [
    "# ознакомление с данными\n",
    "df_internet['OnlineBackup'].value_counts()"
   ]
  },
  {
   "cell_type": "code",
   "execution_count": 21,
   "id": "520452fe",
   "metadata": {},
   "outputs": [
    {
     "data": {
      "text/plain": [
       "No     3095\n",
       "Yes    2422\n",
       "Name: DeviceProtection, dtype: int64"
      ]
     },
     "execution_count": 21,
     "metadata": {},
     "output_type": "execute_result"
    }
   ],
   "source": [
    "# ознакомление с данными\n",
    "df_internet['DeviceProtection'].value_counts()"
   ]
  },
  {
   "cell_type": "code",
   "execution_count": 22,
   "id": "46038e12",
   "metadata": {},
   "outputs": [
    {
     "data": {
      "text/plain": [
       "No     3473\n",
       "Yes    2044\n",
       "Name: TechSupport, dtype: int64"
      ]
     },
     "execution_count": 22,
     "metadata": {},
     "output_type": "execute_result"
    }
   ],
   "source": [
    "# ознакомление с данными\n",
    "df_internet['TechSupport'].value_counts()"
   ]
  },
  {
   "cell_type": "code",
   "execution_count": 23,
   "id": "4a88d01f",
   "metadata": {},
   "outputs": [
    {
     "data": {
      "text/plain": [
       "No     2810\n",
       "Yes    2707\n",
       "Name: StreamingTV, dtype: int64"
      ]
     },
     "execution_count": 23,
     "metadata": {},
     "output_type": "execute_result"
    }
   ],
   "source": [
    "# ознакомление с данными\n",
    "df_internet['StreamingTV'].value_counts()"
   ]
  },
  {
   "cell_type": "code",
   "execution_count": 24,
   "id": "777522bb",
   "metadata": {},
   "outputs": [
    {
     "data": {
      "text/plain": [
       "No     2785\n",
       "Yes    2732\n",
       "Name: StreamingMovies, dtype: int64"
      ]
     },
     "execution_count": 24,
     "metadata": {},
     "output_type": "execute_result"
    }
   ],
   "source": [
    "# ознакомление с данными\n",
    "df_internet['StreamingMovies'].value_counts()"
   ]
  },
  {
   "cell_type": "code",
   "execution_count": 25,
   "id": "54a0d86d",
   "metadata": {},
   "outputs": [
    {
     "name": "stdout",
     "output_type": "stream",
     "text": [
      "                  InternetService  OnlineSecurity  OnlineBackup  \\\n",
      "InternetService          1.000000        0.341950      0.008098   \n",
      "OnlineSecurity           0.341950        1.000000      0.277245   \n",
      "OnlineBackup             0.008098        0.277245      1.000000   \n",
      "DeviceProtection         0.000000        0.263021      0.285491   \n",
      "TechSupport              0.326553        0.415484      0.293663   \n",
      "StreamingTV              0.260564        0.065004      0.227275   \n",
      "StreamingMovies          0.246018        0.084426      0.211500   \n",
      "\n",
      "                  DeviceProtection  TechSupport  StreamingTV  StreamingMovies  \n",
      "InternetService           0.000000     0.326553     0.260564         0.246018  \n",
      "OnlineSecurity            0.263021     0.415484     0.065004         0.084426  \n",
      "OnlineBackup              0.285491     0.293663     0.227275         0.211500  \n",
      "DeviceProtection          1.000000     0.360774     0.420014         0.437634  \n",
      "TechSupport               0.360774     1.000000     0.249535         0.250349  \n",
      "StreamingTV               0.420014     0.249535     1.000000         0.630406  \n",
      "StreamingMovies           0.437634     0.250349     0.630406         1.000000  \n"
     ]
    },
    {
     "data": {
      "text/plain": [
       "<AxesSubplot:>"
      ]
     },
     "execution_count": 25,
     "metadata": {},
     "output_type": "execute_result"
    },
    {
     "data": {
      "image/png": "[encoded data removed]",
      "text/plain": [
       "<Figure size 432x288 with 2 Axes>"
      ]
     },
     "metadata": {
      "needs_background": "light"
     },
     "output_type": "display_data"
    }
   ],
   "source": [
    "# построение матрицы корреляции для выявления зависимости\n",
    "# между данными\n",
    "corr_columns = ['InternetService', 'OnlineSecurity', 'OnlineBackup', \n",
    "                'DeviceProtection', 'TechSupport', 'StreamingTV', 'StreamingMovies']\n",
    "\n",
    "corr_matrix = df_internet.loc[:,corr_columns].phik_matrix()\n",
    "print(corr_matrix)\n",
    "\n",
    "sn.heatmap(corr_matrix, annot=True)"
   ]
  },
  {
   "cell_type": "markdown",
   "id": "5929e063",
   "metadata": {},
   "source": [
    "#### Вывод"
   ]
  },
  {
   "cell_type": "markdown",
   "id": "4721a2de",
   "metadata": {},
   "source": [
    "- Данные не содержат пропусков.\n",
    "- Данные не содержат строк-дубликатов.\n",
    "- Значительная корреляция наблюдается между `StreamingTV` (стриминговое телевидение) и `StreamingMovies` (каталог фильмов)."
   ]
  },
  {
   "cell_type": "markdown",
   "id": "97f9f3e0",
   "metadata": {},
   "source": [
    "### Информация об интернет-услугах"
   ]
  },
  {
   "cell_type": "markdown",
   "id": "4d788f28",
   "metadata": {},
   "source": [
    "Файл `personal.csv` содержит информацию об интернет-услугах.\n",
    "\n",
    "Содержание столбцов:\n",
    "- `customerID` - код клиента\n",
    "- `gender` - пол \n",
    "- `SeniorCitizen` - наличие клиента пенсионного возраста\n",
    "- `Partner` - партнер\n",
    "- `Dependents` - наличие иждивенцев"
   ]
  },
  {
   "cell_type": "code",
   "execution_count": 26,
   "id": "af205eaf",
   "metadata": {},
   "outputs": [
    {
     "data": {
      "text/html": [
       "<div>\n",
       "<style scoped>\n",
       "    .dataframe tbody tr th:only-of-type {\n",
       "        vertical-align: middle;\n",
       "    }\n",
       "\n",
       "    .dataframe tbody tr th {\n",
       "        vertical-align: top;\n",
       "    }\n",
       "\n",
       "    .dataframe thead th {\n",
       "        text-align: right;\n",
       "    }\n",
       "</style>\n",
       "<table border=\"1\" class=\"dataframe\">\n",
       "  <thead>\n",
       "    <tr style=\"text-align: right;\">\n",
       "      <th></th>\n",
       "      <th>customerID</th>\n",
       "      <th>gender</th>\n",
       "      <th>SeniorCitizen</th>\n",
       "      <th>Partner</th>\n",
       "      <th>Dependents</th>\n",
       "    </tr>\n",
       "  </thead>\n",
       "  <tbody>\n",
       "    <tr>\n",
       "      <th>0</th>\n",
       "      <td>7590-VHVEG</td>\n",
       "      <td>Female</td>\n",
       "      <td>0</td>\n",
       "      <td>Yes</td>\n",
       "      <td>No</td>\n",
       "    </tr>\n",
       "    <tr>\n",
       "      <th>1</th>\n",
       "      <td>5575-GNVDE</td>\n",
       "      <td>Male</td>\n",
       "      <td>0</td>\n",
       "      <td>No</td>\n",
       "      <td>No</td>\n",
       "    </tr>\n",
       "    <tr>\n",
       "      <th>2</th>\n",
       "      <td>3668-QPYBK</td>\n",
       "      <td>Male</td>\n",
       "      <td>0</td>\n",
       "      <td>No</td>\n",
       "      <td>No</td>\n",
       "    </tr>\n",
       "    <tr>\n",
       "      <th>3</th>\n",
       "      <td>7795-CFOCW</td>\n",
       "      <td>Male</td>\n",
       "      <td>0</td>\n",
       "      <td>No</td>\n",
       "      <td>No</td>\n",
       "    </tr>\n",
       "    <tr>\n",
       "      <th>4</th>\n",
       "      <td>9237-HQITU</td>\n",
       "      <td>Female</td>\n",
       "      <td>0</td>\n",
       "      <td>No</td>\n",
       "      <td>No</td>\n",
       "    </tr>\n",
       "  </tbody>\n",
       "</table>\n",
       "</div>"
      ],
      "text/plain": [
       "   customerID  gender  SeniorCitizen Partner Dependents\n",
       "0  7590-VHVEG  Female              0     Yes         No\n",
       "1  5575-GNVDE    Male              0      No         No\n",
       "2  3668-QPYBK    Male              0      No         No\n",
       "3  7795-CFOCW    Male              0      No         No\n",
       "4  9237-HQITU  Female              0      No         No"
      ]
     },
     "execution_count": 26,
     "metadata": {},
     "output_type": "execute_result"
    }
   ],
   "source": [
    "# чтение файла\n",
    "try:\n",
    "    df_personal = pd.read_csv(r\"C:\\downloads\\final_provider\\final_provider\\personal.csv\")\n",
    "except:\n",
    "    df_personal = pd.read_csv(\"/datasets/final_provider/personal.csv\")\n",
    "df_personal.head()"
   ]
  },
  {
   "cell_type": "code",
   "execution_count": 27,
   "id": "7cb546ff",
   "metadata": {},
   "outputs": [
    {
     "name": "stdout",
     "output_type": "stream",
     "text": [
      "<class 'pandas.core.frame.DataFrame'>\n",
      "RangeIndex: 7043 entries, 0 to 7042\n",
      "Data columns (total 5 columns):\n",
      " #   Column         Non-Null Count  Dtype \n",
      "---  ------         --------------  ----- \n",
      " 0   customerID     7043 non-null   object\n",
      " 1   gender         7043 non-null   object\n",
      " 2   SeniorCitizen  7043 non-null   int64 \n",
      " 3   Partner        7043 non-null   object\n",
      " 4   Dependents     7043 non-null   object\n",
      "dtypes: int64(1), object(4)\n",
      "memory usage: 275.2+ KB\n"
     ]
    }
   ],
   "source": [
    "# просмотр общей информации\n",
    "df_personal.info()"
   ]
  },
  {
   "cell_type": "code",
   "execution_count": 28,
   "id": "22794050",
   "metadata": {},
   "outputs": [
    {
     "data": {
      "text/plain": [
       "0"
      ]
     },
     "execution_count": 28,
     "metadata": {},
     "output_type": "execute_result"
    }
   ],
   "source": [
    "# проверка на наличие строк-дубликатов\n",
    "df_personal.duplicated().sum()"
   ]
  },
  {
   "cell_type": "code",
   "execution_count": 29,
   "id": "f8b8865a",
   "metadata": {},
   "outputs": [
    {
     "data": {
      "text/plain": [
       "Male      3555\n",
       "Female    3488\n",
       "Name: gender, dtype: int64"
      ]
     },
     "execution_count": 29,
     "metadata": {},
     "output_type": "execute_result"
    }
   ],
   "source": [
    "# ознакомление с данными\n",
    "df_personal['gender'].value_counts()"
   ]
  },
  {
   "cell_type": "code",
   "execution_count": 30,
   "id": "ba9aba10",
   "metadata": {},
   "outputs": [
    {
     "data": {
      "text/plain": [
       "0    5901\n",
       "1    1142\n",
       "Name: SeniorCitizen, dtype: int64"
      ]
     },
     "execution_count": 30,
     "metadata": {},
     "output_type": "execute_result"
    }
   ],
   "source": [
    "# ознакомление с данными\n",
    "df_personal['SeniorCitizen'].value_counts()"
   ]
  },
  {
   "cell_type": "code",
   "execution_count": 31,
   "id": "049ce9c2",
   "metadata": {},
   "outputs": [
    {
     "data": {
      "text/plain": [
       "No     3641\n",
       "Yes    3402\n",
       "Name: Partner, dtype: int64"
      ]
     },
     "execution_count": 31,
     "metadata": {},
     "output_type": "execute_result"
    }
   ],
   "source": [
    "# ознакомление с данными\n",
    "df_personal['Partner'].value_counts()"
   ]
  },
  {
   "cell_type": "code",
   "execution_count": 32,
   "id": "cff604c2",
   "metadata": {},
   "outputs": [
    {
     "data": {
      "text/plain": [
       "No     4933\n",
       "Yes    2110\n",
       "Name: Dependents, dtype: int64"
      ]
     },
     "execution_count": 32,
     "metadata": {},
     "output_type": "execute_result"
    }
   ],
   "source": [
    "# ознакомление с данными\n",
    "df_personal['Dependents'].value_counts()"
   ]
  },
  {
   "cell_type": "code",
   "execution_count": 33,
   "id": "6f1d9dd1",
   "metadata": {},
   "outputs": [
    {
     "name": "stdout",
     "output_type": "stream",
     "text": [
      "interval columns not set, guessing: ['SeniorCitizen']\n",
      "               gender  SeniorCitizen   Partner  Dependents\n",
      "gender            1.0       0.000000  0.000000    0.000000\n",
      "SeniorCitizen     0.0       1.000000  0.016992    0.324576\n",
      "Partner           0.0       0.016992  1.000000    0.652122\n",
      "Dependents        0.0       0.324576  0.652122    1.000000\n"
     ]
    },
    {
     "data": {
      "text/plain": [
       "<AxesSubplot:>"
      ]
     },
     "execution_count": 33,
     "metadata": {},
     "output_type": "execute_result"
    },
    {
     "data": {
      "image/png": "[encoded data removed]",
      "text/plain": [
       "<Figure size 432x288 with 2 Axes>"
      ]
     },
     "metadata": {
      "needs_background": "light"
     },
     "output_type": "display_data"
    }
   ],
   "source": [
    "# построение матрицы корреляции для выявления зависимости\n",
    "# между данными\n",
    "corr_columns = ['gender', 'SeniorCitizen', 'Partner', 'Dependents']\n",
    "\n",
    "corr_matrix = df_personal.loc[:,corr_columns].phik_matrix()\n",
    "print(corr_matrix)\n",
    "\n",
    "sn.heatmap(corr_matrix, annot=True)"
   ]
  },
  {
   "cell_type": "markdown",
   "id": "6992db91",
   "metadata": {},
   "source": [
    "#### Вывод"
   ]
  },
  {
   "cell_type": "markdown",
   "id": "4c1d13fa",
   "metadata": {},
   "source": [
    "- Данные не содержат пропусков.\n",
    "- Данные не содержат строк-дубликатов.\n",
    "- Значительная корреляция наблюдается между `Partner` (партнер) и `Dependents` (наличие иждивенцев)."
   ]
  },
  {
   "cell_type": "markdown",
   "id": "de2d4a5f",
   "metadata": {},
   "source": [
    "### Информация об услугах телефонии"
   ]
  },
  {
   "cell_type": "markdown",
   "id": "4786e937",
   "metadata": {},
   "source": [
    "Файл `phone.csv` содержит информацию об услугах телефонии.\n",
    "\n",
    "Содержание столбцов:\n",
    "- `customerID` - код клиента\n",
    "- `MultipleLines` - наличие возможности ведения параллельных линий во время звонка"
   ]
  },
  {
   "cell_type": "code",
   "execution_count": 34,
   "id": "de177b6b",
   "metadata": {},
   "outputs": [
    {
     "data": {
      "text/html": [
       "<div>\n",
       "<style scoped>\n",
       "    .dataframe tbody tr th:only-of-type {\n",
       "        vertical-align: middle;\n",
       "    }\n",
       "\n",
       "    .dataframe tbody tr th {\n",
       "        vertical-align: top;\n",
       "    }\n",
       "\n",
       "    .dataframe thead th {\n",
       "        text-align: right;\n",
       "    }\n",
       "</style>\n",
       "<table border=\"1\" class=\"dataframe\">\n",
       "  <thead>\n",
       "    <tr style=\"text-align: right;\">\n",
       "      <th></th>\n",
       "      <th>customerID</th>\n",
       "      <th>MultipleLines</th>\n",
       "    </tr>\n",
       "  </thead>\n",
       "  <tbody>\n",
       "    <tr>\n",
       "      <th>0</th>\n",
       "      <td>5575-GNVDE</td>\n",
       "      <td>No</td>\n",
       "    </tr>\n",
       "    <tr>\n",
       "      <th>1</th>\n",
       "      <td>3668-QPYBK</td>\n",
       "      <td>No</td>\n",
       "    </tr>\n",
       "    <tr>\n",
       "      <th>2</th>\n",
       "      <td>9237-HQITU</td>\n",
       "      <td>No</td>\n",
       "    </tr>\n",
       "    <tr>\n",
       "      <th>3</th>\n",
       "      <td>9305-CDSKC</td>\n",
       "      <td>Yes</td>\n",
       "    </tr>\n",
       "    <tr>\n",
       "      <th>4</th>\n",
       "      <td>1452-KIOVK</td>\n",
       "      <td>Yes</td>\n",
       "    </tr>\n",
       "  </tbody>\n",
       "</table>\n",
       "</div>"
      ],
      "text/plain": [
       "   customerID MultipleLines\n",
       "0  5575-GNVDE            No\n",
       "1  3668-QPYBK            No\n",
       "2  9237-HQITU            No\n",
       "3  9305-CDSKC           Yes\n",
       "4  1452-KIOVK           Yes"
      ]
     },
     "execution_count": 34,
     "metadata": {},
     "output_type": "execute_result"
    }
   ],
   "source": [
    "# чтение файла\n",
    "try:\n",
    "    df_phone = pd.read_csv(r\"C:\\downloads\\final_provider\\final_provider\\phone.csv\")\n",
    "except:\n",
    "    df_phone = pd.read_csv(\"/datasets/final_provider/phone.csv\")\n",
    "df_phone.head()"
   ]
  },
  {
   "cell_type": "code",
   "execution_count": 35,
   "id": "cf783652",
   "metadata": {},
   "outputs": [
    {
     "name": "stdout",
     "output_type": "stream",
     "text": [
      "<class 'pandas.core.frame.DataFrame'>\n",
      "RangeIndex: 6361 entries, 0 to 6360\n",
      "Data columns (total 2 columns):\n",
      " #   Column         Non-Null Count  Dtype \n",
      "---  ------         --------------  ----- \n",
      " 0   customerID     6361 non-null   object\n",
      " 1   MultipleLines  6361 non-null   object\n",
      "dtypes: object(2)\n",
      "memory usage: 99.5+ KB\n"
     ]
    }
   ],
   "source": [
    "# просмотр общей информации\n",
    "df_phone.info()"
   ]
  },
  {
   "cell_type": "code",
   "execution_count": 36,
   "id": "b04b4606",
   "metadata": {},
   "outputs": [
    {
     "data": {
      "text/plain": [
       "0"
      ]
     },
     "execution_count": 36,
     "metadata": {},
     "output_type": "execute_result"
    }
   ],
   "source": [
    "# проверка на наличие строк-дубликатов\n",
    "df_phone.duplicated().sum()"
   ]
  },
  {
   "cell_type": "code",
   "execution_count": 37,
   "id": "670ff528",
   "metadata": {},
   "outputs": [
    {
     "data": {
      "text/plain": [
       "No     3390\n",
       "Yes    2971\n",
       "Name: MultipleLines, dtype: int64"
      ]
     },
     "execution_count": 37,
     "metadata": {},
     "output_type": "execute_result"
    }
   ],
   "source": [
    "# ознакомление с данными\n",
    "df_phone['MultipleLines'].value_counts()"
   ]
  },
  {
   "cell_type": "markdown",
   "id": "dbe18f1d",
   "metadata": {},
   "source": [
    " #### Вывод"
   ]
  },
  {
   "cell_type": "markdown",
   "id": "4fe29af8",
   "metadata": {},
   "source": [
    "- Данные не содержат пропусков.\n",
    "- Данные не содержат строк-дубликатов."
   ]
  },
  {
   "cell_type": "markdown",
   "id": "391ecfbf",
   "metadata": {},
   "source": [
    "### Вывод"
   ]
  },
  {
   "cell_type": "markdown",
   "id": "2dd967e7",
   "metadata": {},
   "source": [
    "Проведён исследовательский анализ 4 файлов. \n",
    "- Данные проверены на пропуски.\n",
    "- Данные проверены на дубликаты.\n",
    "- Произведена визуализация корреляции.\n",
    "- Проведён анализ корреляции.\n",
    "- Отстутствует явный целевой признак, при дальнейшей работе необходимо его выделить.\n",
    "- Необходимо привести данные к единому регистру."
   ]
  },
  {
   "cell_type": "markdown",
   "id": "699dde3f",
   "metadata": {},
   "source": [
    "## План работы"
   ]
  },
  {
   "cell_type": "markdown",
   "id": "0486c0fa",
   "metadata": {},
   "source": [
    "1. Исследовательский анализ данных.\n",
    "    - Загрузка данных.\n",
    "    - Проверка на наличие пропусков. \n",
    "    - Проверка на наличие дубликатов. \n",
    "    - Анализ корреляции. Понимание важности коррелирующих признаков.\n",
    "2. Предобработка данных.\n",
    "    - Приведение данных к единому регистру.\n",
    "    - Устранение пропусков.\n",
    "    - Устранение дубликатов.\n",
    "    - Выделение целевого признака из известного столбца `EndDate`.\n",
    "    - Выделение продолжительности пользования услугами (новый признак) из двух данных столбцов `BeginDate` и `EndDate`.\n",
    "    - Удаление неинформативных признаков после всех преобразований (`BeginDate` и `EndDate`). \n",
    "    - Объединение датафреймов по коду клиента.\n",
    "3. Обучение моделей.\n",
    "    - Разделение на выборки: тренировочную и тестовую.\n",
    "    - Подготовка данных к машинному обучению с учетом используемых моделей. (RandomForest, LogisticRegression, CatBoost, LightGBM). Используем кодирование, масштабирование, изменение типа данных с учетом используемых моделей.\n",
    "    - Обучение моделей с перебором гиперпараметров.\n",
    "    - Отслеживание метрики AUC-ROC на кросс-валидации.\n",
    "    - Выбор лучшей модели.\n",
    "    - Проверка качества лучшей модели на тестовой выборке.\n",
    "    - Матрица ошибок.\n",
    "    - Исследование важности признаков лучшей модели.\n",
    "4. Отчёт."
   ]
  },
  {
   "cell_type": "markdown",
   "id": "49617b91",
   "metadata": {},
   "source": [
    "## Предобработка данных"
   ]
  },
  {
   "cell_type": "markdown",
   "id": "9d0afed0",
   "metadata": {},
   "source": [
    "### Предобработка данных датафрейма df_contract"
   ]
  },
  {
   "cell_type": "code",
   "execution_count": 38,
   "id": "7f8d3801",
   "metadata": {},
   "outputs": [
    {
     "data": {
      "text/html": [
       "<div>\n",
       "<style scoped>\n",
       "    .dataframe tbody tr th:only-of-type {\n",
       "        vertical-align: middle;\n",
       "    }\n",
       "\n",
       "    .dataframe tbody tr th {\n",
       "        vertical-align: top;\n",
       "    }\n",
       "\n",
       "    .dataframe thead th {\n",
       "        text-align: right;\n",
       "    }\n",
       "</style>\n",
       "<table border=\"1\" class=\"dataframe\">\n",
       "  <thead>\n",
       "    <tr style=\"text-align: right;\">\n",
       "      <th></th>\n",
       "      <th>customerID</th>\n",
       "      <th>BeginDate</th>\n",
       "      <th>EndDate</th>\n",
       "      <th>Type</th>\n",
       "      <th>PaperlessBilling</th>\n",
       "      <th>PaymentMethod</th>\n",
       "      <th>MonthlyCharges</th>\n",
       "      <th>TotalCharges</th>\n",
       "    </tr>\n",
       "  </thead>\n",
       "  <tbody>\n",
       "    <tr>\n",
       "      <th>0</th>\n",
       "      <td>7590-VHVEG</td>\n",
       "      <td>2020-01-01</td>\n",
       "      <td>No</td>\n",
       "      <td>Month-to-month</td>\n",
       "      <td>Yes</td>\n",
       "      <td>Electronic check</td>\n",
       "      <td>29.85</td>\n",
       "      <td>29.85</td>\n",
       "    </tr>\n",
       "    <tr>\n",
       "      <th>1</th>\n",
       "      <td>5575-GNVDE</td>\n",
       "      <td>2017-04-01</td>\n",
       "      <td>No</td>\n",
       "      <td>One year</td>\n",
       "      <td>No</td>\n",
       "      <td>Mailed check</td>\n",
       "      <td>56.95</td>\n",
       "      <td>1889.5</td>\n",
       "    </tr>\n",
       "    <tr>\n",
       "      <th>2</th>\n",
       "      <td>3668-QPYBK</td>\n",
       "      <td>2019-10-01</td>\n",
       "      <td>2019-12-01 00:00:00</td>\n",
       "      <td>Month-to-month</td>\n",
       "      <td>Yes</td>\n",
       "      <td>Mailed check</td>\n",
       "      <td>53.85</td>\n",
       "      <td>108.15</td>\n",
       "    </tr>\n",
       "    <tr>\n",
       "      <th>3</th>\n",
       "      <td>7795-CFOCW</td>\n",
       "      <td>2016-05-01</td>\n",
       "      <td>No</td>\n",
       "      <td>One year</td>\n",
       "      <td>No</td>\n",
       "      <td>Bank transfer (automatic)</td>\n",
       "      <td>42.30</td>\n",
       "      <td>1840.75</td>\n",
       "    </tr>\n",
       "    <tr>\n",
       "      <th>4</th>\n",
       "      <td>9237-HQITU</td>\n",
       "      <td>2019-09-01</td>\n",
       "      <td>2019-11-01 00:00:00</td>\n",
       "      <td>Month-to-month</td>\n",
       "      <td>Yes</td>\n",
       "      <td>Electronic check</td>\n",
       "      <td>70.70</td>\n",
       "      <td>151.65</td>\n",
       "    </tr>\n",
       "  </tbody>\n",
       "</table>\n",
       "</div>"
      ],
      "text/plain": [
       "   customerID   BeginDate              EndDate            Type  \\\n",
       "0  7590-VHVEG  2020-01-01                   No  Month-to-month   \n",
       "1  5575-GNVDE  2017-04-01                   No        One year   \n",
       "2  3668-QPYBK  2019-10-01  2019-12-01 00:00:00  Month-to-month   \n",
       "3  7795-CFOCW  2016-05-01                   No        One year   \n",
       "4  9237-HQITU  2019-09-01  2019-11-01 00:00:00  Month-to-month   \n",
       "\n",
       "  PaperlessBilling              PaymentMethod  MonthlyCharges TotalCharges  \n",
       "0              Yes           Electronic check           29.85        29.85  \n",
       "1               No               Mailed check           56.95       1889.5  \n",
       "2              Yes               Mailed check           53.85       108.15  \n",
       "3               No  Bank transfer (automatic)           42.30      1840.75  \n",
       "4              Yes           Electronic check           70.70       151.65  "
      ]
     },
     "execution_count": 38,
     "metadata": {},
     "output_type": "execute_result"
    }
   ],
   "source": [
    "# просмотр датафрейма\n",
    "df_contract.head()"
   ]
  },
  {
   "cell_type": "code",
   "execution_count": 39,
   "id": "134c477c",
   "metadata": {
    "scrolled": true
   },
   "outputs": [
    {
     "data": {
      "text/html": [
       "<div>\n",
       "<style scoped>\n",
       "    .dataframe tbody tr th:only-of-type {\n",
       "        vertical-align: middle;\n",
       "    }\n",
       "\n",
       "    .dataframe tbody tr th {\n",
       "        vertical-align: top;\n",
       "    }\n",
       "\n",
       "    .dataframe thead th {\n",
       "        text-align: right;\n",
       "    }\n",
       "</style>\n",
       "<table border=\"1\" class=\"dataframe\">\n",
       "  <thead>\n",
       "    <tr style=\"text-align: right;\">\n",
       "      <th></th>\n",
       "      <th>customerid</th>\n",
       "      <th>begindate</th>\n",
       "      <th>enddate</th>\n",
       "      <th>type</th>\n",
       "      <th>paperlessbilling</th>\n",
       "      <th>paymentmethod</th>\n",
       "      <th>monthlycharges</th>\n",
       "      <th>totalcharges</th>\n",
       "    </tr>\n",
       "  </thead>\n",
       "  <tbody>\n",
       "    <tr>\n",
       "      <th>0</th>\n",
       "      <td>7590-VHVEG</td>\n",
       "      <td>2020-01-01</td>\n",
       "      <td>no</td>\n",
       "      <td>month-to-month</td>\n",
       "      <td>yes</td>\n",
       "      <td>electronic check</td>\n",
       "      <td>29.85</td>\n",
       "      <td>29.85</td>\n",
       "    </tr>\n",
       "    <tr>\n",
       "      <th>1</th>\n",
       "      <td>5575-GNVDE</td>\n",
       "      <td>2017-04-01</td>\n",
       "      <td>no</td>\n",
       "      <td>one year</td>\n",
       "      <td>no</td>\n",
       "      <td>mailed check</td>\n",
       "      <td>56.95</td>\n",
       "      <td>1889.5</td>\n",
       "    </tr>\n",
       "    <tr>\n",
       "      <th>2</th>\n",
       "      <td>3668-QPYBK</td>\n",
       "      <td>2019-10-01</td>\n",
       "      <td>2019-12-01 00:00:00</td>\n",
       "      <td>month-to-month</td>\n",
       "      <td>yes</td>\n",
       "      <td>mailed check</td>\n",
       "      <td>53.85</td>\n",
       "      <td>108.15</td>\n",
       "    </tr>\n",
       "    <tr>\n",
       "      <th>3</th>\n",
       "      <td>7795-CFOCW</td>\n",
       "      <td>2016-05-01</td>\n",
       "      <td>no</td>\n",
       "      <td>one year</td>\n",
       "      <td>no</td>\n",
       "      <td>bank transfer (automatic)</td>\n",
       "      <td>42.30</td>\n",
       "      <td>1840.75</td>\n",
       "    </tr>\n",
       "    <tr>\n",
       "      <th>4</th>\n",
       "      <td>9237-HQITU</td>\n",
       "      <td>2019-09-01</td>\n",
       "      <td>2019-11-01 00:00:00</td>\n",
       "      <td>month-to-month</td>\n",
       "      <td>yes</td>\n",
       "      <td>electronic check</td>\n",
       "      <td>70.70</td>\n",
       "      <td>151.65</td>\n",
       "    </tr>\n",
       "  </tbody>\n",
       "</table>\n",
       "</div>"
      ],
      "text/plain": [
       "   customerid   begindate              enddate            type  \\\n",
       "0  7590-VHVEG  2020-01-01                   no  month-to-month   \n",
       "1  5575-GNVDE  2017-04-01                   no        one year   \n",
       "2  3668-QPYBK  2019-10-01  2019-12-01 00:00:00  month-to-month   \n",
       "3  7795-CFOCW  2016-05-01                   no        one year   \n",
       "4  9237-HQITU  2019-09-01  2019-11-01 00:00:00  month-to-month   \n",
       "\n",
       "  paperlessbilling              paymentmethod  monthlycharges totalcharges  \n",
       "0              yes           electronic check           29.85        29.85  \n",
       "1               no               mailed check           56.95       1889.5  \n",
       "2              yes               mailed check           53.85       108.15  \n",
       "3               no  bank transfer (automatic)           42.30      1840.75  \n",
       "4              yes           electronic check           70.70       151.65  "
      ]
     },
     "execution_count": 39,
     "metadata": {},
     "output_type": "execute_result"
    }
   ],
   "source": [
    "# приведение заголовков столбцов к нижнему регистру\n",
    "# приведение данных в отдельных столбцах\n",
    "# к нижнему регистру для удобства работы с данными\n",
    "df_contract.columns = df_contract.columns.str.lower()\n",
    "df_contract['enddate'] = df_contract['enddate'].str.lower()\n",
    "df_contract['type'] = df_contract['type'].str.lower()\n",
    "df_contract['paperlessbilling'] = df_contract['paperlessbilling'].str.lower()\n",
    "df_contract['paymentmethod'] = df_contract['paymentmethod'].str.lower()\n",
    "df_contract.head()"
   ]
  },
  {
   "cell_type": "code",
   "execution_count": 40,
   "id": "26b5906a",
   "metadata": {},
   "outputs": [
    {
     "data": {
      "text/plain": [
       "Index(['customer_id', 'begin_date', 'end_date', 'type', 'paperless_billing',\n",
       "       'payment_method', 'monthly_charges', 'total_charges'],\n",
       "      dtype='object')"
      ]
     },
     "execution_count": 40,
     "metadata": {},
     "output_type": "execute_result"
    }
   ],
   "source": [
    "# переименование столбцов\n",
    "df_contract = df_contract.rename(columns={'customerid':'customer_id', \n",
    "                                          'begindate':'begin_date',\n",
    "                                          'enddate':'end_date',\n",
    "                                          'paperlessbilling':'paperless_billing',\n",
    "                                          'paymentmethod':'payment_method',\n",
    "                                          'monthlycharges':'monthly_charges',\n",
    "                                          'totalcharges':'total_charges'})\n",
    "df_contract.columns"
   ]
  },
  {
   "cell_type": "markdown",
   "id": "69f102fb",
   "metadata": {},
   "source": [
    "#### Устранение пропусков"
   ]
  },
  {
   "cell_type": "code",
   "execution_count": 41,
   "id": "3b9ca0f9",
   "metadata": {},
   "outputs": [
    {
     "data": {
      "text/plain": [
       "2020-02-01             5174\n",
       "2019-11-01 00:00:00     485\n",
       "2019-12-01 00:00:00     466\n",
       "2020-01-01 00:00:00     460\n",
       "2019-10-01 00:00:00     458\n",
       "Name: end_date, dtype: int64"
      ]
     },
     "execution_count": 41,
     "metadata": {},
     "output_type": "execute_result"
    }
   ],
   "source": [
    "# замена пропусков (no) в столбце 'end_date' на дату актуальности даннных\n",
    "df_contract['end_date'] = df_contract['end_date'].replace('no','2020-02-01')\n",
    "df_contract['end_date'].value_counts()"
   ]
  },
  {
   "cell_type": "code",
   "execution_count": 42,
   "id": "805b5a5f",
   "metadata": {},
   "outputs": [],
   "source": [
    "# замена пробелов в столбце 'total_charges'\n",
    "# на соответствующие значения столбца 'monthly_charges'\n",
    "mc = df_contract.loc[df_contract['total_charges'] == ' ', 'monthly_charges']\n",
    "df_contract.loc[df_contract['total_charges'] == ' ', 'total_charges'] = mc"
   ]
  },
  {
   "cell_type": "code",
   "execution_count": 43,
   "id": "27dd9aff",
   "metadata": {},
   "outputs": [
    {
     "data": {
      "text/plain": [
       "488     52.55\n",
       "753     20.25\n",
       "936     80.85\n",
       "1082    25.75\n",
       "1340    56.05\n",
       "3331    19.85\n",
       "3826    25.35\n",
       "4380    20.00\n",
       "5218    19.70\n",
       "6670    73.35\n",
       "6754    61.90\n",
       "Name: monthly_charges, dtype: float64"
      ]
     },
     "execution_count": 43,
     "metadata": {},
     "output_type": "execute_result"
    }
   ],
   "source": [
    "# проверка среза\n",
    "mc"
   ]
  },
  {
   "cell_type": "code",
   "execution_count": 44,
   "id": "988ebc92",
   "metadata": {},
   "outputs": [
    {
     "data": {
      "text/plain": [
       "20.2       11\n",
       "19.75       9\n",
       "20.05       8\n",
       "19.9        8\n",
       "19.65       8\n",
       "           ..\n",
       "2258.25     1\n",
       "119.75      1\n",
       "109.25      1\n",
       "1052.4      1\n",
       "5610.7      1\n",
       "Name: total_charges, Length: 6541, dtype: int64"
      ]
     },
     "execution_count": 44,
     "metadata": {},
     "output_type": "execute_result"
    }
   ],
   "source": [
    "# проверка данных в столбце \n",
    "df_contract['total_charges'].value_counts()"
   ]
  },
  {
   "cell_type": "markdown",
   "id": "e56eca40",
   "metadata": {},
   "source": [
    "#### Выделение целевого признака"
   ]
  },
  {
   "cell_type": "code",
   "execution_count": 45,
   "id": "585e1002",
   "metadata": {},
   "outputs": [
    {
     "data": {
      "text/html": [
       "<div>\n",
       "<style scoped>\n",
       "    .dataframe tbody tr th:only-of-type {\n",
       "        vertical-align: middle;\n",
       "    }\n",
       "\n",
       "    .dataframe tbody tr th {\n",
       "        vertical-align: top;\n",
       "    }\n",
       "\n",
       "    .dataframe thead th {\n",
       "        text-align: right;\n",
       "    }\n",
       "</style>\n",
       "<table border=\"1\" class=\"dataframe\">\n",
       "  <thead>\n",
       "    <tr style=\"text-align: right;\">\n",
       "      <th></th>\n",
       "      <th>customer_id</th>\n",
       "      <th>begin_date</th>\n",
       "      <th>end_date</th>\n",
       "      <th>type</th>\n",
       "      <th>paperless_billing</th>\n",
       "      <th>payment_method</th>\n",
       "      <th>monthly_charges</th>\n",
       "      <th>total_charges</th>\n",
       "      <th>customer_care</th>\n",
       "    </tr>\n",
       "  </thead>\n",
       "  <tbody>\n",
       "    <tr>\n",
       "      <th>0</th>\n",
       "      <td>7590-VHVEG</td>\n",
       "      <td>2020-01-01</td>\n",
       "      <td>2020-02-01</td>\n",
       "      <td>month-to-month</td>\n",
       "      <td>yes</td>\n",
       "      <td>electronic check</td>\n",
       "      <td>29.85</td>\n",
       "      <td>29.85</td>\n",
       "      <td>0</td>\n",
       "    </tr>\n",
       "    <tr>\n",
       "      <th>1</th>\n",
       "      <td>5575-GNVDE</td>\n",
       "      <td>2017-04-01</td>\n",
       "      <td>2020-02-01</td>\n",
       "      <td>one year</td>\n",
       "      <td>no</td>\n",
       "      <td>mailed check</td>\n",
       "      <td>56.95</td>\n",
       "      <td>1889.5</td>\n",
       "      <td>0</td>\n",
       "    </tr>\n",
       "    <tr>\n",
       "      <th>2</th>\n",
       "      <td>3668-QPYBK</td>\n",
       "      <td>2019-10-01</td>\n",
       "      <td>2019-12-01 00:00:00</td>\n",
       "      <td>month-to-month</td>\n",
       "      <td>yes</td>\n",
       "      <td>mailed check</td>\n",
       "      <td>53.85</td>\n",
       "      <td>108.15</td>\n",
       "      <td>1</td>\n",
       "    </tr>\n",
       "    <tr>\n",
       "      <th>3</th>\n",
       "      <td>7795-CFOCW</td>\n",
       "      <td>2016-05-01</td>\n",
       "      <td>2020-02-01</td>\n",
       "      <td>one year</td>\n",
       "      <td>no</td>\n",
       "      <td>bank transfer (automatic)</td>\n",
       "      <td>42.30</td>\n",
       "      <td>1840.75</td>\n",
       "      <td>0</td>\n",
       "    </tr>\n",
       "    <tr>\n",
       "      <th>4</th>\n",
       "      <td>9237-HQITU</td>\n",
       "      <td>2019-09-01</td>\n",
       "      <td>2019-11-01 00:00:00</td>\n",
       "      <td>month-to-month</td>\n",
       "      <td>yes</td>\n",
       "      <td>electronic check</td>\n",
       "      <td>70.70</td>\n",
       "      <td>151.65</td>\n",
       "      <td>1</td>\n",
       "    </tr>\n",
       "  </tbody>\n",
       "</table>\n",
       "</div>"
      ],
      "text/plain": [
       "  customer_id  begin_date             end_date            type  \\\n",
       "0  7590-VHVEG  2020-01-01           2020-02-01  month-to-month   \n",
       "1  5575-GNVDE  2017-04-01           2020-02-01        one year   \n",
       "2  3668-QPYBK  2019-10-01  2019-12-01 00:00:00  month-to-month   \n",
       "3  7795-CFOCW  2016-05-01           2020-02-01        one year   \n",
       "4  9237-HQITU  2019-09-01  2019-11-01 00:00:00  month-to-month   \n",
       "\n",
       "  paperless_billing             payment_method  monthly_charges total_charges  \\\n",
       "0               yes           electronic check            29.85         29.85   \n",
       "1                no               mailed check            56.95        1889.5   \n",
       "2               yes               mailed check            53.85        108.15   \n",
       "3                no  bank transfer (automatic)            42.30       1840.75   \n",
       "4               yes           electronic check            70.70        151.65   \n",
       "\n",
       "   customer_care  \n",
       "0              0  \n",
       "1              0  \n",
       "2              1  \n",
       "3              0  \n",
       "4              1  "
      ]
     },
     "execution_count": 45,
     "metadata": {},
     "output_type": "execute_result"
    }
   ],
   "source": [
    "# создание собственной функции для категоризации признака\n",
    "# если клиент ушёл 'customer_care' = 1, остался 'customer_care' = 0\n",
    "def customer_care(row):\n",
    "    if row['end_date'] == '2020-02-01':\n",
    "        return 0\n",
    "    else:\n",
    "        return 1\n",
    "    \n",
    "# создание нового столбца с вызовом собственной функции\n",
    "df_contract['customer_care']  = (\n",
    "          df_contract.apply(customer_care, axis=1))\n",
    "\n",
    "# проверка результата \n",
    "df_contract.head()"
   ]
  },
  {
   "cell_type": "markdown",
   "id": "af4db839",
   "metadata": {},
   "source": [
    "#### Выделение нового признака"
   ]
  },
  {
   "cell_type": "markdown",
   "id": "425175e8",
   "metadata": {},
   "source": [
    "Выделение продолжительности пользования услугами из двух данных столбцов `begin_date` и `end_date`."
   ]
  },
  {
   "cell_type": "code",
   "execution_count": 46,
   "id": "e0cd02af",
   "metadata": {},
   "outputs": [],
   "source": [
    "# приведение данных в столбцах к типу datetime и единому виду\n",
    "df_contract['end_date'] = pd.to_datetime(df_contract['end_date'], format='%Y-%m-%d')\n",
    "df_contract['begin_date'] = pd.to_datetime(df_contract['begin_date'], format='%Y-%m-%d')"
   ]
  },
  {
   "cell_type": "code",
   "execution_count": 47,
   "id": "965e342b",
   "metadata": {},
   "outputs": [],
   "source": [
    "# выделение продолжительности пользования услугами\n",
    "df_contract['period'] = (df_contract['end_date'] - df_contract['begin_date']).dt.days"
   ]
  },
  {
   "cell_type": "code",
   "execution_count": 48,
   "id": "d43b0720",
   "metadata": {
    "scrolled": true
   },
   "outputs": [
    {
     "data": {
      "text/html": [
       "<div>\n",
       "<style scoped>\n",
       "    .dataframe tbody tr th:only-of-type {\n",
       "        vertical-align: middle;\n",
       "    }\n",
       "\n",
       "    .dataframe tbody tr th {\n",
       "        vertical-align: top;\n",
       "    }\n",
       "\n",
       "    .dataframe thead th {\n",
       "        text-align: right;\n",
       "    }\n",
       "</style>\n",
       "<table border=\"1\" class=\"dataframe\">\n",
       "  <thead>\n",
       "    <tr style=\"text-align: right;\">\n",
       "      <th></th>\n",
       "      <th>customer_id</th>\n",
       "      <th>begin_date</th>\n",
       "      <th>end_date</th>\n",
       "      <th>type</th>\n",
       "      <th>paperless_billing</th>\n",
       "      <th>payment_method</th>\n",
       "      <th>monthly_charges</th>\n",
       "      <th>total_charges</th>\n",
       "      <th>customer_care</th>\n",
       "      <th>period</th>\n",
       "    </tr>\n",
       "  </thead>\n",
       "  <tbody>\n",
       "    <tr>\n",
       "      <th>0</th>\n",
       "      <td>7590-VHVEG</td>\n",
       "      <td>2020-01-01</td>\n",
       "      <td>2020-02-01</td>\n",
       "      <td>month-to-month</td>\n",
       "      <td>yes</td>\n",
       "      <td>electronic check</td>\n",
       "      <td>29.85</td>\n",
       "      <td>29.85</td>\n",
       "      <td>0</td>\n",
       "      <td>31</td>\n",
       "    </tr>\n",
       "    <tr>\n",
       "      <th>1</th>\n",
       "      <td>5575-GNVDE</td>\n",
       "      <td>2017-04-01</td>\n",
       "      <td>2020-02-01</td>\n",
       "      <td>one year</td>\n",
       "      <td>no</td>\n",
       "      <td>mailed check</td>\n",
       "      <td>56.95</td>\n",
       "      <td>1889.5</td>\n",
       "      <td>0</td>\n",
       "      <td>1036</td>\n",
       "    </tr>\n",
       "    <tr>\n",
       "      <th>2</th>\n",
       "      <td>3668-QPYBK</td>\n",
       "      <td>2019-10-01</td>\n",
       "      <td>2019-12-01</td>\n",
       "      <td>month-to-month</td>\n",
       "      <td>yes</td>\n",
       "      <td>mailed check</td>\n",
       "      <td>53.85</td>\n",
       "      <td>108.15</td>\n",
       "      <td>1</td>\n",
       "      <td>61</td>\n",
       "    </tr>\n",
       "    <tr>\n",
       "      <th>3</th>\n",
       "      <td>7795-CFOCW</td>\n",
       "      <td>2016-05-01</td>\n",
       "      <td>2020-02-01</td>\n",
       "      <td>one year</td>\n",
       "      <td>no</td>\n",
       "      <td>bank transfer (automatic)</td>\n",
       "      <td>42.30</td>\n",
       "      <td>1840.75</td>\n",
       "      <td>0</td>\n",
       "      <td>1371</td>\n",
       "    </tr>\n",
       "    <tr>\n",
       "      <th>4</th>\n",
       "      <td>9237-HQITU</td>\n",
       "      <td>2019-09-01</td>\n",
       "      <td>2019-11-01</td>\n",
       "      <td>month-to-month</td>\n",
       "      <td>yes</td>\n",
       "      <td>electronic check</td>\n",
       "      <td>70.70</td>\n",
       "      <td>151.65</td>\n",
       "      <td>1</td>\n",
       "      <td>61</td>\n",
       "    </tr>\n",
       "  </tbody>\n",
       "</table>\n",
       "</div>"
      ],
      "text/plain": [
       "  customer_id begin_date   end_date            type paperless_billing  \\\n",
       "0  7590-VHVEG 2020-01-01 2020-02-01  month-to-month               yes   \n",
       "1  5575-GNVDE 2017-04-01 2020-02-01        one year                no   \n",
       "2  3668-QPYBK 2019-10-01 2019-12-01  month-to-month               yes   \n",
       "3  7795-CFOCW 2016-05-01 2020-02-01        one year                no   \n",
       "4  9237-HQITU 2019-09-01 2019-11-01  month-to-month               yes   \n",
       "\n",
       "              payment_method  monthly_charges total_charges  customer_care  \\\n",
       "0           electronic check            29.85         29.85              0   \n",
       "1               mailed check            56.95        1889.5              0   \n",
       "2               mailed check            53.85        108.15              1   \n",
       "3  bank transfer (automatic)            42.30       1840.75              0   \n",
       "4           electronic check            70.70        151.65              1   \n",
       "\n",
       "   period  \n",
       "0      31  \n",
       "1    1036  \n",
       "2      61  \n",
       "3    1371  \n",
       "4      61  "
      ]
     },
     "execution_count": 48,
     "metadata": {},
     "output_type": "execute_result"
    }
   ],
   "source": [
    "# проверка результата \n",
    "df_contract.head()"
   ]
  },
  {
   "cell_type": "code",
   "execution_count": 49,
   "id": "88c7ba8d",
   "metadata": {},
   "outputs": [
    {
     "data": {
      "text/plain": [
       "31      431\n",
       "2191    362\n",
       "30      182\n",
       "92      169\n",
       "2163    164\n",
       "       ... \n",
       "1400      2\n",
       "1948      2\n",
       "2070      2\n",
       "2161      1\n",
       "1917      1\n",
       "Name: period, Length: 156, dtype: int64"
      ]
     },
     "execution_count": 49,
     "metadata": {},
     "output_type": "execute_result"
    }
   ],
   "source": [
    "df_contract['period'].value_counts()"
   ]
  },
  {
   "cell_type": "code",
   "execution_count": 50,
   "id": "0a721c80",
   "metadata": {},
   "outputs": [
    {
     "data": {
      "text/plain": [
       "Text(0, 0.5, 'Частота')"
      ]
     },
     "execution_count": 50,
     "metadata": {},
     "output_type": "execute_result"
    },
    {
     "data": {
      "image/png": "[encoded data removed]",
      "text/plain": [
       "<Figure size 1080x720 with 1 Axes>"
      ]
     },
     "metadata": {
      "needs_background": "light"
     },
     "output_type": "display_data"
    }
   ],
   "source": [
    "df_contract['period'].plot(kind=\"hist\",\n",
    "                            bins=100,\n",
    "                            figsize=(15,10),\n",
    "                            fontsize = 12)\n",
    "\n",
    "plt.title(\"График распределения продолжительности пользования услугами\", fontsize=20)\n",
    "plt.xlabel(\"Количество дней\", fontsize=15)\n",
    "plt.ylabel(\"Частота\", fontsize=15)"
   ]
  },
  {
   "cell_type": "markdown",
   "id": "620b8e36",
   "metadata": {},
   "source": [
    "Наблюдается резкий скачок в периоде около месяца. "
   ]
  },
  {
   "cell_type": "markdown",
   "id": "95f6beaf",
   "metadata": {},
   "source": [
    "#### Удаление неинформативных признаков"
   ]
  },
  {
   "cell_type": "code",
   "execution_count": 51,
   "id": "427e6be2",
   "metadata": {},
   "outputs": [
    {
     "data": {
      "text/html": [
       "<div>\n",
       "<style scoped>\n",
       "    .dataframe tbody tr th:only-of-type {\n",
       "        vertical-align: middle;\n",
       "    }\n",
       "\n",
       "    .dataframe tbody tr th {\n",
       "        vertical-align: top;\n",
       "    }\n",
       "\n",
       "    .dataframe thead th {\n",
       "        text-align: right;\n",
       "    }\n",
       "</style>\n",
       "<table border=\"1\" class=\"dataframe\">\n",
       "  <thead>\n",
       "    <tr style=\"text-align: right;\">\n",
       "      <th></th>\n",
       "      <th>customer_id</th>\n",
       "      <th>type</th>\n",
       "      <th>paperless_billing</th>\n",
       "      <th>payment_method</th>\n",
       "      <th>monthly_charges</th>\n",
       "      <th>total_charges</th>\n",
       "      <th>customer_care</th>\n",
       "      <th>period</th>\n",
       "    </tr>\n",
       "  </thead>\n",
       "  <tbody>\n",
       "    <tr>\n",
       "      <th>0</th>\n",
       "      <td>7590-VHVEG</td>\n",
       "      <td>month-to-month</td>\n",
       "      <td>yes</td>\n",
       "      <td>electronic check</td>\n",
       "      <td>29.85</td>\n",
       "      <td>29.85</td>\n",
       "      <td>0</td>\n",
       "      <td>31</td>\n",
       "    </tr>\n",
       "    <tr>\n",
       "      <th>1</th>\n",
       "      <td>5575-GNVDE</td>\n",
       "      <td>one year</td>\n",
       "      <td>no</td>\n",
       "      <td>mailed check</td>\n",
       "      <td>56.95</td>\n",
       "      <td>1889.5</td>\n",
       "      <td>0</td>\n",
       "      <td>1036</td>\n",
       "    </tr>\n",
       "    <tr>\n",
       "      <th>2</th>\n",
       "      <td>3668-QPYBK</td>\n",
       "      <td>month-to-month</td>\n",
       "      <td>yes</td>\n",
       "      <td>mailed check</td>\n",
       "      <td>53.85</td>\n",
       "      <td>108.15</td>\n",
       "      <td>1</td>\n",
       "      <td>61</td>\n",
       "    </tr>\n",
       "    <tr>\n",
       "      <th>3</th>\n",
       "      <td>7795-CFOCW</td>\n",
       "      <td>one year</td>\n",
       "      <td>no</td>\n",
       "      <td>bank transfer (automatic)</td>\n",
       "      <td>42.30</td>\n",
       "      <td>1840.75</td>\n",
       "      <td>0</td>\n",
       "      <td>1371</td>\n",
       "    </tr>\n",
       "    <tr>\n",
       "      <th>4</th>\n",
       "      <td>9237-HQITU</td>\n",
       "      <td>month-to-month</td>\n",
       "      <td>yes</td>\n",
       "      <td>electronic check</td>\n",
       "      <td>70.70</td>\n",
       "      <td>151.65</td>\n",
       "      <td>1</td>\n",
       "      <td>61</td>\n",
       "    </tr>\n",
       "  </tbody>\n",
       "</table>\n",
       "</div>"
      ],
      "text/plain": [
       "  customer_id            type paperless_billing             payment_method  \\\n",
       "0  7590-VHVEG  month-to-month               yes           electronic check   \n",
       "1  5575-GNVDE        one year                no               mailed check   \n",
       "2  3668-QPYBK  month-to-month               yes               mailed check   \n",
       "3  7795-CFOCW        one year                no  bank transfer (automatic)   \n",
       "4  9237-HQITU  month-to-month               yes           electronic check   \n",
       "\n",
       "   monthly_charges total_charges  customer_care  period  \n",
       "0            29.85         29.85              0      31  \n",
       "1            56.95        1889.5              0    1036  \n",
       "2            53.85        108.15              1      61  \n",
       "3            42.30       1840.75              0    1371  \n",
       "4            70.70        151.65              1      61  "
      ]
     },
     "execution_count": 51,
     "metadata": {},
     "output_type": "execute_result"
    }
   ],
   "source": [
    "# удаление столбцов для исключения выявления лишней зависимости\n",
    "df_contract = df_contract.drop(['begin_date', 'end_date'], axis=1)\n",
    "df_contract.head()"
   ]
  },
  {
   "cell_type": "markdown",
   "id": "e11b72a3",
   "metadata": {},
   "source": [
    "#### Вывод"
   ]
  },
  {
   "cell_type": "markdown",
   "id": "a1ff02b3",
   "metadata": {},
   "source": [
    "Проведена предобработка данных в датафрейме `df_contract`.\n",
    "- Заголовки столбцов и данные в них приведены к виду удобному для работы.\n",
    "- Устранены пропуски в столбце `end_date`. Заменены на дату актуальности данных.\n",
    "- Устранены пропуски в столбце `total_charges`. Заменены на соответствующие значения столбца `monthly_charges`.\n",
    "- Выделен целевой признак `customer_care`. Если клиент ушёл `customer_care` = 1, остался `customer_care` = 0.\n",
    "- Выделен новый признак продолжительности пользования услугами `period` из двух данных столбцов `begin_date` и `end_date`.\n",
    "- Удалены столбцы `begin_date` и `end_date` для исключения выявления лишней зависимости."
   ]
  },
  {
   "cell_type": "markdown",
   "id": "94180f17",
   "metadata": {},
   "source": [
    "### Предобработка данных датафрейма df_internet"
   ]
  },
  {
   "cell_type": "code",
   "execution_count": 52,
   "id": "789dc1ba",
   "metadata": {},
   "outputs": [
    {
     "data": {
      "text/html": [
       "<div>\n",
       "<style scoped>\n",
       "    .dataframe tbody tr th:only-of-type {\n",
       "        vertical-align: middle;\n",
       "    }\n",
       "\n",
       "    .dataframe tbody tr th {\n",
       "        vertical-align: top;\n",
       "    }\n",
       "\n",
       "    .dataframe thead th {\n",
       "        text-align: right;\n",
       "    }\n",
       "</style>\n",
       "<table border=\"1\" class=\"dataframe\">\n",
       "  <thead>\n",
       "    <tr style=\"text-align: right;\">\n",
       "      <th></th>\n",
       "      <th>customerID</th>\n",
       "      <th>InternetService</th>\n",
       "      <th>OnlineSecurity</th>\n",
       "      <th>OnlineBackup</th>\n",
       "      <th>DeviceProtection</th>\n",
       "      <th>TechSupport</th>\n",
       "      <th>StreamingTV</th>\n",
       "      <th>StreamingMovies</th>\n",
       "    </tr>\n",
       "  </thead>\n",
       "  <tbody>\n",
       "    <tr>\n",
       "      <th>0</th>\n",
       "      <td>7590-VHVEG</td>\n",
       "      <td>DSL</td>\n",
       "      <td>No</td>\n",
       "      <td>Yes</td>\n",
       "      <td>No</td>\n",
       "      <td>No</td>\n",
       "      <td>No</td>\n",
       "      <td>No</td>\n",
       "    </tr>\n",
       "    <tr>\n",
       "      <th>1</th>\n",
       "      <td>5575-GNVDE</td>\n",
       "      <td>DSL</td>\n",
       "      <td>Yes</td>\n",
       "      <td>No</td>\n",
       "      <td>Yes</td>\n",
       "      <td>No</td>\n",
       "      <td>No</td>\n",
       "      <td>No</td>\n",
       "    </tr>\n",
       "    <tr>\n",
       "      <th>2</th>\n",
       "      <td>3668-QPYBK</td>\n",
       "      <td>DSL</td>\n",
       "      <td>Yes</td>\n",
       "      <td>Yes</td>\n",
       "      <td>No</td>\n",
       "      <td>No</td>\n",
       "      <td>No</td>\n",
       "      <td>No</td>\n",
       "    </tr>\n",
       "    <tr>\n",
       "      <th>3</th>\n",
       "      <td>7795-CFOCW</td>\n",
       "      <td>DSL</td>\n",
       "      <td>Yes</td>\n",
       "      <td>No</td>\n",
       "      <td>Yes</td>\n",
       "      <td>Yes</td>\n",
       "      <td>No</td>\n",
       "      <td>No</td>\n",
       "    </tr>\n",
       "    <tr>\n",
       "      <th>4</th>\n",
       "      <td>9237-HQITU</td>\n",
       "      <td>Fiber optic</td>\n",
       "      <td>No</td>\n",
       "      <td>No</td>\n",
       "      <td>No</td>\n",
       "      <td>No</td>\n",
       "      <td>No</td>\n",
       "      <td>No</td>\n",
       "    </tr>\n",
       "  </tbody>\n",
       "</table>\n",
       "</div>"
      ],
      "text/plain": [
       "   customerID InternetService OnlineSecurity OnlineBackup DeviceProtection  \\\n",
       "0  7590-VHVEG             DSL             No          Yes               No   \n",
       "1  5575-GNVDE             DSL            Yes           No              Yes   \n",
       "2  3668-QPYBK             DSL            Yes          Yes               No   \n",
       "3  7795-CFOCW             DSL            Yes           No              Yes   \n",
       "4  9237-HQITU     Fiber optic             No           No               No   \n",
       "\n",
       "  TechSupport StreamingTV StreamingMovies  \n",
       "0          No          No              No  \n",
       "1          No          No              No  \n",
       "2          No          No              No  \n",
       "3         Yes          No              No  \n",
       "4          No          No              No  "
      ]
     },
     "execution_count": 52,
     "metadata": {},
     "output_type": "execute_result"
    }
   ],
   "source": [
    "# просмотр датафрейма\n",
    "df_internet.head()"
   ]
  },
  {
   "cell_type": "code",
   "execution_count": 53,
   "id": "f8cc28d3",
   "metadata": {},
   "outputs": [
    {
     "data": {
      "text/html": [
       "<div>\n",
       "<style scoped>\n",
       "    .dataframe tbody tr th:only-of-type {\n",
       "        vertical-align: middle;\n",
       "    }\n",
       "\n",
       "    .dataframe tbody tr th {\n",
       "        vertical-align: top;\n",
       "    }\n",
       "\n",
       "    .dataframe thead th {\n",
       "        text-align: right;\n",
       "    }\n",
       "</style>\n",
       "<table border=\"1\" class=\"dataframe\">\n",
       "  <thead>\n",
       "    <tr style=\"text-align: right;\">\n",
       "      <th></th>\n",
       "      <th>customerid</th>\n",
       "      <th>internetservice</th>\n",
       "      <th>onlinesecurity</th>\n",
       "      <th>onlinebackup</th>\n",
       "      <th>deviceprotection</th>\n",
       "      <th>techsupport</th>\n",
       "      <th>streamingtv</th>\n",
       "      <th>streamingmovies</th>\n",
       "    </tr>\n",
       "  </thead>\n",
       "  <tbody>\n",
       "    <tr>\n",
       "      <th>0</th>\n",
       "      <td>7590-VHVEG</td>\n",
       "      <td>dsl</td>\n",
       "      <td>no</td>\n",
       "      <td>yes</td>\n",
       "      <td>no</td>\n",
       "      <td>no</td>\n",
       "      <td>no</td>\n",
       "      <td>no</td>\n",
       "    </tr>\n",
       "    <tr>\n",
       "      <th>1</th>\n",
       "      <td>5575-GNVDE</td>\n",
       "      <td>dsl</td>\n",
       "      <td>yes</td>\n",
       "      <td>no</td>\n",
       "      <td>yes</td>\n",
       "      <td>no</td>\n",
       "      <td>no</td>\n",
       "      <td>no</td>\n",
       "    </tr>\n",
       "    <tr>\n",
       "      <th>2</th>\n",
       "      <td>3668-QPYBK</td>\n",
       "      <td>dsl</td>\n",
       "      <td>yes</td>\n",
       "      <td>yes</td>\n",
       "      <td>no</td>\n",
       "      <td>no</td>\n",
       "      <td>no</td>\n",
       "      <td>no</td>\n",
       "    </tr>\n",
       "    <tr>\n",
       "      <th>3</th>\n",
       "      <td>7795-CFOCW</td>\n",
       "      <td>dsl</td>\n",
       "      <td>yes</td>\n",
       "      <td>no</td>\n",
       "      <td>yes</td>\n",
       "      <td>yes</td>\n",
       "      <td>no</td>\n",
       "      <td>no</td>\n",
       "    </tr>\n",
       "    <tr>\n",
       "      <th>4</th>\n",
       "      <td>9237-HQITU</td>\n",
       "      <td>fiber optic</td>\n",
       "      <td>no</td>\n",
       "      <td>no</td>\n",
       "      <td>no</td>\n",
       "      <td>no</td>\n",
       "      <td>no</td>\n",
       "      <td>no</td>\n",
       "    </tr>\n",
       "  </tbody>\n",
       "</table>\n",
       "</div>"
      ],
      "text/plain": [
       "   customerid internetservice onlinesecurity onlinebackup deviceprotection  \\\n",
       "0  7590-VHVEG             dsl             no          yes               no   \n",
       "1  5575-GNVDE             dsl            yes           no              yes   \n",
       "2  3668-QPYBK             dsl            yes          yes               no   \n",
       "3  7795-CFOCW             dsl            yes           no              yes   \n",
       "4  9237-HQITU     fiber optic             no           no               no   \n",
       "\n",
       "  techsupport streamingtv streamingmovies  \n",
       "0          no          no              no  \n",
       "1          no          no              no  \n",
       "2          no          no              no  \n",
       "3         yes          no              no  \n",
       "4          no          no              no  "
      ]
     },
     "execution_count": 53,
     "metadata": {},
     "output_type": "execute_result"
    }
   ],
   "source": [
    "# приведение заголовков столбцов к нижнему регистру\n",
    "# приведение данных в отдельных столбцах\n",
    "# к нижнему регистру для удобства работы с данными\n",
    "df_internet.columns = df_internet.columns.str.lower()\n",
    "df_internet['internetservice'] = df_internet['internetservice'].str.lower()\n",
    "df_internet['onlinesecurity'] = df_internet['onlinesecurity'].str.lower()\n",
    "df_internet['onlinebackup'] = df_internet['onlinebackup'].str.lower()\n",
    "df_internet['deviceprotection'] = df_internet['deviceprotection'].str.lower()\n",
    "df_internet['techsupport'] = df_internet['techsupport'].str.lower()\n",
    "df_internet['streamingtv'] = df_internet['streamingtv'].str.lower()\n",
    "df_internet['streamingmovies'] = df_internet['streamingmovies'].str.lower()\n",
    "df_internet.head()"
   ]
  },
  {
   "cell_type": "code",
   "execution_count": 54,
   "id": "0fced10f",
   "metadata": {},
   "outputs": [
    {
     "data": {
      "text/plain": [
       "Index(['customer_id', 'internet_service', 'online_security', 'online_backup',\n",
       "       'device_protection', 'tech_support', 'streaming_tv',\n",
       "       'streaming_movies'],\n",
       "      dtype='object')"
      ]
     },
     "execution_count": 54,
     "metadata": {},
     "output_type": "execute_result"
    }
   ],
   "source": [
    "# переименование столбцов\n",
    "df_internet = df_internet.rename(columns={'customerid':'customer_id', \n",
    "                                          'internetservice':'internet_service',\n",
    "                                          'onlinesecurity':'online_security',\n",
    "                                          'onlinebackup':'online_backup',\n",
    "                                          'deviceprotection':'device_protection',\n",
    "                                          'techsupport':'tech_support',\n",
    "                                          'streamingtv':'streaming_tv',\n",
    "                                          'streamingmovies':'streaming_movies'})\n",
    "df_internet.columns"
   ]
  },
  {
   "cell_type": "markdown",
   "id": "fc1eb875",
   "metadata": {},
   "source": [
    "#### Вывод"
   ]
  },
  {
   "cell_type": "markdown",
   "id": "6a659158",
   "metadata": {},
   "source": [
    "Проведена предобработка данных в датафрейме `df_internet`.\n",
    "- Заголовки столбцов и данные в них приведены к виду удобному для работы."
   ]
  },
  {
   "cell_type": "markdown",
   "id": "14b1a8c1",
   "metadata": {},
   "source": [
    "### Предобработка данных датафрейма df_personal"
   ]
  },
  {
   "cell_type": "code",
   "execution_count": 55,
   "id": "549e4b98",
   "metadata": {},
   "outputs": [
    {
     "data": {
      "text/html": [
       "<div>\n",
       "<style scoped>\n",
       "    .dataframe tbody tr th:only-of-type {\n",
       "        vertical-align: middle;\n",
       "    }\n",
       "\n",
       "    .dataframe tbody tr th {\n",
       "        vertical-align: top;\n",
       "    }\n",
       "\n",
       "    .dataframe thead th {\n",
       "        text-align: right;\n",
       "    }\n",
       "</style>\n",
       "<table border=\"1\" class=\"dataframe\">\n",
       "  <thead>\n",
       "    <tr style=\"text-align: right;\">\n",
       "      <th></th>\n",
       "      <th>customerID</th>\n",
       "      <th>gender</th>\n",
       "      <th>SeniorCitizen</th>\n",
       "      <th>Partner</th>\n",
       "      <th>Dependents</th>\n",
       "    </tr>\n",
       "  </thead>\n",
       "  <tbody>\n",
       "    <tr>\n",
       "      <th>0</th>\n",
       "      <td>7590-VHVEG</td>\n",
       "      <td>Female</td>\n",
       "      <td>0</td>\n",
       "      <td>Yes</td>\n",
       "      <td>No</td>\n",
       "    </tr>\n",
       "    <tr>\n",
       "      <th>1</th>\n",
       "      <td>5575-GNVDE</td>\n",
       "      <td>Male</td>\n",
       "      <td>0</td>\n",
       "      <td>No</td>\n",
       "      <td>No</td>\n",
       "    </tr>\n",
       "    <tr>\n",
       "      <th>2</th>\n",
       "      <td>3668-QPYBK</td>\n",
       "      <td>Male</td>\n",
       "      <td>0</td>\n",
       "      <td>No</td>\n",
       "      <td>No</td>\n",
       "    </tr>\n",
       "    <tr>\n",
       "      <th>3</th>\n",
       "      <td>7795-CFOCW</td>\n",
       "      <td>Male</td>\n",
       "      <td>0</td>\n",
       "      <td>No</td>\n",
       "      <td>No</td>\n",
       "    </tr>\n",
       "    <tr>\n",
       "      <th>4</th>\n",
       "      <td>9237-HQITU</td>\n",
       "      <td>Female</td>\n",
       "      <td>0</td>\n",
       "      <td>No</td>\n",
       "      <td>No</td>\n",
       "    </tr>\n",
       "  </tbody>\n",
       "</table>\n",
       "</div>"
      ],
      "text/plain": [
       "   customerID  gender  SeniorCitizen Partner Dependents\n",
       "0  7590-VHVEG  Female              0     Yes         No\n",
       "1  5575-GNVDE    Male              0      No         No\n",
       "2  3668-QPYBK    Male              0      No         No\n",
       "3  7795-CFOCW    Male              0      No         No\n",
       "4  9237-HQITU  Female              0      No         No"
      ]
     },
     "execution_count": 55,
     "metadata": {},
     "output_type": "execute_result"
    }
   ],
   "source": [
    "# просмотр датафрейма\n",
    "df_personal.head()"
   ]
  },
  {
   "cell_type": "code",
   "execution_count": 56,
   "id": "27787d44",
   "metadata": {},
   "outputs": [
    {
     "data": {
      "text/html": [
       "<div>\n",
       "<style scoped>\n",
       "    .dataframe tbody tr th:only-of-type {\n",
       "        vertical-align: middle;\n",
       "    }\n",
       "\n",
       "    .dataframe tbody tr th {\n",
       "        vertical-align: top;\n",
       "    }\n",
       "\n",
       "    .dataframe thead th {\n",
       "        text-align: right;\n",
       "    }\n",
       "</style>\n",
       "<table border=\"1\" class=\"dataframe\">\n",
       "  <thead>\n",
       "    <tr style=\"text-align: right;\">\n",
       "      <th></th>\n",
       "      <th>customerid</th>\n",
       "      <th>gender</th>\n",
       "      <th>seniorcitizen</th>\n",
       "      <th>partner</th>\n",
       "      <th>dependents</th>\n",
       "    </tr>\n",
       "  </thead>\n",
       "  <tbody>\n",
       "    <tr>\n",
       "      <th>0</th>\n",
       "      <td>7590-VHVEG</td>\n",
       "      <td>female</td>\n",
       "      <td>0</td>\n",
       "      <td>yes</td>\n",
       "      <td>no</td>\n",
       "    </tr>\n",
       "    <tr>\n",
       "      <th>1</th>\n",
       "      <td>5575-GNVDE</td>\n",
       "      <td>male</td>\n",
       "      <td>0</td>\n",
       "      <td>no</td>\n",
       "      <td>no</td>\n",
       "    </tr>\n",
       "    <tr>\n",
       "      <th>2</th>\n",
       "      <td>3668-QPYBK</td>\n",
       "      <td>male</td>\n",
       "      <td>0</td>\n",
       "      <td>no</td>\n",
       "      <td>no</td>\n",
       "    </tr>\n",
       "    <tr>\n",
       "      <th>3</th>\n",
       "      <td>7795-CFOCW</td>\n",
       "      <td>male</td>\n",
       "      <td>0</td>\n",
       "      <td>no</td>\n",
       "      <td>no</td>\n",
       "    </tr>\n",
       "    <tr>\n",
       "      <th>4</th>\n",
       "      <td>9237-HQITU</td>\n",
       "      <td>female</td>\n",
       "      <td>0</td>\n",
       "      <td>no</td>\n",
       "      <td>no</td>\n",
       "    </tr>\n",
       "  </tbody>\n",
       "</table>\n",
       "</div>"
      ],
      "text/plain": [
       "   customerid  gender  seniorcitizen partner dependents\n",
       "0  7590-VHVEG  female              0     yes         no\n",
       "1  5575-GNVDE    male              0      no         no\n",
       "2  3668-QPYBK    male              0      no         no\n",
       "3  7795-CFOCW    male              0      no         no\n",
       "4  9237-HQITU  female              0      no         no"
      ]
     },
     "execution_count": 56,
     "metadata": {},
     "output_type": "execute_result"
    }
   ],
   "source": [
    "# приведение заголовков столбцов к нижнему регистру\n",
    "# приведение данных в отдельных столбцах \n",
    "# к нижнему регистру для удобства работы с данными\n",
    "df_personal.columns = df_personal.columns.str.lower()\n",
    "df_personal['gender'] = df_personal['gender'].str.lower()\n",
    "df_personal['partner'] = df_personal['partner'].str.lower()\n",
    "df_personal['dependents'] = df_personal['dependents'].str.lower()\n",
    "df_personal.head()"
   ]
  },
  {
   "cell_type": "code",
   "execution_count": 57,
   "id": "6aac4f4d",
   "metadata": {},
   "outputs": [
    {
     "data": {
      "text/plain": [
       "Index(['customer_id', 'gender', 'senior_citizen', 'partner', 'dependents'], dtype='object')"
      ]
     },
     "execution_count": 57,
     "metadata": {},
     "output_type": "execute_result"
    }
   ],
   "source": [
    "# переименование столбцов\n",
    "df_personal = df_personal.rename(columns={'customerid':'customer_id', \n",
    "                                          'seniorcitizen':'senior_citizen'})\n",
    "df_personal.columns"
   ]
  },
  {
   "cell_type": "markdown",
   "id": "bbfefdb1",
   "metadata": {},
   "source": [
    "#### Вывод"
   ]
  },
  {
   "cell_type": "markdown",
   "id": "007c02aa",
   "metadata": {},
   "source": [
    "Проведена предобработка данных в датафрейме `df_personal`.\n",
    "- Заголовки столбцов и данные в них приведены к виду удобному для работы."
   ]
  },
  {
   "cell_type": "markdown",
   "id": "450e511f",
   "metadata": {},
   "source": [
    "### Предобработка данных датафрейма df_phone"
   ]
  },
  {
   "cell_type": "code",
   "execution_count": 58,
   "id": "1e467f64",
   "metadata": {},
   "outputs": [
    {
     "data": {
      "text/html": [
       "<div>\n",
       "<style scoped>\n",
       "    .dataframe tbody tr th:only-of-type {\n",
       "        vertical-align: middle;\n",
       "    }\n",
       "\n",
       "    .dataframe tbody tr th {\n",
       "        vertical-align: top;\n",
       "    }\n",
       "\n",
       "    .dataframe thead th {\n",
       "        text-align: right;\n",
       "    }\n",
       "</style>\n",
       "<table border=\"1\" class=\"dataframe\">\n",
       "  <thead>\n",
       "    <tr style=\"text-align: right;\">\n",
       "      <th></th>\n",
       "      <th>customerID</th>\n",
       "      <th>MultipleLines</th>\n",
       "    </tr>\n",
       "  </thead>\n",
       "  <tbody>\n",
       "    <tr>\n",
       "      <th>0</th>\n",
       "      <td>5575-GNVDE</td>\n",
       "      <td>No</td>\n",
       "    </tr>\n",
       "    <tr>\n",
       "      <th>1</th>\n",
       "      <td>3668-QPYBK</td>\n",
       "      <td>No</td>\n",
       "    </tr>\n",
       "    <tr>\n",
       "      <th>2</th>\n",
       "      <td>9237-HQITU</td>\n",
       "      <td>No</td>\n",
       "    </tr>\n",
       "    <tr>\n",
       "      <th>3</th>\n",
       "      <td>9305-CDSKC</td>\n",
       "      <td>Yes</td>\n",
       "    </tr>\n",
       "    <tr>\n",
       "      <th>4</th>\n",
       "      <td>1452-KIOVK</td>\n",
       "      <td>Yes</td>\n",
       "    </tr>\n",
       "  </tbody>\n",
       "</table>\n",
       "</div>"
      ],
      "text/plain": [
       "   customerID MultipleLines\n",
       "0  5575-GNVDE            No\n",
       "1  3668-QPYBK            No\n",
       "2  9237-HQITU            No\n",
       "3  9305-CDSKC           Yes\n",
       "4  1452-KIOVK           Yes"
      ]
     },
     "execution_count": 58,
     "metadata": {},
     "output_type": "execute_result"
    }
   ],
   "source": [
    "# просмотр датафрейма\n",
    "df_phone.head()"
   ]
  },
  {
   "cell_type": "code",
   "execution_count": 59,
   "id": "2fccf21b",
   "metadata": {},
   "outputs": [
    {
     "data": {
      "text/html": [
       "<div>\n",
       "<style scoped>\n",
       "    .dataframe tbody tr th:only-of-type {\n",
       "        vertical-align: middle;\n",
       "    }\n",
       "\n",
       "    .dataframe tbody tr th {\n",
       "        vertical-align: top;\n",
       "    }\n",
       "\n",
       "    .dataframe thead th {\n",
       "        text-align: right;\n",
       "    }\n",
       "</style>\n",
       "<table border=\"1\" class=\"dataframe\">\n",
       "  <thead>\n",
       "    <tr style=\"text-align: right;\">\n",
       "      <th></th>\n",
       "      <th>customerid</th>\n",
       "      <th>multiplelines</th>\n",
       "    </tr>\n",
       "  </thead>\n",
       "  <tbody>\n",
       "    <tr>\n",
       "      <th>0</th>\n",
       "      <td>5575-GNVDE</td>\n",
       "      <td>no</td>\n",
       "    </tr>\n",
       "    <tr>\n",
       "      <th>1</th>\n",
       "      <td>3668-QPYBK</td>\n",
       "      <td>no</td>\n",
       "    </tr>\n",
       "    <tr>\n",
       "      <th>2</th>\n",
       "      <td>9237-HQITU</td>\n",
       "      <td>no</td>\n",
       "    </tr>\n",
       "    <tr>\n",
       "      <th>3</th>\n",
       "      <td>9305-CDSKC</td>\n",
       "      <td>yes</td>\n",
       "    </tr>\n",
       "    <tr>\n",
       "      <th>4</th>\n",
       "      <td>1452-KIOVK</td>\n",
       "      <td>yes</td>\n",
       "    </tr>\n",
       "  </tbody>\n",
       "</table>\n",
       "</div>"
      ],
      "text/plain": [
       "   customerid multiplelines\n",
       "0  5575-GNVDE            no\n",
       "1  3668-QPYBK            no\n",
       "2  9237-HQITU            no\n",
       "3  9305-CDSKC           yes\n",
       "4  1452-KIOVK           yes"
      ]
     },
     "execution_count": 59,
     "metadata": {},
     "output_type": "execute_result"
    }
   ],
   "source": [
    "# приведение заголовков столбцов к нижнему регистру\n",
    "# приведение данных в отдельных столбцах \n",
    "# к нижнему регистру для удобства работы с данными\n",
    "df_phone.columns = df_phone.columns.str.lower()\n",
    "df_phone['multiplelines'] = df_phone['multiplelines'].str.lower()\n",
    "df_phone.head()"
   ]
  },
  {
   "cell_type": "code",
   "execution_count": 60,
   "id": "83ff0ff3",
   "metadata": {},
   "outputs": [
    {
     "data": {
      "text/plain": [
       "Index(['customer_id', 'multiple_lines'], dtype='object')"
      ]
     },
     "execution_count": 60,
     "metadata": {},
     "output_type": "execute_result"
    }
   ],
   "source": [
    "# переименование столбцов\n",
    "df_phone = df_phone.rename(columns={'customerid':'customer_id', \n",
    "                                    'multiplelines':'multiple_lines'})\n",
    "df_phone.columns"
   ]
  },
  {
   "cell_type": "markdown",
   "id": "a950191c",
   "metadata": {},
   "source": [
    "#### Вывод"
   ]
  },
  {
   "cell_type": "markdown",
   "id": "52d195cd",
   "metadata": {},
   "source": [
    "Проведена предобработка данных в датафрейме `df_phone`.\n",
    "- Заголовки столбцов и данные в них приведены к виду удобному для работы."
   ]
  },
  {
   "cell_type": "markdown",
   "id": "96f08488",
   "metadata": {},
   "source": [
    "### Объединение датафреймов"
   ]
  },
  {
   "cell_type": "code",
   "execution_count": 61,
   "id": "22873f97",
   "metadata": {},
   "outputs": [
    {
     "name": "stdout",
     "output_type": "stream",
     "text": [
      "<class 'pandas.core.frame.DataFrame'>\n",
      "Int64Index: 7043 entries, 0 to 7042\n",
      "Data columns (total 12 columns):\n",
      " #   Column             Non-Null Count  Dtype  \n",
      "---  ------             --------------  -----  \n",
      " 0   customer_id        7043 non-null   object \n",
      " 1   type               7043 non-null   object \n",
      " 2   paperless_billing  7043 non-null   object \n",
      " 3   payment_method     7043 non-null   object \n",
      " 4   monthly_charges    7043 non-null   float64\n",
      " 5   total_charges      7043 non-null   object \n",
      " 6   customer_care      7043 non-null   int64  \n",
      " 7   period             7043 non-null   int64  \n",
      " 8   gender             7043 non-null   object \n",
      " 9   senior_citizen     7043 non-null   int64  \n",
      " 10  partner            7043 non-null   object \n",
      " 11  dependents         7043 non-null   object \n",
      "dtypes: float64(1), int64(3), object(8)\n",
      "memory usage: 715.3+ KB\n"
     ]
    }
   ],
   "source": [
    "# объединение датафреймов df_contract и df_personal\n",
    "df_full = df_contract.merge(df_personal[['customer_id', 'gender', 'senior_citizen', 'partner', 'dependents']], \n",
    "                            on='customer_id', how='left')\n",
    "df_full.info()"
   ]
  },
  {
   "cell_type": "code",
   "execution_count": 62,
   "id": "47899fab",
   "metadata": {},
   "outputs": [
    {
     "name": "stdout",
     "output_type": "stream",
     "text": [
      "<class 'pandas.core.frame.DataFrame'>\n",
      "Int64Index: 7043 entries, 0 to 7042\n",
      "Data columns (total 13 columns):\n",
      " #   Column             Non-Null Count  Dtype  \n",
      "---  ------             --------------  -----  \n",
      " 0   customer_id        7043 non-null   object \n",
      " 1   type               7043 non-null   object \n",
      " 2   paperless_billing  7043 non-null   object \n",
      " 3   payment_method     7043 non-null   object \n",
      " 4   monthly_charges    7043 non-null   float64\n",
      " 5   total_charges      7043 non-null   object \n",
      " 6   customer_care      7043 non-null   int64  \n",
      " 7   period             7043 non-null   int64  \n",
      " 8   gender             7043 non-null   object \n",
      " 9   senior_citizen     7043 non-null   int64  \n",
      " 10  partner            7043 non-null   object \n",
      " 11  dependents         7043 non-null   object \n",
      " 12  multiple_lines     6361 non-null   object \n",
      "dtypes: float64(1), int64(3), object(9)\n",
      "memory usage: 770.3+ KB\n"
     ]
    }
   ],
   "source": [
    "# присоединение датафрейма df_phone\n",
    "df_full = df_full.merge(df_phone[['customer_id', 'multiple_lines']], on='customer_id', how='outer')\n",
    "df_full.info()"
   ]
  },
  {
   "cell_type": "code",
   "execution_count": 63,
   "id": "e931382e",
   "metadata": {},
   "outputs": [
    {
     "name": "stdout",
     "output_type": "stream",
     "text": [
      "<class 'pandas.core.frame.DataFrame'>\n",
      "Int64Index: 7043 entries, 0 to 7042\n",
      "Data columns (total 20 columns):\n",
      " #   Column             Non-Null Count  Dtype  \n",
      "---  ------             --------------  -----  \n",
      " 0   customer_id        7043 non-null   object \n",
      " 1   type               7043 non-null   object \n",
      " 2   paperless_billing  7043 non-null   object \n",
      " 3   payment_method     7043 non-null   object \n",
      " 4   monthly_charges    7043 non-null   float64\n",
      " 5   total_charges      7043 non-null   object \n",
      " 6   customer_care      7043 non-null   int64  \n",
      " 7   period             7043 non-null   int64  \n",
      " 8   gender             7043 non-null   object \n",
      " 9   senior_citizen     7043 non-null   int64  \n",
      " 10  partner            7043 non-null   object \n",
      " 11  dependents         7043 non-null   object \n",
      " 12  multiple_lines     6361 non-null   object \n",
      " 13  internet_service   5517 non-null   object \n",
      " 14  online_security    5517 non-null   object \n",
      " 15  online_backup      5517 non-null   object \n",
      " 16  device_protection  5517 non-null   object \n",
      " 17  tech_support       5517 non-null   object \n",
      " 18  streaming_tv       5517 non-null   object \n",
      " 19  streaming_movies   5517 non-null   object \n",
      "dtypes: float64(1), int64(3), object(16)\n",
      "memory usage: 1.1+ MB\n"
     ]
    }
   ],
   "source": [
    "# присоединение датафрейма df_internet\n",
    "df_full = df_full.merge(df_internet[['customer_id', 'internet_service', 'online_security', \n",
    "                                         'online_backup', 'device_protection', 'tech_support', \n",
    "                                         'streaming_tv', 'streaming_movies']], on='customer_id', how='outer')\n",
    "df_full.info()"
   ]
  },
  {
   "cell_type": "code",
   "execution_count": 64,
   "id": "dd031a2f",
   "metadata": {
    "scrolled": true
   },
   "outputs": [
    {
     "name": "stdout",
     "output_type": "stream",
     "text": [
      "  payment_method internet_service partner multiple_lines\n",
      "2   mailed check              dsl      no             no\n",
      "2    mailed check\n",
      "Name: payment_method, dtype: object\n",
      "2    dsl\n",
      "Name: internet_service, dtype: object\n",
      "2    no\n",
      "Name: partner, dtype: object\n",
      "1    no\n",
      "Name: multiple_lines, dtype: object\n"
     ]
    }
   ],
   "source": [
    "# проверка объединения\n",
    "print(df_full.loc[df_full['customer_id']== '3668-QPYBK', ['payment_method', 'internet_service', 'partner', 'multiple_lines']])\n",
    "\n",
    "print(df_contract.loc[df_contract['customer_id']== '3668-QPYBK', 'payment_method'])\n",
    "\n",
    "print(df_internet.loc[df_internet['customer_id']== '3668-QPYBK', 'internet_service'])\n",
    "\n",
    "print(df_personal.loc[df_personal['customer_id']== '3668-QPYBK', 'partner'])\n",
    "\n",
    "print(df_phone.loc[df_phone['customer_id']== '3668-QPYBK', 'multiple_lines'])"
   ]
  },
  {
   "cell_type": "code",
   "execution_count": 65,
   "id": "eeaae0c5",
   "metadata": {},
   "outputs": [],
   "source": [
    "# удаление столбца customer_id после объединения таблиц\n",
    "# для исключения выявления лишних зависимостей\n",
    "# неинформативный признак\n",
    "df_full = df_full.drop(['customer_id'], axis=1)"
   ]
  },
  {
   "cell_type": "code",
   "execution_count": 66,
   "id": "119a267a",
   "metadata": {},
   "outputs": [],
   "source": [
    "# удаление столбца total_charges \n",
    "# после выделения нового признака period \n",
    "df_full = df_full.drop(['total_charges'], axis=1)"
   ]
  },
  {
   "cell_type": "code",
   "execution_count": 67,
   "id": "f8a1cc23",
   "metadata": {},
   "outputs": [
    {
     "data": {
      "text/plain": [
       "23"
      ]
     },
     "execution_count": 67,
     "metadata": {},
     "output_type": "execute_result"
    }
   ],
   "source": [
    "# проверка на наличие строк-дубликатов\n",
    "df_full.duplicated().sum()"
   ]
  },
  {
   "cell_type": "code",
   "execution_count": 68,
   "id": "3371bf68",
   "metadata": {},
   "outputs": [
    {
     "data": {
      "text/plain": [
       "0"
      ]
     },
     "execution_count": 68,
     "metadata": {},
     "output_type": "execute_result"
    }
   ],
   "source": [
    "# удаление строк-дубликатов\n",
    "df_full = df_full.drop_duplicates().reset_index(drop=True)\n",
    "df_full.duplicated().sum()"
   ]
  },
  {
   "cell_type": "code",
   "execution_count": 69,
   "id": "b9cdca4a",
   "metadata": {},
   "outputs": [
    {
     "name": "stdout",
     "output_type": "stream",
     "text": [
      "<class 'pandas.core.frame.DataFrame'>\n",
      "RangeIndex: 7020 entries, 0 to 7019\n",
      "Data columns (total 18 columns):\n",
      " #   Column             Non-Null Count  Dtype  \n",
      "---  ------             --------------  -----  \n",
      " 0   type               7020 non-null   object \n",
      " 1   paperless_billing  7020 non-null   object \n",
      " 2   payment_method     7020 non-null   object \n",
      " 3   monthly_charges    7020 non-null   float64\n",
      " 4   customer_care      7020 non-null   int64  \n",
      " 5   period             7020 non-null   int64  \n",
      " 6   gender             7020 non-null   object \n",
      " 7   senior_citizen     7020 non-null   int64  \n",
      " 8   partner            7020 non-null   object \n",
      " 9   dependents         7020 non-null   object \n",
      " 10  multiple_lines     6338 non-null   object \n",
      " 11  internet_service   5511 non-null   object \n",
      " 12  online_security    5511 non-null   object \n",
      " 13  online_backup      5511 non-null   object \n",
      " 14  device_protection  5511 non-null   object \n",
      " 15  tech_support       5511 non-null   object \n",
      " 16  streaming_tv       5511 non-null   object \n",
      " 17  streaming_movies   5511 non-null   object \n",
      "dtypes: float64(1), int64(3), object(14)\n",
      "memory usage: 987.3+ KB\n"
     ]
    }
   ],
   "source": [
    "df_full.info()"
   ]
  },
  {
   "cell_type": "code",
   "execution_count": 70,
   "id": "21d5d8e6",
   "metadata": {},
   "outputs": [],
   "source": [
    "# изменение типа данных у столбца total_charges\n",
    "# df_full['total_charges'] = df_full['total_charges'].astype('float64')"
   ]
  },
  {
   "cell_type": "markdown",
   "id": "70db38d4",
   "metadata": {},
   "source": [
    "Данные, которые содержат пропуски, категориальные. \n",
    "Nan будет выделена в новую категорию `no`."
   ]
  },
  {
   "cell_type": "code",
   "execution_count": 71,
   "id": "665ca9c6",
   "metadata": {},
   "outputs": [
    {
     "name": "stdout",
     "output_type": "stream",
     "text": [
      "<class 'pandas.core.frame.DataFrame'>\n",
      "RangeIndex: 7020 entries, 0 to 7019\n",
      "Data columns (total 18 columns):\n",
      " #   Column             Non-Null Count  Dtype  \n",
      "---  ------             --------------  -----  \n",
      " 0   type               7020 non-null   object \n",
      " 1   paperless_billing  7020 non-null   object \n",
      " 2   payment_method     7020 non-null   object \n",
      " 3   monthly_charges    7020 non-null   float64\n",
      " 4   customer_care      7020 non-null   int64  \n",
      " 5   period             7020 non-null   int64  \n",
      " 6   gender             7020 non-null   object \n",
      " 7   senior_citizen     7020 non-null   int64  \n",
      " 8   partner            7020 non-null   object \n",
      " 9   dependents         7020 non-null   object \n",
      " 10  multiple_lines     7020 non-null   object \n",
      " 11  internet_service   7020 non-null   object \n",
      " 12  online_security    7020 non-null   object \n",
      " 13  online_backup      7020 non-null   object \n",
      " 14  device_protection  7020 non-null   object \n",
      " 15  tech_support       7020 non-null   object \n",
      " 16  streaming_tv       7020 non-null   object \n",
      " 17  streaming_movies   7020 non-null   object \n",
      "dtypes: float64(1), int64(3), object(14)\n",
      "memory usage: 987.3+ KB\n"
     ]
    }
   ],
   "source": [
    "df_full = df_full.fillna(value = 'no')\n",
    "df_full.info()"
   ]
  },
  {
   "cell_type": "markdown",
   "id": "a62b6440",
   "metadata": {},
   "source": [
    "#### Вывод"
   ]
  },
  {
   "cell_type": "markdown",
   "id": "a3964a60",
   "metadata": {},
   "source": [
    "- Проведено объединение датафреймов.\n",
    "- Удалён столбец `customer_id` после объединения таблиц для исключения выявления лишних зависимостей - неинформативный признак.\n",
    "- Удалены дубликаты.\n",
    "- Изменён тип данных столбца `total_charges`.\n",
    "- Пропуски в данных после объединения заменены на `no`. Все данные с пропусками категориальные."
   ]
  },
  {
   "cell_type": "markdown",
   "id": "3b7e47bb",
   "metadata": {},
   "source": [
    "## Обучение моделей"
   ]
  },
  {
   "cell_type": "markdown",
   "id": "a16b40d0",
   "metadata": {},
   "source": [
    "### Дисбаланс "
   ]
  },
  {
   "cell_type": "code",
   "execution_count": 72,
   "id": "9e704e96",
   "metadata": {},
   "outputs": [
    {
     "name": "stdout",
     "output_type": "stream",
     "text": [
      "0    0.7349\n",
      "1    0.2651\n",
      "Name: customer_care, dtype: float64\n"
     ]
    },
    {
     "data": {
      "text/plain": [
       "<AxesSubplot:>"
      ]
     },
     "execution_count": 72,
     "metadata": {},
     "output_type": "execute_result"
    },
    {
     "data": {
      "image/png": "[encoded data removed]",
      "text/plain": [
       "<Figure size 432x288 with 1 Axes>"
      ]
     },
     "metadata": {
      "needs_background": "light"
     },
     "output_type": "display_data"
    }
   ],
   "source": [
    "class_frequency = df_full['customer_care'].value_counts(normalize=True)\n",
    "print(class_frequency)\n",
    "class_frequency.plot(kind='bar')"
   ]
  },
  {
   "cell_type": "markdown",
   "id": "f87abd91",
   "metadata": {},
   "source": [
    "Заметен явный дисбаланс классов, большее количество человек остались клиентами."
   ]
  },
  {
   "cell_type": "markdown",
   "id": "25fedd1b",
   "metadata": {},
   "source": [
    "### Разбиение на выборки"
   ]
  },
  {
   "cell_type": "code",
   "execution_count": 73,
   "id": "8cf2bd62",
   "metadata": {},
   "outputs": [],
   "source": [
    "# определение целевого признака и признаков \n",
    "target = df_full['customer_care']\n",
    "features = df_full.drop('customer_care', axis=1)"
   ]
  },
  {
   "cell_type": "code",
   "execution_count": 74,
   "id": "f3478f9f",
   "metadata": {},
   "outputs": [],
   "source": [
    "# деление исходного набора данных на две выборки: обучающую и тестовую\n",
    "# под обучающую отвела 75%, под тестовую - 25%\n",
    "features_train, features_test, target_train, target_test = train_test_split(features, \n",
    "                                                                            target, \n",
    "                                                                            test_size = 0.25,\n",
    "                                                                            random_state=RANDOM_STATE,\n",
    "                                                                            stratify=target)"
   ]
  },
  {
   "cell_type": "code",
   "execution_count": 75,
   "id": "93a05bd8",
   "metadata": {},
   "outputs": [
    {
     "name": "stdout",
     "output_type": "stream",
     "text": [
      "(5265, 17) (1755, 17)\n"
     ]
    }
   ],
   "source": [
    "# проверка корректности разбиения\n",
    "print(features_train.shape,\n",
    "      features_test.shape)"
   ]
  },
  {
   "cell_type": "code",
   "execution_count": 76,
   "id": "2b9553f2",
   "metadata": {},
   "outputs": [
    {
     "name": "stdout",
     "output_type": "stream",
     "text": [
      "<class 'pandas.core.frame.DataFrame'>\n",
      "Int64Index: 5265 entries, 5699 to 3890\n",
      "Data columns (total 17 columns):\n",
      " #   Column             Non-Null Count  Dtype  \n",
      "---  ------             --------------  -----  \n",
      " 0   type               5265 non-null   object \n",
      " 1   paperless_billing  5265 non-null   object \n",
      " 2   payment_method     5265 non-null   object \n",
      " 3   monthly_charges    5265 non-null   float64\n",
      " 4   period             5265 non-null   int64  \n",
      " 5   gender             5265 non-null   object \n",
      " 6   senior_citizen     5265 non-null   int64  \n",
      " 7   partner            5265 non-null   object \n",
      " 8   dependents         5265 non-null   object \n",
      " 9   multiple_lines     5265 non-null   object \n",
      " 10  internet_service   5265 non-null   object \n",
      " 11  online_security    5265 non-null   object \n",
      " 12  online_backup      5265 non-null   object \n",
      " 13  device_protection  5265 non-null   object \n",
      " 14  tech_support       5265 non-null   object \n",
      " 15  streaming_tv       5265 non-null   object \n",
      " 16  streaming_movies   5265 non-null   object \n",
      "dtypes: float64(1), int64(2), object(14)\n",
      "memory usage: 740.4+ KB\n"
     ]
    }
   ],
   "source": [
    "features_train_catboost = features_train.copy(deep=True)\n",
    "features_train_catboost.info()"
   ]
  },
  {
   "cell_type": "markdown",
   "id": "4c56fe4f",
   "metadata": {},
   "source": [
    "### Подготовка данных к машинному обучению с учетом используемых моделей"
   ]
  },
  {
   "cell_type": "markdown",
   "id": "35dc6225",
   "metadata": {},
   "source": [
    "#### Прямое кодирование"
   ]
  },
  {
   "cell_type": "code",
   "execution_count": 77,
   "id": "d40e242d",
   "metadata": {},
   "outputs": [
    {
     "data": {
      "text/plain": [
       "['type',\n",
       " 'paperless_billing',\n",
       " 'payment_method',\n",
       " 'gender',\n",
       " 'partner',\n",
       " 'dependents',\n",
       " 'multiple_lines',\n",
       " 'internet_service',\n",
       " 'online_security',\n",
       " 'online_backup',\n",
       " 'device_protection',\n",
       " 'tech_support',\n",
       " 'streaming_tv',\n",
       " 'streaming_movies']"
      ]
     },
     "execution_count": 77,
     "metadata": {},
     "output_type": "execute_result"
    }
   ],
   "source": [
    "# категориальные признаки \n",
    "categorial = features_train.select_dtypes(include='object').columns.to_list()\n",
    "categorial"
   ]
  },
  {
   "cell_type": "code",
   "execution_count": 78,
   "id": "9fbd567a",
   "metadata": {
    "scrolled": true
   },
   "outputs": [],
   "source": [
    "# прямое кодирование категориальных признаков тренировочной выборки для логистической регрессии\n",
    "encoder_ohe = make_column_transformer(\n",
    "    (OneHotEncoder(), ['type', 'paperless_billing', 'payment_method', 'gender', 'partner', 'dependents',\n",
    "                       'multiple_lines', 'internet_service', 'online_security', 'online_backup',\n",
    "                       'device_protection', 'tech_support', 'streaming_tv', 'streaming_movies']), remainder='passthrough')\n",
    "\n",
    "ohe = encoder_ohe.fit_transform(features_train)\n",
    "features_train_ohe = pd.DataFrame(ohe, columns=encoder_ohe.get_feature_names())"
   ]
  },
  {
   "cell_type": "markdown",
   "id": "0d3759d3",
   "metadata": {},
   "source": [
    "#### Масштабирование признаков "
   ]
  },
  {
   "cell_type": "code",
   "execution_count": 79,
   "id": "c1f2b9d5",
   "metadata": {},
   "outputs": [],
   "source": [
    "# масштабирование количественных признаков тренировочной выборки для логистической регрессии\n",
    "pd.options.mode.chained_assignment = None\n",
    "numeric = ['monthly_charges', 'period', 'senior_citizen']\n",
    "scaler = StandardScaler()\n",
    "scaler.fit(features_train_ohe[numeric])\n",
    "features_train_ohe[numeric] = scaler.transform(features_train_ohe[numeric])"
   ]
  },
  {
   "cell_type": "markdown",
   "id": "c4e99d77",
   "metadata": {},
   "source": [
    "#### Порядковое кодирование"
   ]
  },
  {
   "cell_type": "code",
   "execution_count": 80,
   "id": "8b0a2aa8",
   "metadata": {},
   "outputs": [],
   "source": [
    "# порядковое кодирование категориальных признаков тренировочной выборки для случайного леса\n",
    "encoder = OrdinalEncoder(handle_unknown='ignore')\n",
    "\n",
    "categorial = ['type', 'paperless_billing', 'payment_method', 'gender', 'partner', 'dependents', 'multiple_lines', \n",
    "              'internet_service', 'online_security', 'online_backup', 'device_protection', 'tech_support', 'streaming_tv',\n",
    "              'streaming_movies']\n",
    "\n",
    "features_train_ordinal = features_train.copy()\n",
    "features_test_ordinal = features_test.copy()\n",
    "\n",
    "features_train_ordinal[categorial] = encoder.fit_transform(features_train[categorial])\n",
    "features_test_ordinal[categorial] = encoder.transform(features_test[categorial])"
   ]
  },
  {
   "cell_type": "markdown",
   "id": "3624352e",
   "metadata": {},
   "source": [
    "#### Кодирование метки "
   ]
  },
  {
   "cell_type": "code",
   "execution_count": 82,
   "id": "31905854",
   "metadata": {},
   "outputs": [],
   "source": [
    "# кодирование метки для модели LightGBM\n",
    "# замена типа object на тип category\n",
    "features_train[categorial] = features_train[categorial].astype('category')\n",
    "features_test[categorial] = features_test[categorial].astype('category')"
   ]
  },
  {
   "cell_type": "code",
   "execution_count": 83,
   "id": "9a566ae5",
   "metadata": {
    "scrolled": false
   },
   "outputs": [
    {
     "name": "stdout",
     "output_type": "stream",
     "text": [
      "<class 'pandas.core.frame.DataFrame'>\n",
      "Int64Index: 5265 entries, 5699 to 3890\n",
      "Data columns (total 17 columns):\n",
      " #   Column             Non-Null Count  Dtype   \n",
      "---  ------             --------------  -----   \n",
      " 0   type               5265 non-null   category\n",
      " 1   paperless_billing  5265 non-null   category\n",
      " 2   payment_method     5265 non-null   category\n",
      " 3   monthly_charges    5265 non-null   float64 \n",
      " 4   period             5265 non-null   int64   \n",
      " 5   gender             5265 non-null   category\n",
      " 6   senior_citizen     5265 non-null   int64   \n",
      " 7   partner            5265 non-null   category\n",
      " 8   dependents         5265 non-null   category\n",
      " 9   multiple_lines     5265 non-null   category\n",
      " 10  internet_service   5265 non-null   category\n",
      " 11  online_security    5265 non-null   category\n",
      " 12  online_backup      5265 non-null   category\n",
      " 13  device_protection  5265 non-null   category\n",
      " 14  tech_support       5265 non-null   category\n",
      " 15  streaming_tv       5265 non-null   category\n",
      " 16  streaming_movies   5265 non-null   category\n",
      "dtypes: category(14), float64(1), int64(2)\n",
      "memory usage: 238.3 KB\n"
     ]
    }
   ],
   "source": [
    "features_train.info()"
   ]
  },
  {
   "cell_type": "code",
   "execution_count": 84,
   "id": "aa00a4c1",
   "metadata": {},
   "outputs": [
    {
     "data": {
      "text/plain": [
       "['type',\n",
       " 'paperless_billing',\n",
       " 'payment_method',\n",
       " 'gender',\n",
       " 'partner',\n",
       " 'dependents',\n",
       " 'multiple_lines',\n",
       " 'internet_service',\n",
       " 'online_security',\n",
       " 'online_backup',\n",
       " 'device_protection',\n",
       " 'tech_support',\n",
       " 'streaming_tv',\n",
       " 'streaming_movies']"
      ]
     },
     "execution_count": 84,
     "metadata": {},
     "output_type": "execute_result"
    }
   ],
   "source": [
    "features_category = features_train_catboost.select_dtypes(include='object').columns.to_list()\n",
    "features_category"
   ]
  },
  {
   "cell_type": "markdown",
   "id": "860f3ed7",
   "metadata": {},
   "source": [
    "#### Вывод"
   ]
  },
  {
   "cell_type": "markdown",
   "id": "1a4d4f36",
   "metadata": {},
   "source": [
    "- Проведено прямое кодирование категориальных признаков для логистической регресии.\n",
    "- Проведено масштабирование количественных признаков для логистической регресии.\n",
    "- Проведено порядковое кодирование категориальных признаков для случайного леса.\n",
    "- Проведено кодирование метки категориальных признаков для LightGBM."
   ]
  },
  {
   "cell_type": "markdown",
   "id": "2ee090d0",
   "metadata": {},
   "source": [
    "### Обучение моделей"
   ]
  },
  {
   "cell_type": "markdown",
   "id": "190d8af6",
   "metadata": {},
   "source": [
    "#### Случайный лес"
   ]
  },
  {
   "cell_type": "code",
   "execution_count": 85,
   "id": "ab3f630c",
   "metadata": {},
   "outputs": [
    {
     "name": "stdout",
     "output_type": "stream",
     "text": [
      "AUC-ROC Случайного леса: 0.8558808584635189\n",
      "Лучшие гиперпараметры: {'max_depth': 8, 'n_estimators': 60}\n"
     ]
    }
   ],
   "source": [
    "param_grid = [{\n",
    "    'max_depth': range(1, 15),\n",
    "    'n_estimators': range(10, 61, 5)\n",
    "}]\n",
    "\n",
    "model_1 = RandomForestClassifier(random_state = RANDOM_STATE)\n",
    "grid_search_forest = GridSearchCV(model_1, param_grid, cv=5, scoring='roc_auc', n_jobs=1)\n",
    "grid_search_forest.fit(features_train_ordinal, target_train)\n",
    "\n",
    "auc_roc_forest = grid_search_forest.best_score_\n",
    "\n",
    "print(f'AUC-ROC Случайного леса: {auc_roc_forest}') \n",
    "print(f'Лучшие гиперпараметры: {grid_search_forest.best_params_}')\n",
    "\n",
    "#dt_estimator_"
   ]
  },
  {
   "cell_type": "markdown",
   "id": "85c99dbd",
   "metadata": {},
   "source": [
    "#### Логистическая регрессия"
   ]
  },
  {
   "cell_type": "code",
   "execution_count": 87,
   "id": "fbb9a57c",
   "metadata": {},
   "outputs": [
    {
     "name": "stdout",
     "output_type": "stream",
     "text": [
      "Лучшее значение AUC-ROC: 0.8423027863040833\n"
     ]
    }
   ],
   "source": [
    "model_2 = LogisticRegression(random_state = RANDOM_STATE, \n",
    "                             solver = 'lbfgs') \n",
    "result_2 = cross_val_score(model_2, features_train_ohe, target_train, cv=5, scoring='roc_auc').mean() \n",
    "print('Лучшее значение AUC-ROC:', result_2)"
   ]
  },
  {
   "cell_type": "markdown",
   "id": "67270701",
   "metadata": {},
   "source": [
    "#### CatBoost"
   ]
  },
  {
   "cell_type": "code",
   "execution_count": 88,
   "id": "74b9b202",
   "metadata": {
    "scrolled": true
   },
   "outputs": [
    {
     "name": "stderr",
     "output_type": "stream",
     "text": [
      "/opt/conda/lib/python3.9/site-packages/sklearn/model_selection/_validation.py:610: FitFailedWarning: Estimator fit failed. The score on this train-test partition for these parameters will be set to nan. Details: \n",
      "Traceback (most recent call last):\n",
      "  File \"/opt/conda/lib/python3.9/site-packages/sklearn/model_selection/_validation.py\", line 593, in _fit_and_score\n",
      "    estimator.fit(X_train, y_train, **fit_params)\n",
      "  File \"/opt/conda/lib/python3.9/site-packages/catboost/core.py\", line 4716, in fit\n",
      "    self._fit(X, y, cat_features, text_features, embedding_features, None, sample_weight, None, None, None, None, baseline, use_best_model,\n",
      "  File \"/opt/conda/lib/python3.9/site-packages/catboost/core.py\", line 2021, in _fit\n",
      "    train_params = self._prepare_train_params(\n",
      "  File \"/opt/conda/lib/python3.9/site-packages/catboost/core.py\", line 1953, in _prepare_train_params\n",
      "    _check_train_params(params)\n",
      "  File \"_catboost.pyx\", line 5839, in _catboost._check_train_params\n",
      "  File \"_catboost.pyx\", line 5858, in _catboost._check_train_params\n",
      "_catboost.CatBoostError: catboost/private/libs/options/oblivious_tree_options.cpp:122: Maximum tree depth is 16\n",
      "\n",
      "  warnings.warn(\"Estimator fit failed. The score on this train-test\"\n",
      "/opt/conda/lib/python3.9/site-packages/sklearn/model_selection/_validation.py:610: FitFailedWarning: Estimator fit failed. The score on this train-test partition for these parameters will be set to nan. Details: \n",
      "Traceback (most recent call last):\n",
      "  File \"/opt/conda/lib/python3.9/site-packages/sklearn/model_selection/_validation.py\", line 593, in _fit_and_score\n",
      "    estimator.fit(X_train, y_train, **fit_params)\n",
      "  File \"/opt/conda/lib/python3.9/site-packages/catboost/core.py\", line 4716, in fit\n",
      "    self._fit(X, y, cat_features, text_features, embedding_features, None, sample_weight, None, None, None, None, baseline, use_best_model,\n",
      "  File \"/opt/conda/lib/python3.9/site-packages/catboost/core.py\", line 2021, in _fit\n",
      "    train_params = self._prepare_train_params(\n",
      "  File \"/opt/conda/lib/python3.9/site-packages/catboost/core.py\", line 1953, in _prepare_train_params\n",
      "    _check_train_params(params)\n",
      "  File \"_catboost.pyx\", line 5839, in _catboost._check_train_params\n",
      "  File \"_catboost.pyx\", line 5858, in _catboost._check_train_params\n",
      "_catboost.CatBoostError: catboost/private/libs/options/oblivious_tree_options.cpp:122: Maximum tree depth is 16\n",
      "\n",
      "  warnings.warn(\"Estimator fit failed. The score on this train-test\"\n",
      "/opt/conda/lib/python3.9/site-packages/sklearn/model_selection/_validation.py:610: FitFailedWarning: Estimator fit failed. The score on this train-test partition for these parameters will be set to nan. Details: \n",
      "Traceback (most recent call last):\n",
      "  File \"/opt/conda/lib/python3.9/site-packages/sklearn/model_selection/_validation.py\", line 593, in _fit_and_score\n",
      "    estimator.fit(X_train, y_train, **fit_params)\n",
      "  File \"/opt/conda/lib/python3.9/site-packages/catboost/core.py\", line 4716, in fit\n",
      "    self._fit(X, y, cat_features, text_features, embedding_features, None, sample_weight, None, None, None, None, baseline, use_best_model,\n",
      "  File \"/opt/conda/lib/python3.9/site-packages/catboost/core.py\", line 2021, in _fit\n",
      "    train_params = self._prepare_train_params(\n",
      "  File \"/opt/conda/lib/python3.9/site-packages/catboost/core.py\", line 1953, in _prepare_train_params\n",
      "    _check_train_params(params)\n",
      "  File \"_catboost.pyx\", line 5839, in _catboost._check_train_params\n",
      "  File \"_catboost.pyx\", line 5858, in _catboost._check_train_params\n",
      "_catboost.CatBoostError: catboost/private/libs/options/oblivious_tree_options.cpp:122: Maximum tree depth is 16\n",
      "\n",
      "  warnings.warn(\"Estimator fit failed. The score on this train-test\"\n",
      "/opt/conda/lib/python3.9/site-packages/sklearn/model_selection/_validation.py:610: FitFailedWarning: Estimator fit failed. The score on this train-test partition for these parameters will be set to nan. Details: \n",
      "Traceback (most recent call last):\n",
      "  File \"/opt/conda/lib/python3.9/site-packages/sklearn/model_selection/_validation.py\", line 593, in _fit_and_score\n",
      "    estimator.fit(X_train, y_train, **fit_params)\n",
      "  File \"/opt/conda/lib/python3.9/site-packages/catboost/core.py\", line 4716, in fit\n",
      "    self._fit(X, y, cat_features, text_features, embedding_features, None, sample_weight, None, None, None, None, baseline, use_best_model,\n",
      "  File \"/opt/conda/lib/python3.9/site-packages/catboost/core.py\", line 2021, in _fit\n",
      "    train_params = self._prepare_train_params(\n",
      "  File \"/opt/conda/lib/python3.9/site-packages/catboost/core.py\", line 1953, in _prepare_train_params\n",
      "    _check_train_params(params)\n",
      "  File \"_catboost.pyx\", line 5839, in _catboost._check_train_params\n",
      "  File \"_catboost.pyx\", line 5858, in _catboost._check_train_params\n",
      "_catboost.CatBoostError: catboost/private/libs/options/oblivious_tree_options.cpp:122: Maximum tree depth is 16\n",
      "\n",
      "  warnings.warn(\"Estimator fit failed. The score on this train-test\"\n",
      "/opt/conda/lib/python3.9/site-packages/sklearn/model_selection/_validation.py:610: FitFailedWarning: Estimator fit failed. The score on this train-test partition for these parameters will be set to nan. Details: \n",
      "Traceback (most recent call last):\n",
      "  File \"/opt/conda/lib/python3.9/site-packages/sklearn/model_selection/_validation.py\", line 593, in _fit_and_score\n",
      "    estimator.fit(X_train, y_train, **fit_params)\n",
      "  File \"/opt/conda/lib/python3.9/site-packages/catboost/core.py\", line 4716, in fit\n",
      "    self._fit(X, y, cat_features, text_features, embedding_features, None, sample_weight, None, None, None, None, baseline, use_best_model,\n",
      "  File \"/opt/conda/lib/python3.9/site-packages/catboost/core.py\", line 2021, in _fit\n",
      "    train_params = self._prepare_train_params(\n",
      "  File \"/opt/conda/lib/python3.9/site-packages/catboost/core.py\", line 1953, in _prepare_train_params\n",
      "    _check_train_params(params)\n",
      "  File \"_catboost.pyx\", line 5839, in _catboost._check_train_params\n",
      "  File \"_catboost.pyx\", line 5858, in _catboost._check_train_params\n",
      "_catboost.CatBoostError: catboost/private/libs/options/oblivious_tree_options.cpp:122: Maximum tree depth is 16\n",
      "\n",
      "  warnings.warn(\"Estimator fit failed. The score on this train-test\"\n",
      "/opt/conda/lib/python3.9/site-packages/sklearn/model_selection/_validation.py:610: FitFailedWarning: Estimator fit failed. The score on this train-test partition for these parameters will be set to nan. Details: \n",
      "Traceback (most recent call last):\n",
      "  File \"/opt/conda/lib/python3.9/site-packages/sklearn/model_selection/_validation.py\", line 593, in _fit_and_score\n",
      "    estimator.fit(X_train, y_train, **fit_params)\n",
      "  File \"/opt/conda/lib/python3.9/site-packages/catboost/core.py\", line 4716, in fit\n",
      "    self._fit(X, y, cat_features, text_features, embedding_features, None, sample_weight, None, None, None, None, baseline, use_best_model,\n",
      "  File \"/opt/conda/lib/python3.9/site-packages/catboost/core.py\", line 2021, in _fit\n",
      "    train_params = self._prepare_train_params(\n",
      "  File \"/opt/conda/lib/python3.9/site-packages/catboost/core.py\", line 1953, in _prepare_train_params\n",
      "    _check_train_params(params)\n",
      "  File \"_catboost.pyx\", line 5839, in _catboost._check_train_params\n",
      "  File \"_catboost.pyx\", line 5858, in _catboost._check_train_params\n",
      "_catboost.CatBoostError: catboost/private/libs/options/oblivious_tree_options.cpp:122: Maximum tree depth is 16\n",
      "\n",
      "  warnings.warn(\"Estimator fit failed. The score on this train-test\"\n",
      "/opt/conda/lib/python3.9/site-packages/sklearn/model_selection/_validation.py:610: FitFailedWarning: Estimator fit failed. The score on this train-test partition for these parameters will be set to nan. Details: \n",
      "Traceback (most recent call last):\n",
      "  File \"/opt/conda/lib/python3.9/site-packages/sklearn/model_selection/_validation.py\", line 593, in _fit_and_score\n",
      "    estimator.fit(X_train, y_train, **fit_params)\n",
      "  File \"/opt/conda/lib/python3.9/site-packages/catboost/core.py\", line 4716, in fit\n",
      "    self._fit(X, y, cat_features, text_features, embedding_features, None, sample_weight, None, None, None, None, baseline, use_best_model,\n",
      "  File \"/opt/conda/lib/python3.9/site-packages/catboost/core.py\", line 2021, in _fit\n",
      "    train_params = self._prepare_train_params(\n",
      "  File \"/opt/conda/lib/python3.9/site-packages/catboost/core.py\", line 1953, in _prepare_train_params\n",
      "    _check_train_params(params)\n",
      "  File \"_catboost.pyx\", line 5839, in _catboost._check_train_params\n",
      "  File \"_catboost.pyx\", line 5858, in _catboost._check_train_params\n",
      "_catboost.CatBoostError: catboost/private/libs/options/oblivious_tree_options.cpp:122: Maximum tree depth is 16\n",
      "\n",
      "  warnings.warn(\"Estimator fit failed. The score on this train-test\"\n",
      "/opt/conda/lib/python3.9/site-packages/sklearn/model_selection/_validation.py:610: FitFailedWarning: Estimator fit failed. The score on this train-test partition for these parameters will be set to nan. Details: \n",
      "Traceback (most recent call last):\n",
      "  File \"/opt/conda/lib/python3.9/site-packages/sklearn/model_selection/_validation.py\", line 593, in _fit_and_score\n",
      "    estimator.fit(X_train, y_train, **fit_params)\n",
      "  File \"/opt/conda/lib/python3.9/site-packages/catboost/core.py\", line 4716, in fit\n",
      "    self._fit(X, y, cat_features, text_features, embedding_features, None, sample_weight, None, None, None, None, baseline, use_best_model,\n",
      "  File \"/opt/conda/lib/python3.9/site-packages/catboost/core.py\", line 2021, in _fit\n",
      "    train_params = self._prepare_train_params(\n",
      "  File \"/opt/conda/lib/python3.9/site-packages/catboost/core.py\", line 1953, in _prepare_train_params\n",
      "    _check_train_params(params)\n",
      "  File \"_catboost.pyx\", line 5839, in _catboost._check_train_params\n",
      "  File \"_catboost.pyx\", line 5858, in _catboost._check_train_params\n",
      "_catboost.CatBoostError: catboost/private/libs/options/oblivious_tree_options.cpp:122: Maximum tree depth is 16\n",
      "\n",
      "  warnings.warn(\"Estimator fit failed. The score on this train-test\"\n",
      "/opt/conda/lib/python3.9/site-packages/sklearn/model_selection/_validation.py:610: FitFailedWarning: Estimator fit failed. The score on this train-test partition for these parameters will be set to nan. Details: \n",
      "Traceback (most recent call last):\n",
      "  File \"/opt/conda/lib/python3.9/site-packages/sklearn/model_selection/_validation.py\", line 593, in _fit_and_score\n",
      "    estimator.fit(X_train, y_train, **fit_params)\n",
      "  File \"/opt/conda/lib/python3.9/site-packages/catboost/core.py\", line 4716, in fit\n",
      "    self._fit(X, y, cat_features, text_features, embedding_features, None, sample_weight, None, None, None, None, baseline, use_best_model,\n",
      "  File \"/opt/conda/lib/python3.9/site-packages/catboost/core.py\", line 2021, in _fit\n",
      "    train_params = self._prepare_train_params(\n",
      "  File \"/opt/conda/lib/python3.9/site-packages/catboost/core.py\", line 1953, in _prepare_train_params\n",
      "    _check_train_params(params)\n",
      "  File \"_catboost.pyx\", line 5839, in _catboost._check_train_params\n",
      "  File \"_catboost.pyx\", line 5858, in _catboost._check_train_params\n",
      "_catboost.CatBoostError: catboost/private/libs/options/oblivious_tree_options.cpp:122: Maximum tree depth is 16\n",
      "\n",
      "  warnings.warn(\"Estimator fit failed. The score on this train-test\"\n",
      "/opt/conda/lib/python3.9/site-packages/sklearn/model_selection/_validation.py:610: FitFailedWarning: Estimator fit failed. The score on this train-test partition for these parameters will be set to nan. Details: \n",
      "Traceback (most recent call last):\n",
      "  File \"/opt/conda/lib/python3.9/site-packages/sklearn/model_selection/_validation.py\", line 593, in _fit_and_score\n",
      "    estimator.fit(X_train, y_train, **fit_params)\n",
      "  File \"/opt/conda/lib/python3.9/site-packages/catboost/core.py\", line 4716, in fit\n",
      "    self._fit(X, y, cat_features, text_features, embedding_features, None, sample_weight, None, None, None, None, baseline, use_best_model,\n",
      "  File \"/opt/conda/lib/python3.9/site-packages/catboost/core.py\", line 2021, in _fit\n",
      "    train_params = self._prepare_train_params(\n",
      "  File \"/opt/conda/lib/python3.9/site-packages/catboost/core.py\", line 1953, in _prepare_train_params\n",
      "    _check_train_params(params)\n",
      "  File \"_catboost.pyx\", line 5839, in _catboost._check_train_params\n",
      "  File \"_catboost.pyx\", line 5858, in _catboost._check_train_params\n",
      "_catboost.CatBoostError: catboost/private/libs/options/oblivious_tree_options.cpp:122: Maximum tree depth is 16\n",
      "\n",
      "  warnings.warn(\"Estimator fit failed. The score on this train-test\"\n",
      "/opt/conda/lib/python3.9/site-packages/sklearn/model_selection/_validation.py:610: FitFailedWarning: Estimator fit failed. The score on this train-test partition for these parameters will be set to nan. Details: \n",
      "Traceback (most recent call last):\n",
      "  File \"/opt/conda/lib/python3.9/site-packages/sklearn/model_selection/_validation.py\", line 593, in _fit_and_score\n",
      "    estimator.fit(X_train, y_train, **fit_params)\n",
      "  File \"/opt/conda/lib/python3.9/site-packages/catboost/core.py\", line 4716, in fit\n",
      "    self._fit(X, y, cat_features, text_features, embedding_features, None, sample_weight, None, None, None, None, baseline, use_best_model,\n",
      "  File \"/opt/conda/lib/python3.9/site-packages/catboost/core.py\", line 2021, in _fit\n",
      "    train_params = self._prepare_train_params(\n",
      "  File \"/opt/conda/lib/python3.9/site-packages/catboost/core.py\", line 1953, in _prepare_train_params\n",
      "    _check_train_params(params)\n",
      "  File \"_catboost.pyx\", line 5839, in _catboost._check_train_params\n",
      "  File \"_catboost.pyx\", line 5858, in _catboost._check_train_params\n",
      "_catboost.CatBoostError: catboost/private/libs/options/oblivious_tree_options.cpp:122: Maximum tree depth is 16\n",
      "\n",
      "  warnings.warn(\"Estimator fit failed. The score on this train-test\"\n",
      "/opt/conda/lib/python3.9/site-packages/sklearn/model_selection/_validation.py:610: FitFailedWarning: Estimator fit failed. The score on this train-test partition for these parameters will be set to nan. Details: \n",
      "Traceback (most recent call last):\n",
      "  File \"/opt/conda/lib/python3.9/site-packages/sklearn/model_selection/_validation.py\", line 593, in _fit_and_score\n",
      "    estimator.fit(X_train, y_train, **fit_params)\n",
      "  File \"/opt/conda/lib/python3.9/site-packages/catboost/core.py\", line 4716, in fit\n",
      "    self._fit(X, y, cat_features, text_features, embedding_features, None, sample_weight, None, None, None, None, baseline, use_best_model,\n",
      "  File \"/opt/conda/lib/python3.9/site-packages/catboost/core.py\", line 2021, in _fit\n",
      "    train_params = self._prepare_train_params(\n",
      "  File \"/opt/conda/lib/python3.9/site-packages/catboost/core.py\", line 1953, in _prepare_train_params\n",
      "    _check_train_params(params)\n",
      "  File \"_catboost.pyx\", line 5839, in _catboost._check_train_params\n",
      "  File \"_catboost.pyx\", line 5858, in _catboost._check_train_params\n",
      "_catboost.CatBoostError: catboost/private/libs/options/oblivious_tree_options.cpp:122: Maximum tree depth is 16\n",
      "\n",
      "  warnings.warn(\"Estimator fit failed. The score on this train-test\"\n"
     ]
    },
    {
     "name": "stdout",
     "output_type": "stream",
     "text": [
      "Лучшее значение AUC-ROC: 0.8707470624030197 Глубина дерева: 7\n"
     ]
    },
    {
     "name": "stderr",
     "output_type": "stream",
     "text": [
      "/opt/conda/lib/python3.9/site-packages/sklearn/model_selection/_validation.py:610: FitFailedWarning: Estimator fit failed. The score on this train-test partition for these parameters will be set to nan. Details: \n",
      "Traceback (most recent call last):\n",
      "  File \"/opt/conda/lib/python3.9/site-packages/sklearn/model_selection/_validation.py\", line 593, in _fit_and_score\n",
      "    estimator.fit(X_train, y_train, **fit_params)\n",
      "  File \"/opt/conda/lib/python3.9/site-packages/catboost/core.py\", line 4716, in fit\n",
      "    self._fit(X, y, cat_features, text_features, embedding_features, None, sample_weight, None, None, None, None, baseline, use_best_model,\n",
      "  File \"/opt/conda/lib/python3.9/site-packages/catboost/core.py\", line 2021, in _fit\n",
      "    train_params = self._prepare_train_params(\n",
      "  File \"/opt/conda/lib/python3.9/site-packages/catboost/core.py\", line 1953, in _prepare_train_params\n",
      "    _check_train_params(params)\n",
      "  File \"_catboost.pyx\", line 5839, in _catboost._check_train_params\n",
      "  File \"_catboost.pyx\", line 5858, in _catboost._check_train_params\n",
      "_catboost.CatBoostError: catboost/private/libs/options/oblivious_tree_options.cpp:122: Maximum tree depth is 16\n",
      "\n",
      "  warnings.warn(\"Estimator fit failed. The score on this train-test\"\n",
      "/opt/conda/lib/python3.9/site-packages/sklearn/model_selection/_validation.py:610: FitFailedWarning: Estimator fit failed. The score on this train-test partition for these parameters will be set to nan. Details: \n",
      "Traceback (most recent call last):\n",
      "  File \"/opt/conda/lib/python3.9/site-packages/sklearn/model_selection/_validation.py\", line 593, in _fit_and_score\n",
      "    estimator.fit(X_train, y_train, **fit_params)\n",
      "  File \"/opt/conda/lib/python3.9/site-packages/catboost/core.py\", line 4716, in fit\n",
      "    self._fit(X, y, cat_features, text_features, embedding_features, None, sample_weight, None, None, None, None, baseline, use_best_model,\n",
      "  File \"/opt/conda/lib/python3.9/site-packages/catboost/core.py\", line 2021, in _fit\n",
      "    train_params = self._prepare_train_params(\n",
      "  File \"/opt/conda/lib/python3.9/site-packages/catboost/core.py\", line 1953, in _prepare_train_params\n",
      "    _check_train_params(params)\n",
      "  File \"_catboost.pyx\", line 5839, in _catboost._check_train_params\n",
      "  File \"_catboost.pyx\", line 5858, in _catboost._check_train_params\n",
      "_catboost.CatBoostError: catboost/private/libs/options/oblivious_tree_options.cpp:122: Maximum tree depth is 16\n",
      "\n",
      "  warnings.warn(\"Estimator fit failed. The score on this train-test\"\n",
      "/opt/conda/lib/python3.9/site-packages/sklearn/model_selection/_validation.py:610: FitFailedWarning: Estimator fit failed. The score on this train-test partition for these parameters will be set to nan. Details: \n",
      "Traceback (most recent call last):\n",
      "  File \"/opt/conda/lib/python3.9/site-packages/sklearn/model_selection/_validation.py\", line 593, in _fit_and_score\n",
      "    estimator.fit(X_train, y_train, **fit_params)\n",
      "  File \"/opt/conda/lib/python3.9/site-packages/catboost/core.py\", line 4716, in fit\n",
      "    self._fit(X, y, cat_features, text_features, embedding_features, None, sample_weight, None, None, None, None, baseline, use_best_model,\n",
      "  File \"/opt/conda/lib/python3.9/site-packages/catboost/core.py\", line 2021, in _fit\n",
      "    train_params = self._prepare_train_params(\n",
      "  File \"/opt/conda/lib/python3.9/site-packages/catboost/core.py\", line 1953, in _prepare_train_params\n",
      "    _check_train_params(params)\n",
      "  File \"_catboost.pyx\", line 5839, in _catboost._check_train_params\n",
      "  File \"_catboost.pyx\", line 5858, in _catboost._check_train_params\n",
      "_catboost.CatBoostError: catboost/private/libs/options/oblivious_tree_options.cpp:122: Maximum tree depth is 16\n",
      "\n",
      "  warnings.warn(\"Estimator fit failed. The score on this train-test\"\n"
     ]
    }
   ],
   "source": [
    "best_model_catboost = None\n",
    "best_result_catboost = 0\n",
    "best_depth = 0 \n",
    "\n",
    "for depth in range(1,20):\n",
    "    model_catboost = CatBoostClassifier(iterations = 40, \n",
    "                                        max_depth = depth,\n",
    "                                        cat_features=features_category, \n",
    "                                        random_state = RANDOM_STATE,\n",
    "                                        verbose=0)\n",
    "    result_catboost = cross_val_score(model_catboost, features_train_catboost, target_train,\n",
    "                                          cv = 5, scoring = 'roc_auc')\n",
    "    result_catboost = np.mean(result_catboost)\n",
    "        \n",
    "    if result_catboost > best_result_catboost:\n",
    "        best_model_catboost = model_catboost\n",
    "        best_result_catboost = result_catboost\n",
    "        best_depth = depth\n",
    "        \n",
    "print('Лучшее значение AUC-ROC:', best_result_catboost,\n",
    "      'Глубина дерева:', best_depth)"
   ]
  },
  {
   "cell_type": "markdown",
   "id": "9800984d",
   "metadata": {},
   "source": [
    "#### LightGBM"
   ]
  },
  {
   "cell_type": "code",
   "execution_count": 89,
   "id": "b7ce6cb1",
   "metadata": {},
   "outputs": [
    {
     "name": "stdout",
     "output_type": "stream",
     "text": [
      "AUC-ROC LGBM: 0.8939330602156416\n",
      "Лучшие гиперпараметры: {'learning_rate': 0.15, 'max_depth': 10, 'num_leaves': 31}\n"
     ]
    }
   ],
   "source": [
    "param_grid = [{\n",
    "    'max_depth': [5, 10, 15],\n",
    "    'num_leaves':[31, 100, 200],\n",
    "    'learning_rate': [0.01, 0.1, 0.15]\n",
    "}]\n",
    "\n",
    "model_light = LGBMClassifier(random_state = RANDOM_STATE,\n",
    "                             n_jobs=1)\n",
    "grid_search_light = GridSearchCV(model_light, param_grid, cv=5, scoring='roc_auc')\n",
    "grid_search_light.fit(features_train, target_train)\n",
    "\n",
    "auc_roc_light = grid_search_light.best_score_\n",
    "\n",
    "print(f'AUC-ROC LGBM: {auc_roc_light}') \n",
    "print(f'Лучшие гиперпараметры: {grid_search_light.best_params_}')"
   ]
  },
  {
   "cell_type": "code",
   "execution_count": 91,
   "id": "19e6e18a",
   "metadata": {},
   "outputs": [
    {
     "data": {
      "text/html": [
       "<div>\n",
       "<style scoped>\n",
       "    .dataframe tbody tr th:only-of-type {\n",
       "        vertical-align: middle;\n",
       "    }\n",
       "\n",
       "    .dataframe tbody tr th {\n",
       "        vertical-align: top;\n",
       "    }\n",
       "\n",
       "    .dataframe thead th {\n",
       "        text-align: right;\n",
       "    }\n",
       "</style>\n",
       "<table border=\"1\" class=\"dataframe\">\n",
       "  <thead>\n",
       "    <tr style=\"text-align: right;\">\n",
       "      <th></th>\n",
       "      <th>модель</th>\n",
       "      <th>AUC-ROC</th>\n",
       "    </tr>\n",
       "  </thead>\n",
       "  <tbody>\n",
       "    <tr>\n",
       "      <th>0</th>\n",
       "      <td>RandomForest</td>\n",
       "      <td>0.855881</td>\n",
       "    </tr>\n",
       "    <tr>\n",
       "      <th>1</th>\n",
       "      <td>LogisticRegression</td>\n",
       "      <td>0.842303</td>\n",
       "    </tr>\n",
       "    <tr>\n",
       "      <th>2</th>\n",
       "      <td>CatBoost</td>\n",
       "      <td>0.870747</td>\n",
       "    </tr>\n",
       "    <tr>\n",
       "      <th>3</th>\n",
       "      <td>LightGBM</td>\n",
       "      <td>0.893933</td>\n",
       "    </tr>\n",
       "  </tbody>\n",
       "</table>\n",
       "</div>"
      ],
      "text/plain": [
       "               модель   AUC-ROC\n",
       "0        RandomForest  0.855881\n",
       "1  LogisticRegression  0.842303\n",
       "2            CatBoost  0.870747\n",
       "3            LightGBM  0.893933"
      ]
     },
     "execution_count": 91,
     "metadata": {},
     "output_type": "execute_result"
    }
   ],
   "source": [
    "df = pd.DataFrame({'модель': ['RandomForest', 'LogisticRegression', 'CatBoost', 'LightGBM'], \n",
    "                   'AUC-ROC': [auc_roc_forest, result_2, best_result_catboost, auc_roc_light]})\n",
    "df"
   ]
  },
  {
   "cell_type": "markdown",
   "id": "4575996a",
   "metadata": {},
   "source": [
    "#### Проверка лучшей модели"
   ]
  },
  {
   "cell_type": "code",
   "execution_count": 104,
   "id": "a8d894d9",
   "metadata": {},
   "outputs": [
    {
     "name": "stdout",
     "output_type": "stream",
     "text": [
      "AUC-ROC: 0.9082103859298158\n"
     ]
    }
   ],
   "source": [
    "# проверка на тестовой выборке лучшей модели\n",
    "model_light = LGBMClassifier(learning_rate = 0.15, \n",
    "                             max_depth = 10, \n",
    "                             num_leaves = 31, \n",
    "                             random_state = RANDOM_STATE)\n",
    "model_light.fit(features_train, target_train)\n",
    "predictions_test = model_light.predict_proba(features_test)\n",
    "print(\"AUC-ROC:\", roc_auc_score(target_test, predictions_test[:, 1]))"
   ]
  },
  {
   "cell_type": "markdown",
   "id": "05f94449",
   "metadata": {},
   "source": [
    "#### Матрица ошибок и оценка важности признаков"
   ]
  },
  {
   "cell_type": "code",
   "execution_count": 110,
   "id": "93ab8739",
   "metadata": {},
   "outputs": [
    {
     "data": {
      "text/plain": [
       "array([[1210,   80],\n",
       "       [ 163,  302]])"
      ]
     },
     "execution_count": 110,
     "metadata": {},
     "output_type": "execute_result"
    }
   ],
   "source": [
    "# матрица ошибок \n",
    "predictions_test = model_light.predict(features_test)\n",
    "\n",
    "confusion_matrix(target_test, predictions_test)"
   ]
  },
  {
   "cell_type": "markdown",
   "id": "f389589a",
   "metadata": {},
   "source": [
    "- True Positive (TP) = 1210; это означает, что 1210 положительных точек данных были правильно классифицированы моделью.\n",
    "- True Negative (TN) = 80; это означает, что 80 отрицательных точек данных были правильно классифицированы моделью.\n",
    "- False Positive (FP) = 163; это означает, что 163 отрицательных точек данных были неправильно классифицированы моделью как положительные.\n",
    "- False Negative (FN) = 302; это означает, что 302 положительных точек данных были неправильно классифицированы моделью как отрицательные."
   ]
  },
  {
   "cell_type": "code",
   "execution_count": 111,
   "id": "81f2d603",
   "metadata": {},
   "outputs": [
    {
     "data": {
      "image/png": "[encoded data removed]",
      "text/plain": [
       "<Figure size 864x432 with 1 Axes>"
      ]
     },
     "metadata": {
      "needs_background": "light"
     },
     "output_type": "display_data"
    }
   ],
   "source": [
    "# оценка важности признаков\n",
    "feature_importance = model_light.feature_importances_\n",
    "sorted_idx = np.argsort(feature_importance)\n",
    "fig = plt.figure(figsize=(12, 6))\n",
    "plt.barh(range(len(sorted_idx)), feature_importance[sorted_idx], align='center')\n",
    "plt.yticks(range(len(sorted_idx)), np.array(features_test.columns)[sorted_idx])\n",
    "plt.title('Важность признаков');"
   ]
  },
  {
   "cell_type": "markdown",
   "id": "5abc68d1",
   "metadata": {},
   "source": [
    "Большую важность имеют такие признаки, как `period` и `monthly_charges`."
   ]
  },
  {
   "cell_type": "markdown",
   "id": "3a12251f",
   "metadata": {},
   "source": [
    "#### Вывод"
   ]
  },
  {
   "cell_type": "markdown",
   "id": "061d22f7",
   "metadata": {},
   "source": [
    "- Проведено обучение моделей RandomForest, LogisticRegression, CatBoost, LightGBM.\n",
    "- Лучший результат показала модель LightGBM с параметрами learning_rate = 0.15, max_depth = 10,  num_leaves = 31, random_state = 261222.\n",
    "- Лучшая модель проверена на тестовой выборке.\n",
    "- Построена матрица ошибок.\n",
    "- Проведена оценка важности признаков."
   ]
  },
  {
   "cell_type": "markdown",
   "id": "51961777",
   "metadata": {},
   "source": [
    "### Вывод"
   ]
  },
  {
   "cell_type": "markdown",
   "id": "a3e699da",
   "metadata": {},
   "source": [
    "Построена модель для прогнозирования оттока клиентов."
   ]
  },
  {
   "cell_type": "markdown",
   "id": "f10726ff",
   "metadata": {},
   "source": [
    "## Отчёт"
   ]
  },
  {
   "cell_type": "markdown",
   "id": "6535bfa5",
   "metadata": {},
   "source": [
    "Построена модель для прогнозирования оттока клиентов.\n",
    "\n",
    "Все пункты первоначального плана выполнены:\n",
    "- Исследовательский анализ данных.\n",
    "- Предобработка данных.\n",
    "- Обучение моделей.\n",
    "\n",
    "После объединения датафреймов образовались пропуски, которые были устранены заменой на `no`.\n",
    "\n",
    "Было важно грамотно подготовить данные для качественного обучения моделей, а именно:\n",
    "- обработать пропуски;\n",
    "- устранить неинформативные признаки;\n",
    "- правильно разбить на выборки;\n",
    "- предобработать признаки к машинному обучению с учетом используемых моделей.\n",
    "\n",
    "По итогу проведённой работы лучший результат (метрика качества AUC-ROC = 0.9082103859298158) показала модель `LightGBM` с параметрами:\n",
    "- learning_rate = 0.15; \n",
    "- max_depth = 10;\n",
    "- num_leaves = 31;\n",
    "- random_state = 261222.\n",
    "\n",
    "Как проходила подготовка признаков для `LightGBM`:\n",
    "- Данные были разбиты на признаки и целевой признак `customer_care`.\n",
    "- Проведено кодирование метки тренировочных и тестовых категориальных признаков - замена типа `object` на тип `category`.\n",
    "- Для обучения и перебора гиперпараметров использовался оптимизатор GridSearchCV."
   ]
  }
 ],
 "metadata": {
  "ExecuteTimeLog": [
   {
    "duration": 816,
    "start_time": "2022-12-28T22:36:32.932Z"
   },
   {
    "duration": 252,
    "start_time": "2022-12-28T22:36:35.676Z"
   },
   {
    "duration": 18,
    "start_time": "2022-12-28T22:36:36.996Z"
   },
   {
    "duration": 14,
    "start_time": "2022-12-28T22:36:37.675Z"
   },
   {
    "duration": 6,
    "start_time": "2022-12-28T22:36:38.550Z"
   },
   {
    "duration": 7,
    "start_time": "2022-12-28T22:36:39.068Z"
   },
   {
    "duration": 5,
    "start_time": "2022-12-28T22:36:40.307Z"
   },
   {
    "duration": 6,
    "start_time": "2022-12-28T22:36:40.716Z"
   },
   {
    "duration": 6,
    "start_time": "2022-12-28T22:36:41.243Z"
   },
   {
    "duration": 9,
    "start_time": "2022-12-28T22:36:41.696Z"
   },
   {
    "duration": 571,
    "start_time": "2022-12-28T22:36:42.370Z"
   },
   {
    "duration": 11,
    "start_time": "2022-12-28T22:36:43.606Z"
   },
   {
    "duration": 104,
    "start_time": "2022-12-28T22:36:45.713Z"
   },
   {
    "duration": 11,
    "start_time": "2022-12-28T22:36:46.111Z"
   },
   {
    "duration": 9,
    "start_time": "2022-12-28T22:36:46.906Z"
   },
   {
    "duration": 206,
    "start_time": "2022-12-28T22:36:47.770Z"
   },
   {
    "duration": 12,
    "start_time": "2022-12-28T22:36:48.186Z"
   },
   {
    "duration": 8,
    "start_time": "2022-12-28T22:36:48.690Z"
   },
   {
    "duration": 135,
    "start_time": "2022-12-28T22:36:49.562Z"
   },
   {
    "duration": 10,
    "start_time": "2022-12-28T22:36:50.213Z"
   },
   {
    "duration": 8,
    "start_time": "2022-12-28T22:36:50.732Z"
   },
   {
    "duration": 8,
    "start_time": "2022-12-28T22:51:57.747Z"
   },
   {
    "duration": 67,
    "start_time": "2022-12-28T22:53:56.836Z"
   },
   {
    "duration": 2951,
    "start_time": "2022-12-28T22:54:21.122Z"
   },
   {
    "duration": 907,
    "start_time": "2022-12-28T23:01:08.209Z"
   },
   {
    "duration": 91,
    "start_time": "2022-12-28T23:01:16.952Z"
   },
   {
    "duration": 255,
    "start_time": "2022-12-28T23:01:27.204Z"
   },
   {
    "duration": 184,
    "start_time": "2022-12-28T23:01:28.575Z"
   },
   {
    "duration": 13,
    "start_time": "2022-12-28T23:01:28.761Z"
   },
   {
    "duration": 14,
    "start_time": "2022-12-28T23:01:28.951Z"
   },
   {
    "duration": 9,
    "start_time": "2022-12-28T23:01:29.146Z"
   },
   {
    "duration": 8,
    "start_time": "2022-12-28T23:01:29.347Z"
   },
   {
    "duration": 7,
    "start_time": "2022-12-28T23:01:29.594Z"
   },
   {
    "duration": 8,
    "start_time": "2022-12-28T23:01:29.795Z"
   },
   {
    "duration": 8,
    "start_time": "2022-12-28T23:01:30.022Z"
   },
   {
    "duration": 11,
    "start_time": "2022-12-28T23:01:30.258Z"
   },
   {
    "duration": 594,
    "start_time": "2022-12-28T23:01:30.498Z"
   },
   {
    "duration": 19,
    "start_time": "2022-12-28T23:01:31.094Z"
   },
   {
    "duration": 4,
    "start_time": "2022-12-28T23:01:32.125Z"
   },
   {
    "duration": 0,
    "start_time": "2022-12-28T23:02:22.694Z"
   },
   {
    "duration": 64,
    "start_time": "2022-12-28T23:02:25.746Z"
   },
   {
    "duration": 630,
    "start_time": "2022-12-28T23:03:14.515Z"
   },
   {
    "duration": 84,
    "start_time": "2022-12-28T23:03:15.807Z"
   },
   {
    "duration": 19,
    "start_time": "2022-12-28T23:03:16.018Z"
   },
   {
    "duration": 13,
    "start_time": "2022-12-28T23:03:16.203Z"
   },
   {
    "duration": 8,
    "start_time": "2022-12-28T23:03:16.406Z"
   },
   {
    "duration": 6,
    "start_time": "2022-12-28T23:03:16.599Z"
   },
   {
    "duration": 7,
    "start_time": "2022-12-28T23:03:16.905Z"
   },
   {
    "duration": 7,
    "start_time": "2022-12-28T23:03:17.184Z"
   },
   {
    "duration": 7,
    "start_time": "2022-12-28T23:03:17.367Z"
   },
   {
    "duration": 8,
    "start_time": "2022-12-28T23:03:17.562Z"
   },
   {
    "duration": 552,
    "start_time": "2022-12-28T23:03:17.774Z"
   },
   {
    "duration": 16,
    "start_time": "2022-12-28T23:03:18.328Z"
   },
   {
    "duration": 627,
    "start_time": "2022-12-28T23:03:18.346Z"
   },
   {
    "duration": 3522,
    "start_time": "2022-12-28T23:03:18.975Z"
   },
   {
    "duration": 7815,
    "start_time": "2022-12-28T23:03:44.553Z"
   },
   {
    "duration": 3,
    "start_time": "2022-12-28T23:09:06.005Z"
   },
   {
    "duration": 1094,
    "start_time": "2022-12-28T23:14:16.732Z"
   },
   {
    "duration": 85,
    "start_time": "2022-12-28T23:14:20.398Z"
   },
   {
    "duration": 15,
    "start_time": "2022-12-28T23:14:20.812Z"
   },
   {
    "duration": 11,
    "start_time": "2022-12-28T23:14:21.489Z"
   },
   {
    "duration": 7,
    "start_time": "2022-12-28T23:14:21.940Z"
   },
   {
    "duration": 6,
    "start_time": "2022-12-28T23:14:22.340Z"
   },
   {
    "duration": 6,
    "start_time": "2022-12-28T23:14:22.796Z"
   },
   {
    "duration": 8,
    "start_time": "2022-12-28T23:14:23.163Z"
   },
   {
    "duration": 8,
    "start_time": "2022-12-28T23:14:23.516Z"
   },
   {
    "duration": 10,
    "start_time": "2022-12-28T23:14:23.971Z"
   },
   {
    "duration": 571,
    "start_time": "2022-12-28T23:14:25.720Z"
   },
   {
    "duration": 14,
    "start_time": "2022-12-28T23:14:26.417Z"
   },
   {
    "duration": 3,
    "start_time": "2022-12-28T23:21:39.895Z"
   },
   {
    "duration": 106,
    "start_time": "2022-12-28T23:21:41.601Z"
   },
   {
    "duration": 17,
    "start_time": "2022-12-28T23:21:41.974Z"
   },
   {
    "duration": 14,
    "start_time": "2022-12-28T23:21:42.387Z"
   },
   {
    "duration": 10,
    "start_time": "2022-12-28T23:21:43.052Z"
   },
   {
    "duration": 9,
    "start_time": "2022-12-28T23:21:43.624Z"
   },
   {
    "duration": 8,
    "start_time": "2022-12-28T23:21:43.984Z"
   },
   {
    "duration": 8,
    "start_time": "2022-12-28T23:21:44.328Z"
   },
   {
    "duration": 8,
    "start_time": "2022-12-28T23:21:44.745Z"
   },
   {
    "duration": 11,
    "start_time": "2022-12-28T23:21:45.143Z"
   },
   {
    "duration": 12,
    "start_time": "2022-12-28T23:21:50.149Z"
   },
   {
    "duration": 621,
    "start_time": "2022-12-28T23:21:51.040Z"
   },
   {
    "duration": 9,
    "start_time": "2022-12-28T23:21:53.006Z"
   },
   {
    "duration": 8345,
    "start_time": "2022-12-28T23:21:56.078Z"
   },
   {
    "duration": 106,
    "start_time": "2022-12-28T23:22:18.146Z"
   },
   {
    "duration": 85,
    "start_time": "2022-12-28T23:24:12.157Z"
   },
   {
    "duration": 77,
    "start_time": "2022-12-28T23:29:54.554Z"
   },
   {
    "duration": 12,
    "start_time": "2022-12-28T23:29:57.090Z"
   },
   {
    "duration": 11,
    "start_time": "2022-12-28T23:29:59.272Z"
   },
   {
    "duration": 7,
    "start_time": "2022-12-28T23:31:20.061Z"
   },
   {
    "duration": 7,
    "start_time": "2022-12-28T23:31:41.851Z"
   },
   {
    "duration": 8,
    "start_time": "2022-12-28T23:32:03.110Z"
   },
   {
    "duration": 8,
    "start_time": "2022-12-28T23:32:34.825Z"
   },
   {
    "duration": 6,
    "start_time": "2022-12-28T23:32:48.008Z"
   },
   {
    "duration": 7,
    "start_time": "2022-12-28T23:33:08.728Z"
   },
   {
    "duration": 6,
    "start_time": "2022-12-28T23:33:25.738Z"
   },
   {
    "duration": 235,
    "start_time": "2022-12-28T23:36:07.105Z"
   },
   {
    "duration": 72,
    "start_time": "2022-12-28T23:42:19.428Z"
   },
   {
    "duration": 16,
    "start_time": "2022-12-28T23:42:22.376Z"
   },
   {
    "duration": 8,
    "start_time": "2022-12-28T23:42:27.889Z"
   },
   {
    "duration": 6,
    "start_time": "2022-12-28T23:43:02.640Z"
   },
   {
    "duration": 5,
    "start_time": "2022-12-28T23:43:25.281Z"
   },
   {
    "duration": 92,
    "start_time": "2022-12-28T23:43:37.540Z"
   },
   {
    "duration": 8,
    "start_time": "2022-12-28T23:43:49.044Z"
   },
   {
    "duration": 719,
    "start_time": "2022-12-28T23:47:11.838Z"
   },
   {
    "duration": 122,
    "start_time": "2022-12-28T23:50:50.453Z"
   },
   {
    "duration": 370,
    "start_time": "2022-12-28T23:51:00.366Z"
   },
   {
    "duration": 146,
    "start_time": "2022-12-28T23:55:21.000Z"
   },
   {
    "duration": 78,
    "start_time": "2022-12-28T23:56:44.771Z"
   },
   {
    "duration": 15,
    "start_time": "2022-12-28T23:56:45.875Z"
   },
   {
    "duration": 17,
    "start_time": "2022-12-28T23:56:46.813Z"
   },
   {
    "duration": 7,
    "start_time": "2022-12-28T23:57:23.762Z"
   },
   {
    "duration": 871,
    "start_time": "2022-12-29T21:41:31.197Z"
   },
   {
    "duration": 3026,
    "start_time": "2022-12-29T21:41:47.756Z"
   },
   {
    "duration": 596,
    "start_time": "2022-12-29T21:41:55.225Z"
   },
   {
    "duration": 167,
    "start_time": "2022-12-29T21:42:01.007Z"
   },
   {
    "duration": 872,
    "start_time": "2023-01-07T17:02:19.996Z"
   },
   {
    "duration": 3629,
    "start_time": "2023-01-07T17:02:51.030Z"
   },
   {
    "duration": 614,
    "start_time": "2023-01-07T17:02:57.335Z"
   },
   {
    "duration": 3,
    "start_time": "2023-01-07T17:03:03.935Z"
   },
   {
    "duration": 227,
    "start_time": "2023-01-07T17:03:06.641Z"
   },
   {
    "duration": 15,
    "start_time": "2023-01-07T17:03:11.643Z"
   },
   {
    "duration": 10,
    "start_time": "2023-01-07T17:03:14.460Z"
   },
   {
    "duration": 7,
    "start_time": "2023-01-07T17:03:14.777Z"
   },
   {
    "duration": 6,
    "start_time": "2023-01-07T17:03:15.298Z"
   },
   {
    "duration": 7,
    "start_time": "2023-01-07T17:03:15.752Z"
   },
   {
    "duration": 6,
    "start_time": "2023-01-07T17:03:16.494Z"
   },
   {
    "duration": 6,
    "start_time": "2023-01-07T17:03:16.824Z"
   },
   {
    "duration": 9,
    "start_time": "2023-01-07T17:03:17.172Z"
   },
   {
    "duration": 579,
    "start_time": "2023-01-07T17:03:18.660Z"
   },
   {
    "duration": 10,
    "start_time": "2023-01-07T17:03:24.383Z"
   },
   {
    "duration": 8082,
    "start_time": "2023-01-07T17:03:25.421Z"
   },
   {
    "duration": 100,
    "start_time": "2023-01-07T17:07:12.335Z"
   },
   {
    "duration": 12,
    "start_time": "2023-01-07T17:07:13.240Z"
   },
   {
    "duration": 8,
    "start_time": "2023-01-07T17:07:28.714Z"
   },
   {
    "duration": 6,
    "start_time": "2023-01-07T17:07:28.933Z"
   },
   {
    "duration": 6,
    "start_time": "2023-01-07T17:07:29.533Z"
   },
   {
    "duration": 6,
    "start_time": "2023-01-07T17:07:29.871Z"
   },
   {
    "duration": 7,
    "start_time": "2023-01-07T17:07:30.359Z"
   },
   {
    "duration": 6,
    "start_time": "2023-01-07T17:07:30.649Z"
   },
   {
    "duration": 6,
    "start_time": "2023-01-07T17:07:30.916Z"
   },
   {
    "duration": 6,
    "start_time": "2023-01-07T17:07:31.162Z"
   },
   {
    "duration": 760,
    "start_time": "2023-01-07T17:07:31.390Z"
   },
   {
    "duration": 227,
    "start_time": "2023-01-07T17:07:34.742Z"
   },
   {
    "duration": 15,
    "start_time": "2023-01-07T17:07:35.051Z"
   },
   {
    "duration": 8,
    "start_time": "2023-01-07T17:07:35.409Z"
   },
   {
    "duration": 7,
    "start_time": "2023-01-07T17:07:35.896Z"
   },
   {
    "duration": 6,
    "start_time": "2023-01-07T17:07:36.133Z"
   },
   {
    "duration": 6,
    "start_time": "2023-01-07T17:07:36.309Z"
   },
   {
    "duration": 5,
    "start_time": "2023-01-07T17:07:36.496Z"
   },
   {
    "duration": 376,
    "start_time": "2023-01-07T17:07:37.004Z"
   },
   {
    "duration": 147,
    "start_time": "2023-01-07T17:07:39.071Z"
   },
   {
    "duration": 11,
    "start_time": "2023-01-07T17:07:39.300Z"
   },
   {
    "duration": 8,
    "start_time": "2023-01-07T17:07:39.712Z"
   },
   {
    "duration": 5,
    "start_time": "2023-01-07T17:07:40.364Z"
   },
   {
    "duration": 59,
    "start_time": "2023-01-07T17:12:17.834Z"
   },
   {
    "duration": 46,
    "start_time": "2023-01-07T17:12:23.177Z"
   },
   {
    "duration": 10,
    "start_time": "2023-01-07T17:12:29.033Z"
   },
   {
    "duration": 11,
    "start_time": "2023-01-07T17:16:26.641Z"
   },
   {
    "duration": 11,
    "start_time": "2023-01-07T17:16:55.462Z"
   },
   {
    "duration": 23,
    "start_time": "2023-01-07T17:19:46.457Z"
   },
   {
    "duration": 7,
    "start_time": "2023-01-07T17:24:57.714Z"
   },
   {
    "duration": 14,
    "start_time": "2023-01-07T17:26:54.505Z"
   },
   {
    "duration": 27,
    "start_time": "2023-01-07T17:42:47.170Z"
   },
   {
    "duration": 6,
    "start_time": "2023-01-07T17:42:50.350Z"
   },
   {
    "duration": 9,
    "start_time": "2023-01-07T17:45:49.029Z"
   },
   {
    "duration": 18,
    "start_time": "2023-01-07T17:48:06.174Z"
   },
   {
    "duration": 6,
    "start_time": "2023-01-07T17:49:07.097Z"
   },
   {
    "duration": 26,
    "start_time": "2023-01-07T17:49:58.228Z"
   },
   {
    "duration": 8,
    "start_time": "2023-01-07T17:50:26.845Z"
   },
   {
    "duration": 12,
    "start_time": "2023-01-07T17:51:47.342Z"
   },
   {
    "duration": 5,
    "start_time": "2023-01-07T17:52:43.001Z"
   },
   {
    "duration": 5,
    "start_time": "2023-01-07T18:01:41.419Z"
   },
   {
    "duration": 32,
    "start_time": "2023-01-07T18:02:19.371Z"
   },
   {
    "duration": 7,
    "start_time": "2023-01-07T18:02:32.031Z"
   },
   {
    "duration": 12,
    "start_time": "2023-01-07T18:07:15.173Z"
   },
   {
    "duration": 8,
    "start_time": "2023-01-07T18:09:37.948Z"
   },
   {
    "duration": 7,
    "start_time": "2023-01-07T18:09:51.997Z"
   },
   {
    "duration": 12,
    "start_time": "2023-01-07T18:09:52.278Z"
   },
   {
    "duration": 13,
    "start_time": "2023-01-07T18:09:57.023Z"
   },
   {
    "duration": 50,
    "start_time": "2023-01-07T18:10:17.249Z"
   },
   {
    "duration": 1160,
    "start_time": "2023-01-07T18:10:24.141Z"
   },
   {
    "duration": 79,
    "start_time": "2023-01-07T18:10:26.618Z"
   },
   {
    "duration": 13,
    "start_time": "2023-01-07T18:10:27.079Z"
   },
   {
    "duration": 10,
    "start_time": "2023-01-07T18:10:27.286Z"
   },
   {
    "duration": 7,
    "start_time": "2023-01-07T18:10:27.490Z"
   },
   {
    "duration": 7,
    "start_time": "2023-01-07T18:10:27.703Z"
   },
   {
    "duration": 6,
    "start_time": "2023-01-07T18:10:27.904Z"
   },
   {
    "duration": 6,
    "start_time": "2023-01-07T18:10:28.136Z"
   },
   {
    "duration": 8,
    "start_time": "2023-01-07T18:10:28.342Z"
   },
   {
    "duration": 11,
    "start_time": "2023-01-07T18:10:28.552Z"
   },
   {
    "duration": 557,
    "start_time": "2023-01-07T18:10:28.769Z"
   },
   {
    "duration": 9,
    "start_time": "2023-01-07T18:10:29.328Z"
   },
   {
    "duration": 7951,
    "start_time": "2023-01-07T18:10:29.418Z"
   },
   {
    "duration": 73,
    "start_time": "2023-01-07T18:10:37.371Z"
   },
   {
    "duration": 11,
    "start_time": "2023-01-07T18:10:37.446Z"
   },
   {
    "duration": 16,
    "start_time": "2023-01-07T18:10:37.459Z"
   },
   {
    "duration": 6,
    "start_time": "2023-01-07T18:10:37.476Z"
   },
   {
    "duration": 13,
    "start_time": "2023-01-07T18:10:37.483Z"
   },
   {
    "duration": 12,
    "start_time": "2023-01-07T18:10:37.497Z"
   },
   {
    "duration": 11,
    "start_time": "2023-01-07T18:10:37.511Z"
   },
   {
    "duration": 9,
    "start_time": "2023-01-07T18:10:37.524Z"
   },
   {
    "duration": 8,
    "start_time": "2023-01-07T18:10:37.535Z"
   },
   {
    "duration": 7,
    "start_time": "2023-01-07T18:10:37.545Z"
   },
   {
    "duration": 751,
    "start_time": "2023-01-07T18:10:37.553Z"
   },
   {
    "duration": 54,
    "start_time": "2023-01-07T18:10:38.306Z"
   },
   {
    "duration": 14,
    "start_time": "2023-01-07T18:10:38.362Z"
   },
   {
    "duration": 26,
    "start_time": "2023-01-07T18:10:38.378Z"
   },
   {
    "duration": 11,
    "start_time": "2023-01-07T18:10:38.406Z"
   },
   {
    "duration": 10,
    "start_time": "2023-01-07T18:10:38.419Z"
   },
   {
    "duration": 12,
    "start_time": "2023-01-07T18:10:38.431Z"
   },
   {
    "duration": 13,
    "start_time": "2023-01-07T18:10:38.445Z"
   },
   {
    "duration": 396,
    "start_time": "2023-01-07T18:10:38.460Z"
   },
   {
    "duration": 65,
    "start_time": "2023-01-07T18:10:39.544Z"
   },
   {
    "duration": 11,
    "start_time": "2023-01-07T18:10:39.749Z"
   },
   {
    "duration": 7,
    "start_time": "2023-01-07T18:10:39.949Z"
   },
   {
    "duration": 6,
    "start_time": "2023-01-07T18:10:40.159Z"
   },
   {
    "duration": 11,
    "start_time": "2023-01-07T18:10:44.843Z"
   },
   {
    "duration": 24,
    "start_time": "2023-01-07T18:10:45.047Z"
   },
   {
    "duration": 6,
    "start_time": "2023-01-07T18:10:45.321Z"
   },
   {
    "duration": 9,
    "start_time": "2023-01-07T18:10:45.870Z"
   },
   {
    "duration": 10,
    "start_time": "2023-01-07T18:10:46.077Z"
   },
   {
    "duration": 13,
    "start_time": "2023-01-07T18:10:46.275Z"
   },
   {
    "duration": 10,
    "start_time": "2023-01-07T18:10:46.825Z"
   },
   {
    "duration": 27,
    "start_time": "2023-01-07T18:10:47.044Z"
   },
   {
    "duration": 6,
    "start_time": "2023-01-07T18:10:47.587Z"
   },
   {
    "duration": 9,
    "start_time": "2023-01-07T18:10:48.537Z"
   },
   {
    "duration": 18,
    "start_time": "2023-01-07T18:10:48.881Z"
   },
   {
    "duration": 5,
    "start_time": "2023-01-07T18:10:49.228Z"
   },
   {
    "duration": 7,
    "start_time": "2023-01-07T18:10:49.997Z"
   },
   {
    "duration": 10,
    "start_time": "2023-01-07T18:10:50.425Z"
   },
   {
    "duration": 5,
    "start_time": "2023-01-07T18:10:50.843Z"
   },
   {
    "duration": 103,
    "start_time": "2023-01-07T18:12:34.224Z"
   },
   {
    "duration": 84,
    "start_time": "2023-01-07T18:12:41.640Z"
   },
   {
    "duration": 79,
    "start_time": "2023-01-07T18:12:54.052Z"
   },
   {
    "duration": 802,
    "start_time": "2023-01-07T18:13:56.187Z"
   },
   {
    "duration": 904,
    "start_time": "2023-01-07T18:14:11.862Z"
   },
   {
    "duration": 1282,
    "start_time": "2023-01-07T18:14:30.449Z"
   },
   {
    "duration": 97,
    "start_time": "2023-01-07T18:14:33.355Z"
   },
   {
    "duration": 15,
    "start_time": "2023-01-07T18:14:33.735Z"
   },
   {
    "duration": 11,
    "start_time": "2023-01-07T18:14:33.926Z"
   },
   {
    "duration": 7,
    "start_time": "2023-01-07T18:14:34.110Z"
   },
   {
    "duration": 6,
    "start_time": "2023-01-07T18:14:34.282Z"
   },
   {
    "duration": 6,
    "start_time": "2023-01-07T18:14:34.477Z"
   },
   {
    "duration": 6,
    "start_time": "2023-01-07T18:14:34.678Z"
   },
   {
    "duration": 6,
    "start_time": "2023-01-07T18:14:34.892Z"
   },
   {
    "duration": 9,
    "start_time": "2023-01-07T18:14:35.075Z"
   },
   {
    "duration": 545,
    "start_time": "2023-01-07T18:14:35.275Z"
   },
   {
    "duration": 11,
    "start_time": "2023-01-07T18:14:35.822Z"
   },
   {
    "duration": 7962,
    "start_time": "2023-01-07T18:14:35.902Z"
   },
   {
    "duration": 74,
    "start_time": "2023-01-07T18:14:43.866Z"
   },
   {
    "duration": 12,
    "start_time": "2023-01-07T18:14:43.941Z"
   },
   {
    "duration": 8,
    "start_time": "2023-01-07T18:14:43.955Z"
   },
   {
    "duration": 6,
    "start_time": "2023-01-07T18:14:43.964Z"
   },
   {
    "duration": 11,
    "start_time": "2023-01-07T18:14:43.971Z"
   },
   {
    "duration": 10,
    "start_time": "2023-01-07T18:14:43.983Z"
   },
   {
    "duration": 10,
    "start_time": "2023-01-07T18:14:43.995Z"
   },
   {
    "duration": 11,
    "start_time": "2023-01-07T18:14:44.006Z"
   },
   {
    "duration": 11,
    "start_time": "2023-01-07T18:14:44.020Z"
   },
   {
    "duration": 10,
    "start_time": "2023-01-07T18:14:44.032Z"
   },
   {
    "duration": 730,
    "start_time": "2023-01-07T18:14:44.043Z"
   },
   {
    "duration": 48,
    "start_time": "2023-01-07T18:14:44.775Z"
   },
   {
    "duration": 12,
    "start_time": "2023-01-07T18:14:44.825Z"
   },
   {
    "duration": 12,
    "start_time": "2023-01-07T18:14:44.839Z"
   },
   {
    "duration": 5,
    "start_time": "2023-01-07T18:14:44.853Z"
   },
   {
    "duration": 7,
    "start_time": "2023-01-07T18:14:44.860Z"
   },
   {
    "duration": 8,
    "start_time": "2023-01-07T18:14:44.869Z"
   },
   {
    "duration": 7,
    "start_time": "2023-01-07T18:14:44.878Z"
   },
   {
    "duration": 398,
    "start_time": "2023-01-07T18:14:44.887Z"
   },
   {
    "duration": 70,
    "start_time": "2023-01-07T18:14:45.287Z"
   },
   {
    "duration": 10,
    "start_time": "2023-01-07T18:14:45.359Z"
   },
   {
    "duration": 9,
    "start_time": "2023-01-07T18:14:45.371Z"
   },
   {
    "duration": 8,
    "start_time": "2023-01-07T18:14:45.382Z"
   },
   {
    "duration": 11,
    "start_time": "2023-01-07T18:14:49.707Z"
   },
   {
    "duration": 23,
    "start_time": "2023-01-07T18:14:51.144Z"
   },
   {
    "duration": 6,
    "start_time": "2023-01-07T18:14:51.941Z"
   },
   {
    "duration": 9,
    "start_time": "2023-01-07T18:14:53.525Z"
   },
   {
    "duration": 10,
    "start_time": "2023-01-07T18:14:54.474Z"
   },
   {
    "duration": 16,
    "start_time": "2023-01-07T18:14:55.645Z"
   },
   {
    "duration": 113,
    "start_time": "2023-01-07T18:37:45.071Z"
   },
   {
    "duration": 14,
    "start_time": "2023-01-07T18:37:53.356Z"
   },
   {
    "duration": 13,
    "start_time": "2023-01-07T18:38:43.919Z"
   },
   {
    "duration": 10,
    "start_time": "2023-01-07T18:39:24.225Z"
   },
   {
    "duration": 1027,
    "start_time": "2023-01-07T18:41:24.589Z"
   },
   {
    "duration": 1357,
    "start_time": "2023-01-07T18:52:10.011Z"
   },
   {
    "duration": 345,
    "start_time": "2023-01-07T18:52:12.662Z"
   },
   {
    "duration": 1270,
    "start_time": "2023-01-07T18:52:24.599Z"
   },
   {
    "duration": 10,
    "start_time": "2023-01-07T18:52:26.472Z"
   },
   {
    "duration": 8,
    "start_time": "2023-01-07T18:54:13.834Z"
   },
   {
    "duration": 7,
    "start_time": "2023-01-07T18:56:30.440Z"
   },
   {
    "duration": 7,
    "start_time": "2023-01-07T18:56:32.883Z"
   },
   {
    "duration": 26,
    "start_time": "2023-01-07T18:57:06.513Z"
   },
   {
    "duration": 14,
    "start_time": "2023-01-07T18:58:09.121Z"
   },
   {
    "duration": 6,
    "start_time": "2023-01-07T18:58:24.381Z"
   },
   {
    "duration": 3,
    "start_time": "2023-01-07T19:52:01.929Z"
   },
   {
    "duration": 81,
    "start_time": "2023-01-07T19:52:02.861Z"
   },
   {
    "duration": 12,
    "start_time": "2023-01-07T19:52:03.516Z"
   },
   {
    "duration": 11,
    "start_time": "2023-01-07T19:52:03.691Z"
   },
   {
    "duration": 8,
    "start_time": "2023-01-07T19:52:03.899Z"
   },
   {
    "duration": 6,
    "start_time": "2023-01-07T19:52:04.091Z"
   },
   {
    "duration": 6,
    "start_time": "2023-01-07T19:52:04.273Z"
   },
   {
    "duration": 6,
    "start_time": "2023-01-07T19:52:04.474Z"
   },
   {
    "duration": 6,
    "start_time": "2023-01-07T19:52:04.665Z"
   },
   {
    "duration": 8,
    "start_time": "2023-01-07T19:52:04.867Z"
   },
   {
    "duration": 531,
    "start_time": "2023-01-07T19:52:05.088Z"
   },
   {
    "duration": 9,
    "start_time": "2023-01-07T19:52:05.621Z"
   },
   {
    "duration": 8379,
    "start_time": "2023-01-07T19:52:05.702Z"
   },
   {
    "duration": 71,
    "start_time": "2023-01-07T19:52:14.083Z"
   },
   {
    "duration": 12,
    "start_time": "2023-01-07T19:52:14.156Z"
   },
   {
    "duration": 11,
    "start_time": "2023-01-07T19:52:14.170Z"
   },
   {
    "duration": 5,
    "start_time": "2023-01-07T19:52:14.183Z"
   },
   {
    "duration": 6,
    "start_time": "2023-01-07T19:52:14.190Z"
   },
   {
    "duration": 8,
    "start_time": "2023-01-07T19:52:14.198Z"
   },
   {
    "duration": 7,
    "start_time": "2023-01-07T19:52:14.207Z"
   },
   {
    "duration": 8,
    "start_time": "2023-01-07T19:52:14.216Z"
   },
   {
    "duration": 7,
    "start_time": "2023-01-07T19:52:14.227Z"
   },
   {
    "duration": 9,
    "start_time": "2023-01-07T19:52:14.235Z"
   },
   {
    "duration": 733,
    "start_time": "2023-01-07T19:52:14.246Z"
   },
   {
    "duration": 50,
    "start_time": "2023-01-07T19:52:14.981Z"
   },
   {
    "duration": 15,
    "start_time": "2023-01-07T19:52:15.050Z"
   },
   {
    "duration": 8,
    "start_time": "2023-01-07T19:52:15.267Z"
   },
   {
    "duration": 6,
    "start_time": "2023-01-07T19:52:15.485Z"
   },
   {
    "duration": 5,
    "start_time": "2023-01-07T19:52:15.711Z"
   },
   {
    "duration": 6,
    "start_time": "2023-01-07T19:52:15.945Z"
   },
   {
    "duration": 7,
    "start_time": "2023-01-07T19:52:16.202Z"
   },
   {
    "duration": 355,
    "start_time": "2023-01-07T19:52:16.465Z"
   },
   {
    "duration": 68,
    "start_time": "2023-01-07T19:52:18.120Z"
   },
   {
    "duration": 13,
    "start_time": "2023-01-07T19:52:18.341Z"
   },
   {
    "duration": 6,
    "start_time": "2023-01-07T19:52:18.739Z"
   },
   {
    "duration": 6,
    "start_time": "2023-01-07T19:52:19.113Z"
   },
   {
    "duration": 11,
    "start_time": "2023-01-07T19:52:23.474Z"
   },
   {
    "duration": 22,
    "start_time": "2023-01-07T19:52:23.685Z"
   },
   {
    "duration": 7,
    "start_time": "2023-01-07T19:52:24.223Z"
   },
   {
    "duration": 9,
    "start_time": "2023-01-07T19:52:31.289Z"
   },
   {
    "duration": 13,
    "start_time": "2023-01-07T19:52:35.846Z"
   },
   {
    "duration": 9,
    "start_time": "2023-01-07T19:52:37.791Z"
   },
   {
    "duration": 752,
    "start_time": "2023-01-07T19:53:00.094Z"
   },
   {
    "duration": 687,
    "start_time": "2023-01-07T19:53:08.903Z"
   },
   {
    "duration": 20,
    "start_time": "2023-01-07T19:53:40.281Z"
   },
   {
    "duration": 17,
    "start_time": "2023-01-07T19:53:52.306Z"
   },
   {
    "duration": 46,
    "start_time": "2023-01-07T19:54:33.874Z"
   },
   {
    "duration": 12,
    "start_time": "2023-01-07T19:54:39.659Z"
   },
   {
    "duration": 12,
    "start_time": "2023-01-07T19:55:18.692Z"
   },
   {
    "duration": 14,
    "start_time": "2023-01-07T19:55:27.817Z"
   },
   {
    "duration": 13,
    "start_time": "2023-01-07T19:56:44.982Z"
   },
   {
    "duration": 12,
    "start_time": "2023-01-07T19:56:52.738Z"
   },
   {
    "duration": 1176,
    "start_time": "2023-01-07T20:12:11.036Z"
   },
   {
    "duration": 82,
    "start_time": "2023-01-07T20:12:12.213Z"
   },
   {
    "duration": 13,
    "start_time": "2023-01-07T20:12:12.548Z"
   },
   {
    "duration": 11,
    "start_time": "2023-01-07T20:12:12.752Z"
   },
   {
    "duration": 6,
    "start_time": "2023-01-07T20:12:12.921Z"
   },
   {
    "duration": 6,
    "start_time": "2023-01-07T20:12:13.125Z"
   },
   {
    "duration": 6,
    "start_time": "2023-01-07T20:12:13.297Z"
   },
   {
    "duration": 6,
    "start_time": "2023-01-07T20:12:13.469Z"
   },
   {
    "duration": 6,
    "start_time": "2023-01-07T20:12:13.694Z"
   },
   {
    "duration": 10,
    "start_time": "2023-01-07T20:12:13.877Z"
   },
   {
    "duration": 553,
    "start_time": "2023-01-07T20:12:14.078Z"
   },
   {
    "duration": 10,
    "start_time": "2023-01-07T20:12:14.633Z"
   },
   {
    "duration": 7823,
    "start_time": "2023-01-07T20:12:14.656Z"
   },
   {
    "duration": 71,
    "start_time": "2023-01-07T20:12:22.481Z"
   },
   {
    "duration": 12,
    "start_time": "2023-01-07T20:12:22.553Z"
   },
   {
    "duration": 15,
    "start_time": "2023-01-07T20:12:22.567Z"
   },
   {
    "duration": 10,
    "start_time": "2023-01-07T20:12:22.583Z"
   },
   {
    "duration": 11,
    "start_time": "2023-01-07T20:12:22.595Z"
   },
   {
    "duration": 14,
    "start_time": "2023-01-07T20:12:22.608Z"
   },
   {
    "duration": 10,
    "start_time": "2023-01-07T20:12:22.624Z"
   },
   {
    "duration": 8,
    "start_time": "2023-01-07T20:12:22.635Z"
   },
   {
    "duration": 8,
    "start_time": "2023-01-07T20:12:22.646Z"
   },
   {
    "duration": 22,
    "start_time": "2023-01-07T20:12:22.656Z"
   },
   {
    "duration": 694,
    "start_time": "2023-01-07T20:12:22.679Z"
   },
   {
    "duration": 51,
    "start_time": "2023-01-07T20:12:23.377Z"
   },
   {
    "duration": 11,
    "start_time": "2023-01-07T20:12:23.430Z"
   },
   {
    "duration": 9,
    "start_time": "2023-01-07T20:12:23.443Z"
   },
   {
    "duration": 8,
    "start_time": "2023-01-07T20:12:23.453Z"
   },
   {
    "duration": 10,
    "start_time": "2023-01-07T20:12:23.462Z"
   },
   {
    "duration": 28,
    "start_time": "2023-01-07T20:12:23.473Z"
   },
   {
    "duration": 21,
    "start_time": "2023-01-07T20:12:23.503Z"
   },
   {
    "duration": 374,
    "start_time": "2023-01-07T20:12:23.525Z"
   },
   {
    "duration": 82,
    "start_time": "2023-01-07T20:12:23.900Z"
   },
   {
    "duration": 10,
    "start_time": "2023-01-07T20:12:23.984Z"
   },
   {
    "duration": 21,
    "start_time": "2023-01-07T20:12:23.996Z"
   },
   {
    "duration": 30,
    "start_time": "2023-01-07T20:12:24.019Z"
   },
   {
    "duration": 10,
    "start_time": "2023-01-07T20:12:26.444Z"
   },
   {
    "duration": 21,
    "start_time": "2023-01-07T20:12:26.728Z"
   },
   {
    "duration": 6,
    "start_time": "2023-01-07T20:12:26.970Z"
   },
   {
    "duration": 8,
    "start_time": "2023-01-07T20:12:27.940Z"
   },
   {
    "duration": 12,
    "start_time": "2023-01-07T20:12:28.442Z"
   },
   {
    "duration": 112,
    "start_time": "2023-01-07T20:12:29.098Z"
   },
   {
    "duration": 11,
    "start_time": "2023-01-07T20:12:29.514Z"
   },
   {
    "duration": 14,
    "start_time": "2023-01-07T20:12:33.924Z"
   },
   {
    "duration": 10,
    "start_time": "2023-01-07T20:13:37.466Z"
   },
   {
    "duration": 10,
    "start_time": "2023-01-07T20:13:46.099Z"
   },
   {
    "duration": 6,
    "start_time": "2023-01-07T20:14:03.423Z"
   },
   {
    "duration": 7,
    "start_time": "2023-01-07T20:14:10.486Z"
   },
   {
    "duration": 6,
    "start_time": "2023-01-07T20:17:27.073Z"
   },
   {
    "duration": 11,
    "start_time": "2023-01-07T20:17:28.771Z"
   },
   {
    "duration": 13,
    "start_time": "2023-01-07T20:17:45.503Z"
   },
   {
    "duration": 6,
    "start_time": "2023-01-07T20:18:11.313Z"
   },
   {
    "duration": 9,
    "start_time": "2023-01-07T20:20:01.272Z"
   },
   {
    "duration": 6,
    "start_time": "2023-01-07T20:20:46.244Z"
   },
   {
    "duration": 6,
    "start_time": "2023-01-07T20:21:08.596Z"
   },
   {
    "duration": 7,
    "start_time": "2023-01-07T20:21:42.622Z"
   },
   {
    "duration": 9,
    "start_time": "2023-01-07T20:21:57.365Z"
   },
   {
    "duration": 7,
    "start_time": "2023-01-07T20:23:47.336Z"
   },
   {
    "duration": 6,
    "start_time": "2023-01-07T20:24:01.705Z"
   },
   {
    "duration": 6,
    "start_time": "2023-01-07T20:24:13.310Z"
   },
   {
    "duration": 14,
    "start_time": "2023-01-07T20:24:45.628Z"
   },
   {
    "duration": 10,
    "start_time": "2023-01-07T20:28:09.244Z"
   },
   {
    "duration": 11,
    "start_time": "2023-01-07T20:28:09.874Z"
   },
   {
    "duration": 26,
    "start_time": "2023-01-07T20:28:10.256Z"
   },
   {
    "duration": 7,
    "start_time": "2023-01-07T20:28:10.726Z"
   },
   {
    "duration": 9,
    "start_time": "2023-01-07T20:28:11.450Z"
   },
   {
    "duration": 20,
    "start_time": "2023-01-07T20:28:11.838Z"
   },
   {
    "duration": 6,
    "start_time": "2023-01-07T20:28:12.157Z"
   },
   {
    "duration": 6,
    "start_time": "2023-01-07T20:28:13.015Z"
   },
   {
    "duration": 12,
    "start_time": "2023-01-07T20:28:13.373Z"
   },
   {
    "duration": 5,
    "start_time": "2023-01-07T20:28:13.819Z"
   },
   {
    "duration": 33,
    "start_time": "2023-01-07T20:37:58.615Z"
   },
   {
    "duration": 33,
    "start_time": "2023-01-07T20:38:16.709Z"
   },
   {
    "duration": 46,
    "start_time": "2023-01-07T20:41:33.238Z"
   },
   {
    "duration": 46,
    "start_time": "2023-01-07T20:41:50.367Z"
   },
   {
    "duration": 162,
    "start_time": "2023-01-07T20:42:10.815Z"
   },
   {
    "duration": 77,
    "start_time": "2023-01-07T20:43:39.693Z"
   },
   {
    "duration": 74,
    "start_time": "2023-01-07T20:43:55.996Z"
   },
   {
    "duration": 92,
    "start_time": "2023-01-07T20:45:39.800Z"
   },
   {
    "duration": 76,
    "start_time": "2023-01-07T20:46:32.202Z"
   },
   {
    "duration": 75,
    "start_time": "2023-01-07T20:46:39.927Z"
   },
   {
    "duration": 76,
    "start_time": "2023-01-07T20:47:51.349Z"
   },
   {
    "duration": 4,
    "start_time": "2023-01-07T20:48:02.513Z"
   },
   {
    "duration": 86,
    "start_time": "2023-01-07T20:48:10.541Z"
   },
   {
    "duration": 71,
    "start_time": "2023-01-07T20:50:00.241Z"
   },
   {
    "duration": 1211,
    "start_time": "2023-01-07T20:50:53.044Z"
   },
   {
    "duration": 85,
    "start_time": "2023-01-07T20:50:54.257Z"
   },
   {
    "duration": 13,
    "start_time": "2023-01-07T20:50:54.345Z"
   },
   {
    "duration": 11,
    "start_time": "2023-01-07T20:50:54.408Z"
   },
   {
    "duration": 7,
    "start_time": "2023-01-07T20:50:54.595Z"
   },
   {
    "duration": 6,
    "start_time": "2023-01-07T20:50:54.765Z"
   },
   {
    "duration": 7,
    "start_time": "2023-01-07T20:50:54.960Z"
   },
   {
    "duration": 9,
    "start_time": "2023-01-07T20:50:55.152Z"
   },
   {
    "duration": 6,
    "start_time": "2023-01-07T20:50:55.360Z"
   },
   {
    "duration": 8,
    "start_time": "2023-01-07T20:50:55.560Z"
   },
   {
    "duration": 607,
    "start_time": "2023-01-07T20:50:55.742Z"
   },
   {
    "duration": 11,
    "start_time": "2023-01-07T20:50:56.352Z"
   },
   {
    "duration": 8349,
    "start_time": "2023-01-07T20:50:56.399Z"
   },
   {
    "duration": 79,
    "start_time": "2023-01-07T20:51:04.750Z"
   },
   {
    "duration": 15,
    "start_time": "2023-01-07T20:51:04.831Z"
   },
   {
    "duration": 14,
    "start_time": "2023-01-07T20:51:04.849Z"
   },
   {
    "duration": 8,
    "start_time": "2023-01-07T20:51:04.865Z"
   },
   {
    "duration": 8,
    "start_time": "2023-01-07T20:51:04.875Z"
   },
   {
    "duration": 7,
    "start_time": "2023-01-07T20:51:04.885Z"
   },
   {
    "duration": 10,
    "start_time": "2023-01-07T20:51:04.894Z"
   },
   {
    "duration": 8,
    "start_time": "2023-01-07T20:51:04.906Z"
   },
   {
    "duration": 8,
    "start_time": "2023-01-07T20:51:04.918Z"
   },
   {
    "duration": 6,
    "start_time": "2023-01-07T20:51:04.929Z"
   },
   {
    "duration": 805,
    "start_time": "2023-01-07T20:51:04.937Z"
   },
   {
    "duration": 50,
    "start_time": "2023-01-07T20:51:05.744Z"
   },
   {
    "duration": 12,
    "start_time": "2023-01-07T20:51:05.796Z"
   },
   {
    "duration": 12,
    "start_time": "2023-01-07T20:51:05.810Z"
   },
   {
    "duration": 22,
    "start_time": "2023-01-07T20:51:05.824Z"
   },
   {
    "duration": 26,
    "start_time": "2023-01-07T20:51:05.849Z"
   },
   {
    "duration": 13,
    "start_time": "2023-01-07T20:51:05.877Z"
   },
   {
    "duration": 41,
    "start_time": "2023-01-07T20:51:05.893Z"
   },
   {
    "duration": 395,
    "start_time": "2023-01-07T20:51:05.935Z"
   },
   {
    "duration": 66,
    "start_time": "2023-01-07T20:51:06.332Z"
   },
   {
    "duration": 11,
    "start_time": "2023-01-07T20:51:06.400Z"
   },
   {
    "duration": 11,
    "start_time": "2023-01-07T20:51:06.413Z"
   },
   {
    "duration": 8,
    "start_time": "2023-01-07T20:51:06.426Z"
   },
   {
    "duration": 11,
    "start_time": "2023-01-07T20:51:08.741Z"
   },
   {
    "duration": 25,
    "start_time": "2023-01-07T20:51:08.951Z"
   },
   {
    "duration": 6,
    "start_time": "2023-01-07T20:51:09.130Z"
   },
   {
    "duration": 8,
    "start_time": "2023-01-07T20:51:09.595Z"
   },
   {
    "duration": 2,
    "start_time": "2023-01-07T20:51:10.208Z"
   },
   {
    "duration": 6,
    "start_time": "2023-01-07T20:51:12.593Z"
   },
   {
    "duration": 5,
    "start_time": "2023-01-07T20:51:13.190Z"
   },
   {
    "duration": 9,
    "start_time": "2023-01-07T20:51:14.002Z"
   },
   {
    "duration": 58,
    "start_time": "2023-01-07T20:51:15.491Z"
   },
   {
    "duration": 10,
    "start_time": "2023-01-07T20:55:59.951Z"
   },
   {
    "duration": 14,
    "start_time": "2023-01-07T20:56:44.262Z"
   },
   {
    "duration": 16,
    "start_time": "2023-01-07T20:57:08.207Z"
   },
   {
    "duration": 6,
    "start_time": "2023-01-07T20:58:39.107Z"
   },
   {
    "duration": 15,
    "start_time": "2023-01-07T20:58:53.414Z"
   },
   {
    "duration": 118,
    "start_time": "2023-01-07T21:06:13.002Z"
   },
   {
    "duration": 15,
    "start_time": "2023-01-07T21:06:15.652Z"
   },
   {
    "duration": 5,
    "start_time": "2023-01-07T21:06:31.501Z"
   },
   {
    "duration": 15,
    "start_time": "2023-01-07T21:06:31.898Z"
   },
   {
    "duration": 5,
    "start_time": "2023-01-07T21:11:41.311Z"
   },
   {
    "duration": 14,
    "start_time": "2023-01-07T21:11:42.141Z"
   },
   {
    "duration": 20,
    "start_time": "2023-01-07T21:11:57.547Z"
   },
   {
    "duration": 5,
    "start_time": "2023-01-07T21:11:58.302Z"
   },
   {
    "duration": 5,
    "start_time": "2023-01-07T21:11:59.919Z"
   },
   {
    "duration": 20,
    "start_time": "2023-01-07T21:12:01.267Z"
   },
   {
    "duration": 4,
    "start_time": "2023-01-07T21:16:49.540Z"
   },
   {
    "duration": 15,
    "start_time": "2023-01-07T21:16:49.927Z"
   },
   {
    "duration": 106,
    "start_time": "2023-01-07T21:18:46.434Z"
   },
   {
    "duration": 16,
    "start_time": "2023-01-07T21:19:08.708Z"
   },
   {
    "duration": 6,
    "start_time": "2023-01-07T21:21:47.706Z"
   },
   {
    "duration": 14,
    "start_time": "2023-01-07T21:21:48.153Z"
   },
   {
    "duration": 16,
    "start_time": "2023-01-07T21:24:30.299Z"
   },
   {
    "duration": 103,
    "start_time": "2023-01-07T21:24:35.445Z"
   },
   {
    "duration": 13,
    "start_time": "2023-01-07T21:25:39.599Z"
   },
   {
    "duration": 1146,
    "start_time": "2023-01-07T21:26:09.156Z"
   },
   {
    "duration": 81,
    "start_time": "2023-01-07T21:26:11.403Z"
   },
   {
    "duration": 13,
    "start_time": "2023-01-07T21:26:11.801Z"
   },
   {
    "duration": 10,
    "start_time": "2023-01-07T21:26:12.019Z"
   },
   {
    "duration": 9,
    "start_time": "2023-01-07T21:26:12.195Z"
   },
   {
    "duration": 7,
    "start_time": "2023-01-07T21:26:12.364Z"
   },
   {
    "duration": 6,
    "start_time": "2023-01-07T21:26:12.539Z"
   },
   {
    "duration": 6,
    "start_time": "2023-01-07T21:26:12.734Z"
   },
   {
    "duration": 7,
    "start_time": "2023-01-07T21:26:12.919Z"
   },
   {
    "duration": 9,
    "start_time": "2023-01-07T21:26:13.107Z"
   },
   {
    "duration": 549,
    "start_time": "2023-01-07T21:26:13.313Z"
   },
   {
    "duration": 17,
    "start_time": "2023-01-07T21:26:13.863Z"
   },
   {
    "duration": 8005,
    "start_time": "2023-01-07T21:26:13.923Z"
   },
   {
    "duration": 73,
    "start_time": "2023-01-07T21:26:21.930Z"
   },
   {
    "duration": 11,
    "start_time": "2023-01-07T21:26:22.005Z"
   },
   {
    "duration": 11,
    "start_time": "2023-01-07T21:26:22.018Z"
   },
   {
    "duration": 7,
    "start_time": "2023-01-07T21:26:22.030Z"
   },
   {
    "duration": 6,
    "start_time": "2023-01-07T21:26:22.039Z"
   },
   {
    "duration": 11,
    "start_time": "2023-01-07T21:26:22.046Z"
   },
   {
    "duration": 20,
    "start_time": "2023-01-07T21:26:22.058Z"
   },
   {
    "duration": 5,
    "start_time": "2023-01-07T21:26:22.080Z"
   },
   {
    "duration": 9,
    "start_time": "2023-01-07T21:26:22.087Z"
   },
   {
    "duration": 8,
    "start_time": "2023-01-07T21:26:22.097Z"
   },
   {
    "duration": 753,
    "start_time": "2023-01-07T21:26:22.106Z"
   },
   {
    "duration": 48,
    "start_time": "2023-01-07T21:26:22.860Z"
   },
   {
    "duration": 13,
    "start_time": "2023-01-07T21:26:22.910Z"
   },
   {
    "duration": 23,
    "start_time": "2023-01-07T21:26:22.924Z"
   },
   {
    "duration": 8,
    "start_time": "2023-01-07T21:26:22.949Z"
   },
   {
    "duration": 25,
    "start_time": "2023-01-07T21:26:22.958Z"
   },
   {
    "duration": 21,
    "start_time": "2023-01-07T21:26:22.985Z"
   },
   {
    "duration": 18,
    "start_time": "2023-01-07T21:26:23.007Z"
   },
   {
    "duration": 364,
    "start_time": "2023-01-07T21:26:23.027Z"
   },
   {
    "duration": 63,
    "start_time": "2023-01-07T21:26:23.393Z"
   },
   {
    "duration": 9,
    "start_time": "2023-01-07T21:26:23.458Z"
   },
   {
    "duration": 34,
    "start_time": "2023-01-07T21:26:23.468Z"
   },
   {
    "duration": 11,
    "start_time": "2023-01-07T21:26:23.503Z"
   },
   {
    "duration": 11,
    "start_time": "2023-01-07T21:26:27.320Z"
   },
   {
    "duration": 24,
    "start_time": "2023-01-07T21:26:27.703Z"
   },
   {
    "duration": 7,
    "start_time": "2023-01-07T21:26:28.070Z"
   },
   {
    "duration": 7,
    "start_time": "2023-01-07T21:26:28.811Z"
   },
   {
    "duration": 6,
    "start_time": "2023-01-07T21:26:29.203Z"
   },
   {
    "duration": 5,
    "start_time": "2023-01-07T21:26:29.605Z"
   },
   {
    "duration": 12,
    "start_time": "2023-01-07T21:26:30.048Z"
   },
   {
    "duration": 57,
    "start_time": "2023-01-07T21:26:32.003Z"
   },
   {
    "duration": 10,
    "start_time": "2023-01-07T21:26:34.656Z"
   },
   {
    "duration": 5,
    "start_time": "2023-01-07T21:26:35.442Z"
   },
   {
    "duration": 13,
    "start_time": "2023-01-07T21:26:36.495Z"
   },
   {
    "duration": 14,
    "start_time": "2023-01-07T21:26:40.940Z"
   },
   {
    "duration": 10,
    "start_time": "2023-01-07T21:26:46.555Z"
   },
   {
    "duration": 28,
    "start_time": "2023-01-07T21:26:47.254Z"
   },
   {
    "duration": 7,
    "start_time": "2023-01-07T21:26:47.808Z"
   },
   {
    "duration": 7,
    "start_time": "2023-01-07T21:26:48.770Z"
   },
   {
    "duration": 17,
    "start_time": "2023-01-07T21:26:49.213Z"
   },
   {
    "duration": 6,
    "start_time": "2023-01-07T21:26:49.706Z"
   },
   {
    "duration": 7,
    "start_time": "2023-01-07T21:26:51.199Z"
   },
   {
    "duration": 10,
    "start_time": "2023-01-07T21:26:52.022Z"
   },
   {
    "duration": 6,
    "start_time": "2023-01-07T21:26:54.122Z"
   },
   {
    "duration": 115,
    "start_time": "2023-01-07T21:31:05.920Z"
   },
   {
    "duration": 16,
    "start_time": "2023-01-07T21:32:33.614Z"
   },
   {
    "duration": 1118,
    "start_time": "2023-01-07T21:33:08.306Z"
   },
   {
    "duration": 82,
    "start_time": "2023-01-07T21:33:09.426Z"
   },
   {
    "duration": 13,
    "start_time": "2023-01-07T21:33:09.678Z"
   },
   {
    "duration": 11,
    "start_time": "2023-01-07T21:33:09.894Z"
   },
   {
    "duration": 7,
    "start_time": "2023-01-07T21:33:10.042Z"
   },
   {
    "duration": 6,
    "start_time": "2023-01-07T21:33:10.239Z"
   },
   {
    "duration": 6,
    "start_time": "2023-01-07T21:33:10.421Z"
   },
   {
    "duration": 6,
    "start_time": "2023-01-07T21:33:10.611Z"
   },
   {
    "duration": 7,
    "start_time": "2023-01-07T21:33:10.807Z"
   },
   {
    "duration": 9,
    "start_time": "2023-01-07T21:33:10.991Z"
   },
   {
    "duration": 559,
    "start_time": "2023-01-07T21:33:11.194Z"
   },
   {
    "duration": 10,
    "start_time": "2023-01-07T21:33:11.755Z"
   },
   {
    "duration": 8132,
    "start_time": "2023-01-07T21:33:11.777Z"
   },
   {
    "duration": 77,
    "start_time": "2023-01-07T21:33:19.911Z"
   },
   {
    "duration": 10,
    "start_time": "2023-01-07T21:33:19.990Z"
   },
   {
    "duration": 12,
    "start_time": "2023-01-07T21:33:20.003Z"
   },
   {
    "duration": 17,
    "start_time": "2023-01-07T21:33:20.017Z"
   },
   {
    "duration": 10,
    "start_time": "2023-01-07T21:33:20.036Z"
   },
   {
    "duration": 15,
    "start_time": "2023-01-07T21:33:20.048Z"
   },
   {
    "duration": 14,
    "start_time": "2023-01-07T21:33:20.065Z"
   },
   {
    "duration": 13,
    "start_time": "2023-01-07T21:33:20.081Z"
   },
   {
    "duration": 11,
    "start_time": "2023-01-07T21:33:20.096Z"
   },
   {
    "duration": 20,
    "start_time": "2023-01-07T21:33:20.108Z"
   },
   {
    "duration": 729,
    "start_time": "2023-01-07T21:33:26.261Z"
   },
   {
    "duration": 81,
    "start_time": "2023-01-07T21:33:27.308Z"
   },
   {
    "duration": 11,
    "start_time": "2023-01-07T21:33:27.503Z"
   },
   {
    "duration": 9,
    "start_time": "2023-01-07T21:33:27.701Z"
   },
   {
    "duration": 6,
    "start_time": "2023-01-07T21:33:27.887Z"
   },
   {
    "duration": 6,
    "start_time": "2023-01-07T21:33:28.105Z"
   },
   {
    "duration": 8,
    "start_time": "2023-01-07T21:33:28.292Z"
   },
   {
    "duration": 6,
    "start_time": "2023-01-07T21:33:28.464Z"
   },
   {
    "duration": 370,
    "start_time": "2023-01-07T21:33:28.656Z"
   },
   {
    "duration": 70,
    "start_time": "2023-01-07T21:33:29.600Z"
   },
   {
    "duration": 11,
    "start_time": "2023-01-07T21:33:31.498Z"
   },
   {
    "duration": 6,
    "start_time": "2023-01-07T21:33:31.696Z"
   },
   {
    "duration": 6,
    "start_time": "2023-01-07T21:33:31.893Z"
   },
   {
    "duration": 12,
    "start_time": "2023-01-07T21:33:40.620Z"
   },
   {
    "duration": 23,
    "start_time": "2023-01-07T21:33:43.469Z"
   },
   {
    "duration": 7,
    "start_time": "2023-01-07T21:33:43.661Z"
   },
   {
    "duration": 8,
    "start_time": "2023-01-07T21:33:44.059Z"
   },
   {
    "duration": 7,
    "start_time": "2023-01-07T21:33:44.268Z"
   },
   {
    "duration": 5,
    "start_time": "2023-01-07T21:33:44.493Z"
   },
   {
    "duration": 10,
    "start_time": "2023-01-07T21:33:44.715Z"
   },
   {
    "duration": 58,
    "start_time": "2023-01-07T21:33:45.758Z"
   },
   {
    "duration": 10,
    "start_time": "2023-01-07T21:33:46.402Z"
   },
   {
    "duration": 5,
    "start_time": "2023-01-07T21:33:46.603Z"
   },
   {
    "duration": 13,
    "start_time": "2023-01-07T21:33:46.785Z"
   },
   {
    "duration": 14,
    "start_time": "2023-01-07T21:33:47.211Z"
   },
   {
    "duration": 12,
    "start_time": "2023-01-07T21:33:47.651Z"
   },
   {
    "duration": 30,
    "start_time": "2023-01-07T21:33:47.856Z"
   },
   {
    "duration": 7,
    "start_time": "2023-01-07T21:33:48.066Z"
   },
   {
    "duration": 9,
    "start_time": "2023-01-07T21:33:48.493Z"
   },
   {
    "duration": 17,
    "start_time": "2023-01-07T21:33:48.755Z"
   },
   {
    "duration": 7,
    "start_time": "2023-01-07T21:33:48.961Z"
   },
   {
    "duration": 8,
    "start_time": "2023-01-07T21:33:49.391Z"
   },
   {
    "duration": 12,
    "start_time": "2023-01-07T21:33:49.587Z"
   },
   {
    "duration": 6,
    "start_time": "2023-01-07T21:33:50.045Z"
   },
   {
    "duration": 107,
    "start_time": "2023-01-07T21:33:51.005Z"
   },
   {
    "duration": 15,
    "start_time": "2023-01-07T21:37:16.343Z"
   },
   {
    "duration": 28,
    "start_time": "2023-01-07T21:37:58.927Z"
   },
   {
    "duration": 7,
    "start_time": "2023-01-07T21:41:10.617Z"
   },
   {
    "duration": 28,
    "start_time": "2023-01-07T21:43:29.453Z"
   },
   {
    "duration": 26,
    "start_time": "2023-01-07T21:44:35.112Z"
   },
   {
    "duration": 13,
    "start_time": "2023-01-07T21:47:43.937Z"
   },
   {
    "duration": 10,
    "start_time": "2023-01-07T21:49:31.355Z"
   },
   {
    "duration": 11,
    "start_time": "2023-01-07T21:50:17.914Z"
   },
   {
    "duration": 14,
    "start_time": "2023-01-07T21:51:39.192Z"
   },
   {
    "duration": 922,
    "start_time": "2023-01-09T13:20:22.255Z"
   },
   {
    "duration": 3306,
    "start_time": "2023-01-09T13:20:44.960Z"
   },
   {
    "duration": 617,
    "start_time": "2023-01-09T13:20:51.690Z"
   },
   {
    "duration": 223,
    "start_time": "2023-01-09T13:20:54.348Z"
   },
   {
    "duration": 14,
    "start_time": "2023-01-09T13:20:55.154Z"
   },
   {
    "duration": 12,
    "start_time": "2023-01-09T13:20:55.560Z"
   },
   {
    "duration": 7,
    "start_time": "2023-01-09T13:20:55.940Z"
   },
   {
    "duration": 6,
    "start_time": "2023-01-09T13:20:56.313Z"
   },
   {
    "duration": 6,
    "start_time": "2023-01-09T13:20:56.682Z"
   },
   {
    "duration": 7,
    "start_time": "2023-01-09T13:20:57.075Z"
   },
   {
    "duration": 6,
    "start_time": "2023-01-09T13:20:57.487Z"
   },
   {
    "duration": 8,
    "start_time": "2023-01-09T13:20:57.725Z"
   },
   {
    "duration": 573,
    "start_time": "2023-01-09T13:20:58.023Z"
   },
   {
    "duration": 10,
    "start_time": "2023-01-09T13:20:58.777Z"
   },
   {
    "duration": 8553,
    "start_time": "2023-01-09T13:20:59.143Z"
   },
   {
    "duration": 180,
    "start_time": "2023-01-09T13:21:07.698Z"
   },
   {
    "duration": 13,
    "start_time": "2023-01-09T13:21:07.880Z"
   },
   {
    "duration": 12,
    "start_time": "2023-01-09T13:21:07.895Z"
   },
   {
    "duration": 10,
    "start_time": "2023-01-09T13:21:07.908Z"
   },
   {
    "duration": 12,
    "start_time": "2023-01-09T13:21:07.919Z"
   },
   {
    "duration": 22,
    "start_time": "2023-01-09T13:21:07.933Z"
   },
   {
    "duration": 8,
    "start_time": "2023-01-09T13:21:07.957Z"
   },
   {
    "duration": 9,
    "start_time": "2023-01-09T13:21:07.967Z"
   },
   {
    "duration": 11,
    "start_time": "2023-01-09T13:21:07.979Z"
   },
   {
    "duration": 25,
    "start_time": "2023-01-09T13:21:07.992Z"
   },
   {
    "duration": 814,
    "start_time": "2023-01-09T13:21:08.019Z"
   },
   {
    "duration": 194,
    "start_time": "2023-01-09T13:21:08.835Z"
   },
   {
    "duration": 19,
    "start_time": "2023-01-09T13:21:09.031Z"
   },
   {
    "duration": 22,
    "start_time": "2023-01-09T13:21:09.052Z"
   },
   {
    "duration": 7,
    "start_time": "2023-01-09T13:21:09.077Z"
   },
   {
    "duration": 17,
    "start_time": "2023-01-09T13:21:09.087Z"
   },
   {
    "duration": 20,
    "start_time": "2023-01-09T13:21:09.106Z"
   },
   {
    "duration": 21,
    "start_time": "2023-01-09T13:21:09.128Z"
   },
   {
    "duration": 437,
    "start_time": "2023-01-09T13:21:09.152Z"
   },
   {
    "duration": 124,
    "start_time": "2023-01-09T13:21:09.592Z"
   },
   {
    "duration": 10,
    "start_time": "2023-01-09T13:21:09.718Z"
   },
   {
    "duration": 38,
    "start_time": "2023-01-09T13:21:09.730Z"
   },
   {
    "duration": 20,
    "start_time": "2023-01-09T13:21:09.770Z"
   },
   {
    "duration": 11,
    "start_time": "2023-01-09T13:21:14.512Z"
   },
   {
    "duration": 23,
    "start_time": "2023-01-09T13:21:15.149Z"
   },
   {
    "duration": 6,
    "start_time": "2023-01-09T13:21:15.602Z"
   },
   {
    "duration": 15,
    "start_time": "2023-01-09T13:21:16.530Z"
   },
   {
    "duration": 6,
    "start_time": "2023-01-09T13:21:16.897Z"
   },
   {
    "duration": 5,
    "start_time": "2023-01-09T13:21:17.281Z"
   },
   {
    "duration": 11,
    "start_time": "2023-01-09T13:21:17.751Z"
   },
   {
    "duration": 80,
    "start_time": "2023-01-09T13:21:18.572Z"
   },
   {
    "duration": 9,
    "start_time": "2023-01-09T13:21:20.056Z"
   },
   {
    "duration": 5,
    "start_time": "2023-01-09T13:21:20.357Z"
   },
   {
    "duration": 12,
    "start_time": "2023-01-09T13:21:20.683Z"
   },
   {
    "duration": 13,
    "start_time": "2023-01-09T13:21:21.899Z"
   },
   {
    "duration": 10,
    "start_time": "2023-01-09T13:21:22.364Z"
   },
   {
    "duration": 32,
    "start_time": "2023-01-09T13:21:22.570Z"
   },
   {
    "duration": 8,
    "start_time": "2023-01-09T13:21:23.104Z"
   },
   {
    "duration": 8,
    "start_time": "2023-01-09T13:21:24.351Z"
   },
   {
    "duration": 21,
    "start_time": "2023-01-09T13:21:24.791Z"
   },
   {
    "duration": 6,
    "start_time": "2023-01-09T13:21:25.198Z"
   },
   {
    "duration": 7,
    "start_time": "2023-01-09T13:21:26.270Z"
   },
   {
    "duration": 17,
    "start_time": "2023-01-09T13:21:26.586Z"
   },
   {
    "duration": 7,
    "start_time": "2023-01-09T13:21:27.023Z"
   },
   {
    "duration": 25,
    "start_time": "2023-01-09T13:21:28.205Z"
   },
   {
    "duration": 39,
    "start_time": "2023-01-09T13:21:28.650Z"
   },
   {
    "duration": 30,
    "start_time": "2023-01-09T13:21:30.233Z"
   },
   {
    "duration": 24,
    "start_time": "2023-01-09T13:21:31.009Z"
   },
   {
    "duration": 14,
    "start_time": "2023-01-09T13:21:52.251Z"
   },
   {
    "duration": 5,
    "start_time": "2023-01-09T13:35:00.124Z"
   },
   {
    "duration": 46,
    "start_time": "2023-01-09T13:39:47.740Z"
   },
   {
    "duration": 1275,
    "start_time": "2023-01-09T13:40:11.242Z"
   },
   {
    "duration": 11,
    "start_time": "2023-01-09T13:40:16.445Z"
   },
   {
    "duration": 4,
    "start_time": "2023-01-09T13:40:36.935Z"
   },
   {
    "duration": 2276,
    "start_time": "2023-01-09T14:26:30.792Z"
   },
   {
    "duration": 3,
    "start_time": "2023-01-09T14:26:33.071Z"
   },
   {
    "duration": 126,
    "start_time": "2023-01-09T14:26:33.076Z"
   },
   {
    "duration": 14,
    "start_time": "2023-01-09T14:26:33.204Z"
   },
   {
    "duration": 20,
    "start_time": "2023-01-09T14:26:33.220Z"
   },
   {
    "duration": 8,
    "start_time": "2023-01-09T14:26:33.910Z"
   },
   {
    "duration": 7,
    "start_time": "2023-01-09T14:26:34.090Z"
   },
   {
    "duration": 6,
    "start_time": "2023-01-09T14:26:34.276Z"
   },
   {
    "duration": 6,
    "start_time": "2023-01-09T14:26:34.449Z"
   },
   {
    "duration": 8,
    "start_time": "2023-01-09T14:26:34.645Z"
   },
   {
    "duration": 11,
    "start_time": "2023-01-09T14:26:34.839Z"
   },
   {
    "duration": 583,
    "start_time": "2023-01-09T14:26:35.034Z"
   },
   {
    "duration": 20,
    "start_time": "2023-01-09T14:26:35.619Z"
   },
   {
    "duration": 8824,
    "start_time": "2023-01-09T14:26:35.640Z"
   },
   {
    "duration": 88,
    "start_time": "2023-01-09T14:26:44.466Z"
   },
   {
    "duration": 12,
    "start_time": "2023-01-09T14:26:44.555Z"
   },
   {
    "duration": 39,
    "start_time": "2023-01-09T14:26:44.570Z"
   },
   {
    "duration": 11,
    "start_time": "2023-01-09T14:26:44.610Z"
   },
   {
    "duration": 13,
    "start_time": "2023-01-09T14:26:44.623Z"
   },
   {
    "duration": 7,
    "start_time": "2023-01-09T14:26:44.638Z"
   },
   {
    "duration": 10,
    "start_time": "2023-01-09T14:26:44.647Z"
   },
   {
    "duration": 14,
    "start_time": "2023-01-09T14:26:44.659Z"
   },
   {
    "duration": 10,
    "start_time": "2023-01-09T14:26:44.676Z"
   },
   {
    "duration": 9,
    "start_time": "2023-01-09T14:26:44.688Z"
   },
   {
    "duration": 773,
    "start_time": "2023-01-09T14:26:44.699Z"
   },
   {
    "duration": 65,
    "start_time": "2023-01-09T14:26:45.474Z"
   },
   {
    "duration": 14,
    "start_time": "2023-01-09T14:26:45.541Z"
   },
   {
    "duration": 21,
    "start_time": "2023-01-09T14:26:45.557Z"
   },
   {
    "duration": 6,
    "start_time": "2023-01-09T14:26:45.579Z"
   },
   {
    "duration": 8,
    "start_time": "2023-01-09T14:26:45.587Z"
   },
   {
    "duration": 8,
    "start_time": "2023-01-09T14:26:45.596Z"
   },
   {
    "duration": 33,
    "start_time": "2023-01-09T14:26:45.606Z"
   },
   {
    "duration": 439,
    "start_time": "2023-01-09T14:26:45.640Z"
   },
   {
    "duration": 89,
    "start_time": "2023-01-09T14:26:46.081Z"
   },
   {
    "duration": 11,
    "start_time": "2023-01-09T14:26:46.171Z"
   },
   {
    "duration": 19,
    "start_time": "2023-01-09T14:26:46.183Z"
   },
   {
    "duration": 21,
    "start_time": "2023-01-09T14:26:46.203Z"
   },
   {
    "duration": 15,
    "start_time": "2023-01-09T14:26:49.224Z"
   },
   {
    "duration": 31,
    "start_time": "2023-01-09T14:26:49.496Z"
   },
   {
    "duration": 7,
    "start_time": "2023-01-09T14:26:49.935Z"
   },
   {
    "duration": 8,
    "start_time": "2023-01-09T14:26:51.087Z"
   },
   {
    "duration": 6,
    "start_time": "2023-01-09T14:26:51.670Z"
   },
   {
    "duration": 6,
    "start_time": "2023-01-09T14:26:51.901Z"
   },
   {
    "duration": 10,
    "start_time": "2023-01-09T14:26:52.099Z"
   },
   {
    "duration": 60,
    "start_time": "2023-01-09T14:26:52.639Z"
   },
   {
    "duration": 9,
    "start_time": "2023-01-09T14:26:53.517Z"
   },
   {
    "duration": 7,
    "start_time": "2023-01-09T14:26:53.908Z"
   },
   {
    "duration": 13,
    "start_time": "2023-01-09T14:26:54.295Z"
   },
   {
    "duration": 14,
    "start_time": "2023-01-09T14:26:54.802Z"
   },
   {
    "duration": 11,
    "start_time": "2023-01-09T14:26:55.241Z"
   },
   {
    "duration": 27,
    "start_time": "2023-01-09T14:26:55.982Z"
   },
   {
    "duration": 6,
    "start_time": "2023-01-09T14:26:56.168Z"
   },
   {
    "duration": 9,
    "start_time": "2023-01-09T14:26:56.538Z"
   },
   {
    "duration": 18,
    "start_time": "2023-01-09T14:26:56.736Z"
   },
   {
    "duration": 6,
    "start_time": "2023-01-09T14:26:56.940Z"
   },
   {
    "duration": 7,
    "start_time": "2023-01-09T14:26:57.354Z"
   },
   {
    "duration": 12,
    "start_time": "2023-01-09T14:26:57.564Z"
   },
   {
    "duration": 5,
    "start_time": "2023-01-09T14:26:57.779Z"
   },
   {
    "duration": 33,
    "start_time": "2023-01-09T14:26:58.188Z"
   },
   {
    "duration": 31,
    "start_time": "2023-01-09T14:26:58.612Z"
   },
   {
    "duration": 30,
    "start_time": "2023-01-09T14:26:58.845Z"
   },
   {
    "duration": 26,
    "start_time": "2023-01-09T14:26:59.054Z"
   },
   {
    "duration": 22,
    "start_time": "2023-01-09T14:26:59.225Z"
   },
   {
    "duration": 6,
    "start_time": "2023-01-09T14:26:59.891Z"
   },
   {
    "duration": 10,
    "start_time": "2023-01-09T14:27:00.317Z"
   },
   {
    "duration": 4,
    "start_time": "2023-01-09T14:27:00.700Z"
   },
   {
    "duration": 2955,
    "start_time": "2023-01-10T08:16:48.913Z"
   },
   {
    "duration": 1494,
    "start_time": "2023-01-10T08:16:51.870Z"
   },
   {
    "duration": 218,
    "start_time": "2023-01-10T08:16:53.365Z"
   },
   {
    "duration": 12,
    "start_time": "2023-01-10T08:16:53.934Z"
   },
   {
    "duration": 10,
    "start_time": "2023-01-10T08:16:54.334Z"
   },
   {
    "duration": 6,
    "start_time": "2023-01-10T08:16:54.708Z"
   },
   {
    "duration": 5,
    "start_time": "2023-01-10T08:16:55.036Z"
   },
   {
    "duration": 6,
    "start_time": "2023-01-10T08:16:55.307Z"
   },
   {
    "duration": 6,
    "start_time": "2023-01-10T08:16:55.549Z"
   },
   {
    "duration": 7,
    "start_time": "2023-01-10T08:16:55.903Z"
   },
   {
    "duration": 8,
    "start_time": "2023-01-10T08:16:56.207Z"
   },
   {
    "duration": 547,
    "start_time": "2023-01-10T08:16:56.445Z"
   },
   {
    "duration": 10,
    "start_time": "2023-01-10T08:16:57.061Z"
   },
   {
    "duration": 8140,
    "start_time": "2023-01-10T08:16:57.335Z"
   },
   {
    "duration": 182,
    "start_time": "2023-01-10T08:17:05.478Z"
   },
   {
    "duration": 11,
    "start_time": "2023-01-10T08:17:05.662Z"
   },
   {
    "duration": 21,
    "start_time": "2023-01-10T08:17:05.676Z"
   },
   {
    "duration": 20,
    "start_time": "2023-01-10T08:17:05.699Z"
   },
   {
    "duration": 29,
    "start_time": "2023-01-10T08:17:05.721Z"
   },
   {
    "duration": 27,
    "start_time": "2023-01-10T08:17:05.752Z"
   },
   {
    "duration": 10,
    "start_time": "2023-01-10T08:17:05.780Z"
   },
   {
    "duration": 22,
    "start_time": "2023-01-10T08:17:05.792Z"
   },
   {
    "duration": 38,
    "start_time": "2023-01-10T08:17:05.817Z"
   },
   {
    "duration": 16,
    "start_time": "2023-01-10T08:17:05.856Z"
   },
   {
    "duration": 725,
    "start_time": "2023-01-10T08:17:05.874Z"
   },
   {
    "duration": 128,
    "start_time": "2023-01-10T08:17:06.601Z"
   },
   {
    "duration": 11,
    "start_time": "2023-01-10T08:17:06.731Z"
   },
   {
    "duration": 10,
    "start_time": "2023-01-10T08:17:06.744Z"
   },
   {
    "duration": 5,
    "start_time": "2023-01-10T08:17:06.756Z"
   },
   {
    "duration": 9,
    "start_time": "2023-01-10T08:17:06.763Z"
   },
   {
    "duration": 15,
    "start_time": "2023-01-10T08:17:06.774Z"
   },
   {
    "duration": 6,
    "start_time": "2023-01-10T08:17:07.033Z"
   },
   {
    "duration": 462,
    "start_time": "2023-01-10T08:17:07.400Z"
   },
   {
    "duration": 149,
    "start_time": "2023-01-10T08:17:09.763Z"
   },
   {
    "duration": 19,
    "start_time": "2023-01-10T08:17:10.125Z"
   },
   {
    "duration": 6,
    "start_time": "2023-01-10T08:17:10.535Z"
   },
   {
    "duration": 6,
    "start_time": "2023-01-10T08:17:11.736Z"
   },
   {
    "duration": 14,
    "start_time": "2023-01-10T08:17:23.124Z"
   },
   {
    "duration": 27,
    "start_time": "2023-01-10T08:17:23.508Z"
   },
   {
    "duration": 7,
    "start_time": "2023-01-10T08:17:23.909Z"
   },
   {
    "duration": 7,
    "start_time": "2023-01-10T08:17:24.636Z"
   },
   {
    "duration": 5,
    "start_time": "2023-01-10T08:17:24.953Z"
   },
   {
    "duration": 5,
    "start_time": "2023-01-10T08:17:25.316Z"
   },
   {
    "duration": 9,
    "start_time": "2023-01-10T08:17:25.695Z"
   },
   {
    "duration": 55,
    "start_time": "2023-01-10T08:17:26.554Z"
   },
   {
    "duration": 10,
    "start_time": "2023-01-10T08:17:27.962Z"
   },
   {
    "duration": 5,
    "start_time": "2023-01-10T08:17:28.261Z"
   },
   {
    "duration": 11,
    "start_time": "2023-01-10T08:17:28.636Z"
   },
   {
    "duration": 11,
    "start_time": "2023-01-10T08:17:29.408Z"
   },
   {
    "duration": 9,
    "start_time": "2023-01-10T08:17:30.154Z"
   },
   {
    "duration": 26,
    "start_time": "2023-01-10T08:17:31.433Z"
   },
   {
    "duration": 7,
    "start_time": "2023-01-10T08:17:31.820Z"
   },
   {
    "duration": 9,
    "start_time": "2023-01-10T08:17:32.476Z"
   },
   {
    "duration": 25,
    "start_time": "2023-01-10T08:17:32.820Z"
   },
   {
    "duration": 6,
    "start_time": "2023-01-10T08:17:33.177Z"
   },
   {
    "duration": 7,
    "start_time": "2023-01-10T08:17:33.809Z"
   },
   {
    "duration": 11,
    "start_time": "2023-01-10T08:17:34.208Z"
   },
   {
    "duration": 5,
    "start_time": "2023-01-10T08:17:34.652Z"
   },
   {
    "duration": 24,
    "start_time": "2023-01-10T08:17:35.469Z"
   },
   {
    "duration": 34,
    "start_time": "2023-01-10T08:17:35.823Z"
   },
   {
    "duration": 26,
    "start_time": "2023-01-10T08:17:36.220Z"
   },
   {
    "duration": 17,
    "start_time": "2023-01-10T08:17:36.666Z"
   },
   {
    "duration": 13,
    "start_time": "2023-01-10T08:17:37.106Z"
   },
   {
    "duration": 11,
    "start_time": "2023-01-10T08:18:13.904Z"
   },
   {
    "duration": 6,
    "start_time": "2023-01-10T08:23:34.911Z"
   },
   {
    "duration": 18,
    "start_time": "2023-01-10T08:23:46.158Z"
   },
   {
    "duration": 5,
    "start_time": "2023-01-10T08:24:25.378Z"
   },
   {
    "duration": 8,
    "start_time": "2023-01-10T08:24:26.112Z"
   },
   {
    "duration": 3,
    "start_time": "2023-01-10T08:24:26.928Z"
   },
   {
    "duration": 116,
    "start_time": "2023-01-10T08:29:01.552Z"
   },
   {
    "duration": 15,
    "start_time": "2023-01-10T08:30:57.124Z"
   },
   {
    "duration": 4,
    "start_time": "2023-01-10T08:30:57.904Z"
   },
   {
    "duration": 17,
    "start_time": "2023-01-10T08:35:01.475Z"
   },
   {
    "duration": 116,
    "start_time": "2023-01-10T08:36:38.540Z"
   },
   {
    "duration": 5,
    "start_time": "2023-01-10T08:36:48.446Z"
   },
   {
    "duration": 6,
    "start_time": "2023-01-10T08:41:17.438Z"
   },
   {
    "duration": 14,
    "start_time": "2023-01-10T08:41:18.396Z"
   },
   {
    "duration": 14,
    "start_time": "2023-01-10T08:41:24.164Z"
   },
   {
    "duration": 15,
    "start_time": "2023-01-10T08:41:25.264Z"
   },
   {
    "duration": 2125,
    "start_time": "2023-01-10T08:42:08.836Z"
   },
   {
    "duration": 1424,
    "start_time": "2023-01-10T08:42:10.963Z"
   },
   {
    "duration": 94,
    "start_time": "2023-01-10T08:42:14.417Z"
   },
   {
    "duration": 14,
    "start_time": "2023-01-10T08:42:15.049Z"
   },
   {
    "duration": 13,
    "start_time": "2023-01-10T08:42:15.329Z"
   },
   {
    "duration": 7,
    "start_time": "2023-01-10T08:42:15.567Z"
   },
   {
    "duration": 6,
    "start_time": "2023-01-10T08:42:15.796Z"
   },
   {
    "duration": 6,
    "start_time": "2023-01-10T08:42:15.991Z"
   },
   {
    "duration": 6,
    "start_time": "2023-01-10T08:42:16.171Z"
   },
   {
    "duration": 6,
    "start_time": "2023-01-10T08:42:16.378Z"
   },
   {
    "duration": 9,
    "start_time": "2023-01-10T08:42:16.570Z"
   },
   {
    "duration": 532,
    "start_time": "2023-01-10T08:42:16.749Z"
   },
   {
    "duration": 9,
    "start_time": "2023-01-10T08:42:17.283Z"
   },
   {
    "duration": 8222,
    "start_time": "2023-01-10T08:42:17.300Z"
   },
   {
    "duration": 89,
    "start_time": "2023-01-10T08:42:25.524Z"
   },
   {
    "duration": 13,
    "start_time": "2023-01-10T08:42:25.615Z"
   },
   {
    "duration": 24,
    "start_time": "2023-01-10T08:42:25.631Z"
   },
   {
    "duration": 13,
    "start_time": "2023-01-10T08:42:25.657Z"
   },
   {
    "duration": 27,
    "start_time": "2023-01-10T08:42:25.672Z"
   },
   {
    "duration": 20,
    "start_time": "2023-01-10T08:42:25.701Z"
   },
   {
    "duration": 14,
    "start_time": "2023-01-10T08:42:25.723Z"
   },
   {
    "duration": 10,
    "start_time": "2023-01-10T08:42:25.740Z"
   },
   {
    "duration": 13,
    "start_time": "2023-01-10T08:42:25.752Z"
   },
   {
    "duration": 14,
    "start_time": "2023-01-10T08:42:25.766Z"
   },
   {
    "duration": 787,
    "start_time": "2023-01-10T08:42:25.782Z"
   },
   {
    "duration": 84,
    "start_time": "2023-01-10T08:42:26.571Z"
   },
   {
    "duration": 12,
    "start_time": "2023-01-10T08:42:26.656Z"
   },
   {
    "duration": 18,
    "start_time": "2023-01-10T08:42:26.670Z"
   },
   {
    "duration": 6,
    "start_time": "2023-01-10T08:42:26.690Z"
   },
   {
    "duration": 7,
    "start_time": "2023-01-10T08:42:26.698Z"
   },
   {
    "duration": 19,
    "start_time": "2023-01-10T08:42:26.706Z"
   },
   {
    "duration": 18,
    "start_time": "2023-01-10T08:42:26.727Z"
   },
   {
    "duration": 490,
    "start_time": "2023-01-10T08:42:26.747Z"
   },
   {
    "duration": 56,
    "start_time": "2023-01-10T08:42:27.239Z"
   },
   {
    "duration": 9,
    "start_time": "2023-01-10T08:42:27.297Z"
   },
   {
    "duration": 10,
    "start_time": "2023-01-10T08:42:27.308Z"
   },
   {
    "duration": 9,
    "start_time": "2023-01-10T08:42:27.320Z"
   },
   {
    "duration": 10,
    "start_time": "2023-01-10T08:42:29.558Z"
   },
   {
    "duration": 24,
    "start_time": "2023-01-10T08:42:29.782Z"
   },
   {
    "duration": 6,
    "start_time": "2023-01-10T08:42:29.992Z"
   },
   {
    "duration": 8,
    "start_time": "2023-01-10T08:42:30.452Z"
   },
   {
    "duration": 6,
    "start_time": "2023-01-10T08:42:30.687Z"
   },
   {
    "duration": 8,
    "start_time": "2023-01-10T08:42:30.923Z"
   },
   {
    "duration": 10,
    "start_time": "2023-01-10T08:42:31.149Z"
   },
   {
    "duration": 65,
    "start_time": "2023-01-10T08:42:31.619Z"
   },
   {
    "duration": 10,
    "start_time": "2023-01-10T08:42:32.285Z"
   },
   {
    "duration": 4,
    "start_time": "2023-01-10T08:42:32.495Z"
   },
   {
    "duration": 15,
    "start_time": "2023-01-10T08:42:32.937Z"
   },
   {
    "duration": 11,
    "start_time": "2023-01-10T08:42:33.383Z"
   },
   {
    "duration": 11,
    "start_time": "2023-01-10T08:42:33.886Z"
   },
   {
    "duration": 38,
    "start_time": "2023-01-10T08:42:34.118Z"
   },
   {
    "duration": 6,
    "start_time": "2023-01-10T08:42:34.498Z"
   },
   {
    "duration": 18,
    "start_time": "2023-01-10T08:42:34.933Z"
   },
   {
    "duration": 18,
    "start_time": "2023-01-10T08:42:35.149Z"
   },
   {
    "duration": 6,
    "start_time": "2023-01-10T08:42:35.353Z"
   },
   {
    "duration": 7,
    "start_time": "2023-01-10T08:42:35.793Z"
   },
   {
    "duration": 11,
    "start_time": "2023-01-10T08:42:36.008Z"
   },
   {
    "duration": 5,
    "start_time": "2023-01-10T08:42:36.189Z"
   },
   {
    "duration": 25,
    "start_time": "2023-01-10T08:42:36.645Z"
   },
   {
    "duration": 26,
    "start_time": "2023-01-10T08:42:36.870Z"
   },
   {
    "duration": 24,
    "start_time": "2023-01-10T08:42:37.080Z"
   },
   {
    "duration": 18,
    "start_time": "2023-01-10T08:42:37.300Z"
   },
   {
    "duration": 14,
    "start_time": "2023-01-10T08:42:37.497Z"
   },
   {
    "duration": 13,
    "start_time": "2023-01-10T08:42:37.713Z"
   },
   {
    "duration": 16,
    "start_time": "2023-01-10T08:42:37.903Z"
   },
   {
    "duration": 133,
    "start_time": "2023-01-10T08:42:38.815Z"
   },
   {
    "duration": 6,
    "start_time": "2023-01-10T08:42:40.962Z"
   },
   {
    "duration": 10,
    "start_time": "2023-01-10T08:42:41.565Z"
   },
   {
    "duration": 4,
    "start_time": "2023-01-10T08:42:43.369Z"
   },
   {
    "duration": 19,
    "start_time": "2023-01-10T08:45:07.180Z"
   },
   {
    "duration": 4,
    "start_time": "2023-01-10T08:57:42.538Z"
   },
   {
    "duration": 25,
    "start_time": "2023-01-10T08:58:43.007Z"
   },
   {
    "duration": 176,
    "start_time": "2023-01-10T08:58:49.713Z"
   },
   {
    "duration": 177,
    "start_time": "2023-01-10T08:59:13.189Z"
   },
   {
    "duration": 145,
    "start_time": "2023-01-10T08:59:52.784Z"
   },
   {
    "duration": 139,
    "start_time": "2023-01-10T09:00:18.245Z"
   },
   {
    "duration": 4,
    "start_time": "2023-01-10T09:01:10.395Z"
   },
   {
    "duration": 151,
    "start_time": "2023-01-10T09:04:25.520Z"
   },
   {
    "duration": 24,
    "start_time": "2023-01-10T09:04:26.345Z"
   },
   {
    "duration": 5,
    "start_time": "2023-01-10T09:06:12.028Z"
   },
   {
    "duration": 52,
    "start_time": "2023-01-10T09:12:03.782Z"
   },
   {
    "duration": 2290,
    "start_time": "2023-01-10T09:20:37.407Z"
   },
   {
    "duration": 1533,
    "start_time": "2023-01-10T09:20:39.699Z"
   },
   {
    "duration": 96,
    "start_time": "2023-01-10T09:20:42.055Z"
   },
   {
    "duration": 14,
    "start_time": "2023-01-10T09:20:42.853Z"
   },
   {
    "duration": 26,
    "start_time": "2023-01-10T09:20:42.869Z"
   },
   {
    "duration": 14,
    "start_time": "2023-01-10T09:20:42.897Z"
   },
   {
    "duration": 6,
    "start_time": "2023-01-10T09:20:42.994Z"
   },
   {
    "duration": 7,
    "start_time": "2023-01-10T09:20:43.196Z"
   },
   {
    "duration": 6,
    "start_time": "2023-01-10T09:20:43.365Z"
   },
   {
    "duration": 8,
    "start_time": "2023-01-10T09:20:43.542Z"
   },
   {
    "duration": 10,
    "start_time": "2023-01-10T09:20:43.743Z"
   },
   {
    "duration": 737,
    "start_time": "2023-01-10T09:20:43.931Z"
   },
   {
    "duration": 9,
    "start_time": "2023-01-10T09:20:44.671Z"
   },
   {
    "duration": 9128,
    "start_time": "2023-01-10T09:20:44.682Z"
   },
   {
    "duration": 94,
    "start_time": "2023-01-10T09:20:53.812Z"
   },
   {
    "duration": 19,
    "start_time": "2023-01-10T09:20:53.908Z"
   },
   {
    "duration": 23,
    "start_time": "2023-01-10T09:20:53.929Z"
   },
   {
    "duration": 6,
    "start_time": "2023-01-10T09:20:53.954Z"
   },
   {
    "duration": 7,
    "start_time": "2023-01-10T09:20:53.962Z"
   },
   {
    "duration": 7,
    "start_time": "2023-01-10T09:20:53.971Z"
   },
   {
    "duration": 9,
    "start_time": "2023-01-10T09:20:53.980Z"
   },
   {
    "duration": 8,
    "start_time": "2023-01-10T09:20:53.991Z"
   },
   {
    "duration": 24,
    "start_time": "2023-01-10T09:20:54.001Z"
   },
   {
    "duration": 29,
    "start_time": "2023-01-10T09:20:54.027Z"
   },
   {
    "duration": 868,
    "start_time": "2023-01-10T09:20:54.059Z"
   },
   {
    "duration": 88,
    "start_time": "2023-01-10T09:20:54.929Z"
   },
   {
    "duration": 18,
    "start_time": "2023-01-10T09:20:55.019Z"
   },
   {
    "duration": 17,
    "start_time": "2023-01-10T09:20:55.040Z"
   },
   {
    "duration": 7,
    "start_time": "2023-01-10T09:20:55.059Z"
   },
   {
    "duration": 14,
    "start_time": "2023-01-10T09:20:55.069Z"
   },
   {
    "duration": 15,
    "start_time": "2023-01-10T09:20:55.087Z"
   },
   {
    "duration": 24,
    "start_time": "2023-01-10T09:20:55.105Z"
   },
   {
    "duration": 539,
    "start_time": "2023-01-10T09:20:55.133Z"
   },
   {
    "duration": 73,
    "start_time": "2023-01-10T09:20:55.675Z"
   },
   {
    "duration": 11,
    "start_time": "2023-01-10T09:20:55.750Z"
   },
   {
    "duration": 12,
    "start_time": "2023-01-10T09:20:55.762Z"
   },
   {
    "duration": 6,
    "start_time": "2023-01-10T09:20:55.776Z"
   },
   {
    "duration": 13,
    "start_time": "2023-01-10T09:20:56.639Z"
   },
   {
    "duration": 27,
    "start_time": "2023-01-10T09:20:56.908Z"
   },
   {
    "duration": 6,
    "start_time": "2023-01-10T09:20:57.359Z"
   },
   {
    "duration": 10,
    "start_time": "2023-01-10T09:20:58.345Z"
   },
   {
    "duration": 7,
    "start_time": "2023-01-10T09:20:58.576Z"
   },
   {
    "duration": 8,
    "start_time": "2023-01-10T09:20:58.833Z"
   },
   {
    "duration": 12,
    "start_time": "2023-01-10T09:20:59.015Z"
   },
   {
    "duration": 73,
    "start_time": "2023-01-10T09:20:59.481Z"
   },
   {
    "duration": 10,
    "start_time": "2023-01-10T09:21:00.058Z"
   },
   {
    "duration": 5,
    "start_time": "2023-01-10T09:21:00.257Z"
   },
   {
    "duration": 14,
    "start_time": "2023-01-10T09:21:00.488Z"
   },
   {
    "duration": 19,
    "start_time": "2023-01-10T09:21:00.920Z"
   },
   {
    "duration": 13,
    "start_time": "2023-01-10T09:21:01.344Z"
   },
   {
    "duration": 29,
    "start_time": "2023-01-10T09:21:01.557Z"
   },
   {
    "duration": 6,
    "start_time": "2023-01-10T09:21:01.771Z"
   },
   {
    "duration": 9,
    "start_time": "2023-01-10T09:21:02.169Z"
   },
   {
    "duration": 18,
    "start_time": "2023-01-10T09:21:02.380Z"
   },
   {
    "duration": 5,
    "start_time": "2023-01-10T09:21:02.578Z"
   },
   {
    "duration": 15,
    "start_time": "2023-01-10T09:21:03.019Z"
   },
   {
    "duration": 12,
    "start_time": "2023-01-10T09:21:03.465Z"
   },
   {
    "duration": 6,
    "start_time": "2023-01-10T09:21:03.861Z"
   },
   {
    "duration": 34,
    "start_time": "2023-01-10T09:21:05.525Z"
   },
   {
    "duration": 41,
    "start_time": "2023-01-10T09:21:37.513Z"
   },
   {
    "duration": 39,
    "start_time": "2023-01-10T09:21:38.409Z"
   },
   {
    "duration": 20,
    "start_time": "2023-01-10T09:21:39.054Z"
   },
   {
    "duration": 8,
    "start_time": "2023-01-10T09:21:45.949Z"
   },
   {
    "duration": 19,
    "start_time": "2023-01-10T09:21:46.718Z"
   },
   {
    "duration": 34,
    "start_time": "2023-01-10T09:21:47.814Z"
   },
   {
    "duration": 15,
    "start_time": "2023-01-10T09:21:48.569Z"
   },
   {
    "duration": 17,
    "start_time": "2023-01-10T09:21:50.464Z"
   },
   {
    "duration": 154,
    "start_time": "2023-01-10T09:21:52.218Z"
   },
   {
    "duration": 8,
    "start_time": "2023-01-10T09:21:54.767Z"
   },
   {
    "duration": 14,
    "start_time": "2023-01-10T09:21:55.373Z"
   },
   {
    "duration": 8,
    "start_time": "2023-01-10T09:21:56.020Z"
   },
   {
    "duration": 21,
    "start_time": "2023-01-10T09:21:56.887Z"
   },
   {
    "duration": 34,
    "start_time": "2023-01-10T09:21:58.827Z"
   },
   {
    "duration": 20,
    "start_time": "2023-01-10T09:22:00.235Z"
   },
   {
    "duration": 50,
    "start_time": "2023-01-10T09:22:01.499Z"
   },
   {
    "duration": 27,
    "start_time": "2023-01-10T09:26:14.789Z"
   },
   {
    "duration": 36,
    "start_time": "2023-01-10T09:26:48.478Z"
   },
   {
    "duration": 3052,
    "start_time": "2023-01-10T20:18:25.502Z"
   },
   {
    "duration": 1481,
    "start_time": "2023-01-10T20:18:29.215Z"
   },
   {
    "duration": 223,
    "start_time": "2023-01-10T20:18:30.798Z"
   },
   {
    "duration": 13,
    "start_time": "2023-01-10T20:18:31.478Z"
   },
   {
    "duration": 9,
    "start_time": "2023-01-10T20:18:31.798Z"
   },
   {
    "duration": 6,
    "start_time": "2023-01-10T20:18:32.096Z"
   },
   {
    "duration": 7,
    "start_time": "2023-01-10T20:18:32.431Z"
   },
   {
    "duration": 5,
    "start_time": "2023-01-10T20:18:32.776Z"
   },
   {
    "duration": 5,
    "start_time": "2023-01-10T20:18:33.052Z"
   },
   {
    "duration": 5,
    "start_time": "2023-01-10T20:18:33.310Z"
   },
   {
    "duration": 9,
    "start_time": "2023-01-10T20:18:33.530Z"
   },
   {
    "duration": 529,
    "start_time": "2023-01-10T20:18:33.740Z"
   },
   {
    "duration": 9,
    "start_time": "2023-01-10T20:18:34.469Z"
   },
   {
    "duration": 7459,
    "start_time": "2023-01-10T20:18:34.796Z"
   },
   {
    "duration": 168,
    "start_time": "2023-01-10T20:22:41.344Z"
   },
   {
    "duration": 11,
    "start_time": "2023-01-10T20:22:41.684Z"
   },
   {
    "duration": 7,
    "start_time": "2023-01-10T20:22:42.298Z"
   },
   {
    "duration": 6,
    "start_time": "2023-01-10T20:22:42.662Z"
   },
   {
    "duration": 6,
    "start_time": "2023-01-10T20:22:43.095Z"
   },
   {
    "duration": 5,
    "start_time": "2023-01-10T20:22:43.698Z"
   },
   {
    "duration": 6,
    "start_time": "2023-01-10T20:22:44.110Z"
   },
   {
    "duration": 6,
    "start_time": "2023-01-10T20:22:44.453Z"
   },
   {
    "duration": 6,
    "start_time": "2023-01-10T20:22:44.681Z"
   },
   {
    "duration": 6,
    "start_time": "2023-01-10T20:22:44.898Z"
   },
   {
    "duration": 697,
    "start_time": "2023-01-10T20:22:45.126Z"
   },
   {
    "duration": 118,
    "start_time": "2023-01-10T20:22:54.244Z"
   },
   {
    "duration": 12,
    "start_time": "2023-01-10T20:22:54.539Z"
   },
   {
    "duration": 8,
    "start_time": "2023-01-10T20:22:54.771Z"
   },
   {
    "duration": 6,
    "start_time": "2023-01-10T20:22:55.016Z"
   },
   {
    "duration": 5,
    "start_time": "2023-01-10T20:22:55.532Z"
   },
   {
    "duration": 6,
    "start_time": "2023-01-10T20:22:55.724Z"
   },
   {
    "duration": 6,
    "start_time": "2023-01-10T20:22:55.913Z"
   },
   {
    "duration": 426,
    "start_time": "2023-01-10T20:22:56.132Z"
   },
   {
    "duration": 117,
    "start_time": "2023-01-10T20:23:01.841Z"
   },
   {
    "duration": 12,
    "start_time": "2023-01-10T20:23:02.143Z"
   },
   {
    "duration": 7,
    "start_time": "2023-01-10T20:23:03.110Z"
   },
   {
    "duration": 6,
    "start_time": "2023-01-10T20:23:03.366Z"
   },
   {
    "duration": 10,
    "start_time": "2023-01-10T20:23:08.689Z"
   },
   {
    "duration": 34,
    "start_time": "2023-01-10T20:23:08.701Z"
   },
   {
    "duration": 6,
    "start_time": "2023-01-10T20:23:08.823Z"
   },
   {
    "duration": 7,
    "start_time": "2023-01-10T20:23:09.266Z"
   },
   {
    "duration": 6,
    "start_time": "2023-01-10T20:23:09.455Z"
   },
   {
    "duration": 5,
    "start_time": "2023-01-10T20:23:09.654Z"
   },
   {
    "duration": 9,
    "start_time": "2023-01-10T20:23:09.867Z"
   },
   {
    "duration": 52,
    "start_time": "2023-01-10T20:23:10.251Z"
   },
   {
    "duration": 9,
    "start_time": "2023-01-10T20:23:10.835Z"
   },
   {
    "duration": 5,
    "start_time": "2023-01-10T20:23:11.046Z"
   },
   {
    "duration": 13,
    "start_time": "2023-01-10T20:23:11.398Z"
   },
   {
    "duration": 13,
    "start_time": "2023-01-10T20:23:12.168Z"
   },
   {
    "duration": 13,
    "start_time": "2023-01-10T20:23:12.556Z"
   },
   {
    "duration": 32,
    "start_time": "2023-01-10T20:23:12.775Z"
   },
   {
    "duration": 7,
    "start_time": "2023-01-10T20:23:13.009Z"
   },
   {
    "duration": 8,
    "start_time": "2023-01-10T20:23:13.413Z"
   },
   {
    "duration": 18,
    "start_time": "2023-01-10T20:23:13.618Z"
   },
   {
    "duration": 6,
    "start_time": "2023-01-10T20:23:13.822Z"
   },
   {
    "duration": 8,
    "start_time": "2023-01-10T20:23:14.243Z"
   },
   {
    "duration": 11,
    "start_time": "2023-01-10T20:23:14.464Z"
   },
   {
    "duration": 6,
    "start_time": "2023-01-10T20:23:14.706Z"
   },
   {
    "duration": 28,
    "start_time": "2023-01-10T20:23:15.218Z"
   },
   {
    "duration": 29,
    "start_time": "2023-01-10T20:23:15.499Z"
   },
   {
    "duration": 27,
    "start_time": "2023-01-10T20:23:15.801Z"
   },
   {
    "duration": 18,
    "start_time": "2023-01-10T20:23:16.016Z"
   },
   {
    "duration": 6,
    "start_time": "2023-01-10T20:23:16.237Z"
   },
   {
    "duration": 13,
    "start_time": "2023-01-10T20:23:16.473Z"
   },
   {
    "duration": 23,
    "start_time": "2023-01-10T20:23:16.697Z"
   },
   {
    "duration": 13,
    "start_time": "2023-01-10T20:23:16.922Z"
   },
   {
    "duration": 16,
    "start_time": "2023-01-10T20:23:17.307Z"
   },
   {
    "duration": 102,
    "start_time": "2023-01-10T20:23:17.997Z"
   },
   {
    "duration": 5,
    "start_time": "2023-01-10T20:23:19.532Z"
   },
   {
    "duration": 10,
    "start_time": "2023-01-10T20:23:19.842Z"
   },
   {
    "duration": 3,
    "start_time": "2023-01-10T20:23:20.577Z"
   },
   {
    "duration": 18,
    "start_time": "2023-01-10T20:23:20.864Z"
   },
   {
    "duration": 25,
    "start_time": "2023-01-10T20:23:22.098Z"
   },
   {
    "duration": 19,
    "start_time": "2023-01-10T20:23:22.576Z"
   },
   {
    "duration": 40,
    "start_time": "2023-01-10T20:23:23.152Z"
   },
   {
    "duration": 28,
    "start_time": "2023-01-10T20:23:24.271Z"
   },
   {
    "duration": 19,
    "start_time": "2023-01-10T20:23:25.849Z"
   },
   {
    "duration": 3,
    "start_time": "2023-01-10T20:36:15.473Z"
   },
   {
    "duration": 10,
    "start_time": "2023-01-10T20:36:29.452Z"
   },
   {
    "duration": 17,
    "start_time": "2023-01-10T20:41:36.848Z"
   },
   {
    "duration": 14,
    "start_time": "2023-01-10T20:41:37.275Z"
   },
   {
    "duration": 3,
    "start_time": "2023-01-10T20:43:26.840Z"
   },
   {
    "duration": 22,
    "start_time": "2023-01-10T20:47:06.610Z"
   },
   {
    "duration": 101,
    "start_time": "2023-01-10T20:48:38.171Z"
   },
   {
    "duration": 172,
    "start_time": "2023-01-10T20:56:00.658Z"
   },
   {
    "duration": 168,
    "start_time": "2023-01-10T20:56:30.413Z"
   },
   {
    "duration": 197,
    "start_time": "2023-01-10T20:57:42.502Z"
   },
   {
    "duration": 85,
    "start_time": "2023-01-10T20:58:21.135Z"
   },
   {
    "duration": 131,
    "start_time": "2023-01-10T20:58:41.877Z"
   },
   {
    "duration": 1957,
    "start_time": "2023-01-10T20:59:10.800Z"
   },
   {
    "duration": 1303,
    "start_time": "2023-01-10T20:59:12.759Z"
   },
   {
    "duration": 94,
    "start_time": "2023-01-10T20:59:14.064Z"
   },
   {
    "duration": 12,
    "start_time": "2023-01-10T20:59:14.171Z"
   },
   {
    "duration": 10,
    "start_time": "2023-01-10T20:59:14.361Z"
   },
   {
    "duration": 7,
    "start_time": "2023-01-10T20:59:14.716Z"
   },
   {
    "duration": 7,
    "start_time": "2023-01-10T20:59:14.937Z"
   },
   {
    "duration": 6,
    "start_time": "2023-01-10T20:59:15.136Z"
   },
   {
    "duration": 6,
    "start_time": "2023-01-10T20:59:15.325Z"
   },
   {
    "duration": 6,
    "start_time": "2023-01-10T20:59:15.535Z"
   },
   {
    "duration": 9,
    "start_time": "2023-01-10T20:59:15.736Z"
   },
   {
    "duration": 555,
    "start_time": "2023-01-10T20:59:15.927Z"
   },
   {
    "duration": 9,
    "start_time": "2023-01-10T20:59:16.484Z"
   },
   {
    "duration": 7496,
    "start_time": "2023-01-10T20:59:16.531Z"
   },
   {
    "duration": 89,
    "start_time": "2023-01-10T20:59:24.029Z"
   },
   {
    "duration": 11,
    "start_time": "2023-01-10T20:59:24.120Z"
   },
   {
    "duration": 10,
    "start_time": "2023-01-10T20:59:24.133Z"
   },
   {
    "duration": 5,
    "start_time": "2023-01-10T20:59:24.144Z"
   },
   {
    "duration": 7,
    "start_time": "2023-01-10T20:59:24.151Z"
   },
   {
    "duration": 7,
    "start_time": "2023-01-10T20:59:24.160Z"
   },
   {
    "duration": 12,
    "start_time": "2023-01-10T20:59:24.168Z"
   },
   {
    "duration": 8,
    "start_time": "2023-01-10T20:59:24.181Z"
   },
   {
    "duration": 7,
    "start_time": "2023-01-10T20:59:24.192Z"
   },
   {
    "duration": 8,
    "start_time": "2023-01-10T20:59:24.200Z"
   },
   {
    "duration": 728,
    "start_time": "2023-01-10T20:59:24.210Z"
   },
   {
    "duration": 63,
    "start_time": "2023-01-10T20:59:24.940Z"
   },
   {
    "duration": 12,
    "start_time": "2023-01-10T20:59:25.005Z"
   },
   {
    "duration": 18,
    "start_time": "2023-01-10T20:59:25.018Z"
   },
   {
    "duration": 7,
    "start_time": "2023-01-10T20:59:25.037Z"
   },
   {
    "duration": 9,
    "start_time": "2023-01-10T20:59:25.046Z"
   },
   {
    "duration": 13,
    "start_time": "2023-01-10T20:59:25.056Z"
   },
   {
    "duration": 9,
    "start_time": "2023-01-10T20:59:25.070Z"
   },
   {
    "duration": 463,
    "start_time": "2023-01-10T20:59:25.081Z"
   },
   {
    "duration": 80,
    "start_time": "2023-01-10T20:59:25.551Z"
   },
   {
    "duration": 10,
    "start_time": "2023-01-10T20:59:25.632Z"
   },
   {
    "duration": 10,
    "start_time": "2023-01-10T20:59:25.644Z"
   },
   {
    "duration": 7,
    "start_time": "2023-01-10T20:59:25.655Z"
   },
   {
    "duration": 12,
    "start_time": "2023-01-10T20:59:29.485Z"
   },
   {
    "duration": 21,
    "start_time": "2023-01-10T20:59:29.696Z"
   },
   {
    "duration": 6,
    "start_time": "2023-01-10T20:59:29.909Z"
   },
   {
    "duration": 7,
    "start_time": "2023-01-10T20:59:30.376Z"
   },
   {
    "duration": 5,
    "start_time": "2023-01-10T20:59:30.602Z"
   },
   {
    "duration": 4,
    "start_time": "2023-01-10T20:59:30.787Z"
   },
   {
    "duration": 10,
    "start_time": "2023-01-10T20:59:31.003Z"
   },
   {
    "duration": 53,
    "start_time": "2023-01-10T20:59:31.411Z"
   },
   {
    "duration": 9,
    "start_time": "2023-01-10T20:59:32.042Z"
   },
   {
    "duration": 5,
    "start_time": "2023-01-10T20:59:32.229Z"
   },
   {
    "duration": 16,
    "start_time": "2023-01-10T20:59:32.460Z"
   },
   {
    "duration": 13,
    "start_time": "2023-01-10T20:59:32.918Z"
   },
   {
    "duration": 10,
    "start_time": "2023-01-10T20:59:33.343Z"
   },
   {
    "duration": 24,
    "start_time": "2023-01-10T20:59:33.584Z"
   },
   {
    "duration": 6,
    "start_time": "2023-01-10T20:59:33.782Z"
   },
   {
    "duration": 8,
    "start_time": "2023-01-10T20:59:34.395Z"
   },
   {
    "duration": 18,
    "start_time": "2023-01-10T20:59:34.632Z"
   },
   {
    "duration": 6,
    "start_time": "2023-01-10T20:59:34.990Z"
   },
   {
    "duration": 7,
    "start_time": "2023-01-10T20:59:35.482Z"
   },
   {
    "duration": 12,
    "start_time": "2023-01-10T20:59:35.710Z"
   },
   {
    "duration": 5,
    "start_time": "2023-01-10T20:59:35.982Z"
   },
   {
    "duration": 24,
    "start_time": "2023-01-10T20:59:36.803Z"
   },
   {
    "duration": 26,
    "start_time": "2023-01-10T20:59:37.035Z"
   },
   {
    "duration": 26,
    "start_time": "2023-01-10T20:59:37.252Z"
   },
   {
    "duration": 19,
    "start_time": "2023-01-10T20:59:37.663Z"
   },
   {
    "duration": 6,
    "start_time": "2023-01-10T20:59:37.862Z"
   },
   {
    "duration": 13,
    "start_time": "2023-01-10T20:59:38.065Z"
   },
   {
    "duration": 24,
    "start_time": "2023-01-10T20:59:38.402Z"
   },
   {
    "duration": 13,
    "start_time": "2023-01-10T20:59:38.661Z"
   },
   {
    "duration": 16,
    "start_time": "2023-01-10T20:59:38.912Z"
   },
   {
    "duration": 111,
    "start_time": "2023-01-10T20:59:39.780Z"
   },
   {
    "duration": 6,
    "start_time": "2023-01-10T20:59:40.771Z"
   },
   {
    "duration": 9,
    "start_time": "2023-01-10T20:59:41.187Z"
   },
   {
    "duration": 3,
    "start_time": "2023-01-10T20:59:41.568Z"
   },
   {
    "duration": 18,
    "start_time": "2023-01-10T20:59:42.011Z"
   },
   {
    "duration": 17,
    "start_time": "2023-01-10T20:59:42.435Z"
   },
   {
    "duration": 221,
    "start_time": "2023-01-10T20:59:46.455Z"
   },
   {
    "duration": 126,
    "start_time": "2023-01-10T21:01:49.862Z"
   },
   {
    "duration": 5,
    "start_time": "2023-01-10T21:08:13.374Z"
   },
   {
    "duration": 11,
    "start_time": "2023-01-10T21:11:00.900Z"
   },
   {
    "duration": 31,
    "start_time": "2023-01-10T21:14:52.572Z"
   },
   {
    "duration": 43,
    "start_time": "2023-01-10T21:15:14.624Z"
   },
   {
    "duration": 1946,
    "start_time": "2023-01-10T21:22:23.336Z"
   },
   {
    "duration": 1319,
    "start_time": "2023-01-10T21:22:27.839Z"
   },
   {
    "duration": 89,
    "start_time": "2023-01-10T21:22:29.719Z"
   },
   {
    "duration": 13,
    "start_time": "2023-01-10T21:22:30.611Z"
   },
   {
    "duration": 10,
    "start_time": "2023-01-10T21:22:30.715Z"
   },
   {
    "duration": 7,
    "start_time": "2023-01-10T21:22:30.971Z"
   },
   {
    "duration": 5,
    "start_time": "2023-01-10T21:22:31.185Z"
   },
   {
    "duration": 6,
    "start_time": "2023-01-10T21:22:31.353Z"
   },
   {
    "duration": 5,
    "start_time": "2023-01-10T21:22:31.532Z"
   },
   {
    "duration": 7,
    "start_time": "2023-01-10T21:22:31.718Z"
   },
   {
    "duration": 8,
    "start_time": "2023-01-10T21:22:31.928Z"
   },
   {
    "duration": 599,
    "start_time": "2023-01-10T21:22:32.146Z"
   },
   {
    "duration": 9,
    "start_time": "2023-01-10T21:22:32.752Z"
   },
   {
    "duration": 7602,
    "start_time": "2023-01-10T21:22:32.763Z"
   },
   {
    "duration": 85,
    "start_time": "2023-01-10T21:22:40.369Z"
   },
   {
    "duration": 17,
    "start_time": "2023-01-10T21:22:40.457Z"
   },
   {
    "duration": 24,
    "start_time": "2023-01-10T21:22:40.476Z"
   },
   {
    "duration": 21,
    "start_time": "2023-01-10T21:22:40.501Z"
   },
   {
    "duration": 23,
    "start_time": "2023-01-10T21:22:40.525Z"
   },
   {
    "duration": 26,
    "start_time": "2023-01-10T21:22:40.549Z"
   },
   {
    "duration": 15,
    "start_time": "2023-01-10T21:22:40.576Z"
   },
   {
    "duration": 30,
    "start_time": "2023-01-10T21:22:40.592Z"
   },
   {
    "duration": 16,
    "start_time": "2023-01-10T21:22:40.624Z"
   },
   {
    "duration": 34,
    "start_time": "2023-01-10T21:22:40.642Z"
   },
   {
    "duration": 796,
    "start_time": "2023-01-10T21:22:40.678Z"
   },
   {
    "duration": 80,
    "start_time": "2023-01-10T21:22:41.476Z"
   },
   {
    "duration": 15,
    "start_time": "2023-01-10T21:22:41.558Z"
   },
   {
    "duration": 15,
    "start_time": "2023-01-10T21:22:41.575Z"
   },
   {
    "duration": 5,
    "start_time": "2023-01-10T21:22:41.592Z"
   },
   {
    "duration": 7,
    "start_time": "2023-01-10T21:22:41.599Z"
   },
   {
    "duration": 9,
    "start_time": "2023-01-10T21:22:41.608Z"
   },
   {
    "duration": 9,
    "start_time": "2023-01-10T21:22:41.618Z"
   },
   {
    "duration": 550,
    "start_time": "2023-01-10T21:22:41.629Z"
   },
   {
    "duration": 64,
    "start_time": "2023-01-10T21:22:42.181Z"
   },
   {
    "duration": 10,
    "start_time": "2023-01-10T21:22:42.247Z"
   },
   {
    "duration": 12,
    "start_time": "2023-01-10T21:22:42.259Z"
   },
   {
    "duration": 16,
    "start_time": "2023-01-10T21:22:42.273Z"
   },
   {
    "duration": 13,
    "start_time": "2023-01-10T21:22:44.943Z"
   },
   {
    "duration": 22,
    "start_time": "2023-01-10T21:22:45.181Z"
   },
   {
    "duration": 6,
    "start_time": "2023-01-10T21:22:45.415Z"
   },
   {
    "duration": 8,
    "start_time": "2023-01-10T21:22:45.851Z"
   },
   {
    "duration": 6,
    "start_time": "2023-01-10T21:22:46.115Z"
   },
   {
    "duration": 4,
    "start_time": "2023-01-10T21:22:46.358Z"
   },
   {
    "duration": 10,
    "start_time": "2023-01-10T21:22:46.565Z"
   },
   {
    "duration": 58,
    "start_time": "2023-01-10T21:22:47.155Z"
   },
   {
    "duration": 9,
    "start_time": "2023-01-10T21:22:48.018Z"
   },
   {
    "duration": 5,
    "start_time": "2023-01-10T21:22:48.233Z"
   },
   {
    "duration": 12,
    "start_time": "2023-01-10T21:22:48.449Z"
   },
   {
    "duration": 14,
    "start_time": "2023-01-10T21:22:49.081Z"
   },
   {
    "duration": 10,
    "start_time": "2023-01-10T21:22:49.515Z"
   },
   {
    "duration": 24,
    "start_time": "2023-01-10T21:22:49.729Z"
   },
   {
    "duration": 6,
    "start_time": "2023-01-10T21:22:49.939Z"
   },
   {
    "duration": 8,
    "start_time": "2023-01-10T21:22:50.423Z"
   },
   {
    "duration": 21,
    "start_time": "2023-01-10T21:22:50.664Z"
   },
   {
    "duration": 5,
    "start_time": "2023-01-10T21:22:50.915Z"
   },
   {
    "duration": 7,
    "start_time": "2023-01-10T21:22:51.511Z"
   },
   {
    "duration": 10,
    "start_time": "2023-01-10T21:22:51.717Z"
   },
   {
    "duration": 5,
    "start_time": "2023-01-10T21:22:51.923Z"
   },
   {
    "duration": 23,
    "start_time": "2023-01-10T21:22:52.353Z"
   },
   {
    "duration": 26,
    "start_time": "2023-01-10T21:22:52.636Z"
   },
   {
    "duration": 25,
    "start_time": "2023-01-10T21:22:52.831Z"
   },
   {
    "duration": 17,
    "start_time": "2023-01-10T21:22:53.064Z"
   },
   {
    "duration": 5,
    "start_time": "2023-01-10T21:22:53.242Z"
   },
   {
    "duration": 14,
    "start_time": "2023-01-10T21:22:53.443Z"
   },
   {
    "duration": 22,
    "start_time": "2023-01-10T21:22:53.665Z"
   },
   {
    "duration": 17,
    "start_time": "2023-01-10T21:22:53.871Z"
   },
   {
    "duration": 17,
    "start_time": "2023-01-10T21:22:54.080Z"
   },
   {
    "duration": 117,
    "start_time": "2023-01-10T21:22:54.749Z"
   },
   {
    "duration": 6,
    "start_time": "2023-01-10T21:22:55.419Z"
   },
   {
    "duration": 10,
    "start_time": "2023-01-10T21:22:55.645Z"
   },
   {
    "duration": 3,
    "start_time": "2023-01-10T21:22:55.868Z"
   },
   {
    "duration": 19,
    "start_time": "2023-01-10T21:22:56.059Z"
   },
   {
    "duration": 15,
    "start_time": "2023-01-10T21:22:56.313Z"
   },
   {
    "duration": 9,
    "start_time": "2023-01-10T21:22:56.974Z"
   },
   {
    "duration": 56,
    "start_time": "2023-01-10T21:22:57.357Z"
   },
   {
    "duration": 42,
    "start_time": "2023-01-10T21:22:57.936Z"
   },
   {
    "duration": 13,
    "start_time": "2023-01-10T21:23:09.668Z"
   },
   {
    "duration": 35,
    "start_time": "2023-01-10T21:23:10.723Z"
   },
   {
    "duration": 110,
    "start_time": "2023-01-10T21:23:11.375Z"
   },
   {
    "duration": 24,
    "start_time": "2023-01-10T21:24:08.359Z"
   },
   {
    "duration": 13,
    "start_time": "2023-01-10T21:27:36.504Z"
   },
   {
    "duration": 36,
    "start_time": "2023-01-10T21:27:50.304Z"
   },
   {
    "duration": 12,
    "start_time": "2023-01-10T21:27:51.101Z"
   },
   {
    "duration": 17,
    "start_time": "2023-01-10T21:27:51.753Z"
   },
   {
    "duration": 37,
    "start_time": "2023-01-10T21:29:20.644Z"
   },
   {
    "duration": 14,
    "start_time": "2023-01-10T21:29:21.555Z"
   },
   {
    "duration": 16,
    "start_time": "2023-01-10T21:29:22.045Z"
   },
   {
    "duration": 73,
    "start_time": "2023-01-10T21:29:37.664Z"
   },
   {
    "duration": 25,
    "start_time": "2023-01-10T21:29:49.911Z"
   },
   {
    "duration": 57,
    "start_time": "2023-01-10T21:30:48.478Z"
   },
   {
    "duration": 35,
    "start_time": "2023-01-10T21:30:59.812Z"
   },
   {
    "duration": 15,
    "start_time": "2023-01-10T21:31:08.033Z"
   },
   {
    "duration": 33,
    "start_time": "2023-01-10T21:31:20.199Z"
   },
   {
    "duration": 15,
    "start_time": "2023-01-10T21:31:20.737Z"
   },
   {
    "duration": 28,
    "start_time": "2023-01-10T21:31:25.152Z"
   },
   {
    "duration": 20,
    "start_time": "2023-01-10T21:31:27.532Z"
   },
   {
    "duration": 80,
    "start_time": "2023-01-10T21:36:30.077Z"
   },
   {
    "duration": 1931,
    "start_time": "2023-01-10T21:45:37.442Z"
   },
   {
    "duration": 1369,
    "start_time": "2023-01-10T21:45:39.375Z"
   },
   {
    "duration": 93,
    "start_time": "2023-01-10T21:45:41.319Z"
   },
   {
    "duration": 13,
    "start_time": "2023-01-10T21:45:42.818Z"
   },
   {
    "duration": 9,
    "start_time": "2023-01-10T21:45:44.746Z"
   },
   {
    "duration": 7,
    "start_time": "2023-01-10T21:45:45.015Z"
   },
   {
    "duration": 6,
    "start_time": "2023-01-10T21:45:45.226Z"
   },
   {
    "duration": 6,
    "start_time": "2023-01-10T21:45:45.422Z"
   },
   {
    "duration": 6,
    "start_time": "2023-01-10T21:45:45.603Z"
   },
   {
    "duration": 5,
    "start_time": "2023-01-10T21:45:45.784Z"
   },
   {
    "duration": 9,
    "start_time": "2023-01-10T21:45:46.002Z"
   },
   {
    "duration": 602,
    "start_time": "2023-01-10T21:45:46.164Z"
   },
   {
    "duration": 9,
    "start_time": "2023-01-10T21:45:46.769Z"
   },
   {
    "duration": 7587,
    "start_time": "2023-01-10T21:45:46.780Z"
   },
   {
    "duration": 82,
    "start_time": "2023-01-10T21:45:54.369Z"
   },
   {
    "duration": 11,
    "start_time": "2023-01-10T21:45:54.452Z"
   },
   {
    "duration": 11,
    "start_time": "2023-01-10T21:45:54.464Z"
   },
   {
    "duration": 6,
    "start_time": "2023-01-10T21:45:56.428Z"
   },
   {
    "duration": 6,
    "start_time": "2023-01-10T21:45:56.921Z"
   },
   {
    "duration": 6,
    "start_time": "2023-01-10T21:45:57.107Z"
   },
   {
    "duration": 6,
    "start_time": "2023-01-10T21:45:57.321Z"
   },
   {
    "duration": 6,
    "start_time": "2023-01-10T21:45:57.578Z"
   },
   {
    "duration": 6,
    "start_time": "2023-01-10T21:45:57.958Z"
   },
   {
    "duration": 6,
    "start_time": "2023-01-10T21:45:58.195Z"
   },
   {
    "duration": 832,
    "start_time": "2023-01-10T21:45:58.413Z"
   },
   {
    "duration": 83,
    "start_time": "2023-01-10T21:46:00.320Z"
   },
   {
    "duration": 12,
    "start_time": "2023-01-10T21:46:01.394Z"
   },
   {
    "duration": 8,
    "start_time": "2023-01-10T21:46:05.730Z"
   },
   {
    "duration": 6,
    "start_time": "2023-01-10T21:46:05.975Z"
   },
   {
    "duration": 6,
    "start_time": "2023-01-10T21:46:06.185Z"
   },
   {
    "duration": 7,
    "start_time": "2023-01-10T21:46:06.388Z"
   },
   {
    "duration": 6,
    "start_time": "2023-01-10T21:46:06.873Z"
   },
   {
    "duration": 370,
    "start_time": "2023-01-10T21:46:35.050Z"
   },
   {
    "duration": 80,
    "start_time": "2023-01-10T21:46:37.554Z"
   },
   {
    "duration": 9,
    "start_time": "2023-01-10T21:46:39.344Z"
   },
   {
    "duration": 6,
    "start_time": "2023-01-10T21:46:40.354Z"
   },
   {
    "duration": 6,
    "start_time": "2023-01-10T21:46:40.567Z"
   },
   {
    "duration": 11,
    "start_time": "2023-01-10T21:46:56.698Z"
   },
   {
    "duration": 22,
    "start_time": "2023-01-10T21:46:56.902Z"
   },
   {
    "duration": 6,
    "start_time": "2023-01-10T21:46:57.143Z"
   },
   {
    "duration": 8,
    "start_time": "2023-01-10T21:46:57.511Z"
   },
   {
    "duration": 6,
    "start_time": "2023-01-10T21:46:57.720Z"
   },
   {
    "duration": 5,
    "start_time": "2023-01-10T21:46:57.924Z"
   },
   {
    "duration": 9,
    "start_time": "2023-01-10T21:46:58.147Z"
   },
   {
    "duration": 54,
    "start_time": "2023-01-10T21:46:58.533Z"
   },
   {
    "duration": 9,
    "start_time": "2023-01-10T21:46:59.150Z"
   },
   {
    "duration": 5,
    "start_time": "2023-01-10T21:46:59.378Z"
   },
   {
    "duration": 12,
    "start_time": "2023-01-10T21:46:59.834Z"
   },
   {
    "duration": 12,
    "start_time": "2023-01-10T21:47:00.537Z"
   },
   {
    "duration": 10,
    "start_time": "2023-01-10T21:47:01.352Z"
   },
   {
    "duration": 25,
    "start_time": "2023-01-10T21:47:02.136Z"
   },
   {
    "duration": 6,
    "start_time": "2023-01-10T21:47:02.686Z"
   },
   {
    "duration": 8,
    "start_time": "2023-01-10T21:47:03.723Z"
   },
   {
    "duration": 15,
    "start_time": "2023-01-10T21:47:04.032Z"
   },
   {
    "duration": 5,
    "start_time": "2023-01-10T21:47:04.465Z"
   },
   {
    "duration": 7,
    "start_time": "2023-01-10T21:47:05.371Z"
   },
   {
    "duration": 11,
    "start_time": "2023-01-10T21:47:05.712Z"
   },
   {
    "duration": 6,
    "start_time": "2023-01-10T21:47:06.136Z"
   },
   {
    "duration": 25,
    "start_time": "2023-01-10T21:47:07.476Z"
   },
   {
    "duration": 21,
    "start_time": "2023-01-10T21:47:31.958Z"
   },
   {
    "duration": 26,
    "start_time": "2023-01-10T21:47:36.022Z"
   },
   {
    "duration": 17,
    "start_time": "2023-01-10T21:47:39.472Z"
   },
   {
    "duration": 6,
    "start_time": "2023-01-10T21:47:50.300Z"
   },
   {
    "duration": 13,
    "start_time": "2023-01-10T21:47:51.331Z"
   },
   {
    "duration": 24,
    "start_time": "2023-01-10T21:47:52.184Z"
   },
   {
    "duration": 13,
    "start_time": "2023-01-10T21:47:53.117Z"
   },
   {
    "duration": 18,
    "start_time": "2023-01-10T21:48:01.685Z"
   },
   {
    "duration": 100,
    "start_time": "2023-01-10T21:48:06.931Z"
   },
   {
    "duration": 4,
    "start_time": "2023-01-10T21:48:10.645Z"
   },
   {
    "duration": 9,
    "start_time": "2023-01-10T21:48:11.057Z"
   },
   {
    "duration": 4,
    "start_time": "2023-01-10T21:48:11.491Z"
   },
   {
    "duration": 19,
    "start_time": "2023-01-10T21:48:11.827Z"
   },
   {
    "duration": 14,
    "start_time": "2023-01-10T21:48:12.189Z"
   },
   {
    "duration": 8,
    "start_time": "2023-01-10T21:48:13.775Z"
   },
   {
    "duration": 34,
    "start_time": "2023-01-10T21:48:14.486Z"
   },
   {
    "duration": 16,
    "start_time": "2023-01-10T21:48:16.770Z"
   },
   {
    "duration": 13,
    "start_time": "2023-01-10T21:48:18.893Z"
   },
   {
    "duration": 35,
    "start_time": "2023-01-10T21:48:19.709Z"
   },
   {
    "duration": 15,
    "start_time": "2023-01-10T21:48:20.212Z"
   },
   {
    "duration": 25,
    "start_time": "2023-01-10T21:48:21.078Z"
   },
   {
    "duration": 22,
    "start_time": "2023-01-10T21:48:21.626Z"
   },
   {
    "duration": 109,
    "start_time": "2023-01-10T21:56:24.330Z"
   },
   {
    "duration": 11,
    "start_time": "2023-01-10T21:56:45.518Z"
   },
   {
    "duration": 4,
    "start_time": "2023-01-10T21:57:11.249Z"
   },
   {
    "duration": 146,
    "start_time": "2023-01-10T21:57:14.880Z"
   },
   {
    "duration": 150,
    "start_time": "2023-01-10T21:58:20.880Z"
   },
   {
    "duration": 144,
    "start_time": "2023-01-10T21:58:50.888Z"
   },
   {
    "duration": 133,
    "start_time": "2023-01-10T21:59:42.106Z"
   },
   {
    "duration": 128,
    "start_time": "2023-01-10T21:59:51.735Z"
   },
   {
    "duration": 128,
    "start_time": "2023-01-10T22:00:07.951Z"
   },
   {
    "duration": 126,
    "start_time": "2023-01-10T22:00:36.254Z"
   },
   {
    "duration": 33699,
    "start_time": "2023-01-10T22:02:08.689Z"
   },
   {
    "duration": 124,
    "start_time": "2023-01-10T22:04:06.586Z"
   },
   {
    "duration": 4,
    "start_time": "2023-01-10T22:04:30.863Z"
   },
   {
    "duration": 32994,
    "start_time": "2023-01-10T22:04:33.996Z"
   },
   {
    "duration": 7381,
    "start_time": "2023-01-10T22:28:44.476Z"
   },
   {
    "duration": 12,
    "start_time": "2023-01-10T22:38:45.203Z"
   },
   {
    "duration": 12,
    "start_time": "2023-01-10T22:38:54.029Z"
   },
   {
    "duration": 2914,
    "start_time": "2023-01-10T22:41:46.185Z"
   },
   {
    "duration": 2941,
    "start_time": "2023-01-10T22:42:07.651Z"
   },
   {
    "duration": 3075,
    "start_time": "2023-01-10T22:42:48.695Z"
   },
   {
    "duration": 2926,
    "start_time": "2023-01-10T22:43:09.974Z"
   },
   {
    "duration": 6732,
    "start_time": "2023-01-10T22:55:46.004Z"
   },
   {
    "duration": 10583,
    "start_time": "2023-01-10T23:00:08.678Z"
   },
   {
    "duration": 6392,
    "start_time": "2023-01-10T23:00:28.562Z"
   },
   {
    "duration": 6678,
    "start_time": "2023-01-10T23:03:37.587Z"
   },
   {
    "duration": 9,
    "start_time": "2023-01-10T23:13:07.789Z"
   },
   {
    "duration": 2,
    "start_time": "2023-01-10T23:13:36.461Z"
   },
   {
    "duration": 2586,
    "start_time": "2023-01-10T23:13:37.258Z"
   },
   {
    "duration": 52,
    "start_time": "2023-01-10T23:15:15.375Z"
   },
   {
    "duration": 7122,
    "start_time": "2023-01-10T23:16:19.308Z"
   },
   {
    "duration": 11,
    "start_time": "2023-01-10T23:16:43.071Z"
   },
   {
    "duration": 30385,
    "start_time": "2023-01-10T23:17:01.085Z"
   },
   {
    "duration": 69773,
    "start_time": "2023-01-10T23:18:38.145Z"
   },
   {
    "duration": 32499,
    "start_time": "2023-01-10T23:19:54.786Z"
   },
   {
    "duration": 10,
    "start_time": "2023-01-10T23:20:34.417Z"
   },
   {
    "duration": 3295,
    "start_time": "2023-01-10T23:20:58.161Z"
   },
   {
    "duration": 71356,
    "start_time": "2023-01-10T23:21:04.060Z"
   },
   {
    "duration": 102099,
    "start_time": "2023-01-10T23:24:47.828Z"
   },
   {
    "duration": 69879,
    "start_time": "2023-01-10T23:26:29.929Z"
   },
   {
    "duration": 1864,
    "start_time": "2023-01-10T23:32:44.137Z"
   },
   {
    "duration": 1317,
    "start_time": "2023-01-10T23:32:46.003Z"
   },
   {
    "duration": 106,
    "start_time": "2023-01-10T23:32:47.417Z"
   },
   {
    "duration": 12,
    "start_time": "2023-01-10T23:32:47.955Z"
   },
   {
    "duration": 9,
    "start_time": "2023-01-10T23:32:48.135Z"
   },
   {
    "duration": 6,
    "start_time": "2023-01-10T23:32:48.321Z"
   },
   {
    "duration": 6,
    "start_time": "2023-01-10T23:32:48.502Z"
   },
   {
    "duration": 6,
    "start_time": "2023-01-10T23:32:48.692Z"
   },
   {
    "duration": 5,
    "start_time": "2023-01-10T23:32:48.894Z"
   },
   {
    "duration": 6,
    "start_time": "2023-01-10T23:32:49.066Z"
   },
   {
    "duration": 8,
    "start_time": "2023-01-10T23:32:49.262Z"
   },
   {
    "duration": 592,
    "start_time": "2023-01-10T23:32:49.463Z"
   },
   {
    "duration": 9,
    "start_time": "2023-01-10T23:32:50.057Z"
   },
   {
    "duration": 7444,
    "start_time": "2023-01-10T23:32:50.068Z"
   },
   {
    "duration": 87,
    "start_time": "2023-01-10T23:32:57.514Z"
   },
   {
    "duration": 11,
    "start_time": "2023-01-10T23:32:57.602Z"
   },
   {
    "duration": 12,
    "start_time": "2023-01-10T23:32:57.615Z"
   },
   {
    "duration": 6,
    "start_time": "2023-01-10T23:32:57.628Z"
   },
   {
    "duration": 8,
    "start_time": "2023-01-10T23:32:57.636Z"
   },
   {
    "duration": 12,
    "start_time": "2023-01-10T23:32:57.645Z"
   },
   {
    "duration": 8,
    "start_time": "2023-01-10T23:32:57.658Z"
   },
   {
    "duration": 8,
    "start_time": "2023-01-10T23:32:57.667Z"
   },
   {
    "duration": 97,
    "start_time": "2023-01-10T23:32:57.676Z"
   },
   {
    "duration": 12,
    "start_time": "2023-01-10T23:32:57.775Z"
   },
   {
    "duration": 716,
    "start_time": "2023-01-10T23:32:57.789Z"
   },
   {
    "duration": 62,
    "start_time": "2023-01-10T23:32:58.508Z"
   },
   {
    "duration": 12,
    "start_time": "2023-01-10T23:32:58.572Z"
   },
   {
    "duration": 14,
    "start_time": "2023-01-10T23:32:58.586Z"
   },
   {
    "duration": 8,
    "start_time": "2023-01-10T23:32:58.602Z"
   },
   {
    "duration": 7,
    "start_time": "2023-01-10T23:32:58.612Z"
   },
   {
    "duration": 7,
    "start_time": "2023-01-10T23:32:58.623Z"
   },
   {
    "duration": 26,
    "start_time": "2023-01-10T23:32:58.632Z"
   },
   {
    "duration": 389,
    "start_time": "2023-01-10T23:32:58.659Z"
   },
   {
    "duration": 79,
    "start_time": "2023-01-10T23:32:59.053Z"
   },
   {
    "duration": 9,
    "start_time": "2023-01-10T23:32:59.134Z"
   },
   {
    "duration": 10,
    "start_time": "2023-01-10T23:32:59.144Z"
   },
   {
    "duration": 5,
    "start_time": "2023-01-10T23:32:59.156Z"
   },
   {
    "duration": 11,
    "start_time": "2023-01-10T23:33:02.599Z"
   },
   {
    "duration": 20,
    "start_time": "2023-01-10T23:33:02.831Z"
   },
   {
    "duration": 5,
    "start_time": "2023-01-10T23:33:03.062Z"
   },
   {
    "duration": 8,
    "start_time": "2023-01-10T23:33:03.796Z"
   },
   {
    "duration": 6,
    "start_time": "2023-01-10T23:33:03.995Z"
   },
   {
    "duration": 5,
    "start_time": "2023-01-10T23:33:04.225Z"
   },
   {
    "duration": 9,
    "start_time": "2023-01-10T23:33:04.470Z"
   },
   {
    "duration": 52,
    "start_time": "2023-01-10T23:33:04.975Z"
   },
   {
    "duration": 9,
    "start_time": "2023-01-10T23:33:06.125Z"
   },
   {
    "duration": 6,
    "start_time": "2023-01-10T23:33:06.334Z"
   },
   {
    "duration": 13,
    "start_time": "2023-01-10T23:33:06.526Z"
   },
   {
    "duration": 12,
    "start_time": "2023-01-10T23:33:06.989Z"
   },
   {
    "duration": 10,
    "start_time": "2023-01-10T23:33:07.429Z"
   },
   {
    "duration": 26,
    "start_time": "2023-01-10T23:33:07.652Z"
   },
   {
    "duration": 6,
    "start_time": "2023-01-10T23:33:07.864Z"
   },
   {
    "duration": 8,
    "start_time": "2023-01-10T23:33:08.689Z"
   },
   {
    "duration": 24,
    "start_time": "2023-01-10T23:33:08.698Z"
   },
   {
    "duration": 5,
    "start_time": "2023-01-10T23:33:08.739Z"
   },
   {
    "duration": 7,
    "start_time": "2023-01-10T23:33:12.252Z"
   },
   {
    "duration": 15,
    "start_time": "2023-01-10T23:33:12.453Z"
   },
   {
    "duration": 5,
    "start_time": "2023-01-10T23:33:12.965Z"
   },
   {
    "duration": 23,
    "start_time": "2023-01-10T23:33:34.752Z"
   },
   {
    "duration": 21,
    "start_time": "2023-01-10T23:33:50.714Z"
   },
   {
    "duration": 22,
    "start_time": "2023-01-10T23:34:18.787Z"
   },
   {
    "duration": 21,
    "start_time": "2023-01-10T23:34:31.718Z"
   },
   {
    "duration": 13,
    "start_time": "2023-01-10T23:34:59.317Z"
   },
   {
    "duration": 22,
    "start_time": "2023-01-10T23:35:58.997Z"
   },
   {
    "duration": 13,
    "start_time": "2023-01-10T23:36:13.238Z"
   },
   {
    "duration": 18,
    "start_time": "2023-01-10T23:36:22.643Z"
   },
   {
    "duration": 31,
    "start_time": "2023-01-10T23:37:12.111Z"
   },
   {
    "duration": 19,
    "start_time": "2023-01-10T23:37:17.101Z"
   },
   {
    "duration": 6,
    "start_time": "2023-01-10T23:37:21.926Z"
   },
   {
    "duration": 17,
    "start_time": "2023-01-10T23:37:25.347Z"
   },
   {
    "duration": 32,
    "start_time": "2023-01-10T23:37:30.770Z"
   },
   {
    "duration": 15,
    "start_time": "2023-01-10T23:37:32.184Z"
   },
   {
    "duration": 2015,
    "start_time": "2023-01-10T23:38:14.102Z"
   },
   {
    "duration": 1410,
    "start_time": "2023-01-10T23:38:16.119Z"
   },
   {
    "duration": 94,
    "start_time": "2023-01-10T23:38:17.531Z"
   },
   {
    "duration": 12,
    "start_time": "2023-01-10T23:38:17.627Z"
   },
   {
    "duration": 17,
    "start_time": "2023-01-10T23:38:17.641Z"
   },
   {
    "duration": 6,
    "start_time": "2023-01-10T23:38:17.659Z"
   },
   {
    "duration": 8,
    "start_time": "2023-01-10T23:38:17.667Z"
   },
   {
    "duration": 9,
    "start_time": "2023-01-10T23:38:17.676Z"
   },
   {
    "duration": 9,
    "start_time": "2023-01-10T23:38:17.686Z"
   },
   {
    "duration": 17,
    "start_time": "2023-01-10T23:38:17.697Z"
   },
   {
    "duration": 11,
    "start_time": "2023-01-10T23:38:17.716Z"
   },
   {
    "duration": 594,
    "start_time": "2023-01-10T23:38:17.728Z"
   },
   {
    "duration": 9,
    "start_time": "2023-01-10T23:38:18.325Z"
   },
   {
    "duration": 7575,
    "start_time": "2023-01-10T23:38:18.336Z"
   },
   {
    "duration": 84,
    "start_time": "2023-01-10T23:38:25.913Z"
   },
   {
    "duration": 11,
    "start_time": "2023-01-10T23:38:25.998Z"
   },
   {
    "duration": 12,
    "start_time": "2023-01-10T23:38:26.010Z"
   },
   {
    "duration": 5,
    "start_time": "2023-01-10T23:38:26.023Z"
   },
   {
    "duration": 7,
    "start_time": "2023-01-10T23:38:26.030Z"
   },
   {
    "duration": 8,
    "start_time": "2023-01-10T23:38:26.039Z"
   },
   {
    "duration": 8,
    "start_time": "2023-01-10T23:38:26.049Z"
   },
   {
    "duration": 10,
    "start_time": "2023-01-10T23:38:26.059Z"
   },
   {
    "duration": 96,
    "start_time": "2023-01-10T23:38:26.070Z"
   },
   {
    "duration": 8,
    "start_time": "2023-01-10T23:38:26.168Z"
   },
   {
    "duration": 721,
    "start_time": "2023-01-10T23:38:26.177Z"
   },
   {
    "duration": 62,
    "start_time": "2023-01-10T23:38:26.900Z"
   },
   {
    "duration": 12,
    "start_time": "2023-01-10T23:38:26.963Z"
   },
   {
    "duration": 11,
    "start_time": "2023-01-10T23:38:26.977Z"
   },
   {
    "duration": 7,
    "start_time": "2023-01-10T23:38:26.990Z"
   },
   {
    "duration": 10,
    "start_time": "2023-01-10T23:38:26.999Z"
   },
   {
    "duration": 7,
    "start_time": "2023-01-10T23:38:27.013Z"
   },
   {
    "duration": 10,
    "start_time": "2023-01-10T23:38:27.022Z"
   },
   {
    "duration": 375,
    "start_time": "2023-01-10T23:38:27.052Z"
   },
   {
    "duration": 76,
    "start_time": "2023-01-10T23:38:27.428Z"
   },
   {
    "duration": 9,
    "start_time": "2023-01-10T23:38:27.506Z"
   },
   {
    "duration": 10,
    "start_time": "2023-01-10T23:38:27.517Z"
   },
   {
    "duration": 7,
    "start_time": "2023-01-10T23:38:27.529Z"
   },
   {
    "duration": 10,
    "start_time": "2023-01-10T23:38:29.958Z"
   },
   {
    "duration": 22,
    "start_time": "2023-01-10T23:38:30.171Z"
   },
   {
    "duration": 6,
    "start_time": "2023-01-10T23:38:30.398Z"
   },
   {
    "duration": 7,
    "start_time": "2023-01-10T23:38:31.123Z"
   },
   {
    "duration": 5,
    "start_time": "2023-01-10T23:38:31.555Z"
   },
   {
    "duration": 7,
    "start_time": "2023-01-10T23:38:31.920Z"
   },
   {
    "duration": 8,
    "start_time": "2023-01-10T23:38:32.349Z"
   },
   {
    "duration": 51,
    "start_time": "2023-01-10T23:38:32.740Z"
   },
   {
    "duration": 9,
    "start_time": "2023-01-10T23:38:33.376Z"
   },
   {
    "duration": 5,
    "start_time": "2023-01-10T23:38:33.590Z"
   },
   {
    "duration": 12,
    "start_time": "2023-01-10T23:38:33.799Z"
   },
   {
    "duration": 12,
    "start_time": "2023-01-10T23:38:34.195Z"
   },
   {
    "duration": 12,
    "start_time": "2023-01-10T23:38:34.609Z"
   },
   {
    "duration": 27,
    "start_time": "2023-01-10T23:38:34.828Z"
   },
   {
    "duration": 7,
    "start_time": "2023-01-10T23:38:35.046Z"
   },
   {
    "duration": 9,
    "start_time": "2023-01-10T23:38:35.483Z"
   },
   {
    "duration": 17,
    "start_time": "2023-01-10T23:38:36.086Z"
   },
   {
    "duration": 5,
    "start_time": "2023-01-10T23:38:36.674Z"
   },
   {
    "duration": 8,
    "start_time": "2023-01-10T23:38:37.986Z"
   },
   {
    "duration": 11,
    "start_time": "2023-01-10T23:38:38.784Z"
   },
   {
    "duration": 6,
    "start_time": "2023-01-10T23:38:39.342Z"
   },
   {
    "duration": 24,
    "start_time": "2023-01-10T23:38:40.932Z"
   },
   {
    "duration": 21,
    "start_time": "2023-01-10T23:38:43.399Z"
   },
   {
    "duration": 27,
    "start_time": "2023-01-10T23:38:50.407Z"
   },
   {
    "duration": 27,
    "start_time": "2023-01-10T23:39:05.521Z"
   },
   {
    "duration": 44,
    "start_time": "2023-01-10T23:39:38.159Z"
   },
   {
    "duration": 1865,
    "start_time": "2023-01-10T23:39:49.734Z"
   },
   {
    "duration": 1368,
    "start_time": "2023-01-10T23:39:51.602Z"
   },
   {
    "duration": 92,
    "start_time": "2023-01-10T23:39:52.972Z"
   },
   {
    "duration": 12,
    "start_time": "2023-01-10T23:39:53.066Z"
   },
   {
    "duration": 19,
    "start_time": "2023-01-10T23:39:53.080Z"
   },
   {
    "duration": 8,
    "start_time": "2023-01-10T23:39:53.101Z"
   },
   {
    "duration": 9,
    "start_time": "2023-01-10T23:39:53.110Z"
   },
   {
    "duration": 8,
    "start_time": "2023-01-10T23:39:53.121Z"
   },
   {
    "duration": 13,
    "start_time": "2023-01-10T23:39:53.130Z"
   },
   {
    "duration": 10,
    "start_time": "2023-01-10T23:39:53.145Z"
   },
   {
    "duration": 8,
    "start_time": "2023-01-10T23:39:53.313Z"
   },
   {
    "duration": 592,
    "start_time": "2023-01-10T23:39:53.506Z"
   },
   {
    "duration": 10,
    "start_time": "2023-01-10T23:39:54.100Z"
   },
   {
    "duration": 7570,
    "start_time": "2023-01-10T23:39:54.112Z"
   },
   {
    "duration": 93,
    "start_time": "2023-01-10T23:40:01.683Z"
   },
   {
    "duration": 11,
    "start_time": "2023-01-10T23:40:01.777Z"
   },
   {
    "duration": 21,
    "start_time": "2023-01-10T23:40:01.790Z"
   },
   {
    "duration": 24,
    "start_time": "2023-01-10T23:40:01.812Z"
   },
   {
    "duration": 27,
    "start_time": "2023-01-10T23:40:01.838Z"
   },
   {
    "duration": 33,
    "start_time": "2023-01-10T23:40:01.866Z"
   },
   {
    "duration": 11,
    "start_time": "2023-01-10T23:40:01.901Z"
   },
   {
    "duration": 13,
    "start_time": "2023-01-10T23:40:01.913Z"
   },
   {
    "duration": 21,
    "start_time": "2023-01-10T23:40:01.928Z"
   },
   {
    "duration": 105,
    "start_time": "2023-01-10T23:40:01.950Z"
   },
   {
    "duration": 763,
    "start_time": "2023-01-10T23:40:02.056Z"
   },
   {
    "duration": 108,
    "start_time": "2023-01-10T23:40:02.821Z"
   },
   {
    "duration": 12,
    "start_time": "2023-01-10T23:40:02.931Z"
   },
   {
    "duration": 11,
    "start_time": "2023-01-10T23:40:02.945Z"
   },
   {
    "duration": 5,
    "start_time": "2023-01-10T23:40:02.958Z"
   },
   {
    "duration": 8,
    "start_time": "2023-01-10T23:40:02.964Z"
   },
   {
    "duration": 11,
    "start_time": "2023-01-10T23:40:02.973Z"
   },
   {
    "duration": 9,
    "start_time": "2023-01-10T23:40:02.985Z"
   },
   {
    "duration": 362,
    "start_time": "2023-01-10T23:40:02.995Z"
   },
   {
    "duration": 140,
    "start_time": "2023-01-10T23:40:03.358Z"
   },
   {
    "duration": 10,
    "start_time": "2023-01-10T23:40:03.500Z"
   },
   {
    "duration": 12,
    "start_time": "2023-01-10T23:40:03.513Z"
   },
   {
    "duration": 13,
    "start_time": "2023-01-10T23:40:03.527Z"
   },
   {
    "duration": 12,
    "start_time": "2023-01-10T23:40:06.472Z"
   },
   {
    "duration": 21,
    "start_time": "2023-01-10T23:40:06.696Z"
   },
   {
    "duration": 7,
    "start_time": "2023-01-10T23:40:06.928Z"
   },
   {
    "duration": 8,
    "start_time": "2023-01-10T23:40:07.367Z"
   },
   {
    "duration": 6,
    "start_time": "2023-01-10T23:40:07.624Z"
   },
   {
    "duration": 5,
    "start_time": "2023-01-10T23:40:08.242Z"
   },
   {
    "duration": 9,
    "start_time": "2023-01-10T23:40:08.454Z"
   },
   {
    "duration": 54,
    "start_time": "2023-01-10T23:40:09.426Z"
   },
   {
    "duration": 9,
    "start_time": "2023-01-10T23:40:10.055Z"
   },
   {
    "duration": 5,
    "start_time": "2023-01-10T23:40:10.285Z"
   },
   {
    "duration": 11,
    "start_time": "2023-01-10T23:40:10.464Z"
   },
   {
    "duration": 12,
    "start_time": "2023-01-10T23:40:10.862Z"
   },
   {
    "duration": 9,
    "start_time": "2023-01-10T23:40:11.284Z"
   },
   {
    "duration": 24,
    "start_time": "2023-01-10T23:40:11.489Z"
   },
   {
    "duration": 6,
    "start_time": "2023-01-10T23:40:11.701Z"
   },
   {
    "duration": 9,
    "start_time": "2023-01-10T23:40:12.087Z"
   },
   {
    "duration": 17,
    "start_time": "2023-01-10T23:40:12.300Z"
   },
   {
    "duration": 7,
    "start_time": "2023-01-10T23:40:12.510Z"
   },
   {
    "duration": 7,
    "start_time": "2023-01-10T23:40:12.954Z"
   },
   {
    "duration": 9,
    "start_time": "2023-01-10T23:40:13.193Z"
   },
   {
    "duration": 5,
    "start_time": "2023-01-10T23:40:13.694Z"
   },
   {
    "duration": 24,
    "start_time": "2023-01-10T23:40:14.139Z"
   },
   {
    "duration": 22,
    "start_time": "2023-01-10T23:40:14.384Z"
   },
   {
    "duration": 27,
    "start_time": "2023-01-10T23:40:15.044Z"
   },
   {
    "duration": 18,
    "start_time": "2023-01-10T23:40:41.062Z"
   },
   {
    "duration": 5,
    "start_time": "2023-01-10T23:40:41.995Z"
   },
   {
    "duration": 16,
    "start_time": "2023-01-10T23:40:43.550Z"
   },
   {
    "duration": 31,
    "start_time": "2023-01-10T23:40:44.622Z"
   },
   {
    "duration": 13,
    "start_time": "2023-01-10T23:40:46.556Z"
   },
   {
    "duration": 16,
    "start_time": "2023-01-10T23:40:53.082Z"
   },
   {
    "duration": 21,
    "start_time": "2023-01-10T23:47:23.096Z"
   },
   {
    "duration": 100,
    "start_time": "2023-01-10T23:47:34.903Z"
   },
   {
    "duration": 7,
    "start_time": "2023-01-10T23:47:45.010Z"
   },
   {
    "duration": 11,
    "start_time": "2023-01-10T23:47:45.786Z"
   },
   {
    "duration": 4,
    "start_time": "2023-01-10T23:47:48.858Z"
   },
   {
    "duration": 21,
    "start_time": "2023-01-10T23:47:51.572Z"
   },
   {
    "duration": 14,
    "start_time": "2023-01-10T23:47:58.235Z"
   },
   {
    "duration": 9,
    "start_time": "2023-01-10T23:48:06.362Z"
   },
   {
    "duration": 41,
    "start_time": "2023-01-10T23:48:07.303Z"
   },
   {
    "duration": 17,
    "start_time": "2023-01-10T23:48:09.483Z"
   },
   {
    "duration": 13,
    "start_time": "2023-01-10T23:48:11.384Z"
   },
   {
    "duration": 54,
    "start_time": "2023-01-10T23:48:12.405Z"
   },
   {
    "duration": 17,
    "start_time": "2023-01-10T23:48:13.208Z"
   },
   {
    "duration": 28,
    "start_time": "2023-01-10T23:48:15.956Z"
   },
   {
    "duration": 19,
    "start_time": "2023-01-10T23:48:16.452Z"
   },
   {
    "duration": 10,
    "start_time": "2023-01-10T23:48:17.907Z"
   },
   {
    "duration": 86852,
    "start_time": "2023-01-10T23:48:20.255Z"
   },
   {
    "duration": 4217,
    "start_time": "2023-01-10T23:50:53.336Z"
   },
   {
    "duration": 80853,
    "start_time": "2023-01-10T23:51:08.783Z"
   },
   {
    "duration": 89748,
    "start_time": "2023-01-10T23:54:49.136Z"
   },
   {
    "duration": 88960,
    "start_time": "2023-01-10T23:58:11.731Z"
   },
   {
    "duration": 620,
    "start_time": "2023-01-10T23:59:47.515Z"
   },
   {
    "duration": 129724,
    "start_time": "2023-01-11T00:00:09.829Z"
   },
   {
    "duration": 2,
    "start_time": "2023-01-11T00:03:34.514Z"
   },
   {
    "duration": 10,
    "start_time": "2023-01-11T00:06:14.816Z"
   },
   {
    "duration": 51268,
    "start_time": "2023-01-11T00:06:43.153Z"
   },
   {
    "duration": 92,
    "start_time": "2023-01-11T00:07:57.294Z"
   },
   {
    "duration": 7353,
    "start_time": "2023-01-11T00:08:02.606Z"
   },
   {
    "duration": 17,
    "start_time": "2023-01-11T00:09:34.503Z"
   },
   {
    "duration": 1850,
    "start_time": "2023-01-11T00:09:45.983Z"
   },
   {
    "duration": 1434,
    "start_time": "2023-01-11T00:09:47.835Z"
   },
   {
    "duration": 97,
    "start_time": "2023-01-11T00:09:49.271Z"
   },
   {
    "duration": 11,
    "start_time": "2023-01-11T00:09:49.370Z"
   },
   {
    "duration": 16,
    "start_time": "2023-01-11T00:09:49.383Z"
   },
   {
    "duration": 6,
    "start_time": "2023-01-11T00:09:49.401Z"
   },
   {
    "duration": 19,
    "start_time": "2023-01-11T00:09:49.408Z"
   },
   {
    "duration": 6,
    "start_time": "2023-01-11T00:09:49.445Z"
   },
   {
    "duration": 6,
    "start_time": "2023-01-11T00:09:49.645Z"
   },
   {
    "duration": 6,
    "start_time": "2023-01-11T00:09:49.845Z"
   },
   {
    "duration": 9,
    "start_time": "2023-01-11T00:09:50.041Z"
   },
   {
    "duration": 594,
    "start_time": "2023-01-11T00:09:50.244Z"
   },
   {
    "duration": 13,
    "start_time": "2023-01-11T00:09:50.840Z"
   },
   {
    "duration": 7401,
    "start_time": "2023-01-11T00:09:51.018Z"
   },
   {
    "duration": 88,
    "start_time": "2023-01-11T00:09:58.421Z"
   },
   {
    "duration": 11,
    "start_time": "2023-01-11T00:09:58.510Z"
   },
   {
    "duration": 11,
    "start_time": "2023-01-11T00:09:58.523Z"
   },
   {
    "duration": 5,
    "start_time": "2023-01-11T00:09:58.536Z"
   },
   {
    "duration": 7,
    "start_time": "2023-01-11T00:09:58.542Z"
   },
   {
    "duration": 10,
    "start_time": "2023-01-11T00:09:58.551Z"
   },
   {
    "duration": 8,
    "start_time": "2023-01-11T00:09:58.562Z"
   },
   {
    "duration": 9,
    "start_time": "2023-01-11T00:09:58.571Z"
   },
   {
    "duration": 9,
    "start_time": "2023-01-11T00:09:58.582Z"
   },
   {
    "duration": 103,
    "start_time": "2023-01-11T00:09:58.592Z"
   },
   {
    "duration": 708,
    "start_time": "2023-01-11T00:09:58.696Z"
   },
   {
    "duration": 62,
    "start_time": "2023-01-11T00:09:59.405Z"
   },
   {
    "duration": 11,
    "start_time": "2023-01-11T00:09:59.468Z"
   },
   {
    "duration": 17,
    "start_time": "2023-01-11T00:09:59.481Z"
   },
   {
    "duration": 13,
    "start_time": "2023-01-11T00:09:59.499Z"
   },
   {
    "duration": 20,
    "start_time": "2023-01-11T00:09:59.513Z"
   },
   {
    "duration": 17,
    "start_time": "2023-01-11T00:09:59.534Z"
   },
   {
    "duration": 9,
    "start_time": "2023-01-11T00:09:59.553Z"
   },
   {
    "duration": 371,
    "start_time": "2023-01-11T00:09:59.564Z"
   },
   {
    "duration": 88,
    "start_time": "2023-01-11T00:09:59.937Z"
   },
   {
    "duration": 10,
    "start_time": "2023-01-11T00:10:00.027Z"
   },
   {
    "duration": 17,
    "start_time": "2023-01-11T00:10:00.038Z"
   },
   {
    "duration": 19,
    "start_time": "2023-01-11T00:10:00.057Z"
   },
   {
    "duration": 11,
    "start_time": "2023-01-11T00:10:03.192Z"
   },
   {
    "duration": 21,
    "start_time": "2023-01-11T00:10:03.408Z"
   },
   {
    "duration": 6,
    "start_time": "2023-01-11T00:10:03.654Z"
   },
   {
    "duration": 8,
    "start_time": "2023-01-11T00:10:04.071Z"
   },
   {
    "duration": 6,
    "start_time": "2023-01-11T00:10:04.319Z"
   },
   {
    "duration": 7,
    "start_time": "2023-01-11T00:10:04.544Z"
   },
   {
    "duration": 10,
    "start_time": "2023-01-11T00:10:04.748Z"
   },
   {
    "duration": 55,
    "start_time": "2023-01-11T00:10:05.300Z"
   },
   {
    "duration": 10,
    "start_time": "2023-01-11T00:10:06.434Z"
   },
   {
    "duration": 4,
    "start_time": "2023-01-11T00:10:06.985Z"
   },
   {
    "duration": 11,
    "start_time": "2023-01-11T00:10:07.249Z"
   },
   {
    "duration": 13,
    "start_time": "2023-01-11T00:10:07.739Z"
   },
   {
    "duration": 13,
    "start_time": "2023-01-11T00:10:08.155Z"
   },
   {
    "duration": 24,
    "start_time": "2023-01-11T00:10:08.352Z"
   },
   {
    "duration": 7,
    "start_time": "2023-01-11T00:10:08.587Z"
   },
   {
    "duration": 8,
    "start_time": "2023-01-11T00:10:09.622Z"
   },
   {
    "duration": 17,
    "start_time": "2023-01-11T00:10:10.014Z"
   },
   {
    "duration": 5,
    "start_time": "2023-01-11T00:10:10.246Z"
   },
   {
    "duration": 7,
    "start_time": "2023-01-11T00:10:10.686Z"
   },
   {
    "duration": 10,
    "start_time": "2023-01-11T00:10:11.270Z"
   },
   {
    "duration": 5,
    "start_time": "2023-01-11T00:10:11.802Z"
   },
   {
    "duration": 23,
    "start_time": "2023-01-11T00:10:12.674Z"
   },
   {
    "duration": 23,
    "start_time": "2023-01-11T00:10:12.941Z"
   },
   {
    "duration": 26,
    "start_time": "2023-01-11T00:10:13.307Z"
   },
   {
    "duration": 18,
    "start_time": "2023-01-11T00:10:13.697Z"
   },
   {
    "duration": 9,
    "start_time": "2023-01-11T00:10:14.114Z"
   },
   {
    "duration": 17,
    "start_time": "2023-01-11T00:10:14.549Z"
   },
   {
    "duration": 27,
    "start_time": "2023-01-11T00:10:17.077Z"
   },
   {
    "duration": 14,
    "start_time": "2023-01-11T00:10:17.595Z"
   },
   {
    "duration": 1252,
    "start_time": "2023-01-11T00:10:19.166Z"
   },
   {
    "duration": 2,
    "start_time": "2023-01-11T00:10:31.891Z"
   },
   {
    "duration": 22,
    "start_time": "2023-01-11T00:10:33.107Z"
   },
   {
    "duration": 110,
    "start_time": "2023-01-11T00:10:34.748Z"
   },
   {
    "duration": 8,
    "start_time": "2023-01-11T00:10:36.844Z"
   },
   {
    "duration": 11,
    "start_time": "2023-01-11T00:10:37.069Z"
   },
   {
    "duration": 3,
    "start_time": "2023-01-11T00:10:37.287Z"
   },
   {
    "duration": 19,
    "start_time": "2023-01-11T00:10:37.858Z"
   },
   {
    "duration": 15,
    "start_time": "2023-01-11T00:10:38.190Z"
   },
   {
    "duration": 9,
    "start_time": "2023-01-11T00:10:39.049Z"
   },
   {
    "duration": 42,
    "start_time": "2023-01-11T00:10:39.758Z"
   },
   {
    "duration": 16,
    "start_time": "2023-01-11T00:10:40.373Z"
   },
   {
    "duration": 15,
    "start_time": "2023-01-11T00:10:40.920Z"
   },
   {
    "duration": 13,
    "start_time": "2023-01-11T00:12:12.646Z"
   },
   {
    "duration": 42,
    "start_time": "2023-01-11T00:12:14.736Z"
   },
   {
    "duration": 17,
    "start_time": "2023-01-11T00:12:15.375Z"
   },
   {
    "duration": 31,
    "start_time": "2023-01-11T00:12:20.059Z"
   },
   {
    "duration": 23,
    "start_time": "2023-01-11T00:12:20.779Z"
   },
   {
    "duration": 12,
    "start_time": "2023-01-11T00:12:21.398Z"
   },
   {
    "duration": 80081,
    "start_time": "2023-01-11T00:12:22.436Z"
   },
   {
    "duration": 3113,
    "start_time": "2023-01-11T00:13:48.046Z"
   },
   {
    "duration": 69687,
    "start_time": "2023-01-11T00:13:55.149Z"
   },
   {
    "duration": 124839,
    "start_time": "2023-01-11T00:15:44.014Z"
   },
   {
    "duration": 2,
    "start_time": "2023-01-11T00:17:55.462Z"
   },
   {
    "duration": 37207,
    "start_time": "2023-01-11T00:17:55.970Z"
   },
   {
    "duration": 6767,
    "start_time": "2023-01-11T00:18:42.803Z"
   },
   {
    "duration": 170842,
    "start_time": "2023-01-11T00:21:14.968Z"
   },
   {
    "duration": 256301,
    "start_time": "2023-01-11T00:24:53.352Z"
   },
   {
    "duration": 3,
    "start_time": "2023-01-11T00:29:18.203Z"
   },
   {
    "duration": 22923,
    "start_time": "2023-01-11T00:29:19.450Z"
   },
   {
    "duration": 7289,
    "start_time": "2023-01-11T00:29:48.868Z"
   },
   {
    "duration": 375721,
    "start_time": "2023-01-11T00:30:37.852Z"
   },
   {
    "duration": 2870,
    "start_time": "2023-01-11T12:45:02.172Z"
   },
   {
    "duration": 1732,
    "start_time": "2023-01-11T12:45:05.044Z"
   },
   {
    "duration": 228,
    "start_time": "2023-01-11T12:45:08.695Z"
   },
   {
    "duration": 12,
    "start_time": "2023-01-11T12:45:10.631Z"
   },
   {
    "duration": 9,
    "start_time": "2023-01-11T12:45:11.218Z"
   },
   {
    "duration": 6,
    "start_time": "2023-01-11T12:45:11.843Z"
   },
   {
    "duration": 6,
    "start_time": "2023-01-11T12:45:12.329Z"
   },
   {
    "duration": 6,
    "start_time": "2023-01-11T12:45:12.816Z"
   },
   {
    "duration": 5,
    "start_time": "2023-01-11T12:45:13.157Z"
   },
   {
    "duration": 5,
    "start_time": "2023-01-11T12:45:13.617Z"
   },
   {
    "duration": 9,
    "start_time": "2023-01-11T12:45:19.347Z"
   },
   {
    "duration": 566,
    "start_time": "2023-01-11T12:45:20.057Z"
   },
   {
    "duration": 9,
    "start_time": "2023-01-11T12:45:35.176Z"
   },
   {
    "duration": 7387,
    "start_time": "2023-01-11T12:45:36.953Z"
   },
   {
    "duration": 165,
    "start_time": "2023-01-11T12:45:44.342Z"
   },
   {
    "duration": 10,
    "start_time": "2023-01-11T12:45:46.169Z"
   },
   {
    "duration": 8,
    "start_time": "2023-01-11T12:45:46.681Z"
   },
   {
    "duration": 6,
    "start_time": "2023-01-11T12:45:47.096Z"
   },
   {
    "duration": 6,
    "start_time": "2023-01-11T12:45:47.550Z"
   },
   {
    "duration": 6,
    "start_time": "2023-01-11T12:45:47.912Z"
   },
   {
    "duration": 5,
    "start_time": "2023-01-11T12:45:48.172Z"
   },
   {
    "duration": 5,
    "start_time": "2023-01-11T12:45:48.397Z"
   },
   {
    "duration": 5,
    "start_time": "2023-01-11T12:45:48.564Z"
   },
   {
    "duration": 5,
    "start_time": "2023-01-11T12:45:48.758Z"
   },
   {
    "duration": 669,
    "start_time": "2023-01-11T12:45:48.939Z"
   },
   {
    "duration": 116,
    "start_time": "2023-01-11T12:45:51.570Z"
   },
   {
    "duration": 11,
    "start_time": "2023-01-11T12:45:51.763Z"
   },
   {
    "duration": 7,
    "start_time": "2023-01-11T12:45:52.149Z"
   },
   {
    "duration": 5,
    "start_time": "2023-01-11T12:45:52.539Z"
   },
   {
    "duration": 5,
    "start_time": "2023-01-11T12:45:53.161Z"
   },
   {
    "duration": 5,
    "start_time": "2023-01-11T12:45:54.002Z"
   },
   {
    "duration": 5,
    "start_time": "2023-01-11T12:45:54.483Z"
   },
   {
    "duration": 340,
    "start_time": "2023-01-11T12:45:54.673Z"
   },
   {
    "duration": 132,
    "start_time": "2023-01-11T12:45:57.372Z"
   },
   {
    "duration": 10,
    "start_time": "2023-01-11T12:45:57.716Z"
   },
   {
    "duration": 6,
    "start_time": "2023-01-11T12:45:58.143Z"
   },
   {
    "duration": 5,
    "start_time": "2023-01-11T12:45:58.578Z"
   },
   {
    "duration": 1855,
    "start_time": "2023-01-11T12:49:12.734Z"
   },
   {
    "duration": 1333,
    "start_time": "2023-01-11T12:49:14.591Z"
   },
   {
    "duration": 95,
    "start_time": "2023-01-11T12:49:16.457Z"
   },
   {
    "duration": 12,
    "start_time": "2023-01-11T12:49:16.823Z"
   },
   {
    "duration": 10,
    "start_time": "2023-01-11T12:49:17.004Z"
   },
   {
    "duration": 6,
    "start_time": "2023-01-11T12:49:17.182Z"
   },
   {
    "duration": 6,
    "start_time": "2023-01-11T12:49:17.417Z"
   },
   {
    "duration": 6,
    "start_time": "2023-01-11T12:49:17.597Z"
   },
   {
    "duration": 6,
    "start_time": "2023-01-11T12:49:17.782Z"
   },
   {
    "duration": 6,
    "start_time": "2023-01-11T12:49:17.966Z"
   },
   {
    "duration": 8,
    "start_time": "2023-01-11T12:49:18.174Z"
   },
   {
    "duration": 568,
    "start_time": "2023-01-11T12:49:18.376Z"
   },
   {
    "duration": 9,
    "start_time": "2023-01-11T12:49:18.945Z"
   },
   {
    "duration": 7353,
    "start_time": "2023-01-11T12:49:18.955Z"
   },
   {
    "duration": 92,
    "start_time": "2023-01-11T12:49:26.310Z"
   },
   {
    "duration": 12,
    "start_time": "2023-01-11T12:49:26.404Z"
   },
   {
    "duration": 9,
    "start_time": "2023-01-11T12:49:26.417Z"
   },
   {
    "duration": 6,
    "start_time": "2023-01-11T12:49:26.427Z"
   },
   {
    "duration": 7,
    "start_time": "2023-01-11T12:49:26.435Z"
   },
   {
    "duration": 9,
    "start_time": "2023-01-11T12:49:26.443Z"
   },
   {
    "duration": 7,
    "start_time": "2023-01-11T12:49:26.453Z"
   },
   {
    "duration": 9,
    "start_time": "2023-01-11T12:49:26.461Z"
   },
   {
    "duration": 105,
    "start_time": "2023-01-11T12:49:26.471Z"
   },
   {
    "duration": 9,
    "start_time": "2023-01-11T12:49:26.578Z"
   },
   {
    "duration": 698,
    "start_time": "2023-01-11T12:49:26.589Z"
   },
   {
    "duration": 74,
    "start_time": "2023-01-11T12:49:27.288Z"
   },
   {
    "duration": 11,
    "start_time": "2023-01-11T12:49:27.363Z"
   },
   {
    "duration": 10,
    "start_time": "2023-01-11T12:49:27.375Z"
   },
   {
    "duration": 5,
    "start_time": "2023-01-11T12:49:27.386Z"
   },
   {
    "duration": 7,
    "start_time": "2023-01-11T12:49:27.393Z"
   },
   {
    "duration": 7,
    "start_time": "2023-01-11T12:49:27.402Z"
   },
   {
    "duration": 8,
    "start_time": "2023-01-11T12:49:27.411Z"
   },
   {
    "duration": 365,
    "start_time": "2023-01-11T12:49:27.421Z"
   },
   {
    "duration": 82,
    "start_time": "2023-01-11T12:49:27.787Z"
   },
   {
    "duration": 9,
    "start_time": "2023-01-11T12:49:27.871Z"
   },
   {
    "duration": 11,
    "start_time": "2023-01-11T12:49:27.882Z"
   },
   {
    "duration": 17,
    "start_time": "2023-01-11T12:49:27.894Z"
   },
   {
    "duration": 17,
    "start_time": "2023-01-11T12:49:30.167Z"
   },
   {
    "duration": 36,
    "start_time": "2023-01-11T12:49:30.385Z"
   },
   {
    "duration": 9,
    "start_time": "2023-01-11T12:49:30.597Z"
   },
   {
    "duration": 10,
    "start_time": "2023-01-11T12:49:31.119Z"
   },
   {
    "duration": 6,
    "start_time": "2023-01-11T12:49:31.473Z"
   },
   {
    "duration": 5,
    "start_time": "2023-01-11T12:49:50.869Z"
   },
   {
    "duration": 10,
    "start_time": "2023-01-11T12:49:51.967Z"
   },
   {
    "duration": 53,
    "start_time": "2023-01-11T12:49:55.470Z"
   },
   {
    "duration": 8,
    "start_time": "2023-01-11T12:49:58.712Z"
   },
   {
    "duration": 5,
    "start_time": "2023-01-11T12:49:59.033Z"
   },
   {
    "duration": 12,
    "start_time": "2023-01-11T12:49:59.471Z"
   },
   {
    "duration": 12,
    "start_time": "2023-01-11T12:50:02.609Z"
   },
   {
    "duration": 10,
    "start_time": "2023-01-11T12:57:25.773Z"
   },
   {
    "duration": 28,
    "start_time": "2023-01-11T12:57:26.715Z"
   },
   {
    "duration": 7,
    "start_time": "2023-01-11T12:57:27.372Z"
   },
   {
    "duration": 7,
    "start_time": "2023-01-11T12:57:30.898Z"
   },
   {
    "duration": 23,
    "start_time": "2023-01-11T12:57:31.472Z"
   },
   {
    "duration": 5,
    "start_time": "2023-01-11T12:57:31.946Z"
   },
   {
    "duration": 6,
    "start_time": "2023-01-11T12:57:34.658Z"
   },
   {
    "duration": 10,
    "start_time": "2023-01-11T12:57:35.407Z"
   },
   {
    "duration": 5,
    "start_time": "2023-01-11T12:57:35.922Z"
   },
   {
    "duration": 22,
    "start_time": "2023-01-11T12:59:39.587Z"
   },
   {
    "duration": 24,
    "start_time": "2023-01-11T12:59:44.220Z"
   },
   {
    "duration": 25,
    "start_time": "2023-01-11T12:59:45.223Z"
   },
   {
    "duration": 17,
    "start_time": "2023-01-11T12:59:46.633Z"
   },
   {
    "duration": 5,
    "start_time": "2023-01-11T12:59:48.238Z"
   },
   {
    "duration": 16,
    "start_time": "2023-01-11T12:59:53.529Z"
   },
   {
    "duration": 25,
    "start_time": "2023-01-11T12:59:54.229Z"
   },
   {
    "duration": 14,
    "start_time": "2023-01-11T12:59:56.746Z"
   },
   {
    "duration": 7,
    "start_time": "2023-01-11T13:00:13.783Z"
   },
   {
    "duration": 26,
    "start_time": "2023-01-11T13:00:15.619Z"
   },
   {
    "duration": 105,
    "start_time": "2023-01-11T13:04:19.770Z"
   },
   {
    "duration": 8,
    "start_time": "2023-01-11T13:04:27.843Z"
   },
   {
    "duration": 10,
    "start_time": "2023-01-11T13:04:28.594Z"
   },
   {
    "duration": 3,
    "start_time": "2023-01-11T13:04:29.322Z"
   },
   {
    "duration": 18,
    "start_time": "2023-01-11T13:04:29.713Z"
   },
   {
    "duration": 14,
    "start_time": "2023-01-11T13:04:30.512Z"
   },
   {
    "duration": 9,
    "start_time": "2023-01-11T13:04:33.261Z"
   },
   {
    "duration": 41,
    "start_time": "2023-01-11T13:04:33.943Z"
   },
   {
    "duration": 16,
    "start_time": "2023-01-11T13:04:34.565Z"
   },
   {
    "duration": 14,
    "start_time": "2023-01-11T13:04:35.952Z"
   },
   {
    "duration": 42,
    "start_time": "2023-01-11T13:04:37.175Z"
   },
   {
    "duration": 19,
    "start_time": "2023-01-11T13:04:37.825Z"
   },
   {
    "duration": 29,
    "start_time": "2023-01-11T13:04:39.457Z"
   },
   {
    "duration": 19,
    "start_time": "2023-01-11T13:04:40.151Z"
   },
   {
    "duration": 11,
    "start_time": "2023-01-11T13:04:40.878Z"
   },
   {
    "duration": 13,
    "start_time": "2023-01-11T13:05:31.151Z"
   },
   {
    "duration": 40,
    "start_time": "2023-01-11T13:05:32.188Z"
   },
   {
    "duration": 16,
    "start_time": "2023-01-11T13:05:32.575Z"
   },
   {
    "duration": 10,
    "start_time": "2023-01-11T13:05:33.341Z"
   },
   {
    "duration": 25,
    "start_time": "2023-01-11T13:05:33.831Z"
   },
   {
    "duration": 10,
    "start_time": "2023-01-11T13:05:34.290Z"
   },
   {
    "duration": 89659,
    "start_time": "2023-01-11T13:05:35.574Z"
   },
   {
    "duration": 4217,
    "start_time": "2023-01-11T13:07:38.110Z"
   },
   {
    "duration": 136286,
    "start_time": "2023-01-11T13:08:31.644Z"
   },
   {
    "duration": 3141,
    "start_time": "2023-01-11T13:20:37.930Z"
   },
   {
    "duration": 1572,
    "start_time": "2023-01-11T13:20:41.074Z"
   },
   {
    "duration": 137,
    "start_time": "2023-01-11T13:20:42.648Z"
   },
   {
    "duration": 18,
    "start_time": "2023-01-11T13:20:42.788Z"
   },
   {
    "duration": 38,
    "start_time": "2023-01-11T13:20:42.807Z"
   },
   {
    "duration": 7,
    "start_time": "2023-01-11T13:20:42.846Z"
   },
   {
    "duration": 11,
    "start_time": "2023-01-11T13:20:42.855Z"
   },
   {
    "duration": 10,
    "start_time": "2023-01-11T13:20:42.867Z"
   },
   {
    "duration": 9,
    "start_time": "2023-01-11T13:20:42.878Z"
   },
   {
    "duration": 22,
    "start_time": "2023-01-11T13:20:42.889Z"
   },
   {
    "duration": 18,
    "start_time": "2023-01-11T13:20:42.913Z"
   },
   {
    "duration": 592,
    "start_time": "2023-01-11T13:20:42.933Z"
   },
   {
    "duration": 9,
    "start_time": "2023-01-11T13:20:43.526Z"
   },
   {
    "duration": 7577,
    "start_time": "2023-01-11T13:20:43.536Z"
   },
   {
    "duration": 113,
    "start_time": "2023-01-11T13:20:51.117Z"
   },
   {
    "duration": 10,
    "start_time": "2023-01-11T13:20:51.232Z"
   },
   {
    "duration": 33,
    "start_time": "2023-01-11T13:20:51.244Z"
   },
   {
    "duration": 48,
    "start_time": "2023-01-11T13:20:51.279Z"
   },
   {
    "duration": 25,
    "start_time": "2023-01-11T13:20:51.328Z"
   },
   {
    "duration": 16,
    "start_time": "2023-01-11T13:20:51.355Z"
   },
   {
    "duration": 41,
    "start_time": "2023-01-11T13:20:51.372Z"
   },
   {
    "duration": 24,
    "start_time": "2023-01-11T13:20:51.415Z"
   },
   {
    "duration": 116,
    "start_time": "2023-01-11T13:20:51.440Z"
   },
   {
    "duration": 15,
    "start_time": "2023-01-11T13:20:51.558Z"
   },
   {
    "duration": 703,
    "start_time": "2023-01-11T13:20:51.574Z"
   },
   {
    "duration": 230,
    "start_time": "2023-01-11T13:20:52.279Z"
   },
   {
    "duration": 11,
    "start_time": "2023-01-11T13:20:52.513Z"
   },
   {
    "duration": 12,
    "start_time": "2023-01-11T13:20:52.526Z"
   },
   {
    "duration": 21,
    "start_time": "2023-01-11T13:20:52.540Z"
   },
   {
    "duration": 13,
    "start_time": "2023-01-11T13:20:52.562Z"
   },
   {
    "duration": 12,
    "start_time": "2023-01-11T13:20:52.576Z"
   },
   {
    "duration": 23,
    "start_time": "2023-01-11T13:20:52.590Z"
   },
   {
    "duration": 374,
    "start_time": "2023-01-11T13:20:52.614Z"
   },
   {
    "duration": 144,
    "start_time": "2023-01-11T13:20:52.997Z"
   },
   {
    "duration": 10,
    "start_time": "2023-01-11T13:20:53.142Z"
   },
   {
    "duration": 34,
    "start_time": "2023-01-11T13:20:53.153Z"
   },
   {
    "duration": 31,
    "start_time": "2023-01-11T13:20:53.188Z"
   },
   {
    "duration": 33,
    "start_time": "2023-01-11T13:20:53.222Z"
   },
   {
    "duration": 34,
    "start_time": "2023-01-11T13:20:53.257Z"
   },
   {
    "duration": 6,
    "start_time": "2023-01-11T13:20:53.453Z"
   },
   {
    "duration": 9,
    "start_time": "2023-01-11T13:20:53.906Z"
   },
   {
    "duration": 6,
    "start_time": "2023-01-11T13:20:54.124Z"
   },
   {
    "duration": 4,
    "start_time": "2023-01-11T13:20:54.319Z"
   },
   {
    "duration": 8,
    "start_time": "2023-01-11T13:20:54.544Z"
   },
   {
    "duration": 68,
    "start_time": "2023-01-11T13:20:54.996Z"
   },
   {
    "duration": 9,
    "start_time": "2023-01-11T13:20:55.623Z"
   },
   {
    "duration": 5,
    "start_time": "2023-01-11T13:20:55.825Z"
   },
   {
    "duration": 11,
    "start_time": "2023-01-11T13:20:56.072Z"
   },
   {
    "duration": 12,
    "start_time": "2023-01-11T13:20:56.513Z"
   },
   {
    "duration": 17,
    "start_time": "2023-01-11T13:20:57.394Z"
   },
   {
    "duration": 24,
    "start_time": "2023-01-11T13:20:57.622Z"
   },
   {
    "duration": 7,
    "start_time": "2023-01-11T13:20:57.847Z"
   },
   {
    "duration": 8,
    "start_time": "2023-01-11T13:20:58.719Z"
   },
   {
    "duration": 25,
    "start_time": "2023-01-11T13:20:58.941Z"
   },
   {
    "duration": 7,
    "start_time": "2023-01-11T13:20:59.142Z"
   },
   {
    "duration": 7,
    "start_time": "2023-01-11T13:21:00.520Z"
   },
   {
    "duration": 11,
    "start_time": "2023-01-11T13:21:00.724Z"
   },
   {
    "duration": 6,
    "start_time": "2023-01-11T13:21:00.915Z"
   },
   {
    "duration": 26,
    "start_time": "2023-01-11T13:21:01.889Z"
   },
   {
    "duration": 20,
    "start_time": "2023-01-11T13:21:02.122Z"
   },
   {
    "duration": 26,
    "start_time": "2023-01-11T13:21:02.328Z"
   },
   {
    "duration": 17,
    "start_time": "2023-01-11T13:21:02.511Z"
   },
   {
    "duration": 7,
    "start_time": "2023-01-11T13:21:02.711Z"
   },
   {
    "duration": 16,
    "start_time": "2023-01-11T13:21:02.915Z"
   },
   {
    "duration": 39,
    "start_time": "2023-01-11T13:21:03.123Z"
   },
   {
    "duration": 13,
    "start_time": "2023-01-11T13:21:03.335Z"
   },
   {
    "duration": 6,
    "start_time": "2023-01-11T13:21:03.524Z"
   },
   {
    "duration": 22,
    "start_time": "2023-01-11T13:21:03.951Z"
   },
   {
    "duration": 132,
    "start_time": "2023-01-11T13:21:04.977Z"
   },
   {
    "duration": 8,
    "start_time": "2023-01-11T13:21:05.626Z"
   },
   {
    "duration": 11,
    "start_time": "2023-01-11T13:21:05.841Z"
   },
   {
    "duration": 4,
    "start_time": "2023-01-11T13:21:06.051Z"
   },
   {
    "duration": 18,
    "start_time": "2023-01-11T13:21:06.267Z"
   },
   {
    "duration": 18,
    "start_time": "2023-01-11T13:21:06.476Z"
   },
   {
    "duration": 13,
    "start_time": "2023-01-11T13:21:06.679Z"
   },
   {
    "duration": 8,
    "start_time": "2023-01-11T13:21:07.361Z"
   },
   {
    "duration": 43,
    "start_time": "2023-01-11T13:21:07.710Z"
   },
   {
    "duration": 21,
    "start_time": "2023-01-11T13:21:08.011Z"
   },
   {
    "duration": 14,
    "start_time": "2023-01-11T13:21:08.417Z"
   },
   {
    "duration": 41,
    "start_time": "2023-01-11T13:21:09.038Z"
   },
   {
    "duration": 17,
    "start_time": "2023-01-11T13:21:09.410Z"
   },
   {
    "duration": 34,
    "start_time": "2023-01-11T13:21:09.956Z"
   },
   {
    "duration": 21,
    "start_time": "2023-01-11T13:21:10.311Z"
   },
   {
    "duration": 10,
    "start_time": "2023-01-11T13:21:10.658Z"
   },
   {
    "duration": 94519,
    "start_time": "2023-01-11T13:21:11.393Z"
   },
   {
    "duration": 13084,
    "start_time": "2023-01-11T13:22:45.914Z"
   },
   {
    "duration": 141280,
    "start_time": "2023-01-11T13:22:59.000Z"
   },
   {
    "duration": 2193,
    "start_time": "2023-01-11T13:39:10.554Z"
   },
   {
    "duration": 1475,
    "start_time": "2023-01-11T13:39:12.749Z"
   },
   {
    "duration": 137,
    "start_time": "2023-01-11T13:39:14.226Z"
   },
   {
    "duration": 12,
    "start_time": "2023-01-11T13:39:14.365Z"
   },
   {
    "duration": 19,
    "start_time": "2023-01-11T13:39:14.400Z"
   },
   {
    "duration": 8,
    "start_time": "2023-01-11T13:39:14.589Z"
   },
   {
    "duration": 6,
    "start_time": "2023-01-11T13:39:14.775Z"
   },
   {
    "duration": 7,
    "start_time": "2023-01-11T13:39:14.982Z"
   },
   {
    "duration": 5,
    "start_time": "2023-01-11T13:39:15.141Z"
   },
   {
    "duration": 5,
    "start_time": "2023-01-11T13:39:15.363Z"
   },
   {
    "duration": 8,
    "start_time": "2023-01-11T13:39:15.559Z"
   },
   {
    "duration": 629,
    "start_time": "2023-01-11T13:39:15.740Z"
   },
   {
    "duration": 10,
    "start_time": "2023-01-11T13:39:16.371Z"
   },
   {
    "duration": 8100,
    "start_time": "2023-01-11T13:39:16.382Z"
   },
   {
    "duration": 89,
    "start_time": "2023-01-11T13:39:24.485Z"
   },
   {
    "duration": 11,
    "start_time": "2023-01-11T13:39:24.575Z"
   },
   {
    "duration": 24,
    "start_time": "2023-01-11T13:39:24.587Z"
   },
   {
    "duration": 10,
    "start_time": "2023-01-11T13:39:24.613Z"
   },
   {
    "duration": 8,
    "start_time": "2023-01-11T13:39:24.625Z"
   },
   {
    "duration": 13,
    "start_time": "2023-01-11T13:39:24.635Z"
   },
   {
    "duration": 13,
    "start_time": "2023-01-11T13:39:24.649Z"
   },
   {
    "duration": 8,
    "start_time": "2023-01-11T13:39:24.663Z"
   },
   {
    "duration": 85,
    "start_time": "2023-01-11T13:39:24.673Z"
   },
   {
    "duration": 16,
    "start_time": "2023-01-11T13:39:24.760Z"
   },
   {
    "duration": 795,
    "start_time": "2023-01-11T13:39:24.777Z"
   },
   {
    "duration": 79,
    "start_time": "2023-01-11T13:39:25.574Z"
   },
   {
    "duration": 11,
    "start_time": "2023-01-11T13:39:25.655Z"
   },
   {
    "duration": 17,
    "start_time": "2023-01-11T13:39:25.668Z"
   },
   {
    "duration": 9,
    "start_time": "2023-01-11T13:39:25.686Z"
   },
   {
    "duration": 24,
    "start_time": "2023-01-11T13:39:25.697Z"
   },
   {
    "duration": 7,
    "start_time": "2023-01-11T13:39:25.724Z"
   },
   {
    "duration": 7,
    "start_time": "2023-01-11T13:39:25.732Z"
   },
   {
    "duration": 381,
    "start_time": "2023-01-11T13:39:25.741Z"
   },
   {
    "duration": 54,
    "start_time": "2023-01-11T13:39:26.123Z"
   },
   {
    "duration": 10,
    "start_time": "2023-01-11T13:39:26.179Z"
   },
   {
    "duration": 29,
    "start_time": "2023-01-11T13:39:26.190Z"
   },
   {
    "duration": 7,
    "start_time": "2023-01-11T13:39:26.221Z"
   },
   {
    "duration": 11,
    "start_time": "2023-01-11T13:39:27.712Z"
   },
   {
    "duration": 27,
    "start_time": "2023-01-11T13:39:27.938Z"
   },
   {
    "duration": 6,
    "start_time": "2023-01-11T13:39:28.140Z"
   },
   {
    "duration": 11,
    "start_time": "2023-01-11T13:39:28.615Z"
   },
   {
    "duration": 7,
    "start_time": "2023-01-11T13:39:28.962Z"
   },
   {
    "duration": 6,
    "start_time": "2023-01-11T13:39:29.175Z"
   },
   {
    "duration": 10,
    "start_time": "2023-01-11T13:39:29.385Z"
   },
   {
    "duration": 81,
    "start_time": "2023-01-11T13:39:29.877Z"
   },
   {
    "duration": 21,
    "start_time": "2023-01-11T13:39:31.696Z"
   },
   {
    "duration": 6,
    "start_time": "2023-01-11T13:39:31.916Z"
   },
   {
    "duration": 14,
    "start_time": "2023-01-11T13:39:32.121Z"
   },
   {
    "duration": 13,
    "start_time": "2023-01-11T13:39:32.528Z"
   },
   {
    "duration": 11,
    "start_time": "2023-01-11T13:39:33.315Z"
   },
   {
    "duration": 39,
    "start_time": "2023-01-11T13:39:33.519Z"
   },
   {
    "duration": 26,
    "start_time": "2023-01-11T13:39:34.192Z"
   },
   {
    "duration": 11,
    "start_time": "2023-01-11T13:39:34.969Z"
   },
   {
    "duration": 23,
    "start_time": "2023-01-11T13:39:35.169Z"
   },
   {
    "duration": 15,
    "start_time": "2023-01-11T13:39:35.351Z"
   },
   {
    "duration": 9,
    "start_time": "2023-01-11T13:39:36.174Z"
   },
   {
    "duration": 12,
    "start_time": "2023-01-11T13:39:36.351Z"
   },
   {
    "duration": 5,
    "start_time": "2023-01-11T13:39:36.545Z"
   },
   {
    "duration": 36,
    "start_time": "2023-01-11T13:39:37.422Z"
   },
   {
    "duration": 33,
    "start_time": "2023-01-11T13:39:37.622Z"
   },
   {
    "duration": 37,
    "start_time": "2023-01-11T13:39:37.823Z"
   },
   {
    "duration": 20,
    "start_time": "2023-01-11T13:39:38.044Z"
   },
   {
    "duration": 6,
    "start_time": "2023-01-11T13:39:38.269Z"
   },
   {
    "duration": 17,
    "start_time": "2023-01-11T13:39:38.467Z"
   },
   {
    "duration": 38,
    "start_time": "2023-01-11T13:39:38.692Z"
   },
   {
    "duration": 15,
    "start_time": "2023-01-11T13:39:38.915Z"
   },
   {
    "duration": 8,
    "start_time": "2023-01-11T13:39:39.086Z"
   },
   {
    "duration": 36,
    "start_time": "2023-01-11T13:39:39.465Z"
   },
   {
    "duration": 104,
    "start_time": "2023-01-11T13:39:40.483Z"
   },
   {
    "duration": 9,
    "start_time": "2023-01-11T13:39:41.676Z"
   },
   {
    "duration": 26,
    "start_time": "2023-01-11T13:39:41.688Z"
   },
   {
    "duration": 11,
    "start_time": "2023-01-11T13:39:41.716Z"
   },
   {
    "duration": 29,
    "start_time": "2023-01-11T13:39:41.785Z"
   },
   {
    "duration": 31,
    "start_time": "2023-01-11T13:39:41.986Z"
   },
   {
    "duration": 8,
    "start_time": "2023-01-11T13:39:42.625Z"
   },
   {
    "duration": 49,
    "start_time": "2023-01-11T13:39:42.964Z"
   },
   {
    "duration": 22,
    "start_time": "2023-01-11T13:39:43.339Z"
   },
   {
    "duration": 18,
    "start_time": "2023-01-11T13:39:43.986Z"
   },
   {
    "duration": 71,
    "start_time": "2023-01-11T13:39:44.405Z"
   },
   {
    "duration": 30,
    "start_time": "2023-01-11T13:39:44.675Z"
   },
   {
    "duration": 42,
    "start_time": "2023-01-11T13:39:45.927Z"
   },
   {
    "duration": 21,
    "start_time": "2023-01-11T13:39:46.358Z"
   },
   {
    "duration": 13,
    "start_time": "2023-01-11T13:39:46.846Z"
   },
   {
    "duration": 102464,
    "start_time": "2023-01-11T13:39:47.915Z"
   },
   {
    "duration": 16150,
    "start_time": "2023-01-11T13:41:34.772Z"
   },
   {
    "duration": 164244,
    "start_time": "2023-01-11T13:41:54.814Z"
   },
   {
    "duration": 2405,
    "start_time": "2023-01-11T13:50:51.766Z"
   },
   {
    "duration": 1562,
    "start_time": "2023-01-11T13:50:55.229Z"
   },
   {
    "duration": 109,
    "start_time": "2023-01-11T13:50:58.080Z"
   },
   {
    "duration": 13,
    "start_time": "2023-01-11T13:50:58.578Z"
   },
   {
    "duration": 11,
    "start_time": "2023-01-11T13:50:58.759Z"
   },
   {
    "duration": 7,
    "start_time": "2023-01-11T13:50:58.942Z"
   },
   {
    "duration": 6,
    "start_time": "2023-01-11T13:50:59.131Z"
   },
   {
    "duration": 10,
    "start_time": "2023-01-11T13:50:59.491Z"
   },
   {
    "duration": 5,
    "start_time": "2023-01-11T13:50:59.677Z"
   },
   {
    "duration": 6,
    "start_time": "2023-01-11T13:50:59.872Z"
   },
   {
    "duration": 9,
    "start_time": "2023-01-11T13:51:00.067Z"
   },
   {
    "duration": 660,
    "start_time": "2023-01-11T13:51:00.466Z"
   },
   {
    "duration": 8,
    "start_time": "2023-01-11T13:51:01.129Z"
   },
   {
    "duration": 8286,
    "start_time": "2023-01-11T13:51:01.388Z"
   },
   {
    "duration": 168,
    "start_time": "2023-01-11T13:51:09.676Z"
   },
   {
    "duration": 11,
    "start_time": "2023-01-11T13:51:09.845Z"
   },
   {
    "duration": 10,
    "start_time": "2023-01-11T13:51:09.858Z"
   },
   {
    "duration": 5,
    "start_time": "2023-01-11T13:51:09.869Z"
   },
   {
    "duration": 7,
    "start_time": "2023-01-11T13:51:09.875Z"
   },
   {
    "duration": 11,
    "start_time": "2023-01-11T13:51:09.883Z"
   },
   {
    "duration": 29,
    "start_time": "2023-01-11T13:51:09.895Z"
   },
   {
    "duration": 10,
    "start_time": "2023-01-11T13:51:09.926Z"
   },
   {
    "duration": 89,
    "start_time": "2023-01-11T13:51:09.940Z"
   },
   {
    "duration": 12,
    "start_time": "2023-01-11T13:51:10.031Z"
   },
   {
    "duration": 784,
    "start_time": "2023-01-11T13:51:10.045Z"
   },
   {
    "duration": 89,
    "start_time": "2023-01-11T13:51:10.831Z"
   },
   {
    "duration": 12,
    "start_time": "2023-01-11T13:51:10.923Z"
   },
   {
    "duration": 11,
    "start_time": "2023-01-11T13:51:10.937Z"
   },
   {
    "duration": 6,
    "start_time": "2023-01-11T13:51:10.950Z"
   },
   {
    "duration": 8,
    "start_time": "2023-01-11T13:51:10.957Z"
   },
   {
    "duration": 9,
    "start_time": "2023-01-11T13:51:10.966Z"
   },
   {
    "duration": 12,
    "start_time": "2023-01-11T13:51:10.976Z"
   },
   {
    "duration": 404,
    "start_time": "2023-01-11T13:51:11.017Z"
   },
   {
    "duration": 46,
    "start_time": "2023-01-11T13:51:11.423Z"
   },
   {
    "duration": 9,
    "start_time": "2023-01-11T13:51:11.471Z"
   },
   {
    "duration": 9,
    "start_time": "2023-01-11T13:51:11.482Z"
   },
   {
    "duration": 9,
    "start_time": "2023-01-11T13:51:11.493Z"
   },
   {
    "duration": 10,
    "start_time": "2023-01-11T13:51:13.665Z"
   },
   {
    "duration": 28,
    "start_time": "2023-01-11T13:51:13.888Z"
   },
   {
    "duration": 8,
    "start_time": "2023-01-11T13:51:14.119Z"
   },
   {
    "duration": 7,
    "start_time": "2023-01-11T13:51:14.586Z"
   },
   {
    "duration": 11,
    "start_time": "2023-01-11T13:51:14.796Z"
   },
   {
    "duration": 6,
    "start_time": "2023-01-11T13:51:14.993Z"
   },
   {
    "duration": 9,
    "start_time": "2023-01-11T13:51:15.222Z"
   },
   {
    "duration": 56,
    "start_time": "2023-01-11T13:51:15.622Z"
   },
   {
    "duration": 9,
    "start_time": "2023-01-11T13:51:16.277Z"
   },
   {
    "duration": 6,
    "start_time": "2023-01-11T13:51:16.502Z"
   },
   {
    "duration": 11,
    "start_time": "2023-01-11T13:51:16.724Z"
   },
   {
    "duration": 13,
    "start_time": "2023-01-11T13:51:17.172Z"
   },
   {
    "duration": 14,
    "start_time": "2023-01-11T13:51:18.591Z"
   },
   {
    "duration": 41,
    "start_time": "2023-01-11T13:51:18.791Z"
   },
   {
    "duration": 6,
    "start_time": "2023-01-11T13:51:18.968Z"
   },
   {
    "duration": 15,
    "start_time": "2023-01-11T13:51:19.798Z"
   },
   {
    "duration": 20,
    "start_time": "2023-01-11T13:51:19.981Z"
   },
   {
    "duration": 14,
    "start_time": "2023-01-11T13:51:20.197Z"
   },
   {
    "duration": 7,
    "start_time": "2023-01-11T13:51:20.967Z"
   },
   {
    "duration": 15,
    "start_time": "2023-01-11T13:51:21.189Z"
   },
   {
    "duration": 6,
    "start_time": "2023-01-11T13:51:21.419Z"
   },
   {
    "duration": 22,
    "start_time": "2023-01-11T13:51:22.238Z"
   },
   {
    "duration": 21,
    "start_time": "2023-01-11T13:51:22.436Z"
   },
   {
    "duration": 25,
    "start_time": "2023-01-11T13:51:22.653Z"
   },
   {
    "duration": 17,
    "start_time": "2023-01-11T13:51:22.877Z"
   },
   {
    "duration": 6,
    "start_time": "2023-01-11T13:51:23.124Z"
   },
   {
    "duration": 17,
    "start_time": "2023-01-11T13:51:23.371Z"
   },
   {
    "duration": 27,
    "start_time": "2023-01-11T13:51:23.631Z"
   },
   {
    "duration": 15,
    "start_time": "2023-01-11T13:51:24.021Z"
   },
   {
    "duration": 5,
    "start_time": "2023-01-11T13:51:24.262Z"
   },
   {
    "duration": 28,
    "start_time": "2023-01-11T13:51:24.847Z"
   },
   {
    "duration": 111,
    "start_time": "2023-01-11T13:51:26.751Z"
   },
   {
    "duration": 8,
    "start_time": "2023-01-11T13:51:27.787Z"
   },
   {
    "duration": 10,
    "start_time": "2023-01-11T13:51:28.521Z"
   },
   {
    "duration": 3,
    "start_time": "2023-01-11T13:51:28.947Z"
   },
   {
    "duration": 18,
    "start_time": "2023-01-11T13:51:29.227Z"
   },
   {
    "duration": 14,
    "start_time": "2023-01-11T13:51:29.434Z"
   },
   {
    "duration": 9,
    "start_time": "2023-01-11T13:51:30.126Z"
   },
   {
    "duration": 62,
    "start_time": "2023-01-11T13:51:30.595Z"
   },
   {
    "duration": 17,
    "start_time": "2023-01-11T13:51:31.224Z"
   },
   {
    "duration": 14,
    "start_time": "2023-01-11T13:51:32.288Z"
   },
   {
    "duration": 39,
    "start_time": "2023-01-11T13:51:33.121Z"
   },
   {
    "duration": 19,
    "start_time": "2023-01-11T13:51:33.522Z"
   },
   {
    "duration": 27,
    "start_time": "2023-01-11T13:51:34.456Z"
   },
   {
    "duration": 26,
    "start_time": "2023-01-11T13:51:34.891Z"
   },
   {
    "duration": 12,
    "start_time": "2023-01-11T13:51:35.362Z"
   },
   {
    "duration": 92837,
    "start_time": "2023-01-11T13:51:36.551Z"
   },
   {
    "duration": 8779,
    "start_time": "2023-01-11T13:54:48.327Z"
   },
   {
    "duration": 147835,
    "start_time": "2023-01-11T13:54:58.814Z"
   },
   {
    "duration": 21,
    "start_time": "2023-01-11T13:58:12.852Z"
   },
   {
    "duration": 2061,
    "start_time": "2023-01-11T13:58:29.085Z"
   },
   {
    "duration": 1340,
    "start_time": "2023-01-11T13:58:31.148Z"
   },
   {
    "duration": 116,
    "start_time": "2023-01-11T13:58:32.489Z"
   },
   {
    "duration": 14,
    "start_time": "2023-01-11T13:58:32.608Z"
   },
   {
    "duration": 15,
    "start_time": "2023-01-11T13:58:32.624Z"
   },
   {
    "duration": 7,
    "start_time": "2023-01-11T13:58:32.640Z"
   },
   {
    "duration": 14,
    "start_time": "2023-01-11T13:58:32.648Z"
   },
   {
    "duration": 9,
    "start_time": "2023-01-11T13:58:32.664Z"
   },
   {
    "duration": 12,
    "start_time": "2023-01-11T13:58:32.697Z"
   },
   {
    "duration": 11,
    "start_time": "2023-01-11T13:58:32.712Z"
   },
   {
    "duration": 35,
    "start_time": "2023-01-11T13:58:32.725Z"
   },
   {
    "duration": 613,
    "start_time": "2023-01-11T13:58:32.763Z"
   },
   {
    "duration": 9,
    "start_time": "2023-01-11T13:58:33.378Z"
   },
   {
    "duration": 7873,
    "start_time": "2023-01-11T13:58:33.397Z"
   },
   {
    "duration": 75,
    "start_time": "2023-01-11T13:58:41.273Z"
   },
   {
    "duration": 14,
    "start_time": "2023-01-11T13:58:41.351Z"
   },
   {
    "duration": 10,
    "start_time": "2023-01-11T13:58:41.367Z"
   },
   {
    "duration": 6,
    "start_time": "2023-01-11T13:58:41.379Z"
   },
   {
    "duration": 9,
    "start_time": "2023-01-11T13:58:41.387Z"
   },
   {
    "duration": 7,
    "start_time": "2023-01-11T13:58:41.397Z"
   },
   {
    "duration": 8,
    "start_time": "2023-01-11T13:58:41.406Z"
   },
   {
    "duration": 15,
    "start_time": "2023-01-11T13:58:41.416Z"
   },
   {
    "duration": 85,
    "start_time": "2023-01-11T13:58:41.433Z"
   },
   {
    "duration": 9,
    "start_time": "2023-01-11T13:58:41.520Z"
   },
   {
    "duration": 758,
    "start_time": "2023-01-11T13:58:41.531Z"
   },
   {
    "duration": 44,
    "start_time": "2023-01-11T13:58:42.290Z"
   },
   {
    "duration": 15,
    "start_time": "2023-01-11T13:58:42.336Z"
   },
   {
    "duration": 18,
    "start_time": "2023-01-11T13:58:42.353Z"
   },
   {
    "duration": 31,
    "start_time": "2023-01-11T13:58:42.373Z"
   },
   {
    "duration": 11,
    "start_time": "2023-01-11T13:58:42.405Z"
   },
   {
    "duration": 8,
    "start_time": "2023-01-11T13:58:42.418Z"
   },
   {
    "duration": 20,
    "start_time": "2023-01-11T13:58:42.428Z"
   },
   {
    "duration": 354,
    "start_time": "2023-01-11T13:58:42.450Z"
   },
   {
    "duration": 70,
    "start_time": "2023-01-11T13:58:42.805Z"
   },
   {
    "duration": 13,
    "start_time": "2023-01-11T13:58:42.877Z"
   },
   {
    "duration": 60,
    "start_time": "2023-01-11T13:58:42.891Z"
   },
   {
    "duration": 10,
    "start_time": "2023-01-11T13:58:42.953Z"
   },
   {
    "duration": 15,
    "start_time": "2023-01-11T13:58:43.960Z"
   },
   {
    "duration": 21,
    "start_time": "2023-01-11T13:58:44.142Z"
   },
   {
    "duration": 7,
    "start_time": "2023-01-11T13:58:44.363Z"
   },
   {
    "duration": 12,
    "start_time": "2023-01-11T13:58:44.811Z"
   },
   {
    "duration": 6,
    "start_time": "2023-01-11T13:58:45.033Z"
   },
   {
    "duration": 5,
    "start_time": "2023-01-11T13:58:45.273Z"
   },
   {
    "duration": 9,
    "start_time": "2023-01-11T13:58:45.483Z"
   },
   {
    "duration": 55,
    "start_time": "2023-01-11T13:58:45.921Z"
   },
   {
    "duration": 8,
    "start_time": "2023-01-11T13:58:46.578Z"
   },
   {
    "duration": 6,
    "start_time": "2023-01-11T13:58:46.786Z"
   },
   {
    "duration": 15,
    "start_time": "2023-01-11T13:58:46.992Z"
   },
   {
    "duration": 13,
    "start_time": "2023-01-11T13:58:47.747Z"
   },
   {
    "duration": 10,
    "start_time": "2023-01-11T13:58:48.641Z"
   },
   {
    "duration": 39,
    "start_time": "2023-01-11T13:58:48.835Z"
   },
   {
    "duration": 9,
    "start_time": "2023-01-11T13:58:49.041Z"
   },
   {
    "duration": 11,
    "start_time": "2023-01-11T13:58:49.961Z"
   },
   {
    "duration": 27,
    "start_time": "2023-01-11T13:58:50.213Z"
   },
   {
    "duration": 6,
    "start_time": "2023-01-11T13:58:50.498Z"
   },
   {
    "duration": 7,
    "start_time": "2023-01-11T13:58:51.348Z"
   },
   {
    "duration": 11,
    "start_time": "2023-01-11T13:58:53.549Z"
   },
   {
    "duration": 5,
    "start_time": "2023-01-11T13:58:53.731Z"
   },
   {
    "duration": 32,
    "start_time": "2023-01-11T13:58:54.787Z"
   },
   {
    "duration": 25,
    "start_time": "2023-01-11T13:58:54.963Z"
   },
   {
    "duration": 26,
    "start_time": "2023-01-11T13:58:55.131Z"
   },
   {
    "duration": 21,
    "start_time": "2023-01-11T13:58:55.327Z"
   },
   {
    "duration": 6,
    "start_time": "2023-01-11T13:58:55.542Z"
   },
   {
    "duration": 24,
    "start_time": "2023-01-11T13:58:55.719Z"
   },
   {
    "duration": 35,
    "start_time": "2023-01-11T13:58:55.913Z"
   },
   {
    "duration": 19,
    "start_time": "2023-01-11T13:58:56.270Z"
   },
   {
    "duration": 7,
    "start_time": "2023-01-11T13:58:56.547Z"
   },
   {
    "duration": 22,
    "start_time": "2023-01-11T13:58:56.909Z"
   },
   {
    "duration": 93,
    "start_time": "2023-01-11T13:58:58.491Z"
   },
   {
    "duration": 14,
    "start_time": "2023-01-11T13:58:59.049Z"
   },
   {
    "duration": 14,
    "start_time": "2023-01-11T13:58:59.283Z"
   },
   {
    "duration": 4,
    "start_time": "2023-01-11T13:59:00.984Z"
   },
   {
    "duration": 25,
    "start_time": "2023-01-11T13:59:01.729Z"
   },
   {
    "duration": 17,
    "start_time": "2023-01-11T13:59:04.447Z"
   },
   {
    "duration": 15,
    "start_time": "2023-01-11T13:59:30.150Z"
   },
   {
    "duration": 13,
    "start_time": "2023-01-11T14:00:01.526Z"
   },
   {
    "duration": 10,
    "start_time": "2023-01-11T14:00:04.918Z"
   },
   {
    "duration": 51,
    "start_time": "2023-01-11T14:00:05.084Z"
   },
   {
    "duration": 20,
    "start_time": "2023-01-11T14:00:05.920Z"
   },
   {
    "duration": 13,
    "start_time": "2023-01-11T14:00:07.172Z"
   },
   {
    "duration": 40,
    "start_time": "2023-01-11T14:00:09.954Z"
   },
   {
    "duration": 28,
    "start_time": "2023-01-11T14:00:10.597Z"
   },
   {
    "duration": 28,
    "start_time": "2023-01-11T14:00:15.140Z"
   },
   {
    "duration": 19,
    "start_time": "2023-01-11T14:00:16.016Z"
   },
   {
    "duration": 10,
    "start_time": "2023-01-11T14:00:36.808Z"
   },
   {
    "duration": 9,
    "start_time": "2023-01-11T14:00:59.030Z"
   },
   {
    "duration": 101563,
    "start_time": "2023-01-11T14:01:05.640Z"
   },
   {
    "duration": 8227,
    "start_time": "2023-01-11T14:03:45.100Z"
   },
   {
    "duration": 8339,
    "start_time": "2023-01-11T14:05:02.119Z"
   },
   {
    "duration": 143237,
    "start_time": "2023-01-11T14:05:48.413Z"
   },
   {
    "duration": 123,
    "start_time": "2023-01-11T14:08:38.145Z"
   },
   {
    "duration": 10,
    "start_time": "2023-01-11T14:08:51.519Z"
   },
   {
    "duration": 3,
    "start_time": "2023-01-11T14:09:24.427Z"
   },
   {
    "duration": 5415,
    "start_time": "2023-01-11T14:09:25.078Z"
   },
   {
    "duration": 71558,
    "start_time": "2023-01-11T14:10:10.486Z"
   },
   {
    "duration": 588396,
    "start_time": "2023-01-11T14:12:13.921Z"
   },
   {
    "duration": 596563,
    "start_time": "2023-01-11T14:22:27.960Z"
   },
   {
    "duration": 2086,
    "start_time": "2023-01-11T15:16:15.873Z"
   },
   {
    "duration": 1425,
    "start_time": "2023-01-11T15:16:17.962Z"
   },
   {
    "duration": 84,
    "start_time": "2023-01-11T15:16:19.388Z"
   },
   {
    "duration": 13,
    "start_time": "2023-01-11T15:16:19.474Z"
   },
   {
    "duration": 11,
    "start_time": "2023-01-11T15:16:19.488Z"
   },
   {
    "duration": 6,
    "start_time": "2023-01-11T15:16:19.501Z"
   },
   {
    "duration": 10,
    "start_time": "2023-01-11T15:16:19.508Z"
   },
   {
    "duration": 13,
    "start_time": "2023-01-11T15:16:19.519Z"
   },
   {
    "duration": 24,
    "start_time": "2023-01-11T15:16:19.534Z"
   },
   {
    "duration": 11,
    "start_time": "2023-01-11T15:16:19.560Z"
   },
   {
    "duration": 13,
    "start_time": "2023-01-11T15:16:19.573Z"
   },
   {
    "duration": 694,
    "start_time": "2023-01-11T15:16:19.588Z"
   },
   {
    "duration": 18,
    "start_time": "2023-01-11T15:16:20.284Z"
   },
   {
    "duration": 7515,
    "start_time": "2023-01-11T15:16:20.303Z"
   },
   {
    "duration": 72,
    "start_time": "2023-01-11T15:16:27.820Z"
   },
   {
    "duration": 12,
    "start_time": "2023-01-11T15:16:27.894Z"
   },
   {
    "duration": 20,
    "start_time": "2023-01-11T15:16:27.908Z"
   },
   {
    "duration": 15,
    "start_time": "2023-01-11T15:16:27.930Z"
   },
   {
    "duration": 8,
    "start_time": "2023-01-11T15:16:27.947Z"
   },
   {
    "duration": 15,
    "start_time": "2023-01-11T15:16:27.957Z"
   },
   {
    "duration": 12,
    "start_time": "2023-01-11T15:16:27.974Z"
   },
   {
    "duration": 17,
    "start_time": "2023-01-11T15:16:27.988Z"
   },
   {
    "duration": 88,
    "start_time": "2023-01-11T15:16:28.007Z"
   },
   {
    "duration": 12,
    "start_time": "2023-01-11T15:16:28.097Z"
   },
   {
    "duration": 728,
    "start_time": "2023-01-11T15:16:28.112Z"
   },
   {
    "duration": 75,
    "start_time": "2023-01-11T15:16:28.842Z"
   },
   {
    "duration": 11,
    "start_time": "2023-01-11T15:16:28.919Z"
   },
   {
    "duration": 10,
    "start_time": "2023-01-11T15:16:28.931Z"
   },
   {
    "duration": 11,
    "start_time": "2023-01-11T15:16:28.943Z"
   },
   {
    "duration": 19,
    "start_time": "2023-01-11T15:16:28.955Z"
   },
   {
    "duration": 21,
    "start_time": "2023-01-11T15:16:28.976Z"
   },
   {
    "duration": 7,
    "start_time": "2023-01-11T15:16:28.999Z"
   },
   {
    "duration": 378,
    "start_time": "2023-01-11T15:16:29.008Z"
   },
   {
    "duration": 45,
    "start_time": "2023-01-11T15:16:29.388Z"
   },
   {
    "duration": 10,
    "start_time": "2023-01-11T15:16:29.434Z"
   },
   {
    "duration": 14,
    "start_time": "2023-01-11T15:16:29.445Z"
   },
   {
    "duration": 6,
    "start_time": "2023-01-11T15:16:29.462Z"
   },
   {
    "duration": 14,
    "start_time": "2023-01-11T15:16:31.631Z"
   },
   {
    "duration": 32,
    "start_time": "2023-01-11T15:16:31.860Z"
   },
   {
    "duration": 8,
    "start_time": "2023-01-11T15:16:32.077Z"
   },
   {
    "duration": 11,
    "start_time": "2023-01-11T15:16:32.524Z"
   },
   {
    "duration": 8,
    "start_time": "2023-01-11T15:16:32.741Z"
   },
   {
    "duration": 6,
    "start_time": "2023-01-11T15:16:32.967Z"
   },
   {
    "duration": 12,
    "start_time": "2023-01-11T15:16:33.182Z"
   },
   {
    "duration": 51,
    "start_time": "2023-01-11T15:16:33.613Z"
   },
   {
    "duration": 8,
    "start_time": "2023-01-11T15:16:34.243Z"
   },
   {
    "duration": 4,
    "start_time": "2023-01-11T15:16:34.443Z"
   },
   {
    "duration": 15,
    "start_time": "2023-01-11T15:16:34.654Z"
   },
   {
    "duration": 17,
    "start_time": "2023-01-11T15:16:35.057Z"
   },
   {
    "duration": 11,
    "start_time": "2023-01-11T15:16:35.965Z"
   },
   {
    "duration": 35,
    "start_time": "2023-01-11T15:16:36.186Z"
   },
   {
    "duration": 8,
    "start_time": "2023-01-11T15:16:36.395Z"
   },
   {
    "duration": 9,
    "start_time": "2023-01-11T15:16:37.278Z"
   },
   {
    "duration": 27,
    "start_time": "2023-01-11T15:16:37.510Z"
   },
   {
    "duration": 7,
    "start_time": "2023-01-11T15:16:37.659Z"
   },
   {
    "duration": 9,
    "start_time": "2023-01-11T15:16:38.934Z"
   },
   {
    "duration": 13,
    "start_time": "2023-01-11T15:16:39.164Z"
   },
   {
    "duration": 6,
    "start_time": "2023-01-11T15:16:39.426Z"
   },
   {
    "duration": 22,
    "start_time": "2023-01-11T15:16:42.423Z"
   },
   {
    "duration": 33,
    "start_time": "2023-01-11T15:16:42.663Z"
   },
   {
    "duration": 39,
    "start_time": "2023-01-11T15:16:42.883Z"
   },
   {
    "duration": 24,
    "start_time": "2023-01-11T15:16:43.178Z"
   },
   {
    "duration": 6,
    "start_time": "2023-01-11T15:16:43.542Z"
   },
   {
    "duration": 16,
    "start_time": "2023-01-11T15:16:43.892Z"
   },
   {
    "duration": 28,
    "start_time": "2023-01-11T15:16:44.119Z"
   },
   {
    "duration": 20,
    "start_time": "2023-01-11T15:16:44.365Z"
   },
   {
    "duration": 7,
    "start_time": "2023-01-11T15:16:45.223Z"
   },
   {
    "duration": 23,
    "start_time": "2023-01-11T15:16:46.362Z"
   },
   {
    "duration": 118,
    "start_time": "2023-01-11T15:16:48.113Z"
   },
   {
    "duration": 7,
    "start_time": "2023-01-11T15:16:51.155Z"
   },
   {
    "duration": 15,
    "start_time": "2023-01-11T15:16:51.428Z"
   },
   {
    "duration": 4,
    "start_time": "2023-01-11T15:16:51.866Z"
   },
   {
    "duration": 19,
    "start_time": "2023-01-11T15:16:52.272Z"
   },
   {
    "duration": 20,
    "start_time": "2023-01-11T15:16:52.710Z"
   },
   {
    "duration": 18,
    "start_time": "2023-01-11T15:16:56.256Z"
   },
   {
    "duration": 15,
    "start_time": "2023-01-11T15:16:57.487Z"
   },
   {
    "duration": 15,
    "start_time": "2023-01-11T15:16:59.832Z"
   },
   {
    "duration": 11,
    "start_time": "2023-01-11T15:17:00.656Z"
   },
   {
    "duration": 53,
    "start_time": "2023-01-11T15:17:00.870Z"
   },
   {
    "duration": 25,
    "start_time": "2023-01-11T15:17:01.211Z"
   },
   {
    "duration": 17,
    "start_time": "2023-01-11T15:17:02.328Z"
   },
   {
    "duration": 50,
    "start_time": "2023-01-11T15:17:03.352Z"
   },
   {
    "duration": 17,
    "start_time": "2023-01-11T15:17:03.554Z"
   },
   {
    "duration": 26,
    "start_time": "2023-01-11T15:17:04.481Z"
   },
   {
    "duration": 18,
    "start_time": "2023-01-11T15:17:04.930Z"
   },
   {
    "duration": 9,
    "start_time": "2023-01-11T15:17:07.238Z"
   },
   {
    "duration": 88276,
    "start_time": "2023-01-11T15:17:08.733Z"
   },
   {
    "duration": 6568,
    "start_time": "2023-01-11T15:18:41.429Z"
   },
   {
    "duration": 533439,
    "start_time": "2023-01-11T15:18:51.860Z"
   },
   {
    "duration": 2054070,
    "start_time": "2023-01-11T15:27:52.939Z"
   },
   {
    "duration": 9,
    "start_time": "2023-01-11T16:02:07.011Z"
   },
   {
    "duration": 8368,
    "start_time": "2023-01-11T16:06:40.487Z"
   },
   {
    "duration": 22,
    "start_time": "2023-01-11T16:09:33.222Z"
   },
   {
    "duration": 2454,
    "start_time": "2023-01-11T16:09:41.375Z"
   },
   {
    "duration": 3,
    "start_time": "2023-01-11T16:11:16.271Z"
   },
   {
    "duration": 2113,
    "start_time": "2023-01-11T16:16:01.529Z"
   },
   {
    "duration": 1415,
    "start_time": "2023-01-11T16:16:03.644Z"
   },
   {
    "duration": 85,
    "start_time": "2023-01-11T16:16:05.061Z"
   },
   {
    "duration": 12,
    "start_time": "2023-01-11T16:16:05.426Z"
   },
   {
    "duration": 10,
    "start_time": "2023-01-11T16:16:05.755Z"
   },
   {
    "duration": 7,
    "start_time": "2023-01-11T16:16:05.942Z"
   },
   {
    "duration": 5,
    "start_time": "2023-01-11T16:16:06.131Z"
   },
   {
    "duration": 5,
    "start_time": "2023-01-11T16:16:06.315Z"
   },
   {
    "duration": 10,
    "start_time": "2023-01-11T16:16:06.502Z"
   },
   {
    "duration": 9,
    "start_time": "2023-01-11T16:16:06.692Z"
   },
   {
    "duration": 9,
    "start_time": "2023-01-11T16:16:06.880Z"
   },
   {
    "duration": 567,
    "start_time": "2023-01-11T16:16:07.059Z"
   },
   {
    "duration": 8,
    "start_time": "2023-01-11T16:16:07.628Z"
   },
   {
    "duration": 7626,
    "start_time": "2023-01-11T16:16:07.638Z"
   },
   {
    "duration": 82,
    "start_time": "2023-01-11T16:16:15.266Z"
   },
   {
    "duration": 11,
    "start_time": "2023-01-11T16:16:15.349Z"
   },
   {
    "duration": 9,
    "start_time": "2023-01-11T16:16:15.362Z"
   },
   {
    "duration": 5,
    "start_time": "2023-01-11T16:16:15.372Z"
   },
   {
    "duration": 7,
    "start_time": "2023-01-11T16:16:15.379Z"
   },
   {
    "duration": 8,
    "start_time": "2023-01-11T16:16:15.387Z"
   },
   {
    "duration": 24,
    "start_time": "2023-01-11T16:16:15.396Z"
   },
   {
    "duration": 7,
    "start_time": "2023-01-11T16:16:15.421Z"
   },
   {
    "duration": 85,
    "start_time": "2023-01-11T16:16:15.429Z"
   },
   {
    "duration": 14,
    "start_time": "2023-01-11T16:16:15.516Z"
   },
   {
    "duration": 738,
    "start_time": "2023-01-11T16:16:15.532Z"
   },
   {
    "duration": 53,
    "start_time": "2023-01-11T16:16:16.271Z"
   },
   {
    "duration": 11,
    "start_time": "2023-01-11T16:16:16.325Z"
   },
   {
    "duration": 12,
    "start_time": "2023-01-11T16:16:16.337Z"
   },
   {
    "duration": 4,
    "start_time": "2023-01-11T16:16:16.351Z"
   },
   {
    "duration": 7,
    "start_time": "2023-01-11T16:16:16.356Z"
   },
   {
    "duration": 5,
    "start_time": "2023-01-11T16:16:16.365Z"
   },
   {
    "duration": 7,
    "start_time": "2023-01-11T16:16:16.372Z"
   },
   {
    "duration": 363,
    "start_time": "2023-01-11T16:16:16.380Z"
   },
   {
    "duration": 76,
    "start_time": "2023-01-11T16:16:16.744Z"
   },
   {
    "duration": 10,
    "start_time": "2023-01-11T16:16:16.821Z"
   },
   {
    "duration": 10,
    "start_time": "2023-01-11T16:16:16.832Z"
   },
   {
    "duration": 6,
    "start_time": "2023-01-11T16:16:16.844Z"
   },
   {
    "duration": 11,
    "start_time": "2023-01-11T16:16:19.807Z"
   },
   {
    "duration": 24,
    "start_time": "2023-01-11T16:16:20.011Z"
   },
   {
    "duration": 6,
    "start_time": "2023-01-11T16:16:20.211Z"
   },
   {
    "duration": 8,
    "start_time": "2023-01-11T16:16:20.574Z"
   },
   {
    "duration": 6,
    "start_time": "2023-01-11T16:16:20.819Z"
   },
   {
    "duration": 5,
    "start_time": "2023-01-11T16:16:21.016Z"
   },
   {
    "duration": 9,
    "start_time": "2023-01-11T16:16:21.235Z"
   },
   {
    "duration": 50,
    "start_time": "2023-01-11T16:16:21.642Z"
   },
   {
    "duration": 9,
    "start_time": "2023-01-11T16:16:22.485Z"
   },
   {
    "duration": 5,
    "start_time": "2023-01-11T16:16:22.886Z"
   },
   {
    "duration": 13,
    "start_time": "2023-01-11T16:16:23.069Z"
   },
   {
    "duration": 22,
    "start_time": "2023-01-11T16:16:23.487Z"
   },
   {
    "duration": 11,
    "start_time": "2023-01-11T16:16:24.307Z"
   },
   {
    "duration": 27,
    "start_time": "2023-01-11T16:16:24.507Z"
   },
   {
    "duration": 8,
    "start_time": "2023-01-11T16:16:24.719Z"
   },
   {
    "duration": 8,
    "start_time": "2023-01-11T16:16:25.526Z"
   },
   {
    "duration": 17,
    "start_time": "2023-01-11T16:16:25.717Z"
   },
   {
    "duration": 5,
    "start_time": "2023-01-11T16:16:25.912Z"
   },
   {
    "duration": 18,
    "start_time": "2023-01-11T16:16:26.793Z"
   },
   {
    "duration": 10,
    "start_time": "2023-01-11T16:16:26.991Z"
   },
   {
    "duration": 14,
    "start_time": "2023-01-11T16:16:27.197Z"
   },
   {
    "duration": 21,
    "start_time": "2023-01-11T16:16:28.345Z"
   },
   {
    "duration": 21,
    "start_time": "2023-01-11T16:16:28.568Z"
   },
   {
    "duration": 26,
    "start_time": "2023-01-11T16:16:28.915Z"
   },
   {
    "duration": 17,
    "start_time": "2023-01-11T16:16:29.133Z"
   },
   {
    "duration": 5,
    "start_time": "2023-01-11T16:16:29.352Z"
   },
   {
    "duration": 6,
    "start_time": "2023-01-11T16:16:29.634Z"
   },
   {
    "duration": 27,
    "start_time": "2023-01-11T16:16:29.882Z"
   },
   {
    "duration": 25,
    "start_time": "2023-01-11T16:16:30.162Z"
   },
   {
    "duration": 13,
    "start_time": "2023-01-11T16:16:30.620Z"
   },
   {
    "duration": 2,
    "start_time": "2023-01-11T16:16:32.018Z"
   },
   {
    "duration": 22,
    "start_time": "2023-01-11T16:16:33.658Z"
   },
   {
    "duration": 105,
    "start_time": "2023-01-11T16:16:39.117Z"
   },
   {
    "duration": 6,
    "start_time": "2023-01-11T16:16:47.151Z"
   },
   {
    "duration": 11,
    "start_time": "2023-01-11T16:16:47.823Z"
   },
   {
    "duration": 3,
    "start_time": "2023-01-11T16:16:48.093Z"
   },
   {
    "duration": 19,
    "start_time": "2023-01-11T16:16:48.359Z"
   },
   {
    "duration": 26,
    "start_time": "2023-01-11T16:16:48.591Z"
   },
   {
    "duration": 15,
    "start_time": "2023-01-11T16:16:48.815Z"
   },
   {
    "duration": 14,
    "start_time": "2023-01-11T16:16:49.149Z"
   },
   {
    "duration": 16,
    "start_time": "2023-01-11T16:16:49.997Z"
   },
   {
    "duration": 50,
    "start_time": "2023-01-11T16:16:50.181Z"
   },
   {
    "duration": 17,
    "start_time": "2023-01-11T16:16:50.426Z"
   },
   {
    "duration": 14,
    "start_time": "2023-01-11T16:16:51.367Z"
   },
   {
    "duration": 58,
    "start_time": "2023-01-11T16:16:51.997Z"
   },
   {
    "duration": 25,
    "start_time": "2023-01-11T16:16:52.193Z"
   },
   {
    "duration": 35,
    "start_time": "2023-01-11T16:16:53.097Z"
   },
   {
    "duration": 22,
    "start_time": "2023-01-11T16:16:53.507Z"
   },
   {
    "duration": 20,
    "start_time": "2023-01-11T16:16:54.240Z"
   },
   {
    "duration": 9,
    "start_time": "2023-01-11T16:16:54.661Z"
   },
   {
    "duration": 84139,
    "start_time": "2023-01-11T16:16:56.406Z"
   },
   {
    "duration": 8641,
    "start_time": "2023-01-11T16:18:25.379Z"
   },
   {
    "duration": 411549,
    "start_time": "2023-01-11T16:18:40.485Z"
   },
   {
    "duration": 7649,
    "start_time": "2023-01-11T20:01:05.142Z"
   },
   {
    "duration": 2335,
    "start_time": "2023-01-11T20:01:12.794Z"
   },
   {
    "duration": 229,
    "start_time": "2023-01-11T20:01:15.131Z"
   },
   {
    "duration": 16,
    "start_time": "2023-01-11T20:01:15.362Z"
   },
   {
    "duration": 11,
    "start_time": "2023-01-11T20:01:15.380Z"
   },
   {
    "duration": 8,
    "start_time": "2023-01-11T20:01:15.393Z"
   },
   {
    "duration": 7,
    "start_time": "2023-01-11T20:01:15.450Z"
   },
   {
    "duration": 11,
    "start_time": "2023-01-11T20:01:15.459Z"
   },
   {
    "duration": 8,
    "start_time": "2023-01-11T20:01:15.472Z"
   },
   {
    "duration": 9,
    "start_time": "2023-01-11T20:01:15.483Z"
   },
   {
    "duration": 58,
    "start_time": "2023-01-11T20:01:15.494Z"
   },
   {
    "duration": 728,
    "start_time": "2023-01-11T20:01:15.554Z"
   },
   {
    "duration": 10,
    "start_time": "2023-01-11T20:01:42.939Z"
   },
   {
    "duration": 8900,
    "start_time": "2023-01-11T20:01:43.113Z"
   },
   {
    "duration": 174,
    "start_time": "2023-01-11T20:01:52.015Z"
   },
   {
    "duration": 15,
    "start_time": "2023-01-11T20:01:52.190Z"
   },
   {
    "duration": 32,
    "start_time": "2023-01-11T20:01:52.208Z"
   },
   {
    "duration": 20,
    "start_time": "2023-01-11T20:01:52.242Z"
   },
   {
    "duration": 36,
    "start_time": "2023-01-11T20:01:52.264Z"
   },
   {
    "duration": 31,
    "start_time": "2023-01-11T20:01:52.303Z"
   },
   {
    "duration": 23,
    "start_time": "2023-01-11T20:01:52.337Z"
   },
   {
    "duration": 78,
    "start_time": "2023-01-11T20:01:52.363Z"
   },
   {
    "duration": 52,
    "start_time": "2023-01-11T20:01:52.445Z"
   },
   {
    "duration": 132,
    "start_time": "2023-01-11T20:01:52.499Z"
   },
   {
    "duration": 849,
    "start_time": "2023-01-11T20:01:52.633Z"
   },
   {
    "duration": 135,
    "start_time": "2023-01-11T20:01:53.485Z"
   },
   {
    "duration": 14,
    "start_time": "2023-01-11T20:01:53.622Z"
   },
   {
    "duration": 22,
    "start_time": "2023-01-11T20:01:53.638Z"
   },
   {
    "duration": 20,
    "start_time": "2023-01-11T20:01:53.662Z"
   },
   {
    "duration": 20,
    "start_time": "2023-01-11T20:01:53.684Z"
   },
   {
    "duration": 15,
    "start_time": "2023-01-11T20:01:53.706Z"
   },
   {
    "duration": 18,
    "start_time": "2023-01-11T20:01:53.723Z"
   },
   {
    "duration": 458,
    "start_time": "2023-01-11T20:01:53.744Z"
   },
   {
    "duration": 97,
    "start_time": "2023-01-11T20:01:54.205Z"
   },
   {
    "duration": 11,
    "start_time": "2023-01-11T20:01:54.304Z"
   },
   {
    "duration": 13,
    "start_time": "2023-01-11T20:01:54.319Z"
   },
   {
    "duration": 8,
    "start_time": "2023-01-11T20:01:54.334Z"
   },
   {
    "duration": 13,
    "start_time": "2023-01-11T20:01:58.338Z"
   },
   {
    "duration": 38,
    "start_time": "2023-01-11T20:01:58.598Z"
   },
   {
    "duration": 8,
    "start_time": "2023-01-11T20:01:58.805Z"
   },
   {
    "duration": 10,
    "start_time": "2023-01-11T20:01:59.272Z"
   },
   {
    "duration": 8,
    "start_time": "2023-01-11T20:01:59.687Z"
   },
   {
    "duration": 6,
    "start_time": "2023-01-11T20:02:00.054Z"
   },
   {
    "duration": 15,
    "start_time": "2023-01-11T20:02:00.306Z"
   },
   {
    "duration": 71,
    "start_time": "2023-01-11T20:02:00.718Z"
   },
   {
    "duration": 11,
    "start_time": "2023-01-11T20:02:01.404Z"
   },
   {
    "duration": 8,
    "start_time": "2023-01-11T20:02:01.678Z"
   },
   {
    "duration": 30,
    "start_time": "2023-01-11T20:02:01.884Z"
   },
   {
    "duration": 17,
    "start_time": "2023-01-11T20:02:02.285Z"
   },
   {
    "duration": 13,
    "start_time": "2023-01-11T20:02:03.176Z"
   },
   {
    "duration": 31,
    "start_time": "2023-01-11T20:02:03.389Z"
   },
   {
    "duration": 8,
    "start_time": "2023-01-11T20:02:03.605Z"
   },
   {
    "duration": 10,
    "start_time": "2023-01-11T20:02:04.478Z"
   },
   {
    "duration": 20,
    "start_time": "2023-01-11T20:02:04.674Z"
   },
   {
    "duration": 6,
    "start_time": "2023-01-11T20:02:04.894Z"
   },
   {
    "duration": 9,
    "start_time": "2023-01-11T20:02:05.751Z"
   },
   {
    "duration": 12,
    "start_time": "2023-01-11T20:02:05.966Z"
   },
   {
    "duration": 7,
    "start_time": "2023-01-11T20:02:06.176Z"
   },
   {
    "duration": 37,
    "start_time": "2023-01-11T20:02:07.050Z"
   },
   {
    "duration": 28,
    "start_time": "2023-01-11T20:02:07.286Z"
   },
   {
    "duration": 33,
    "start_time": "2023-01-11T20:02:07.545Z"
   },
   {
    "duration": 34,
    "start_time": "2023-01-11T20:02:07.744Z"
   },
   {
    "duration": 7,
    "start_time": "2023-01-11T20:02:07.967Z"
   },
   {
    "duration": 7,
    "start_time": "2023-01-11T20:02:08.206Z"
   },
   {
    "duration": 29,
    "start_time": "2023-01-11T20:02:08.435Z"
   },
   {
    "duration": 29,
    "start_time": "2023-01-11T20:02:08.638Z"
   },
   {
    "duration": 18,
    "start_time": "2023-01-11T20:02:08.884Z"
   },
   {
    "duration": 3,
    "start_time": "2023-01-11T20:02:09.112Z"
   },
   {
    "duration": 35,
    "start_time": "2023-01-11T20:02:09.538Z"
   },
   {
    "duration": 131,
    "start_time": "2023-01-11T20:02:10.667Z"
   },
   {
    "duration": 8,
    "start_time": "2023-01-11T20:02:11.506Z"
   },
   {
    "duration": 11,
    "start_time": "2023-01-11T20:02:11.706Z"
   },
   {
    "duration": 5,
    "start_time": "2023-01-11T20:02:11.944Z"
   },
   {
    "duration": 36,
    "start_time": "2023-01-11T20:02:12.167Z"
   },
   {
    "duration": 26,
    "start_time": "2023-01-11T20:02:12.385Z"
   },
   {
    "duration": 18,
    "start_time": "2023-01-11T20:02:12.611Z"
   },
   {
    "duration": 18,
    "start_time": "2023-01-11T20:02:12.830Z"
   },
   {
    "duration": 18,
    "start_time": "2023-01-11T20:02:13.570Z"
   },
   {
    "duration": 47,
    "start_time": "2023-01-11T20:02:13.866Z"
   },
   {
    "duration": 19,
    "start_time": "2023-01-11T20:02:14.309Z"
   },
   {
    "duration": 26,
    "start_time": "2023-01-11T20:02:17.375Z"
   },
   {
    "duration": 56,
    "start_time": "2023-01-11T20:02:18.126Z"
   },
   {
    "duration": 20,
    "start_time": "2023-01-11T20:02:18.371Z"
   },
   {
    "duration": 56,
    "start_time": "2023-01-11T20:02:18.836Z"
   },
   {
    "duration": 51,
    "start_time": "2023-01-11T20:02:19.048Z"
   },
   {
    "duration": 35,
    "start_time": "2023-01-11T20:02:19.647Z"
   },
   {
    "duration": 13,
    "start_time": "2023-01-11T20:02:19.996Z"
   },
   {
    "duration": 99811,
    "start_time": "2023-01-11T20:02:21.254Z"
   },
   {
    "duration": 6704,
    "start_time": "2023-01-11T20:04:03.552Z"
   },
   {
    "duration": 465516,
    "start_time": "2023-01-11T20:04:28.586Z"
   },
   {
    "duration": 2357,
    "start_time": "2023-01-11T21:40:57.700Z"
   },
   {
    "duration": 1741,
    "start_time": "2023-01-11T21:41:00.060Z"
   },
   {
    "duration": 101,
    "start_time": "2023-01-11T21:41:04.320Z"
   },
   {
    "duration": 16,
    "start_time": "2023-01-11T21:41:04.691Z"
   },
   {
    "duration": 10,
    "start_time": "2023-01-11T21:41:04.884Z"
   },
   {
    "duration": 7,
    "start_time": "2023-01-11T21:41:05.056Z"
   },
   {
    "duration": 6,
    "start_time": "2023-01-11T21:41:05.248Z"
   },
   {
    "duration": 7,
    "start_time": "2023-01-11T21:41:05.436Z"
   },
   {
    "duration": 8,
    "start_time": "2023-01-11T21:41:05.641Z"
   },
   {
    "duration": 7,
    "start_time": "2023-01-11T21:41:05.836Z"
   },
   {
    "duration": 9,
    "start_time": "2023-01-11T21:41:06.026Z"
   },
   {
    "duration": 670,
    "start_time": "2023-01-11T21:41:06.276Z"
   },
   {
    "duration": 11,
    "start_time": "2023-01-11T21:41:06.951Z"
   },
   {
    "duration": 8694,
    "start_time": "2023-01-11T21:41:06.964Z"
   },
   {
    "duration": 93,
    "start_time": "2023-01-11T21:41:15.660Z"
   },
   {
    "duration": 14,
    "start_time": "2023-01-11T21:41:15.755Z"
   },
   {
    "duration": 11,
    "start_time": "2023-01-11T21:41:15.771Z"
   },
   {
    "duration": 6,
    "start_time": "2023-01-11T21:41:15.784Z"
   },
   {
    "duration": 12,
    "start_time": "2023-01-11T21:41:15.793Z"
   },
   {
    "duration": 12,
    "start_time": "2023-01-11T21:41:15.807Z"
   },
   {
    "duration": 7,
    "start_time": "2023-01-11T21:41:15.852Z"
   },
   {
    "duration": 13,
    "start_time": "2023-01-11T21:41:15.861Z"
   },
   {
    "duration": 129,
    "start_time": "2023-01-11T21:41:15.876Z"
   },
   {
    "duration": 14,
    "start_time": "2023-01-11T21:41:16.008Z"
   },
   {
    "duration": 836,
    "start_time": "2023-01-11T21:41:16.024Z"
   },
   {
    "duration": 82,
    "start_time": "2023-01-11T21:41:16.862Z"
   },
   {
    "duration": 13,
    "start_time": "2023-01-11T21:41:16.946Z"
   },
   {
    "duration": 11,
    "start_time": "2023-01-11T21:41:16.961Z"
   },
   {
    "duration": 6,
    "start_time": "2023-01-11T21:41:16.974Z"
   },
   {
    "duration": 7,
    "start_time": "2023-01-11T21:41:16.982Z"
   },
   {
    "duration": 9,
    "start_time": "2023-01-11T21:41:16.992Z"
   },
   {
    "duration": 10,
    "start_time": "2023-01-11T21:41:17.003Z"
   },
   {
    "duration": 429,
    "start_time": "2023-01-11T21:41:17.052Z"
   },
   {
    "duration": 60,
    "start_time": "2023-01-11T21:41:17.483Z"
   },
   {
    "duration": 12,
    "start_time": "2023-01-11T21:41:17.545Z"
   },
   {
    "duration": 11,
    "start_time": "2023-01-11T21:41:17.559Z"
   },
   {
    "duration": 6,
    "start_time": "2023-01-11T21:41:17.572Z"
   },
   {
    "duration": 12,
    "start_time": "2023-01-11T21:41:19.172Z"
   },
   {
    "duration": 26,
    "start_time": "2023-01-11T21:41:19.384Z"
   },
   {
    "duration": 9,
    "start_time": "2023-01-11T21:41:19.612Z"
   },
   {
    "duration": 11,
    "start_time": "2023-01-11T21:41:20.047Z"
   },
   {
    "duration": 9,
    "start_time": "2023-01-11T21:41:20.256Z"
   },
   {
    "duration": 6,
    "start_time": "2023-01-11T21:41:20.496Z"
   },
   {
    "duration": 15,
    "start_time": "2023-01-11T21:41:20.751Z"
   },
   {
    "duration": 87,
    "start_time": "2023-01-11T21:41:21.174Z"
   },
   {
    "duration": 16,
    "start_time": "2023-01-11T21:41:21.836Z"
   },
   {
    "duration": 6,
    "start_time": "2023-01-11T21:41:22.081Z"
   },
   {
    "duration": 13,
    "start_time": "2023-01-11T21:41:22.277Z"
   },
   {
    "duration": 15,
    "start_time": "2023-01-11T21:41:22.917Z"
   },
   {
    "duration": 14,
    "start_time": "2023-01-11T21:41:24.161Z"
   },
   {
    "duration": 42,
    "start_time": "2023-01-11T21:41:24.868Z"
   },
   {
    "duration": 7,
    "start_time": "2023-01-11T21:41:25.328Z"
   },
   {
    "duration": 10,
    "start_time": "2023-01-11T21:41:26.155Z"
   },
   {
    "duration": 26,
    "start_time": "2023-01-11T21:41:26.361Z"
   },
   {
    "duration": 6,
    "start_time": "2023-01-11T21:41:26.560Z"
   },
   {
    "duration": 8,
    "start_time": "2023-01-11T21:41:27.424Z"
   },
   {
    "duration": 15,
    "start_time": "2023-01-11T21:41:27.609Z"
   },
   {
    "duration": 6,
    "start_time": "2023-01-11T21:41:27.821Z"
   },
   {
    "duration": 31,
    "start_time": "2023-01-11T21:41:28.744Z"
   },
   {
    "duration": 25,
    "start_time": "2023-01-11T21:41:28.918Z"
   },
   {
    "duration": 32,
    "start_time": "2023-01-11T21:41:29.430Z"
   },
   {
    "duration": 26,
    "start_time": "2023-01-11T21:41:29.775Z"
   },
   {
    "duration": 7,
    "start_time": "2023-01-11T21:41:30.851Z"
   },
   {
    "duration": 7,
    "start_time": "2023-01-11T21:41:31.244Z"
   },
   {
    "duration": 24,
    "start_time": "2023-01-11T21:41:31.574Z"
   },
   {
    "duration": 41,
    "start_time": "2023-01-11T21:41:31.855Z"
   },
   {
    "duration": 19,
    "start_time": "2023-01-11T21:41:32.225Z"
   },
   {
    "duration": 3,
    "start_time": "2023-01-11T21:41:32.653Z"
   },
   {
    "duration": 36,
    "start_time": "2023-01-11T21:41:33.534Z"
   },
   {
    "duration": 137,
    "start_time": "2023-01-11T21:41:35.772Z"
   },
   {
    "duration": 9,
    "start_time": "2023-01-11T21:41:37.283Z"
   },
   {
    "duration": 13,
    "start_time": "2023-01-11T21:41:38.000Z"
   },
   {
    "duration": 4,
    "start_time": "2023-01-11T21:41:38.200Z"
   },
   {
    "duration": 21,
    "start_time": "2023-01-11T21:41:38.392Z"
   },
   {
    "duration": 21,
    "start_time": "2023-01-11T21:41:38.616Z"
   },
   {
    "duration": 20,
    "start_time": "2023-01-11T21:41:39.146Z"
   },
   {
    "duration": 17,
    "start_time": "2023-01-11T21:41:40.121Z"
   },
   {
    "duration": 9,
    "start_time": "2023-01-11T21:41:41.880Z"
   },
   {
    "duration": 48,
    "start_time": "2023-01-11T21:41:42.107Z"
   },
   {
    "duration": 19,
    "start_time": "2023-01-11T21:41:42.600Z"
   },
   {
    "duration": 18,
    "start_time": "2023-01-11T21:41:43.086Z"
   },
   {
    "duration": 64,
    "start_time": "2023-01-11T21:41:43.494Z"
   },
   {
    "duration": 18,
    "start_time": "2023-01-11T21:41:43.772Z"
   },
   {
    "duration": 33,
    "start_time": "2023-01-11T21:41:44.478Z"
   },
   {
    "duration": 36,
    "start_time": "2023-01-11T21:41:45.079Z"
   },
   {
    "duration": 26,
    "start_time": "2023-01-11T21:41:45.599Z"
   },
   {
    "duration": 11,
    "start_time": "2023-01-11T21:41:48.417Z"
   },
   {
    "duration": 95379,
    "start_time": "2023-01-11T21:41:51.177Z"
   },
   {
    "duration": 5073,
    "start_time": "2023-01-11T21:43:33.583Z"
   },
   {
    "duration": 303160,
    "start_time": "2023-01-11T21:43:48.843Z"
   },
   {
    "duration": 186013,
    "start_time": "2023-01-11T21:49:13.128Z"
   },
   {
    "duration": 304982,
    "start_time": "2023-01-11T21:52:54.585Z"
   },
   {
    "duration": 2434,
    "start_time": "2023-01-11T22:04:09.670Z"
   },
   {
    "duration": 1544,
    "start_time": "2023-01-11T22:04:12.106Z"
   },
   {
    "duration": 98,
    "start_time": "2023-01-11T22:04:15.343Z"
   },
   {
    "duration": 14,
    "start_time": "2023-01-11T22:04:15.714Z"
   },
   {
    "duration": 15,
    "start_time": "2023-01-11T22:04:15.863Z"
   },
   {
    "duration": 9,
    "start_time": "2023-01-11T22:04:16.069Z"
   },
   {
    "duration": 7,
    "start_time": "2023-01-11T22:04:16.268Z"
   },
   {
    "duration": 6,
    "start_time": "2023-01-11T22:04:16.601Z"
   },
   {
    "duration": 7,
    "start_time": "2023-01-11T22:04:16.772Z"
   },
   {
    "duration": 9,
    "start_time": "2023-01-11T22:04:16.951Z"
   },
   {
    "duration": 10,
    "start_time": "2023-01-11T22:04:17.125Z"
   },
   {
    "duration": 703,
    "start_time": "2023-01-11T22:04:17.302Z"
   },
   {
    "duration": 11,
    "start_time": "2023-01-11T22:04:18.008Z"
   },
   {
    "duration": 8551,
    "start_time": "2023-01-11T22:04:18.021Z"
   },
   {
    "duration": 87,
    "start_time": "2023-01-11T22:04:26.574Z"
   },
   {
    "duration": 13,
    "start_time": "2023-01-11T22:04:26.662Z"
   },
   {
    "duration": 34,
    "start_time": "2023-01-11T22:04:26.677Z"
   },
   {
    "duration": 26,
    "start_time": "2023-01-11T22:04:26.713Z"
   },
   {
    "duration": 57,
    "start_time": "2023-01-11T22:04:26.742Z"
   },
   {
    "duration": 54,
    "start_time": "2023-01-11T22:04:26.801Z"
   },
   {
    "duration": 47,
    "start_time": "2023-01-11T22:04:26.857Z"
   },
   {
    "duration": 31,
    "start_time": "2023-01-11T22:04:26.906Z"
   },
   {
    "duration": 128,
    "start_time": "2023-01-11T22:04:26.939Z"
   },
   {
    "duration": 31,
    "start_time": "2023-01-11T22:04:27.069Z"
   },
   {
    "duration": 804,
    "start_time": "2023-01-11T22:04:27.102Z"
   },
   {
    "duration": 97,
    "start_time": "2023-01-11T22:04:27.907Z"
   },
   {
    "duration": 16,
    "start_time": "2023-01-11T22:04:28.006Z"
   },
   {
    "duration": 36,
    "start_time": "2023-01-11T22:04:28.024Z"
   },
   {
    "duration": 32,
    "start_time": "2023-01-11T22:04:28.063Z"
   },
   {
    "duration": 30,
    "start_time": "2023-01-11T22:04:28.097Z"
   },
   {
    "duration": 33,
    "start_time": "2023-01-11T22:04:28.131Z"
   },
   {
    "duration": 36,
    "start_time": "2023-01-11T22:04:28.166Z"
   },
   {
    "duration": 455,
    "start_time": "2023-01-11T22:04:28.205Z"
   },
   {
    "duration": 59,
    "start_time": "2023-01-11T22:04:28.662Z"
   },
   {
    "duration": 13,
    "start_time": "2023-01-11T22:04:28.724Z"
   },
   {
    "duration": 13,
    "start_time": "2023-01-11T22:04:28.739Z"
   },
   {
    "duration": 28,
    "start_time": "2023-01-11T22:04:28.755Z"
   },
   {
    "duration": 18,
    "start_time": "2023-01-11T22:04:29.584Z"
   },
   {
    "duration": 36,
    "start_time": "2023-01-11T22:04:29.788Z"
   },
   {
    "duration": 8,
    "start_time": "2023-01-11T22:04:30.007Z"
   },
   {
    "duration": 11,
    "start_time": "2023-01-11T22:04:31.703Z"
   },
   {
    "duration": 8,
    "start_time": "2023-01-11T22:04:31.898Z"
   },
   {
    "duration": 5,
    "start_time": "2023-01-11T22:04:32.109Z"
   },
   {
    "duration": 10,
    "start_time": "2023-01-11T22:04:32.354Z"
   },
   {
    "duration": 60,
    "start_time": "2023-01-11T22:04:32.788Z"
   },
   {
    "duration": 9,
    "start_time": "2023-01-11T22:04:33.537Z"
   },
   {
    "duration": 5,
    "start_time": "2023-01-11T22:04:33.774Z"
   },
   {
    "duration": 14,
    "start_time": "2023-01-11T22:04:34.035Z"
   },
   {
    "duration": 14,
    "start_time": "2023-01-11T22:04:34.502Z"
   },
   {
    "duration": 11,
    "start_time": "2023-01-11T22:04:35.478Z"
   },
   {
    "duration": 29,
    "start_time": "2023-01-11T22:04:35.750Z"
   },
   {
    "duration": 7,
    "start_time": "2023-01-11T22:04:36.137Z"
   },
   {
    "duration": 10,
    "start_time": "2023-01-11T22:04:37.451Z"
   },
   {
    "duration": 26,
    "start_time": "2023-01-11T22:04:37.773Z"
   },
   {
    "duration": 15,
    "start_time": "2023-01-11T22:04:38.181Z"
   },
   {
    "duration": 8,
    "start_time": "2023-01-11T22:04:39.058Z"
   },
   {
    "duration": 16,
    "start_time": "2023-01-11T22:04:39.260Z"
   },
   {
    "duration": 6,
    "start_time": "2023-01-11T22:04:39.498Z"
   },
   {
    "duration": 26,
    "start_time": "2023-01-11T22:04:40.394Z"
   },
   {
    "duration": 35,
    "start_time": "2023-01-11T22:04:40.590Z"
   },
   {
    "duration": 40,
    "start_time": "2023-01-11T22:04:40.802Z"
   },
   {
    "duration": 26,
    "start_time": "2023-01-11T22:04:41.006Z"
   },
   {
    "duration": 6,
    "start_time": "2023-01-11T22:04:41.198Z"
   },
   {
    "duration": 7,
    "start_time": "2023-01-11T22:04:41.395Z"
   },
   {
    "duration": 22,
    "start_time": "2023-01-11T22:04:41.590Z"
   },
   {
    "duration": 30,
    "start_time": "2023-01-11T22:04:41.783Z"
   },
   {
    "duration": 22,
    "start_time": "2023-01-11T22:04:42.011Z"
   },
   {
    "duration": 6,
    "start_time": "2023-01-11T22:04:42.199Z"
   },
   {
    "duration": 25,
    "start_time": "2023-01-11T22:04:42.619Z"
   },
   {
    "duration": 112,
    "start_time": "2023-01-11T22:04:43.665Z"
   },
   {
    "duration": 8,
    "start_time": "2023-01-11T22:04:44.299Z"
   },
   {
    "duration": 12,
    "start_time": "2023-01-11T22:04:44.489Z"
   },
   {
    "duration": 4,
    "start_time": "2023-01-11T22:04:44.711Z"
   },
   {
    "duration": 24,
    "start_time": "2023-01-11T22:04:44.897Z"
   },
   {
    "duration": 21,
    "start_time": "2023-01-11T22:04:45.102Z"
   },
   {
    "duration": 20,
    "start_time": "2023-01-11T22:04:45.310Z"
   },
   {
    "duration": 20,
    "start_time": "2023-01-11T22:04:45.508Z"
   },
   {
    "duration": 10,
    "start_time": "2023-01-11T22:04:46.134Z"
   },
   {
    "duration": 48,
    "start_time": "2023-01-11T22:04:46.338Z"
   },
   {
    "duration": 19,
    "start_time": "2023-01-11T22:04:46.563Z"
   },
   {
    "duration": 16,
    "start_time": "2023-01-11T22:04:46.976Z"
   },
   {
    "duration": 47,
    "start_time": "2023-01-11T22:04:47.422Z"
   },
   {
    "duration": 19,
    "start_time": "2023-01-11T22:04:47.657Z"
   },
   {
    "duration": 33,
    "start_time": "2023-01-11T22:04:48.086Z"
   },
   {
    "duration": 24,
    "start_time": "2023-01-11T22:04:48.376Z"
   },
   {
    "duration": 22,
    "start_time": "2023-01-11T22:04:48.805Z"
   },
   {
    "duration": 10,
    "start_time": "2023-01-11T22:04:49.229Z"
   },
   {
    "duration": 95095,
    "start_time": "2023-01-11T22:04:51.202Z"
   },
   {
    "duration": 4285,
    "start_time": "2023-01-11T22:06:32.875Z"
   },
   {
    "duration": 2339,
    "start_time": "2023-01-11T22:23:41.153Z"
   },
   {
    "duration": 1566,
    "start_time": "2023-01-11T22:23:43.495Z"
   },
   {
    "duration": 101,
    "start_time": "2023-01-11T22:23:45.063Z"
   },
   {
    "duration": 14,
    "start_time": "2023-01-11T22:23:45.166Z"
   },
   {
    "duration": 33,
    "start_time": "2023-01-11T22:23:45.182Z"
   },
   {
    "duration": 42,
    "start_time": "2023-01-11T22:23:45.217Z"
   },
   {
    "duration": 34,
    "start_time": "2023-01-11T22:23:45.260Z"
   },
   {
    "duration": 15,
    "start_time": "2023-01-11T22:23:45.296Z"
   },
   {
    "duration": 11,
    "start_time": "2023-01-11T22:23:45.313Z"
   },
   {
    "duration": 9,
    "start_time": "2023-01-11T22:23:45.327Z"
   },
   {
    "duration": 16,
    "start_time": "2023-01-11T22:23:45.338Z"
   },
   {
    "duration": 705,
    "start_time": "2023-01-11T22:23:45.356Z"
   },
   {
    "duration": 13,
    "start_time": "2023-01-11T22:23:46.063Z"
   },
   {
    "duration": 8466,
    "start_time": "2023-01-11T22:23:46.079Z"
   },
   {
    "duration": 86,
    "start_time": "2023-01-11T22:23:54.547Z"
   },
   {
    "duration": 17,
    "start_time": "2023-01-11T22:23:54.635Z"
   },
   {
    "duration": 13,
    "start_time": "2023-01-11T22:23:54.655Z"
   },
   {
    "duration": 9,
    "start_time": "2023-01-11T22:23:54.670Z"
   },
   {
    "duration": 10,
    "start_time": "2023-01-11T22:23:54.681Z"
   },
   {
    "duration": 10,
    "start_time": "2023-01-11T22:23:54.692Z"
   },
   {
    "duration": 12,
    "start_time": "2023-01-11T22:23:54.704Z"
   },
   {
    "duration": 34,
    "start_time": "2023-01-11T22:23:54.718Z"
   },
   {
    "duration": 113,
    "start_time": "2023-01-11T22:23:54.755Z"
   },
   {
    "duration": 16,
    "start_time": "2023-01-11T22:23:54.870Z"
   },
   {
    "duration": 799,
    "start_time": "2023-01-11T22:23:54.888Z"
   },
   {
    "duration": 83,
    "start_time": "2023-01-11T22:23:55.689Z"
   },
   {
    "duration": 17,
    "start_time": "2023-01-11T22:23:55.774Z"
   },
   {
    "duration": 16,
    "start_time": "2023-01-11T22:23:55.793Z"
   },
   {
    "duration": 8,
    "start_time": "2023-01-11T22:23:55.811Z"
   },
   {
    "duration": 8,
    "start_time": "2023-01-11T22:23:55.820Z"
   },
   {
    "duration": 25,
    "start_time": "2023-01-11T22:23:55.830Z"
   },
   {
    "duration": 9,
    "start_time": "2023-01-11T22:23:55.858Z"
   },
   {
    "duration": 419,
    "start_time": "2023-01-11T22:23:55.869Z"
   },
   {
    "duration": 62,
    "start_time": "2023-01-11T22:23:56.290Z"
   },
   {
    "duration": 11,
    "start_time": "2023-01-11T22:23:56.354Z"
   },
   {
    "duration": 10,
    "start_time": "2023-01-11T22:23:56.367Z"
   },
   {
    "duration": 9,
    "start_time": "2023-01-11T22:23:56.380Z"
   },
   {
    "duration": 12,
    "start_time": "2023-01-11T22:24:00.029Z"
   },
   {
    "duration": 27,
    "start_time": "2023-01-11T22:24:00.191Z"
   },
   {
    "duration": 6,
    "start_time": "2023-01-11T22:24:00.430Z"
   },
   {
    "duration": 10,
    "start_time": "2023-01-11T22:24:00.777Z"
   },
   {
    "duration": 8,
    "start_time": "2023-01-11T22:24:00.979Z"
   },
   {
    "duration": 6,
    "start_time": "2023-01-11T22:24:01.184Z"
   },
   {
    "duration": 14,
    "start_time": "2023-01-11T22:24:01.390Z"
   },
   {
    "duration": 60,
    "start_time": "2023-01-11T22:24:01.761Z"
   },
   {
    "duration": 10,
    "start_time": "2023-01-11T22:24:02.381Z"
   },
   {
    "duration": 6,
    "start_time": "2023-01-11T22:24:02.577Z"
   },
   {
    "duration": 14,
    "start_time": "2023-01-11T22:24:02.774Z"
   },
   {
    "duration": 18,
    "start_time": "2023-01-11T22:24:03.155Z"
   },
   {
    "duration": 12,
    "start_time": "2023-01-11T22:24:03.919Z"
   },
   {
    "duration": 30,
    "start_time": "2023-01-11T22:24:04.108Z"
   },
   {
    "duration": 7,
    "start_time": "2023-01-11T22:24:04.300Z"
   },
   {
    "duration": 11,
    "start_time": "2023-01-11T22:24:05.255Z"
   },
   {
    "duration": 20,
    "start_time": "2023-01-11T22:24:05.441Z"
   },
   {
    "duration": 6,
    "start_time": "2023-01-11T22:24:05.640Z"
   },
   {
    "duration": 9,
    "start_time": "2023-01-11T22:24:09.338Z"
   },
   {
    "duration": 15,
    "start_time": "2023-01-11T22:24:09.681Z"
   },
   {
    "duration": 6,
    "start_time": "2023-01-11T22:24:09.842Z"
   },
   {
    "duration": 34,
    "start_time": "2023-01-11T22:24:10.652Z"
   },
   {
    "duration": 26,
    "start_time": "2023-01-11T22:24:10.888Z"
   },
   {
    "duration": 40,
    "start_time": "2023-01-11T22:24:11.097Z"
   },
   {
    "duration": 21,
    "start_time": "2023-01-11T22:24:11.322Z"
   },
   {
    "duration": 6,
    "start_time": "2023-01-11T22:24:11.515Z"
   },
   {
    "duration": 7,
    "start_time": "2023-01-11T22:24:11.749Z"
   },
   {
    "duration": 23,
    "start_time": "2023-01-11T22:24:11.954Z"
   },
   {
    "duration": 35,
    "start_time": "2023-01-11T22:24:12.178Z"
   },
   {
    "duration": 19,
    "start_time": "2023-01-11T22:24:12.400Z"
   },
   {
    "duration": 3,
    "start_time": "2023-01-11T22:24:12.600Z"
   },
   {
    "duration": 35,
    "start_time": "2023-01-11T22:24:13.037Z"
   },
   {
    "duration": 116,
    "start_time": "2023-01-11T22:24:14.188Z"
   },
   {
    "duration": 10,
    "start_time": "2023-01-11T22:24:15.094Z"
   },
   {
    "duration": 15,
    "start_time": "2023-01-11T22:24:15.360Z"
   },
   {
    "duration": 4,
    "start_time": "2023-01-11T22:24:15.649Z"
   },
   {
    "duration": 26,
    "start_time": "2023-01-11T22:24:15.927Z"
   },
   {
    "duration": 24,
    "start_time": "2023-01-11T22:24:16.220Z"
   },
   {
    "duration": 16,
    "start_time": "2023-01-11T22:24:16.583Z"
   },
   {
    "duration": 16,
    "start_time": "2023-01-11T22:24:16.929Z"
   },
   {
    "duration": 9,
    "start_time": "2023-01-11T22:24:18.218Z"
   },
   {
    "duration": 70,
    "start_time": "2023-01-11T22:24:21.104Z"
   },
   {
    "duration": 19,
    "start_time": "2023-01-11T22:24:21.321Z"
   },
   {
    "duration": 16,
    "start_time": "2023-01-11T22:24:21.760Z"
   },
   {
    "duration": 46,
    "start_time": "2023-01-11T22:24:22.285Z"
   },
   {
    "duration": 17,
    "start_time": "2023-01-11T22:24:22.496Z"
   },
   {
    "duration": 42,
    "start_time": "2023-01-11T22:24:23.329Z"
   },
   {
    "duration": 28,
    "start_time": "2023-01-11T22:24:23.703Z"
   },
   {
    "duration": 25,
    "start_time": "2023-01-11T22:24:24.060Z"
   },
   {
    "duration": 12,
    "start_time": "2023-01-11T22:24:24.436Z"
   },
   {
    "duration": 95506,
    "start_time": "2023-01-11T22:24:26.839Z"
   },
   {
    "duration": 3853,
    "start_time": "2023-01-11T22:26:21.600Z"
   },
   {
    "duration": 3192,
    "start_time": "2023-01-11T22:26:29.662Z"
   },
   {
    "duration": 376121,
    "start_time": "2023-01-11T22:27:12.134Z"
   },
   {
    "duration": 2284,
    "start_time": "2023-01-11T23:31:44.071Z"
   },
   {
    "duration": 1530,
    "start_time": "2023-01-11T23:31:46.358Z"
   },
   {
    "duration": 96,
    "start_time": "2023-01-11T23:31:47.890Z"
   },
   {
    "duration": 15,
    "start_time": "2023-01-11T23:31:47.988Z"
   },
   {
    "duration": 26,
    "start_time": "2023-01-11T23:31:48.005Z"
   },
   {
    "duration": 8,
    "start_time": "2023-01-11T23:31:48.033Z"
   },
   {
    "duration": 8,
    "start_time": "2023-01-11T23:31:48.077Z"
   },
   {
    "duration": 8,
    "start_time": "2023-01-11T23:31:48.283Z"
   },
   {
    "duration": 7,
    "start_time": "2023-01-11T23:31:48.489Z"
   },
   {
    "duration": 8,
    "start_time": "2023-01-11T23:31:48.689Z"
   },
   {
    "duration": 10,
    "start_time": "2023-01-11T23:31:48.899Z"
   },
   {
    "duration": 742,
    "start_time": "2023-01-11T23:31:49.093Z"
   },
   {
    "duration": 14,
    "start_time": "2023-01-11T23:31:49.837Z"
   },
   {
    "duration": 8113,
    "start_time": "2023-01-11T23:31:49.853Z"
   },
   {
    "duration": 84,
    "start_time": "2023-01-11T23:31:57.968Z"
   },
   {
    "duration": 15,
    "start_time": "2023-01-11T23:31:58.054Z"
   },
   {
    "duration": 14,
    "start_time": "2023-01-11T23:31:58.071Z"
   },
   {
    "duration": 7,
    "start_time": "2023-01-11T23:31:58.087Z"
   },
   {
    "duration": 11,
    "start_time": "2023-01-11T23:31:58.097Z"
   },
   {
    "duration": 18,
    "start_time": "2023-01-11T23:31:58.110Z"
   },
   {
    "duration": 31,
    "start_time": "2023-01-11T23:31:58.130Z"
   },
   {
    "duration": 9,
    "start_time": "2023-01-11T23:31:58.166Z"
   },
   {
    "duration": 98,
    "start_time": "2023-01-11T23:31:58.177Z"
   },
   {
    "duration": 9,
    "start_time": "2023-01-11T23:31:58.277Z"
   },
   {
    "duration": 813,
    "start_time": "2023-01-11T23:31:58.287Z"
   },
   {
    "duration": 81,
    "start_time": "2023-01-11T23:31:59.102Z"
   },
   {
    "duration": 16,
    "start_time": "2023-01-11T23:31:59.185Z"
   },
   {
    "duration": 10,
    "start_time": "2023-01-11T23:31:59.203Z"
   },
   {
    "duration": 12,
    "start_time": "2023-01-11T23:31:59.215Z"
   },
   {
    "duration": 8,
    "start_time": "2023-01-11T23:31:59.230Z"
   },
   {
    "duration": 8,
    "start_time": "2023-01-11T23:31:59.253Z"
   },
   {
    "duration": 9,
    "start_time": "2023-01-11T23:31:59.262Z"
   },
   {
    "duration": 465,
    "start_time": "2023-01-11T23:31:59.272Z"
   },
   {
    "duration": 62,
    "start_time": "2023-01-11T23:31:59.739Z"
   },
   {
    "duration": 11,
    "start_time": "2023-01-11T23:31:59.803Z"
   },
   {
    "duration": 12,
    "start_time": "2023-01-11T23:31:59.816Z"
   },
   {
    "duration": 8,
    "start_time": "2023-01-11T23:31:59.830Z"
   },
   {
    "duration": 17,
    "start_time": "2023-01-11T23:32:02.334Z"
   },
   {
    "duration": 35,
    "start_time": "2023-01-11T23:32:02.548Z"
   },
   {
    "duration": 9,
    "start_time": "2023-01-11T23:32:02.815Z"
   },
   {
    "duration": 11,
    "start_time": "2023-01-11T23:32:03.273Z"
   },
   {
    "duration": 8,
    "start_time": "2023-01-11T23:32:03.481Z"
   },
   {
    "duration": 6,
    "start_time": "2023-01-11T23:32:03.685Z"
   },
   {
    "duration": 13,
    "start_time": "2023-01-11T23:32:03.901Z"
   },
   {
    "duration": 87,
    "start_time": "2023-01-11T23:32:04.323Z"
   },
   {
    "duration": 11,
    "start_time": "2023-01-11T23:32:04.961Z"
   },
   {
    "duration": 7,
    "start_time": "2023-01-11T23:32:05.184Z"
   },
   {
    "duration": 14,
    "start_time": "2023-01-11T23:32:05.384Z"
   },
   {
    "duration": 13,
    "start_time": "2023-01-11T23:32:05.873Z"
   },
   {
    "duration": 12,
    "start_time": "2023-01-11T23:32:06.801Z"
   },
   {
    "duration": 29,
    "start_time": "2023-01-11T23:32:07.035Z"
   },
   {
    "duration": 7,
    "start_time": "2023-01-11T23:32:07.288Z"
   },
   {
    "duration": 12,
    "start_time": "2023-01-11T23:32:08.188Z"
   },
   {
    "duration": 26,
    "start_time": "2023-01-11T23:32:08.449Z"
   },
   {
    "duration": 6,
    "start_time": "2023-01-11T23:32:08.657Z"
   },
   {
    "duration": 9,
    "start_time": "2023-01-11T23:32:09.589Z"
   },
   {
    "duration": 11,
    "start_time": "2023-01-11T23:32:09.837Z"
   },
   {
    "duration": 6,
    "start_time": "2023-01-11T23:32:10.064Z"
   },
   {
    "duration": 23,
    "start_time": "2023-01-11T23:32:11.004Z"
   },
   {
    "duration": 23,
    "start_time": "2023-01-11T23:32:11.263Z"
   },
   {
    "duration": 30,
    "start_time": "2023-01-11T23:32:11.475Z"
   },
   {
    "duration": 20,
    "start_time": "2023-01-11T23:32:11.718Z"
   },
   {
    "duration": 7,
    "start_time": "2023-01-11T23:32:11.931Z"
   },
   {
    "duration": 6,
    "start_time": "2023-01-11T23:32:12.154Z"
   },
   {
    "duration": 18,
    "start_time": "2023-01-11T23:32:12.380Z"
   },
   {
    "duration": 30,
    "start_time": "2023-01-11T23:32:12.622Z"
   },
   {
    "duration": 16,
    "start_time": "2023-01-11T23:32:12.858Z"
   },
   {
    "duration": 3,
    "start_time": "2023-01-11T23:32:13.111Z"
   },
   {
    "duration": 27,
    "start_time": "2023-01-11T23:32:13.763Z"
   },
   {
    "duration": 119,
    "start_time": "2023-01-11T23:32:15.375Z"
   },
   {
    "duration": 10,
    "start_time": "2023-01-11T23:32:16.182Z"
   },
   {
    "duration": 17,
    "start_time": "2023-01-11T23:32:16.582Z"
   },
   {
    "duration": 4,
    "start_time": "2023-01-11T23:32:16.843Z"
   },
   {
    "duration": 25,
    "start_time": "2023-01-11T23:32:17.060Z"
   },
   {
    "duration": 25,
    "start_time": "2023-01-11T23:32:17.253Z"
   },
   {
    "duration": 19,
    "start_time": "2023-01-11T23:32:17.471Z"
   },
   {
    "duration": 20,
    "start_time": "2023-01-11T23:32:17.719Z"
   },
   {
    "duration": 13,
    "start_time": "2023-01-11T23:32:18.730Z"
   },
   {
    "duration": 47,
    "start_time": "2023-01-11T23:32:19.011Z"
   },
   {
    "duration": 17,
    "start_time": "2023-01-11T23:32:19.266Z"
   },
   {
    "duration": 18,
    "start_time": "2023-01-11T23:32:19.701Z"
   },
   {
    "duration": 45,
    "start_time": "2023-01-11T23:32:20.219Z"
   },
   {
    "duration": 17,
    "start_time": "2023-01-11T23:32:20.529Z"
   },
   {
    "duration": 32,
    "start_time": "2023-01-11T23:32:21.200Z"
   },
   {
    "duration": 23,
    "start_time": "2023-01-11T23:32:21.635Z"
   },
   {
    "duration": 24,
    "start_time": "2023-01-11T23:32:22.081Z"
   },
   {
    "duration": 10,
    "start_time": "2023-01-11T23:32:22.534Z"
   },
   {
    "duration": 91204,
    "start_time": "2023-01-11T23:32:25.070Z"
   },
   {
    "duration": 8218,
    "start_time": "2023-01-11T23:34:10.332Z"
   },
   {
    "duration": 376167,
    "start_time": "2023-01-11T23:34:27.272Z"
   },
   {
    "duration": 2370,
    "start_time": "2023-01-12T00:20:39.035Z"
   },
   {
    "duration": 1490,
    "start_time": "2023-01-12T00:20:41.407Z"
   },
   {
    "duration": 120,
    "start_time": "2023-01-12T00:20:42.899Z"
   },
   {
    "duration": 14,
    "start_time": "2023-01-12T00:20:43.021Z"
   },
   {
    "duration": 14,
    "start_time": "2023-01-12T00:20:43.037Z"
   },
   {
    "duration": 7,
    "start_time": "2023-01-12T00:20:43.052Z"
   },
   {
    "duration": 10,
    "start_time": "2023-01-12T00:20:43.061Z"
   },
   {
    "duration": 13,
    "start_time": "2023-01-12T00:20:43.073Z"
   },
   {
    "duration": 9,
    "start_time": "2023-01-12T00:20:43.088Z"
   },
   {
    "duration": 7,
    "start_time": "2023-01-12T00:20:43.192Z"
   },
   {
    "duration": 9,
    "start_time": "2023-01-12T00:20:43.401Z"
   },
   {
    "duration": 660,
    "start_time": "2023-01-12T00:20:43.625Z"
   },
   {
    "duration": 9,
    "start_time": "2023-01-12T00:20:44.287Z"
   },
   {
    "duration": 8449,
    "start_time": "2023-01-12T00:20:44.298Z"
   },
   {
    "duration": 87,
    "start_time": "2023-01-12T00:20:52.752Z"
   },
   {
    "duration": 12,
    "start_time": "2023-01-12T00:20:52.840Z"
   },
   {
    "duration": 13,
    "start_time": "2023-01-12T00:20:52.854Z"
   },
   {
    "duration": 6,
    "start_time": "2023-01-12T00:20:52.869Z"
   },
   {
    "duration": 7,
    "start_time": "2023-01-12T00:20:52.877Z"
   },
   {
    "duration": 15,
    "start_time": "2023-01-12T00:20:52.886Z"
   },
   {
    "duration": 8,
    "start_time": "2023-01-12T00:20:52.902Z"
   },
   {
    "duration": 8,
    "start_time": "2023-01-12T00:20:52.912Z"
   },
   {
    "duration": 123,
    "start_time": "2023-01-12T00:20:52.922Z"
   },
   {
    "duration": 11,
    "start_time": "2023-01-12T00:20:53.046Z"
   },
   {
    "duration": 812,
    "start_time": "2023-01-12T00:20:53.058Z"
   },
   {
    "duration": 84,
    "start_time": "2023-01-12T00:20:53.872Z"
   },
   {
    "duration": 13,
    "start_time": "2023-01-12T00:20:53.958Z"
   },
   {
    "duration": 11,
    "start_time": "2023-01-12T00:20:53.974Z"
   },
   {
    "duration": 7,
    "start_time": "2023-01-12T00:20:53.987Z"
   },
   {
    "duration": 11,
    "start_time": "2023-01-12T00:20:53.996Z"
   },
   {
    "duration": 17,
    "start_time": "2023-01-12T00:20:54.011Z"
   },
   {
    "duration": 30,
    "start_time": "2023-01-12T00:20:54.030Z"
   },
   {
    "duration": 429,
    "start_time": "2023-01-12T00:20:54.061Z"
   },
   {
    "duration": 57,
    "start_time": "2023-01-12T00:20:54.492Z"
   },
   {
    "duration": 11,
    "start_time": "2023-01-12T00:20:54.550Z"
   },
   {
    "duration": 10,
    "start_time": "2023-01-12T00:20:54.563Z"
   },
   {
    "duration": 6,
    "start_time": "2023-01-12T00:20:54.576Z"
   },
   {
    "duration": 13,
    "start_time": "2023-01-12T00:20:56.951Z"
   },
   {
    "duration": 25,
    "start_time": "2023-01-12T00:20:57.165Z"
   },
   {
    "duration": 8,
    "start_time": "2023-01-12T00:20:57.562Z"
   },
   {
    "duration": 9,
    "start_time": "2023-01-12T00:20:57.993Z"
   },
   {
    "duration": 7,
    "start_time": "2023-01-12T00:20:58.202Z"
   },
   {
    "duration": 5,
    "start_time": "2023-01-12T00:20:58.416Z"
   },
   {
    "duration": 10,
    "start_time": "2023-01-12T00:20:58.661Z"
   },
   {
    "duration": 68,
    "start_time": "2023-01-12T00:20:59.134Z"
   },
   {
    "duration": 10,
    "start_time": "2023-01-12T00:20:59.999Z"
   },
   {
    "duration": 5,
    "start_time": "2023-01-12T00:21:00.203Z"
   },
   {
    "duration": 14,
    "start_time": "2023-01-12T00:21:00.413Z"
   },
   {
    "duration": 13,
    "start_time": "2023-01-12T00:21:00.877Z"
   },
   {
    "duration": 11,
    "start_time": "2023-01-12T00:21:01.756Z"
   },
   {
    "duration": 30,
    "start_time": "2023-01-12T00:21:01.985Z"
   },
   {
    "duration": 7,
    "start_time": "2023-01-12T00:21:02.212Z"
   },
   {
    "duration": 10,
    "start_time": "2023-01-12T00:21:03.079Z"
   },
   {
    "duration": 19,
    "start_time": "2023-01-12T00:21:03.297Z"
   },
   {
    "duration": 6,
    "start_time": "2023-01-12T00:21:03.505Z"
   },
   {
    "duration": 7,
    "start_time": "2023-01-12T00:21:04.312Z"
   },
   {
    "duration": 11,
    "start_time": "2023-01-12T00:21:04.526Z"
   },
   {
    "duration": 6,
    "start_time": "2023-01-12T00:21:04.735Z"
   },
   {
    "duration": 32,
    "start_time": "2023-01-12T00:21:05.624Z"
   },
   {
    "duration": 25,
    "start_time": "2023-01-12T00:21:05.838Z"
   },
   {
    "duration": 29,
    "start_time": "2023-01-12T00:21:06.069Z"
   },
   {
    "duration": 20,
    "start_time": "2023-01-12T00:21:06.254Z"
   },
   {
    "duration": 7,
    "start_time": "2023-01-12T00:21:06.470Z"
   },
   {
    "duration": 6,
    "start_time": "2023-01-12T00:21:06.677Z"
   },
   {
    "duration": 17,
    "start_time": "2023-01-12T00:21:06.906Z"
   },
   {
    "duration": 36,
    "start_time": "2023-01-12T00:21:07.104Z"
   },
   {
    "duration": 16,
    "start_time": "2023-01-12T00:21:07.302Z"
   },
   {
    "duration": 2,
    "start_time": "2023-01-12T00:21:07.518Z"
   },
   {
    "duration": 34,
    "start_time": "2023-01-12T00:21:07.905Z"
   },
   {
    "duration": 122,
    "start_time": "2023-01-12T00:21:08.943Z"
   },
   {
    "duration": 10,
    "start_time": "2023-01-12T00:21:09.622Z"
   },
   {
    "duration": 16,
    "start_time": "2023-01-12T00:21:09.852Z"
   },
   {
    "duration": 5,
    "start_time": "2023-01-12T00:21:10.085Z"
   },
   {
    "duration": 23,
    "start_time": "2023-01-12T00:21:10.317Z"
   },
   {
    "duration": 21,
    "start_time": "2023-01-12T00:21:10.529Z"
   },
   {
    "duration": 16,
    "start_time": "2023-01-12T00:21:10.764Z"
   },
   {
    "duration": 16,
    "start_time": "2023-01-12T00:21:11.019Z"
   },
   {
    "duration": 9,
    "start_time": "2023-01-12T00:21:11.694Z"
   },
   {
    "duration": 48,
    "start_time": "2023-01-12T00:21:12.054Z"
   },
   {
    "duration": 19,
    "start_time": "2023-01-12T00:21:12.300Z"
   },
   {
    "duration": 15,
    "start_time": "2023-01-12T00:21:12.775Z"
   },
   {
    "duration": 45,
    "start_time": "2023-01-12T00:21:13.405Z"
   },
   {
    "duration": 17,
    "start_time": "2023-01-12T00:21:13.664Z"
   },
   {
    "duration": 33,
    "start_time": "2023-01-12T00:21:14.249Z"
   },
   {
    "duration": 22,
    "start_time": "2023-01-12T00:21:14.634Z"
   },
   {
    "duration": 22,
    "start_time": "2023-01-12T00:21:14.858Z"
   },
   {
    "duration": 9,
    "start_time": "2023-01-12T00:21:15.068Z"
   },
   {
    "duration": 91288,
    "start_time": "2023-01-12T00:21:16.788Z"
   },
   {
    "duration": 4423,
    "start_time": "2023-01-12T00:22:55.944Z"
   },
   {
    "duration": 368777,
    "start_time": "2023-01-12T00:23:02.447Z"
   },
   {
    "duration": 377149,
    "start_time": "2023-01-12T00:29:59.982Z"
   },
   {
    "duration": 3,
    "start_time": "2023-01-12T00:36:20.528Z"
   },
   {
    "duration": 25654,
    "start_time": "2023-01-12T00:36:22.975Z"
   },
   {
    "duration": 5,
    "start_time": "2023-01-12T00:37:22.763Z"
   },
   {
    "duration": 9,
    "start_time": "2023-01-12T00:37:45.243Z"
   },
   {
    "duration": 255,
    "start_time": "2023-01-12T00:38:40.853Z"
   },
   {
    "duration": 25,
    "start_time": "2023-01-12T00:39:16.222Z"
   },
   {
    "duration": 147,
    "start_time": "2023-01-12T00:41:47.269Z"
   },
   {
    "duration": 2259,
    "start_time": "2023-01-12T00:47:02.546Z"
   },
   {
    "duration": 1473,
    "start_time": "2023-01-12T00:47:04.807Z"
   },
   {
    "duration": 99,
    "start_time": "2023-01-12T00:47:06.281Z"
   },
   {
    "duration": 13,
    "start_time": "2023-01-12T00:47:06.382Z"
   },
   {
    "duration": 12,
    "start_time": "2023-01-12T00:47:06.397Z"
   },
   {
    "duration": 7,
    "start_time": "2023-01-12T00:47:06.411Z"
   },
   {
    "duration": 8,
    "start_time": "2023-01-12T00:47:06.419Z"
   },
   {
    "duration": 7,
    "start_time": "2023-01-12T00:47:06.451Z"
   },
   {
    "duration": 9,
    "start_time": "2023-01-12T00:47:06.459Z"
   },
   {
    "duration": 7,
    "start_time": "2023-01-12T00:47:06.471Z"
   },
   {
    "duration": 12,
    "start_time": "2023-01-12T00:47:06.479Z"
   },
   {
    "duration": 674,
    "start_time": "2023-01-12T00:47:06.492Z"
   },
   {
    "duration": 10,
    "start_time": "2023-01-12T00:47:07.168Z"
   },
   {
    "duration": 8425,
    "start_time": "2023-01-12T00:47:07.179Z"
   },
   {
    "duration": 89,
    "start_time": "2023-01-12T00:47:15.608Z"
   },
   {
    "duration": 13,
    "start_time": "2023-01-12T00:47:15.698Z"
   },
   {
    "duration": 10,
    "start_time": "2023-01-12T00:47:15.713Z"
   },
   {
    "duration": 16,
    "start_time": "2023-01-12T00:47:15.725Z"
   },
   {
    "duration": 10,
    "start_time": "2023-01-12T00:47:15.743Z"
   },
   {
    "duration": 10,
    "start_time": "2023-01-12T00:47:15.755Z"
   },
   {
    "duration": 11,
    "start_time": "2023-01-12T00:47:15.767Z"
   },
   {
    "duration": 7,
    "start_time": "2023-01-12T00:47:15.780Z"
   },
   {
    "duration": 114,
    "start_time": "2023-01-12T00:47:15.789Z"
   },
   {
    "duration": 8,
    "start_time": "2023-01-12T00:47:15.905Z"
   },
   {
    "duration": 782,
    "start_time": "2023-01-12T00:47:15.915Z"
   },
   {
    "duration": 86,
    "start_time": "2023-01-12T00:47:16.699Z"
   },
   {
    "duration": 13,
    "start_time": "2023-01-12T00:47:16.786Z"
   },
   {
    "duration": 10,
    "start_time": "2023-01-12T00:47:16.800Z"
   },
   {
    "duration": 6,
    "start_time": "2023-01-12T00:47:16.812Z"
   },
   {
    "duration": 6,
    "start_time": "2023-01-12T00:47:16.820Z"
   },
   {
    "duration": 9,
    "start_time": "2023-01-12T00:47:16.827Z"
   },
   {
    "duration": 15,
    "start_time": "2023-01-12T00:47:16.837Z"
   },
   {
    "duration": 436,
    "start_time": "2023-01-12T00:47:16.853Z"
   },
   {
    "duration": 59,
    "start_time": "2023-01-12T00:47:17.290Z"
   },
   {
    "duration": 10,
    "start_time": "2023-01-12T00:47:17.351Z"
   },
   {
    "duration": 10,
    "start_time": "2023-01-12T00:47:17.363Z"
   },
   {
    "duration": 6,
    "start_time": "2023-01-12T00:47:17.375Z"
   },
   {
    "duration": 12,
    "start_time": "2023-01-12T00:47:18.328Z"
   },
   {
    "duration": 25,
    "start_time": "2023-01-12T00:47:18.551Z"
   },
   {
    "duration": 6,
    "start_time": "2023-01-12T00:47:18.750Z"
   },
   {
    "duration": 9,
    "start_time": "2023-01-12T00:47:19.152Z"
   },
   {
    "duration": 6,
    "start_time": "2023-01-12T00:47:19.440Z"
   },
   {
    "duration": 7,
    "start_time": "2023-01-12T00:47:19.676Z"
   },
   {
    "duration": 9,
    "start_time": "2023-01-12T00:47:19.866Z"
   },
   {
    "duration": 58,
    "start_time": "2023-01-12T00:47:20.320Z"
   },
   {
    "duration": 10,
    "start_time": "2023-01-12T00:47:20.973Z"
   },
   {
    "duration": 5,
    "start_time": "2023-01-12T00:47:21.202Z"
   },
   {
    "duration": 12,
    "start_time": "2023-01-12T00:47:21.436Z"
   },
   {
    "duration": 14,
    "start_time": "2023-01-12T00:47:22.110Z"
   },
   {
    "duration": 11,
    "start_time": "2023-01-12T00:47:22.999Z"
   },
   {
    "duration": 30,
    "start_time": "2023-01-12T00:47:23.222Z"
   },
   {
    "duration": 7,
    "start_time": "2023-01-12T00:47:23.426Z"
   },
   {
    "duration": 11,
    "start_time": "2023-01-12T00:47:24.279Z"
   },
   {
    "duration": 27,
    "start_time": "2023-01-12T00:47:24.508Z"
   },
   {
    "duration": 6,
    "start_time": "2023-01-12T00:47:24.706Z"
   },
   {
    "duration": 7,
    "start_time": "2023-01-12T00:47:25.572Z"
   },
   {
    "duration": 11,
    "start_time": "2023-01-12T00:47:25.795Z"
   },
   {
    "duration": 6,
    "start_time": "2023-01-12T00:47:26.017Z"
   },
   {
    "duration": 26,
    "start_time": "2023-01-12T00:47:26.918Z"
   },
   {
    "duration": 23,
    "start_time": "2023-01-12T00:47:27.144Z"
   },
   {
    "duration": 29,
    "start_time": "2023-01-12T00:47:27.346Z"
   },
   {
    "duration": 19,
    "start_time": "2023-01-12T00:47:27.611Z"
   },
   {
    "duration": 7,
    "start_time": "2023-01-12T00:47:27.827Z"
   },
   {
    "duration": 7,
    "start_time": "2023-01-12T00:47:28.065Z"
   },
   {
    "duration": 24,
    "start_time": "2023-01-12T00:47:28.325Z"
   },
   {
    "duration": 36,
    "start_time": "2023-01-12T00:47:28.597Z"
   },
   {
    "duration": 15,
    "start_time": "2023-01-12T00:47:28.830Z"
   },
   {
    "duration": 3,
    "start_time": "2023-01-12T00:47:29.060Z"
   },
   {
    "duration": 35,
    "start_time": "2023-01-12T00:47:29.497Z"
   },
   {
    "duration": 130,
    "start_time": "2023-01-12T00:47:30.641Z"
   },
   {
    "duration": 9,
    "start_time": "2023-01-12T00:47:31.290Z"
   },
   {
    "duration": 13,
    "start_time": "2023-01-12T00:47:31.535Z"
   },
   {
    "duration": 4,
    "start_time": "2023-01-12T00:47:31.773Z"
   },
   {
    "duration": 23,
    "start_time": "2023-01-12T00:47:31.994Z"
   },
   {
    "duration": 20,
    "start_time": "2023-01-12T00:47:32.292Z"
   },
   {
    "duration": 16,
    "start_time": "2023-01-12T00:47:32.857Z"
   },
   {
    "duration": 16,
    "start_time": "2023-01-12T00:47:33.364Z"
   },
   {
    "duration": 9,
    "start_time": "2023-01-12T00:47:36.237Z"
   },
   {
    "duration": 117,
    "start_time": "2023-01-12T00:47:36.855Z"
   },
   {
    "duration": 47,
    "start_time": "2023-01-12T00:48:44.689Z"
   },
   {
    "duration": 19,
    "start_time": "2023-01-12T00:48:45.951Z"
   },
   {
    "duration": 17,
    "start_time": "2023-01-12T00:49:09.809Z"
   },
   {
    "duration": 48,
    "start_time": "2023-01-12T00:49:10.786Z"
   },
   {
    "duration": 18,
    "start_time": "2023-01-12T00:49:11.329Z"
   },
   {
    "duration": 31,
    "start_time": "2023-01-12T00:49:13.795Z"
   },
   {
    "duration": 23,
    "start_time": "2023-01-12T00:49:15.107Z"
   },
   {
    "duration": 9,
    "start_time": "2023-01-12T00:49:18.473Z"
   },
   {
    "duration": 91058,
    "start_time": "2023-01-12T00:49:32.495Z"
   },
   {
    "duration": 4469,
    "start_time": "2023-01-12T00:51:07.684Z"
   },
   {
    "duration": 369774,
    "start_time": "2023-01-12T00:51:14.609Z"
   },
   {
    "duration": 26018,
    "start_time": "2023-01-12T00:57:27.146Z"
   },
   {
    "duration": 3,
    "start_time": "2023-01-12T00:57:53.166Z"
   },
   {
    "duration": 14,
    "start_time": "2023-01-12T00:57:53.171Z"
   },
   {
    "duration": 147,
    "start_time": "2023-01-12T00:57:59.780Z"
   },
   {
    "duration": 19,
    "start_time": "2023-01-12T01:01:26.238Z"
   },
   {
    "duration": 26942,
    "start_time": "2023-01-12T01:06:14.977Z"
   },
   {
    "duration": 3,
    "start_time": "2023-01-12T01:06:49.022Z"
   },
   {
    "duration": 9,
    "start_time": "2023-01-12T01:06:49.545Z"
   },
   {
    "duration": 13,
    "start_time": "2023-01-12T01:06:51.215Z"
   },
   {
    "duration": 147,
    "start_time": "2023-01-12T01:08:42.185Z"
   },
   {
    "duration": 154,
    "start_time": "2023-01-12T01:09:08.135Z"
   },
   {
    "duration": 150,
    "start_time": "2023-01-12T01:09:58.849Z"
   },
   {
    "duration": 26135,
    "start_time": "2023-01-12T01:12:01.726Z"
   },
   {
    "duration": 29,
    "start_time": "2023-01-12T01:14:36.743Z"
   },
   {
    "duration": 9,
    "start_time": "2023-01-12T01:14:55.429Z"
   },
   {
    "duration": 172,
    "start_time": "2023-01-12T01:14:56.740Z"
   },
   {
    "duration": 44,
    "start_time": "2023-01-12T01:15:31.096Z"
   },
   {
    "duration": 9,
    "start_time": "2023-01-12T01:15:35.161Z"
   },
   {
    "duration": 47,
    "start_time": "2023-01-12T01:15:36.051Z"
   },
   {
    "duration": 2268,
    "start_time": "2023-01-12T01:16:02.545Z"
   },
   {
    "duration": 1511,
    "start_time": "2023-01-12T01:16:04.815Z"
   },
   {
    "duration": 96,
    "start_time": "2023-01-12T01:16:50.361Z"
   },
   {
    "duration": 16,
    "start_time": "2023-01-12T01:16:50.710Z"
   },
   {
    "duration": 11,
    "start_time": "2023-01-12T01:16:50.877Z"
   },
   {
    "duration": 8,
    "start_time": "2023-01-12T01:16:51.058Z"
   },
   {
    "duration": 7,
    "start_time": "2023-01-12T01:16:51.235Z"
   },
   {
    "duration": 7,
    "start_time": "2023-01-12T01:16:51.404Z"
   },
   {
    "duration": 8,
    "start_time": "2023-01-12T01:16:51.587Z"
   },
   {
    "duration": 9,
    "start_time": "2023-01-12T01:16:51.762Z"
   },
   {
    "duration": 11,
    "start_time": "2023-01-12T01:16:51.955Z"
   },
   {
    "duration": 677,
    "start_time": "2023-01-12T01:16:52.123Z"
   },
   {
    "duration": 12,
    "start_time": "2023-01-12T01:16:52.803Z"
   },
   {
    "duration": 8369,
    "start_time": "2023-01-12T01:16:52.878Z"
   },
   {
    "duration": 92,
    "start_time": "2023-01-12T01:17:01.249Z"
   },
   {
    "duration": 13,
    "start_time": "2023-01-12T01:17:01.343Z"
   },
   {
    "duration": 24,
    "start_time": "2023-01-12T01:17:01.358Z"
   },
   {
    "duration": 45,
    "start_time": "2023-01-12T01:17:01.383Z"
   },
   {
    "duration": 40,
    "start_time": "2023-01-12T01:17:01.429Z"
   },
   {
    "duration": 29,
    "start_time": "2023-01-12T01:17:01.470Z"
   },
   {
    "duration": 35,
    "start_time": "2023-01-12T01:17:01.501Z"
   },
   {
    "duration": 24,
    "start_time": "2023-01-12T01:17:01.538Z"
   },
   {
    "duration": 141,
    "start_time": "2023-01-12T01:17:01.565Z"
   },
   {
    "duration": 45,
    "start_time": "2023-01-12T01:17:01.709Z"
   },
   {
    "duration": 920,
    "start_time": "2023-01-12T01:17:01.756Z"
   },
   {
    "duration": 95,
    "start_time": "2023-01-12T01:17:02.678Z"
   },
   {
    "duration": 14,
    "start_time": "2023-01-12T01:17:02.775Z"
   },
   {
    "duration": 40,
    "start_time": "2023-01-12T01:17:02.791Z"
   },
   {
    "duration": 30,
    "start_time": "2023-01-12T01:17:02.834Z"
   },
   {
    "duration": 33,
    "start_time": "2023-01-12T01:17:02.866Z"
   },
   {
    "duration": 13,
    "start_time": "2023-01-12T01:17:02.901Z"
   },
   {
    "duration": 19,
    "start_time": "2023-01-12T01:17:02.916Z"
   },
   {
    "duration": 425,
    "start_time": "2023-01-12T01:17:02.936Z"
   },
   {
    "duration": 59,
    "start_time": "2023-01-12T01:17:03.364Z"
   },
   {
    "duration": 11,
    "start_time": "2023-01-12T01:17:03.425Z"
   },
   {
    "duration": 14,
    "start_time": "2023-01-12T01:17:03.438Z"
   },
   {
    "duration": 7,
    "start_time": "2023-01-12T01:17:03.455Z"
   },
   {
    "duration": 12,
    "start_time": "2023-01-12T01:17:04.293Z"
   },
   {
    "duration": 25,
    "start_time": "2023-01-12T01:17:04.498Z"
   },
   {
    "duration": 6,
    "start_time": "2023-01-12T01:17:04.802Z"
   },
   {
    "duration": 8,
    "start_time": "2023-01-12T01:17:05.189Z"
   },
   {
    "duration": 6,
    "start_time": "2023-01-12T01:17:05.373Z"
   },
   {
    "duration": 6,
    "start_time": "2023-01-12T01:17:05.577Z"
   },
   {
    "duration": 11,
    "start_time": "2023-01-12T01:17:05.780Z"
   },
   {
    "duration": 56,
    "start_time": "2023-01-12T01:17:06.199Z"
   },
   {
    "duration": 10,
    "start_time": "2023-01-12T01:17:06.813Z"
   },
   {
    "duration": 5,
    "start_time": "2023-01-12T01:17:07.041Z"
   },
   {
    "duration": 13,
    "start_time": "2023-01-12T01:17:07.245Z"
   },
   {
    "duration": 14,
    "start_time": "2023-01-12T01:17:07.692Z"
   },
   {
    "duration": 11,
    "start_time": "2023-01-12T01:17:08.801Z"
   },
   {
    "duration": 30,
    "start_time": "2023-01-12T01:17:08.976Z"
   },
   {
    "duration": 7,
    "start_time": "2023-01-12T01:17:09.184Z"
   },
   {
    "duration": 12,
    "start_time": "2023-01-12T01:17:10.174Z"
   },
   {
    "duration": 25,
    "start_time": "2023-01-12T01:17:10.372Z"
   },
   {
    "duration": 6,
    "start_time": "2023-01-12T01:17:10.571Z"
   },
   {
    "duration": 7,
    "start_time": "2023-01-12T01:17:11.397Z"
   },
   {
    "duration": 12,
    "start_time": "2023-01-12T01:17:11.580Z"
   },
   {
    "duration": 6,
    "start_time": "2023-01-12T01:17:11.797Z"
   },
   {
    "duration": 25,
    "start_time": "2023-01-12T01:17:12.651Z"
   },
   {
    "duration": 25,
    "start_time": "2023-01-12T01:17:12.871Z"
   },
   {
    "duration": 28,
    "start_time": "2023-01-12T01:17:13.081Z"
   },
   {
    "duration": 19,
    "start_time": "2023-01-12T01:17:13.298Z"
   },
   {
    "duration": 6,
    "start_time": "2023-01-12T01:17:13.690Z"
   },
   {
    "duration": 6,
    "start_time": "2023-01-12T01:17:13.900Z"
   },
   {
    "duration": 16,
    "start_time": "2023-01-12T01:17:14.075Z"
   },
   {
    "duration": 27,
    "start_time": "2023-01-12T01:17:14.276Z"
   },
   {
    "duration": 15,
    "start_time": "2023-01-12T01:17:14.465Z"
   },
   {
    "duration": 3,
    "start_time": "2023-01-12T01:17:14.649Z"
   },
   {
    "duration": 29,
    "start_time": "2023-01-12T01:17:15.037Z"
   },
   {
    "duration": 110,
    "start_time": "2023-01-12T01:17:16.491Z"
   },
   {
    "duration": 8,
    "start_time": "2023-01-12T01:17:18.226Z"
   },
   {
    "duration": 11,
    "start_time": "2023-01-12T01:17:22.076Z"
   },
   {
    "duration": 4,
    "start_time": "2023-01-12T01:17:22.566Z"
   },
   {
    "duration": 21,
    "start_time": "2023-01-12T01:17:22.935Z"
   },
   {
    "duration": 21,
    "start_time": "2023-01-12T01:17:23.527Z"
   },
   {
    "duration": 9,
    "start_time": "2023-01-12T01:17:24.883Z"
   },
   {
    "duration": 46,
    "start_time": "2023-01-12T01:17:25.460Z"
   },
   {
    "duration": 126,
    "start_time": "2023-01-12T01:17:28.316Z"
   },
   {
    "duration": 19,
    "start_time": "2023-01-12T01:17:29.301Z"
   },
   {
    "duration": 18,
    "start_time": "2023-01-12T01:18:15.988Z"
   },
   {
    "duration": 11,
    "start_time": "2023-01-12T01:18:44.845Z"
   },
   {
    "duration": 48,
    "start_time": "2023-01-12T01:18:51.912Z"
   },
   {
    "duration": 49,
    "start_time": "2023-01-12T01:19:05.362Z"
   },
   {
    "duration": 23,
    "start_time": "2023-01-12T01:19:06.000Z"
   },
   {
    "duration": 9,
    "start_time": "2023-01-12T01:19:07.403Z"
   },
   {
    "duration": 89882,
    "start_time": "2023-01-12T01:19:10.614Z"
   },
   {
    "duration": 2632,
    "start_time": "2023-01-12T01:24:09.733Z"
   },
   {
    "duration": 369539,
    "start_time": "2023-01-12T01:24:13.921Z"
   },
   {
    "duration": 41648,
    "start_time": "2023-01-12T01:30:38.980Z"
   },
   {
    "duration": 25505,
    "start_time": "2023-01-12T01:31:38.295Z"
   },
   {
    "duration": 2,
    "start_time": "2023-01-12T01:32:07.201Z"
   },
   {
    "duration": 9,
    "start_time": "2023-01-12T01:32:07.844Z"
   },
   {
    "duration": 155,
    "start_time": "2023-01-12T01:32:10.908Z"
   },
   {
    "duration": 3,
    "start_time": "2023-01-12T01:32:16.005Z"
   },
   {
    "duration": 10,
    "start_time": "2023-01-12T01:32:16.660Z"
   },
   {
    "duration": 218,
    "start_time": "2023-01-12T01:32:27.902Z"
   },
   {
    "duration": 12,
    "start_time": "2023-01-12T01:33:50.864Z"
   },
   {
    "duration": 8,
    "start_time": "2023-01-12T01:34:46.633Z"
   },
   {
    "duration": 2314,
    "start_time": "2023-01-12T01:40:26.512Z"
   },
   {
    "duration": 1596,
    "start_time": "2023-01-12T01:40:28.829Z"
   },
   {
    "duration": 110,
    "start_time": "2023-01-12T01:40:30.427Z"
   },
   {
    "duration": 14,
    "start_time": "2023-01-12T01:40:30.540Z"
   },
   {
    "duration": 23,
    "start_time": "2023-01-12T01:40:30.555Z"
   },
   {
    "duration": 26,
    "start_time": "2023-01-12T01:40:30.579Z"
   },
   {
    "duration": 39,
    "start_time": "2023-01-12T01:40:30.607Z"
   },
   {
    "duration": 18,
    "start_time": "2023-01-12T01:40:30.649Z"
   },
   {
    "duration": 33,
    "start_time": "2023-01-12T01:40:30.669Z"
   },
   {
    "duration": 38,
    "start_time": "2023-01-12T01:40:30.705Z"
   },
   {
    "duration": 25,
    "start_time": "2023-01-12T01:40:30.745Z"
   },
   {
    "duration": 686,
    "start_time": "2023-01-12T01:40:30.772Z"
   },
   {
    "duration": 9,
    "start_time": "2023-01-12T01:40:31.460Z"
   },
   {
    "duration": 8292,
    "start_time": "2023-01-12T01:40:31.471Z"
   },
   {
    "duration": 89,
    "start_time": "2023-01-12T01:40:39.765Z"
   },
   {
    "duration": 12,
    "start_time": "2023-01-12T01:40:39.857Z"
   },
   {
    "duration": 26,
    "start_time": "2023-01-12T01:40:39.871Z"
   },
   {
    "duration": 33,
    "start_time": "2023-01-12T01:40:39.899Z"
   },
   {
    "duration": 30,
    "start_time": "2023-01-12T01:40:39.934Z"
   },
   {
    "duration": 29,
    "start_time": "2023-01-12T01:40:39.966Z"
   },
   {
    "duration": 30,
    "start_time": "2023-01-12T01:40:39.997Z"
   },
   {
    "duration": 28,
    "start_time": "2023-01-12T01:40:40.029Z"
   },
   {
    "duration": 133,
    "start_time": "2023-01-12T01:40:40.059Z"
   },
   {
    "duration": 35,
    "start_time": "2023-01-12T01:40:40.194Z"
   },
   {
    "duration": 829,
    "start_time": "2023-01-12T01:40:40.233Z"
   },
   {
    "duration": 88,
    "start_time": "2023-01-12T01:40:41.064Z"
   },
   {
    "duration": 14,
    "start_time": "2023-01-12T01:40:41.154Z"
   },
   {
    "duration": 18,
    "start_time": "2023-01-12T01:40:41.170Z"
   },
   {
    "duration": 14,
    "start_time": "2023-01-12T01:40:41.190Z"
   },
   {
    "duration": 18,
    "start_time": "2023-01-12T01:40:41.206Z"
   },
   {
    "duration": 37,
    "start_time": "2023-01-12T01:40:41.226Z"
   },
   {
    "duration": 16,
    "start_time": "2023-01-12T01:40:41.265Z"
   },
   {
    "duration": 396,
    "start_time": "2023-01-12T01:40:41.284Z"
   },
   {
    "duration": 64,
    "start_time": "2023-01-12T01:40:41.681Z"
   },
   {
    "duration": 11,
    "start_time": "2023-01-12T01:40:41.747Z"
   },
   {
    "duration": 11,
    "start_time": "2023-01-12T01:40:41.759Z"
   },
   {
    "duration": 9,
    "start_time": "2023-01-12T01:40:41.771Z"
   },
   {
    "duration": 11,
    "start_time": "2023-01-12T01:40:42.814Z"
   },
   {
    "duration": 24,
    "start_time": "2023-01-12T01:40:43.031Z"
   },
   {
    "duration": 7,
    "start_time": "2023-01-12T01:40:43.225Z"
   },
   {
    "duration": 9,
    "start_time": "2023-01-12T01:40:43.645Z"
   },
   {
    "duration": 8,
    "start_time": "2023-01-12T01:40:43.894Z"
   },
   {
    "duration": 6,
    "start_time": "2023-01-12T01:40:44.092Z"
   },
   {
    "duration": 12,
    "start_time": "2023-01-12T01:40:44.373Z"
   },
   {
    "duration": 68,
    "start_time": "2023-01-12T01:40:44.717Z"
   },
   {
    "duration": 9,
    "start_time": "2023-01-12T01:40:45.405Z"
   },
   {
    "duration": 5,
    "start_time": "2023-01-12T01:40:45.625Z"
   },
   {
    "duration": 14,
    "start_time": "2023-01-12T01:40:45.846Z"
   },
   {
    "duration": 13,
    "start_time": "2023-01-12T01:40:46.297Z"
   },
   {
    "duration": 11,
    "start_time": "2023-01-12T01:40:47.342Z"
   },
   {
    "duration": 35,
    "start_time": "2023-01-12T01:40:47.554Z"
   },
   {
    "duration": 7,
    "start_time": "2023-01-12T01:40:47.777Z"
   },
   {
    "duration": 9,
    "start_time": "2023-01-12T01:40:48.648Z"
   },
   {
    "duration": 18,
    "start_time": "2023-01-12T01:40:48.866Z"
   },
   {
    "duration": 5,
    "start_time": "2023-01-12T01:40:49.098Z"
   },
   {
    "duration": 7,
    "start_time": "2023-01-12T01:40:49.981Z"
   },
   {
    "duration": 11,
    "start_time": "2023-01-12T01:40:50.191Z"
   },
   {
    "duration": 6,
    "start_time": "2023-01-12T01:40:50.405Z"
   },
   {
    "duration": 24,
    "start_time": "2023-01-12T01:40:51.276Z"
   },
   {
    "duration": 24,
    "start_time": "2023-01-12T01:40:51.501Z"
   },
   {
    "duration": 28,
    "start_time": "2023-01-12T01:40:51.715Z"
   },
   {
    "duration": 20,
    "start_time": "2023-01-12T01:40:51.957Z"
   },
   {
    "duration": 6,
    "start_time": "2023-01-12T01:40:52.187Z"
   },
   {
    "duration": 3,
    "start_time": "2023-01-12T01:40:52.445Z"
   },
   {
    "duration": 17,
    "start_time": "2023-01-12T01:40:52.653Z"
   },
   {
    "duration": 29,
    "start_time": "2023-01-12T01:40:52.857Z"
   },
   {
    "duration": 15,
    "start_time": "2023-01-12T01:40:53.111Z"
   },
   {
    "duration": 7,
    "start_time": "2023-01-12T01:40:53.341Z"
   },
   {
    "duration": 24,
    "start_time": "2023-01-12T01:40:53.800Z"
   },
   {
    "duration": 110,
    "start_time": "2023-01-12T01:40:54.965Z"
   },
   {
    "duration": 8,
    "start_time": "2023-01-12T01:40:55.610Z"
   },
   {
    "duration": 11,
    "start_time": "2023-01-12T01:40:55.838Z"
   },
   {
    "duration": 3,
    "start_time": "2023-01-12T01:40:56.063Z"
   },
   {
    "duration": 23,
    "start_time": "2023-01-12T01:40:56.295Z"
   },
   {
    "duration": 22,
    "start_time": "2023-01-12T01:40:56.510Z"
   },
   {
    "duration": 8,
    "start_time": "2023-01-12T01:40:58.275Z"
   },
   {
    "duration": 46,
    "start_time": "2023-01-12T01:40:58.769Z"
   },
   {
    "duration": 14,
    "start_time": "2023-01-12T01:40:59.644Z"
   },
   {
    "duration": 49,
    "start_time": "2023-01-12T01:41:00.256Z"
   },
   {
    "duration": 53,
    "start_time": "2023-01-12T01:41:00.903Z"
   },
   {
    "duration": 20,
    "start_time": "2023-01-12T01:41:01.201Z"
   },
   {
    "duration": 9,
    "start_time": "2023-01-12T01:41:01.733Z"
   },
   {
    "duration": 99621,
    "start_time": "2023-01-12T01:41:03.921Z"
   },
   {
    "duration": 8,
    "start_time": "2023-01-12T01:42:43.544Z"
   },
   {
    "duration": 5213,
    "start_time": "2023-01-12T01:45:24.945Z"
   },
   {
    "duration": 523043,
    "start_time": "2023-01-12T01:45:32.447Z"
   },
   {
    "duration": 27807,
    "start_time": "2023-01-12T01:55:14.961Z"
   },
   {
    "duration": 3,
    "start_time": "2023-01-12T01:55:42.771Z"
   },
   {
    "duration": 11,
    "start_time": "2023-01-12T01:57:13.733Z"
   },
   {
    "duration": 172,
    "start_time": "2023-01-12T01:57:19.879Z"
   },
   {
    "duration": 6,
    "start_time": "2023-01-12T01:57:26.133Z"
   },
   {
    "duration": 244,
    "start_time": "2023-01-12T01:57:29.591Z"
   },
   {
    "duration": 6,
    "start_time": "2023-01-12T01:59:35.286Z"
   },
   {
    "duration": 20,
    "start_time": "2023-01-12T01:59:36.082Z"
   },
   {
    "duration": 36,
    "start_time": "2023-01-12T01:59:37.483Z"
   },
   {
    "duration": 19,
    "start_time": "2023-01-12T01:59:43.255Z"
   },
   {
    "duration": 2,
    "start_time": "2023-01-12T01:59:51.040Z"
   },
   {
    "duration": 31,
    "start_time": "2023-01-12T01:59:52.325Z"
   },
   {
    "duration": 106,
    "start_time": "2023-01-12T01:59:56.324Z"
   },
   {
    "duration": 8,
    "start_time": "2023-01-12T01:59:57.156Z"
   },
   {
    "duration": 11,
    "start_time": "2023-01-12T01:59:57.503Z"
   },
   {
    "duration": 3,
    "start_time": "2023-01-12T01:59:59.256Z"
   },
   {
    "duration": 19,
    "start_time": "2023-01-12T01:59:59.525Z"
   },
   {
    "duration": 20,
    "start_time": "2023-01-12T02:00:01.446Z"
   },
   {
    "duration": 9,
    "start_time": "2023-01-12T02:00:02.263Z"
   },
   {
    "duration": 43,
    "start_time": "2023-01-12T02:00:03.994Z"
   },
   {
    "duration": 13,
    "start_time": "2023-01-12T02:00:09.351Z"
   },
   {
    "duration": 46,
    "start_time": "2023-01-12T02:00:10.529Z"
   },
   {
    "duration": 54,
    "start_time": "2023-01-12T02:00:11.354Z"
   },
   {
    "duration": 25,
    "start_time": "2023-01-12T02:00:11.548Z"
   },
   {
    "duration": 8,
    "start_time": "2023-01-12T02:00:12.403Z"
   },
   {
    "duration": 7,
    "start_time": "2023-01-12T02:00:55.000Z"
   },
   {
    "duration": 692,
    "start_time": "2023-01-12T02:02:17.772Z"
   },
   {
    "duration": 293,
    "start_time": "2023-01-12T02:02:25.714Z"
   },
   {
    "duration": 319,
    "start_time": "2023-01-12T02:03:20.374Z"
   },
   {
    "duration": 5,
    "start_time": "2023-01-12T02:06:50.532Z"
   },
   {
    "duration": 306,
    "start_time": "2023-01-12T02:07:02.760Z"
   },
   {
    "duration": 5,
    "start_time": "2023-01-12T02:07:16.776Z"
   },
   {
    "duration": 2361,
    "start_time": "2023-01-12T02:10:01.924Z"
   },
   {
    "duration": 1512,
    "start_time": "2023-01-12T02:10:04.287Z"
   },
   {
    "duration": 102,
    "start_time": "2023-01-12T02:10:05.801Z"
   },
   {
    "duration": 14,
    "start_time": "2023-01-12T02:10:05.905Z"
   },
   {
    "duration": 14,
    "start_time": "2023-01-12T02:10:05.921Z"
   },
   {
    "duration": 8,
    "start_time": "2023-01-12T02:10:05.936Z"
   },
   {
    "duration": 11,
    "start_time": "2023-01-12T02:10:05.945Z"
   },
   {
    "duration": 11,
    "start_time": "2023-01-12T02:10:05.957Z"
   },
   {
    "duration": 11,
    "start_time": "2023-01-12T02:10:05.970Z"
   },
   {
    "duration": 9,
    "start_time": "2023-01-12T02:10:05.984Z"
   },
   {
    "duration": 13,
    "start_time": "2023-01-12T02:10:05.995Z"
   },
   {
    "duration": 672,
    "start_time": "2023-01-12T02:10:06.010Z"
   },
   {
    "duration": 11,
    "start_time": "2023-01-12T02:10:06.684Z"
   },
   {
    "duration": 8258,
    "start_time": "2023-01-12T02:10:06.696Z"
   },
   {
    "duration": 87,
    "start_time": "2023-01-12T02:10:14.956Z"
   },
   {
    "duration": 13,
    "start_time": "2023-01-12T02:10:15.045Z"
   },
   {
    "duration": 14,
    "start_time": "2023-01-12T02:10:15.060Z"
   },
   {
    "duration": 12,
    "start_time": "2023-01-12T02:10:15.076Z"
   },
   {
    "duration": 17,
    "start_time": "2023-01-12T02:10:15.090Z"
   },
   {
    "duration": 18,
    "start_time": "2023-01-12T02:10:15.109Z"
   },
   {
    "duration": 8,
    "start_time": "2023-01-12T02:10:15.129Z"
   },
   {
    "duration": 19,
    "start_time": "2023-01-12T02:10:15.138Z"
   },
   {
    "duration": 111,
    "start_time": "2023-01-12T02:10:15.159Z"
   },
   {
    "duration": 8,
    "start_time": "2023-01-12T02:10:15.271Z"
   },
   {
    "duration": 824,
    "start_time": "2023-01-12T02:10:15.282Z"
   },
   {
    "duration": 86,
    "start_time": "2023-01-12T02:10:16.107Z"
   },
   {
    "duration": 15,
    "start_time": "2023-01-12T02:10:16.194Z"
   },
   {
    "duration": 12,
    "start_time": "2023-01-12T02:10:16.211Z"
   },
   {
    "duration": 7,
    "start_time": "2023-01-12T02:10:16.225Z"
   },
   {
    "duration": 10,
    "start_time": "2023-01-12T02:10:16.234Z"
   },
   {
    "duration": 8,
    "start_time": "2023-01-12T02:10:16.246Z"
   },
   {
    "duration": 10,
    "start_time": "2023-01-12T02:10:16.256Z"
   },
   {
    "duration": 413,
    "start_time": "2023-01-12T02:10:16.268Z"
   },
   {
    "duration": 59,
    "start_time": "2023-01-12T02:10:16.683Z"
   },
   {
    "duration": 13,
    "start_time": "2023-01-12T02:10:16.744Z"
   },
   {
    "duration": 9,
    "start_time": "2023-01-12T02:10:16.758Z"
   },
   {
    "duration": 7,
    "start_time": "2023-01-12T02:10:16.769Z"
   },
   {
    "duration": 15,
    "start_time": "2023-01-12T02:10:18.659Z"
   },
   {
    "duration": 25,
    "start_time": "2023-01-12T02:10:19.035Z"
   },
   {
    "duration": 6,
    "start_time": "2023-01-12T02:10:19.267Z"
   },
   {
    "duration": 9,
    "start_time": "2023-01-12T02:10:20.564Z"
   },
   {
    "duration": 7,
    "start_time": "2023-01-12T02:10:20.946Z"
   },
   {
    "duration": 6,
    "start_time": "2023-01-12T02:10:21.396Z"
   },
   {
    "duration": 9,
    "start_time": "2023-01-12T02:10:21.727Z"
   },
   {
    "duration": 57,
    "start_time": "2023-01-12T02:10:22.594Z"
   },
   {
    "duration": 8,
    "start_time": "2023-01-12T02:10:24.730Z"
   },
   {
    "duration": 4,
    "start_time": "2023-01-12T02:10:25.389Z"
   },
   {
    "duration": 13,
    "start_time": "2023-01-12T02:10:27.772Z"
   },
   {
    "duration": 6,
    "start_time": "2023-01-12T02:10:28.804Z"
   },
   {
    "duration": 301,
    "start_time": "2023-01-12T02:10:30.129Z"
   },
   {
    "duration": 290,
    "start_time": "2023-01-12T02:10:33.901Z"
   },
   {
    "duration": 6,
    "start_time": "2023-01-12T02:10:37.379Z"
   },
   {
    "duration": 313,
    "start_time": "2023-01-12T02:10:38.934Z"
   },
   {
    "duration": 6,
    "start_time": "2023-01-12T02:10:55.110Z"
   },
   {
    "duration": 289,
    "start_time": "2023-01-12T02:10:55.968Z"
   },
   {
    "duration": 4,
    "start_time": "2023-01-12T02:11:15.243Z"
   },
   {
    "duration": 7,
    "start_time": "2023-01-12T02:11:27.486Z"
   },
   {
    "duration": 5,
    "start_time": "2023-01-12T02:11:41.387Z"
   },
   {
    "duration": 7,
    "start_time": "2023-01-12T02:11:41.954Z"
   },
   {
    "duration": 394,
    "start_time": "2023-01-12T02:11:44.725Z"
   },
   {
    "duration": 6,
    "start_time": "2023-01-12T02:11:59.620Z"
   },
   {
    "duration": 8,
    "start_time": "2023-01-12T02:12:00.292Z"
   },
   {
    "duration": 308,
    "start_time": "2023-01-12T02:12:03.098Z"
   },
   {
    "duration": 14,
    "start_time": "2023-01-12T02:12:54.521Z"
   },
   {
    "duration": 6,
    "start_time": "2023-01-12T02:12:54.969Z"
   },
   {
    "duration": 297,
    "start_time": "2023-01-12T02:12:55.528Z"
   },
   {
    "duration": 2270,
    "start_time": "2023-01-12T02:13:06.777Z"
   },
   {
    "duration": 1685,
    "start_time": "2023-01-12T02:13:09.050Z"
   },
   {
    "duration": 99,
    "start_time": "2023-01-12T02:13:10.737Z"
   },
   {
    "duration": 15,
    "start_time": "2023-01-12T02:13:10.839Z"
   },
   {
    "duration": 14,
    "start_time": "2023-01-12T02:13:10.855Z"
   },
   {
    "duration": 8,
    "start_time": "2023-01-12T02:13:10.871Z"
   },
   {
    "duration": 14,
    "start_time": "2023-01-12T02:13:10.881Z"
   },
   {
    "duration": 13,
    "start_time": "2023-01-12T02:13:10.897Z"
   },
   {
    "duration": 11,
    "start_time": "2023-01-12T02:13:10.912Z"
   },
   {
    "duration": 29,
    "start_time": "2023-01-12T02:13:10.926Z"
   },
   {
    "duration": 18,
    "start_time": "2023-01-12T02:13:10.957Z"
   },
   {
    "duration": 707,
    "start_time": "2023-01-12T02:13:10.977Z"
   },
   {
    "duration": 10,
    "start_time": "2023-01-12T02:13:11.686Z"
   },
   {
    "duration": 8292,
    "start_time": "2023-01-12T02:13:11.698Z"
   },
   {
    "duration": 90,
    "start_time": "2023-01-12T02:13:19.993Z"
   },
   {
    "duration": 14,
    "start_time": "2023-01-12T02:13:20.084Z"
   },
   {
    "duration": 12,
    "start_time": "2023-01-12T02:13:20.100Z"
   },
   {
    "duration": 6,
    "start_time": "2023-01-12T02:13:20.114Z"
   },
   {
    "duration": 16,
    "start_time": "2023-01-12T02:13:20.121Z"
   },
   {
    "duration": 15,
    "start_time": "2023-01-12T02:13:20.139Z"
   },
   {
    "duration": 16,
    "start_time": "2023-01-12T02:13:20.157Z"
   },
   {
    "duration": 17,
    "start_time": "2023-01-12T02:13:20.175Z"
   },
   {
    "duration": 105,
    "start_time": "2023-01-12T02:13:20.193Z"
   },
   {
    "duration": 8,
    "start_time": "2023-01-12T02:13:20.300Z"
   },
   {
    "duration": 820,
    "start_time": "2023-01-12T02:13:20.312Z"
   },
   {
    "duration": 90,
    "start_time": "2023-01-12T02:13:21.134Z"
   },
   {
    "duration": 13,
    "start_time": "2023-01-12T02:13:21.226Z"
   },
   {
    "duration": 16,
    "start_time": "2023-01-12T02:13:21.241Z"
   },
   {
    "duration": 7,
    "start_time": "2023-01-12T02:13:21.259Z"
   },
   {
    "duration": 9,
    "start_time": "2023-01-12T02:13:21.268Z"
   },
   {
    "duration": 10,
    "start_time": "2023-01-12T02:13:21.279Z"
   },
   {
    "duration": 11,
    "start_time": "2023-01-12T02:13:21.291Z"
   },
   {
    "duration": 485,
    "start_time": "2023-01-12T02:13:21.304Z"
   },
   {
    "duration": 56,
    "start_time": "2023-01-12T02:13:21.791Z"
   },
   {
    "duration": 12,
    "start_time": "2023-01-12T02:13:21.848Z"
   },
   {
    "duration": 11,
    "start_time": "2023-01-12T02:13:21.861Z"
   },
   {
    "duration": 6,
    "start_time": "2023-01-12T02:13:21.874Z"
   },
   {
    "duration": 12,
    "start_time": "2023-01-12T02:13:22.437Z"
   },
   {
    "duration": 25,
    "start_time": "2023-01-12T02:13:22.666Z"
   },
   {
    "duration": 9,
    "start_time": "2023-01-12T02:13:22.866Z"
   },
   {
    "duration": 10,
    "start_time": "2023-01-12T02:13:23.337Z"
   },
   {
    "duration": 8,
    "start_time": "2023-01-12T02:13:23.526Z"
   },
   {
    "duration": 5,
    "start_time": "2023-01-12T02:13:23.729Z"
   },
   {
    "duration": 13,
    "start_time": "2023-01-12T02:13:23.935Z"
   },
   {
    "duration": 58,
    "start_time": "2023-01-12T02:13:29.364Z"
   },
   {
    "duration": 11,
    "start_time": "2023-01-12T02:13:30.155Z"
   },
   {
    "duration": 5,
    "start_time": "2023-01-12T02:13:30.568Z"
   },
   {
    "duration": 15,
    "start_time": "2023-01-12T02:13:30.909Z"
   },
   {
    "duration": 8,
    "start_time": "2023-01-12T02:13:31.152Z"
   },
   {
    "duration": 301,
    "start_time": "2023-01-12T02:13:33.939Z"
   },
   {
    "duration": 17,
    "start_time": "2023-01-12T02:14:30.701Z"
   },
   {
    "duration": 11,
    "start_time": "2023-01-12T02:14:36.017Z"
   },
   {
    "duration": 35,
    "start_time": "2023-01-12T02:14:36.204Z"
   },
   {
    "duration": 7,
    "start_time": "2023-01-12T02:14:36.419Z"
   },
   {
    "duration": 9,
    "start_time": "2023-01-12T02:14:37.199Z"
   },
   {
    "duration": 25,
    "start_time": "2023-01-12T02:14:37.431Z"
   },
   {
    "duration": 7,
    "start_time": "2023-01-12T02:14:37.611Z"
   },
   {
    "duration": 8,
    "start_time": "2023-01-12T02:14:38.396Z"
   },
   {
    "duration": 15,
    "start_time": "2023-01-12T02:14:38.637Z"
   },
   {
    "duration": 6,
    "start_time": "2023-01-12T02:14:38.832Z"
   },
   {
    "duration": 27,
    "start_time": "2023-01-12T02:14:39.922Z"
   },
   {
    "duration": 26,
    "start_time": "2023-01-12T02:14:40.129Z"
   },
   {
    "duration": 37,
    "start_time": "2023-01-12T02:14:40.330Z"
   },
   {
    "duration": 18,
    "start_time": "2023-01-12T02:14:40.570Z"
   },
   {
    "duration": 6,
    "start_time": "2023-01-12T02:14:40.769Z"
   },
   {
    "duration": 6,
    "start_time": "2023-01-12T02:14:40.987Z"
   },
   {
    "duration": 17,
    "start_time": "2023-01-12T02:14:41.178Z"
   },
   {
    "duration": 27,
    "start_time": "2023-01-12T02:14:41.391Z"
   },
   {
    "duration": 15,
    "start_time": "2023-01-12T02:14:41.552Z"
   },
   {
    "duration": 2,
    "start_time": "2023-01-12T02:14:41.738Z"
   },
   {
    "duration": 33,
    "start_time": "2023-01-12T02:14:42.149Z"
   },
   {
    "duration": 119,
    "start_time": "2023-01-12T02:14:43.145Z"
   },
   {
    "duration": 8,
    "start_time": "2023-01-12T02:14:43.761Z"
   },
   {
    "duration": 13,
    "start_time": "2023-01-12T02:14:43.998Z"
   },
   {
    "duration": 4,
    "start_time": "2023-01-12T02:14:44.562Z"
   },
   {
    "duration": 22,
    "start_time": "2023-01-12T02:14:44.877Z"
   },
   {
    "duration": 22,
    "start_time": "2023-01-12T02:14:45.133Z"
   },
   {
    "duration": 9,
    "start_time": "2023-01-12T02:14:45.874Z"
   },
   {
    "duration": 47,
    "start_time": "2023-01-12T02:14:46.063Z"
   },
   {
    "duration": 12,
    "start_time": "2023-01-12T02:14:47.298Z"
   },
   {
    "duration": 45,
    "start_time": "2023-01-12T02:14:47.690Z"
   },
   {
    "duration": 53,
    "start_time": "2023-01-12T02:14:48.089Z"
   },
   {
    "duration": 22,
    "start_time": "2023-01-12T02:14:48.291Z"
   },
   {
    "duration": 11,
    "start_time": "2023-01-12T02:14:50.725Z"
   },
   {
    "duration": 93400,
    "start_time": "2023-01-12T02:14:52.691Z"
   },
   {
    "duration": 5559,
    "start_time": "2023-01-12T02:16:26.093Z"
   },
   {
    "duration": 379815,
    "start_time": "2023-01-12T02:16:31.654Z"
   },
   {
    "duration": 26165,
    "start_time": "2023-01-12T02:22:51.472Z"
   },
   {
    "duration": 4,
    "start_time": "2023-01-12T02:23:17.638Z"
   },
   {
    "duration": 20,
    "start_time": "2023-01-12T02:23:17.643Z"
   },
   {
    "duration": 174,
    "start_time": "2023-01-12T02:23:17.665Z"
   },
   {
    "duration": 15,
    "start_time": "2023-01-12T02:23:17.840Z"
   },
   {
    "duration": 229,
    "start_time": "2023-01-12T02:23:17.856Z"
   },
   {
    "duration": 3079,
    "start_time": "2023-01-13T10:36:22.687Z"
   },
   {
    "duration": 1695,
    "start_time": "2023-01-13T10:36:25.768Z"
   },
   {
    "duration": 205,
    "start_time": "2023-01-13T10:36:27.465Z"
   },
   {
    "duration": 14,
    "start_time": "2023-01-13T10:36:30.503Z"
   },
   {
    "duration": 10,
    "start_time": "2023-01-13T10:36:30.764Z"
   },
   {
    "duration": 7,
    "start_time": "2023-01-13T10:36:30.955Z"
   },
   {
    "duration": 7,
    "start_time": "2023-01-13T10:36:31.147Z"
   },
   {
    "duration": 6,
    "start_time": "2023-01-13T10:36:31.345Z"
   },
   {
    "duration": 6,
    "start_time": "2023-01-13T10:36:31.529Z"
   },
   {
    "duration": 7,
    "start_time": "2023-01-13T10:36:31.742Z"
   },
   {
    "duration": 8,
    "start_time": "2023-01-13T10:36:31.915Z"
   },
   {
    "duration": 602,
    "start_time": "2023-01-13T10:36:32.107Z"
   },
   {
    "duration": 10,
    "start_time": "2023-01-13T10:36:32.711Z"
   },
   {
    "duration": 7462,
    "start_time": "2023-01-13T10:36:32.722Z"
   },
   {
    "duration": 171,
    "start_time": "2023-01-13T10:36:40.186Z"
   },
   {
    "duration": 11,
    "start_time": "2023-01-13T10:36:40.359Z"
   },
   {
    "duration": 11,
    "start_time": "2023-01-13T10:36:40.371Z"
   },
   {
    "duration": 5,
    "start_time": "2023-01-13T10:36:40.384Z"
   },
   {
    "duration": 6,
    "start_time": "2023-01-13T10:36:40.391Z"
   },
   {
    "duration": 8,
    "start_time": "2023-01-13T10:36:40.399Z"
   },
   {
    "duration": 7,
    "start_time": "2023-01-13T10:36:40.409Z"
   },
   {
    "duration": 7,
    "start_time": "2023-01-13T10:36:40.417Z"
   },
   {
    "duration": 99,
    "start_time": "2023-01-13T10:36:40.437Z"
   },
   {
    "duration": 9,
    "start_time": "2023-01-13T10:36:40.537Z"
   },
   {
    "duration": 722,
    "start_time": "2023-01-13T10:36:40.547Z"
   },
   {
    "duration": 108,
    "start_time": "2023-01-13T10:36:41.271Z"
   },
   {
    "duration": 12,
    "start_time": "2023-01-13T10:36:41.381Z"
   },
   {
    "duration": 18,
    "start_time": "2023-01-13T10:36:41.394Z"
   },
   {
    "duration": 24,
    "start_time": "2023-01-13T10:36:41.413Z"
   },
   {
    "duration": 18,
    "start_time": "2023-01-13T10:36:41.439Z"
   },
   {
    "duration": 33,
    "start_time": "2023-01-13T10:36:41.460Z"
   },
   {
    "duration": 16,
    "start_time": "2023-01-13T10:36:41.495Z"
   },
   {
    "duration": 370,
    "start_time": "2023-01-13T10:36:41.513Z"
   },
   {
    "duration": 90,
    "start_time": "2023-01-13T10:36:41.885Z"
   },
   {
    "duration": 11,
    "start_time": "2023-01-13T10:36:41.976Z"
   },
   {
    "duration": 31,
    "start_time": "2023-01-13T10:36:41.990Z"
   },
   {
    "duration": 25,
    "start_time": "2023-01-13T10:36:42.023Z"
   },
   {
    "duration": 17,
    "start_time": "2023-01-13T10:52:21.447Z"
   },
   {
    "duration": 24,
    "start_time": "2023-01-13T10:52:21.930Z"
   },
   {
    "duration": 8,
    "start_time": "2023-01-13T10:52:22.544Z"
   },
   {
    "duration": 7,
    "start_time": "2023-01-13T10:52:40.018Z"
   },
   {
    "duration": 11,
    "start_time": "2023-01-13T10:52:41.048Z"
   },
   {
    "duration": 6,
    "start_time": "2023-01-13T10:52:42.553Z"
   },
   {
    "duration": 8,
    "start_time": "2023-01-13T10:52:45.019Z"
   },
   {
    "duration": 13,
    "start_time": "2023-01-13T10:52:45.833Z"
   },
   {
    "duration": 58,
    "start_time": "2023-01-13T10:52:46.676Z"
   },
   {
    "duration": 14,
    "start_time": "2023-01-13T10:52:48.194Z"
   },
   {
    "duration": 7,
    "start_time": "2023-01-13T10:52:48.443Z"
   },
   {
    "duration": 18,
    "start_time": "2023-01-13T10:52:48.728Z"
   },
   {
    "duration": 12,
    "start_time": "2023-01-13T10:52:49.414Z"
   },
   {
    "duration": 488,
    "start_time": "2023-01-13T10:52:49.724Z"
   },
   {
    "duration": 18,
    "start_time": "2023-01-13T10:52:51.284Z"
   },
   {
    "duration": 11,
    "start_time": "2023-01-13T10:52:52.690Z"
   },
   {
    "duration": 35,
    "start_time": "2023-01-13T10:52:53.033Z"
   },
   {
    "duration": 8,
    "start_time": "2023-01-13T10:52:53.540Z"
   },
   {
    "duration": 13,
    "start_time": "2023-01-13T10:52:54.997Z"
   },
   {
    "duration": 26,
    "start_time": "2023-01-13T10:52:55.440Z"
   },
   {
    "duration": 8,
    "start_time": "2023-01-13T10:52:55.673Z"
   },
   {
    "duration": 11,
    "start_time": "2023-01-13T10:52:56.809Z"
   },
   {
    "duration": 11,
    "start_time": "2023-01-13T10:52:57.180Z"
   },
   {
    "duration": 6,
    "start_time": "2023-01-13T10:52:57.503Z"
   },
   {
    "duration": 36,
    "start_time": "2023-01-13T10:52:58.740Z"
   },
   {
    "duration": 35,
    "start_time": "2023-01-13T10:52:59.150Z"
   },
   {
    "duration": 45,
    "start_time": "2023-01-13T10:52:59.641Z"
   },
   {
    "duration": 19,
    "start_time": "2023-01-13T10:53:00.674Z"
   },
   {
    "duration": 8,
    "start_time": "2023-01-13T10:53:01.208Z"
   },
   {
    "duration": 8,
    "start_time": "2023-01-13T10:53:01.615Z"
   },
   {
    "duration": 16,
    "start_time": "2023-01-13T10:53:02.486Z"
   },
   {
    "duration": 29,
    "start_time": "2023-01-13T10:53:04.319Z"
   },
   {
    "duration": 24,
    "start_time": "2023-01-13T10:53:04.662Z"
   },
   {
    "duration": 3,
    "start_time": "2023-01-13T10:53:05.054Z"
   },
   {
    "duration": 23,
    "start_time": "2023-01-13T10:57:37.925Z"
   },
   {
    "duration": 107,
    "start_time": "2023-01-13T10:58:23.777Z"
   },
   {
    "duration": 8,
    "start_time": "2023-01-13T10:59:26.275Z"
   },
   {
    "duration": 10,
    "start_time": "2023-01-13T10:59:26.745Z"
   },
   {
    "duration": 3,
    "start_time": "2023-01-13T10:59:27.963Z"
   },
   {
    "duration": 19,
    "start_time": "2023-01-13T10:59:33.128Z"
   },
   {
    "duration": 19,
    "start_time": "2023-01-13T10:59:33.847Z"
   },
   {
    "duration": 7,
    "start_time": "2023-01-13T10:59:39.485Z"
   },
   {
    "duration": 49,
    "start_time": "2023-01-13T10:59:43.020Z"
   },
   {
    "duration": 13,
    "start_time": "2023-01-13T10:59:45.045Z"
   },
   {
    "duration": 18,
    "start_time": "2023-01-13T11:09:11.083Z"
   },
   {
    "duration": 156,
    "start_time": "2023-01-13T11:09:54.151Z"
   },
   {
    "duration": 99,
    "start_time": "2023-01-13T11:11:11.217Z"
   },
   {
    "duration": 2249,
    "start_time": "2023-01-13T11:13:22.665Z"
   },
   {
    "duration": 1475,
    "start_time": "2023-01-13T11:13:24.917Z"
   },
   {
    "duration": 97,
    "start_time": "2023-01-13T11:13:30.061Z"
   },
   {
    "duration": 13,
    "start_time": "2023-01-13T11:13:30.514Z"
   },
   {
    "duration": 10,
    "start_time": "2023-01-13T11:13:30.701Z"
   },
   {
    "duration": 7,
    "start_time": "2023-01-13T11:13:30.886Z"
   },
   {
    "duration": 7,
    "start_time": "2023-01-13T11:13:31.069Z"
   },
   {
    "duration": 6,
    "start_time": "2023-01-13T11:13:31.271Z"
   },
   {
    "duration": 5,
    "start_time": "2023-01-13T11:13:31.462Z"
   },
   {
    "duration": 5,
    "start_time": "2023-01-13T11:13:31.636Z"
   },
   {
    "duration": 8,
    "start_time": "2023-01-13T11:13:31.819Z"
   },
   {
    "duration": 574,
    "start_time": "2023-01-13T11:13:31.991Z"
   },
   {
    "duration": 14,
    "start_time": "2023-01-13T11:13:32.566Z"
   },
   {
    "duration": 7606,
    "start_time": "2023-01-13T11:13:32.582Z"
   },
   {
    "duration": 107,
    "start_time": "2023-01-13T11:13:40.190Z"
   },
   {
    "duration": 12,
    "start_time": "2023-01-13T11:13:40.299Z"
   },
   {
    "duration": 30,
    "start_time": "2023-01-13T11:13:40.312Z"
   },
   {
    "duration": 20,
    "start_time": "2023-01-13T11:13:40.343Z"
   },
   {
    "duration": 34,
    "start_time": "2023-01-13T11:13:40.365Z"
   },
   {
    "duration": 23,
    "start_time": "2023-01-13T11:13:40.400Z"
   },
   {
    "duration": 16,
    "start_time": "2023-01-13T11:13:40.424Z"
   },
   {
    "duration": 33,
    "start_time": "2023-01-13T11:13:40.441Z"
   },
   {
    "duration": 112,
    "start_time": "2023-01-13T11:13:40.475Z"
   },
   {
    "duration": 37,
    "start_time": "2023-01-13T11:13:40.588Z"
   },
   {
    "duration": 753,
    "start_time": "2023-01-13T11:13:40.626Z"
   },
   {
    "duration": 106,
    "start_time": "2023-01-13T11:13:41.380Z"
   },
   {
    "duration": 16,
    "start_time": "2023-01-13T11:13:41.489Z"
   },
   {
    "duration": 10,
    "start_time": "2023-01-13T11:13:41.507Z"
   },
   {
    "duration": 5,
    "start_time": "2023-01-13T11:13:41.519Z"
   },
   {
    "duration": 6,
    "start_time": "2023-01-13T11:13:41.526Z"
   },
   {
    "duration": 6,
    "start_time": "2023-01-13T11:13:41.535Z"
   },
   {
    "duration": 8,
    "start_time": "2023-01-13T11:13:41.542Z"
   },
   {
    "duration": 375,
    "start_time": "2023-01-13T11:13:41.579Z"
   },
   {
    "duration": 56,
    "start_time": "2023-01-13T11:13:41.955Z"
   },
   {
    "duration": 14,
    "start_time": "2023-01-13T11:13:42.013Z"
   },
   {
    "duration": 14,
    "start_time": "2023-01-13T11:13:42.029Z"
   },
   {
    "duration": 6,
    "start_time": "2023-01-13T11:13:42.046Z"
   },
   {
    "duration": 10,
    "start_time": "2023-01-13T11:13:44.770Z"
   },
   {
    "duration": 21,
    "start_time": "2023-01-13T11:13:44.963Z"
   },
   {
    "duration": 6,
    "start_time": "2023-01-13T11:13:45.155Z"
   },
   {
    "duration": 8,
    "start_time": "2023-01-13T11:13:45.581Z"
   },
   {
    "duration": 6,
    "start_time": "2023-01-13T11:13:46.058Z"
   },
   {
    "duration": 4,
    "start_time": "2023-01-13T11:13:46.273Z"
   },
   {
    "duration": 10,
    "start_time": "2023-01-13T11:13:46.512Z"
   },
   {
    "duration": 55,
    "start_time": "2023-01-13T11:13:46.947Z"
   },
   {
    "duration": 8,
    "start_time": "2023-01-13T11:13:47.892Z"
   },
   {
    "duration": 4,
    "start_time": "2023-01-13T11:13:48.099Z"
   },
   {
    "duration": 12,
    "start_time": "2023-01-13T11:13:48.365Z"
   },
   {
    "duration": 5,
    "start_time": "2023-01-13T11:13:48.747Z"
   },
   {
    "duration": 270,
    "start_time": "2023-01-13T11:13:49.212Z"
   },
   {
    "duration": 14,
    "start_time": "2023-01-13T11:13:49.874Z"
   },
   {
    "duration": 10,
    "start_time": "2023-01-13T11:13:51.381Z"
   },
   {
    "duration": 24,
    "start_time": "2023-01-13T11:13:51.831Z"
   },
   {
    "duration": 5,
    "start_time": "2023-01-13T11:13:52.014Z"
   },
   {
    "duration": 9,
    "start_time": "2023-01-13T11:13:52.812Z"
   },
   {
    "duration": 18,
    "start_time": "2023-01-13T11:13:53.017Z"
   },
   {
    "duration": 5,
    "start_time": "2023-01-13T11:13:53.208Z"
   },
   {
    "duration": 7,
    "start_time": "2023-01-13T11:13:54.469Z"
   },
   {
    "duration": 10,
    "start_time": "2023-01-13T11:13:54.666Z"
   },
   {
    "duration": 5,
    "start_time": "2023-01-13T11:13:54.866Z"
   },
   {
    "duration": 24,
    "start_time": "2023-01-13T11:13:55.655Z"
   },
   {
    "duration": 23,
    "start_time": "2023-01-13T11:13:55.843Z"
   },
   {
    "duration": 26,
    "start_time": "2023-01-13T11:13:56.034Z"
   },
   {
    "duration": 16,
    "start_time": "2023-01-13T11:13:56.430Z"
   },
   {
    "duration": 5,
    "start_time": "2023-01-13T11:13:56.650Z"
   },
   {
    "duration": 6,
    "start_time": "2023-01-13T11:13:56.868Z"
   },
   {
    "duration": 17,
    "start_time": "2023-01-13T11:13:57.293Z"
   },
   {
    "duration": 25,
    "start_time": "2023-01-13T11:13:57.489Z"
   },
   {
    "duration": 14,
    "start_time": "2023-01-13T11:13:57.696Z"
   },
   {
    "duration": 2,
    "start_time": "2023-01-13T11:13:57.912Z"
   },
   {
    "duration": 33,
    "start_time": "2023-01-13T11:13:59.100Z"
   },
   {
    "duration": 110,
    "start_time": "2023-01-13T11:14:25.893Z"
   },
   {
    "duration": 7,
    "start_time": "2023-01-13T11:14:29.742Z"
   },
   {
    "duration": 11,
    "start_time": "2023-01-13T11:14:30.397Z"
   },
   {
    "duration": 4,
    "start_time": "2023-01-13T11:14:31.022Z"
   },
   {
    "duration": 19,
    "start_time": "2023-01-13T11:14:32.192Z"
   },
   {
    "duration": 105,
    "start_time": "2023-01-13T11:14:39.215Z"
   },
   {
    "duration": 8,
    "start_time": "2023-01-13T11:15:05.548Z"
   },
   {
    "duration": 10,
    "start_time": "2023-01-13T11:15:06.570Z"
   },
   {
    "duration": 44,
    "start_time": "2023-01-13T11:15:54.991Z"
   },
   {
    "duration": 21,
    "start_time": "2023-01-13T11:16:04.836Z"
   },
   {
    "duration": 10,
    "start_time": "2023-01-13T11:16:16.514Z"
   },
   {
    "duration": 89,
    "start_time": "2023-01-13T11:16:17.755Z"
   },
   {
    "duration": 87,
    "start_time": "2023-01-13T11:16:43.467Z"
   },
   {
    "duration": 43,
    "start_time": "2023-01-13T11:17:42.282Z"
   },
   {
    "duration": 22,
    "start_time": "2023-01-13T11:17:43.642Z"
   },
   {
    "duration": 8,
    "start_time": "2023-01-13T11:17:44.778Z"
   },
   {
    "duration": 2059,
    "start_time": "2023-01-13T11:35:51.182Z"
   },
   {
    "duration": 1444,
    "start_time": "2023-01-13T11:35:53.243Z"
   },
   {
    "duration": 97,
    "start_time": "2023-01-13T11:35:54.688Z"
   },
   {
    "duration": 13,
    "start_time": "2023-01-13T11:35:56.080Z"
   },
   {
    "duration": 9,
    "start_time": "2023-01-13T11:35:56.267Z"
   },
   {
    "duration": 6,
    "start_time": "2023-01-13T11:35:56.453Z"
   },
   {
    "duration": 6,
    "start_time": "2023-01-13T11:35:56.654Z"
   },
   {
    "duration": 6,
    "start_time": "2023-01-13T11:35:56.955Z"
   },
   {
    "duration": 6,
    "start_time": "2023-01-13T11:35:57.149Z"
   },
   {
    "duration": 6,
    "start_time": "2023-01-13T11:36:02.713Z"
   },
   {
    "duration": 9,
    "start_time": "2023-01-13T11:36:02.885Z"
   },
   {
    "duration": 582,
    "start_time": "2023-01-13T11:36:03.067Z"
   },
   {
    "duration": 9,
    "start_time": "2023-01-13T11:36:03.651Z"
   },
   {
    "duration": 7802,
    "start_time": "2023-01-13T11:36:03.662Z"
   },
   {
    "duration": 105,
    "start_time": "2023-01-13T11:36:11.467Z"
   },
   {
    "duration": 11,
    "start_time": "2023-01-13T11:36:11.574Z"
   },
   {
    "duration": 18,
    "start_time": "2023-01-13T11:36:11.587Z"
   },
   {
    "duration": 7,
    "start_time": "2023-01-13T11:36:11.606Z"
   },
   {
    "duration": 13,
    "start_time": "2023-01-13T11:36:11.615Z"
   },
   {
    "duration": 6,
    "start_time": "2023-01-13T11:36:16.384Z"
   },
   {
    "duration": 6,
    "start_time": "2023-01-13T11:36:17.181Z"
   },
   {
    "duration": 6,
    "start_time": "2023-01-13T11:36:17.372Z"
   },
   {
    "duration": 6,
    "start_time": "2023-01-13T11:36:17.550Z"
   },
   {
    "duration": 6,
    "start_time": "2023-01-13T11:36:17.751Z"
   },
   {
    "duration": 809,
    "start_time": "2023-01-13T11:36:17.944Z"
   },
   {
    "duration": 83,
    "start_time": "2023-01-13T11:36:18.901Z"
   },
   {
    "duration": 14,
    "start_time": "2023-01-13T11:36:19.091Z"
   },
   {
    "duration": 10,
    "start_time": "2023-01-13T11:36:19.295Z"
   },
   {
    "duration": 7,
    "start_time": "2023-01-13T11:36:19.482Z"
   },
   {
    "duration": 6,
    "start_time": "2023-01-13T11:36:19.653Z"
   },
   {
    "duration": 6,
    "start_time": "2023-01-13T11:36:19.846Z"
   },
   {
    "duration": 7,
    "start_time": "2023-01-13T11:36:20.009Z"
   },
   {
    "duration": 382,
    "start_time": "2023-01-13T11:36:20.222Z"
   },
   {
    "duration": 82,
    "start_time": "2023-01-13T11:36:23.709Z"
   },
   {
    "duration": 9,
    "start_time": "2023-01-13T11:36:23.920Z"
   },
   {
    "duration": 8,
    "start_time": "2023-01-13T11:36:24.103Z"
   },
   {
    "duration": 6,
    "start_time": "2023-01-13T11:36:24.273Z"
   },
   {
    "duration": 11,
    "start_time": "2023-01-13T11:36:28.749Z"
   },
   {
    "duration": 22,
    "start_time": "2023-01-13T11:36:28.907Z"
   },
   {
    "duration": 6,
    "start_time": "2023-01-13T11:36:36.117Z"
   },
   {
    "duration": 8,
    "start_time": "2023-01-13T11:36:36.540Z"
   },
   {
    "duration": 6,
    "start_time": "2023-01-13T11:36:36.924Z"
   },
   {
    "duration": 16,
    "start_time": "2023-01-13T11:36:37.103Z"
   },
   {
    "duration": 9,
    "start_time": "2023-01-13T11:36:37.282Z"
   },
   {
    "duration": 61,
    "start_time": "2023-01-13T11:36:37.658Z"
   },
   {
    "duration": 8,
    "start_time": "2023-01-13T11:36:38.496Z"
   },
   {
    "duration": 4,
    "start_time": "2023-01-13T11:36:38.676Z"
   },
   {
    "duration": 11,
    "start_time": "2023-01-13T11:36:38.870Z"
   },
   {
    "duration": 6,
    "start_time": "2023-01-13T11:36:39.257Z"
   },
   {
    "duration": 278,
    "start_time": "2023-01-13T11:36:39.445Z"
   },
   {
    "duration": 14,
    "start_time": "2023-01-13T11:36:40.054Z"
   },
   {
    "duration": 13,
    "start_time": "2023-01-13T11:36:41.012Z"
   },
   {
    "duration": 28,
    "start_time": "2023-01-13T11:36:41.202Z"
   },
   {
    "duration": 6,
    "start_time": "2023-01-13T11:36:41.408Z"
   },
   {
    "duration": 9,
    "start_time": "2023-01-13T11:36:42.204Z"
   },
   {
    "duration": 16,
    "start_time": "2023-01-13T11:36:42.406Z"
   },
   {
    "duration": 5,
    "start_time": "2023-01-13T11:36:42.613Z"
   },
   {
    "duration": 8,
    "start_time": "2023-01-13T11:36:45.451Z"
   },
   {
    "duration": 11,
    "start_time": "2023-01-13T11:36:45.610Z"
   },
   {
    "duration": 5,
    "start_time": "2023-01-13T11:36:45.802Z"
   },
   {
    "duration": 23,
    "start_time": "2023-01-13T11:36:46.501Z"
   },
   {
    "duration": 22,
    "start_time": "2023-01-13T11:36:46.694Z"
   },
   {
    "duration": 28,
    "start_time": "2023-01-13T11:36:46.879Z"
   },
   {
    "duration": 25,
    "start_time": "2023-01-13T11:36:47.358Z"
   },
   {
    "duration": 7,
    "start_time": "2023-01-13T11:36:47.551Z"
   },
   {
    "duration": 5,
    "start_time": "2023-01-13T11:36:47.709Z"
   },
   {
    "duration": 15,
    "start_time": "2023-01-13T11:36:48.086Z"
   },
   {
    "duration": 25,
    "start_time": "2023-01-13T11:36:48.281Z"
   },
   {
    "duration": 14,
    "start_time": "2023-01-13T11:36:48.484Z"
   },
   {
    "duration": 2,
    "start_time": "2023-01-13T11:36:48.686Z"
   },
   {
    "duration": 28,
    "start_time": "2023-01-13T11:36:49.110Z"
   },
   {
    "duration": 115,
    "start_time": "2023-01-13T11:36:50.567Z"
   },
   {
    "duration": 8,
    "start_time": "2023-01-13T11:36:51.405Z"
   },
   {
    "duration": 12,
    "start_time": "2023-01-13T11:36:51.599Z"
   },
   {
    "duration": 3,
    "start_time": "2023-01-13T11:36:51.852Z"
   },
   {
    "duration": 20,
    "start_time": "2023-01-13T11:36:52.215Z"
   },
   {
    "duration": 8,
    "start_time": "2023-01-13T11:36:53.408Z"
   },
   {
    "duration": 52,
    "start_time": "2023-01-13T11:36:53.582Z"
   },
   {
    "duration": 14,
    "start_time": "2023-01-13T11:36:53.975Z"
   },
   {
    "duration": 71,
    "start_time": "2023-01-13T11:36:54.396Z"
   },
   {
    "duration": 118,
    "start_time": "2023-01-13T11:36:55.284Z"
   },
   {
    "duration": 45,
    "start_time": "2023-01-13T11:37:03.069Z"
   },
   {
    "duration": 20,
    "start_time": "2023-01-13T11:37:03.761Z"
   },
   {
    "duration": 8,
    "start_time": "2023-01-13T11:37:04.348Z"
   },
   {
    "duration": 25,
    "start_time": "2023-01-13T11:37:06.677Z"
   },
   {
    "duration": 23,
    "start_time": "2023-01-13T11:37:45.377Z"
   },
   {
    "duration": 9,
    "start_time": "2023-01-13T11:38:26.556Z"
   },
   {
    "duration": 11,
    "start_time": "2023-01-13T11:41:01.852Z"
   },
   {
    "duration": 21,
    "start_time": "2023-01-13T11:41:17.160Z"
   },
   {
    "duration": 24,
    "start_time": "2023-01-13T11:41:21.868Z"
   },
   {
    "duration": 24,
    "start_time": "2023-01-13T11:42:25.252Z"
   },
   {
    "duration": 9,
    "start_time": "2023-01-13T11:45:11.813Z"
   },
   {
    "duration": 9,
    "start_time": "2023-01-13T11:45:21.578Z"
   },
   {
    "duration": 9,
    "start_time": "2023-01-13T11:45:53.806Z"
   },
   {
    "duration": 8,
    "start_time": "2023-01-13T11:46:02.116Z"
   },
   {
    "duration": 23,
    "start_time": "2023-01-13T11:47:46.159Z"
   },
   {
    "duration": 2059,
    "start_time": "2023-01-13T11:48:55.974Z"
   },
   {
    "duration": 1432,
    "start_time": "2023-01-13T11:48:58.036Z"
   },
   {
    "duration": 94,
    "start_time": "2023-01-13T11:48:59.470Z"
   },
   {
    "duration": 12,
    "start_time": "2023-01-13T11:48:59.567Z"
   },
   {
    "duration": 29,
    "start_time": "2023-01-13T11:48:59.580Z"
   },
   {
    "duration": 8,
    "start_time": "2023-01-13T11:48:59.611Z"
   },
   {
    "duration": 12,
    "start_time": "2023-01-13T11:48:59.621Z"
   },
   {
    "duration": 29,
    "start_time": "2023-01-13T11:48:59.635Z"
   },
   {
    "duration": 29,
    "start_time": "2023-01-13T11:48:59.666Z"
   },
   {
    "duration": 7,
    "start_time": "2023-01-13T11:48:59.697Z"
   },
   {
    "duration": 11,
    "start_time": "2023-01-13T11:48:59.706Z"
   },
   {
    "duration": 593,
    "start_time": "2023-01-13T11:48:59.719Z"
   },
   {
    "duration": 8,
    "start_time": "2023-01-13T11:49:00.313Z"
   },
   {
    "duration": 7626,
    "start_time": "2023-01-13T11:49:00.323Z"
   },
   {
    "duration": 107,
    "start_time": "2023-01-13T11:49:07.952Z"
   },
   {
    "duration": 12,
    "start_time": "2023-01-13T11:49:08.061Z"
   },
   {
    "duration": 13,
    "start_time": "2023-01-13T11:49:08.074Z"
   },
   {
    "duration": 7,
    "start_time": "2023-01-13T11:49:08.089Z"
   },
   {
    "duration": 16,
    "start_time": "2023-01-13T11:49:08.097Z"
   },
   {
    "duration": 12,
    "start_time": "2023-01-13T11:49:08.114Z"
   },
   {
    "duration": 10,
    "start_time": "2023-01-13T11:49:08.128Z"
   },
   {
    "duration": 13,
    "start_time": "2023-01-13T11:49:08.140Z"
   },
   {
    "duration": 106,
    "start_time": "2023-01-13T11:49:08.155Z"
   },
   {
    "duration": 16,
    "start_time": "2023-01-13T11:49:08.263Z"
   },
   {
    "duration": 771,
    "start_time": "2023-01-13T11:49:08.282Z"
   },
   {
    "duration": 90,
    "start_time": "2023-01-13T11:49:09.054Z"
   },
   {
    "duration": 15,
    "start_time": "2023-01-13T11:49:09.146Z"
   },
   {
    "duration": 12,
    "start_time": "2023-01-13T11:49:09.163Z"
   },
   {
    "duration": 7,
    "start_time": "2023-01-13T11:49:09.177Z"
   },
   {
    "duration": 13,
    "start_time": "2023-01-13T11:49:09.185Z"
   },
   {
    "duration": 16,
    "start_time": "2023-01-13T11:49:09.199Z"
   },
   {
    "duration": 11,
    "start_time": "2023-01-13T11:49:09.217Z"
   },
   {
    "duration": 359,
    "start_time": "2023-01-13T11:49:09.230Z"
   },
   {
    "duration": 59,
    "start_time": "2023-01-13T11:49:09.592Z"
   },
   {
    "duration": 11,
    "start_time": "2023-01-13T11:49:09.653Z"
   },
   {
    "duration": 14,
    "start_time": "2023-01-13T11:49:09.666Z"
   },
   {
    "duration": 6,
    "start_time": "2023-01-13T11:49:09.682Z"
   },
   {
    "duration": 12,
    "start_time": "2023-01-13T11:49:11.060Z"
   },
   {
    "duration": 25,
    "start_time": "2023-01-13T11:49:11.268Z"
   },
   {
    "duration": 6,
    "start_time": "2023-01-13T11:49:11.469Z"
   },
   {
    "duration": 7,
    "start_time": "2023-01-13T11:49:11.895Z"
   },
   {
    "duration": 6,
    "start_time": "2023-01-13T11:49:12.316Z"
   },
   {
    "duration": 5,
    "start_time": "2023-01-13T11:49:12.503Z"
   },
   {
    "duration": 10,
    "start_time": "2023-01-13T11:49:12.719Z"
   },
   {
    "duration": 64,
    "start_time": "2023-01-13T11:49:13.168Z"
   },
   {
    "duration": 14,
    "start_time": "2023-01-13T11:49:14.070Z"
   },
   {
    "duration": 5,
    "start_time": "2023-01-13T11:49:14.301Z"
   },
   {
    "duration": 12,
    "start_time": "2023-01-13T11:49:14.525Z"
   },
   {
    "duration": 6,
    "start_time": "2023-01-13T11:49:14.975Z"
   },
   {
    "duration": 268,
    "start_time": "2023-01-13T11:49:15.188Z"
   },
   {
    "duration": 13,
    "start_time": "2023-01-13T11:49:15.835Z"
   },
   {
    "duration": 10,
    "start_time": "2023-01-13T11:49:16.966Z"
   },
   {
    "duration": 26,
    "start_time": "2023-01-13T11:49:17.152Z"
   },
   {
    "duration": 6,
    "start_time": "2023-01-13T11:49:17.376Z"
   },
   {
    "duration": 8,
    "start_time": "2023-01-13T11:49:18.274Z"
   },
   {
    "duration": 19,
    "start_time": "2023-01-13T11:49:18.489Z"
   },
   {
    "duration": 6,
    "start_time": "2023-01-13T11:49:18.860Z"
   },
   {
    "duration": 7,
    "start_time": "2023-01-13T11:49:20.259Z"
   },
   {
    "duration": 11,
    "start_time": "2023-01-13T11:49:20.452Z"
   },
   {
    "duration": 6,
    "start_time": "2023-01-13T11:49:20.644Z"
   },
   {
    "duration": 24,
    "start_time": "2023-01-13T11:49:21.555Z"
   },
   {
    "duration": 22,
    "start_time": "2023-01-13T11:49:21.760Z"
   },
   {
    "duration": 26,
    "start_time": "2023-01-13T11:49:21.952Z"
   },
   {
    "duration": 20,
    "start_time": "2023-01-13T11:49:22.382Z"
   },
   {
    "duration": 7,
    "start_time": "2023-01-13T11:49:22.601Z"
   },
   {
    "duration": 6,
    "start_time": "2023-01-13T11:49:22.807Z"
   },
   {
    "duration": 23,
    "start_time": "2023-01-13T11:49:23.222Z"
   },
   {
    "duration": 33,
    "start_time": "2023-01-13T11:49:23.423Z"
   },
   {
    "duration": 14,
    "start_time": "2023-01-13T11:49:23.628Z"
   },
   {
    "duration": 2,
    "start_time": "2023-01-13T11:49:23.856Z"
   },
   {
    "duration": 25,
    "start_time": "2023-01-13T11:49:24.287Z"
   },
   {
    "duration": 119,
    "start_time": "2023-01-13T11:49:26.074Z"
   },
   {
    "duration": 8,
    "start_time": "2023-01-13T11:49:26.880Z"
   },
   {
    "duration": 11,
    "start_time": "2023-01-13T11:49:27.124Z"
   },
   {
    "duration": 4,
    "start_time": "2023-01-13T11:49:27.563Z"
   },
   {
    "duration": 19,
    "start_time": "2023-01-13T11:49:28.062Z"
   },
   {
    "duration": 10,
    "start_time": "2023-01-13T11:49:28.680Z"
   },
   {
    "duration": 53,
    "start_time": "2023-01-13T11:49:28.887Z"
   },
   {
    "duration": 11,
    "start_time": "2023-01-13T11:49:29.355Z"
   },
   {
    "duration": 89,
    "start_time": "2023-01-13T11:49:29.755Z"
   },
   {
    "duration": 127,
    "start_time": "2023-01-13T11:49:30.662Z"
   },
   {
    "duration": 49,
    "start_time": "2023-01-13T11:49:33.382Z"
   },
   {
    "duration": 27,
    "start_time": "2023-01-13T11:49:33.781Z"
   },
   {
    "duration": 10,
    "start_time": "2023-01-13T11:49:34.019Z"
   },
   {
    "duration": 87171,
    "start_time": "2023-01-13T11:49:37.649Z"
   },
   {
    "duration": 3913,
    "start_time": "2023-01-13T11:51:50.770Z"
   },
   {
    "duration": 3498,
    "start_time": "2023-01-13T14:34:23.881Z"
   },
   {
    "duration": 1650,
    "start_time": "2023-01-13T14:34:27.382Z"
   },
   {
    "duration": 219,
    "start_time": "2023-01-13T14:34:54.033Z"
   },
   {
    "duration": 19,
    "start_time": "2023-01-13T14:34:55.496Z"
   },
   {
    "duration": 12,
    "start_time": "2023-01-13T14:34:55.689Z"
   },
   {
    "duration": 8,
    "start_time": "2023-01-13T14:34:55.881Z"
   },
   {
    "duration": 8,
    "start_time": "2023-01-13T14:34:56.069Z"
   },
   {
    "duration": 6,
    "start_time": "2023-01-13T14:34:56.257Z"
   },
   {
    "duration": 7,
    "start_time": "2023-01-13T14:34:56.440Z"
   },
   {
    "duration": 6,
    "start_time": "2023-01-13T14:34:56.625Z"
   },
   {
    "duration": 11,
    "start_time": "2023-01-13T14:34:56.808Z"
   },
   {
    "duration": 681,
    "start_time": "2023-01-13T14:34:57.002Z"
   },
   {
    "duration": 10,
    "start_time": "2023-01-13T14:34:57.685Z"
   },
   {
    "duration": 8199,
    "start_time": "2023-01-13T14:34:57.697Z"
   },
   {
    "duration": 164,
    "start_time": "2023-01-13T14:35:05.898Z"
   },
   {
    "duration": 12,
    "start_time": "2023-01-13T14:35:06.063Z"
   },
   {
    "duration": 16,
    "start_time": "2023-01-13T14:35:06.077Z"
   },
   {
    "duration": 8,
    "start_time": "2023-01-13T14:35:06.094Z"
   },
   {
    "duration": 7,
    "start_time": "2023-01-13T14:35:06.105Z"
   },
   {
    "duration": 13,
    "start_time": "2023-01-13T14:35:06.113Z"
   },
   {
    "duration": 12,
    "start_time": "2023-01-13T14:35:06.128Z"
   },
   {
    "duration": 17,
    "start_time": "2023-01-13T14:35:06.142Z"
   },
   {
    "duration": 18,
    "start_time": "2023-01-13T14:35:06.161Z"
   },
   {
    "duration": 10,
    "start_time": "2023-01-13T14:35:06.181Z"
   },
   {
    "duration": 814,
    "start_time": "2023-01-13T14:35:06.193Z"
   },
   {
    "duration": 122,
    "start_time": "2023-01-13T14:35:07.009Z"
   },
   {
    "duration": 13,
    "start_time": "2023-01-13T14:35:07.133Z"
   },
   {
    "duration": 29,
    "start_time": "2023-01-13T14:35:07.147Z"
   },
   {
    "duration": 9,
    "start_time": "2023-01-13T14:35:07.179Z"
   },
   {
    "duration": 10,
    "start_time": "2023-01-13T14:35:07.191Z"
   },
   {
    "duration": 19,
    "start_time": "2023-01-13T14:35:07.204Z"
   },
   {
    "duration": 12,
    "start_time": "2023-01-13T14:35:07.225Z"
   },
   {
    "duration": 426,
    "start_time": "2023-01-13T14:35:07.239Z"
   },
   {
    "duration": 183,
    "start_time": "2023-01-13T14:35:07.667Z"
   },
   {
    "duration": 12,
    "start_time": "2023-01-13T14:35:07.852Z"
   },
   {
    "duration": 14,
    "start_time": "2023-01-13T14:35:07.865Z"
   },
   {
    "duration": 16,
    "start_time": "2023-01-13T14:35:07.881Z"
   },
   {
    "duration": 14,
    "start_time": "2023-01-13T14:35:08.922Z"
   },
   {
    "duration": 24,
    "start_time": "2023-01-13T14:35:09.130Z"
   },
   {
    "duration": 7,
    "start_time": "2023-01-13T14:35:09.325Z"
   },
   {
    "duration": 9,
    "start_time": "2023-01-13T14:35:09.728Z"
   },
   {
    "duration": 6,
    "start_time": "2023-01-13T14:35:10.154Z"
   },
   {
    "duration": 6,
    "start_time": "2023-01-13T14:35:10.359Z"
   },
   {
    "duration": 11,
    "start_time": "2023-01-13T14:35:10.553Z"
   },
   {
    "duration": 64,
    "start_time": "2023-01-13T14:35:10.972Z"
   },
   {
    "duration": 11,
    "start_time": "2023-01-13T14:35:11.805Z"
   },
   {
    "duration": 9,
    "start_time": "2023-01-13T14:35:12.042Z"
   },
   {
    "duration": 13,
    "start_time": "2023-01-13T14:35:12.225Z"
   },
   {
    "duration": 9,
    "start_time": "2023-01-13T14:35:12.828Z"
   },
   {
    "duration": 307,
    "start_time": "2023-01-13T14:35:13.019Z"
   },
   {
    "duration": 13,
    "start_time": "2023-01-13T14:35:13.611Z"
   },
   {
    "duration": 10,
    "start_time": "2023-01-13T14:35:14.431Z"
   },
   {
    "duration": 26,
    "start_time": "2023-01-13T14:35:14.634Z"
   },
   {
    "duration": 8,
    "start_time": "2023-01-13T14:35:14.842Z"
   },
   {
    "duration": 8,
    "start_time": "2023-01-13T14:35:15.981Z"
   },
   {
    "duration": 23,
    "start_time": "2023-01-13T14:35:16.226Z"
   },
   {
    "duration": 6,
    "start_time": "2023-01-13T14:35:16.678Z"
   },
   {
    "duration": 7,
    "start_time": "2023-01-13T14:35:17.593Z"
   },
   {
    "duration": 14,
    "start_time": "2023-01-13T14:35:17.837Z"
   },
   {
    "duration": 5,
    "start_time": "2023-01-13T14:35:18.085Z"
   },
   {
    "duration": 35,
    "start_time": "2023-01-13T14:35:18.941Z"
   },
   {
    "duration": 26,
    "start_time": "2023-01-13T14:35:19.138Z"
   },
   {
    "duration": 29,
    "start_time": "2023-01-13T14:35:19.384Z"
   },
   {
    "duration": 17,
    "start_time": "2023-01-13T14:35:19.854Z"
   },
   {
    "duration": 5,
    "start_time": "2023-01-13T14:35:20.067Z"
   },
   {
    "duration": 6,
    "start_time": "2023-01-13T14:35:20.247Z"
   },
   {
    "duration": 17,
    "start_time": "2023-01-13T14:35:20.705Z"
   },
   {
    "duration": 36,
    "start_time": "2023-01-13T14:35:20.923Z"
   },
   {
    "duration": 19,
    "start_time": "2023-01-13T14:35:21.353Z"
   },
   {
    "duration": 3,
    "start_time": "2023-01-13T14:35:21.582Z"
   },
   {
    "duration": 27,
    "start_time": "2023-01-13T14:35:22.095Z"
   },
   {
    "duration": 128,
    "start_time": "2023-01-13T14:35:23.596Z"
   },
   {
    "duration": 9,
    "start_time": "2023-01-13T14:35:24.473Z"
   },
   {
    "duration": 15,
    "start_time": "2023-01-13T14:35:24.720Z"
   },
   {
    "duration": 3,
    "start_time": "2023-01-13T14:35:24.918Z"
   },
   {
    "duration": 22,
    "start_time": "2023-01-13T14:35:25.136Z"
   },
   {
    "duration": 13,
    "start_time": "2023-01-13T14:35:25.748Z"
   },
   {
    "duration": 58,
    "start_time": "2023-01-13T14:35:25.987Z"
   },
   {
    "duration": 13,
    "start_time": "2023-01-13T14:35:26.423Z"
   },
   {
    "duration": 110,
    "start_time": "2023-01-13T14:35:26.888Z"
   },
   {
    "duration": 124,
    "start_time": "2023-01-13T14:35:30.034Z"
   },
   {
    "duration": 62,
    "start_time": "2023-01-13T14:35:30.853Z"
   },
   {
    "duration": 26,
    "start_time": "2023-01-13T14:35:31.244Z"
   },
   {
    "duration": 11,
    "start_time": "2023-01-13T14:35:31.611Z"
   },
   {
    "duration": 84794,
    "start_time": "2023-01-13T14:35:33.610Z"
   },
   {
    "duration": 2,
    "start_time": "2023-01-13T14:37:49.418Z"
   },
   {
    "duration": 6612,
    "start_time": "2023-01-13T14:37:51.268Z"
   },
   {
    "duration": 514112,
    "start_time": "2023-01-13T14:38:00.259Z"
   },
   {
    "duration": 25204,
    "start_time": "2023-01-13T14:49:55.693Z"
   },
   {
    "duration": 3,
    "start_time": "2023-01-13T14:55:30.272Z"
   },
   {
    "duration": 11,
    "start_time": "2023-01-13T14:55:30.858Z"
   },
   {
    "duration": 159,
    "start_time": "2023-01-13T14:55:43.240Z"
   },
   {
    "duration": 158,
    "start_time": "2023-01-13T15:00:02.403Z"
   },
   {
    "duration": 174,
    "start_time": "2023-01-13T15:00:17.376Z"
   },
   {
    "duration": 151,
    "start_time": "2023-01-13T15:00:29.808Z"
   },
   {
    "duration": 182,
    "start_time": "2023-01-13T15:00:42.254Z"
   },
   {
    "duration": 178,
    "start_time": "2023-01-13T15:03:05.166Z"
   },
   {
    "duration": 157,
    "start_time": "2023-01-13T15:03:28.797Z"
   },
   {
    "duration": 179,
    "start_time": "2023-01-13T15:03:58.354Z"
   },
   {
    "duration": 195,
    "start_time": "2023-01-13T15:04:14.924Z"
   },
   {
    "duration": 182,
    "start_time": "2023-01-13T15:04:24.410Z"
   },
   {
    "duration": 194,
    "start_time": "2023-01-13T15:04:32.801Z"
   },
   {
    "duration": 170,
    "start_time": "2023-01-13T15:04:42.938Z"
   },
   {
    "duration": 169,
    "start_time": "2023-01-13T15:04:48.688Z"
   },
   {
    "duration": 13,
    "start_time": "2023-01-13T15:05:28.534Z"
   },
   {
    "duration": 12,
    "start_time": "2023-01-13T15:05:41.102Z"
   },
   {
    "duration": 219,
    "start_time": "2023-01-13T15:06:20.651Z"
   },
   {
    "duration": 8,
    "start_time": "2023-01-13T15:08:31.563Z"
   },
   {
    "duration": 47,
    "start_time": "2023-01-13T15:09:16.929Z"
   },
   {
    "duration": 46,
    "start_time": "2023-01-13T15:09:23.989Z"
   },
   {
    "duration": 208,
    "start_time": "2023-01-13T15:12:12.615Z"
   }
  ],
  "kernelspec": {
   "display_name": "Python 3 (ipykernel)",
   "language": "python",
   "name": "python3"
  },
  "language_info": {
   "codemirror_mode": {
    "name": "ipython",
    "version": 3
   },
   "file_extension": ".py",
   "mimetype": "text/x-python",
   "name": "python",
   "nbconvert_exporter": "python",
   "pygments_lexer": "ipython3",
   "version": "3.9.5"
  },
  "toc": {
   "base_numbering": 1,
   "nav_menu": {},
   "number_sections": true,
   "sideBar": true,
   "skip_h1_title": true,
   "title_cell": "Table of Contents",
   "title_sidebar": "Contents",
   "toc_cell": false,
   "toc_position": {
    "height": "calc(100% - 180px)",
    "left": "10px",
    "top": "150px",
    "width": "387.391px"
   },
   "toc_section_display": true,
   "toc_window_display": true
  }
 },
 "nbformat": 4,
 "nbformat_minor": 5
}
